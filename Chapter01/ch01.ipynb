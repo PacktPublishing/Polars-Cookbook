{
 "cells": [
  {
   "cell_type": "markdown",
   "metadata": {},
   "source": [
    "# Chapter 1: Getting Started with Python Polars "
   ]
  },
  {
   "cell_type": "markdown",
   "metadata": {},
   "source": [
    "## The Polars DataFrame"
   ]
  },
  {
   "cell_type": "code",
   "execution_count": 153,
   "metadata": {},
   "outputs": [],
   "source": [
    "import polars as pl"
   ]
  },
  {
   "cell_type": "markdown",
   "metadata": {},
   "source": [
    "### How to do it..."
   ]
  },
  {
   "cell_type": "code",
   "execution_count": 154,
   "metadata": {},
   "outputs": [
    {
     "data": {
      "text/html": [
       "<div><style>\n",
       ".dataframe > thead > tr,\n",
       ".dataframe > tbody > tr {\n",
       "  text-align: right;\n",
       "  white-space: pre-wrap;\n",
       "}\n",
       "</style>\n",
       "<small>shape: (5, 2)</small><table border=\"1\" class=\"dataframe\"><thead><tr><th>nums</th><th>letters</th></tr><tr><td>i64</td><td>str</td></tr></thead><tbody><tr><td>1</td><td>&quot;a&quot;</td></tr><tr><td>2</td><td>&quot;b&quot;</td></tr><tr><td>3</td><td>&quot;c&quot;</td></tr><tr><td>4</td><td>&quot;d&quot;</td></tr><tr><td>5</td><td>&quot;e&quot;</td></tr></tbody></table></div>"
      ],
      "text/plain": [
       "shape: (5, 2)\n",
       "┌──────┬─────────┐\n",
       "│ nums ┆ letters │\n",
       "│ ---  ┆ ---     │\n",
       "│ i64  ┆ str     │\n",
       "╞══════╪═════════╡\n",
       "│ 1    ┆ a       │\n",
       "│ 2    ┆ b       │\n",
       "│ 3    ┆ c       │\n",
       "│ 4    ┆ d       │\n",
       "│ 5    ┆ e       │\n",
       "└──────┴─────────┘"
      ]
     },
     "execution_count": 154,
     "metadata": {},
     "output_type": "execute_result"
    }
   ],
   "source": [
    "df = pl.DataFrame({\n",
    "    'nums': [1,2,3,4,5],\n",
    "    'letters': ['a','b','c','d','e']\n",
    "})\n",
    "df.head()"
   ]
  },
  {
   "cell_type": "code",
   "execution_count": 155,
   "metadata": {},
   "outputs": [
    {
     "data": {
      "text/html": [
       "<div><style>\n",
       ".dataframe > thead > tr,\n",
       ".dataframe > tbody > tr {\n",
       "  text-align: right;\n",
       "  white-space: pre-wrap;\n",
       "}\n",
       "</style>\n",
       "<small>shape: (5, 12)</small><table border=\"1\" class=\"dataframe\"><thead><tr><th>PassengerId</th><th>Survived</th><th>Pclass</th><th>Name</th><th>Sex</th><th>Age</th><th>SibSp</th><th>Parch</th><th>Ticket</th><th>Fare</th><th>Cabin</th><th>Embarked</th></tr><tr><td>i64</td><td>i64</td><td>i64</td><td>str</td><td>str</td><td>f64</td><td>i64</td><td>i64</td><td>str</td><td>f64</td><td>str</td><td>str</td></tr></thead><tbody><tr><td>1</td><td>0</td><td>3</td><td>&quot;Braund, Mr. Owen Harris&quot;</td><td>&quot;male&quot;</td><td>22.0</td><td>1</td><td>0</td><td>&quot;A/5 21171&quot;</td><td>7.25</td><td>null</td><td>&quot;S&quot;</td></tr><tr><td>2</td><td>1</td><td>1</td><td>&quot;Cumings, Mrs. John Bradley (Fl…</td><td>&quot;female&quot;</td><td>38.0</td><td>1</td><td>0</td><td>&quot;PC 17599&quot;</td><td>71.2833</td><td>&quot;C85&quot;</td><td>&quot;C&quot;</td></tr><tr><td>3</td><td>1</td><td>3</td><td>&quot;Heikkinen, Miss. Laina&quot;</td><td>&quot;female&quot;</td><td>26.0</td><td>0</td><td>0</td><td>&quot;STON/O2. 3101282&quot;</td><td>7.925</td><td>null</td><td>&quot;S&quot;</td></tr><tr><td>4</td><td>1</td><td>1</td><td>&quot;Futrelle, Mrs. Jacques Heath (…</td><td>&quot;female&quot;</td><td>35.0</td><td>1</td><td>0</td><td>&quot;113803&quot;</td><td>53.1</td><td>&quot;C123&quot;</td><td>&quot;S&quot;</td></tr><tr><td>5</td><td>0</td><td>3</td><td>&quot;Allen, Mr. William Henry&quot;</td><td>&quot;male&quot;</td><td>35.0</td><td>0</td><td>0</td><td>&quot;373450&quot;</td><td>8.05</td><td>null</td><td>&quot;S&quot;</td></tr></tbody></table></div>"
      ],
      "text/plain": [
       "shape: (5, 12)\n",
       "┌─────────────┬──────────┬────────┬───────────────────┬───┬───────────┬─────────┬───────┬──────────┐\n",
       "│ PassengerId ┆ Survived ┆ Pclass ┆ Name              ┆ … ┆ Ticket    ┆ Fare    ┆ Cabin ┆ Embarked │\n",
       "│ ---         ┆ ---      ┆ ---    ┆ ---               ┆   ┆ ---       ┆ ---     ┆ ---   ┆ ---      │\n",
       "│ i64         ┆ i64      ┆ i64    ┆ str               ┆   ┆ str       ┆ f64     ┆ str   ┆ str      │\n",
       "╞═════════════╪══════════╪════════╪═══════════════════╪═══╪═══════════╪═════════╪═══════╪══════════╡\n",
       "│ 1           ┆ 0        ┆ 3      ┆ Braund, Mr. Owen  ┆ … ┆ A/5 21171 ┆ 7.25    ┆ null  ┆ S        │\n",
       "│             ┆          ┆        ┆ Harris            ┆   ┆           ┆         ┆       ┆          │\n",
       "│ 2           ┆ 1        ┆ 1      ┆ Cumings, Mrs.     ┆ … ┆ PC 17599  ┆ 71.2833 ┆ C85   ┆ C        │\n",
       "│             ┆          ┆        ┆ John Bradley (Fl… ┆   ┆           ┆         ┆       ┆          │\n",
       "│ 3           ┆ 1        ┆ 3      ┆ Heikkinen, Miss.  ┆ … ┆ STON/O2.  ┆ 7.925   ┆ null  ┆ S        │\n",
       "│             ┆          ┆        ┆ Laina             ┆   ┆ 3101282   ┆         ┆       ┆          │\n",
       "│ 4           ┆ 1        ┆ 1      ┆ Futrelle, Mrs.    ┆ … ┆ 113803    ┆ 53.1    ┆ C123  ┆ S        │\n",
       "│             ┆          ┆        ┆ Jacques Heath (…  ┆   ┆           ┆         ┆       ┆          │\n",
       "│ 5           ┆ 0        ┆ 3      ┆ Allen, Mr.        ┆ … ┆ 373450    ┆ 8.05    ┆ null  ┆ S        │\n",
       "│             ┆          ┆        ┆ William Henry     ┆   ┆           ┆         ┆       ┆          │\n",
       "└─────────────┴──────────┴────────┴───────────────────┴───┴───────────┴─────────┴───────┴──────────┘"
      ]
     },
     "execution_count": 155,
     "metadata": {},
     "output_type": "execute_result"
    }
   ],
   "source": [
    "df = pl.read_csv('../data/titanic_dataset.csv')\n",
    "df.head()"
   ]
  },
  {
   "cell_type": "code",
   "execution_count": 156,
   "metadata": {},
   "outputs": [
    {
     "data": {
      "text/plain": [
       "Schema([('PassengerId', Int64),\n",
       "        ('Survived', Int64),\n",
       "        ('Pclass', Int64),\n",
       "        ('Name', String),\n",
       "        ('Sex', String),\n",
       "        ('Age', Float64),\n",
       "        ('SibSp', Int64),\n",
       "        ('Parch', Int64),\n",
       "        ('Ticket', String),\n",
       "        ('Fare', Float64),\n",
       "        ('Cabin', String),\n",
       "        ('Embarked', String)])"
      ]
     },
     "execution_count": 156,
     "metadata": {},
     "output_type": "execute_result"
    }
   ],
   "source": [
    "df.schema"
   ]
  },
  {
   "cell_type": "code",
   "execution_count": 157,
   "metadata": {},
   "outputs": [
    {
     "data": {
      "text/plain": [
       "['PassengerId',\n",
       " 'Survived',\n",
       " 'Pclass',\n",
       " 'Name',\n",
       " 'Sex',\n",
       " 'Age',\n",
       " 'SibSp',\n",
       " 'Parch',\n",
       " 'Ticket',\n",
       " 'Fare',\n",
       " 'Cabin',\n",
       " 'Embarked']"
      ]
     },
     "execution_count": 157,
     "metadata": {},
     "output_type": "execute_result"
    }
   ],
   "source": [
    "df.columns"
   ]
  },
  {
   "cell_type": "code",
   "execution_count": 158,
   "metadata": {},
   "outputs": [
    {
     "data": {
      "text/plain": [
       "[Int64,\n",
       " Int64,\n",
       " Int64,\n",
       " String,\n",
       " String,\n",
       " Float64,\n",
       " Int64,\n",
       " Int64,\n",
       " String,\n",
       " Float64,\n",
       " String,\n",
       " String]"
      ]
     },
     "execution_count": 158,
     "metadata": {},
     "output_type": "execute_result"
    }
   ],
   "source": [
    "df.dtypes"
   ]
  },
  {
   "cell_type": "code",
   "execution_count": 159,
   "metadata": {},
   "outputs": [
    {
     "data": {
      "text/plain": [
       "(891, 12)"
      ]
     },
     "execution_count": 159,
     "metadata": {},
     "output_type": "execute_result"
    }
   ],
   "source": [
    "df.shape"
   ]
  },
  {
   "cell_type": "code",
   "execution_count": 160,
   "metadata": {},
   "outputs": [
    {
     "data": {
      "text/plain": [
       "891"
      ]
     },
     "execution_count": 160,
     "metadata": {},
     "output_type": "execute_result"
    }
   ],
   "source": [
    "df.height"
   ]
  },
  {
   "cell_type": "code",
   "execution_count": 161,
   "metadata": {},
   "outputs": [
    {
     "data": {
      "text/plain": [
       "12"
      ]
     },
     "execution_count": 161,
     "metadata": {},
     "output_type": "execute_result"
    }
   ],
   "source": [
    "df.width"
   ]
  },
  {
   "cell_type": "code",
   "execution_count": 162,
   "metadata": {},
   "outputs": [
    {
     "data": {
      "text/plain": [
       "{'PassengerId': {'SORTED_ASC': False, 'SORTED_DESC': False},\n",
       " 'Survived': {'SORTED_ASC': False, 'SORTED_DESC': False},\n",
       " 'Pclass': {'SORTED_ASC': False, 'SORTED_DESC': False},\n",
       " 'Name': {'SORTED_ASC': False, 'SORTED_DESC': False},\n",
       " 'Sex': {'SORTED_ASC': False, 'SORTED_DESC': False},\n",
       " 'Age': {'SORTED_ASC': False, 'SORTED_DESC': False},\n",
       " 'SibSp': {'SORTED_ASC': False, 'SORTED_DESC': False},\n",
       " 'Parch': {'SORTED_ASC': False, 'SORTED_DESC': False},\n",
       " 'Ticket': {'SORTED_ASC': False, 'SORTED_DESC': False},\n",
       " 'Fare': {'SORTED_ASC': False, 'SORTED_DESC': False},\n",
       " 'Cabin': {'SORTED_ASC': False, 'SORTED_DESC': False},\n",
       " 'Embarked': {'SORTED_ASC': False, 'SORTED_DESC': False}}"
      ]
     },
     "execution_count": 162,
     "metadata": {},
     "output_type": "execute_result"
    }
   ],
   "source": [
    "df.flags"
   ]
  },
  {
   "cell_type": "markdown",
   "metadata": {},
   "source": [
    "### There is more..."
   ]
  },
  {
   "cell_type": "code",
   "execution_count": 163,
   "metadata": {},
   "outputs": [
    {
     "data": {
      "text/html": [
       "<div><style>\n",
       ".dataframe > thead > tr,\n",
       ".dataframe > tbody > tr {\n",
       "  text-align: right;\n",
       "  white-space: pre-wrap;\n",
       "}\n",
       "</style>\n",
       "<small>shape: (3, 2)</small><table border=\"1\" class=\"dataframe\"><thead><tr><th>ones</th><th>twos</th></tr><tr><td>f32</td><td>i8</td></tr></thead><tbody><tr><td>1.0</td><td>2</td></tr><tr><td>1.0</td><td>2</td></tr><tr><td>1.0</td><td>2</td></tr></tbody></table></div>"
      ],
      "text/plain": [
       "shape: (3, 2)\n",
       "┌──────┬──────┐\n",
       "│ ones ┆ twos │\n",
       "│ ---  ┆ ---  │\n",
       "│ f32  ┆ i8   │\n",
       "╞══════╪══════╡\n",
       "│ 1.0  ┆ 2    │\n",
       "│ 1.0  ┆ 2    │\n",
       "│ 1.0  ┆ 2    │\n",
       "└──────┴──────┘"
      ]
     },
     "execution_count": 163,
     "metadata": {},
     "output_type": "execute_result"
    }
   ],
   "source": [
    "import numpy as np\n",
    "\n",
    "numpy_arr = np.array([[1,1,1], [2,2,2]])\n",
    "df = pl.from_numpy(numpy_arr, schema={'ones': pl.Float32, 'twos': pl.Int8}, orient='col') \n",
    "df.head()"
   ]
  },
  {
   "cell_type": "markdown",
   "metadata": {},
   "source": [
    "## The Polars Series"
   ]
  },
  {
   "cell_type": "markdown",
   "metadata": {},
   "source": [
    "### How to do it..."
   ]
  },
  {
   "cell_type": "code",
   "execution_count": 164,
   "metadata": {},
   "outputs": [
    {
     "data": {
      "text/html": [
       "<div><style>\n",
       ".dataframe > thead > tr,\n",
       ".dataframe > tbody > tr {\n",
       "  text-align: right;\n",
       "  white-space: pre-wrap;\n",
       "}\n",
       "</style>\n",
       "<small>shape: (5,)</small><table border=\"1\" class=\"dataframe\"><thead><tr><th>col</th></tr><tr><td>i64</td></tr></thead><tbody><tr><td>1</td></tr><tr><td>2</td></tr><tr><td>3</td></tr><tr><td>4</td></tr><tr><td>5</td></tr></tbody></table></div>"
      ],
      "text/plain": [
       "shape: (5,)\n",
       "Series: 'col' [i64]\n",
       "[\n",
       "\t1\n",
       "\t2\n",
       "\t3\n",
       "\t4\n",
       "\t5\n",
       "]"
      ]
     },
     "execution_count": 164,
     "metadata": {},
     "output_type": "execute_result"
    }
   ],
   "source": [
    "s = pl.Series('col', [1,2,3,4,5])\n",
    "s.head()"
   ]
  },
  {
   "cell_type": "code",
   "execution_count": 165,
   "metadata": {},
   "outputs": [
    {
     "data": {
      "text/html": [
       "<div><style>\n",
       ".dataframe > thead > tr,\n",
       ".dataframe > tbody > tr {\n",
       "  text-align: right;\n",
       "  white-space: pre-wrap;\n",
       "}\n",
       "</style>\n",
       "<small>shape: (3,)</small><table border=\"1\" class=\"dataframe\"><thead><tr><th>a</th></tr><tr><td>i64</td></tr></thead><tbody><tr><td>1</td></tr><tr><td>2</td></tr><tr><td>3</td></tr></tbody></table></div>"
      ],
      "text/plain": [
       "shape: (3,)\n",
       "Series: 'a' [i64]\n",
       "[\n",
       "\t1\n",
       "\t2\n",
       "\t3\n",
       "]"
      ]
     },
     "execution_count": 165,
     "metadata": {},
     "output_type": "execute_result"
    }
   ],
   "source": [
    "data = {'a': [1,2,3], 'b': [4,5,6]}\n",
    "s_a = (\n",
    "    pl.DataFrame(data)\n",
    "    .to_series()\n",
    ")\n",
    "s_a.head()"
   ]
  },
  {
   "cell_type": "code",
   "execution_count": 166,
   "metadata": {},
   "outputs": [
    {
     "data": {
      "text/html": [
       "<div><style>\n",
       ".dataframe > thead > tr,\n",
       ".dataframe > tbody > tr {\n",
       "  text-align: right;\n",
       "  white-space: pre-wrap;\n",
       "}\n",
       "</style>\n",
       "<small>shape: (3,)</small><table border=\"1\" class=\"dataframe\"><thead><tr><th>b</th></tr><tr><td>i64</td></tr></thead><tbody><tr><td>4</td></tr><tr><td>5</td></tr><tr><td>6</td></tr></tbody></table></div>"
      ],
      "text/plain": [
       "shape: (3,)\n",
       "Series: 'b' [i64]\n",
       "[\n",
       "\t4\n",
       "\t5\n",
       "\t6\n",
       "]"
      ]
     },
     "execution_count": 166,
     "metadata": {},
     "output_type": "execute_result"
    }
   ],
   "source": [
    "s_b = (\n",
    "    pl.DataFrame(data)\n",
    "    .to_series(1)\n",
    ")\n",
    "s_b.head()"
   ]
  },
  {
   "cell_type": "code",
   "execution_count": 167,
   "metadata": {},
   "outputs": [
    {
     "data": {
      "text/html": [
       "<div><style>\n",
       ".dataframe > thead > tr,\n",
       ".dataframe > tbody > tr {\n",
       "  text-align: right;\n",
       "  white-space: pre-wrap;\n",
       "}\n",
       "</style>\n",
       "<small>shape: (3,)</small><table border=\"1\" class=\"dataframe\"><thead><tr><th>b</th></tr><tr><td>i64</td></tr></thead><tbody><tr><td>4</td></tr><tr><td>5</td></tr><tr><td>6</td></tr></tbody></table></div>"
      ],
      "text/plain": [
       "shape: (3,)\n",
       "Series: 'b' [i64]\n",
       "[\n",
       "\t4\n",
       "\t5\n",
       "\t6\n",
       "]"
      ]
     },
     "execution_count": 167,
     "metadata": {},
     "output_type": "execute_result"
    }
   ],
   "source": [
    "s_b2 = (\n",
    "    pl.DataFrame(data)\n",
    "    .get_column('b')\n",
    ")\n",
    "s_b2.head()"
   ]
  },
  {
   "cell_type": "code",
   "execution_count": 168,
   "metadata": {},
   "outputs": [
    {
     "data": {
      "text/plain": [
       "(5,)"
      ]
     },
     "execution_count": 168,
     "metadata": {},
     "output_type": "execute_result"
    }
   ],
   "source": [
    "s.shape"
   ]
  },
  {
   "cell_type": "code",
   "execution_count": 169,
   "metadata": {},
   "outputs": [
    {
     "data": {
      "text/plain": [
       "'col'"
      ]
     },
     "execution_count": 169,
     "metadata": {},
     "output_type": "execute_result"
    }
   ],
   "source": [
    "s.name"
   ]
  },
  {
   "cell_type": "code",
   "execution_count": 170,
   "metadata": {},
   "outputs": [
    {
     "data": {
      "text/plain": [
       "Int64"
      ]
     },
     "execution_count": 170,
     "metadata": {},
     "output_type": "execute_result"
    }
   ],
   "source": [
    "s.dtype"
   ]
  },
  {
   "cell_type": "markdown",
   "metadata": {},
   "source": [
    "## The Polars LazyFrame"
   ]
  },
  {
   "cell_type": "markdown",
   "metadata": {},
   "source": [
    "### How to do it..."
   ]
  },
  {
   "cell_type": "code",
   "execution_count": 171,
   "metadata": {},
   "outputs": [
    {
     "data": {
      "text/plain": [
       "polars.lazyframe.frame.LazyFrame"
      ]
     },
     "execution_count": 171,
     "metadata": {},
     "output_type": "execute_result"
    }
   ],
   "source": [
    "data = {'name': ['Sarah',  'Mike', 'Bob', 'Ashley']}\n",
    "lf = pl.LazyFrame(data) \n",
    "type(lf)"
   ]
  },
  {
   "cell_type": "code",
   "execution_count": 172,
   "metadata": {},
   "outputs": [
    {
     "data": {
      "text/html": [
       "<div><style>\n",
       ".dataframe > thead > tr,\n",
       ".dataframe > tbody > tr {\n",
       "  text-align: right;\n",
       "  white-space: pre-wrap;\n",
       "}\n",
       "</style>\n",
       "<small>shape: (4, 1)</small><table border=\"1\" class=\"dataframe\"><thead><tr><th>name</th></tr><tr><td>str</td></tr></thead><tbody><tr><td>&quot;Sarah&quot;</td></tr><tr><td>&quot;Mike&quot;</td></tr><tr><td>&quot;Bob&quot;</td></tr><tr><td>&quot;Ashley&quot;</td></tr></tbody></table></div>"
      ],
      "text/plain": [
       "shape: (4, 1)\n",
       "┌────────┐\n",
       "│ name   │\n",
       "│ ---    │\n",
       "│ str    │\n",
       "╞════════╡\n",
       "│ Sarah  │\n",
       "│ Mike   │\n",
       "│ Bob    │\n",
       "│ Ashley │\n",
       "└────────┘"
      ]
     },
     "execution_count": 172,
     "metadata": {},
     "output_type": "execute_result"
    }
   ],
   "source": [
    "lf.collect().head()"
   ]
  },
  {
   "cell_type": "code",
   "execution_count": 173,
   "metadata": {},
   "outputs": [
    {
     "data": {
      "text/html": [
       "<div><style>\n",
       ".dataframe > thead > tr,\n",
       ".dataframe > tbody > tr {\n",
       "  text-align: right;\n",
       "  white-space: pre-wrap;\n",
       "}\n",
       "</style>\n",
       "<small>shape: (5, 12)</small><table border=\"1\" class=\"dataframe\"><thead><tr><th>PassengerId</th><th>Survived</th><th>Pclass</th><th>Name</th><th>Sex</th><th>Age</th><th>SibSp</th><th>Parch</th><th>Ticket</th><th>Fare</th><th>Cabin</th><th>Embarked</th></tr><tr><td>i64</td><td>i64</td><td>i64</td><td>str</td><td>str</td><td>f64</td><td>i64</td><td>i64</td><td>str</td><td>f64</td><td>str</td><td>str</td></tr></thead><tbody><tr><td>1</td><td>0</td><td>3</td><td>&quot;Braund, Mr. Owen Harris&quot;</td><td>&quot;male&quot;</td><td>22.0</td><td>1</td><td>0</td><td>&quot;A/5 21171&quot;</td><td>7.25</td><td>null</td><td>&quot;S&quot;</td></tr><tr><td>2</td><td>1</td><td>1</td><td>&quot;Cumings, Mrs. John Bradley (Fl…</td><td>&quot;female&quot;</td><td>38.0</td><td>1</td><td>0</td><td>&quot;PC 17599&quot;</td><td>71.2833</td><td>&quot;C85&quot;</td><td>&quot;C&quot;</td></tr><tr><td>3</td><td>1</td><td>3</td><td>&quot;Heikkinen, Miss. Laina&quot;</td><td>&quot;female&quot;</td><td>26.0</td><td>0</td><td>0</td><td>&quot;STON/O2. 3101282&quot;</td><td>7.925</td><td>null</td><td>&quot;S&quot;</td></tr><tr><td>4</td><td>1</td><td>1</td><td>&quot;Futrelle, Mrs. Jacques Heath (…</td><td>&quot;female&quot;</td><td>35.0</td><td>1</td><td>0</td><td>&quot;113803&quot;</td><td>53.1</td><td>&quot;C123&quot;</td><td>&quot;S&quot;</td></tr><tr><td>5</td><td>0</td><td>3</td><td>&quot;Allen, Mr. William Henry&quot;</td><td>&quot;male&quot;</td><td>35.0</td><td>0</td><td>0</td><td>&quot;373450&quot;</td><td>8.05</td><td>null</td><td>&quot;S&quot;</td></tr></tbody></table></div>"
      ],
      "text/plain": [
       "shape: (5, 12)\n",
       "┌─────────────┬──────────┬────────┬───────────────────┬───┬───────────┬─────────┬───────┬──────────┐\n",
       "│ PassengerId ┆ Survived ┆ Pclass ┆ Name              ┆ … ┆ Ticket    ┆ Fare    ┆ Cabin ┆ Embarked │\n",
       "│ ---         ┆ ---      ┆ ---    ┆ ---               ┆   ┆ ---       ┆ ---     ┆ ---   ┆ ---      │\n",
       "│ i64         ┆ i64      ┆ i64    ┆ str               ┆   ┆ str       ┆ f64     ┆ str   ┆ str      │\n",
       "╞═════════════╪══════════╪════════╪═══════════════════╪═══╪═══════════╪═════════╪═══════╪══════════╡\n",
       "│ 1           ┆ 0        ┆ 3      ┆ Braund, Mr. Owen  ┆ … ┆ A/5 21171 ┆ 7.25    ┆ null  ┆ S        │\n",
       "│             ┆          ┆        ┆ Harris            ┆   ┆           ┆         ┆       ┆          │\n",
       "│ 2           ┆ 1        ┆ 1      ┆ Cumings, Mrs.     ┆ … ┆ PC 17599  ┆ 71.2833 ┆ C85   ┆ C        │\n",
       "│             ┆          ┆        ┆ John Bradley (Fl… ┆   ┆           ┆         ┆       ┆          │\n",
       "│ 3           ┆ 1        ┆ 3      ┆ Heikkinen, Miss.  ┆ … ┆ STON/O2.  ┆ 7.925   ┆ null  ┆ S        │\n",
       "│             ┆          ┆        ┆ Laina             ┆   ┆ 3101282   ┆         ┆       ┆          │\n",
       "│ 4           ┆ 1        ┆ 1      ┆ Futrelle, Mrs.    ┆ … ┆ 113803    ┆ 53.1    ┆ C123  ┆ S        │\n",
       "│             ┆          ┆        ┆ Jacques Heath (…  ┆   ┆           ┆         ┆       ┆          │\n",
       "│ 5           ┆ 0        ┆ 3      ┆ Allen, Mr.        ┆ … ┆ 373450    ┆ 8.05    ┆ null  ┆ S        │\n",
       "│             ┆          ┆        ┆ William Henry     ┆   ┆           ┆         ┆       ┆          │\n",
       "└─────────────┴──────────┴────────┴───────────────────┴───┴───────────┴─────────┴───────┴──────────┘"
      ]
     },
     "execution_count": 173,
     "metadata": {},
     "output_type": "execute_result"
    }
   ],
   "source": [
    "lf = pl.scan_csv('../data/titanic_dataset.csv')\n",
    "lf.head().collect()"
   ]
  },
  {
   "cell_type": "code",
   "execution_count": 174,
   "metadata": {},
   "outputs": [
    {
     "data": {
      "text/html": [
       "<div><style>\n",
       ".dataframe > thead > tr,\n",
       ".dataframe > tbody > tr {\n",
       "  text-align: right;\n",
       "  white-space: pre-wrap;\n",
       "}\n",
       "</style>\n",
       "<small>shape: (3, 12)</small><table border=\"1\" class=\"dataframe\"><thead><tr><th>PassengerId</th><th>Survived</th><th>Pclass</th><th>Name</th><th>Sex</th><th>Age</th><th>SibSp</th><th>Parch</th><th>Ticket</th><th>Fare</th><th>Cabin</th><th>Embarked</th></tr><tr><td>i64</td><td>i64</td><td>i64</td><td>str</td><td>str</td><td>f64</td><td>i64</td><td>i64</td><td>str</td><td>f64</td><td>str</td><td>str</td></tr></thead><tbody><tr><td>1</td><td>0</td><td>3</td><td>&quot;Braund, Mr. Owen Harris&quot;</td><td>&quot;male&quot;</td><td>22.0</td><td>1</td><td>0</td><td>&quot;A/5 21171&quot;</td><td>7.25</td><td>null</td><td>&quot;S&quot;</td></tr><tr><td>2</td><td>1</td><td>1</td><td>&quot;Cumings, Mrs. John Bradley (Fl…</td><td>&quot;female&quot;</td><td>38.0</td><td>1</td><td>0</td><td>&quot;PC 17599&quot;</td><td>71.2833</td><td>&quot;C85&quot;</td><td>&quot;C&quot;</td></tr><tr><td>3</td><td>1</td><td>3</td><td>&quot;Heikkinen, Miss. Laina&quot;</td><td>&quot;female&quot;</td><td>26.0</td><td>0</td><td>0</td><td>&quot;STON/O2. 3101282&quot;</td><td>7.925</td><td>null</td><td>&quot;S&quot;</td></tr></tbody></table></div>"
      ],
      "text/plain": [
       "shape: (3, 12)\n",
       "┌─────────────┬──────────┬────────┬───────────────────┬───┬───────────┬─────────┬───────┬──────────┐\n",
       "│ PassengerId ┆ Survived ┆ Pclass ┆ Name              ┆ … ┆ Ticket    ┆ Fare    ┆ Cabin ┆ Embarked │\n",
       "│ ---         ┆ ---      ┆ ---    ┆ ---               ┆   ┆ ---       ┆ ---     ┆ ---   ┆ ---      │\n",
       "│ i64         ┆ i64      ┆ i64    ┆ str               ┆   ┆ str       ┆ f64     ┆ str   ┆ str      │\n",
       "╞═════════════╪══════════╪════════╪═══════════════════╪═══╪═══════════╪═════════╪═══════╪══════════╡\n",
       "│ 1           ┆ 0        ┆ 3      ┆ Braund, Mr. Owen  ┆ … ┆ A/5 21171 ┆ 7.25    ┆ null  ┆ S        │\n",
       "│             ┆          ┆        ┆ Harris            ┆   ┆           ┆         ┆       ┆          │\n",
       "│ 2           ┆ 1        ┆ 1      ┆ Cumings, Mrs.     ┆ … ┆ PC 17599  ┆ 71.2833 ┆ C85   ┆ C        │\n",
       "│             ┆          ┆        ┆ John Bradley (Fl… ┆   ┆           ┆         ┆       ┆          │\n",
       "│ 3           ┆ 1        ┆ 3      ┆ Heikkinen, Miss.  ┆ … ┆ STON/O2.  ┆ 7.925   ┆ null  ┆ S        │\n",
       "│             ┆          ┆        ┆ Laina             ┆   ┆ 3101282   ┆         ┆       ┆          │\n",
       "└─────────────┴──────────┴────────┴───────────────────┴───┴───────────┴─────────┴───────┴──────────┘"
      ]
     },
     "execution_count": 174,
     "metadata": {},
     "output_type": "execute_result"
    }
   ],
   "source": [
    "df = pl.read_csv('../data/titanic_dataset.csv')\n",
    "df.lazy().head(3).collect()"
   ]
  },
  {
   "cell_type": "code",
   "execution_count": 175,
   "metadata": {},
   "outputs": [
    {
     "data": {
      "text/plain": [
       "Schema([('PassengerId', Int64),\n",
       "        ('Survived', Int64),\n",
       "        ('Pclass', Int64),\n",
       "        ('Name', String),\n",
       "        ('Sex', String),\n",
       "        ('Age', Float64),\n",
       "        ('SibSp', Int64),\n",
       "        ('Parch', Int64),\n",
       "        ('Ticket', String),\n",
       "        ('Fare', Float64),\n",
       "        ('Cabin', String),\n",
       "        ('Embarked', String)])"
      ]
     },
     "execution_count": 175,
     "metadata": {},
     "output_type": "execute_result"
    }
   ],
   "source": [
    "lf.collect_schema()"
   ]
  },
  {
   "cell_type": "code",
   "execution_count": 176,
   "metadata": {},
   "outputs": [
    {
     "data": {
      "text/plain": [
       "12"
      ]
     },
     "execution_count": 176,
     "metadata": {},
     "output_type": "execute_result"
    }
   ],
   "source": [
    "lf.collect_schema().len()"
   ]
  },
  {
   "cell_type": "code",
   "execution_count": 177,
   "metadata": {},
   "outputs": [
    {
     "data": {
      "image/svg+xml": [
       "<svg xmlns=\"http://www.w3.org/2000/svg\" xmlns:xlink=\"http://www.w3.org/1999/xlink\" width=\"235pt\" height=\"49pt\" viewBox=\"0.00 0.00 234.75 49.00\">\n",
       "<g id=\"graph0\" class=\"graph\" transform=\"scale(1 1) rotate(0) translate(4 45)\">\n",
       "<title>polars_query</title>\n",
       "<polygon fill=\"white\" stroke=\"none\" points=\"-4,4 -4,-45 230.75,-45 230.75,4 -4,4\"/>\n",
       "<!-- p1 -->\n",
       "<g id=\"node1\" class=\"node\">\n",
       "<title>p1</title>\n",
       "<polygon fill=\"none\" stroke=\"black\" points=\"226.75,-41 0,-41 0,0 226.75,0 226.75,-41\"/>\n",
       "<text text-anchor=\"middle\" x=\"113.38\" y=\"-23.7\" font-family=\"Times New Roman,serif\" font-size=\"14.00\">Csv SCAN [../data/titanic_dataset.csv]</text>\n",
       "<text text-anchor=\"middle\" x=\"113.38\" y=\"-7.2\" font-family=\"Times New Roman,serif\" font-size=\"14.00\">π 2/12;</text>\n",
       "</g>\n",
       "</g>\n",
       "</svg>"
      ],
      "text/plain": [
       "<IPython.core.display.SVG object>"
      ]
     },
     "metadata": {},
     "output_type": "display_data"
    }
   ],
   "source": [
    "(\n",
    "    lf\n",
    "    .select(pl.col('Name', 'Age'))\n",
    "    .show_graph()\n",
    ")"
   ]
  },
  {
   "cell_type": "code",
   "execution_count": 178,
   "metadata": {},
   "outputs": [
    {
     "data": {
      "image/svg+xml": [
       "<svg xmlns=\"http://www.w3.org/2000/svg\" xmlns:xlink=\"http://www.w3.org/1999/xlink\" width=\"235pt\" height=\"121pt\" viewBox=\"0.00 0.00 234.75 121.00\">\n",
       "<g id=\"graph0\" class=\"graph\" transform=\"scale(1 1) rotate(0) translate(4 117)\">\n",
       "<title>polars_query</title>\n",
       "<polygon fill=\"white\" stroke=\"none\" points=\"-4,4 -4,-117 230.75,-117 230.75,4 -4,4\"/>\n",
       "<!-- p1 -->\n",
       "<g id=\"node1\" class=\"node\">\n",
       "<title>p1</title>\n",
       "<polygon fill=\"none\" stroke=\"black\" points=\"140.38,-113 86.38,-113 86.38,-77 140.38,-77 140.38,-113\"/>\n",
       "<text text-anchor=\"middle\" x=\"113.38\" y=\"-89.95\" font-family=\"Times New Roman,serif\" font-size=\"14.00\">π 2/2</text>\n",
       "</g>\n",
       "<!-- p2 -->\n",
       "<g id=\"node2\" class=\"node\">\n",
       "<title>p2</title>\n",
       "<polygon fill=\"none\" stroke=\"black\" points=\"226.75,-41 0,-41 0,0 226.75,0 226.75,-41\"/>\n",
       "<text text-anchor=\"middle\" x=\"113.38\" y=\"-23.7\" font-family=\"Times New Roman,serif\" font-size=\"14.00\">Csv SCAN [../data/titanic_dataset.csv]</text>\n",
       "<text text-anchor=\"middle\" x=\"113.38\" y=\"-7.2\" font-family=\"Times New Roman,serif\" font-size=\"14.00\">π */12;</text>\n",
       "</g>\n",
       "<!-- p1&#45;&#45;p2 -->\n",
       "<g id=\"edge1\" class=\"edge\">\n",
       "<title>p1--p2</title>\n",
       "<path fill=\"none\" stroke=\"black\" d=\"M113.38,-76.82C113.38,-66.18 113.38,-52.49 113.38,-41.38\"/>\n",
       "</g>\n",
       "</g>\n",
       "</svg>"
      ],
      "text/plain": [
       "<IPython.core.display.SVG object>"
      ]
     },
     "metadata": {},
     "output_type": "display_data"
    }
   ],
   "source": [
    "(\n",
    "    lf\n",
    "    .select(pl.col('Name', 'Age'))\n",
    "    .show_graph(optimized=False)\n",
    ")"
   ]
  },
  {
   "cell_type": "code",
   "execution_count": 179,
   "metadata": {},
   "outputs": [
    {
     "data": {
      "text/plain": [
       "'Csv SCAN [../data/titanic_dataset.csv]\\nPROJECT 2/12 COLUMNS'"
      ]
     },
     "execution_count": 179,
     "metadata": {},
     "output_type": "execute_result"
    }
   ],
   "source": [
    "(\n",
    "    lf\n",
    "    .select(pl.col('Name', 'Age'))\n",
    "    .explain()\n",
    ")"
   ]
  },
  {
   "cell_type": "code",
   "execution_count": 180,
   "metadata": {},
   "outputs": [
    {
     "name": "stdout",
     "output_type": "stream",
     "text": [
      "Csv SCAN [../data/titanic_dataset.csv]\n",
      "PROJECT 2/12 COLUMNS\n"
     ]
    }
   ],
   "source": [
    "print(\n",
    "    lf\n",
    "    .select(pl.col('Name', 'Age'))\n",
    "    .explain()\n",
    "    , sep='\\n'\n",
    ")"
   ]
  },
  {
   "cell_type": "markdown",
   "metadata": {},
   "source": [
    "## Selecting columns and filtering data"
   ]
  },
  {
   "cell_type": "markdown",
   "metadata": {},
   "source": [
    "### How to do it..."
   ]
  },
  {
   "cell_type": "code",
   "execution_count": 181,
   "metadata": {},
   "outputs": [
    {
     "data": {
      "text/html": [
       "<div><style>\n",
       ".dataframe > thead > tr,\n",
       ".dataframe > tbody > tr {\n",
       "  text-align: right;\n",
       "  white-space: pre-wrap;\n",
       "}\n",
       "</style>\n",
       "<small>shape: (5, 12)</small><table border=\"1\" class=\"dataframe\"><thead><tr><th>PassengerId</th><th>Survived</th><th>Pclass</th><th>Name</th><th>Sex</th><th>Age</th><th>SibSp</th><th>Parch</th><th>Ticket</th><th>Fare</th><th>Cabin</th><th>Embarked</th></tr><tr><td>i64</td><td>i64</td><td>i64</td><td>str</td><td>str</td><td>f64</td><td>i64</td><td>i64</td><td>str</td><td>f64</td><td>str</td><td>str</td></tr></thead><tbody><tr><td>1</td><td>0</td><td>3</td><td>&quot;Braund, Mr. Owen Harris&quot;</td><td>&quot;male&quot;</td><td>22.0</td><td>1</td><td>0</td><td>&quot;A/5 21171&quot;</td><td>7.25</td><td>null</td><td>&quot;S&quot;</td></tr><tr><td>2</td><td>1</td><td>1</td><td>&quot;Cumings, Mrs. John Bradley (Fl…</td><td>&quot;female&quot;</td><td>38.0</td><td>1</td><td>0</td><td>&quot;PC 17599&quot;</td><td>71.2833</td><td>&quot;C85&quot;</td><td>&quot;C&quot;</td></tr><tr><td>3</td><td>1</td><td>3</td><td>&quot;Heikkinen, Miss. Laina&quot;</td><td>&quot;female&quot;</td><td>26.0</td><td>0</td><td>0</td><td>&quot;STON/O2. 3101282&quot;</td><td>7.925</td><td>null</td><td>&quot;S&quot;</td></tr><tr><td>4</td><td>1</td><td>1</td><td>&quot;Futrelle, Mrs. Jacques Heath (…</td><td>&quot;female&quot;</td><td>35.0</td><td>1</td><td>0</td><td>&quot;113803&quot;</td><td>53.1</td><td>&quot;C123&quot;</td><td>&quot;S&quot;</td></tr><tr><td>5</td><td>0</td><td>3</td><td>&quot;Allen, Mr. William Henry&quot;</td><td>&quot;male&quot;</td><td>35.0</td><td>0</td><td>0</td><td>&quot;373450&quot;</td><td>8.05</td><td>null</td><td>&quot;S&quot;</td></tr></tbody></table></div>"
      ],
      "text/plain": [
       "shape: (5, 12)\n",
       "┌─────────────┬──────────┬────────┬───────────────────┬───┬───────────┬─────────┬───────┬──────────┐\n",
       "│ PassengerId ┆ Survived ┆ Pclass ┆ Name              ┆ … ┆ Ticket    ┆ Fare    ┆ Cabin ┆ Embarked │\n",
       "│ ---         ┆ ---      ┆ ---    ┆ ---               ┆   ┆ ---       ┆ ---     ┆ ---   ┆ ---      │\n",
       "│ i64         ┆ i64      ┆ i64    ┆ str               ┆   ┆ str       ┆ f64     ┆ str   ┆ str      │\n",
       "╞═════════════╪══════════╪════════╪═══════════════════╪═══╪═══════════╪═════════╪═══════╪══════════╡\n",
       "│ 1           ┆ 0        ┆ 3      ┆ Braund, Mr. Owen  ┆ … ┆ A/5 21171 ┆ 7.25    ┆ null  ┆ S        │\n",
       "│             ┆          ┆        ┆ Harris            ┆   ┆           ┆         ┆       ┆          │\n",
       "│ 2           ┆ 1        ┆ 1      ┆ Cumings, Mrs.     ┆ … ┆ PC 17599  ┆ 71.2833 ┆ C85   ┆ C        │\n",
       "│             ┆          ┆        ┆ John Bradley (Fl… ┆   ┆           ┆         ┆       ┆          │\n",
       "│ 3           ┆ 1        ┆ 3      ┆ Heikkinen, Miss.  ┆ … ┆ STON/O2.  ┆ 7.925   ┆ null  ┆ S        │\n",
       "│             ┆          ┆        ┆ Laina             ┆   ┆ 3101282   ┆         ┆       ┆          │\n",
       "│ 4           ┆ 1        ┆ 1      ┆ Futrelle, Mrs.    ┆ … ┆ 113803    ┆ 53.1    ┆ C123  ┆ S        │\n",
       "│             ┆          ┆        ┆ Jacques Heath (…  ┆   ┆           ┆         ┆       ┆          │\n",
       "│ 5           ┆ 0        ┆ 3      ┆ Allen, Mr.        ┆ … ┆ 373450    ┆ 8.05    ┆ null  ┆ S        │\n",
       "│             ┆          ┆        ┆ William Henry     ┆   ┆           ┆         ┆       ┆          │\n",
       "└─────────────┴──────────┴────────┴───────────────────┴───┴───────────┴─────────┴───────┴──────────┘"
      ]
     },
     "execution_count": 181,
     "metadata": {},
     "output_type": "execute_result"
    }
   ],
   "source": [
    "df = pl.read_csv('../data/titanic_dataset.csv') \n",
    "df.head()"
   ]
  },
  {
   "cell_type": "code",
   "execution_count": 182,
   "metadata": {},
   "outputs": [
    {
     "data": {
      "text/html": [
       "<div><style>\n",
       ".dataframe > thead > tr,\n",
       ".dataframe > tbody > tr {\n",
       "  text-align: right;\n",
       "  white-space: pre-wrap;\n",
       "}\n",
       "</style>\n",
       "<small>shape: (5, 3)</small><table border=\"1\" class=\"dataframe\"><thead><tr><th>Survived</th><th>Ticket</th><th>Fare</th></tr><tr><td>i64</td><td>str</td><td>f64</td></tr></thead><tbody><tr><td>0</td><td>&quot;A/5 21171&quot;</td><td>7.25</td></tr><tr><td>1</td><td>&quot;PC 17599&quot;</td><td>71.2833</td></tr><tr><td>1</td><td>&quot;STON/O2. 3101282&quot;</td><td>7.925</td></tr><tr><td>1</td><td>&quot;113803&quot;</td><td>53.1</td></tr><tr><td>0</td><td>&quot;373450&quot;</td><td>8.05</td></tr></tbody></table></div>"
      ],
      "text/plain": [
       "shape: (5, 3)\n",
       "┌──────────┬──────────────────┬─────────┐\n",
       "│ Survived ┆ Ticket           ┆ Fare    │\n",
       "│ ---      ┆ ---              ┆ ---     │\n",
       "│ i64      ┆ str              ┆ f64     │\n",
       "╞══════════╪══════════════════╪═════════╡\n",
       "│ 0        ┆ A/5 21171        ┆ 7.25    │\n",
       "│ 1        ┆ PC 17599         ┆ 71.2833 │\n",
       "│ 1        ┆ STON/O2. 3101282 ┆ 7.925   │\n",
       "│ 1        ┆ 113803           ┆ 53.1    │\n",
       "│ 0        ┆ 373450           ┆ 8.05    │\n",
       "└──────────┴──────────────────┴─────────┘"
      ]
     },
     "execution_count": 182,
     "metadata": {},
     "output_type": "execute_result"
    }
   ],
   "source": [
    "df.select(['Survived', 'Ticket', 'Fare']).head()"
   ]
  },
  {
   "cell_type": "code",
   "execution_count": 183,
   "metadata": {},
   "outputs": [
    {
     "data": {
      "text/html": [
       "<div><style>\n",
       ".dataframe > thead > tr,\n",
       ".dataframe > tbody > tr {\n",
       "  text-align: right;\n",
       "  white-space: pre-wrap;\n",
       "}\n",
       "</style>\n",
       "<small>shape: (5, 3)</small><table border=\"1\" class=\"dataframe\"><thead><tr><th>Survived</th><th>Ticket</th><th>Fare</th></tr><tr><td>i64</td><td>str</td><td>f64</td></tr></thead><tbody><tr><td>0</td><td>&quot;A/5 21171&quot;</td><td>7.25</td></tr><tr><td>1</td><td>&quot;PC 17599&quot;</td><td>71.2833</td></tr><tr><td>1</td><td>&quot;STON/O2. 3101282&quot;</td><td>7.925</td></tr><tr><td>1</td><td>&quot;113803&quot;</td><td>53.1</td></tr><tr><td>0</td><td>&quot;373450&quot;</td><td>8.05</td></tr></tbody></table></div>"
      ],
      "text/plain": [
       "shape: (5, 3)\n",
       "┌──────────┬──────────────────┬─────────┐\n",
       "│ Survived ┆ Ticket           ┆ Fare    │\n",
       "│ ---      ┆ ---              ┆ ---     │\n",
       "│ i64      ┆ str              ┆ f64     │\n",
       "╞══════════╪══════════════════╪═════════╡\n",
       "│ 0        ┆ A/5 21171        ┆ 7.25    │\n",
       "│ 1        ┆ PC 17599         ┆ 71.2833 │\n",
       "│ 1        ┆ STON/O2. 3101282 ┆ 7.925   │\n",
       "│ 1        ┆ 113803           ┆ 53.1    │\n",
       "│ 0        ┆ 373450           ┆ 8.05    │\n",
       "└──────────┴──────────────────┴─────────┘"
      ]
     },
     "execution_count": 183,
     "metadata": {},
     "output_type": "execute_result"
    }
   ],
   "source": [
    "df.select(pl.col(['Survived', 'Ticket', 'Fare'])).head()"
   ]
  },
  {
   "cell_type": "code",
   "execution_count": 184,
   "metadata": {},
   "outputs": [
    {
     "data": {
      "text/html": [
       "<div><style>\n",
       ".dataframe > thead > tr,\n",
       ".dataframe > tbody > tr {\n",
       "  text-align: right;\n",
       "  white-space: pre-wrap;\n",
       "}\n",
       "</style>\n",
       "<small>shape: (5, 3)</small><table border=\"1\" class=\"dataframe\"><thead><tr><th>Survived</th><th>Ticket</th><th>Fare</th></tr><tr><td>i64</td><td>str</td><td>f64</td></tr></thead><tbody><tr><td>0</td><td>&quot;A/5 21171&quot;</td><td>7.25</td></tr><tr><td>1</td><td>&quot;PC 17599&quot;</td><td>71.2833</td></tr><tr><td>1</td><td>&quot;STON/O2. 3101282&quot;</td><td>7.925</td></tr><tr><td>1</td><td>&quot;113803&quot;</td><td>53.1</td></tr><tr><td>0</td><td>&quot;373450&quot;</td><td>8.05</td></tr></tbody></table></div>"
      ],
      "text/plain": [
       "shape: (5, 3)\n",
       "┌──────────┬──────────────────┬─────────┐\n",
       "│ Survived ┆ Ticket           ┆ Fare    │\n",
       "│ ---      ┆ ---              ┆ ---     │\n",
       "│ i64      ┆ str              ┆ f64     │\n",
       "╞══════════╪══════════════════╪═════════╡\n",
       "│ 0        ┆ A/5 21171        ┆ 7.25    │\n",
       "│ 1        ┆ PC 17599         ┆ 71.2833 │\n",
       "│ 1        ┆ STON/O2. 3101282 ┆ 7.925   │\n",
       "│ 1        ┆ 113803           ┆ 53.1    │\n",
       "│ 0        ┆ 373450           ┆ 8.05    │\n",
       "└──────────┴──────────────────┴─────────┘"
      ]
     },
     "execution_count": 184,
     "metadata": {},
     "output_type": "execute_result"
    }
   ],
   "source": [
    "df.select(\n",
    "    pl.col('Survived'),\n",
    "    pl.col('Ticket'),\n",
    "    pl.col('Fare')\n",
    ").head()"
   ]
  },
  {
   "cell_type": "code",
   "execution_count": 185,
   "metadata": {},
   "outputs": [
    {
     "data": {
      "text/html": [
       "<div><style>\n",
       ".dataframe > thead > tr,\n",
       ".dataframe > tbody > tr {\n",
       "  text-align: right;\n",
       "  white-space: pre-wrap;\n",
       "}\n",
       "</style>\n",
       "<small>shape: (5, 12)</small><table border=\"1\" class=\"dataframe\"><thead><tr><th>PassengerId</th><th>Survived</th><th>Pclass</th><th>Name</th><th>Sex</th><th>Age</th><th>SibSp</th><th>Parch</th><th>Ticket</th><th>Fare</th><th>Cabin</th><th>Embarked</th></tr><tr><td>i64</td><td>i64</td><td>i64</td><td>str</td><td>str</td><td>f64</td><td>i64</td><td>i64</td><td>str</td><td>f64</td><td>str</td><td>str</td></tr></thead><tbody><tr><td>1</td><td>0</td><td>3</td><td>&quot;Braund, Mr. Owen Harris&quot;</td><td>&quot;male&quot;</td><td>22.0</td><td>1</td><td>0</td><td>&quot;A/5 21171&quot;</td><td>7.25</td><td>null</td><td>&quot;S&quot;</td></tr><tr><td>2</td><td>1</td><td>1</td><td>&quot;Cumings, Mrs. John Bradley (Fl…</td><td>&quot;female&quot;</td><td>38.0</td><td>1</td><td>0</td><td>&quot;PC 17599&quot;</td><td>71.2833</td><td>&quot;C85&quot;</td><td>&quot;C&quot;</td></tr><tr><td>3</td><td>1</td><td>3</td><td>&quot;Heikkinen, Miss. Laina&quot;</td><td>&quot;female&quot;</td><td>26.0</td><td>0</td><td>0</td><td>&quot;STON/O2. 3101282&quot;</td><td>7.925</td><td>null</td><td>&quot;S&quot;</td></tr><tr><td>4</td><td>1</td><td>1</td><td>&quot;Futrelle, Mrs. Jacques Heath (…</td><td>&quot;female&quot;</td><td>35.0</td><td>1</td><td>0</td><td>&quot;113803&quot;</td><td>53.1</td><td>&quot;C123&quot;</td><td>&quot;S&quot;</td></tr><tr><td>5</td><td>0</td><td>3</td><td>&quot;Allen, Mr. William Henry&quot;</td><td>&quot;male&quot;</td><td>35.0</td><td>0</td><td>0</td><td>&quot;373450&quot;</td><td>8.05</td><td>null</td><td>&quot;S&quot;</td></tr></tbody></table></div>"
      ],
      "text/plain": [
       "shape: (5, 12)\n",
       "┌─────────────┬──────────┬────────┬───────────────────┬───┬───────────┬─────────┬───────┬──────────┐\n",
       "│ PassengerId ┆ Survived ┆ Pclass ┆ Name              ┆ … ┆ Ticket    ┆ Fare    ┆ Cabin ┆ Embarked │\n",
       "│ ---         ┆ ---      ┆ ---    ┆ ---               ┆   ┆ ---       ┆ ---     ┆ ---   ┆ ---      │\n",
       "│ i64         ┆ i64      ┆ i64    ┆ str               ┆   ┆ str       ┆ f64     ┆ str   ┆ str      │\n",
       "╞═════════════╪══════════╪════════╪═══════════════════╪═══╪═══════════╪═════════╪═══════╪══════════╡\n",
       "│ 1           ┆ 0        ┆ 3      ┆ Braund, Mr. Owen  ┆ … ┆ A/5 21171 ┆ 7.25    ┆ null  ┆ S        │\n",
       "│             ┆          ┆        ┆ Harris            ┆   ┆           ┆         ┆       ┆          │\n",
       "│ 2           ┆ 1        ┆ 1      ┆ Cumings, Mrs.     ┆ … ┆ PC 17599  ┆ 71.2833 ┆ C85   ┆ C        │\n",
       "│             ┆          ┆        ┆ John Bradley (Fl… ┆   ┆           ┆         ┆       ┆          │\n",
       "│ 3           ┆ 1        ┆ 3      ┆ Heikkinen, Miss.  ┆ … ┆ STON/O2.  ┆ 7.925   ┆ null  ┆ S        │\n",
       "│             ┆          ┆        ┆ Laina             ┆   ┆ 3101282   ┆         ┆       ┆          │\n",
       "│ 4           ┆ 1        ┆ 1      ┆ Futrelle, Mrs.    ┆ … ┆ 113803    ┆ 53.1    ┆ C123  ┆ S        │\n",
       "│             ┆          ┆        ┆ Jacques Heath (…  ┆   ┆           ┆         ┆       ┆          │\n",
       "│ 5           ┆ 0        ┆ 3      ┆ Allen, Mr.        ┆ … ┆ 373450    ┆ 8.05    ┆ null  ┆ S        │\n",
       "│             ┆          ┆        ┆ William Henry     ┆   ┆           ┆         ┆       ┆          │\n",
       "└─────────────┴──────────┴────────┴───────────────────┴───┴───────────┴─────────┴───────┴──────────┘"
      ]
     },
     "execution_count": 185,
     "metadata": {},
     "output_type": "execute_result"
    }
   ],
   "source": [
    "df.with_columns(\n",
    "    pl.col('Survived'),\n",
    "    pl.col('Ticket'),\n",
    "    pl.col('Fare')\n",
    ").head()"
   ]
  },
  {
   "cell_type": "code",
   "execution_count": 186,
   "metadata": {},
   "outputs": [
    {
     "data": {
      "text/html": [
       "<div><style>\n",
       ".dataframe > thead > tr,\n",
       ".dataframe > tbody > tr {\n",
       "  text-align: right;\n",
       "  white-space: pre-wrap;\n",
       "}\n",
       "</style>\n",
       "<small>shape: (5, 12)</small><table border=\"1\" class=\"dataframe\"><thead><tr><th>PassengerId</th><th>Survived</th><th>Pclass</th><th>Name</th><th>Sex</th><th>Age</th><th>SibSp</th><th>Parch</th><th>Ticket</th><th>Fare</th><th>Cabin</th><th>Embarked</th></tr><tr><td>i64</td><td>i64</td><td>i64</td><td>str</td><td>str</td><td>f64</td><td>i64</td><td>i64</td><td>str</td><td>f64</td><td>str</td><td>str</td></tr></thead><tbody><tr><td>1</td><td>0</td><td>3</td><td>&quot;Braund, Mr. Owen Harris&quot;</td><td>&quot;male&quot;</td><td>22.0</td><td>1</td><td>0</td><td>&quot;A/5 21171&quot;</td><td>7.25</td><td>null</td><td>&quot;S&quot;</td></tr><tr><td>2</td><td>1</td><td>1</td><td>&quot;Cumings, Mrs. John Bradley (Fl…</td><td>&quot;female&quot;</td><td>38.0</td><td>1</td><td>0</td><td>&quot;PC 17599&quot;</td><td>71.2833</td><td>&quot;C85&quot;</td><td>&quot;C&quot;</td></tr><tr><td>3</td><td>1</td><td>3</td><td>&quot;Heikkinen, Miss. Laina&quot;</td><td>&quot;female&quot;</td><td>26.0</td><td>0</td><td>0</td><td>&quot;STON/O2. 3101282&quot;</td><td>7.925</td><td>null</td><td>&quot;S&quot;</td></tr><tr><td>4</td><td>1</td><td>1</td><td>&quot;Futrelle, Mrs. Jacques Heath (…</td><td>&quot;female&quot;</td><td>35.0</td><td>1</td><td>0</td><td>&quot;113803&quot;</td><td>53.1</td><td>&quot;C123&quot;</td><td>&quot;S&quot;</td></tr><tr><td>5</td><td>0</td><td>3</td><td>&quot;Allen, Mr. William Henry&quot;</td><td>&quot;male&quot;</td><td>35.0</td><td>0</td><td>0</td><td>&quot;373450&quot;</td><td>8.05</td><td>null</td><td>&quot;S&quot;</td></tr></tbody></table></div>"
      ],
      "text/plain": [
       "shape: (5, 12)\n",
       "┌─────────────┬──────────┬────────┬───────────────────┬───┬───────────┬─────────┬───────┬──────────┐\n",
       "│ PassengerId ┆ Survived ┆ Pclass ┆ Name              ┆ … ┆ Ticket    ┆ Fare    ┆ Cabin ┆ Embarked │\n",
       "│ ---         ┆ ---      ┆ ---    ┆ ---               ┆   ┆ ---       ┆ ---     ┆ ---   ┆ ---      │\n",
       "│ i64         ┆ i64      ┆ i64    ┆ str               ┆   ┆ str       ┆ f64     ┆ str   ┆ str      │\n",
       "╞═════════════╪══════════╪════════╪═══════════════════╪═══╪═══════════╪═════════╪═══════╪══════════╡\n",
       "│ 1           ┆ 0        ┆ 3      ┆ Braund, Mr. Owen  ┆ … ┆ A/5 21171 ┆ 7.25    ┆ null  ┆ S        │\n",
       "│             ┆          ┆        ┆ Harris            ┆   ┆           ┆         ┆       ┆          │\n",
       "│ 2           ┆ 1        ┆ 1      ┆ Cumings, Mrs.     ┆ … ┆ PC 17599  ┆ 71.2833 ┆ C85   ┆ C        │\n",
       "│             ┆          ┆        ┆ John Bradley (Fl… ┆   ┆           ┆         ┆       ┆          │\n",
       "│ 3           ┆ 1        ┆ 3      ┆ Heikkinen, Miss.  ┆ … ┆ STON/O2.  ┆ 7.925   ┆ null  ┆ S        │\n",
       "│             ┆          ┆        ┆ Laina             ┆   ┆ 3101282   ┆         ┆       ┆          │\n",
       "│ 4           ┆ 1        ┆ 1      ┆ Futrelle, Mrs.    ┆ … ┆ 113803    ┆ 53.1    ┆ C123  ┆ S        │\n",
       "│             ┆          ┆        ┆ Jacques Heath (…  ┆   ┆           ┆         ┆       ┆          │\n",
       "│ 5           ┆ 0        ┆ 3      ┆ Allen, Mr.        ┆ … ┆ 373450    ┆ 8.05    ┆ null  ┆ S        │\n",
       "│             ┆          ┆        ┆ William Henry     ┆   ┆           ┆         ┆       ┆          │\n",
       "└─────────────┴──────────┴────────┴───────────────────┴───┴───────────┴─────────┴───────┴──────────┘"
      ]
     },
     "execution_count": 186,
     "metadata": {},
     "output_type": "execute_result"
    }
   ],
   "source": [
    "df.with_columns(['Survived', 'Ticket', 'Fare']).head()"
   ]
  },
  {
   "cell_type": "code",
   "execution_count": 187,
   "metadata": {},
   "outputs": [
    {
     "data": {
      "text/html": [
       "<div><style>\n",
       ".dataframe > thead > tr,\n",
       ".dataframe > tbody > tr {\n",
       "  text-align: right;\n",
       "  white-space: pre-wrap;\n",
       "}\n",
       "</style>\n",
       "<small>shape: (5, 12)</small><table border=\"1\" class=\"dataframe\"><thead><tr><th>PassengerId</th><th>Survived</th><th>Pclass</th><th>Name</th><th>Sex</th><th>Age</th><th>SibSp</th><th>Parch</th><th>Ticket</th><th>Fare</th><th>Cabin</th><th>Embarked</th></tr><tr><td>i64</td><td>i64</td><td>i64</td><td>str</td><td>str</td><td>f64</td><td>i64</td><td>i64</td><td>str</td><td>f64</td><td>str</td><td>str</td></tr></thead><tbody><tr><td>1</td><td>0</td><td>3</td><td>&quot;Braund, Mr. Owen Harris&quot;</td><td>&quot;male&quot;</td><td>22.0</td><td>1</td><td>0</td><td>&quot;A/5 21171&quot;</td><td>7.25</td><td>null</td><td>&quot;S&quot;</td></tr><tr><td>2</td><td>1</td><td>1</td><td>&quot;Cumings, Mrs. John Bradley (Fl…</td><td>&quot;female&quot;</td><td>38.0</td><td>1</td><td>0</td><td>&quot;PC 17599&quot;</td><td>71.2833</td><td>&quot;C85&quot;</td><td>&quot;C&quot;</td></tr><tr><td>3</td><td>1</td><td>3</td><td>&quot;Heikkinen, Miss. Laina&quot;</td><td>&quot;female&quot;</td><td>26.0</td><td>0</td><td>0</td><td>&quot;STON/O2. 3101282&quot;</td><td>7.925</td><td>null</td><td>&quot;S&quot;</td></tr><tr><td>4</td><td>1</td><td>1</td><td>&quot;Futrelle, Mrs. Jacques Heath (…</td><td>&quot;female&quot;</td><td>35.0</td><td>1</td><td>0</td><td>&quot;113803&quot;</td><td>53.1</td><td>&quot;C123&quot;</td><td>&quot;S&quot;</td></tr><tr><td>5</td><td>0</td><td>3</td><td>&quot;Allen, Mr. William Henry&quot;</td><td>&quot;male&quot;</td><td>35.0</td><td>0</td><td>0</td><td>&quot;373450&quot;</td><td>8.05</td><td>null</td><td>&quot;S&quot;</td></tr></tbody></table></div>"
      ],
      "text/plain": [
       "shape: (5, 12)\n",
       "┌─────────────┬──────────┬────────┬───────────────────┬───┬───────────┬─────────┬───────┬──────────┐\n",
       "│ PassengerId ┆ Survived ┆ Pclass ┆ Name              ┆ … ┆ Ticket    ┆ Fare    ┆ Cabin ┆ Embarked │\n",
       "│ ---         ┆ ---      ┆ ---    ┆ ---               ┆   ┆ ---       ┆ ---     ┆ ---   ┆ ---      │\n",
       "│ i64         ┆ i64      ┆ i64    ┆ str               ┆   ┆ str       ┆ f64     ┆ str   ┆ str      │\n",
       "╞═════════════╪══════════╪════════╪═══════════════════╪═══╪═══════════╪═════════╪═══════╪══════════╡\n",
       "│ 1           ┆ 0        ┆ 3      ┆ Braund, Mr. Owen  ┆ … ┆ A/5 21171 ┆ 7.25    ┆ null  ┆ S        │\n",
       "│             ┆          ┆        ┆ Harris            ┆   ┆           ┆         ┆       ┆          │\n",
       "│ 2           ┆ 1        ┆ 1      ┆ Cumings, Mrs.     ┆ … ┆ PC 17599  ┆ 71.2833 ┆ C85   ┆ C        │\n",
       "│             ┆          ┆        ┆ John Bradley (Fl… ┆   ┆           ┆         ┆       ┆          │\n",
       "│ 3           ┆ 1        ┆ 3      ┆ Heikkinen, Miss.  ┆ … ┆ STON/O2.  ┆ 7.925   ┆ null  ┆ S        │\n",
       "│             ┆          ┆        ┆ Laina             ┆   ┆ 3101282   ┆         ┆       ┆          │\n",
       "│ 4           ┆ 1        ┆ 1      ┆ Futrelle, Mrs.    ┆ … ┆ 113803    ┆ 53.1    ┆ C123  ┆ S        │\n",
       "│             ┆          ┆        ┆ Jacques Heath (…  ┆   ┆           ┆         ┆       ┆          │\n",
       "│ 5           ┆ 0        ┆ 3      ┆ Allen, Mr.        ┆ … ┆ 373450    ┆ 8.05    ┆ null  ┆ S        │\n",
       "│             ┆          ┆        ┆ William Henry     ┆   ┆           ┆         ┆       ┆          │\n",
       "└─────────────┴──────────┴────────┴───────────────────┴───┴───────────┴─────────┴───────┴──────────┘"
      ]
     },
     "execution_count": 187,
     "metadata": {},
     "output_type": "execute_result"
    }
   ],
   "source": [
    "df.with_columns(\n",
    "    pl.col('Survived'),\n",
    "    pl.col('Ticket'),\n",
    "    pl.col('Fare')\n",
    ").head()"
   ]
  },
  {
   "cell_type": "code",
   "execution_count": 188,
   "metadata": {},
   "outputs": [
    {
     "data": {
      "text/html": [
       "<div><style>\n",
       ".dataframe > thead > tr,\n",
       ".dataframe > tbody > tr {\n",
       "  text-align: right;\n",
       "  white-space: pre-wrap;\n",
       "}\n",
       "</style>\n",
       "<small>shape: (5, 12)</small><table border=\"1\" class=\"dataframe\"><thead><tr><th>PassengerId</th><th>Survived</th><th>Pclass</th><th>Name</th><th>Sex</th><th>Age</th><th>SibSp</th><th>Parch</th><th>Ticket</th><th>Fare</th><th>Cabin</th><th>Embarked</th></tr><tr><td>i64</td><td>i64</td><td>i64</td><td>str</td><td>str</td><td>f64</td><td>i64</td><td>i64</td><td>str</td><td>f64</td><td>str</td><td>str</td></tr></thead><tbody><tr><td>2</td><td>1</td><td>1</td><td>&quot;Cumings, Mrs. John Bradley (Fl…</td><td>&quot;female&quot;</td><td>38.0</td><td>1</td><td>0</td><td>&quot;PC 17599&quot;</td><td>71.2833</td><td>&quot;C85&quot;</td><td>&quot;C&quot;</td></tr><tr><td>4</td><td>1</td><td>1</td><td>&quot;Futrelle, Mrs. Jacques Heath (…</td><td>&quot;female&quot;</td><td>35.0</td><td>1</td><td>0</td><td>&quot;113803&quot;</td><td>53.1</td><td>&quot;C123&quot;</td><td>&quot;S&quot;</td></tr><tr><td>5</td><td>0</td><td>3</td><td>&quot;Allen, Mr. William Henry&quot;</td><td>&quot;male&quot;</td><td>35.0</td><td>0</td><td>0</td><td>&quot;373450&quot;</td><td>8.05</td><td>null</td><td>&quot;S&quot;</td></tr><tr><td>7</td><td>0</td><td>1</td><td>&quot;McCarthy, Mr. Timothy J&quot;</td><td>&quot;male&quot;</td><td>54.0</td><td>0</td><td>0</td><td>&quot;17463&quot;</td><td>51.8625</td><td>&quot;E46&quot;</td><td>&quot;S&quot;</td></tr><tr><td>12</td><td>1</td><td>1</td><td>&quot;Bonnell, Miss. Elizabeth&quot;</td><td>&quot;female&quot;</td><td>58.0</td><td>0</td><td>0</td><td>&quot;113783&quot;</td><td>26.55</td><td>&quot;C103&quot;</td><td>&quot;S&quot;</td></tr></tbody></table></div>"
      ],
      "text/plain": [
       "shape: (5, 12)\n",
       "┌─────────────┬──────────┬────────┬────────────────────┬───┬──────────┬─────────┬───────┬──────────┐\n",
       "│ PassengerId ┆ Survived ┆ Pclass ┆ Name               ┆ … ┆ Ticket   ┆ Fare    ┆ Cabin ┆ Embarked │\n",
       "│ ---         ┆ ---      ┆ ---    ┆ ---                ┆   ┆ ---      ┆ ---     ┆ ---   ┆ ---      │\n",
       "│ i64         ┆ i64      ┆ i64    ┆ str                ┆   ┆ str      ┆ f64     ┆ str   ┆ str      │\n",
       "╞═════════════╪══════════╪════════╪════════════════════╪═══╪══════════╪═════════╪═══════╪══════════╡\n",
       "│ 2           ┆ 1        ┆ 1      ┆ Cumings, Mrs. John ┆ … ┆ PC 17599 ┆ 71.2833 ┆ C85   ┆ C        │\n",
       "│             ┆          ┆        ┆ Bradley (Fl…       ┆   ┆          ┆         ┆       ┆          │\n",
       "│ 4           ┆ 1        ┆ 1      ┆ Futrelle, Mrs.     ┆ … ┆ 113803   ┆ 53.1    ┆ C123  ┆ S        │\n",
       "│             ┆          ┆        ┆ Jacques Heath (…   ┆   ┆          ┆         ┆       ┆          │\n",
       "│ 5           ┆ 0        ┆ 3      ┆ Allen, Mr. William ┆ … ┆ 373450   ┆ 8.05    ┆ null  ┆ S        │\n",
       "│             ┆          ┆        ┆ Henry              ┆   ┆          ┆         ┆       ┆          │\n",
       "│ 7           ┆ 0        ┆ 1      ┆ McCarthy, Mr.      ┆ … ┆ 17463    ┆ 51.8625 ┆ E46   ┆ S        │\n",
       "│             ┆          ┆        ┆ Timothy J          ┆   ┆          ┆         ┆       ┆          │\n",
       "│ 12          ┆ 1        ┆ 1      ┆ Bonnell, Miss.     ┆ … ┆ 113783   ┆ 26.55   ┆ C103  ┆ S        │\n",
       "│             ┆          ┆        ┆ Elizabeth          ┆   ┆          ┆         ┆       ┆          │\n",
       "└─────────────┴──────────┴────────┴────────────────────┴───┴──────────┴─────────┴───────┴──────────┘"
      ]
     },
     "execution_count": 188,
     "metadata": {},
     "output_type": "execute_result"
    }
   ],
   "source": [
    "df.filter((pl.col('Age') >= 30)).head()\n"
   ]
  },
  {
   "cell_type": "code",
   "execution_count": 189,
   "metadata": {},
   "outputs": [
    {
     "data": {
      "text/html": [
       "<div><style>\n",
       ".dataframe > thead > tr,\n",
       ".dataframe > tbody > tr {\n",
       "  text-align: right;\n",
       "  white-space: pre-wrap;\n",
       "}\n",
       "</style>\n",
       "<small>shape: (5, 12)</small><table border=\"1\" class=\"dataframe\"><thead><tr><th>PassengerId</th><th>Survived</th><th>Pclass</th><th>Name</th><th>Sex</th><th>Age</th><th>SibSp</th><th>Parch</th><th>Ticket</th><th>Fare</th><th>Cabin</th><th>Embarked</th></tr><tr><td>i64</td><td>i64</td><td>i64</td><td>str</td><td>str</td><td>f64</td><td>i64</td><td>i64</td><td>str</td><td>f64</td><td>str</td><td>str</td></tr></thead><tbody><tr><td>5</td><td>0</td><td>3</td><td>&quot;Allen, Mr. William Henry&quot;</td><td>&quot;male&quot;</td><td>35.0</td><td>0</td><td>0</td><td>&quot;373450&quot;</td><td>8.05</td><td>null</td><td>&quot;S&quot;</td></tr><tr><td>7</td><td>0</td><td>1</td><td>&quot;McCarthy, Mr. Timothy J&quot;</td><td>&quot;male&quot;</td><td>54.0</td><td>0</td><td>0</td><td>&quot;17463&quot;</td><td>51.8625</td><td>&quot;E46&quot;</td><td>&quot;S&quot;</td></tr><tr><td>14</td><td>0</td><td>3</td><td>&quot;Andersson, Mr. Anders Johan&quot;</td><td>&quot;male&quot;</td><td>39.0</td><td>1</td><td>5</td><td>&quot;347082&quot;</td><td>31.275</td><td>null</td><td>&quot;S&quot;</td></tr><tr><td>21</td><td>0</td><td>2</td><td>&quot;Fynney, Mr. Joseph J&quot;</td><td>&quot;male&quot;</td><td>35.0</td><td>0</td><td>0</td><td>&quot;239865&quot;</td><td>26.0</td><td>null</td><td>&quot;S&quot;</td></tr><tr><td>22</td><td>1</td><td>2</td><td>&quot;Beesley, Mr. Lawrence&quot;</td><td>&quot;male&quot;</td><td>34.0</td><td>0</td><td>0</td><td>&quot;248698&quot;</td><td>13.0</td><td>&quot;D56&quot;</td><td>&quot;S&quot;</td></tr></tbody></table></div>"
      ],
      "text/plain": [
       "shape: (5, 12)\n",
       "┌─────────────┬──────────┬────────┬──────────────────────┬───┬────────┬─────────┬───────┬──────────┐\n",
       "│ PassengerId ┆ Survived ┆ Pclass ┆ Name                 ┆ … ┆ Ticket ┆ Fare    ┆ Cabin ┆ Embarked │\n",
       "│ ---         ┆ ---      ┆ ---    ┆ ---                  ┆   ┆ ---    ┆ ---     ┆ ---   ┆ ---      │\n",
       "│ i64         ┆ i64      ┆ i64    ┆ str                  ┆   ┆ str    ┆ f64     ┆ str   ┆ str      │\n",
       "╞═════════════╪══════════╪════════╪══════════════════════╪═══╪════════╪═════════╪═══════╪══════════╡\n",
       "│ 5           ┆ 0        ┆ 3      ┆ Allen, Mr. William   ┆ … ┆ 373450 ┆ 8.05    ┆ null  ┆ S        │\n",
       "│             ┆          ┆        ┆ Henry                ┆   ┆        ┆         ┆       ┆          │\n",
       "│ 7           ┆ 0        ┆ 1      ┆ McCarthy, Mr.        ┆ … ┆ 17463  ┆ 51.8625 ┆ E46   ┆ S        │\n",
       "│             ┆          ┆        ┆ Timothy J            ┆   ┆        ┆         ┆       ┆          │\n",
       "│ 14          ┆ 0        ┆ 3      ┆ Andersson, Mr.       ┆ … ┆ 347082 ┆ 31.275  ┆ null  ┆ S        │\n",
       "│             ┆          ┆        ┆ Anders Johan         ┆   ┆        ┆         ┆       ┆          │\n",
       "│ 21          ┆ 0        ┆ 2      ┆ Fynney, Mr. Joseph J ┆ … ┆ 239865 ┆ 26.0    ┆ null  ┆ S        │\n",
       "│ 22          ┆ 1        ┆ 2      ┆ Beesley, Mr.         ┆ … ┆ 248698 ┆ 13.0    ┆ D56   ┆ S        │\n",
       "│             ┆          ┆        ┆ Lawrence             ┆   ┆        ┆         ┆       ┆          │\n",
       "└─────────────┴──────────┴────────┴──────────────────────┴───┴────────┴─────────┴───────┴──────────┘"
      ]
     },
     "execution_count": 189,
     "metadata": {},
     "output_type": "execute_result"
    }
   ],
   "source": [
    "df.filter(\n",
    "    (pl.col('Age') >= 30) & (pl.col('Sex')=='male')\n",
    ").head()"
   ]
  },
  {
   "cell_type": "markdown",
   "metadata": {},
   "source": [
    "### There is more..."
   ]
  },
  {
   "cell_type": "code",
   "execution_count": 190,
   "metadata": {},
   "outputs": [
    {
     "data": {
      "text/html": [
       "<div><style>\n",
       ".dataframe > thead > tr,\n",
       ".dataframe > tbody > tr {\n",
       "  text-align: right;\n",
       "  white-space: pre-wrap;\n",
       "}\n",
       "</style>\n",
       "<small>shape: (5, 2)</small><table border=\"1\" class=\"dataframe\"><thead><tr><th>Age</th><th>Sex</th></tr><tr><td>f64</td><td>str</td></tr></thead><tbody><tr><td>22.0</td><td>&quot;male&quot;</td></tr><tr><td>38.0</td><td>&quot;female&quot;</td></tr><tr><td>26.0</td><td>&quot;female&quot;</td></tr><tr><td>35.0</td><td>&quot;female&quot;</td></tr><tr><td>35.0</td><td>&quot;male&quot;</td></tr></tbody></table></div>"
      ],
      "text/plain": [
       "shape: (5, 2)\n",
       "┌──────┬────────┐\n",
       "│ Age  ┆ Sex    │\n",
       "│ ---  ┆ ---    │\n",
       "│ f64  ┆ str    │\n",
       "╞══════╪════════╡\n",
       "│ 22.0 ┆ male   │\n",
       "│ 38.0 ┆ female │\n",
       "│ 26.0 ┆ female │\n",
       "│ 35.0 ┆ female │\n",
       "│ 35.0 ┆ male   │\n",
       "└──────┴────────┘"
      ]
     },
     "execution_count": 190,
     "metadata": {},
     "output_type": "execute_result"
    }
   ],
   "source": [
    "df[['Age', 'Sex']].head()"
   ]
  },
  {
   "cell_type": "code",
   "execution_count": 191,
   "metadata": {},
   "outputs": [
    {
     "data": {
      "text/html": [
       "<div><style>\n",
       ".dataframe > thead > tr,\n",
       ".dataframe > tbody > tr {\n",
       "  text-align: right;\n",
       "  white-space: pre-wrap;\n",
       "}\n",
       "</style>\n",
       "<small>shape: (5, 4)</small><table border=\"1\" class=\"dataframe\"><thead><tr><th>Name</th><th>Sex</th><th>Age</th><th>Fare</th></tr><tr><td>str</td><td>str</td><td>f64</td><td>f64</td></tr></thead><tbody><tr><td>&quot;Braund, Mr. Owen Harris&quot;</td><td>&quot;male&quot;</td><td>22.0</td><td>7.25</td></tr><tr><td>&quot;Cumings, Mrs. John Bradley (Fl…</td><td>&quot;female&quot;</td><td>38.0</td><td>71.2833</td></tr><tr><td>&quot;Heikkinen, Miss. Laina&quot;</td><td>&quot;female&quot;</td><td>26.0</td><td>7.925</td></tr><tr><td>&quot;Futrelle, Mrs. Jacques Heath (…</td><td>&quot;female&quot;</td><td>35.0</td><td>53.1</td></tr><tr><td>&quot;Allen, Mr. William Henry&quot;</td><td>&quot;male&quot;</td><td>35.0</td><td>8.05</td></tr></tbody></table></div>"
      ],
      "text/plain": [
       "shape: (5, 4)\n",
       "┌─────────────────────────────────┬────────┬──────┬─────────┐\n",
       "│ Name                            ┆ Sex    ┆ Age  ┆ Fare    │\n",
       "│ ---                             ┆ ---    ┆ ---  ┆ ---     │\n",
       "│ str                             ┆ str    ┆ f64  ┆ f64     │\n",
       "╞═════════════════════════════════╪════════╪══════╪═════════╡\n",
       "│ Braund, Mr. Owen Harris         ┆ male   ┆ 22.0 ┆ 7.25    │\n",
       "│ Cumings, Mrs. John Bradley (Fl… ┆ female ┆ 38.0 ┆ 71.2833 │\n",
       "│ Heikkinen, Miss. Laina          ┆ female ┆ 26.0 ┆ 7.925   │\n",
       "│ Futrelle, Mrs. Jacques Heath (… ┆ female ┆ 35.0 ┆ 53.1    │\n",
       "│ Allen, Mr. William Henry        ┆ male   ┆ 35.0 ┆ 8.05    │\n",
       "└─────────────────────────────────┴────────┴──────┴─────────┘"
      ]
     },
     "execution_count": 191,
     "metadata": {},
     "output_type": "execute_result"
    }
   ],
   "source": [
    "df.select(pl.col('^[a-zA-Z]{0,4}$')).head()"
   ]
  },
  {
   "cell_type": "code",
   "execution_count": 192,
   "metadata": {},
   "outputs": [
    {
     "data": {
      "text/html": [
       "<div><style>\n",
       ".dataframe > thead > tr,\n",
       ".dataframe > tbody > tr {\n",
       "  text-align: right;\n",
       "  white-space: pre-wrap;\n",
       "}\n",
       "</style>\n",
       "<small>shape: (5, 5)</small><table border=\"1\" class=\"dataframe\"><thead><tr><th>Name</th><th>Sex</th><th>Ticket</th><th>Cabin</th><th>Embarked</th></tr><tr><td>str</td><td>str</td><td>str</td><td>str</td><td>str</td></tr></thead><tbody><tr><td>&quot;Braund, Mr. Owen Harris&quot;</td><td>&quot;male&quot;</td><td>&quot;A/5 21171&quot;</td><td>null</td><td>&quot;S&quot;</td></tr><tr><td>&quot;Cumings, Mrs. John Bradley (Fl…</td><td>&quot;female&quot;</td><td>&quot;PC 17599&quot;</td><td>&quot;C85&quot;</td><td>&quot;C&quot;</td></tr><tr><td>&quot;Heikkinen, Miss. Laina&quot;</td><td>&quot;female&quot;</td><td>&quot;STON/O2. 3101282&quot;</td><td>null</td><td>&quot;S&quot;</td></tr><tr><td>&quot;Futrelle, Mrs. Jacques Heath (…</td><td>&quot;female&quot;</td><td>&quot;113803&quot;</td><td>&quot;C123&quot;</td><td>&quot;S&quot;</td></tr><tr><td>&quot;Allen, Mr. William Henry&quot;</td><td>&quot;male&quot;</td><td>&quot;373450&quot;</td><td>null</td><td>&quot;S&quot;</td></tr></tbody></table></div>"
      ],
      "text/plain": [
       "shape: (5, 5)\n",
       "┌─────────────────────────────────┬────────┬──────────────────┬───────┬──────────┐\n",
       "│ Name                            ┆ Sex    ┆ Ticket           ┆ Cabin ┆ Embarked │\n",
       "│ ---                             ┆ ---    ┆ ---              ┆ ---   ┆ ---      │\n",
       "│ str                             ┆ str    ┆ str              ┆ str   ┆ str      │\n",
       "╞═════════════════════════════════╪════════╪══════════════════╪═══════╪══════════╡\n",
       "│ Braund, Mr. Owen Harris         ┆ male   ┆ A/5 21171        ┆ null  ┆ S        │\n",
       "│ Cumings, Mrs. John Bradley (Fl… ┆ female ┆ PC 17599         ┆ C85   ┆ C        │\n",
       "│ Heikkinen, Miss. Laina          ┆ female ┆ STON/O2. 3101282 ┆ null  ┆ S        │\n",
       "│ Futrelle, Mrs. Jacques Heath (… ┆ female ┆ 113803           ┆ C123  ┆ S        │\n",
       "│ Allen, Mr. William Henry        ┆ male   ┆ 373450           ┆ null  ┆ S        │\n",
       "└─────────────────────────────────┴────────┴──────────────────┴───────┴──────────┘"
      ]
     },
     "execution_count": 192,
     "metadata": {},
     "output_type": "execute_result"
    }
   ],
   "source": [
    "df.select(pl.col(pl.String)).head()"
   ]
  },
  {
   "cell_type": "code",
   "execution_count": 193,
   "metadata": {},
   "outputs": [
    {
     "data": {
      "text/html": [
       "<div><style>\n",
       ".dataframe > thead > tr,\n",
       ".dataframe > tbody > tr {\n",
       "  text-align: right;\n",
       "  white-space: pre-wrap;\n",
       "}\n",
       "</style>\n",
       "<small>shape: (5, 7)</small><table border=\"1\" class=\"dataframe\"><thead><tr><th>PassengerId</th><th>Survived</th><th>Pclass</th><th>Age</th><th>SibSp</th><th>Parch</th><th>Fare</th></tr><tr><td>i64</td><td>i64</td><td>i64</td><td>f64</td><td>i64</td><td>i64</td><td>f64</td></tr></thead><tbody><tr><td>1</td><td>0</td><td>3</td><td>22.0</td><td>1</td><td>0</td><td>7.25</td></tr><tr><td>2</td><td>1</td><td>1</td><td>38.0</td><td>1</td><td>0</td><td>71.2833</td></tr><tr><td>3</td><td>1</td><td>3</td><td>26.0</td><td>0</td><td>0</td><td>7.925</td></tr><tr><td>4</td><td>1</td><td>1</td><td>35.0</td><td>1</td><td>0</td><td>53.1</td></tr><tr><td>5</td><td>0</td><td>3</td><td>35.0</td><td>0</td><td>0</td><td>8.05</td></tr></tbody></table></div>"
      ],
      "text/plain": [
       "shape: (5, 7)\n",
       "┌─────────────┬──────────┬────────┬──────┬───────┬───────┬─────────┐\n",
       "│ PassengerId ┆ Survived ┆ Pclass ┆ Age  ┆ SibSp ┆ Parch ┆ Fare    │\n",
       "│ ---         ┆ ---      ┆ ---    ┆ ---  ┆ ---   ┆ ---   ┆ ---     │\n",
       "│ i64         ┆ i64      ┆ i64    ┆ f64  ┆ i64   ┆ i64   ┆ f64     │\n",
       "╞═════════════╪══════════╪════════╪══════╪═══════╪═══════╪═════════╡\n",
       "│ 1           ┆ 0        ┆ 3      ┆ 22.0 ┆ 1     ┆ 0     ┆ 7.25    │\n",
       "│ 2           ┆ 1        ┆ 1      ┆ 38.0 ┆ 1     ┆ 0     ┆ 71.2833 │\n",
       "│ 3           ┆ 1        ┆ 3      ┆ 26.0 ┆ 0     ┆ 0     ┆ 7.925   │\n",
       "│ 4           ┆ 1        ┆ 1      ┆ 35.0 ┆ 1     ┆ 0     ┆ 53.1    │\n",
       "│ 5           ┆ 0        ┆ 3      ┆ 35.0 ┆ 0     ┆ 0     ┆ 8.05    │\n",
       "└─────────────┴──────────┴────────┴──────┴───────┴───────┴─────────┘"
      ]
     },
     "execution_count": 193,
     "metadata": {},
     "output_type": "execute_result"
    }
   ],
   "source": [
    "import polars.selectors as cs\n",
    "\n",
    "df.select(cs.numeric()).head()"
   ]
  },
  {
   "cell_type": "code",
   "execution_count": 194,
   "metadata": {},
   "outputs": [
    {
     "data": {
      "text/html": [
       "<div><style>\n",
       ".dataframe > thead > tr,\n",
       ".dataframe > tbody > tr {\n",
       "  text-align: right;\n",
       "  white-space: pre-wrap;\n",
       "}\n",
       "</style>\n",
       "<small>shape: (5, 3)</small><table border=\"1\" class=\"dataframe\"><thead><tr><th>PassengerId</th><th>Survived</th><th>Embarked</th></tr><tr><td>i64</td><td>i64</td><td>str</td></tr></thead><tbody><tr><td>1</td><td>0</td><td>&quot;S&quot;</td></tr><tr><td>2</td><td>1</td><td>&quot;C&quot;</td></tr><tr><td>3</td><td>1</td><td>&quot;S&quot;</td></tr><tr><td>4</td><td>1</td><td>&quot;S&quot;</td></tr><tr><td>5</td><td>0</td><td>&quot;S&quot;</td></tr></tbody></table></div>"
      ],
      "text/plain": [
       "shape: (5, 3)\n",
       "┌─────────────┬──────────┬──────────┐\n",
       "│ PassengerId ┆ Survived ┆ Embarked │\n",
       "│ ---         ┆ ---      ┆ ---      │\n",
       "│ i64         ┆ i64      ┆ str      │\n",
       "╞═════════════╪══════════╪══════════╡\n",
       "│ 1           ┆ 0        ┆ S        │\n",
       "│ 2           ┆ 1        ┆ C        │\n",
       "│ 3           ┆ 1        ┆ S        │\n",
       "│ 4           ┆ 1        ┆ S        │\n",
       "│ 5           ┆ 0        ┆ S        │\n",
       "└─────────────┴──────────┴──────────┘"
      ]
     },
     "execution_count": 194,
     "metadata": {},
     "output_type": "execute_result"
    }
   ],
   "source": [
    "df.select(cs.matches('se|ed')).head()"
   ]
  },
  {
   "cell_type": "markdown",
   "metadata": {},
   "source": [
    "## Creating, modifying, and deleting columns "
   ]
  },
  {
   "cell_type": "markdown",
   "metadata": {},
   "source": [
    "### How to do it..."
   ]
  },
  {
   "cell_type": "code",
   "execution_count": 195,
   "metadata": {},
   "outputs": [
    {
     "data": {
      "text/html": [
       "<div><style>\n",
       ".dataframe > thead > tr,\n",
       ".dataframe > tbody > tr {\n",
       "  text-align: right;\n",
       "  white-space: pre-wrap;\n",
       "}\n",
       "</style>\n",
       "<small>shape: (5, 12)</small><table border=\"1\" class=\"dataframe\"><thead><tr><th>PassengerId</th><th>Survived</th><th>Pclass</th><th>Name</th><th>Sex</th><th>Age</th><th>SibSp</th><th>Parch</th><th>Ticket</th><th>Fare</th><th>Cabin</th><th>Embarked</th></tr><tr><td>i64</td><td>i64</td><td>i64</td><td>str</td><td>str</td><td>f64</td><td>i64</td><td>i64</td><td>str</td><td>f64</td><td>str</td><td>str</td></tr></thead><tbody><tr><td>1</td><td>0</td><td>3</td><td>&quot;Braund, Mr. Owen Harris&quot;</td><td>&quot;male&quot;</td><td>22.0</td><td>1</td><td>0</td><td>&quot;A/5 21171&quot;</td><td>7.25</td><td>null</td><td>&quot;S&quot;</td></tr><tr><td>2</td><td>1</td><td>1</td><td>&quot;Cumings, Mrs. John Bradley (Fl…</td><td>&quot;female&quot;</td><td>38.0</td><td>1</td><td>0</td><td>&quot;PC 17599&quot;</td><td>71.2833</td><td>&quot;C85&quot;</td><td>&quot;C&quot;</td></tr><tr><td>3</td><td>1</td><td>3</td><td>&quot;Heikkinen, Miss. Laina&quot;</td><td>&quot;female&quot;</td><td>26.0</td><td>0</td><td>0</td><td>&quot;STON/O2. 3101282&quot;</td><td>7.925</td><td>null</td><td>&quot;S&quot;</td></tr><tr><td>4</td><td>1</td><td>1</td><td>&quot;Futrelle, Mrs. Jacques Heath (…</td><td>&quot;female&quot;</td><td>35.0</td><td>1</td><td>0</td><td>&quot;113803&quot;</td><td>53.1</td><td>&quot;C123&quot;</td><td>&quot;S&quot;</td></tr><tr><td>5</td><td>0</td><td>3</td><td>&quot;Allen, Mr. William Henry&quot;</td><td>&quot;male&quot;</td><td>35.0</td><td>0</td><td>0</td><td>&quot;373450&quot;</td><td>8.05</td><td>null</td><td>&quot;S&quot;</td></tr></tbody></table></div>"
      ],
      "text/plain": [
       "shape: (5, 12)\n",
       "┌─────────────┬──────────┬────────┬───────────────────┬───┬───────────┬─────────┬───────┬──────────┐\n",
       "│ PassengerId ┆ Survived ┆ Pclass ┆ Name              ┆ … ┆ Ticket    ┆ Fare    ┆ Cabin ┆ Embarked │\n",
       "│ ---         ┆ ---      ┆ ---    ┆ ---               ┆   ┆ ---       ┆ ---     ┆ ---   ┆ ---      │\n",
       "│ i64         ┆ i64      ┆ i64    ┆ str               ┆   ┆ str       ┆ f64     ┆ str   ┆ str      │\n",
       "╞═════════════╪══════════╪════════╪═══════════════════╪═══╪═══════════╪═════════╪═══════╪══════════╡\n",
       "│ 1           ┆ 0        ┆ 3      ┆ Braund, Mr. Owen  ┆ … ┆ A/5 21171 ┆ 7.25    ┆ null  ┆ S        │\n",
       "│             ┆          ┆        ┆ Harris            ┆   ┆           ┆         ┆       ┆          │\n",
       "│ 2           ┆ 1        ┆ 1      ┆ Cumings, Mrs.     ┆ … ┆ PC 17599  ┆ 71.2833 ┆ C85   ┆ C        │\n",
       "│             ┆          ┆        ┆ John Bradley (Fl… ┆   ┆           ┆         ┆       ┆          │\n",
       "│ 3           ┆ 1        ┆ 3      ┆ Heikkinen, Miss.  ┆ … ┆ STON/O2.  ┆ 7.925   ┆ null  ┆ S        │\n",
       "│             ┆          ┆        ┆ Laina             ┆   ┆ 3101282   ┆         ┆       ┆          │\n",
       "│ 4           ┆ 1        ┆ 1      ┆ Futrelle, Mrs.    ┆ … ┆ 113803    ┆ 53.1    ┆ C123  ┆ S        │\n",
       "│             ┆          ┆        ┆ Jacques Heath (…  ┆   ┆           ┆         ┆       ┆          │\n",
       "│ 5           ┆ 0        ┆ 3      ┆ Allen, Mr.        ┆ … ┆ 373450    ┆ 8.05    ┆ null  ┆ S        │\n",
       "│             ┆          ┆        ┆ William Henry     ┆   ┆           ┆         ┆       ┆          │\n",
       "└─────────────┴──────────┴────────┴───────────────────┴───┴───────────┴─────────┴───────┴──────────┘"
      ]
     },
     "execution_count": 195,
     "metadata": {},
     "output_type": "execute_result"
    }
   ],
   "source": [
    "df = pl.read_csv('../data/titanic_dataset.csv')\n",
    "df.head()"
   ]
  },
  {
   "cell_type": "code",
   "execution_count": 196,
   "metadata": {},
   "outputs": [
    {
     "data": {
      "text/html": [
       "<div><style>\n",
       ".dataframe > thead > tr,\n",
       ".dataframe > tbody > tr {\n",
       "  text-align: right;\n",
       "  white-space: pre-wrap;\n",
       "}\n",
       "</style>\n",
       "<small>shape: (5, 13)</small><table border=\"1\" class=\"dataframe\"><thead><tr><th>PassengerId</th><th>Survived</th><th>Pclass</th><th>Name</th><th>Sex</th><th>Age</th><th>SibSp</th><th>Parch</th><th>Ticket</th><th>Fare</th><th>Cabin</th><th>Embarked</th><th>Max Fare</th></tr><tr><td>i64</td><td>i64</td><td>i64</td><td>str</td><td>str</td><td>f64</td><td>i64</td><td>i64</td><td>str</td><td>f64</td><td>str</td><td>str</td><td>f64</td></tr></thead><tbody><tr><td>1</td><td>0</td><td>3</td><td>&quot;Braund, Mr. Owen Harris&quot;</td><td>&quot;male&quot;</td><td>22.0</td><td>1</td><td>0</td><td>&quot;A/5 21171&quot;</td><td>7.25</td><td>null</td><td>&quot;S&quot;</td><td>512.3292</td></tr><tr><td>2</td><td>1</td><td>1</td><td>&quot;Cumings, Mrs. John Bradley (Fl…</td><td>&quot;female&quot;</td><td>38.0</td><td>1</td><td>0</td><td>&quot;PC 17599&quot;</td><td>71.2833</td><td>&quot;C85&quot;</td><td>&quot;C&quot;</td><td>512.3292</td></tr><tr><td>3</td><td>1</td><td>3</td><td>&quot;Heikkinen, Miss. Laina&quot;</td><td>&quot;female&quot;</td><td>26.0</td><td>0</td><td>0</td><td>&quot;STON/O2. 3101282&quot;</td><td>7.925</td><td>null</td><td>&quot;S&quot;</td><td>512.3292</td></tr><tr><td>4</td><td>1</td><td>1</td><td>&quot;Futrelle, Mrs. Jacques Heath (…</td><td>&quot;female&quot;</td><td>35.0</td><td>1</td><td>0</td><td>&quot;113803&quot;</td><td>53.1</td><td>&quot;C123&quot;</td><td>&quot;S&quot;</td><td>512.3292</td></tr><tr><td>5</td><td>0</td><td>3</td><td>&quot;Allen, Mr. William Henry&quot;</td><td>&quot;male&quot;</td><td>35.0</td><td>0</td><td>0</td><td>&quot;373450&quot;</td><td>8.05</td><td>null</td><td>&quot;S&quot;</td><td>512.3292</td></tr></tbody></table></div>"
      ],
      "text/plain": [
       "shape: (5, 13)\n",
       "┌─────────────┬──────────┬────────┬────────────────────┬───┬─────────┬───────┬──────────┬──────────┐\n",
       "│ PassengerId ┆ Survived ┆ Pclass ┆ Name               ┆ … ┆ Fare    ┆ Cabin ┆ Embarked ┆ Max Fare │\n",
       "│ ---         ┆ ---      ┆ ---    ┆ ---                ┆   ┆ ---     ┆ ---   ┆ ---      ┆ ---      │\n",
       "│ i64         ┆ i64      ┆ i64    ┆ str                ┆   ┆ f64     ┆ str   ┆ str      ┆ f64      │\n",
       "╞═════════════╪══════════╪════════╪════════════════════╪═══╪═════════╪═══════╪══════════╪══════════╡\n",
       "│ 1           ┆ 0        ┆ 3      ┆ Braund, Mr. Owen   ┆ … ┆ 7.25    ┆ null  ┆ S        ┆ 512.3292 │\n",
       "│             ┆          ┆        ┆ Harris             ┆   ┆         ┆       ┆          ┆          │\n",
       "│ 2           ┆ 1        ┆ 1      ┆ Cumings, Mrs. John ┆ … ┆ 71.2833 ┆ C85   ┆ C        ┆ 512.3292 │\n",
       "│             ┆          ┆        ┆ Bradley (Fl…       ┆   ┆         ┆       ┆          ┆          │\n",
       "│ 3           ┆ 1        ┆ 3      ┆ Heikkinen, Miss.   ┆ … ┆ 7.925   ┆ null  ┆ S        ┆ 512.3292 │\n",
       "│             ┆          ┆        ┆ Laina              ┆   ┆         ┆       ┆          ┆          │\n",
       "│ 4           ┆ 1        ┆ 1      ┆ Futrelle, Mrs.     ┆ … ┆ 53.1    ┆ C123  ┆ S        ┆ 512.3292 │\n",
       "│             ┆          ┆        ┆ Jacques Heath (…   ┆   ┆         ┆       ┆          ┆          │\n",
       "│ 5           ┆ 0        ┆ 3      ┆ Allen, Mr. William ┆ … ┆ 8.05    ┆ null  ┆ S        ┆ 512.3292 │\n",
       "│             ┆          ┆        ┆ Henry              ┆   ┆         ┆       ┆          ┆          │\n",
       "└─────────────┴──────────┴────────┴────────────────────┴───┴─────────┴───────┴──────────┴──────────┘"
      ]
     },
     "execution_count": 196,
     "metadata": {},
     "output_type": "execute_result"
    }
   ],
   "source": [
    "df.with_columns(\n",
    "    pl.col('Fare').max().alias('Max Fare')\n",
    ").head()"
   ]
  },
  {
   "cell_type": "code",
   "execution_count": 197,
   "metadata": {},
   "outputs": [
    {
     "data": {
      "text/html": [
       "<div><style>\n",
       ".dataframe > thead > tr,\n",
       ".dataframe > tbody > tr {\n",
       "  text-align: right;\n",
       "  white-space: pre-wrap;\n",
       "}\n",
       "</style>\n",
       "<small>shape: (5, 13)</small><table border=\"1\" class=\"dataframe\"><thead><tr><th>PassengerId</th><th>Survived</th><th>Pclass</th><th>Name</th><th>Sex</th><th>Age</th><th>SibSp</th><th>Parch</th><th>Ticket</th><th>Fare</th><th>Cabin</th><th>Embarked</th><th>max_fare</th></tr><tr><td>i64</td><td>i64</td><td>i64</td><td>str</td><td>str</td><td>f64</td><td>i64</td><td>i64</td><td>str</td><td>f64</td><td>str</td><td>str</td><td>f64</td></tr></thead><tbody><tr><td>1</td><td>0</td><td>3</td><td>&quot;Braund, Mr. Owen Harris&quot;</td><td>&quot;male&quot;</td><td>22.0</td><td>1</td><td>0</td><td>&quot;A/5 21171&quot;</td><td>7.25</td><td>null</td><td>&quot;S&quot;</td><td>512.3292</td></tr><tr><td>2</td><td>1</td><td>1</td><td>&quot;Cumings, Mrs. John Bradley (Fl…</td><td>&quot;female&quot;</td><td>38.0</td><td>1</td><td>0</td><td>&quot;PC 17599&quot;</td><td>71.2833</td><td>&quot;C85&quot;</td><td>&quot;C&quot;</td><td>512.3292</td></tr><tr><td>3</td><td>1</td><td>3</td><td>&quot;Heikkinen, Miss. Laina&quot;</td><td>&quot;female&quot;</td><td>26.0</td><td>0</td><td>0</td><td>&quot;STON/O2. 3101282&quot;</td><td>7.925</td><td>null</td><td>&quot;S&quot;</td><td>512.3292</td></tr><tr><td>4</td><td>1</td><td>1</td><td>&quot;Futrelle, Mrs. Jacques Heath (…</td><td>&quot;female&quot;</td><td>35.0</td><td>1</td><td>0</td><td>&quot;113803&quot;</td><td>53.1</td><td>&quot;C123&quot;</td><td>&quot;S&quot;</td><td>512.3292</td></tr><tr><td>5</td><td>0</td><td>3</td><td>&quot;Allen, Mr. William Henry&quot;</td><td>&quot;male&quot;</td><td>35.0</td><td>0</td><td>0</td><td>&quot;373450&quot;</td><td>8.05</td><td>null</td><td>&quot;S&quot;</td><td>512.3292</td></tr></tbody></table></div>"
      ],
      "text/plain": [
       "shape: (5, 13)\n",
       "┌─────────────┬──────────┬────────┬────────────────────┬───┬─────────┬───────┬──────────┬──────────┐\n",
       "│ PassengerId ┆ Survived ┆ Pclass ┆ Name               ┆ … ┆ Fare    ┆ Cabin ┆ Embarked ┆ max_fare │\n",
       "│ ---         ┆ ---      ┆ ---    ┆ ---                ┆   ┆ ---     ┆ ---   ┆ ---      ┆ ---      │\n",
       "│ i64         ┆ i64      ┆ i64    ┆ str                ┆   ┆ f64     ┆ str   ┆ str      ┆ f64      │\n",
       "╞═════════════╪══════════╪════════╪════════════════════╪═══╪═════════╪═══════╪══════════╪══════════╡\n",
       "│ 1           ┆ 0        ┆ 3      ┆ Braund, Mr. Owen   ┆ … ┆ 7.25    ┆ null  ┆ S        ┆ 512.3292 │\n",
       "│             ┆          ┆        ┆ Harris             ┆   ┆         ┆       ┆          ┆          │\n",
       "│ 2           ┆ 1        ┆ 1      ┆ Cumings, Mrs. John ┆ … ┆ 71.2833 ┆ C85   ┆ C        ┆ 512.3292 │\n",
       "│             ┆          ┆        ┆ Bradley (Fl…       ┆   ┆         ┆       ┆          ┆          │\n",
       "│ 3           ┆ 1        ┆ 3      ┆ Heikkinen, Miss.   ┆ … ┆ 7.925   ┆ null  ┆ S        ┆ 512.3292 │\n",
       "│             ┆          ┆        ┆ Laina              ┆   ┆         ┆       ┆          ┆          │\n",
       "│ 4           ┆ 1        ┆ 1      ┆ Futrelle, Mrs.     ┆ … ┆ 53.1    ┆ C123  ┆ S        ┆ 512.3292 │\n",
       "│             ┆          ┆        ┆ Jacques Heath (…   ┆   ┆         ┆       ┆          ┆          │\n",
       "│ 5           ┆ 0        ┆ 3      ┆ Allen, Mr. William ┆ … ┆ 8.05    ┆ null  ┆ S        ┆ 512.3292 │\n",
       "│             ┆          ┆        ┆ Henry              ┆   ┆         ┆       ┆          ┆          │\n",
       "└─────────────┴──────────┴────────┴────────────────────┴───┴─────────┴───────┴──────────┴──────────┘"
      ]
     },
     "execution_count": 197,
     "metadata": {},
     "output_type": "execute_result"
    }
   ],
   "source": [
    "df.with_columns(\n",
    "    max_fare=pl.col('Fare').max()\n",
    ").head()"
   ]
  },
  {
   "cell_type": "code",
   "execution_count": 198,
   "metadata": {},
   "outputs": [
    {
     "data": {
      "text/html": [
       "<div><style>\n",
       ".dataframe > thead > tr,\n",
       ".dataframe > tbody > tr {\n",
       "  text-align: right;\n",
       "  white-space: pre-wrap;\n",
       "}\n",
       "</style>\n",
       "<small>shape: (5, 13)</small><table border=\"1\" class=\"dataframe\"><thead><tr><th>PassengerId</th><th>Survived</th><th>Pclass</th><th>Name</th><th>Sex</th><th>Age</th><th>SibSp</th><th>Parch</th><th>Ticket</th><th>Fare</th><th>Cabin</th><th>Embarked</th><th>Max Fare - Avg Fare</th></tr><tr><td>i64</td><td>i64</td><td>i64</td><td>str</td><td>str</td><td>f64</td><td>i64</td><td>i64</td><td>str</td><td>f64</td><td>str</td><td>str</td><td>f64</td></tr></thead><tbody><tr><td>1</td><td>0</td><td>3</td><td>&quot;Braund, Mr. Owen Harris&quot;</td><td>&quot;male&quot;</td><td>22.0</td><td>1</td><td>0</td><td>&quot;A/5 21171&quot;</td><td>7.25</td><td>null</td><td>&quot;S&quot;</td><td>480.124992</td></tr><tr><td>2</td><td>1</td><td>1</td><td>&quot;Cumings, Mrs. John Bradley (Fl…</td><td>&quot;female&quot;</td><td>38.0</td><td>1</td><td>0</td><td>&quot;PC 17599&quot;</td><td>71.2833</td><td>&quot;C85&quot;</td><td>&quot;C&quot;</td><td>480.124992</td></tr><tr><td>3</td><td>1</td><td>3</td><td>&quot;Heikkinen, Miss. Laina&quot;</td><td>&quot;female&quot;</td><td>26.0</td><td>0</td><td>0</td><td>&quot;STON/O2. 3101282&quot;</td><td>7.925</td><td>null</td><td>&quot;S&quot;</td><td>480.124992</td></tr><tr><td>4</td><td>1</td><td>1</td><td>&quot;Futrelle, Mrs. Jacques Heath (…</td><td>&quot;female&quot;</td><td>35.0</td><td>1</td><td>0</td><td>&quot;113803&quot;</td><td>53.1</td><td>&quot;C123&quot;</td><td>&quot;S&quot;</td><td>480.124992</td></tr><tr><td>5</td><td>0</td><td>3</td><td>&quot;Allen, Mr. William Henry&quot;</td><td>&quot;male&quot;</td><td>35.0</td><td>0</td><td>0</td><td>&quot;373450&quot;</td><td>8.05</td><td>null</td><td>&quot;S&quot;</td><td>480.124992</td></tr></tbody></table></div>"
      ],
      "text/plain": [
       "shape: (5, 13)\n",
       "┌─────────────┬──────────┬────────┬──────────────────┬───┬─────────┬───────┬──────────┬────────────┐\n",
       "│ PassengerId ┆ Survived ┆ Pclass ┆ Name             ┆ … ┆ Fare    ┆ Cabin ┆ Embarked ┆ Max Fare - │\n",
       "│ ---         ┆ ---      ┆ ---    ┆ ---              ┆   ┆ ---     ┆ ---   ┆ ---      ┆ Avg Fare   │\n",
       "│ i64         ┆ i64      ┆ i64    ┆ str              ┆   ┆ f64     ┆ str   ┆ str      ┆ ---        │\n",
       "│             ┆          ┆        ┆                  ┆   ┆         ┆       ┆          ┆ f64        │\n",
       "╞═════════════╪══════════╪════════╪══════════════════╪═══╪═════════╪═══════╪══════════╪════════════╡\n",
       "│ 1           ┆ 0        ┆ 3      ┆ Braund, Mr. Owen ┆ … ┆ 7.25    ┆ null  ┆ S        ┆ 480.124992 │\n",
       "│             ┆          ┆        ┆ Harris           ┆   ┆         ┆       ┆          ┆            │\n",
       "│ 2           ┆ 1        ┆ 1      ┆ Cumings, Mrs.    ┆ … ┆ 71.2833 ┆ C85   ┆ C        ┆ 480.124992 │\n",
       "│             ┆          ┆        ┆ John Bradley     ┆   ┆         ┆       ┆          ┆            │\n",
       "│             ┆          ┆        ┆ (Fl…             ┆   ┆         ┆       ┆          ┆            │\n",
       "│ 3           ┆ 1        ┆ 3      ┆ Heikkinen, Miss. ┆ … ┆ 7.925   ┆ null  ┆ S        ┆ 480.124992 │\n",
       "│             ┆          ┆        ┆ Laina            ┆   ┆         ┆       ┆          ┆            │\n",
       "│ 4           ┆ 1        ┆ 1      ┆ Futrelle, Mrs.   ┆ … ┆ 53.1    ┆ C123  ┆ S        ┆ 480.124992 │\n",
       "│             ┆          ┆        ┆ Jacques Heath (… ┆   ┆         ┆       ┆          ┆            │\n",
       "│ 5           ┆ 0        ┆ 3      ┆ Allen, Mr.       ┆ … ┆ 8.05    ┆ null  ┆ S        ┆ 480.124992 │\n",
       "│             ┆          ┆        ┆ William Henry    ┆   ┆         ┆       ┆          ┆            │\n",
       "└─────────────┴──────────┴────────┴──────────────────┴───┴─────────┴───────┴──────────┴────────────┘"
      ]
     },
     "execution_count": 198,
     "metadata": {},
     "output_type": "execute_result"
    }
   ],
   "source": [
    "df.with_columns(\n",
    "    (pl.col('Fare').max() - pl.col('Fare').mean()).alias('Max Fare - Avg Fare')\n",
    ").head()"
   ]
  },
  {
   "cell_type": "code",
   "execution_count": 199,
   "metadata": {},
   "outputs": [
    {
     "data": {
      "text/html": [
       "<div><style>\n",
       ".dataframe > thead > tr,\n",
       ".dataframe > tbody > tr {\n",
       "  text-align: right;\n",
       "  white-space: pre-wrap;\n",
       "}\n",
       "</style>\n",
       "<small>shape: (5, 13)</small><table border=\"1\" class=\"dataframe\"><thead><tr><th>PassengerId</th><th>Survived</th><th>Pclass</th><th>Name</th><th>Sex</th><th>Age</th><th>SibSp</th><th>Parch</th><th>Ticket</th><th>Fare</th><th>Cabin</th><th>Embarked</th><th>literal</th></tr><tr><td>i64</td><td>i64</td><td>i64</td><td>str</td><td>str</td><td>f64</td><td>i64</td><td>i64</td><td>str</td><td>f64</td><td>str</td><td>str</td><td>str</td></tr></thead><tbody><tr><td>1</td><td>0</td><td>3</td><td>&quot;Braund, Mr. Owen Harris&quot;</td><td>&quot;male&quot;</td><td>22.0</td><td>1</td><td>0</td><td>&quot;A/5 21171&quot;</td><td>7.25</td><td>null</td><td>&quot;S&quot;</td><td>&quot;Titanic&quot;</td></tr><tr><td>2</td><td>1</td><td>1</td><td>&quot;Cumings, Mrs. John Bradley (Fl…</td><td>&quot;female&quot;</td><td>38.0</td><td>1</td><td>0</td><td>&quot;PC 17599&quot;</td><td>71.2833</td><td>&quot;C85&quot;</td><td>&quot;C&quot;</td><td>&quot;Titanic&quot;</td></tr><tr><td>3</td><td>1</td><td>3</td><td>&quot;Heikkinen, Miss. Laina&quot;</td><td>&quot;female&quot;</td><td>26.0</td><td>0</td><td>0</td><td>&quot;STON/O2. 3101282&quot;</td><td>7.925</td><td>null</td><td>&quot;S&quot;</td><td>&quot;Titanic&quot;</td></tr><tr><td>4</td><td>1</td><td>1</td><td>&quot;Futrelle, Mrs. Jacques Heath (…</td><td>&quot;female&quot;</td><td>35.0</td><td>1</td><td>0</td><td>&quot;113803&quot;</td><td>53.1</td><td>&quot;C123&quot;</td><td>&quot;S&quot;</td><td>&quot;Titanic&quot;</td></tr><tr><td>5</td><td>0</td><td>3</td><td>&quot;Allen, Mr. William Henry&quot;</td><td>&quot;male&quot;</td><td>35.0</td><td>0</td><td>0</td><td>&quot;373450&quot;</td><td>8.05</td><td>null</td><td>&quot;S&quot;</td><td>&quot;Titanic&quot;</td></tr></tbody></table></div>"
      ],
      "text/plain": [
       "shape: (5, 13)\n",
       "┌─────────────┬──────────┬────────┬─────────────────────┬───┬─────────┬───────┬──────────┬─────────┐\n",
       "│ PassengerId ┆ Survived ┆ Pclass ┆ Name                ┆ … ┆ Fare    ┆ Cabin ┆ Embarked ┆ literal │\n",
       "│ ---         ┆ ---      ┆ ---    ┆ ---                 ┆   ┆ ---     ┆ ---   ┆ ---      ┆ ---     │\n",
       "│ i64         ┆ i64      ┆ i64    ┆ str                 ┆   ┆ f64     ┆ str   ┆ str      ┆ str     │\n",
       "╞═════════════╪══════════╪════════╪═════════════════════╪═══╪═════════╪═══════╪══════════╪═════════╡\n",
       "│ 1           ┆ 0        ┆ 3      ┆ Braund, Mr. Owen    ┆ … ┆ 7.25    ┆ null  ┆ S        ┆ Titanic │\n",
       "│             ┆          ┆        ┆ Harris              ┆   ┆         ┆       ┆          ┆         │\n",
       "│ 2           ┆ 1        ┆ 1      ┆ Cumings, Mrs. John  ┆ … ┆ 71.2833 ┆ C85   ┆ C        ┆ Titanic │\n",
       "│             ┆          ┆        ┆ Bradley (Fl…        ┆   ┆         ┆       ┆          ┆         │\n",
       "│ 3           ┆ 1        ┆ 3      ┆ Heikkinen, Miss.    ┆ … ┆ 7.925   ┆ null  ┆ S        ┆ Titanic │\n",
       "│             ┆          ┆        ┆ Laina               ┆   ┆         ┆       ┆          ┆         │\n",
       "│ 4           ┆ 1        ┆ 1      ┆ Futrelle, Mrs.      ┆ … ┆ 53.1    ┆ C123  ┆ S        ┆ Titanic │\n",
       "│             ┆          ┆        ┆ Jacques Heath (…    ┆   ┆         ┆       ┆          ┆         │\n",
       "│ 5           ┆ 0        ┆ 3      ┆ Allen, Mr. William  ┆ … ┆ 8.05    ┆ null  ┆ S        ┆ Titanic │\n",
       "│             ┆          ┆        ┆ Henry               ┆   ┆         ┆       ┆          ┆         │\n",
       "└─────────────┴──────────┴────────┴─────────────────────┴───┴─────────┴───────┴──────────┴─────────┘"
      ]
     },
     "execution_count": 199,
     "metadata": {},
     "output_type": "execute_result"
    }
   ],
   "source": [
    "df.with_columns(pl.lit('Titanic')).head()"
   ]
  },
  {
   "cell_type": "code",
   "execution_count": 200,
   "metadata": {},
   "outputs": [
    {
     "data": {
      "text/html": [
       "<div><style>\n",
       ".dataframe > thead > tr,\n",
       ".dataframe > tbody > tr {\n",
       "  text-align: right;\n",
       "  white-space: pre-wrap;\n",
       "}\n",
       "</style>\n",
       "<small>shape: (5, 13)</small><table border=\"1\" class=\"dataframe\"><thead><tr><th>index</th><th>PassengerId</th><th>Survived</th><th>Pclass</th><th>Name</th><th>Sex</th><th>Age</th><th>SibSp</th><th>Parch</th><th>Ticket</th><th>Fare</th><th>Cabin</th><th>Embarked</th></tr><tr><td>u32</td><td>i64</td><td>i64</td><td>i64</td><td>str</td><td>str</td><td>f64</td><td>i64</td><td>i64</td><td>str</td><td>f64</td><td>str</td><td>str</td></tr></thead><tbody><tr><td>0</td><td>1</td><td>0</td><td>3</td><td>&quot;Braund, Mr. Owen Harris&quot;</td><td>&quot;male&quot;</td><td>22.0</td><td>1</td><td>0</td><td>&quot;A/5 21171&quot;</td><td>7.25</td><td>null</td><td>&quot;S&quot;</td></tr><tr><td>1</td><td>2</td><td>1</td><td>1</td><td>&quot;Cumings, Mrs. John Bradley (Fl…</td><td>&quot;female&quot;</td><td>38.0</td><td>1</td><td>0</td><td>&quot;PC 17599&quot;</td><td>71.2833</td><td>&quot;C85&quot;</td><td>&quot;C&quot;</td></tr><tr><td>2</td><td>3</td><td>1</td><td>3</td><td>&quot;Heikkinen, Miss. Laina&quot;</td><td>&quot;female&quot;</td><td>26.0</td><td>0</td><td>0</td><td>&quot;STON/O2. 3101282&quot;</td><td>7.925</td><td>null</td><td>&quot;S&quot;</td></tr><tr><td>3</td><td>4</td><td>1</td><td>1</td><td>&quot;Futrelle, Mrs. Jacques Heath (…</td><td>&quot;female&quot;</td><td>35.0</td><td>1</td><td>0</td><td>&quot;113803&quot;</td><td>53.1</td><td>&quot;C123&quot;</td><td>&quot;S&quot;</td></tr><tr><td>4</td><td>5</td><td>0</td><td>3</td><td>&quot;Allen, Mr. William Henry&quot;</td><td>&quot;male&quot;</td><td>35.0</td><td>0</td><td>0</td><td>&quot;373450&quot;</td><td>8.05</td><td>null</td><td>&quot;S&quot;</td></tr></tbody></table></div>"
      ],
      "text/plain": [
       "shape: (5, 13)\n",
       "┌───────┬─────────────┬──────────┬────────┬───┬──────────────────┬─────────┬───────┬──────────┐\n",
       "│ index ┆ PassengerId ┆ Survived ┆ Pclass ┆ … ┆ Ticket           ┆ Fare    ┆ Cabin ┆ Embarked │\n",
       "│ ---   ┆ ---         ┆ ---      ┆ ---    ┆   ┆ ---              ┆ ---     ┆ ---   ┆ ---      │\n",
       "│ u32   ┆ i64         ┆ i64      ┆ i64    ┆   ┆ str              ┆ f64     ┆ str   ┆ str      │\n",
       "╞═══════╪═════════════╪══════════╪════════╪═══╪══════════════════╪═════════╪═══════╪══════════╡\n",
       "│ 0     ┆ 1           ┆ 0        ┆ 3      ┆ … ┆ A/5 21171        ┆ 7.25    ┆ null  ┆ S        │\n",
       "│ 1     ┆ 2           ┆ 1        ┆ 1      ┆ … ┆ PC 17599         ┆ 71.2833 ┆ C85   ┆ C        │\n",
       "│ 2     ┆ 3           ┆ 1        ┆ 3      ┆ … ┆ STON/O2. 3101282 ┆ 7.925   ┆ null  ┆ S        │\n",
       "│ 3     ┆ 4           ┆ 1        ┆ 1      ┆ … ┆ 113803           ┆ 53.1    ┆ C123  ┆ S        │\n",
       "│ 4     ┆ 5           ┆ 0        ┆ 3      ┆ … ┆ 373450           ┆ 8.05    ┆ null  ┆ S        │\n",
       "└───────┴─────────────┴──────────┴────────┴───┴──────────────────┴─────────┴───────┴──────────┘"
      ]
     },
     "execution_count": 200,
     "metadata": {},
     "output_type": "execute_result"
    }
   ],
   "source": [
    "df.with_row_index().head()"
   ]
  },
  {
   "cell_type": "code",
   "execution_count": 201,
   "metadata": {},
   "outputs": [
    {
     "data": {
      "text/html": [
       "<div><style>\n",
       ".dataframe > thead > tr,\n",
       ".dataframe > tbody > tr {\n",
       "  text-align: right;\n",
       "  white-space: pre-wrap;\n",
       "}\n",
       "</style>\n",
       "<small>shape: (5, 12)</small><table border=\"1\" class=\"dataframe\"><thead><tr><th>PassengerId</th><th>Survived</th><th>Pclass</th><th>Name</th><th>Sex</th><th>Age</th><th>SibSp</th><th>Parch</th><th>Ticket</th><th>Fare</th><th>Cabin</th><th>Embarked</th></tr><tr><td>i64</td><td>i64</td><td>i64</td><td>str</td><td>str</td><td>f64</td><td>i64</td><td>i64</td><td>str</td><td>f64</td><td>str</td><td>str</td></tr></thead><tbody><tr><td>1</td><td>0</td><td>3</td><td>&quot;Braund, Mr. Owen Harris&quot;</td><td>&quot;Male&quot;</td><td>22.0</td><td>1</td><td>0</td><td>&quot;A/5 21171&quot;</td><td>7.25</td><td>null</td><td>&quot;S&quot;</td></tr><tr><td>2</td><td>1</td><td>1</td><td>&quot;Cumings, Mrs. John Bradley (Fl…</td><td>&quot;Female&quot;</td><td>38.0</td><td>1</td><td>0</td><td>&quot;PC 17599&quot;</td><td>71.2833</td><td>&quot;C85&quot;</td><td>&quot;C&quot;</td></tr><tr><td>3</td><td>1</td><td>3</td><td>&quot;Heikkinen, Miss. Laina&quot;</td><td>&quot;Female&quot;</td><td>26.0</td><td>0</td><td>0</td><td>&quot;STON/O2. 3101282&quot;</td><td>7.925</td><td>null</td><td>&quot;S&quot;</td></tr><tr><td>4</td><td>1</td><td>1</td><td>&quot;Futrelle, Mrs. Jacques Heath (…</td><td>&quot;Female&quot;</td><td>35.0</td><td>1</td><td>0</td><td>&quot;113803&quot;</td><td>53.1</td><td>&quot;C123&quot;</td><td>&quot;S&quot;</td></tr><tr><td>5</td><td>0</td><td>3</td><td>&quot;Allen, Mr. William Henry&quot;</td><td>&quot;Male&quot;</td><td>35.0</td><td>0</td><td>0</td><td>&quot;373450&quot;</td><td>8.05</td><td>null</td><td>&quot;S&quot;</td></tr></tbody></table></div>"
      ],
      "text/plain": [
       "shape: (5, 12)\n",
       "┌─────────────┬──────────┬────────┬───────────────────┬───┬───────────┬─────────┬───────┬──────────┐\n",
       "│ PassengerId ┆ Survived ┆ Pclass ┆ Name              ┆ … ┆ Ticket    ┆ Fare    ┆ Cabin ┆ Embarked │\n",
       "│ ---         ┆ ---      ┆ ---    ┆ ---               ┆   ┆ ---       ┆ ---     ┆ ---   ┆ ---      │\n",
       "│ i64         ┆ i64      ┆ i64    ┆ str               ┆   ┆ str       ┆ f64     ┆ str   ┆ str      │\n",
       "╞═════════════╪══════════╪════════╪═══════════════════╪═══╪═══════════╪═════════╪═══════╪══════════╡\n",
       "│ 1           ┆ 0        ┆ 3      ┆ Braund, Mr. Owen  ┆ … ┆ A/5 21171 ┆ 7.25    ┆ null  ┆ S        │\n",
       "│             ┆          ┆        ┆ Harris            ┆   ┆           ┆         ┆       ┆          │\n",
       "│ 2           ┆ 1        ┆ 1      ┆ Cumings, Mrs.     ┆ … ┆ PC 17599  ┆ 71.2833 ┆ C85   ┆ C        │\n",
       "│             ┆          ┆        ┆ John Bradley (Fl… ┆   ┆           ┆         ┆       ┆          │\n",
       "│ 3           ┆ 1        ┆ 3      ┆ Heikkinen, Miss.  ┆ … ┆ STON/O2.  ┆ 7.925   ┆ null  ┆ S        │\n",
       "│             ┆          ┆        ┆ Laina             ┆   ┆ 3101282   ┆         ┆       ┆          │\n",
       "│ 4           ┆ 1        ┆ 1      ┆ Futrelle, Mrs.    ┆ … ┆ 113803    ┆ 53.1    ┆ C123  ┆ S        │\n",
       "│             ┆          ┆        ┆ Jacques Heath (…  ┆   ┆           ┆         ┆       ┆          │\n",
       "│ 5           ┆ 0        ┆ 3      ┆ Allen, Mr.        ┆ … ┆ 373450    ┆ 8.05    ┆ null  ┆ S        │\n",
       "│             ┆          ┆        ┆ William Henry     ┆   ┆           ┆         ┆       ┆          │\n",
       "└─────────────┴──────────┴────────┴───────────────────┴───┴───────────┴─────────┴───────┴──────────┘"
      ]
     },
     "execution_count": 201,
     "metadata": {},
     "output_type": "execute_result"
    }
   ],
   "source": [
    "df.with_columns(pl.col('Sex').str.to_titlecase()).head()"
   ]
  },
  {
   "cell_type": "code",
   "execution_count": 202,
   "metadata": {},
   "outputs": [
    {
     "data": {
      "text/html": [
       "<div><style>\n",
       ".dataframe > thead > tr,\n",
       ".dataframe > tbody > tr {\n",
       "  text-align: right;\n",
       "  white-space: pre-wrap;\n",
       "}\n",
       "</style>\n",
       "<small>shape: (5, 12)</small><table border=\"1\" class=\"dataframe\"><thead><tr><th>PassengerId</th><th>Survived</th><th>Pclass</th><th>Name</th><th>Sex</th><th>Age</th><th>SibSp</th><th>Parch</th><th>Ticket</th><th>Fare</th><th>Cabin</th><th>Embarked</th></tr><tr><td>i64</td><td>i64</td><td>i64</td><td>str</td><td>str</td><td>f64</td><td>i64</td><td>i64</td><td>str</td><td>f64</td><td>str</td><td>str</td></tr></thead><tbody><tr><td>1</td><td>0</td><td>3</td><td>&quot;Braund, Mr. Owen Harris&quot;</td><td>&quot;male&quot;</td><td>22.0</td><td>1</td><td>0</td><td>&quot;A/5 21171&quot;</td><td>512.3292</td><td>null</td><td>&quot;S&quot;</td></tr><tr><td>2</td><td>1</td><td>1</td><td>&quot;Cumings, Mrs. John Bradley (Fl…</td><td>&quot;female&quot;</td><td>38.0</td><td>1</td><td>0</td><td>&quot;PC 17599&quot;</td><td>512.3292</td><td>&quot;C85&quot;</td><td>&quot;C&quot;</td></tr><tr><td>3</td><td>1</td><td>3</td><td>&quot;Heikkinen, Miss. Laina&quot;</td><td>&quot;female&quot;</td><td>26.0</td><td>0</td><td>0</td><td>&quot;STON/O2. 3101282&quot;</td><td>512.3292</td><td>null</td><td>&quot;S&quot;</td></tr><tr><td>4</td><td>1</td><td>1</td><td>&quot;Futrelle, Mrs. Jacques Heath (…</td><td>&quot;female&quot;</td><td>35.0</td><td>1</td><td>0</td><td>&quot;113803&quot;</td><td>512.3292</td><td>&quot;C123&quot;</td><td>&quot;S&quot;</td></tr><tr><td>5</td><td>0</td><td>3</td><td>&quot;Allen, Mr. William Henry&quot;</td><td>&quot;male&quot;</td><td>35.0</td><td>0</td><td>0</td><td>&quot;373450&quot;</td><td>512.3292</td><td>null</td><td>&quot;S&quot;</td></tr></tbody></table></div>"
      ],
      "text/plain": [
       "shape: (5, 12)\n",
       "┌─────────────┬──────────┬────────┬──────────────────┬───┬───────────┬──────────┬───────┬──────────┐\n",
       "│ PassengerId ┆ Survived ┆ Pclass ┆ Name             ┆ … ┆ Ticket    ┆ Fare     ┆ Cabin ┆ Embarked │\n",
       "│ ---         ┆ ---      ┆ ---    ┆ ---              ┆   ┆ ---       ┆ ---      ┆ ---   ┆ ---      │\n",
       "│ i64         ┆ i64      ┆ i64    ┆ str              ┆   ┆ str       ┆ f64      ┆ str   ┆ str      │\n",
       "╞═════════════╪══════════╪════════╪══════════════════╪═══╪═══════════╪══════════╪═══════╪══════════╡\n",
       "│ 1           ┆ 0        ┆ 3      ┆ Braund, Mr. Owen ┆ … ┆ A/5 21171 ┆ 512.3292 ┆ null  ┆ S        │\n",
       "│             ┆          ┆        ┆ Harris           ┆   ┆           ┆          ┆       ┆          │\n",
       "│ 2           ┆ 1        ┆ 1      ┆ Cumings, Mrs.    ┆ … ┆ PC 17599  ┆ 512.3292 ┆ C85   ┆ C        │\n",
       "│             ┆          ┆        ┆ John Bradley     ┆   ┆           ┆          ┆       ┆          │\n",
       "│             ┆          ┆        ┆ (Fl…             ┆   ┆           ┆          ┆       ┆          │\n",
       "│ 3           ┆ 1        ┆ 3      ┆ Heikkinen, Miss. ┆ … ┆ STON/O2.  ┆ 512.3292 ┆ null  ┆ S        │\n",
       "│             ┆          ┆        ┆ Laina            ┆   ┆ 3101282   ┆          ┆       ┆          │\n",
       "│ 4           ┆ 1        ┆ 1      ┆ Futrelle, Mrs.   ┆ … ┆ 113803    ┆ 512.3292 ┆ C123  ┆ S        │\n",
       "│             ┆          ┆        ┆ Jacques Heath (… ┆   ┆           ┆          ┆       ┆          │\n",
       "│ 5           ┆ 0        ┆ 3      ┆ Allen, Mr.       ┆ … ┆ 373450    ┆ 512.3292 ┆ null  ┆ S        │\n",
       "│             ┆          ┆        ┆ William Henry    ┆   ┆           ┆          ┆       ┆          │\n",
       "└─────────────┴──────────┴────────┴──────────────────┴───┴───────────┴──────────┴───────┴──────────┘"
      ]
     },
     "execution_count": 202,
     "metadata": {},
     "output_type": "execute_result"
    }
   ],
   "source": [
    "df.with_columns( \n",
    "    pl.col('Fare').max() \n",
    ").head() "
   ]
  },
  {
   "cell_type": "code",
   "execution_count": 203,
   "metadata": {},
   "outputs": [
    {
     "data": {
      "text/html": [
       "<div><style>\n",
       ".dataframe > thead > tr,\n",
       ".dataframe > tbody > tr {\n",
       "  text-align: right;\n",
       "  white-space: pre-wrap;\n",
       "}\n",
       "</style>\n",
       "<small>shape: (5, 5)</small><table border=\"1\" class=\"dataframe\"><thead><tr><th>PassengerId</th><th>Survived</th><th>Sex</th><th>Age</th><th>Fare</th></tr><tr><td>i64</td><td>i64</td><td>str</td><td>f64</td><td>f64</td></tr></thead><tbody><tr><td>1</td><td>0</td><td>&quot;male&quot;</td><td>22.0</td><td>7.25</td></tr><tr><td>2</td><td>1</td><td>&quot;female&quot;</td><td>38.0</td><td>71.2833</td></tr><tr><td>3</td><td>1</td><td>&quot;female&quot;</td><td>26.0</td><td>7.925</td></tr><tr><td>4</td><td>1</td><td>&quot;female&quot;</td><td>35.0</td><td>53.1</td></tr><tr><td>5</td><td>0</td><td>&quot;male&quot;</td><td>35.0</td><td>8.05</td></tr></tbody></table></div>"
      ],
      "text/plain": [
       "shape: (5, 5)\n",
       "┌─────────────┬──────────┬────────┬──────┬─────────┐\n",
       "│ PassengerId ┆ Survived ┆ Sex    ┆ Age  ┆ Fare    │\n",
       "│ ---         ┆ ---      ┆ ---    ┆ ---  ┆ ---     │\n",
       "│ i64         ┆ i64      ┆ str    ┆ f64  ┆ f64     │\n",
       "╞═════════════╪══════════╪════════╪══════╪═════════╡\n",
       "│ 1           ┆ 0        ┆ male   ┆ 22.0 ┆ 7.25    │\n",
       "│ 2           ┆ 1        ┆ female ┆ 38.0 ┆ 71.2833 │\n",
       "│ 3           ┆ 1        ┆ female ┆ 26.0 ┆ 7.925   │\n",
       "│ 4           ┆ 1        ┆ female ┆ 35.0 ┆ 53.1    │\n",
       "│ 5           ┆ 0        ┆ male   ┆ 35.0 ┆ 8.05    │\n",
       "└─────────────┴──────────┴────────┴──────┴─────────┘"
      ]
     },
     "execution_count": 203,
     "metadata": {},
     "output_type": "execute_result"
    }
   ],
   "source": [
    "df.drop(['Pclass', 'Name', 'SibSp', 'Parch', 'Ticket', 'Cabin', 'Embarked']).head()"
   ]
  },
  {
   "cell_type": "code",
   "execution_count": 204,
   "metadata": {},
   "outputs": [
    {
     "data": {
      "text/html": [
       "<div><style>\n",
       ".dataframe > thead > tr,\n",
       ".dataframe > tbody > tr {\n",
       "  text-align: right;\n",
       "  white-space: pre-wrap;\n",
       "}\n",
       "</style>\n",
       "<small>shape: (5, 5)</small><table border=\"1\" class=\"dataframe\"><thead><tr><th>PassengerId</th><th>Survived</th><th>Sex</th><th>Age</th><th>Fare</th></tr><tr><td>i64</td><td>i64</td><td>str</td><td>f64</td><td>f64</td></tr></thead><tbody><tr><td>1</td><td>0</td><td>&quot;male&quot;</td><td>22.0</td><td>7.25</td></tr><tr><td>2</td><td>1</td><td>&quot;female&quot;</td><td>38.0</td><td>71.2833</td></tr><tr><td>3</td><td>1</td><td>&quot;female&quot;</td><td>26.0</td><td>7.925</td></tr><tr><td>4</td><td>1</td><td>&quot;female&quot;</td><td>35.0</td><td>53.1</td></tr><tr><td>5</td><td>0</td><td>&quot;male&quot;</td><td>35.0</td><td>8.05</td></tr></tbody></table></div>"
      ],
      "text/plain": [
       "shape: (5, 5)\n",
       "┌─────────────┬──────────┬────────┬──────┬─────────┐\n",
       "│ PassengerId ┆ Survived ┆ Sex    ┆ Age  ┆ Fare    │\n",
       "│ ---         ┆ ---      ┆ ---    ┆ ---  ┆ ---     │\n",
       "│ i64         ┆ i64      ┆ str    ┆ f64  ┆ f64     │\n",
       "╞═════════════╪══════════╪════════╪══════╪═════════╡\n",
       "│ 1           ┆ 0        ┆ male   ┆ 22.0 ┆ 7.25    │\n",
       "│ 2           ┆ 1        ┆ female ┆ 38.0 ┆ 71.2833 │\n",
       "│ 3           ┆ 1        ┆ female ┆ 26.0 ┆ 7.925   │\n",
       "│ 4           ┆ 1        ┆ female ┆ 35.0 ┆ 53.1    │\n",
       "│ 5           ┆ 0        ┆ male   ┆ 35.0 ┆ 8.05    │\n",
       "└─────────────┴──────────┴────────┴──────┴─────────┘"
      ]
     },
     "execution_count": 204,
     "metadata": {},
     "output_type": "execute_result"
    }
   ],
   "source": [
    "df.select(['PassengerId', 'Survived', 'Sex', 'Age', 'Fare']).head()"
   ]
  },
  {
   "cell_type": "markdown",
   "metadata": {},
   "source": [
    "### There is more..."
   ]
  },
  {
   "cell_type": "code",
   "execution_count": 205,
   "metadata": {},
   "outputs": [
    {
     "data": {
      "text/html": [
       "<div><style>\n",
       ".dataframe > thead > tr,\n",
       ".dataframe > tbody > tr {\n",
       "  text-align: right;\n",
       "  white-space: pre-wrap;\n",
       "}\n",
       "</style>\n",
       "<small>shape: (5, 14)</small><table border=\"1\" class=\"dataframe\"><thead><tr><th>PassengerId</th><th>Survived</th><th>Pclass</th><th>Name</th><th>Sex</th><th>Age</th><th>SibSp</th><th>Parch</th><th>Ticket</th><th>Fare</th><th>Cabin</th><th>Embarked</th><th>Max Fare</th><th>literal</th></tr><tr><td>i64</td><td>i64</td><td>i64</td><td>str</td><td>str</td><td>f64</td><td>i64</td><td>i64</td><td>str</td><td>f64</td><td>str</td><td>str</td><td>f64</td><td>str</td></tr></thead><tbody><tr><td>1</td><td>0</td><td>3</td><td>&quot;Braund, Mr. Owen Harris&quot;</td><td>&quot;Male&quot;</td><td>22.0</td><td>1</td><td>0</td><td>&quot;A/5 21171&quot;</td><td>7.25</td><td>null</td><td>&quot;S&quot;</td><td>512.3292</td><td>&quot;Titanic&quot;</td></tr><tr><td>2</td><td>1</td><td>1</td><td>&quot;Cumings, Mrs. John Bradley (Fl…</td><td>&quot;Female&quot;</td><td>38.0</td><td>1</td><td>0</td><td>&quot;PC 17599&quot;</td><td>71.2833</td><td>&quot;C85&quot;</td><td>&quot;C&quot;</td><td>512.3292</td><td>&quot;Titanic&quot;</td></tr><tr><td>3</td><td>1</td><td>3</td><td>&quot;Heikkinen, Miss. Laina&quot;</td><td>&quot;Female&quot;</td><td>26.0</td><td>0</td><td>0</td><td>&quot;STON/O2. 3101282&quot;</td><td>7.925</td><td>null</td><td>&quot;S&quot;</td><td>512.3292</td><td>&quot;Titanic&quot;</td></tr><tr><td>4</td><td>1</td><td>1</td><td>&quot;Futrelle, Mrs. Jacques Heath (…</td><td>&quot;Female&quot;</td><td>35.0</td><td>1</td><td>0</td><td>&quot;113803&quot;</td><td>53.1</td><td>&quot;C123&quot;</td><td>&quot;S&quot;</td><td>512.3292</td><td>&quot;Titanic&quot;</td></tr><tr><td>5</td><td>0</td><td>3</td><td>&quot;Allen, Mr. William Henry&quot;</td><td>&quot;Male&quot;</td><td>35.0</td><td>0</td><td>0</td><td>&quot;373450&quot;</td><td>8.05</td><td>null</td><td>&quot;S&quot;</td><td>512.3292</td><td>&quot;Titanic&quot;</td></tr></tbody></table></div>"
      ],
      "text/plain": [
       "shape: (5, 14)\n",
       "┌─────────────┬──────────┬────────┬────────────────────┬───┬───────┬──────────┬──────────┬─────────┐\n",
       "│ PassengerId ┆ Survived ┆ Pclass ┆ Name               ┆ … ┆ Cabin ┆ Embarked ┆ Max Fare ┆ literal │\n",
       "│ ---         ┆ ---      ┆ ---    ┆ ---                ┆   ┆ ---   ┆ ---      ┆ ---      ┆ ---     │\n",
       "│ i64         ┆ i64      ┆ i64    ┆ str                ┆   ┆ str   ┆ str      ┆ f64      ┆ str     │\n",
       "╞═════════════╪══════════╪════════╪════════════════════╪═══╪═══════╪══════════╪══════════╪═════════╡\n",
       "│ 1           ┆ 0        ┆ 3      ┆ Braund, Mr. Owen   ┆ … ┆ null  ┆ S        ┆ 512.3292 ┆ Titanic │\n",
       "│             ┆          ┆        ┆ Harris             ┆   ┆       ┆          ┆          ┆         │\n",
       "│ 2           ┆ 1        ┆ 1      ┆ Cumings, Mrs. John ┆ … ┆ C85   ┆ C        ┆ 512.3292 ┆ Titanic │\n",
       "│             ┆          ┆        ┆ Bradley (Fl…       ┆   ┆       ┆          ┆          ┆         │\n",
       "│ 3           ┆ 1        ┆ 3      ┆ Heikkinen, Miss.   ┆ … ┆ null  ┆ S        ┆ 512.3292 ┆ Titanic │\n",
       "│             ┆          ┆        ┆ Laina              ┆   ┆       ┆          ┆          ┆         │\n",
       "│ 4           ┆ 1        ┆ 1      ┆ Futrelle, Mrs.     ┆ … ┆ C123  ┆ S        ┆ 512.3292 ┆ Titanic │\n",
       "│             ┆          ┆        ┆ Jacques Heath (…   ┆   ┆       ┆          ┆          ┆         │\n",
       "│ 5           ┆ 0        ┆ 3      ┆ Allen, Mr. William ┆ … ┆ null  ┆ S        ┆ 512.3292 ┆ Titanic │\n",
       "│             ┆          ┆        ┆ Henry              ┆   ┆       ┆          ┆          ┆         │\n",
       "└─────────────┴──────────┴────────┴────────────────────┴───┴───────┴──────────┴──────────┴─────────┘"
      ]
     },
     "execution_count": 205,
     "metadata": {},
     "output_type": "execute_result"
    }
   ],
   "source": [
    "best_practice = (\n",
    "    df.with_columns(\n",
    "        pl.col('Fare').max().alias('Max Fare'),\n",
    "        pl.lit('Titanic'),\n",
    "        pl.col('Sex').str.to_titlecase()\n",
    "    )\n",
    ")\n",
    "best_practice.head()"
   ]
  },
  {
   "cell_type": "code",
   "execution_count": 206,
   "metadata": {},
   "outputs": [
    {
     "data": {
      "text/html": [
       "<div><style>\n",
       ".dataframe > thead > tr,\n",
       ".dataframe > tbody > tr {\n",
       "  text-align: right;\n",
       "  white-space: pre-wrap;\n",
       "}\n",
       "</style>\n",
       "<small>shape: (5, 14)</small><table border=\"1\" class=\"dataframe\"><thead><tr><th>PassengerId</th><th>Survived</th><th>Pclass</th><th>Name</th><th>Sex</th><th>Age</th><th>SibSp</th><th>Parch</th><th>Ticket</th><th>Fare</th><th>Cabin</th><th>Embarked</th><th>Max Fare</th><th>literal</th></tr><tr><td>i64</td><td>i64</td><td>i64</td><td>str</td><td>str</td><td>f64</td><td>i64</td><td>i64</td><td>str</td><td>f64</td><td>str</td><td>str</td><td>f64</td><td>str</td></tr></thead><tbody><tr><td>1</td><td>0</td><td>3</td><td>&quot;Braund, Mr. Owen Harris&quot;</td><td>&quot;Male&quot;</td><td>22.0</td><td>1</td><td>0</td><td>&quot;A/5 21171&quot;</td><td>7.25</td><td>null</td><td>&quot;S&quot;</td><td>512.3292</td><td>&quot;Titanic&quot;</td></tr><tr><td>2</td><td>1</td><td>1</td><td>&quot;Cumings, Mrs. John Bradley (Fl…</td><td>&quot;Female&quot;</td><td>38.0</td><td>1</td><td>0</td><td>&quot;PC 17599&quot;</td><td>71.2833</td><td>&quot;C85&quot;</td><td>&quot;C&quot;</td><td>512.3292</td><td>&quot;Titanic&quot;</td></tr><tr><td>3</td><td>1</td><td>3</td><td>&quot;Heikkinen, Miss. Laina&quot;</td><td>&quot;Female&quot;</td><td>26.0</td><td>0</td><td>0</td><td>&quot;STON/O2. 3101282&quot;</td><td>7.925</td><td>null</td><td>&quot;S&quot;</td><td>512.3292</td><td>&quot;Titanic&quot;</td></tr><tr><td>4</td><td>1</td><td>1</td><td>&quot;Futrelle, Mrs. Jacques Heath (…</td><td>&quot;Female&quot;</td><td>35.0</td><td>1</td><td>0</td><td>&quot;113803&quot;</td><td>53.1</td><td>&quot;C123&quot;</td><td>&quot;S&quot;</td><td>512.3292</td><td>&quot;Titanic&quot;</td></tr><tr><td>5</td><td>0</td><td>3</td><td>&quot;Allen, Mr. William Henry&quot;</td><td>&quot;Male&quot;</td><td>35.0</td><td>0</td><td>0</td><td>&quot;373450&quot;</td><td>8.05</td><td>null</td><td>&quot;S&quot;</td><td>512.3292</td><td>&quot;Titanic&quot;</td></tr></tbody></table></div>"
      ],
      "text/plain": [
       "shape: (5, 14)\n",
       "┌─────────────┬──────────┬────────┬────────────────────┬───┬───────┬──────────┬──────────┬─────────┐\n",
       "│ PassengerId ┆ Survived ┆ Pclass ┆ Name               ┆ … ┆ Cabin ┆ Embarked ┆ Max Fare ┆ literal │\n",
       "│ ---         ┆ ---      ┆ ---    ┆ ---                ┆   ┆ ---   ┆ ---      ┆ ---      ┆ ---     │\n",
       "│ i64         ┆ i64      ┆ i64    ┆ str                ┆   ┆ str   ┆ str      ┆ f64      ┆ str     │\n",
       "╞═════════════╪══════════╪════════╪════════════════════╪═══╪═══════╪══════════╪══════════╪═════════╡\n",
       "│ 1           ┆ 0        ┆ 3      ┆ Braund, Mr. Owen   ┆ … ┆ null  ┆ S        ┆ 512.3292 ┆ Titanic │\n",
       "│             ┆          ┆        ┆ Harris             ┆   ┆       ┆          ┆          ┆         │\n",
       "│ 2           ┆ 1        ┆ 1      ┆ Cumings, Mrs. John ┆ … ┆ C85   ┆ C        ┆ 512.3292 ┆ Titanic │\n",
       "│             ┆          ┆        ┆ Bradley (Fl…       ┆   ┆       ┆          ┆          ┆         │\n",
       "│ 3           ┆ 1        ┆ 3      ┆ Heikkinen, Miss.   ┆ … ┆ null  ┆ S        ┆ 512.3292 ┆ Titanic │\n",
       "│             ┆          ┆        ┆ Laina              ┆   ┆       ┆          ┆          ┆         │\n",
       "│ 4           ┆ 1        ┆ 1      ┆ Futrelle, Mrs.     ┆ … ┆ C123  ┆ S        ┆ 512.3292 ┆ Titanic │\n",
       "│             ┆          ┆        ┆ Jacques Heath (…   ┆   ┆       ┆          ┆          ┆         │\n",
       "│ 5           ┆ 0        ┆ 3      ┆ Allen, Mr. William ┆ … ┆ null  ┆ S        ┆ 512.3292 ┆ Titanic │\n",
       "│             ┆          ┆        ┆ Henry              ┆   ┆       ┆          ┆          ┆         │\n",
       "└─────────────┴──────────┴────────┴────────────────────┴───┴───────┴──────────┴──────────┴─────────┘"
      ]
     },
     "execution_count": 206,
     "metadata": {},
     "output_type": "execute_result"
    }
   ],
   "source": [
    "not_so_good_practice = (\n",
    "    df\n",
    "    .with_columns(pl.col('Fare').max().alias('Max Fare'))\n",
    "    .with_columns(pl.lit('Titanic'))\n",
    "    .with_columns(pl.col('Sex').str.to_titlecase())\n",
    ")\n",
    "not_so_good_practice.head()"
   ]
  },
  {
   "cell_type": "markdown",
   "metadata": {},
   "source": [
    "## Method chaining"
   ]
  },
  {
   "cell_type": "markdown",
   "metadata": {},
   "source": [
    "### How to do it..."
   ]
  },
  {
   "cell_type": "code",
   "execution_count": 207,
   "metadata": {},
   "outputs": [
    {
     "data": {
      "text/html": [
       "<div><style>\n",
       ".dataframe > thead > tr,\n",
       ".dataframe > tbody > tr {\n",
       "  text-align: right;\n",
       "  white-space: pre-wrap;\n",
       "}\n",
       "</style>\n",
       "<small>shape: (5, 12)</small><table border=\"1\" class=\"dataframe\"><thead><tr><th>PassengerId</th><th>Survived</th><th>Pclass</th><th>Name</th><th>Sex</th><th>Age</th><th>SibSp</th><th>Parch</th><th>Ticket</th><th>Fare</th><th>Cabin</th><th>Embarked</th></tr><tr><td>i64</td><td>i64</td><td>i64</td><td>str</td><td>str</td><td>f64</td><td>i64</td><td>i64</td><td>str</td><td>f64</td><td>str</td><td>str</td></tr></thead><tbody><tr><td>1</td><td>0</td><td>3</td><td>&quot;Braund, Mr. Owen Harris&quot;</td><td>&quot;male&quot;</td><td>22.0</td><td>1</td><td>0</td><td>&quot;A/5 21171&quot;</td><td>7.25</td><td>null</td><td>&quot;S&quot;</td></tr><tr><td>2</td><td>1</td><td>1</td><td>&quot;Cumings, Mrs. John Bradley (Fl…</td><td>&quot;female&quot;</td><td>38.0</td><td>1</td><td>0</td><td>&quot;PC 17599&quot;</td><td>71.2833</td><td>&quot;C85&quot;</td><td>&quot;C&quot;</td></tr><tr><td>3</td><td>1</td><td>3</td><td>&quot;Heikkinen, Miss. Laina&quot;</td><td>&quot;female&quot;</td><td>26.0</td><td>0</td><td>0</td><td>&quot;STON/O2. 3101282&quot;</td><td>7.925</td><td>null</td><td>&quot;S&quot;</td></tr><tr><td>4</td><td>1</td><td>1</td><td>&quot;Futrelle, Mrs. Jacques Heath (…</td><td>&quot;female&quot;</td><td>35.0</td><td>1</td><td>0</td><td>&quot;113803&quot;</td><td>53.1</td><td>&quot;C123&quot;</td><td>&quot;S&quot;</td></tr><tr><td>5</td><td>0</td><td>3</td><td>&quot;Allen, Mr. William Henry&quot;</td><td>&quot;male&quot;</td><td>35.0</td><td>0</td><td>0</td><td>&quot;373450&quot;</td><td>8.05</td><td>null</td><td>&quot;S&quot;</td></tr></tbody></table></div>"
      ],
      "text/plain": [
       "shape: (5, 12)\n",
       "┌─────────────┬──────────┬────────┬───────────────────┬───┬───────────┬─────────┬───────┬──────────┐\n",
       "│ PassengerId ┆ Survived ┆ Pclass ┆ Name              ┆ … ┆ Ticket    ┆ Fare    ┆ Cabin ┆ Embarked │\n",
       "│ ---         ┆ ---      ┆ ---    ┆ ---               ┆   ┆ ---       ┆ ---     ┆ ---   ┆ ---      │\n",
       "│ i64         ┆ i64      ┆ i64    ┆ str               ┆   ┆ str       ┆ f64     ┆ str   ┆ str      │\n",
       "╞═════════════╪══════════╪════════╪═══════════════════╪═══╪═══════════╪═════════╪═══════╪══════════╡\n",
       "│ 1           ┆ 0        ┆ 3      ┆ Braund, Mr. Owen  ┆ … ┆ A/5 21171 ┆ 7.25    ┆ null  ┆ S        │\n",
       "│             ┆          ┆        ┆ Harris            ┆   ┆           ┆         ┆       ┆          │\n",
       "│ 2           ┆ 1        ┆ 1      ┆ Cumings, Mrs.     ┆ … ┆ PC 17599  ┆ 71.2833 ┆ C85   ┆ C        │\n",
       "│             ┆          ┆        ┆ John Bradley (Fl… ┆   ┆           ┆         ┆       ┆          │\n",
       "│ 3           ┆ 1        ┆ 3      ┆ Heikkinen, Miss.  ┆ … ┆ STON/O2.  ┆ 7.925   ┆ null  ┆ S        │\n",
       "│             ┆          ┆        ┆ Laina             ┆   ┆ 3101282   ┆         ┆       ┆          │\n",
       "│ 4           ┆ 1        ┆ 1      ┆ Futrelle, Mrs.    ┆ … ┆ 113803    ┆ 53.1    ┆ C123  ┆ S        │\n",
       "│             ┆          ┆        ┆ Jacques Heath (…  ┆   ┆           ┆         ┆       ┆          │\n",
       "│ 5           ┆ 0        ┆ 3      ┆ Allen, Mr.        ┆ … ┆ 373450    ┆ 8.05    ┆ null  ┆ S        │\n",
       "│             ┆          ┆        ┆ William Henry     ┆   ┆           ┆         ┆       ┆          │\n",
       "└─────────────┴──────────┴────────┴───────────────────┴───┴───────────┴─────────┴───────┴──────────┘"
      ]
     },
     "execution_count": 207,
     "metadata": {},
     "output_type": "execute_result"
    }
   ],
   "source": [
    "df = pl.read_csv('../data/titanic_dataset.csv')\n",
    "df.head()"
   ]
  },
  {
   "cell_type": "code",
   "execution_count": 208,
   "metadata": {},
   "outputs": [],
   "source": [
    "cols = ['Name', 'Sex', 'Age', 'Fare', 'Cabin', 'Pclass', 'Survived']"
   ]
  },
  {
   "cell_type": "code",
   "execution_count": 209,
   "metadata": {},
   "outputs": [
    {
     "data": {
      "text/html": [
       "<div><style>\n",
       ".dataframe > thead > tr,\n",
       ".dataframe > tbody > tr {\n",
       "  text-align: right;\n",
       "  white-space: pre-wrap;\n",
       "}\n",
       "</style>\n",
       "<small>shape: (5, 7)</small><table border=\"1\" class=\"dataframe\"><thead><tr><th>Name</th><th>Sex</th><th>Age</th><th>Fare</th><th>Cabin</th><th>Pclass</th><th>Survived</th></tr><tr><td>str</td><td>str</td><td>f64</td><td>f64</td><td>str</td><td>i64</td><td>i64</td></tr></thead><tbody><tr><td>&quot;Abbott, Mrs. Stanton (Rosa Hun…</td><td>&quot;female&quot;</td><td>35.0</td><td>20.25</td><td>null</td><td>3</td><td>1</td></tr><tr><td>&quot;Allen, Mr. William Henry&quot;</td><td>&quot;male&quot;</td><td>35.0</td><td>8.05</td><td>null</td><td>3</td><td>0</td></tr><tr><td>&quot;Asim, Mr. Adola&quot;</td><td>&quot;male&quot;</td><td>35.0</td><td>7.05</td><td>null</td><td>3</td><td>0</td></tr><tr><td>&quot;Bissette, Miss. Amelia&quot;</td><td>&quot;female&quot;</td><td>35.0</td><td>135.6333</td><td>&quot;C99&quot;</td><td>1</td><td>1</td></tr><tr><td>&quot;Brocklebank, Mr. William Alfre…</td><td>&quot;male&quot;</td><td>35.0</td><td>8.05</td><td>null</td><td>3</td><td>0</td></tr></tbody></table></div>"
      ],
      "text/plain": [
       "shape: (5, 7)\n",
       "┌─────────────────────────────────┬────────┬──────┬──────────┬───────┬────────┬──────────┐\n",
       "│ Name                            ┆ Sex    ┆ Age  ┆ Fare     ┆ Cabin ┆ Pclass ┆ Survived │\n",
       "│ ---                             ┆ ---    ┆ ---  ┆ ---      ┆ ---   ┆ ---    ┆ ---      │\n",
       "│ str                             ┆ str    ┆ f64  ┆ f64      ┆ str   ┆ i64    ┆ i64      │\n",
       "╞═════════════════════════════════╪════════╪══════╪══════════╪═══════╪════════╪══════════╡\n",
       "│ Abbott, Mrs. Stanton (Rosa Hun… ┆ female ┆ 35.0 ┆ 20.25    ┆ null  ┆ 3      ┆ 1        │\n",
       "│ Allen, Mr. William Henry        ┆ male   ┆ 35.0 ┆ 8.05     ┆ null  ┆ 3      ┆ 0        │\n",
       "│ Asim, Mr. Adola                 ┆ male   ┆ 35.0 ┆ 7.05     ┆ null  ┆ 3      ┆ 0        │\n",
       "│ Bissette, Miss. Amelia          ┆ female ┆ 35.0 ┆ 135.6333 ┆ C99   ┆ 1      ┆ 1        │\n",
       "│ Brocklebank, Mr. William Alfre… ┆ male   ┆ 35.0 ┆ 8.05     ┆ null  ┆ 3      ┆ 0        │\n",
       "└─────────────────────────────────┴────────┴──────┴──────────┴───────┴────────┴──────────┘"
      ]
     },
     "execution_count": 209,
     "metadata": {},
     "output_type": "execute_result"
    }
   ],
   "source": [
    "df = df.select(cols)\n",
    "df = df.filter(pl.col('Age')>=35)\n",
    "df = df.sort(by=['Age', 'Name'])\n",
    "df.head()"
   ]
  },
  {
   "cell_type": "code",
   "execution_count": 210,
   "metadata": {},
   "outputs": [
    {
     "data": {
      "text/html": [
       "<div><style>\n",
       ".dataframe > thead > tr,\n",
       ".dataframe > tbody > tr {\n",
       "  text-align: right;\n",
       "  white-space: pre-wrap;\n",
       "}\n",
       "</style>\n",
       "<small>shape: (5, 7)</small><table border=\"1\" class=\"dataframe\"><thead><tr><th>Name</th><th>Sex</th><th>Age</th><th>Fare</th><th>Cabin</th><th>Pclass</th><th>Survived</th></tr><tr><td>str</td><td>str</td><td>f64</td><td>f64</td><td>str</td><td>i64</td><td>i64</td></tr></thead><tbody><tr><td>&quot;Abbott, Mrs. Stanton (Rosa Hun…</td><td>&quot;female&quot;</td><td>35.0</td><td>20.25</td><td>null</td><td>3</td><td>1</td></tr><tr><td>&quot;Allen, Mr. William Henry&quot;</td><td>&quot;male&quot;</td><td>35.0</td><td>8.05</td><td>null</td><td>3</td><td>0</td></tr><tr><td>&quot;Asim, Mr. Adola&quot;</td><td>&quot;male&quot;</td><td>35.0</td><td>7.05</td><td>null</td><td>3</td><td>0</td></tr><tr><td>&quot;Bissette, Miss. Amelia&quot;</td><td>&quot;female&quot;</td><td>35.0</td><td>135.6333</td><td>&quot;C99&quot;</td><td>1</td><td>1</td></tr><tr><td>&quot;Brocklebank, Mr. William Alfre…</td><td>&quot;male&quot;</td><td>35.0</td><td>8.05</td><td>null</td><td>3</td><td>0</td></tr></tbody></table></div>"
      ],
      "text/plain": [
       "shape: (5, 7)\n",
       "┌─────────────────────────────────┬────────┬──────┬──────────┬───────┬────────┬──────────┐\n",
       "│ Name                            ┆ Sex    ┆ Age  ┆ Fare     ┆ Cabin ┆ Pclass ┆ Survived │\n",
       "│ ---                             ┆ ---    ┆ ---  ┆ ---      ┆ ---   ┆ ---    ┆ ---      │\n",
       "│ str                             ┆ str    ┆ f64  ┆ f64      ┆ str   ┆ i64    ┆ i64      │\n",
       "╞═════════════════════════════════╪════════╪══════╪══════════╪═══════╪════════╪══════════╡\n",
       "│ Abbott, Mrs. Stanton (Rosa Hun… ┆ female ┆ 35.0 ┆ 20.25    ┆ null  ┆ 3      ┆ 1        │\n",
       "│ Allen, Mr. William Henry        ┆ male   ┆ 35.0 ┆ 8.05     ┆ null  ┆ 3      ┆ 0        │\n",
       "│ Asim, Mr. Adola                 ┆ male   ┆ 35.0 ┆ 7.05     ┆ null  ┆ 3      ┆ 0        │\n",
       "│ Bissette, Miss. Amelia          ┆ female ┆ 35.0 ┆ 135.6333 ┆ C99   ┆ 1      ┆ 1        │\n",
       "│ Brocklebank, Mr. William Alfre… ┆ male   ┆ 35.0 ┆ 8.05     ┆ null  ┆ 3      ┆ 0        │\n",
       "└─────────────────────────────────┴────────┴──────┴──────────┴───────┴────────┴──────────┘"
      ]
     },
     "execution_count": 210,
     "metadata": {},
     "output_type": "execute_result"
    }
   ],
   "source": [
    "df = df.select(cols).filter(pl.col('Age')>=35).sort(by=['Age', 'Name'])\n",
    "df.head()"
   ]
  },
  {
   "cell_type": "code",
   "execution_count": 211,
   "metadata": {},
   "outputs": [
    {
     "data": {
      "text/html": [
       "<div><style>\n",
       ".dataframe > thead > tr,\n",
       ".dataframe > tbody > tr {\n",
       "  text-align: right;\n",
       "  white-space: pre-wrap;\n",
       "}\n",
       "</style>\n",
       "<small>shape: (5, 7)</small><table border=\"1\" class=\"dataframe\"><thead><tr><th>Name</th><th>Sex</th><th>Age</th><th>Fare</th><th>Cabin</th><th>Pclass</th><th>Survived</th></tr><tr><td>str</td><td>str</td><td>f64</td><td>f64</td><td>str</td><td>i64</td><td>i64</td></tr></thead><tbody><tr><td>&quot;Abbott, Mrs. Stanton (Rosa Hun…</td><td>&quot;female&quot;</td><td>35.0</td><td>20.25</td><td>null</td><td>3</td><td>1</td></tr><tr><td>&quot;Allen, Mr. William Henry&quot;</td><td>&quot;male&quot;</td><td>35.0</td><td>8.05</td><td>null</td><td>3</td><td>0</td></tr><tr><td>&quot;Asim, Mr. Adola&quot;</td><td>&quot;male&quot;</td><td>35.0</td><td>7.05</td><td>null</td><td>3</td><td>0</td></tr><tr><td>&quot;Bissette, Miss. Amelia&quot;</td><td>&quot;female&quot;</td><td>35.0</td><td>135.6333</td><td>&quot;C99&quot;</td><td>1</td><td>1</td></tr><tr><td>&quot;Brocklebank, Mr. William Alfre…</td><td>&quot;male&quot;</td><td>35.0</td><td>8.05</td><td>null</td><td>3</td><td>0</td></tr></tbody></table></div>"
      ],
      "text/plain": [
       "shape: (5, 7)\n",
       "┌─────────────────────────────────┬────────┬──────┬──────────┬───────┬────────┬──────────┐\n",
       "│ Name                            ┆ Sex    ┆ Age  ┆ Fare     ┆ Cabin ┆ Pclass ┆ Survived │\n",
       "│ ---                             ┆ ---    ┆ ---  ┆ ---      ┆ ---   ┆ ---    ┆ ---      │\n",
       "│ str                             ┆ str    ┆ f64  ┆ f64      ┆ str   ┆ i64    ┆ i64      │\n",
       "╞═════════════════════════════════╪════════╪══════╪══════════╪═══════╪════════╪══════════╡\n",
       "│ Abbott, Mrs. Stanton (Rosa Hun… ┆ female ┆ 35.0 ┆ 20.25    ┆ null  ┆ 3      ┆ 1        │\n",
       "│ Allen, Mr. William Henry        ┆ male   ┆ 35.0 ┆ 8.05     ┆ null  ┆ 3      ┆ 0        │\n",
       "│ Asim, Mr. Adola                 ┆ male   ┆ 35.0 ┆ 7.05     ┆ null  ┆ 3      ┆ 0        │\n",
       "│ Bissette, Miss. Amelia          ┆ female ┆ 35.0 ┆ 135.6333 ┆ C99   ┆ 1      ┆ 1        │\n",
       "│ Brocklebank, Mr. William Alfre… ┆ male   ┆ 35.0 ┆ 8.05     ┆ null  ┆ 3      ┆ 0        │\n",
       "└─────────────────────────────────┴────────┴──────┴──────────┴───────┴────────┴──────────┘"
      ]
     },
     "execution_count": 211,
     "metadata": {},
     "output_type": "execute_result"
    }
   ],
   "source": [
    "df = (\n",
    "    df\n",
    "    .select(cols)\n",
    "    .filter(pl.col('Age')>=35)\n",
    "    .sort(by=['Age', 'Name'])\n",
    ")\n",
    "df.head()"
   ]
  },
  {
   "cell_type": "code",
   "execution_count": 212,
   "metadata": {},
   "outputs": [
    {
     "data": {
      "text/html": [
       "<div><style>\n",
       ".dataframe > thead > tr,\n",
       ".dataframe > tbody > tr {\n",
       "  text-align: right;\n",
       "  white-space: pre-wrap;\n",
       "}\n",
       "</style>\n",
       "<small>shape: (5, 7)</small><table border=\"1\" class=\"dataframe\"><thead><tr><th>Name</th><th>Sex</th><th>Age</th><th>Fare</th><th>Cabin</th><th>Pclass</th><th>Survived</th></tr><tr><td>str</td><td>str</td><td>f64</td><td>f64</td><td>str</td><td>i64</td><td>i64</td></tr></thead><tbody><tr><td>&quot;Abbott, Mrs. Stanton (Rosa Hun…</td><td>&quot;female&quot;</td><td>35.0</td><td>20.25</td><td>null</td><td>3</td><td>1</td></tr><tr><td>&quot;Allen, Mr. William Henry&quot;</td><td>&quot;male&quot;</td><td>35.0</td><td>8.05</td><td>null</td><td>3</td><td>0</td></tr><tr><td>&quot;Asim, Mr. Adola&quot;</td><td>&quot;male&quot;</td><td>35.0</td><td>7.05</td><td>null</td><td>3</td><td>0</td></tr><tr><td>&quot;Bissette, Miss. Amelia&quot;</td><td>&quot;female&quot;</td><td>35.0</td><td>135.6333</td><td>&quot;C99&quot;</td><td>1</td><td>1</td></tr><tr><td>&quot;Brocklebank, Mr. William Alfre…</td><td>&quot;male&quot;</td><td>35.0</td><td>8.05</td><td>null</td><td>3</td><td>0</td></tr></tbody></table></div>"
      ],
      "text/plain": [
       "shape: (5, 7)\n",
       "┌─────────────────────────────────┬────────┬──────┬──────────┬───────┬────────┬──────────┐\n",
       "│ Name                            ┆ Sex    ┆ Age  ┆ Fare     ┆ Cabin ┆ Pclass ┆ Survived │\n",
       "│ ---                             ┆ ---    ┆ ---  ┆ ---      ┆ ---   ┆ ---    ┆ ---      │\n",
       "│ str                             ┆ str    ┆ f64  ┆ f64      ┆ str   ┆ i64    ┆ i64      │\n",
       "╞═════════════════════════════════╪════════╪══════╪══════════╪═══════╪════════╪══════════╡\n",
       "│ Abbott, Mrs. Stanton (Rosa Hun… ┆ female ┆ 35.0 ┆ 20.25    ┆ null  ┆ 3      ┆ 1        │\n",
       "│ Allen, Mr. William Henry        ┆ male   ┆ 35.0 ┆ 8.05     ┆ null  ┆ 3      ┆ 0        │\n",
       "│ Asim, Mr. Adola                 ┆ male   ┆ 35.0 ┆ 7.05     ┆ null  ┆ 3      ┆ 0        │\n",
       "│ Bissette, Miss. Amelia          ┆ female ┆ 35.0 ┆ 135.6333 ┆ C99   ┆ 1      ┆ 1        │\n",
       "│ Brocklebank, Mr. William Alfre… ┆ male   ┆ 35.0 ┆ 8.05     ┆ null  ┆ 3      ┆ 0        │\n",
       "└─────────────────────────────────┴────────┴──────┴──────────┴───────┴────────┴──────────┘"
      ]
     },
     "execution_count": 212,
     "metadata": {},
     "output_type": "execute_result"
    }
   ],
   "source": [
    "df = (\n",
    "    df\n",
    "    .select(cols)\n",
    "    # .filter(pl.col('Age')>=35)\n",
    "    .sort(by=['Age', 'Name'])\n",
    ")\n",
    "df.head()"
   ]
  },
  {
   "cell_type": "markdown",
   "metadata": {},
   "source": [
    "### There is more..."
   ]
  },
  {
   "cell_type": "code",
   "execution_count": 213,
   "metadata": {},
   "outputs": [],
   "source": [
    "df = df \\\n",
    "    .select(cols) \\\n",
    "    .filter(pl.col('Age')>=35) \\\n",
    "    .sort(by=['Age', 'Name']) "
   ]
  },
  {
   "cell_type": "markdown",
   "metadata": {},
   "source": [
    "## Processing datasets larger than RAM"
   ]
  },
  {
   "cell_type": "code",
   "execution_count": 214,
   "metadata": {},
   "outputs": [],
   "source": [
    "import polars as pl "
   ]
  },
  {
   "cell_type": "code",
   "execution_count": 215,
   "metadata": {},
   "outputs": [
    {
     "data": {
      "text/html": [
       "<div><style>\n",
       ".dataframe > thead > tr,\n",
       ".dataframe > tbody > tr {\n",
       "  text-align: right;\n",
       "  white-space: pre-wrap;\n",
       "}\n",
       "</style>\n",
       "<small>shape: (5, 23)</small><table border=\"1\" class=\"dataframe\"><thead><tr><th>trip_id</th><th>taxi_id</th><th>trip_start_timestamp</th><th>trip_end_timestamp</th><th>trip_seconds</th><th>trip_miles</th><th>pickup_community_area</th><th>dropoff_community_area</th><th>fare</th><th>tips</th><th>tolls</th><th>extras</th><th>trip_total</th><th>payment_type</th><th>company</th><th>pickup_centroid_latitude</th><th>pickup_centroid_longitude</th><th>pickup_centroid_location</th><th>dropoff_centroid_latitude</th><th>dropoff_centroid_longitude</th><th>dropoff_centroid_location</th><th>pickup_census_tract</th><th>dropoff_census_tract</th></tr><tr><td>str</td><td>str</td><td>str</td><td>str</td><td>str</td><td>str</td><td>str</td><td>str</td><td>str</td><td>str</td><td>str</td><td>str</td><td>str</td><td>str</td><td>str</td><td>str</td><td>str</td><td>struct[2]</td><td>str</td><td>str</td><td>struct[2]</td><td>str</td><td>str</td></tr></thead><tbody><tr><td>&quot;604c104c64de68af93a0f69ed52ba5…</td><td>&quot;d3b33673ee1a39325983e66d426003…</td><td>&quot;2025-01-01T00:00:00.000&quot;</td><td>&quot;2025-01-01T00:30:00.000&quot;</td><td>&quot;1920&quot;</td><td>&quot;8&quot;</td><td>&quot;41&quot;</td><td>&quot;43&quot;</td><td>&quot;25.5&quot;</td><td>&quot;0&quot;</td><td>&quot;0&quot;</td><td>&quot;0&quot;</td><td>&quot;25.5&quot;</td><td>&quot;Unknown&quot;</td><td>&quot;Taxi Affiliation Services&quot;</td><td>&quot;41.794090253&quot;</td><td>&quot;-87.592310855&quot;</td><td>{&quot;Point&quot;,[-87.592311, 41.79409]}</td><td>&quot;41.761577908&quot;</td><td>&quot;-87.572781987&quot;</td><td>{&quot;Point&quot;,[-87.572782, 41.761578]}</td><td>null</td><td>null</td></tr><tr><td>&quot;eadda0d366a84b7b7d705ac0bd93cd…</td><td>&quot;52c3ffa685a3b5ced3d16461deec5a…</td><td>&quot;2025-01-01T00:00:00.000&quot;</td><td>&quot;2025-01-01T00:30:00.000&quot;</td><td>&quot;1512&quot;</td><td>&quot;19.08&quot;</td><td>&quot;76&quot;</td><td>&quot;28&quot;</td><td>&quot;46.75&quot;</td><td>&quot;5&quot;</td><td>&quot;0&quot;</td><td>&quot;5.5&quot;</td><td>&quot;57.75&quot;</td><td>&quot;Credit Card&quot;</td><td>&quot;Sun Taxi&quot;</td><td>&quot;41.980264315&quot;</td><td>&quot;-87.913624596&quot;</td><td>{&quot;Point&quot;,[-87.913625, 41.980264]}</td><td>&quot;41.874005383&quot;</td><td>&quot;-87.66351755&quot;</td><td>{&quot;Point&quot;,[-87.663518, 41.874005]}</td><td>null</td><td>null</td></tr><tr><td>&quot;9196437a32265173310df6bcb0a964…</td><td>&quot;da31cff8b8ee7eb6f5a94a452ebfb7…</td><td>&quot;2025-01-01T00:00:00.000&quot;</td><td>&quot;2025-01-01T00:30:00.000&quot;</td><td>&quot;1979&quot;</td><td>&quot;25.96&quot;</td><td>&quot;76&quot;</td><td>&quot;41&quot;</td><td>&quot;62&quot;</td><td>&quot;10.12&quot;</td><td>&quot;0&quot;</td><td>&quot;5&quot;</td><td>&quot;77.62&quot;</td><td>&quot;Credit Card&quot;</td><td>&quot;Medallion Leasin&quot;</td><td>&quot;41.980264315&quot;</td><td>&quot;-87.913624596&quot;</td><td>{&quot;Point&quot;,[-87.913625, 41.980264]}</td><td>&quot;41.794090253&quot;</td><td>&quot;-87.592310855&quot;</td><td>{&quot;Point&quot;,[-87.592311, 41.79409]}</td><td>null</td><td>null</td></tr><tr><td>&quot;defd0751ba153874755a8ff0cf0ea1…</td><td>&quot;f35fcc7d28fd3ca0324ad6b42c6bf1…</td><td>&quot;2025-01-01T00:00:00.000&quot;</td><td>&quot;2025-01-01T00:00:00.000&quot;</td><td>&quot;216&quot;</td><td>&quot;0.5&quot;</td><td>&quot;6&quot;</td><td>&quot;6&quot;</td><td>&quot;4.5&quot;</td><td>&quot;3&quot;</td><td>&quot;0&quot;</td><td>&quot;0&quot;</td><td>&quot;8&quot;</td><td>&quot;Credit Card&quot;</td><td>&quot;Medallion Leasin&quot;</td><td>&quot;41.944226601&quot;</td><td>&quot;-87.655998182&quot;</td><td>{&quot;Point&quot;,[-87.655998, 41.944227]}</td><td>&quot;41.944226601&quot;</td><td>&quot;-87.655998182&quot;</td><td>{&quot;Point&quot;,[-87.655998, 41.944227]}</td><td>null</td><td>null</td></tr><tr><td>&quot;a9adc9d11a8a4328560437bec5f5df…</td><td>&quot;90800746da6ccbc73d3233fe1e5f87…</td><td>&quot;2025-01-01T00:00:00.000&quot;</td><td>&quot;2025-01-01T00:15:00.000&quot;</td><td>&quot;1560&quot;</td><td>&quot;17.7&quot;</td><td>&quot;76&quot;</td><td>&quot;32&quot;</td><td>&quot;44&quot;</td><td>&quot;10&quot;</td><td>&quot;0&quot;</td><td>&quot;5&quot;</td><td>&quot;59&quot;</td><td>&quot;Credit Card&quot;</td><td>&quot;Taxi Affiliation Services&quot;</td><td>&quot;41.980264315&quot;</td><td>&quot;-87.913624596&quot;</td><td>{&quot;Point&quot;,[-87.913625, 41.980264]}</td><td>&quot;41.878865584&quot;</td><td>&quot;-87.625192142&quot;</td><td>{&quot;Point&quot;,[-87.625192, 41.878866]}</td><td>null</td><td>null</td></tr></tbody></table></div>"
      ],
      "text/plain": [
       "shape: (5, 23)\n",
       "┌───────────┬───────────┬───────────┬───────────┬───┬───────────┬───────────┬───────────┬──────────┐\n",
       "│ trip_id   ┆ taxi_id   ┆ trip_star ┆ trip_end_ ┆ … ┆ dropoff_c ┆ dropoff_c ┆ pickup_ce ┆ dropoff_ │\n",
       "│ ---       ┆ ---       ┆ t_timesta ┆ timestamp ┆   ┆ entroid_l ┆ entroid_l ┆ nsus_trac ┆ census_t │\n",
       "│ str       ┆ str       ┆ mp        ┆ ---       ┆   ┆ ongitude  ┆ ocation   ┆ t         ┆ ract     │\n",
       "│           ┆           ┆ ---       ┆ str       ┆   ┆ ---       ┆ ---       ┆ ---       ┆ ---      │\n",
       "│           ┆           ┆ str       ┆           ┆   ┆ str       ┆ struct[2] ┆ str       ┆ str      │\n",
       "╞═══════════╪═══════════╪═══════════╪═══════════╪═══╪═══════════╪═══════════╪═══════════╪══════════╡\n",
       "│ 604c104c6 ┆ d3b33673e ┆ 2025-01-0 ┆ 2025-01-0 ┆ … ┆ -87.57278 ┆ {\"Point\", ┆ null      ┆ null     │\n",
       "│ 4de68af93 ┆ e1a393259 ┆ 1T00:00:0 ┆ 1T00:30:0 ┆   ┆ 1987      ┆ [-87.5727 ┆           ┆          │\n",
       "│ a0f69ed52 ┆ 83e66d426 ┆ 0.000     ┆ 0.000     ┆   ┆           ┆ 82,       ┆           ┆          │\n",
       "│ ba5…      ┆ 003…      ┆           ┆           ┆   ┆           ┆ 41.76157… ┆           ┆          │\n",
       "│ eadda0d36 ┆ 52c3ffa68 ┆ 2025-01-0 ┆ 2025-01-0 ┆ … ┆ -87.66351 ┆ {\"Point\", ┆ null      ┆ null     │\n",
       "│ 6a84b7b7d ┆ 5a3b5ced3 ┆ 1T00:00:0 ┆ 1T00:30:0 ┆   ┆ 755       ┆ [-87.6635 ┆           ┆          │\n",
       "│ 705ac0bd9 ┆ d16461dee ┆ 0.000     ┆ 0.000     ┆   ┆           ┆ 18,       ┆           ┆          │\n",
       "│ 3cd…      ┆ c5a…      ┆           ┆           ┆   ┆           ┆ 41.87400… ┆           ┆          │\n",
       "│ 9196437a3 ┆ da31cff8b ┆ 2025-01-0 ┆ 2025-01-0 ┆ … ┆ -87.59231 ┆ {\"Point\", ┆ null      ┆ null     │\n",
       "│ 226517331 ┆ 8ee7eb6f5 ┆ 1T00:00:0 ┆ 1T00:30:0 ┆   ┆ 0855      ┆ [-87.5923 ┆           ┆          │\n",
       "│ 0df6bcb0a ┆ a94a452eb ┆ 0.000     ┆ 0.000     ┆   ┆           ┆ 11,       ┆           ┆          │\n",
       "│ 964…      ┆ fb7…      ┆           ┆           ┆   ┆           ┆ 41.79409… ┆           ┆          │\n",
       "│ defd0751b ┆ f35fcc7d2 ┆ 2025-01-0 ┆ 2025-01-0 ┆ … ┆ -87.65599 ┆ {\"Point\", ┆ null      ┆ null     │\n",
       "│ a15387475 ┆ 8fd3ca032 ┆ 1T00:00:0 ┆ 1T00:00:0 ┆   ┆ 8182      ┆ [-87.6559 ┆           ┆          │\n",
       "│ 5a8ff0cf0 ┆ 4ad6b42c6 ┆ 0.000     ┆ 0.000     ┆   ┆           ┆ 98,       ┆           ┆          │\n",
       "│ ea1…      ┆ bf1…      ┆           ┆           ┆   ┆           ┆ 41.94422… ┆           ┆          │\n",
       "│ a9adc9d11 ┆ 90800746d ┆ 2025-01-0 ┆ 2025-01-0 ┆ … ┆ -87.62519 ┆ {\"Point\", ┆ null      ┆ null     │\n",
       "│ a8a432856 ┆ a6ccbc73d ┆ 1T00:00:0 ┆ 1T00:15:0 ┆   ┆ 2142      ┆ [-87.6251 ┆           ┆          │\n",
       "│ 0437bec5f ┆ 3233fe1e5 ┆ 0.000     ┆ 0.000     ┆   ┆           ┆ 92,       ┆           ┆          │\n",
       "│ 5df…      ┆ f87…      ┆           ┆           ┆   ┆           ┆ 41.87886… ┆           ┆          │\n",
       "└───────────┴───────────┴───────────┴───────────┴───┴───────────┴───────────┴───────────┴──────────┘"
      ]
     },
     "execution_count": 215,
     "metadata": {},
     "output_type": "execute_result"
    }
   ],
   "source": [
    "import requests\n",
    "import polars as pl\n",
    "\n",
    "url = \"https://data.cityofchicago.org/resource/ajtu-isnz.json?$limit=1000\"\n",
    "response = requests.get(url)\n",
    "data = response.json()\n",
    "\n",
    "df = pl.DataFrame(data)\n",
    "df.head()\n",
    "url = \"https://data.cityofchicago.org/resource/ajtu-isnz.json?$limit=1000&$offset={}\"\n",
    "offset = 0\n",
    "all_data = []\n",
    "\n",
    "# Define the schema to ensure consistency\n",
    "schema = df.schema\n",
    "\n",
    "while offset < 2000:\n",
    "    response = requests.get(url.format(offset))\n",
    "    data = response.json()\n",
    "    if not data:\n",
    "        break\n",
    "    df_chunk = pl.DataFrame(data, schema=schema)\n",
    "    all_data.append(df_chunk)\n",
    "    offset += 1000\n",
    "\n",
    "df = pl.concat(all_data)\n",
    "df.head()"
   ]
  },
  {
   "cell_type": "code",
   "execution_count": 216,
   "metadata": {},
   "outputs": [
    {
     "data": {
      "text/html": [
       "<div><style>\n",
       ".dataframe > thead > tr,\n",
       ".dataframe > tbody > tr {\n",
       "  text-align: right;\n",
       "  white-space: pre-wrap;\n",
       "}\n",
       "</style>\n",
       "<small>shape: (100, 23)</small><table border=\"1\" class=\"dataframe\"><thead><tr><th>trip_id</th><th>taxi_id</th><th>trip_start_timestamp</th><th>trip_end_timestamp</th><th>trip_seconds</th><th>trip_miles</th><th>pickup_community_area</th><th>dropoff_community_area</th><th>fare</th><th>tips</th><th>tolls</th><th>extras</th><th>trip_total</th><th>payment_type</th><th>company</th><th>pickup_centroid_latitude</th><th>pickup_centroid_longitude</th><th>pickup_centroid_location</th><th>dropoff_centroid_latitude</th><th>dropoff_centroid_longitude</th><th>dropoff_centroid_location</th><th>pickup_census_tract</th><th>dropoff_census_tract</th></tr><tr><td>str</td><td>str</td><td>str</td><td>str</td><td>str</td><td>str</td><td>str</td><td>str</td><td>str</td><td>str</td><td>str</td><td>str</td><td>str</td><td>str</td><td>str</td><td>str</td><td>str</td><td>struct[2]</td><td>str</td><td>str</td><td>struct[2]</td><td>str</td><td>str</td></tr></thead><tbody><tr><td>&quot;604c104c64de68af93a0f69ed52ba5…</td><td>&quot;d3b33673ee1a39325983e66d426003…</td><td>&quot;2025-01-01T00:00:00.000&quot;</td><td>&quot;2025-01-01T00:30:00.000&quot;</td><td>&quot;1920&quot;</td><td>&quot;8&quot;</td><td>&quot;41&quot;</td><td>&quot;43&quot;</td><td>&quot;25.5&quot;</td><td>&quot;0&quot;</td><td>&quot;0&quot;</td><td>&quot;0&quot;</td><td>&quot;25.5&quot;</td><td>&quot;Unknown&quot;</td><td>&quot;Taxi Affiliation Services&quot;</td><td>&quot;41.794090253&quot;</td><td>&quot;-87.592310855&quot;</td><td>{&quot;Point&quot;,[-87.592311, 41.79409]}</td><td>&quot;41.761577908&quot;</td><td>&quot;-87.572781987&quot;</td><td>{&quot;Point&quot;,[-87.572782, 41.761578]}</td><td>null</td><td>null</td></tr><tr><td>&quot;eadda0d366a84b7b7d705ac0bd93cd…</td><td>&quot;52c3ffa685a3b5ced3d16461deec5a…</td><td>&quot;2025-01-01T00:00:00.000&quot;</td><td>&quot;2025-01-01T00:30:00.000&quot;</td><td>&quot;1512&quot;</td><td>&quot;19.08&quot;</td><td>&quot;76&quot;</td><td>&quot;28&quot;</td><td>&quot;46.75&quot;</td><td>&quot;5&quot;</td><td>&quot;0&quot;</td><td>&quot;5.5&quot;</td><td>&quot;57.75&quot;</td><td>&quot;Credit Card&quot;</td><td>&quot;Sun Taxi&quot;</td><td>&quot;41.980264315&quot;</td><td>&quot;-87.913624596&quot;</td><td>{&quot;Point&quot;,[-87.913625, 41.980264]}</td><td>&quot;41.874005383&quot;</td><td>&quot;-87.66351755&quot;</td><td>{&quot;Point&quot;,[-87.663518, 41.874005]}</td><td>null</td><td>null</td></tr><tr><td>&quot;9196437a32265173310df6bcb0a964…</td><td>&quot;da31cff8b8ee7eb6f5a94a452ebfb7…</td><td>&quot;2025-01-01T00:00:00.000&quot;</td><td>&quot;2025-01-01T00:30:00.000&quot;</td><td>&quot;1979&quot;</td><td>&quot;25.96&quot;</td><td>&quot;76&quot;</td><td>&quot;41&quot;</td><td>&quot;62&quot;</td><td>&quot;10.12&quot;</td><td>&quot;0&quot;</td><td>&quot;5&quot;</td><td>&quot;77.62&quot;</td><td>&quot;Credit Card&quot;</td><td>&quot;Medallion Leasin&quot;</td><td>&quot;41.980264315&quot;</td><td>&quot;-87.913624596&quot;</td><td>{&quot;Point&quot;,[-87.913625, 41.980264]}</td><td>&quot;41.794090253&quot;</td><td>&quot;-87.592310855&quot;</td><td>{&quot;Point&quot;,[-87.592311, 41.79409]}</td><td>null</td><td>null</td></tr><tr><td>&quot;defd0751ba153874755a8ff0cf0ea1…</td><td>&quot;f35fcc7d28fd3ca0324ad6b42c6bf1…</td><td>&quot;2025-01-01T00:00:00.000&quot;</td><td>&quot;2025-01-01T00:00:00.000&quot;</td><td>&quot;216&quot;</td><td>&quot;0.5&quot;</td><td>&quot;6&quot;</td><td>&quot;6&quot;</td><td>&quot;4.5&quot;</td><td>&quot;3&quot;</td><td>&quot;0&quot;</td><td>&quot;0&quot;</td><td>&quot;8&quot;</td><td>&quot;Credit Card&quot;</td><td>&quot;Medallion Leasin&quot;</td><td>&quot;41.944226601&quot;</td><td>&quot;-87.655998182&quot;</td><td>{&quot;Point&quot;,[-87.655998, 41.944227]}</td><td>&quot;41.944226601&quot;</td><td>&quot;-87.655998182&quot;</td><td>{&quot;Point&quot;,[-87.655998, 41.944227]}</td><td>null</td><td>null</td></tr><tr><td>&quot;a9adc9d11a8a4328560437bec5f5df…</td><td>&quot;90800746da6ccbc73d3233fe1e5f87…</td><td>&quot;2025-01-01T00:00:00.000&quot;</td><td>&quot;2025-01-01T00:15:00.000&quot;</td><td>&quot;1560&quot;</td><td>&quot;17.7&quot;</td><td>&quot;76&quot;</td><td>&quot;32&quot;</td><td>&quot;44&quot;</td><td>&quot;10&quot;</td><td>&quot;0&quot;</td><td>&quot;5&quot;</td><td>&quot;59&quot;</td><td>&quot;Credit Card&quot;</td><td>&quot;Taxi Affiliation Services&quot;</td><td>&quot;41.980264315&quot;</td><td>&quot;-87.913624596&quot;</td><td>{&quot;Point&quot;,[-87.913625, 41.980264]}</td><td>&quot;41.878865584&quot;</td><td>&quot;-87.625192142&quot;</td><td>{&quot;Point&quot;,[-87.625192, 41.878866]}</td><td>null</td><td>null</td></tr><tr><td>&hellip;</td><td>&hellip;</td><td>&hellip;</td><td>&hellip;</td><td>&hellip;</td><td>&hellip;</td><td>&hellip;</td><td>&hellip;</td><td>&hellip;</td><td>&hellip;</td><td>&hellip;</td><td>&hellip;</td><td>&hellip;</td><td>&hellip;</td><td>&hellip;</td><td>&hellip;</td><td>&hellip;</td><td>&hellip;</td><td>&hellip;</td><td>&hellip;</td><td>&hellip;</td><td>&hellip;</td><td>&hellip;</td></tr><tr><td>&quot;30d9e6f21edb8d85f9514a6d12ea20…</td><td>&quot;f28eac472760f6ca222e401b7b9f02…</td><td>&quot;2024-12-31T23:30:00.000&quot;</td><td>&quot;2025-01-01T00:00:00.000&quot;</td><td>&quot;1741&quot;</td><td>&quot;14.61&quot;</td><td>&quot;56&quot;</td><td>&quot;22&quot;</td><td>&quot;38.25&quot;</td><td>&quot;0&quot;</td><td>&quot;0&quot;</td><td>&quot;5&quot;</td><td>&quot;43.25&quot;</td><td>&quot;Cash&quot;</td><td>&quot;Wolley Taxi&quot;</td><td>&quot;41.79259236&quot;</td><td>&quot;-87.769615453&quot;</td><td>{&quot;Point&quot;,[-87.769615, 41.792592]}</td><td>&quot;41.92276062&quot;</td><td>&quot;-87.699155343&quot;</td><td>{&quot;Point&quot;,[-87.699155, 41.922761]}</td><td>null</td><td>null</td></tr><tr><td>&quot;63fe3a7060e8658528db1658d409cb…</td><td>&quot;4ba3690e7f7bde263c96de93e97af2…</td><td>&quot;2024-12-31T23:30:00.000&quot;</td><td>&quot;2024-12-31T23:45:00.000&quot;</td><td>&quot;1162&quot;</td><td>&quot;13.45&quot;</td><td>&quot;30&quot;</td><td>&quot;69&quot;</td><td>&quot;33.68&quot;</td><td>&quot;0&quot;</td><td>&quot;0&quot;</td><td>&quot;0&quot;</td><td>&quot;33.68&quot;</td><td>&quot;Cash&quot;</td><td>&quot;Flash Cab&quot;</td><td>&quot;41.839086906&quot;</td><td>&quot;-87.714003807&quot;</td><td>{&quot;Point&quot;,[-87.714004, 41.839087]}</td><td>&quot;41.763246799&quot;</td><td>&quot;-87.616134111&quot;</td><td>{&quot;Point&quot;,[-87.616134, 41.763247]}</td><td>null</td><td>null</td></tr><tr><td>&quot;8dd832b0456db3e2ab3ec2842a590f…</td><td>&quot;bb44c202e4e69e7f744256b9d024b4…</td><td>&quot;2024-12-31T23:30:00.000&quot;</td><td>&quot;2024-12-31T23:30:00.000&quot;</td><td>&quot;6&quot;</td><td>&quot;0&quot;</td><td>&quot;4&quot;</td><td>&quot;4&quot;</td><td>&quot;3.25&quot;</td><td>&quot;0&quot;</td><td>&quot;0&quot;</td><td>&quot;0&quot;</td><td>&quot;3.25&quot;</td><td>&quot;Cash&quot;</td><td>&quot;Taxicab Insurance Agency Llc&quot;</td><td>&quot;41.975170943&quot;</td><td>&quot;-87.687515515&quot;</td><td>{&quot;Point&quot;,[-87.687516, 41.975171]}</td><td>&quot;41.975170943&quot;</td><td>&quot;-87.687515515&quot;</td><td>{&quot;Point&quot;,[-87.687516, 41.975171]}</td><td>null</td><td>null</td></tr><tr><td>&quot;d5571d7f230eb90b9621610712ea44…</td><td>&quot;864e0bed592c7a476208dbb4d719f8…</td><td>&quot;2024-12-31T23:30:00.000&quot;</td><td>&quot;2024-12-31T23:45:00.000&quot;</td><td>&quot;931&quot;</td><td>&quot;0.71&quot;</td><td>&quot;32&quot;</td><td>&quot;32&quot;</td><td>&quot;11&quot;</td><td>&quot;0&quot;</td><td>&quot;0&quot;</td><td>&quot;0&quot;</td><td>&quot;11&quot;</td><td>&quot;Mobile&quot;</td><td>&quot;Flash Cab&quot;</td><td>&quot;41.880994471&quot;</td><td>&quot;-87.632746489&quot;</td><td>{&quot;Point&quot;,[-87.632746, 41.880994]}</td><td>&quot;41.880994471&quot;</td><td>&quot;-87.632746489&quot;</td><td>{&quot;Point&quot;,[-87.632746, 41.880994]}</td><td>&quot;17031839100&quot;</td><td>&quot;17031839100&quot;</td></tr><tr><td>&quot;61eafd46253b9553d59635d9a76bf3…</td><td>&quot;be435bc4d6744155b3272e9edded01…</td><td>&quot;2024-12-31T23:30:00.000&quot;</td><td>&quot;2024-12-31T23:45:00.000&quot;</td><td>&quot;989&quot;</td><td>&quot;3.17&quot;</td><td>&quot;6&quot;</td><td>&quot;8&quot;</td><td>&quot;12.25&quot;</td><td>&quot;0&quot;</td><td>&quot;0&quot;</td><td>&quot;0&quot;</td><td>&quot;12.25&quot;</td><td>&quot;Cash&quot;</td><td>&quot;Medallion Leasin&quot;</td><td>&quot;41.944226601&quot;</td><td>&quot;-87.655998182&quot;</td><td>{&quot;Point&quot;,[-87.655998, 41.944227]}</td><td>&quot;41.899602111&quot;</td><td>&quot;-87.633308037&quot;</td><td>{&quot;Point&quot;,[-87.633308, 41.899602]}</td><td>null</td><td>null</td></tr></tbody></table></div>"
      ],
      "text/plain": [
       "shape: (100, 23)\n",
       "┌───────────┬───────────┬───────────┬───────────┬───┬───────────┬───────────┬───────────┬──────────┐\n",
       "│ trip_id   ┆ taxi_id   ┆ trip_star ┆ trip_end_ ┆ … ┆ dropoff_c ┆ dropoff_c ┆ pickup_ce ┆ dropoff_ │\n",
       "│ ---       ┆ ---       ┆ t_timesta ┆ timestamp ┆   ┆ entroid_l ┆ entroid_l ┆ nsus_trac ┆ census_t │\n",
       "│ str       ┆ str       ┆ mp        ┆ ---       ┆   ┆ ongitude  ┆ ocation   ┆ t         ┆ ract     │\n",
       "│           ┆           ┆ ---       ┆ str       ┆   ┆ ---       ┆ ---       ┆ ---       ┆ ---      │\n",
       "│           ┆           ┆ str       ┆           ┆   ┆ str       ┆ struct[2] ┆ str       ┆ str      │\n",
       "╞═══════════╪═══════════╪═══════════╪═══════════╪═══╪═══════════╪═══════════╪═══════════╪══════════╡\n",
       "│ 604c104c6 ┆ d3b33673e ┆ 2025-01-0 ┆ 2025-01-0 ┆ … ┆ -87.57278 ┆ {\"Point\", ┆ null      ┆ null     │\n",
       "│ 4de68af93 ┆ e1a393259 ┆ 1T00:00:0 ┆ 1T00:30:0 ┆   ┆ 1987      ┆ [-87.5727 ┆           ┆          │\n",
       "│ a0f69ed52 ┆ 83e66d426 ┆ 0.000     ┆ 0.000     ┆   ┆           ┆ 82,       ┆           ┆          │\n",
       "│ ba5…      ┆ 003…      ┆           ┆           ┆   ┆           ┆ 41.76157… ┆           ┆          │\n",
       "│ eadda0d36 ┆ 52c3ffa68 ┆ 2025-01-0 ┆ 2025-01-0 ┆ … ┆ -87.66351 ┆ {\"Point\", ┆ null      ┆ null     │\n",
       "│ 6a84b7b7d ┆ 5a3b5ced3 ┆ 1T00:00:0 ┆ 1T00:30:0 ┆   ┆ 755       ┆ [-87.6635 ┆           ┆          │\n",
       "│ 705ac0bd9 ┆ d16461dee ┆ 0.000     ┆ 0.000     ┆   ┆           ┆ 18,       ┆           ┆          │\n",
       "│ 3cd…      ┆ c5a…      ┆           ┆           ┆   ┆           ┆ 41.87400… ┆           ┆          │\n",
       "│ 9196437a3 ┆ da31cff8b ┆ 2025-01-0 ┆ 2025-01-0 ┆ … ┆ -87.59231 ┆ {\"Point\", ┆ null      ┆ null     │\n",
       "│ 226517331 ┆ 8ee7eb6f5 ┆ 1T00:00:0 ┆ 1T00:30:0 ┆   ┆ 0855      ┆ [-87.5923 ┆           ┆          │\n",
       "│ 0df6bcb0a ┆ a94a452eb ┆ 0.000     ┆ 0.000     ┆   ┆           ┆ 11,       ┆           ┆          │\n",
       "│ 964…      ┆ fb7…      ┆           ┆           ┆   ┆           ┆ 41.79409… ┆           ┆          │\n",
       "│ defd0751b ┆ f35fcc7d2 ┆ 2025-01-0 ┆ 2025-01-0 ┆ … ┆ -87.65599 ┆ {\"Point\", ┆ null      ┆ null     │\n",
       "│ a15387475 ┆ 8fd3ca032 ┆ 1T00:00:0 ┆ 1T00:00:0 ┆   ┆ 8182      ┆ [-87.6559 ┆           ┆          │\n",
       "│ 5a8ff0cf0 ┆ 4ad6b42c6 ┆ 0.000     ┆ 0.000     ┆   ┆           ┆ 98,       ┆           ┆          │\n",
       "│ ea1…      ┆ bf1…      ┆           ┆           ┆   ┆           ┆ 41.94422… ┆           ┆          │\n",
       "│ a9adc9d11 ┆ 90800746d ┆ 2025-01-0 ┆ 2025-01-0 ┆ … ┆ -87.62519 ┆ {\"Point\", ┆ null      ┆ null     │\n",
       "│ a8a432856 ┆ a6ccbc73d ┆ 1T00:00:0 ┆ 1T00:15:0 ┆   ┆ 2142      ┆ [-87.6251 ┆           ┆          │\n",
       "│ 0437bec5f ┆ 3233fe1e5 ┆ 0.000     ┆ 0.000     ┆   ┆           ┆ 92,       ┆           ┆          │\n",
       "│ 5df…      ┆ f87…      ┆           ┆           ┆   ┆           ┆ 41.87886… ┆           ┆          │\n",
       "│ …         ┆ …         ┆ …         ┆ …         ┆ … ┆ …         ┆ …         ┆ …         ┆ …        │\n",
       "│ 30d9e6f21 ┆ f28eac472 ┆ 2024-12-3 ┆ 2025-01-0 ┆ … ┆ -87.69915 ┆ {\"Point\", ┆ null      ┆ null     │\n",
       "│ edb8d85f9 ┆ 760f6ca22 ┆ 1T23:30:0 ┆ 1T00:00:0 ┆   ┆ 5343      ┆ [-87.6991 ┆           ┆          │\n",
       "│ 514a6d12e ┆ 2e401b7b9 ┆ 0.000     ┆ 0.000     ┆   ┆           ┆ 55,       ┆           ┆          │\n",
       "│ a20…      ┆ f02…      ┆           ┆           ┆   ┆           ┆ 41.92276… ┆           ┆          │\n",
       "│ 63fe3a706 ┆ 4ba3690e7 ┆ 2024-12-3 ┆ 2024-12-3 ┆ … ┆ -87.61613 ┆ {\"Point\", ┆ null      ┆ null     │\n",
       "│ 0e8658528 ┆ f7bde263c ┆ 1T23:30:0 ┆ 1T23:45:0 ┆   ┆ 4111      ┆ [-87.6161 ┆           ┆          │\n",
       "│ db1658d40 ┆ 96de93e97 ┆ 0.000     ┆ 0.000     ┆   ┆           ┆ 34,       ┆           ┆          │\n",
       "│ 9cb…      ┆ af2…      ┆           ┆           ┆   ┆           ┆ 41.76324… ┆           ┆          │\n",
       "│ 8dd832b04 ┆ bb44c202e ┆ 2024-12-3 ┆ 2024-12-3 ┆ … ┆ -87.68751 ┆ {\"Point\", ┆ null      ┆ null     │\n",
       "│ 56db3e2ab ┆ 4e69e7f74 ┆ 1T23:30:0 ┆ 1T23:30:0 ┆   ┆ 5515      ┆ [-87.6875 ┆           ┆          │\n",
       "│ 3ec2842a5 ┆ 4256b9d02 ┆ 0.000     ┆ 0.000     ┆   ┆           ┆ 16,       ┆           ┆          │\n",
       "│ 90f…      ┆ 4b4…      ┆           ┆           ┆   ┆           ┆ 41.97517… ┆           ┆          │\n",
       "│ d5571d7f2 ┆ 864e0bed5 ┆ 2024-12-3 ┆ 2024-12-3 ┆ … ┆ -87.63274 ┆ {\"Point\", ┆ 170318391 ┆ 17031839 │\n",
       "│ 30eb90b96 ┆ 92c7a4762 ┆ 1T23:30:0 ┆ 1T23:45:0 ┆   ┆ 6489      ┆ [-87.6327 ┆ 00        ┆ 100      │\n",
       "│ 21610712e ┆ 08dbb4d71 ┆ 0.000     ┆ 0.000     ┆   ┆           ┆ 46,       ┆           ┆          │\n",
       "│ a44…      ┆ 9f8…      ┆           ┆           ┆   ┆           ┆ 41.88099… ┆           ┆          │\n",
       "│ 61eafd462 ┆ be435bc4d ┆ 2024-12-3 ┆ 2024-12-3 ┆ … ┆ -87.63330 ┆ {\"Point\", ┆ null      ┆ null     │\n",
       "│ 53b9553d5 ┆ 6744155b3 ┆ 1T23:30:0 ┆ 1T23:45:0 ┆   ┆ 8037      ┆ [-87.6333 ┆           ┆          │\n",
       "│ 9635d9a76 ┆ 272e9edde ┆ 0.000     ┆ 0.000     ┆   ┆           ┆ 08,       ┆           ┆          │\n",
       "│ bf3…      ┆ d01…      ┆           ┆           ┆   ┆           ┆ 41.89960… ┆           ┆          │\n",
       "└───────────┴───────────┴───────────┴───────────┴───┴───────────┴───────────┴───────────┴──────────┘"
      ]
     },
     "execution_count": 216,
     "metadata": {},
     "output_type": "execute_result"
    }
   ],
   "source": [
    "df.head(100)"
   ]
  },
  {
   "cell_type": "code",
   "execution_count": 217,
   "metadata": {},
   "outputs": [
    {
     "data": {
      "text/html": [
       "<div><style>\n",
       ".dataframe > thead > tr,\n",
       ".dataframe > tbody > tr {\n",
       "  text-align: right;\n",
       "  white-space: pre-wrap;\n",
       "}\n",
       "</style>\n",
       "<small>shape: (100, 23)</small><table border=\"1\" class=\"dataframe\"><thead><tr><th>trip_id</th><th>taxi_id</th><th>trip_start_timestamp</th><th>trip_end_timestamp</th><th>trip_seconds</th><th>trip_miles</th><th>pickup_community_area</th><th>dropoff_community_area</th><th>fare</th><th>tips</th><th>tolls</th><th>extras</th><th>trip_total</th><th>payment_type</th><th>company</th><th>pickup_centroid_latitude</th><th>pickup_centroid_longitude</th><th>pickup_centroid_location</th><th>dropoff_centroid_latitude</th><th>dropoff_centroid_longitude</th><th>dropoff_centroid_location</th><th>pickup_census_tract</th><th>dropoff_census_tract</th></tr><tr><td>str</td><td>str</td><td>str</td><td>str</td><td>i32</td><td>f64</td><td>i32</td><td>i32</td><td>f64</td><td>f64</td><td>f64</td><td>f64</td><td>f64</td><td>str</td><td>str</td><td>f64</td><td>f64</td><td>struct[2]</td><td>f64</td><td>f64</td><td>struct[2]</td><td>str</td><td>str</td></tr></thead><tbody><tr><td>&quot;604c104c64de68af93a0f69ed52ba5…</td><td>&quot;d3b33673ee1a39325983e66d426003…</td><td>&quot;2025-01-01T00:00:00.000&quot;</td><td>&quot;2025-01-01T00:30:00.000&quot;</td><td>1920</td><td>8.0</td><td>41</td><td>43</td><td>25.5</td><td>0.0</td><td>0.0</td><td>0.0</td><td>25.5</td><td>&quot;Unknown&quot;</td><td>&quot;Taxi Affiliation Services&quot;</td><td>41.79409</td><td>-87.592311</td><td>{&quot;Point&quot;,[-87.592311, 41.79409]}</td><td>41.761578</td><td>-87.572782</td><td>{&quot;Point&quot;,[-87.572782, 41.761578]}</td><td>null</td><td>null</td></tr><tr><td>&quot;eadda0d366a84b7b7d705ac0bd93cd…</td><td>&quot;52c3ffa685a3b5ced3d16461deec5a…</td><td>&quot;2025-01-01T00:00:00.000&quot;</td><td>&quot;2025-01-01T00:30:00.000&quot;</td><td>1512</td><td>19.08</td><td>76</td><td>28</td><td>46.75</td><td>5.0</td><td>0.0</td><td>5.5</td><td>57.75</td><td>&quot;Credit Card&quot;</td><td>&quot;Sun Taxi&quot;</td><td>41.980264</td><td>-87.913625</td><td>{&quot;Point&quot;,[-87.913625, 41.980264]}</td><td>41.874005</td><td>-87.663518</td><td>{&quot;Point&quot;,[-87.663518, 41.874005]}</td><td>null</td><td>null</td></tr><tr><td>&quot;9196437a32265173310df6bcb0a964…</td><td>&quot;da31cff8b8ee7eb6f5a94a452ebfb7…</td><td>&quot;2025-01-01T00:00:00.000&quot;</td><td>&quot;2025-01-01T00:30:00.000&quot;</td><td>1979</td><td>25.96</td><td>76</td><td>41</td><td>62.0</td><td>10.12</td><td>0.0</td><td>5.0</td><td>77.62</td><td>&quot;Credit Card&quot;</td><td>&quot;Medallion Leasin&quot;</td><td>41.980264</td><td>-87.913625</td><td>{&quot;Point&quot;,[-87.913625, 41.980264]}</td><td>41.79409</td><td>-87.592311</td><td>{&quot;Point&quot;,[-87.592311, 41.79409]}</td><td>null</td><td>null</td></tr><tr><td>&quot;defd0751ba153874755a8ff0cf0ea1…</td><td>&quot;f35fcc7d28fd3ca0324ad6b42c6bf1…</td><td>&quot;2025-01-01T00:00:00.000&quot;</td><td>&quot;2025-01-01T00:00:00.000&quot;</td><td>216</td><td>0.5</td><td>6</td><td>6</td><td>4.5</td><td>3.0</td><td>0.0</td><td>0.0</td><td>8.0</td><td>&quot;Credit Card&quot;</td><td>&quot;Medallion Leasin&quot;</td><td>41.944227</td><td>-87.655998</td><td>{&quot;Point&quot;,[-87.655998, 41.944227]}</td><td>41.944227</td><td>-87.655998</td><td>{&quot;Point&quot;,[-87.655998, 41.944227]}</td><td>null</td><td>null</td></tr><tr><td>&quot;a9adc9d11a8a4328560437bec5f5df…</td><td>&quot;90800746da6ccbc73d3233fe1e5f87…</td><td>&quot;2025-01-01T00:00:00.000&quot;</td><td>&quot;2025-01-01T00:15:00.000&quot;</td><td>1560</td><td>17.7</td><td>76</td><td>32</td><td>44.0</td><td>10.0</td><td>0.0</td><td>5.0</td><td>59.0</td><td>&quot;Credit Card&quot;</td><td>&quot;Taxi Affiliation Services&quot;</td><td>41.980264</td><td>-87.913625</td><td>{&quot;Point&quot;,[-87.913625, 41.980264]}</td><td>41.878866</td><td>-87.625192</td><td>{&quot;Point&quot;,[-87.625192, 41.878866]}</td><td>null</td><td>null</td></tr><tr><td>&hellip;</td><td>&hellip;</td><td>&hellip;</td><td>&hellip;</td><td>&hellip;</td><td>&hellip;</td><td>&hellip;</td><td>&hellip;</td><td>&hellip;</td><td>&hellip;</td><td>&hellip;</td><td>&hellip;</td><td>&hellip;</td><td>&hellip;</td><td>&hellip;</td><td>&hellip;</td><td>&hellip;</td><td>&hellip;</td><td>&hellip;</td><td>&hellip;</td><td>&hellip;</td><td>&hellip;</td><td>&hellip;</td></tr><tr><td>&quot;30d9e6f21edb8d85f9514a6d12ea20…</td><td>&quot;f28eac472760f6ca222e401b7b9f02…</td><td>&quot;2024-12-31T23:30:00.000&quot;</td><td>&quot;2025-01-01T00:00:00.000&quot;</td><td>1741</td><td>14.61</td><td>56</td><td>22</td><td>38.25</td><td>0.0</td><td>0.0</td><td>5.0</td><td>43.25</td><td>&quot;Cash&quot;</td><td>&quot;Wolley Taxi&quot;</td><td>41.792592</td><td>-87.769615</td><td>{&quot;Point&quot;,[-87.769615, 41.792592]}</td><td>41.922761</td><td>-87.699155</td><td>{&quot;Point&quot;,[-87.699155, 41.922761]}</td><td>null</td><td>null</td></tr><tr><td>&quot;63fe3a7060e8658528db1658d409cb…</td><td>&quot;4ba3690e7f7bde263c96de93e97af2…</td><td>&quot;2024-12-31T23:30:00.000&quot;</td><td>&quot;2024-12-31T23:45:00.000&quot;</td><td>1162</td><td>13.45</td><td>30</td><td>69</td><td>33.68</td><td>0.0</td><td>0.0</td><td>0.0</td><td>33.68</td><td>&quot;Cash&quot;</td><td>&quot;Flash Cab&quot;</td><td>41.839087</td><td>-87.714004</td><td>{&quot;Point&quot;,[-87.714004, 41.839087]}</td><td>41.763247</td><td>-87.616134</td><td>{&quot;Point&quot;,[-87.616134, 41.763247]}</td><td>null</td><td>null</td></tr><tr><td>&quot;8dd832b0456db3e2ab3ec2842a590f…</td><td>&quot;bb44c202e4e69e7f744256b9d024b4…</td><td>&quot;2024-12-31T23:30:00.000&quot;</td><td>&quot;2024-12-31T23:30:00.000&quot;</td><td>6</td><td>0.0</td><td>4</td><td>4</td><td>3.25</td><td>0.0</td><td>0.0</td><td>0.0</td><td>3.25</td><td>&quot;Cash&quot;</td><td>&quot;Taxicab Insurance Agency Llc&quot;</td><td>41.975171</td><td>-87.687516</td><td>{&quot;Point&quot;,[-87.687516, 41.975171]}</td><td>41.975171</td><td>-87.687516</td><td>{&quot;Point&quot;,[-87.687516, 41.975171]}</td><td>null</td><td>null</td></tr><tr><td>&quot;d5571d7f230eb90b9621610712ea44…</td><td>&quot;864e0bed592c7a476208dbb4d719f8…</td><td>&quot;2024-12-31T23:30:00.000&quot;</td><td>&quot;2024-12-31T23:45:00.000&quot;</td><td>931</td><td>0.71</td><td>32</td><td>32</td><td>11.0</td><td>0.0</td><td>0.0</td><td>0.0</td><td>11.0</td><td>&quot;Mobile&quot;</td><td>&quot;Flash Cab&quot;</td><td>41.880994</td><td>-87.632746</td><td>{&quot;Point&quot;,[-87.632746, 41.880994]}</td><td>41.880994</td><td>-87.632746</td><td>{&quot;Point&quot;,[-87.632746, 41.880994]}</td><td>&quot;17031839100&quot;</td><td>&quot;17031839100&quot;</td></tr><tr><td>&quot;61eafd46253b9553d59635d9a76bf3…</td><td>&quot;be435bc4d6744155b3272e9edded01…</td><td>&quot;2024-12-31T23:30:00.000&quot;</td><td>&quot;2024-12-31T23:45:00.000&quot;</td><td>989</td><td>3.17</td><td>6</td><td>8</td><td>12.25</td><td>0.0</td><td>0.0</td><td>0.0</td><td>12.25</td><td>&quot;Cash&quot;</td><td>&quot;Medallion Leasin&quot;</td><td>41.944227</td><td>-87.655998</td><td>{&quot;Point&quot;,[-87.655998, 41.944227]}</td><td>41.899602</td><td>-87.633308</td><td>{&quot;Point&quot;,[-87.633308, 41.899602]}</td><td>null</td><td>null</td></tr></tbody></table></div>"
      ],
      "text/plain": [
       "shape: (100, 23)\n",
       "┌───────────┬───────────┬───────────┬───────────┬───┬───────────┬───────────┬───────────┬──────────┐\n",
       "│ trip_id   ┆ taxi_id   ┆ trip_star ┆ trip_end_ ┆ … ┆ dropoff_c ┆ dropoff_c ┆ pickup_ce ┆ dropoff_ │\n",
       "│ ---       ┆ ---       ┆ t_timesta ┆ timestamp ┆   ┆ entroid_l ┆ entroid_l ┆ nsus_trac ┆ census_t │\n",
       "│ str       ┆ str       ┆ mp        ┆ ---       ┆   ┆ ongitude  ┆ ocation   ┆ t         ┆ ract     │\n",
       "│           ┆           ┆ ---       ┆ str       ┆   ┆ ---       ┆ ---       ┆ ---       ┆ ---      │\n",
       "│           ┆           ┆ str       ┆           ┆   ┆ f64       ┆ struct[2] ┆ str       ┆ str      │\n",
       "╞═══════════╪═══════════╪═══════════╪═══════════╪═══╪═══════════╪═══════════╪═══════════╪══════════╡\n",
       "│ 604c104c6 ┆ d3b33673e ┆ 2025-01-0 ┆ 2025-01-0 ┆ … ┆ -87.57278 ┆ {\"Point\", ┆ null      ┆ null     │\n",
       "│ 4de68af93 ┆ e1a393259 ┆ 1T00:00:0 ┆ 1T00:30:0 ┆   ┆ 2         ┆ [-87.5727 ┆           ┆          │\n",
       "│ a0f69ed52 ┆ 83e66d426 ┆ 0.000     ┆ 0.000     ┆   ┆           ┆ 82,       ┆           ┆          │\n",
       "│ ba5…      ┆ 003…      ┆           ┆           ┆   ┆           ┆ 41.76157… ┆           ┆          │\n",
       "│ eadda0d36 ┆ 52c3ffa68 ┆ 2025-01-0 ┆ 2025-01-0 ┆ … ┆ -87.66351 ┆ {\"Point\", ┆ null      ┆ null     │\n",
       "│ 6a84b7b7d ┆ 5a3b5ced3 ┆ 1T00:00:0 ┆ 1T00:30:0 ┆   ┆ 8         ┆ [-87.6635 ┆           ┆          │\n",
       "│ 705ac0bd9 ┆ d16461dee ┆ 0.000     ┆ 0.000     ┆   ┆           ┆ 18,       ┆           ┆          │\n",
       "│ 3cd…      ┆ c5a…      ┆           ┆           ┆   ┆           ┆ 41.87400… ┆           ┆          │\n",
       "│ 9196437a3 ┆ da31cff8b ┆ 2025-01-0 ┆ 2025-01-0 ┆ … ┆ -87.59231 ┆ {\"Point\", ┆ null      ┆ null     │\n",
       "│ 226517331 ┆ 8ee7eb6f5 ┆ 1T00:00:0 ┆ 1T00:30:0 ┆   ┆ 1         ┆ [-87.5923 ┆           ┆          │\n",
       "│ 0df6bcb0a ┆ a94a452eb ┆ 0.000     ┆ 0.000     ┆   ┆           ┆ 11,       ┆           ┆          │\n",
       "│ 964…      ┆ fb7…      ┆           ┆           ┆   ┆           ┆ 41.79409… ┆           ┆          │\n",
       "│ defd0751b ┆ f35fcc7d2 ┆ 2025-01-0 ┆ 2025-01-0 ┆ … ┆ -87.65599 ┆ {\"Point\", ┆ null      ┆ null     │\n",
       "│ a15387475 ┆ 8fd3ca032 ┆ 1T00:00:0 ┆ 1T00:00:0 ┆   ┆ 8         ┆ [-87.6559 ┆           ┆          │\n",
       "│ 5a8ff0cf0 ┆ 4ad6b42c6 ┆ 0.000     ┆ 0.000     ┆   ┆           ┆ 98,       ┆           ┆          │\n",
       "│ ea1…      ┆ bf1…      ┆           ┆           ┆   ┆           ┆ 41.94422… ┆           ┆          │\n",
       "│ a9adc9d11 ┆ 90800746d ┆ 2025-01-0 ┆ 2025-01-0 ┆ … ┆ -87.62519 ┆ {\"Point\", ┆ null      ┆ null     │\n",
       "│ a8a432856 ┆ a6ccbc73d ┆ 1T00:00:0 ┆ 1T00:15:0 ┆   ┆ 2         ┆ [-87.6251 ┆           ┆          │\n",
       "│ 0437bec5f ┆ 3233fe1e5 ┆ 0.000     ┆ 0.000     ┆   ┆           ┆ 92,       ┆           ┆          │\n",
       "│ 5df…      ┆ f87…      ┆           ┆           ┆   ┆           ┆ 41.87886… ┆           ┆          │\n",
       "│ …         ┆ …         ┆ …         ┆ …         ┆ … ┆ …         ┆ …         ┆ …         ┆ …        │\n",
       "│ 30d9e6f21 ┆ f28eac472 ┆ 2024-12-3 ┆ 2025-01-0 ┆ … ┆ -87.69915 ┆ {\"Point\", ┆ null      ┆ null     │\n",
       "│ edb8d85f9 ┆ 760f6ca22 ┆ 1T23:30:0 ┆ 1T00:00:0 ┆   ┆ 5         ┆ [-87.6991 ┆           ┆          │\n",
       "│ 514a6d12e ┆ 2e401b7b9 ┆ 0.000     ┆ 0.000     ┆   ┆           ┆ 55,       ┆           ┆          │\n",
       "│ a20…      ┆ f02…      ┆           ┆           ┆   ┆           ┆ 41.92276… ┆           ┆          │\n",
       "│ 63fe3a706 ┆ 4ba3690e7 ┆ 2024-12-3 ┆ 2024-12-3 ┆ … ┆ -87.61613 ┆ {\"Point\", ┆ null      ┆ null     │\n",
       "│ 0e8658528 ┆ f7bde263c ┆ 1T23:30:0 ┆ 1T23:45:0 ┆   ┆ 4         ┆ [-87.6161 ┆           ┆          │\n",
       "│ db1658d40 ┆ 96de93e97 ┆ 0.000     ┆ 0.000     ┆   ┆           ┆ 34,       ┆           ┆          │\n",
       "│ 9cb…      ┆ af2…      ┆           ┆           ┆   ┆           ┆ 41.76324… ┆           ┆          │\n",
       "│ 8dd832b04 ┆ bb44c202e ┆ 2024-12-3 ┆ 2024-12-3 ┆ … ┆ -87.68751 ┆ {\"Point\", ┆ null      ┆ null     │\n",
       "│ 56db3e2ab ┆ 4e69e7f74 ┆ 1T23:30:0 ┆ 1T23:30:0 ┆   ┆ 6         ┆ [-87.6875 ┆           ┆          │\n",
       "│ 3ec2842a5 ┆ 4256b9d02 ┆ 0.000     ┆ 0.000     ┆   ┆           ┆ 16,       ┆           ┆          │\n",
       "│ 90f…      ┆ 4b4…      ┆           ┆           ┆   ┆           ┆ 41.97517… ┆           ┆          │\n",
       "│ d5571d7f2 ┆ 864e0bed5 ┆ 2024-12-3 ┆ 2024-12-3 ┆ … ┆ -87.63274 ┆ {\"Point\", ┆ 170318391 ┆ 17031839 │\n",
       "│ 30eb90b96 ┆ 92c7a4762 ┆ 1T23:30:0 ┆ 1T23:45:0 ┆   ┆ 6         ┆ [-87.6327 ┆ 00        ┆ 100      │\n",
       "│ 21610712e ┆ 08dbb4d71 ┆ 0.000     ┆ 0.000     ┆   ┆           ┆ 46,       ┆           ┆          │\n",
       "│ a44…      ┆ 9f8…      ┆           ┆           ┆   ┆           ┆ 41.88099… ┆           ┆          │\n",
       "│ 61eafd462 ┆ be435bc4d ┆ 2024-12-3 ┆ 2024-12-3 ┆ … ┆ -87.63330 ┆ {\"Point\", ┆ null      ┆ null     │\n",
       "│ 53b9553d5 ┆ 6744155b3 ┆ 1T23:30:0 ┆ 1T23:45:0 ┆   ┆ 8         ┆ [-87.6333 ┆           ┆          │\n",
       "│ 9635d9a76 ┆ 272e9edde ┆ 0.000     ┆ 0.000     ┆   ┆           ┆ 08,       ┆           ┆          │\n",
       "│ bf3…      ┆ d01…      ┆           ┆           ┆   ┆           ┆ 41.89960… ┆           ┆          │\n",
       "└───────────┴───────────┴───────────┴───────────┴───┴───────────┴───────────┴───────────┴──────────┘"
      ]
     },
     "execution_count": 217,
     "metadata": {},
     "output_type": "execute_result"
    }
   ],
   "source": [
    "df = df.with_columns([\n",
    "    pl.col('trip_id').cast(pl.Utf8),\n",
    "    pl.col('taxi_id').cast(pl.Utf8),\n",
    "    pl.col('trip_start_timestamp').cast(pl.Utf8),\n",
    "    pl.col('trip_end_timestamp').cast(pl.Utf8),\n",
    "    pl.col('trip_seconds').cast(pl.Int32),\n",
    "    pl.col('trip_miles').cast(pl.Float64),\n",
    "    pl.col('pickup_community_area').cast(pl.Int32),\n",
    "    pl.col('dropoff_community_area').cast(pl.Int32),\n",
    "    pl.col('fare').cast(pl.Float64),\n",
    "    pl.col('tips').cast(pl.Float64),\n",
    "    pl.col('tolls').cast(pl.Float64),\n",
    "    pl.col('extras').cast(pl.Float64),\n",
    "    pl.col('trip_total').cast(pl.Float64),\n",
    "    pl.col('payment_type').cast(pl.Utf8),\n",
    "    pl.col('company').cast(pl.Utf8),\n",
    "    pl.col('pickup_centroid_latitude').cast(pl.Float64),\n",
    "    pl.col('pickup_centroid_longitude').cast(pl.Float64),\n",
    "    pl.col('pickup_centroid_location').cast(pl.Struct([pl.Field('type', pl.Utf8), pl.Field('coordinates', pl.List(pl.Float64))])),\n",
    "    pl.col('dropoff_centroid_latitude').cast(pl.Float64),\n",
    "    pl.col('dropoff_centroid_longitude').cast(pl.Float64),\n",
    "    pl.col('dropoff_centroid_location').cast(pl.Struct([pl.Field('type', pl.Utf8), pl.Field('coordinates', pl.List(pl.Float64))])),\n",
    "    pl.col('pickup_census_tract').cast(pl.Utf8),\n",
    "    pl.col('dropoff_census_tract').cast(pl.Utf8)\n",
    "])\n",
    "df.head(100)"
   ]
  },
  {
   "cell_type": "code",
   "execution_count": 218,
   "metadata": {},
   "outputs": [
    {
     "name": "stderr",
     "output_type": "stream",
     "text": [
      "C:\\Users\\mike\\AppData\\Local\\Temp\\ipykernel_2152\\3654253780.py:2: ChronoFormatWarning: Detected the pattern `.%f` in the chrono format string. This pattern should not be used to parse values after a decimal point. Use `%.f` instead. See the full specification: https://docs.rs/chrono/latest/chrono/format/strftime\n",
      "  pl.col('trip_start_timestamp').str.strptime(pl.Datetime, format='%Y-%m-%dT%H:%M:%S.%f'),\n",
      "C:\\Users\\mike\\AppData\\Local\\Temp\\ipykernel_2152\\3654253780.py:3: ChronoFormatWarning: Detected the pattern `.%f` in the chrono format string. This pattern should not be used to parse values after a decimal point. Use `%.f` instead. See the full specification: https://docs.rs/chrono/latest/chrono/format/strftime\n",
      "  pl.col('trip_end_timestamp').str.strptime(pl.Datetime, format='%Y-%m-%dT%H:%M:%S.%f')\n"
     ]
    }
   ],
   "source": [
    "df = df.with_columns([\n",
    "    pl.col('trip_start_timestamp').str.strptime(pl.Datetime, format='%Y-%m-%dT%H:%M:%S.%f'),\n",
    "    pl.col('trip_end_timestamp').str.strptime(pl.Datetime, format='%Y-%m-%dT%H:%M:%S.%f')\n",
    "])\n",
    "\n",
    "df = df.with_columns([\n",
    "    pl.col('trip_start_timestamp').dt.date().alias('trip_start_date'),\n",
    "    pl.col('trip_start_timestamp').dt.time().alias('trip_start_time'),\n",
    "    pl.col('trip_end_timestamp').dt.date().alias('trip_end_date'),\n",
    "    pl.col('trip_end_timestamp').dt.time().alias('trip_end_time')\n",
    "])"
   ]
  },
  {
   "cell_type": "code",
   "execution_count": 219,
   "metadata": {},
   "outputs": [
    {
     "data": {
      "text/html": [
       "<div><style>\n",
       ".dataframe > thead > tr,\n",
       ".dataframe > tbody > tr {\n",
       "  text-align: right;\n",
       "  white-space: pre-wrap;\n",
       "}\n",
       "</style>\n",
       "<small>shape: (100, 27)</small><table border=\"1\" class=\"dataframe\"><thead><tr><th>trip_id</th><th>taxi_id</th><th>trip_start_timestamp</th><th>trip_end_timestamp</th><th>trip_seconds</th><th>trip_miles</th><th>pickup_community_area</th><th>dropoff_community_area</th><th>fare</th><th>tips</th><th>tolls</th><th>extras</th><th>trip_total</th><th>payment_type</th><th>company</th><th>pickup_centroid_latitude</th><th>pickup_centroid_longitude</th><th>pickup_centroid_location</th><th>dropoff_centroid_latitude</th><th>dropoff_centroid_longitude</th><th>dropoff_centroid_location</th><th>pickup_census_tract</th><th>dropoff_census_tract</th><th>trip_start_date</th><th>trip_start_time</th><th>trip_end_date</th><th>trip_end_time</th></tr><tr><td>str</td><td>str</td><td>datetime[μs]</td><td>datetime[μs]</td><td>i32</td><td>f64</td><td>i32</td><td>i32</td><td>f64</td><td>f64</td><td>f64</td><td>f64</td><td>f64</td><td>str</td><td>str</td><td>f64</td><td>f64</td><td>struct[2]</td><td>f64</td><td>f64</td><td>struct[2]</td><td>str</td><td>str</td><td>date</td><td>time</td><td>date</td><td>time</td></tr></thead><tbody><tr><td>&quot;604c104c64de68af93a0f69ed52ba5…</td><td>&quot;d3b33673ee1a39325983e66d426003…</td><td>2025-01-01 00:00:00</td><td>2025-01-01 00:30:00</td><td>1920</td><td>8.0</td><td>41</td><td>43</td><td>25.5</td><td>0.0</td><td>0.0</td><td>0.0</td><td>25.5</td><td>&quot;Unknown&quot;</td><td>&quot;Taxi Affiliation Services&quot;</td><td>41.79409</td><td>-87.592311</td><td>{&quot;Point&quot;,[-87.592311, 41.79409]}</td><td>41.761578</td><td>-87.572782</td><td>{&quot;Point&quot;,[-87.572782, 41.761578]}</td><td>null</td><td>null</td><td>2025-01-01</td><td>00:00:00</td><td>2025-01-01</td><td>00:30:00</td></tr><tr><td>&quot;eadda0d366a84b7b7d705ac0bd93cd…</td><td>&quot;52c3ffa685a3b5ced3d16461deec5a…</td><td>2025-01-01 00:00:00</td><td>2025-01-01 00:30:00</td><td>1512</td><td>19.08</td><td>76</td><td>28</td><td>46.75</td><td>5.0</td><td>0.0</td><td>5.5</td><td>57.75</td><td>&quot;Credit Card&quot;</td><td>&quot;Sun Taxi&quot;</td><td>41.980264</td><td>-87.913625</td><td>{&quot;Point&quot;,[-87.913625, 41.980264]}</td><td>41.874005</td><td>-87.663518</td><td>{&quot;Point&quot;,[-87.663518, 41.874005]}</td><td>null</td><td>null</td><td>2025-01-01</td><td>00:00:00</td><td>2025-01-01</td><td>00:30:00</td></tr><tr><td>&quot;9196437a32265173310df6bcb0a964…</td><td>&quot;da31cff8b8ee7eb6f5a94a452ebfb7…</td><td>2025-01-01 00:00:00</td><td>2025-01-01 00:30:00</td><td>1979</td><td>25.96</td><td>76</td><td>41</td><td>62.0</td><td>10.12</td><td>0.0</td><td>5.0</td><td>77.62</td><td>&quot;Credit Card&quot;</td><td>&quot;Medallion Leasin&quot;</td><td>41.980264</td><td>-87.913625</td><td>{&quot;Point&quot;,[-87.913625, 41.980264]}</td><td>41.79409</td><td>-87.592311</td><td>{&quot;Point&quot;,[-87.592311, 41.79409]}</td><td>null</td><td>null</td><td>2025-01-01</td><td>00:00:00</td><td>2025-01-01</td><td>00:30:00</td></tr><tr><td>&quot;defd0751ba153874755a8ff0cf0ea1…</td><td>&quot;f35fcc7d28fd3ca0324ad6b42c6bf1…</td><td>2025-01-01 00:00:00</td><td>2025-01-01 00:00:00</td><td>216</td><td>0.5</td><td>6</td><td>6</td><td>4.5</td><td>3.0</td><td>0.0</td><td>0.0</td><td>8.0</td><td>&quot;Credit Card&quot;</td><td>&quot;Medallion Leasin&quot;</td><td>41.944227</td><td>-87.655998</td><td>{&quot;Point&quot;,[-87.655998, 41.944227]}</td><td>41.944227</td><td>-87.655998</td><td>{&quot;Point&quot;,[-87.655998, 41.944227]}</td><td>null</td><td>null</td><td>2025-01-01</td><td>00:00:00</td><td>2025-01-01</td><td>00:00:00</td></tr><tr><td>&quot;a9adc9d11a8a4328560437bec5f5df…</td><td>&quot;90800746da6ccbc73d3233fe1e5f87…</td><td>2025-01-01 00:00:00</td><td>2025-01-01 00:15:00</td><td>1560</td><td>17.7</td><td>76</td><td>32</td><td>44.0</td><td>10.0</td><td>0.0</td><td>5.0</td><td>59.0</td><td>&quot;Credit Card&quot;</td><td>&quot;Taxi Affiliation Services&quot;</td><td>41.980264</td><td>-87.913625</td><td>{&quot;Point&quot;,[-87.913625, 41.980264]}</td><td>41.878866</td><td>-87.625192</td><td>{&quot;Point&quot;,[-87.625192, 41.878866]}</td><td>null</td><td>null</td><td>2025-01-01</td><td>00:00:00</td><td>2025-01-01</td><td>00:15:00</td></tr><tr><td>&hellip;</td><td>&hellip;</td><td>&hellip;</td><td>&hellip;</td><td>&hellip;</td><td>&hellip;</td><td>&hellip;</td><td>&hellip;</td><td>&hellip;</td><td>&hellip;</td><td>&hellip;</td><td>&hellip;</td><td>&hellip;</td><td>&hellip;</td><td>&hellip;</td><td>&hellip;</td><td>&hellip;</td><td>&hellip;</td><td>&hellip;</td><td>&hellip;</td><td>&hellip;</td><td>&hellip;</td><td>&hellip;</td><td>&hellip;</td><td>&hellip;</td><td>&hellip;</td><td>&hellip;</td></tr><tr><td>&quot;30d9e6f21edb8d85f9514a6d12ea20…</td><td>&quot;f28eac472760f6ca222e401b7b9f02…</td><td>2024-12-31 23:30:00</td><td>2025-01-01 00:00:00</td><td>1741</td><td>14.61</td><td>56</td><td>22</td><td>38.25</td><td>0.0</td><td>0.0</td><td>5.0</td><td>43.25</td><td>&quot;Cash&quot;</td><td>&quot;Wolley Taxi&quot;</td><td>41.792592</td><td>-87.769615</td><td>{&quot;Point&quot;,[-87.769615, 41.792592]}</td><td>41.922761</td><td>-87.699155</td><td>{&quot;Point&quot;,[-87.699155, 41.922761]}</td><td>null</td><td>null</td><td>2024-12-31</td><td>23:30:00</td><td>2025-01-01</td><td>00:00:00</td></tr><tr><td>&quot;63fe3a7060e8658528db1658d409cb…</td><td>&quot;4ba3690e7f7bde263c96de93e97af2…</td><td>2024-12-31 23:30:00</td><td>2024-12-31 23:45:00</td><td>1162</td><td>13.45</td><td>30</td><td>69</td><td>33.68</td><td>0.0</td><td>0.0</td><td>0.0</td><td>33.68</td><td>&quot;Cash&quot;</td><td>&quot;Flash Cab&quot;</td><td>41.839087</td><td>-87.714004</td><td>{&quot;Point&quot;,[-87.714004, 41.839087]}</td><td>41.763247</td><td>-87.616134</td><td>{&quot;Point&quot;,[-87.616134, 41.763247]}</td><td>null</td><td>null</td><td>2024-12-31</td><td>23:30:00</td><td>2024-12-31</td><td>23:45:00</td></tr><tr><td>&quot;8dd832b0456db3e2ab3ec2842a590f…</td><td>&quot;bb44c202e4e69e7f744256b9d024b4…</td><td>2024-12-31 23:30:00</td><td>2024-12-31 23:30:00</td><td>6</td><td>0.0</td><td>4</td><td>4</td><td>3.25</td><td>0.0</td><td>0.0</td><td>0.0</td><td>3.25</td><td>&quot;Cash&quot;</td><td>&quot;Taxicab Insurance Agency Llc&quot;</td><td>41.975171</td><td>-87.687516</td><td>{&quot;Point&quot;,[-87.687516, 41.975171]}</td><td>41.975171</td><td>-87.687516</td><td>{&quot;Point&quot;,[-87.687516, 41.975171]}</td><td>null</td><td>null</td><td>2024-12-31</td><td>23:30:00</td><td>2024-12-31</td><td>23:30:00</td></tr><tr><td>&quot;d5571d7f230eb90b9621610712ea44…</td><td>&quot;864e0bed592c7a476208dbb4d719f8…</td><td>2024-12-31 23:30:00</td><td>2024-12-31 23:45:00</td><td>931</td><td>0.71</td><td>32</td><td>32</td><td>11.0</td><td>0.0</td><td>0.0</td><td>0.0</td><td>11.0</td><td>&quot;Mobile&quot;</td><td>&quot;Flash Cab&quot;</td><td>41.880994</td><td>-87.632746</td><td>{&quot;Point&quot;,[-87.632746, 41.880994]}</td><td>41.880994</td><td>-87.632746</td><td>{&quot;Point&quot;,[-87.632746, 41.880994]}</td><td>&quot;17031839100&quot;</td><td>&quot;17031839100&quot;</td><td>2024-12-31</td><td>23:30:00</td><td>2024-12-31</td><td>23:45:00</td></tr><tr><td>&quot;61eafd46253b9553d59635d9a76bf3…</td><td>&quot;be435bc4d6744155b3272e9edded01…</td><td>2024-12-31 23:30:00</td><td>2024-12-31 23:45:00</td><td>989</td><td>3.17</td><td>6</td><td>8</td><td>12.25</td><td>0.0</td><td>0.0</td><td>0.0</td><td>12.25</td><td>&quot;Cash&quot;</td><td>&quot;Medallion Leasin&quot;</td><td>41.944227</td><td>-87.655998</td><td>{&quot;Point&quot;,[-87.655998, 41.944227]}</td><td>41.899602</td><td>-87.633308</td><td>{&quot;Point&quot;,[-87.633308, 41.899602]}</td><td>null</td><td>null</td><td>2024-12-31</td><td>23:30:00</td><td>2024-12-31</td><td>23:45:00</td></tr></tbody></table></div>"
      ],
      "text/plain": [
       "shape: (100, 27)\n",
       "┌───────────┬───────────┬───────────┬───────────┬───┬───────────┬───────────┬───────────┬──────────┐\n",
       "│ trip_id   ┆ taxi_id   ┆ trip_star ┆ trip_end_ ┆ … ┆ trip_star ┆ trip_star ┆ trip_end_ ┆ trip_end │\n",
       "│ ---       ┆ ---       ┆ t_timesta ┆ timestamp ┆   ┆ t_date    ┆ t_time    ┆ date      ┆ _time    │\n",
       "│ str       ┆ str       ┆ mp        ┆ ---       ┆   ┆ ---       ┆ ---       ┆ ---       ┆ ---      │\n",
       "│           ┆           ┆ ---       ┆ datetime[ ┆   ┆ date      ┆ time      ┆ date      ┆ time     │\n",
       "│           ┆           ┆ datetime[ ┆ μs]       ┆   ┆           ┆           ┆           ┆          │\n",
       "│           ┆           ┆ μs]       ┆           ┆   ┆           ┆           ┆           ┆          │\n",
       "╞═══════════╪═══════════╪═══════════╪═══════════╪═══╪═══════════╪═══════════╪═══════════╪══════════╡\n",
       "│ 604c104c6 ┆ d3b33673e ┆ 2025-01-0 ┆ 2025-01-0 ┆ … ┆ 2025-01-0 ┆ 00:00:00  ┆ 2025-01-0 ┆ 00:30:00 │\n",
       "│ 4de68af93 ┆ e1a393259 ┆ 1         ┆ 1         ┆   ┆ 1         ┆           ┆ 1         ┆          │\n",
       "│ a0f69ed52 ┆ 83e66d426 ┆ 00:00:00  ┆ 00:30:00  ┆   ┆           ┆           ┆           ┆          │\n",
       "│ ba5…      ┆ 003…      ┆           ┆           ┆   ┆           ┆           ┆           ┆          │\n",
       "│ eadda0d36 ┆ 52c3ffa68 ┆ 2025-01-0 ┆ 2025-01-0 ┆ … ┆ 2025-01-0 ┆ 00:00:00  ┆ 2025-01-0 ┆ 00:30:00 │\n",
       "│ 6a84b7b7d ┆ 5a3b5ced3 ┆ 1         ┆ 1         ┆   ┆ 1         ┆           ┆ 1         ┆          │\n",
       "│ 705ac0bd9 ┆ d16461dee ┆ 00:00:00  ┆ 00:30:00  ┆   ┆           ┆           ┆           ┆          │\n",
       "│ 3cd…      ┆ c5a…      ┆           ┆           ┆   ┆           ┆           ┆           ┆          │\n",
       "│ 9196437a3 ┆ da31cff8b ┆ 2025-01-0 ┆ 2025-01-0 ┆ … ┆ 2025-01-0 ┆ 00:00:00  ┆ 2025-01-0 ┆ 00:30:00 │\n",
       "│ 226517331 ┆ 8ee7eb6f5 ┆ 1         ┆ 1         ┆   ┆ 1         ┆           ┆ 1         ┆          │\n",
       "│ 0df6bcb0a ┆ a94a452eb ┆ 00:00:00  ┆ 00:30:00  ┆   ┆           ┆           ┆           ┆          │\n",
       "│ 964…      ┆ fb7…      ┆           ┆           ┆   ┆           ┆           ┆           ┆          │\n",
       "│ defd0751b ┆ f35fcc7d2 ┆ 2025-01-0 ┆ 2025-01-0 ┆ … ┆ 2025-01-0 ┆ 00:00:00  ┆ 2025-01-0 ┆ 00:00:00 │\n",
       "│ a15387475 ┆ 8fd3ca032 ┆ 1         ┆ 1         ┆   ┆ 1         ┆           ┆ 1         ┆          │\n",
       "│ 5a8ff0cf0 ┆ 4ad6b42c6 ┆ 00:00:00  ┆ 00:00:00  ┆   ┆           ┆           ┆           ┆          │\n",
       "│ ea1…      ┆ bf1…      ┆           ┆           ┆   ┆           ┆           ┆           ┆          │\n",
       "│ a9adc9d11 ┆ 90800746d ┆ 2025-01-0 ┆ 2025-01-0 ┆ … ┆ 2025-01-0 ┆ 00:00:00  ┆ 2025-01-0 ┆ 00:15:00 │\n",
       "│ a8a432856 ┆ a6ccbc73d ┆ 1         ┆ 1         ┆   ┆ 1         ┆           ┆ 1         ┆          │\n",
       "│ 0437bec5f ┆ 3233fe1e5 ┆ 00:00:00  ┆ 00:15:00  ┆   ┆           ┆           ┆           ┆          │\n",
       "│ 5df…      ┆ f87…      ┆           ┆           ┆   ┆           ┆           ┆           ┆          │\n",
       "│ …         ┆ …         ┆ …         ┆ …         ┆ … ┆ …         ┆ …         ┆ …         ┆ …        │\n",
       "│ 30d9e6f21 ┆ f28eac472 ┆ 2024-12-3 ┆ 2025-01-0 ┆ … ┆ 2024-12-3 ┆ 23:30:00  ┆ 2025-01-0 ┆ 00:00:00 │\n",
       "│ edb8d85f9 ┆ 760f6ca22 ┆ 1         ┆ 1         ┆   ┆ 1         ┆           ┆ 1         ┆          │\n",
       "│ 514a6d12e ┆ 2e401b7b9 ┆ 23:30:00  ┆ 00:00:00  ┆   ┆           ┆           ┆           ┆          │\n",
       "│ a20…      ┆ f02…      ┆           ┆           ┆   ┆           ┆           ┆           ┆          │\n",
       "│ 63fe3a706 ┆ 4ba3690e7 ┆ 2024-12-3 ┆ 2024-12-3 ┆ … ┆ 2024-12-3 ┆ 23:30:00  ┆ 2024-12-3 ┆ 23:45:00 │\n",
       "│ 0e8658528 ┆ f7bde263c ┆ 1         ┆ 1         ┆   ┆ 1         ┆           ┆ 1         ┆          │\n",
       "│ db1658d40 ┆ 96de93e97 ┆ 23:30:00  ┆ 23:45:00  ┆   ┆           ┆           ┆           ┆          │\n",
       "│ 9cb…      ┆ af2…      ┆           ┆           ┆   ┆           ┆           ┆           ┆          │\n",
       "│ 8dd832b04 ┆ bb44c202e ┆ 2024-12-3 ┆ 2024-12-3 ┆ … ┆ 2024-12-3 ┆ 23:30:00  ┆ 2024-12-3 ┆ 23:30:00 │\n",
       "│ 56db3e2ab ┆ 4e69e7f74 ┆ 1         ┆ 1         ┆   ┆ 1         ┆           ┆ 1         ┆          │\n",
       "│ 3ec2842a5 ┆ 4256b9d02 ┆ 23:30:00  ┆ 23:30:00  ┆   ┆           ┆           ┆           ┆          │\n",
       "│ 90f…      ┆ 4b4…      ┆           ┆           ┆   ┆           ┆           ┆           ┆          │\n",
       "│ d5571d7f2 ┆ 864e0bed5 ┆ 2024-12-3 ┆ 2024-12-3 ┆ … ┆ 2024-12-3 ┆ 23:30:00  ┆ 2024-12-3 ┆ 23:45:00 │\n",
       "│ 30eb90b96 ┆ 92c7a4762 ┆ 1         ┆ 1         ┆   ┆ 1         ┆           ┆ 1         ┆          │\n",
       "│ 21610712e ┆ 08dbb4d71 ┆ 23:30:00  ┆ 23:45:00  ┆   ┆           ┆           ┆           ┆          │\n",
       "│ a44…      ┆ 9f8…      ┆           ┆           ┆   ┆           ┆           ┆           ┆          │\n",
       "│ 61eafd462 ┆ be435bc4d ┆ 2024-12-3 ┆ 2024-12-3 ┆ … ┆ 2024-12-3 ┆ 23:30:00  ┆ 2024-12-3 ┆ 23:45:00 │\n",
       "│ 53b9553d5 ┆ 6744155b3 ┆ 1         ┆ 1         ┆   ┆ 1         ┆           ┆ 1         ┆          │\n",
       "│ 9635d9a76 ┆ 272e9edde ┆ 23:30:00  ┆ 23:45:00  ┆   ┆           ┆           ┆           ┆          │\n",
       "│ bf3…      ┆ d01…      ┆           ┆           ┆   ┆           ┆           ┆           ┆          │\n",
       "└───────────┴───────────┴───────────┴───────────┴───┴───────────┴───────────┴───────────┴──────────┘"
      ]
     },
     "execution_count": 219,
     "metadata": {},
     "output_type": "execute_result"
    }
   ],
   "source": [
    "df.head(100)"
   ]
  },
  {
   "cell_type": "code",
   "execution_count": 220,
   "metadata": {
    "vscode": {
     "languageId": "sql"
    }
   },
   "outputs": [],
   "source": [
    "# Create DimTaxi table\n",
    "dim_taxi = df.select([\n",
    "    pl.col('taxi_id').alias('taxi_id'),\n",
    "    pl.col('company').alias('company')\n",
    "]).unique()\n",
    "\n",
    "# Create DimTime table\n",
    "dim_time = df.select([\n",
    "    pl.col('trip_start_timestamp').alias('timestamp'),\n",
    "    pl.col('trip_start_timestamp').dt.date().alias('date'),\n",
    "    pl.col('trip_start_timestamp').dt.time().alias('time')\n",
    "]).unique()\n",
    "\n",
    "# Create DimLocation table\n",
    "dim_location = df.select([\n",
    "    pl.col('pickup_centroid_latitude').alias('latitude'),\n",
    "    pl.col('pickup_centroid_longitude').alias('longitude'),\n",
    "    pl.col('pickup_census_tract').alias('census_tract')\n",
    "]).unique().with_row_index('location_id')\n",
    "\n",
    "# Create FactTrip table\n",
    "fact_trip = df.select([\n",
    "    pl.col('trip_id').alias('trip_id'),\n",
    "    pl.col('taxi_id').alias('taxi_id'),\n",
    "    pl.col('trip_start_timestamp').alias('trip_start_timestamp'),\n",
    "    pl.col('trip_end_timestamp').alias('trip_end_timestamp'),\n",
    "    pl.col('trip_seconds').alias('trip_seconds'),\n",
    "    pl.col('trip_miles').alias('trip_miles'),\n",
    "    pl.col('pickup_centroid_latitude').alias('pickup_latitude'),\n",
    "    pl.col('pickup_centroid_longitude').alias('pickup_longitude'),\n",
    "    pl.col('dropoff_centroid_latitude').alias('dropoff_latitude'),\n",
    "    pl.col('dropoff_centroid_longitude').alias('dropoff_longitude'),\n",
    "    pl.col('fare').alias('fare'),\n",
    "    pl.col('tips').alias('tips'),\n",
    "    pl.col('tolls').alias('tolls'),\n",
    "    pl.col('extras').alias('extras'),\n",
    "    pl.col('trip_total').alias('trip_total'),\n",
    "    pl.col('payment_type').alias('payment_type')\n",
    "])\n",
    "\n",
    "# Join FactTrip with DimLocation to get location IDs\n",
    "fact_trip = fact_trip.join(dim_location, left_on=['pickup_latitude', 'pickup_longitude'], right_on=['latitude', 'longitude'], how='left').rename({'location_id': 'pickup_location_id'})\n",
    "fact_trip = fact_trip.join(dim_location, left_on=['dropoff_latitude', 'dropoff_longitude'], right_on=['latitude', 'longitude'], how='left').rename({'location_id': 'dropoff_location_id'})\n",
    "\n",
    "# Select final columns for FactTrip\n",
    "fact_trip = fact_trip.select([\n",
    "    pl.col('trip_id'),\n",
    "    pl.col('taxi_id'),\n",
    "    pl.col('trip_start_timestamp'),\n",
    "    pl.col('trip_end_timestamp'),\n",
    "    pl.col('trip_seconds'),\n",
    "    pl.col('trip_miles'),\n",
    "    pl.col('pickup_location_id'),\n",
    "    pl.col('dropoff_location_id'),\n",
    "    pl.col('fare'),\n",
    "    pl.col('tips'),\n",
    "    pl.col('tolls'),\n",
    "    pl.col('extras'),\n",
    "    pl.col('trip_total'),\n",
    "    pl.col('payment_type')\n",
    "])"
   ]
  },
  {
   "cell_type": "code",
   "execution_count": 221,
   "metadata": {
    "vscode": {
     "languageId": "sql"
    }
   },
   "outputs": [
    {
     "data": {
      "text/html": [
       "<div><style>\n",
       ".dataframe > thead > tr,\n",
       ".dataframe > tbody > tr {\n",
       "  text-align: right;\n",
       "  white-space: pre-wrap;\n",
       "}\n",
       "</style>\n",
       "<small>shape: (5, 2)</small><table border=\"1\" class=\"dataframe\"><thead><tr><th>taxi_id</th><th>company</th></tr><tr><td>str</td><td>str</td></tr></thead><tbody><tr><td>&quot;4e1cc47be197da1762ea9877e4b007…</td><td>&quot;Choice Taxi Association Inc&quot;</td></tr><tr><td>&quot;0e4b7d65d1783bec4e8d024b4eb2ef…</td><td>&quot;Taxi Affiliation Services&quot;</td></tr><tr><td>&quot;196d0cab116da01f1cb8685842d0ce…</td><td>&quot;Taxi Affiliation Services&quot;</td></tr><tr><td>&quot;a56f0fbe0cb06a001c2d19f0aef165…</td><td>&quot;Flash Cab&quot;</td></tr><tr><td>&quot;634bc0295489ab0b50cebcc10d6d3e…</td><td>&quot;Taxicab Insurance Agency Llc&quot;</td></tr></tbody></table></div>"
      ],
      "text/plain": [
       "shape: (5, 2)\n",
       "┌─────────────────────────────────┬──────────────────────────────┐\n",
       "│ taxi_id                         ┆ company                      │\n",
       "│ ---                             ┆ ---                          │\n",
       "│ str                             ┆ str                          │\n",
       "╞═════════════════════════════════╪══════════════════════════════╡\n",
       "│ 4e1cc47be197da1762ea9877e4b007… ┆ Choice Taxi Association Inc  │\n",
       "│ 0e4b7d65d1783bec4e8d024b4eb2ef… ┆ Taxi Affiliation Services    │\n",
       "│ 196d0cab116da01f1cb8685842d0ce… ┆ Taxi Affiliation Services    │\n",
       "│ a56f0fbe0cb06a001c2d19f0aef165… ┆ Flash Cab                    │\n",
       "│ 634bc0295489ab0b50cebcc10d6d3e… ┆ Taxicab Insurance Agency Llc │\n",
       "└─────────────────────────────────┴──────────────────────────────┘"
      ]
     },
     "execution_count": 221,
     "metadata": {},
     "output_type": "execute_result"
    }
   ],
   "source": [
    "dim_taxi.head()"
   ]
  },
  {
   "cell_type": "code",
   "execution_count": 222,
   "metadata": {
    "vscode": {
     "languageId": "sql"
    }
   },
   "outputs": [
    {
     "data": {
      "text/html": [
       "<div><style>\n",
       ".dataframe > thead > tr,\n",
       ".dataframe > tbody > tr {\n",
       "  text-align: right;\n",
       "  white-space: pre-wrap;\n",
       "}\n",
       "</style>\n",
       "<small>shape: (5, 4)</small><table border=\"1\" class=\"dataframe\"><thead><tr><th>location_id</th><th>latitude</th><th>longitude</th><th>census_tract</th></tr><tr><td>u32</td><td>f64</td><td>f64</td><td>str</td></tr></thead><tbody><tr><td>0</td><td>41.965812</td><td>-87.655879</td><td>null</td></tr><tr><td>1</td><td>41.745758</td><td>-87.708366</td><td>null</td></tr><tr><td>2</td><td>null</td><td>null</td><td>null</td></tr><tr><td>3</td><td>41.927261</td><td>-87.765502</td><td>null</td></tr><tr><td>4</td><td>41.97883</td><td>-87.771167</td><td>null</td></tr></tbody></table></div>"
      ],
      "text/plain": [
       "shape: (5, 4)\n",
       "┌─────────────┬───────────┬────────────┬──────────────┐\n",
       "│ location_id ┆ latitude  ┆ longitude  ┆ census_tract │\n",
       "│ ---         ┆ ---       ┆ ---        ┆ ---          │\n",
       "│ u32         ┆ f64       ┆ f64        ┆ str          │\n",
       "╞═════════════╪═══════════╪════════════╪══════════════╡\n",
       "│ 0           ┆ 41.965812 ┆ -87.655879 ┆ null         │\n",
       "│ 1           ┆ 41.745758 ┆ -87.708366 ┆ null         │\n",
       "│ 2           ┆ null      ┆ null       ┆ null         │\n",
       "│ 3           ┆ 41.927261 ┆ -87.765502 ┆ null         │\n",
       "│ 4           ┆ 41.97883  ┆ -87.771167 ┆ null         │\n",
       "└─────────────┴───────────┴────────────┴──────────────┘"
      ]
     },
     "execution_count": 222,
     "metadata": {},
     "output_type": "execute_result"
    }
   ],
   "source": [
    "dim_location.head()"
   ]
  },
  {
   "cell_type": "code",
   "execution_count": 223,
   "metadata": {
    "vscode": {
     "languageId": "sql"
    }
   },
   "outputs": [
    {
     "data": {
      "text/html": [
       "<div><style>\n",
       ".dataframe > thead > tr,\n",
       ".dataframe > tbody > tr {\n",
       "  text-align: right;\n",
       "  white-space: pre-wrap;\n",
       "}\n",
       "</style>\n",
       "<small>shape: (5, 3)</small><table border=\"1\" class=\"dataframe\"><thead><tr><th>timestamp</th><th>date</th><th>time</th></tr><tr><td>datetime[μs]</td><td>date</td><td>time</td></tr></thead><tbody><tr><td>2024-12-31 23:15:00</td><td>2024-12-31</td><td>23:15:00</td></tr><tr><td>2025-01-01 00:00:00</td><td>2025-01-01</td><td>00:00:00</td></tr><tr><td>2024-12-31 23:00:00</td><td>2024-12-31</td><td>23:00:00</td></tr><tr><td>2024-12-31 22:15:00</td><td>2024-12-31</td><td>22:15:00</td></tr><tr><td>2024-12-31 21:45:00</td><td>2024-12-31</td><td>21:45:00</td></tr></tbody></table></div>"
      ],
      "text/plain": [
       "shape: (5, 3)\n",
       "┌─────────────────────┬────────────┬──────────┐\n",
       "│ timestamp           ┆ date       ┆ time     │\n",
       "│ ---                 ┆ ---        ┆ ---      │\n",
       "│ datetime[μs]        ┆ date       ┆ time     │\n",
       "╞═════════════════════╪════════════╪══════════╡\n",
       "│ 2024-12-31 23:15:00 ┆ 2024-12-31 ┆ 23:15:00 │\n",
       "│ 2025-01-01 00:00:00 ┆ 2025-01-01 ┆ 00:00:00 │\n",
       "│ 2024-12-31 23:00:00 ┆ 2024-12-31 ┆ 23:00:00 │\n",
       "│ 2024-12-31 22:15:00 ┆ 2024-12-31 ┆ 22:15:00 │\n",
       "│ 2024-12-31 21:45:00 ┆ 2024-12-31 ┆ 21:45:00 │\n",
       "└─────────────────────┴────────────┴──────────┘"
      ]
     },
     "execution_count": 223,
     "metadata": {},
     "output_type": "execute_result"
    }
   ],
   "source": [
    "dim_time.head()"
   ]
  },
  {
   "cell_type": "code",
   "execution_count": 224,
   "metadata": {
    "vscode": {
     "languageId": "sql"
    }
   },
   "outputs": [
    {
     "data": {
      "text/html": [
       "<div><style>\n",
       ".dataframe > thead > tr,\n",
       ".dataframe > tbody > tr {\n",
       "  text-align: right;\n",
       "  white-space: pre-wrap;\n",
       "}\n",
       "</style>\n",
       "<small>shape: (5, 14)</small><table border=\"1\" class=\"dataframe\"><thead><tr><th>trip_id</th><th>taxi_id</th><th>trip_start_timestamp</th><th>trip_end_timestamp</th><th>trip_seconds</th><th>trip_miles</th><th>pickup_location_id</th><th>dropoff_location_id</th><th>fare</th><th>tips</th><th>tolls</th><th>extras</th><th>trip_total</th><th>payment_type</th></tr><tr><td>str</td><td>str</td><td>datetime[μs]</td><td>datetime[μs]</td><td>i32</td><td>f64</td><td>u32</td><td>u32</td><td>f64</td><td>f64</td><td>f64</td><td>f64</td><td>f64</td><td>str</td></tr></thead><tbody><tr><td>&quot;604c104c64de68af93a0f69ed52ba5…</td><td>&quot;d3b33673ee1a39325983e66d426003…</td><td>2025-01-01 00:00:00</td><td>2025-01-01 00:30:00</td><td>1920</td><td>8.0</td><td>15</td><td>41</td><td>25.5</td><td>0.0</td><td>0.0</td><td>0.0</td><td>25.5</td><td>&quot;Unknown&quot;</td></tr><tr><td>&quot;eadda0d366a84b7b7d705ac0bd93cd…</td><td>&quot;52c3ffa685a3b5ced3d16461deec5a…</td><td>2025-01-01 00:00:00</td><td>2025-01-01 00:30:00</td><td>1512</td><td>19.08</td><td>65</td><td>67</td><td>46.75</td><td>5.0</td><td>0.0</td><td>5.5</td><td>57.75</td><td>&quot;Credit Card&quot;</td></tr><tr><td>&quot;9196437a32265173310df6bcb0a964…</td><td>&quot;da31cff8b8ee7eb6f5a94a452ebfb7…</td><td>2025-01-01 00:00:00</td><td>2025-01-01 00:30:00</td><td>1979</td><td>25.96</td><td>65</td><td>15</td><td>62.0</td><td>10.12</td><td>0.0</td><td>5.0</td><td>77.62</td><td>&quot;Credit Card&quot;</td></tr><tr><td>&quot;defd0751ba153874755a8ff0cf0ea1…</td><td>&quot;f35fcc7d28fd3ca0324ad6b42c6bf1…</td><td>2025-01-01 00:00:00</td><td>2025-01-01 00:00:00</td><td>216</td><td>0.5</td><td>64</td><td>64</td><td>4.5</td><td>3.0</td><td>0.0</td><td>0.0</td><td>8.0</td><td>&quot;Credit Card&quot;</td></tr><tr><td>&quot;a9adc9d11a8a4328560437bec5f5df…</td><td>&quot;90800746da6ccbc73d3233fe1e5f87…</td><td>2025-01-01 00:00:00</td><td>2025-01-01 00:15:00</td><td>1560</td><td>17.7</td><td>65</td><td>6</td><td>44.0</td><td>10.0</td><td>0.0</td><td>5.0</td><td>59.0</td><td>&quot;Credit Card&quot;</td></tr></tbody></table></div>"
      ],
      "text/plain": [
       "shape: (5, 14)\n",
       "┌────────────┬────────────┬────────────┬────────────┬───┬───────┬────────┬────────────┬────────────┐\n",
       "│ trip_id    ┆ taxi_id    ┆ trip_start ┆ trip_end_t ┆ … ┆ tolls ┆ extras ┆ trip_total ┆ payment_ty │\n",
       "│ ---        ┆ ---        ┆ _timestamp ┆ imestamp   ┆   ┆ ---   ┆ ---    ┆ ---        ┆ pe         │\n",
       "│ str        ┆ str        ┆ ---        ┆ ---        ┆   ┆ f64   ┆ f64    ┆ f64        ┆ ---        │\n",
       "│            ┆            ┆ datetime[μ ┆ datetime[μ ┆   ┆       ┆        ┆            ┆ str        │\n",
       "│            ┆            ┆ s]         ┆ s]         ┆   ┆       ┆        ┆            ┆            │\n",
       "╞════════════╪════════════╪════════════╪════════════╪═══╪═══════╪════════╪════════════╪════════════╡\n",
       "│ 604c104c64 ┆ d3b33673ee ┆ 2025-01-01 ┆ 2025-01-01 ┆ … ┆ 0.0   ┆ 0.0    ┆ 25.5       ┆ Unknown    │\n",
       "│ de68af93a0 ┆ 1a39325983 ┆ 00:00:00   ┆ 00:30:00   ┆   ┆       ┆        ┆            ┆            │\n",
       "│ f69ed52ba5 ┆ e66d426003 ┆            ┆            ┆   ┆       ┆        ┆            ┆            │\n",
       "│ …          ┆ …          ┆            ┆            ┆   ┆       ┆        ┆            ┆            │\n",
       "│ eadda0d366 ┆ 52c3ffa685 ┆ 2025-01-01 ┆ 2025-01-01 ┆ … ┆ 0.0   ┆ 5.5    ┆ 57.75      ┆ Credit     │\n",
       "│ a84b7b7d70 ┆ a3b5ced3d1 ┆ 00:00:00   ┆ 00:30:00   ┆   ┆       ┆        ┆            ┆ Card       │\n",
       "│ 5ac0bd93cd ┆ 6461deec5a ┆            ┆            ┆   ┆       ┆        ┆            ┆            │\n",
       "│ …          ┆ …          ┆            ┆            ┆   ┆       ┆        ┆            ┆            │\n",
       "│ 9196437a32 ┆ da31cff8b8 ┆ 2025-01-01 ┆ 2025-01-01 ┆ … ┆ 0.0   ┆ 5.0    ┆ 77.62      ┆ Credit     │\n",
       "│ 265173310d ┆ ee7eb6f5a9 ┆ 00:00:00   ┆ 00:30:00   ┆   ┆       ┆        ┆            ┆ Card       │\n",
       "│ f6bcb0a964 ┆ 4a452ebfb7 ┆            ┆            ┆   ┆       ┆        ┆            ┆            │\n",
       "│ …          ┆ …          ┆            ┆            ┆   ┆       ┆        ┆            ┆            │\n",
       "│ defd0751ba ┆ f35fcc7d28 ┆ 2025-01-01 ┆ 2025-01-01 ┆ … ┆ 0.0   ┆ 0.0    ┆ 8.0        ┆ Credit     │\n",
       "│ 153874755a ┆ fd3ca0324a ┆ 00:00:00   ┆ 00:00:00   ┆   ┆       ┆        ┆            ┆ Card       │\n",
       "│ 8ff0cf0ea1 ┆ d6b42c6bf1 ┆            ┆            ┆   ┆       ┆        ┆            ┆            │\n",
       "│ …          ┆ …          ┆            ┆            ┆   ┆       ┆        ┆            ┆            │\n",
       "│ a9adc9d11a ┆ 90800746da ┆ 2025-01-01 ┆ 2025-01-01 ┆ … ┆ 0.0   ┆ 5.0    ┆ 59.0       ┆ Credit     │\n",
       "│ 8a43285604 ┆ 6ccbc73d32 ┆ 00:00:00   ┆ 00:15:00   ┆   ┆       ┆        ┆            ┆ Card       │\n",
       "│ 37bec5f5df ┆ 33fe1e5f87 ┆            ┆            ┆   ┆       ┆        ┆            ┆            │\n",
       "│ …          ┆ …          ┆            ┆            ┆   ┆       ┆        ┆            ┆            │\n",
       "└────────────┴────────────┴────────────┴────────────┴───┴───────┴────────┴────────────┴────────────┘"
      ]
     },
     "execution_count": 224,
     "metadata": {},
     "output_type": "execute_result"
    }
   ],
   "source": [
    "fact_trip.head()"
   ]
  }
 ],
 "metadata": {
  "kernelspec": {
   "display_name": "Python 3",
   "language": "python",
   "name": "python3"
  },
  "language_info": {
   "codemirror_mode": {
    "name": "ipython",
    "version": 3
   },
   "file_extension": ".py",
   "mimetype": "text/x-python",
   "name": "python",
   "nbconvert_exporter": "python",
   "pygments_lexer": "ipython3",
   "version": "3.13.1"
  }
 },
 "nbformat": 4,
 "nbformat_minor": 2
}
