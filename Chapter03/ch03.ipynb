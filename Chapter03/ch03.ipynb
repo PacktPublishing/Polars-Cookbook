{
 "cells": [
  {
   "cell_type": "markdown",
   "metadata": {},
   "source": [
    "# Chapter 3: Introduction to Data Analysis in Python Polars "
   ]
  },
  {
   "cell_type": "markdown",
   "metadata": {},
   "source": [
    "## Inspecting a DataFrame"
   ]
  },
  {
   "cell_type": "markdown",
   "metadata": {},
   "source": [
    "### How to do it..."
   ]
  },
  {
   "cell_type": "code",
   "execution_count": 2,
   "metadata": {},
   "outputs": [],
   "source": [
    "import polars as pl"
   ]
  },
  {
   "cell_type": "code",
   "execution_count": 3,
   "metadata": {},
   "outputs": [],
   "source": [
    "df = pl.read_csv('../data/covid_19_deaths.csv')"
   ]
  },
  {
   "cell_type": "code",
   "execution_count": 4,
   "metadata": {},
   "outputs": [
    {
     "data": {
      "text/html": [
       "<div><style>\n",
       ".dataframe > thead > tr,\n",
       ".dataframe > tbody > tr {\n",
       "  text-align: right;\n",
       "  white-space: pre-wrap;\n",
       "}\n",
       "</style>\n",
       "<small>shape: (5, 16)</small><table border=\"1\" class=\"dataframe\"><thead><tr><th>Data As Of</th><th>Start Date</th><th>End Date</th><th>Group</th><th>Year</th><th>Month</th><th>State</th><th>Sex</th><th>Age Group</th><th>COVID-19 Deaths</th><th>Total Deaths</th><th>Pneumonia Deaths</th><th>Pneumonia and COVID-19 Deaths</th><th>Influenza Deaths</th><th>Pneumonia, Influenza, or COVID-19 Deaths</th><th>Footnote</th></tr><tr><td>str</td><td>str</td><td>str</td><td>str</td><td>str</td><td>str</td><td>str</td><td>str</td><td>str</td><td>i64</td><td>i64</td><td>i64</td><td>i64</td><td>i64</td><td>i64</td><td>str</td></tr></thead><tbody><tr><td>&quot;09/27/2023&quot;</td><td>&quot;01/01/2020&quot;</td><td>&quot;09/23/2023&quot;</td><td>&quot;By Total&quot;</td><td>null</td><td>null</td><td>&quot;United States&quot;</td><td>&quot;All Sexes&quot;</td><td>&quot;All Ages&quot;</td><td>1146774</td><td>12303399</td><td>1162844</td><td>569264</td><td>22229</td><td>1760095</td><td>null</td></tr><tr><td>&quot;09/27/2023&quot;</td><td>&quot;01/01/2020&quot;</td><td>&quot;09/23/2023&quot;</td><td>&quot;By Total&quot;</td><td>null</td><td>null</td><td>&quot;United States&quot;</td><td>&quot;All Sexes&quot;</td><td>&quot;Under 1 year&quot;</td><td>519</td><td>73213</td><td>1056</td><td>95</td><td>64</td><td>1541</td><td>null</td></tr><tr><td>&quot;09/27/2023&quot;</td><td>&quot;01/01/2020&quot;</td><td>&quot;09/23/2023&quot;</td><td>&quot;By Total&quot;</td><td>null</td><td>null</td><td>&quot;United States&quot;</td><td>&quot;All Sexes&quot;</td><td>&quot;0-17 years&quot;</td><td>1696</td><td>130970</td><td>2961</td><td>424</td><td>509</td><td>4716</td><td>null</td></tr><tr><td>&quot;09/27/2023&quot;</td><td>&quot;01/01/2020&quot;</td><td>&quot;09/23/2023&quot;</td><td>&quot;By Total&quot;</td><td>null</td><td>null</td><td>&quot;United States&quot;</td><td>&quot;All Sexes&quot;</td><td>&quot;1-4 years&quot;</td><td>285</td><td>14299</td><td>692</td><td>66</td><td>177</td><td>1079</td><td>null</td></tr><tr><td>&quot;09/27/2023&quot;</td><td>&quot;01/01/2020&quot;</td><td>&quot;09/23/2023&quot;</td><td>&quot;By Total&quot;</td><td>null</td><td>null</td><td>&quot;United States&quot;</td><td>&quot;All Sexes&quot;</td><td>&quot;5-14 years&quot;</td><td>509</td><td>22008</td><td>818</td><td>143</td><td>219</td><td>1390</td><td>null</td></tr></tbody></table></div>"
      ],
      "text/plain": [
       "shape: (5, 16)\n",
       "┌────────────┬───────────┬───────────┬──────────┬───┬───────────┬───────────┬───────────┬──────────┐\n",
       "│ Data As Of ┆ Start     ┆ End Date  ┆ Group    ┆ … ┆ Pneumonia ┆ Influenza ┆ Pneumonia ┆ Footnote │\n",
       "│ ---        ┆ Date      ┆ ---       ┆ ---      ┆   ┆ and       ┆ Deaths    ┆ , Influen ┆ ---      │\n",
       "│ str        ┆ ---       ┆ str       ┆ str      ┆   ┆ COVID-19  ┆ ---       ┆ za, or    ┆ str      │\n",
       "│            ┆ str       ┆           ┆          ┆   ┆ Deaths    ┆ i64       ┆ COVID…    ┆          │\n",
       "│            ┆           ┆           ┆          ┆   ┆ ---       ┆           ┆ ---       ┆          │\n",
       "│            ┆           ┆           ┆          ┆   ┆ i64       ┆           ┆ i64       ┆          │\n",
       "╞════════════╪═══════════╪═══════════╪══════════╪═══╪═══════════╪═══════════╪═══════════╪══════════╡\n",
       "│ 09/27/2023 ┆ 01/01/202 ┆ 09/23/202 ┆ By Total ┆ … ┆ 569264    ┆ 22229     ┆ 1760095   ┆ null     │\n",
       "│            ┆ 0         ┆ 3         ┆          ┆   ┆           ┆           ┆           ┆          │\n",
       "│ 09/27/2023 ┆ 01/01/202 ┆ 09/23/202 ┆ By Total ┆ … ┆ 95        ┆ 64        ┆ 1541      ┆ null     │\n",
       "│            ┆ 0         ┆ 3         ┆          ┆   ┆           ┆           ┆           ┆          │\n",
       "│ 09/27/2023 ┆ 01/01/202 ┆ 09/23/202 ┆ By Total ┆ … ┆ 424       ┆ 509       ┆ 4716      ┆ null     │\n",
       "│            ┆ 0         ┆ 3         ┆          ┆   ┆           ┆           ┆           ┆          │\n",
       "│ 09/27/2023 ┆ 01/01/202 ┆ 09/23/202 ┆ By Total ┆ … ┆ 66        ┆ 177       ┆ 1079      ┆ null     │\n",
       "│            ┆ 0         ┆ 3         ┆          ┆   ┆           ┆           ┆           ┆          │\n",
       "│ 09/27/2023 ┆ 01/01/202 ┆ 09/23/202 ┆ By Total ┆ … ┆ 143       ┆ 219       ┆ 1390      ┆ null     │\n",
       "│            ┆ 0         ┆ 3         ┆          ┆   ┆           ┆           ┆           ┆          │\n",
       "└────────────┴───────────┴───────────┴──────────┴───┴───────────┴───────────┴───────────┴──────────┘"
      ]
     },
     "execution_count": 4,
     "metadata": {},
     "output_type": "execute_result"
    }
   ],
   "source": [
    "df.head(5)"
   ]
  },
  {
   "cell_type": "code",
   "execution_count": 5,
   "metadata": {},
   "outputs": [
    {
     "data": {
      "text/html": [
       "<div><style>\n",
       ".dataframe > thead > tr,\n",
       ".dataframe > tbody > tr {\n",
       "  text-align: right;\n",
       "  white-space: pre-wrap;\n",
       "}\n",
       "</style>\n",
       "<small>shape: (5, 16)</small><table border=\"1\" class=\"dataframe\"><thead><tr><th>Data As Of</th><th>Start Date</th><th>End Date</th><th>Group</th><th>Year</th><th>Month</th><th>State</th><th>Sex</th><th>Age Group</th><th>COVID-19 Deaths</th><th>Total Deaths</th><th>Pneumonia Deaths</th><th>Pneumonia and COVID-19 Deaths</th><th>Influenza Deaths</th><th>Pneumonia, Influenza, or COVID-19 Deaths</th><th>Footnote</th></tr><tr><td>str</td><td>str</td><td>str</td><td>str</td><td>str</td><td>str</td><td>str</td><td>str</td><td>str</td><td>i64</td><td>i64</td><td>i64</td><td>i64</td><td>i64</td><td>i64</td><td>str</td></tr></thead><tbody><tr><td>&quot;09/27/2023&quot;</td><td>&quot;09/01/2023&quot;</td><td>&quot;09/23/2023&quot;</td><td>&quot;By Month&quot;</td><td>&quot;2023&quot;</td><td>&quot;9&quot;</td><td>&quot;Puerto Rico&quot;</td><td>&quot;Female&quot;</td><td>&quot;50-64 years&quot;</td><td>null</td><td>75</td><td>14</td><td>null</td><td>0</td><td>14</td><td>&quot;One or more data cells have co…</td></tr><tr><td>&quot;09/27/2023&quot;</td><td>&quot;09/01/2023&quot;</td><td>&quot;09/23/2023&quot;</td><td>&quot;By Month&quot;</td><td>&quot;2023&quot;</td><td>&quot;9&quot;</td><td>&quot;Puerto Rico&quot;</td><td>&quot;Female&quot;</td><td>&quot;55-64 years&quot;</td><td>0</td><td>65</td><td>10</td><td>0</td><td>0</td><td>10</td><td>null</td></tr><tr><td>&quot;09/27/2023&quot;</td><td>&quot;09/01/2023&quot;</td><td>&quot;09/23/2023&quot;</td><td>&quot;By Month&quot;</td><td>&quot;2023&quot;</td><td>&quot;9&quot;</td><td>&quot;Puerto Rico&quot;</td><td>&quot;Female&quot;</td><td>&quot;65-74 years&quot;</td><td>null</td><td>91</td><td>null</td><td>null</td><td>0</td><td>null</td><td>&quot;One or more data cells have co…</td></tr><tr><td>&quot;09/27/2023&quot;</td><td>&quot;09/01/2023&quot;</td><td>&quot;09/23/2023&quot;</td><td>&quot;By Month&quot;</td><td>&quot;2023&quot;</td><td>&quot;9&quot;</td><td>&quot;Puerto Rico&quot;</td><td>&quot;Female&quot;</td><td>&quot;75-84 years&quot;</td><td>null</td><td>211</td><td>36</td><td>null</td><td>0</td><td>38</td><td>&quot;One or more data cells have co…</td></tr><tr><td>&quot;09/27/2023&quot;</td><td>&quot;09/01/2023&quot;</td><td>&quot;09/23/2023&quot;</td><td>&quot;By Month&quot;</td><td>&quot;2023&quot;</td><td>&quot;9&quot;</td><td>&quot;Puerto Rico&quot;</td><td>&quot;Female&quot;</td><td>&quot;85 years and over&quot;</td><td>null</td><td>265</td><td>42</td><td>null</td><td>null</td><td>44</td><td>&quot;One or more data cells have co…</td></tr></tbody></table></div>"
      ],
      "text/plain": [
       "shape: (5, 16)\n",
       "┌───────────┬───────────┬───────────┬──────────┬───┬───────────┬───────────┬───────────┬───────────┐\n",
       "│ Data As   ┆ Start     ┆ End Date  ┆ Group    ┆ … ┆ Pneumonia ┆ Influenza ┆ Pneumonia ┆ Footnote  │\n",
       "│ Of        ┆ Date      ┆ ---       ┆ ---      ┆   ┆ and       ┆ Deaths    ┆ , Influen ┆ ---       │\n",
       "│ ---       ┆ ---       ┆ str       ┆ str      ┆   ┆ COVID-19  ┆ ---       ┆ za, or    ┆ str       │\n",
       "│ str       ┆ str       ┆           ┆          ┆   ┆ Deaths    ┆ i64       ┆ COVID…    ┆           │\n",
       "│           ┆           ┆           ┆          ┆   ┆ ---       ┆           ┆ ---       ┆           │\n",
       "│           ┆           ┆           ┆          ┆   ┆ i64       ┆           ┆ i64       ┆           │\n",
       "╞═══════════╪═══════════╪═══════════╪══════════╪═══╪═══════════╪═══════════╪═══════════╪═══════════╡\n",
       "│ 09/27/202 ┆ 09/01/202 ┆ 09/23/202 ┆ By Month ┆ … ┆ null      ┆ 0         ┆ 14        ┆ One or    │\n",
       "│ 3         ┆ 3         ┆ 3         ┆          ┆   ┆           ┆           ┆           ┆ more data │\n",
       "│           ┆           ┆           ┆          ┆   ┆           ┆           ┆           ┆ cells     │\n",
       "│           ┆           ┆           ┆          ┆   ┆           ┆           ┆           ┆ have co…  │\n",
       "│ 09/27/202 ┆ 09/01/202 ┆ 09/23/202 ┆ By Month ┆ … ┆ 0         ┆ 0         ┆ 10        ┆ null      │\n",
       "│ 3         ┆ 3         ┆ 3         ┆          ┆   ┆           ┆           ┆           ┆           │\n",
       "│ 09/27/202 ┆ 09/01/202 ┆ 09/23/202 ┆ By Month ┆ … ┆ null      ┆ 0         ┆ null      ┆ One or    │\n",
       "│ 3         ┆ 3         ┆ 3         ┆          ┆   ┆           ┆           ┆           ┆ more data │\n",
       "│           ┆           ┆           ┆          ┆   ┆           ┆           ┆           ┆ cells     │\n",
       "│           ┆           ┆           ┆          ┆   ┆           ┆           ┆           ┆ have co…  │\n",
       "│ 09/27/202 ┆ 09/01/202 ┆ 09/23/202 ┆ By Month ┆ … ┆ null      ┆ 0         ┆ 38        ┆ One or    │\n",
       "│ 3         ┆ 3         ┆ 3         ┆          ┆   ┆           ┆           ┆           ┆ more data │\n",
       "│           ┆           ┆           ┆          ┆   ┆           ┆           ┆           ┆ cells     │\n",
       "│           ┆           ┆           ┆          ┆   ┆           ┆           ┆           ┆ have co…  │\n",
       "│ 09/27/202 ┆ 09/01/202 ┆ 09/23/202 ┆ By Month ┆ … ┆ null      ┆ null      ┆ 44        ┆ One or    │\n",
       "│ 3         ┆ 3         ┆ 3         ┆          ┆   ┆           ┆           ┆           ┆ more data │\n",
       "│           ┆           ┆           ┆          ┆   ┆           ┆           ┆           ┆ cells     │\n",
       "│           ┆           ┆           ┆          ┆   ┆           ┆           ┆           ┆ have co…  │\n",
       "└───────────┴───────────┴───────────┴──────────┴───┴───────────┴───────────┴───────────┴───────────┘"
      ]
     },
     "execution_count": 5,
     "metadata": {},
     "output_type": "execute_result"
    }
   ],
   "source": [
    "df.tail(5)"
   ]
  },
  {
   "cell_type": "code",
   "execution_count": 6,
   "metadata": {},
   "outputs": [
    {
     "name": "stdout",
     "output_type": "stream",
     "text": [
      "Rows: 137700\n",
      "Columns: 16\n",
      "$ Data As Of                               <str> '09/27/2023', '09/27/2023', '09/27/2023'\n",
      "$ Start Date                               <str> '01/01/2020', '01/01/2020', '01/01/2020'\n",
      "$ End Date                                 <str> '09/23/2023', '09/23/2023', '09/23/2023'\n",
      "$ Group                                    <str> 'By Total', 'By Total', 'By Total'\n",
      "$ Year                                     <str> None, None, None\n",
      "$ Month                                    <str> None, None, None\n",
      "$ State                                    <str> 'United States', 'United States', 'United States'\n",
      "$ Sex                                      <str> 'All Sexes', 'All Sexes', 'All Sexes'\n",
      "$ Age Group                                <str> 'All Ages', 'Under 1 year', '0-17 years'\n",
      "$ COVID-19 Deaths                          <i64> 1146774, 519, 1696\n",
      "$ Total Deaths                             <i64> 12303399, 73213, 130970\n",
      "$ Pneumonia Deaths                         <i64> 1162844, 1056, 2961\n",
      "$ Pneumonia and COVID-19 Deaths            <i64> 569264, 95, 424\n",
      "$ Influenza Deaths                         <i64> 22229, 64, 509\n",
      "$ Pneumonia, Influenza, or COVID-19 Deaths <i64> 1760095, 1541, 4716\n",
      "$ Footnote                                 <str> None, None, None\n",
      "\n"
     ]
    }
   ],
   "source": [
    "df.glimpse(max_items_per_column=3)"
   ]
  },
  {
   "cell_type": "code",
   "execution_count": 7,
   "metadata": {},
   "outputs": [
    {
     "data": {
      "text/plain": [
       "26.869319915771484"
      ]
     },
     "execution_count": 7,
     "metadata": {},
     "output_type": "execute_result"
    }
   ],
   "source": [
    "df.estimated_size('mb')"
   ]
  },
  {
   "cell_type": "code",
   "execution_count": 101,
   "metadata": {},
   "outputs": [
    {
     "data": {
      "text/html": [
       "<div><style>\n",
       ".dataframe > thead > tr,\n",
       ".dataframe > tbody > tr {\n",
       "  text-align: right;\n",
       "  white-space: pre-wrap;\n",
       "}\n",
       "</style>\n",
       "<small>shape: (9, 6)</small><table border=\"1\" class=\"dataframe\"><thead><tr><th>statistic</th><th>sepal_length</th><th>sepal_width</th><th>petal_length</th><th>petal_width</th><th>species_id</th></tr><tr><td>str</td><td>f64</td><td>f64</td><td>f64</td><td>f64</td><td>f64</td></tr></thead><tbody><tr><td>&quot;count&quot;</td><td>150.0</td><td>150.0</td><td>150.0</td><td>150.0</td><td>150.0</td></tr><tr><td>&quot;null_count&quot;</td><td>0.0</td><td>0.0</td><td>0.0</td><td>0.0</td><td>0.0</td></tr><tr><td>&quot;mean&quot;</td><td>5.843333</td><td>3.054</td><td>3.758667</td><td>1.198667</td><td>2.0</td></tr><tr><td>&quot;std&quot;</td><td>0.828066</td><td>0.433594</td><td>1.76442</td><td>0.763161</td><td>0.819232</td></tr><tr><td>&quot;min&quot;</td><td>4.3</td><td>2.0</td><td>1.0</td><td>0.1</td><td>1.0</td></tr><tr><td>&quot;25%&quot;</td><td>5.1</td><td>2.8</td><td>1.6</td><td>0.3</td><td>1.0</td></tr><tr><td>&quot;50%&quot;</td><td>5.8</td><td>3.0</td><td>4.4</td><td>1.3</td><td>2.0</td></tr><tr><td>&quot;75%&quot;</td><td>6.4</td><td>3.3</td><td>5.1</td><td>1.8</td><td>3.0</td></tr><tr><td>&quot;max&quot;</td><td>7.9</td><td>4.4</td><td>6.9</td><td>2.5</td><td>3.0</td></tr></tbody></table></div>"
      ],
      "text/plain": [
       "shape: (9, 6)\n",
       "┌────────────┬──────────────┬─────────────┬──────────────┬─────────────┬────────────┐\n",
       "│ statistic  ┆ sepal_length ┆ sepal_width ┆ petal_length ┆ petal_width ┆ species_id │\n",
       "│ ---        ┆ ---          ┆ ---         ┆ ---          ┆ ---         ┆ ---        │\n",
       "│ str        ┆ f64          ┆ f64         ┆ f64          ┆ f64         ┆ f64        │\n",
       "╞════════════╪══════════════╪═════════════╪══════════════╪═════════════╪════════════╡\n",
       "│ count      ┆ 150.0        ┆ 150.0       ┆ 150.0        ┆ 150.0       ┆ 150.0      │\n",
       "│ null_count ┆ 0.0          ┆ 0.0         ┆ 0.0          ┆ 0.0         ┆ 0.0        │\n",
       "│ mean       ┆ 5.843333     ┆ 3.054       ┆ 3.758667     ┆ 1.198667    ┆ 2.0        │\n",
       "│ std        ┆ 0.828066     ┆ 0.433594    ┆ 1.76442      ┆ 0.763161    ┆ 0.819232   │\n",
       "│ min        ┆ 4.3          ┆ 2.0         ┆ 1.0          ┆ 0.1         ┆ 1.0        │\n",
       "│ 25%        ┆ 5.1          ┆ 2.8         ┆ 1.6          ┆ 0.3         ┆ 1.0        │\n",
       "│ 50%        ┆ 5.8          ┆ 3.0         ┆ 4.4          ┆ 1.3         ┆ 2.0        │\n",
       "│ 75%        ┆ 6.4          ┆ 3.3         ┆ 5.1          ┆ 1.8         ┆ 3.0        │\n",
       "│ max        ┆ 7.9          ┆ 4.4         ┆ 6.9          ┆ 2.5         ┆ 3.0        │\n",
       "└────────────┴──────────────┴─────────────┴──────────────┴─────────────┴────────────┘"
      ]
     },
     "execution_count": 101,
     "metadata": {},
     "output_type": "execute_result"
    }
   ],
   "source": [
    "import polars.selectors as cs\n",
    "\"\"\"\n",
    "This script imports the `selectors` module from the `polars` library and uses it to select numeric columns from a DataFrame `df`. \n",
    "It then generates descriptive statistics for these numeric columns.\n",
    "\n",
    "Functions:\n",
    "    cs.numeric(): Returns a selector for numeric columns in the DataFrame.\n",
    "    df.select(): Selects columns from the DataFrame based on the provided selector.\n",
    "    df.describe(): Generates descriptive statistics for the selected columns.\n",
    "\n",
    "Usage:\n",
    "    Ensure that the DataFrame `df` is defined and contains numeric columns before running this script.\n",
    "\"\"\"\n",
    "df.select(cs.numeric()).describe()"
   ]
  },
  {
   "cell_type": "code",
   "execution_count": 9,
   "metadata": {},
   "outputs": [
    {
     "data": {
      "text/html": [
       "<div><style>\n",
       ".dataframe > thead > tr,\n",
       ".dataframe > tbody > tr {\n",
       "  text-align: right;\n",
       "  white-space: pre-wrap;\n",
       "}\n",
       "</style>\n",
       "<small>shape: (1, 16)</small><table border=\"1\" class=\"dataframe\"><thead><tr><th>Data As Of</th><th>Start Date</th><th>End Date</th><th>Group</th><th>Year</th><th>Month</th><th>State</th><th>Sex</th><th>Age Group</th><th>COVID-19 Deaths</th><th>Total Deaths</th><th>Pneumonia Deaths</th><th>Pneumonia and COVID-19 Deaths</th><th>Influenza Deaths</th><th>Pneumonia, Influenza, or COVID-19 Deaths</th><th>Footnote</th></tr><tr><td>u32</td><td>u32</td><td>u32</td><td>u32</td><td>u32</td><td>u32</td><td>u32</td><td>u32</td><td>u32</td><td>u32</td><td>u32</td><td>u32</td><td>u32</td><td>u32</td><td>u32</td><td>u32</td></tr></thead><tbody><tr><td>0</td><td>0</td><td>0</td><td>0</td><td>2754</td><td>13770</td><td>0</td><td>0</td><td>0</td><td>39430</td><td>19509</td><td>44864</td><td>36884</td><td>26688</td><td>44233</td><td>39804</td></tr></tbody></table></div>"
      ],
      "text/plain": [
       "shape: (1, 16)\n",
       "┌────────────┬────────────┬──────────┬───────┬───┬────────────┬────────────┬────────────┬──────────┐\n",
       "│ Data As Of ┆ Start Date ┆ End Date ┆ Group ┆ … ┆ Pneumonia  ┆ Influenza  ┆ Pneumonia, ┆ Footnote │\n",
       "│ ---        ┆ ---        ┆ ---      ┆ ---   ┆   ┆ and        ┆ Deaths     ┆ Influenza, ┆ ---      │\n",
       "│ u32        ┆ u32        ┆ u32      ┆ u32   ┆   ┆ COVID-19   ┆ ---        ┆ or COVID…  ┆ u32      │\n",
       "│            ┆            ┆          ┆       ┆   ┆ Deaths     ┆ u32        ┆ ---        ┆          │\n",
       "│            ┆            ┆          ┆       ┆   ┆ ---        ┆            ┆ u32        ┆          │\n",
       "│            ┆            ┆          ┆       ┆   ┆ u32        ┆            ┆            ┆          │\n",
       "╞════════════╪════════════╪══════════╪═══════╪═══╪════════════╪════════════╪════════════╪══════════╡\n",
       "│ 0          ┆ 0          ┆ 0        ┆ 0     ┆ … ┆ 36884      ┆ 26688      ┆ 44233      ┆ 39804    │\n",
       "└────────────┴────────────┴──────────┴───────┴───┴────────────┴────────────┴────────────┴──────────┘"
      ]
     },
     "execution_count": 9,
     "metadata": {},
     "output_type": "execute_result"
    }
   ],
   "source": [
    "df.null_count()"
   ]
  },
  {
   "cell_type": "markdown",
   "metadata": {},
   "source": [
    "### There is more..."
   ]
  },
  {
   "cell_type": "code",
   "execution_count": 10,
   "metadata": {},
   "outputs": [
    {
     "name": "stdout",
     "output_type": "stream",
     "text": [
      "shape: (5, 16)\n",
      "┌────────────┬───────────┬───────────┬──────────┬───┬───────────┬───────────┬───────────┬──────────┐\n",
      "│ Data As Of ┆ Start     ┆ End Date  ┆ Group    ┆ … ┆ Pneumonia ┆ Influenza ┆ Pneumonia ┆ Footnote │\n",
      "│ ---        ┆ Date      ┆ ---       ┆ ---      ┆   ┆ and       ┆ Deaths    ┆ , Influen ┆ ---      │\n",
      "│ str        ┆ ---       ┆ str       ┆ str      ┆   ┆ COVID-19  ┆ ---       ┆ za, or    ┆ str      │\n",
      "│            ┆ str       ┆           ┆          ┆   ┆ Deaths    ┆ i64       ┆ COVID…    ┆          │\n",
      "│            ┆           ┆           ┆          ┆   ┆ ---       ┆           ┆ ---       ┆          │\n",
      "│            ┆           ┆           ┆          ┆   ┆ i64       ┆           ┆ i64       ┆          │\n",
      "╞════════════╪═══════════╪═══════════╪══════════╪═══╪═══════════╪═══════════╪═══════════╪══════════╡\n",
      "│ 09/27/2023 ┆ 01/01/202 ┆ 09/23/202 ┆ By Total ┆ … ┆ 569264    ┆ 22229     ┆ 1760095   ┆ null     │\n",
      "│            ┆ 0         ┆ 3         ┆          ┆   ┆           ┆           ┆           ┆          │\n",
      "│ 09/27/2023 ┆ 01/01/202 ┆ 09/23/202 ┆ By Total ┆ … ┆ 95        ┆ 64        ┆ 1541      ┆ null     │\n",
      "│            ┆ 0         ┆ 3         ┆          ┆   ┆           ┆           ┆           ┆          │\n",
      "│ 09/27/2023 ┆ 01/01/202 ┆ 09/23/202 ┆ By Total ┆ … ┆ 424       ┆ 509       ┆ 4716      ┆ null     │\n",
      "│            ┆ 0         ┆ 3         ┆          ┆   ┆           ┆           ┆           ┆          │\n",
      "│ 09/27/2023 ┆ 01/01/202 ┆ 09/23/202 ┆ By Total ┆ … ┆ 66        ┆ 177       ┆ 1079      ┆ null     │\n",
      "│            ┆ 0         ┆ 3         ┆          ┆   ┆           ┆           ┆           ┆          │\n",
      "│ 09/27/2023 ┆ 01/01/202 ┆ 09/23/202 ┆ By Total ┆ … ┆ 143       ┆ 219       ┆ 1390      ┆ null     │\n",
      "│            ┆ 0         ┆ 3         ┆          ┆   ┆           ┆           ┆           ┆          │\n",
      "└────────────┴───────────┴───────────┴──────────┴───┴───────────┴───────────┴───────────┴──────────┘\n"
     ]
    }
   ],
   "source": [
    "print(df.head())"
   ]
  },
  {
   "cell_type": "code",
   "execution_count": 11,
   "metadata": {},
   "outputs": [
    {
     "name": "stdout",
     "output_type": "stream",
     "text": [
      "shape: (2, 16)\n",
      "┌────────┬────────┬────────┬────────┬──────┬───────┬───┬────────┬────────┬────────┬────────┬───────┐\n",
      "│ Data   ┆ Start  ┆ End    ┆ Group  ┆ Year ┆ Month ┆ … ┆ Pneumo ┆ Pneumo ┆ Influe ┆ Pneumo ┆ Footn │\n",
      "│ As Of  ┆ Date   ┆ Date   ┆ ---    ┆ ---  ┆ ---   ┆   ┆ nia    ┆ nia    ┆ nza    ┆ nia,   ┆ ote   │\n",
      "│ ---    ┆ ---    ┆ ---    ┆ str    ┆ str  ┆ str   ┆   ┆ Deaths ┆ and    ┆ Deaths ┆ Influe ┆ ---   │\n",
      "│ str    ┆ str    ┆ str    ┆        ┆      ┆       ┆   ┆ ---    ┆ COVID- ┆ ---    ┆ nza,   ┆ str   │\n",
      "│        ┆        ┆        ┆        ┆      ┆       ┆   ┆ i64    ┆ 19     ┆ i64    ┆ or     ┆       │\n",
      "│        ┆        ┆        ┆        ┆      ┆       ┆   ┆        ┆ Deaths ┆        ┆ COVID… ┆       │\n",
      "│        ┆        ┆        ┆        ┆      ┆       ┆   ┆        ┆ ---    ┆        ┆ ---    ┆       │\n",
      "│        ┆        ┆        ┆        ┆      ┆       ┆   ┆        ┆ i64    ┆        ┆ i64    ┆       │\n",
      "╞════════╪════════╪════════╪════════╪══════╪═══════╪═══╪════════╪════════╪════════╪════════╪═══════╡\n",
      "│ 09/27/ ┆ 01/01/ ┆ 09/23/ ┆ By     ┆ null ┆ null  ┆ … ┆ 116284 ┆ 569264 ┆ 22229  ┆ 176009 ┆ null  │\n",
      "│ 2023   ┆ 2020   ┆ 2023   ┆ Total  ┆      ┆       ┆   ┆ 4      ┆        ┆        ┆ 5      ┆       │\n",
      "│ 09/27/ ┆ 01/01/ ┆ 09/23/ ┆ By     ┆ null ┆ null  ┆ … ┆ 1056   ┆ 95     ┆ 64     ┆ 1541   ┆ null  │\n",
      "│ 2023   ┆ 2020   ┆ 2023   ┆ Total  ┆      ┆       ┆   ┆        ┆        ┆        ┆        ┆       │\n",
      "└────────┴────────┴────────┴────────┴──────┴───────┴───┴────────┴────────┴────────┴────────┴───────┘\n"
     ]
    }
   ],
   "source": [
    "with pl.Config() as config:\n",
    "    \"\"\"\n",
    "    This code snippet sets the table column width configuration for displaying DataFrames using the Polars library.\n",
    "    It sets the number of columns to display to 11 and then prints the first 2 rows of the DataFrame `df`.\n",
    "\n",
    "    - `pl.Config()`: Context manager for Polars configuration settings.\n",
    "    - `config.set_tbl_cols(11)`: Sets the number of columns to display in the table to 11.\n",
    "    - `df.head(2)`: Retrieves the first 2 rows of the DataFrame `df`.\n",
    "    \"\"\"\n",
    "    config.set_tbl_cols(11)\n",
    "    print(df.head(2))"
   ]
  },
  {
   "cell_type": "code",
   "execution_count": 12,
   "metadata": {},
   "outputs": [
    {
     "name": "stdout",
     "output_type": "stream",
     "text": [
      "shape: (2, 16)\n",
      "┌────────┬────────┬────────┬────────┬──────┬───────┬───┬────────┬────────┬────────┬────────┬───────┐\n",
      "│ Data   ┆ Start  ┆ End    ┆ Group  ┆ Year ┆ Month ┆ … ┆ Pneumo ┆ Pneumo ┆ Influe ┆ Pneumo ┆ Footn │\n",
      "│ As Of  ┆ Date   ┆ Date   ┆ ---    ┆ ---  ┆ ---   ┆   ┆ nia    ┆ nia    ┆ nza    ┆ nia,   ┆ ote   │\n",
      "│ ---    ┆ ---    ┆ ---    ┆ str    ┆ str  ┆ str   ┆   ┆ Deaths ┆ and    ┆ Deaths ┆ Influe ┆ ---   │\n",
      "│ str    ┆ str    ┆ str    ┆        ┆      ┆       ┆   ┆ ---    ┆ COVID- ┆ ---    ┆ nza,   ┆ str   │\n",
      "│        ┆        ┆        ┆        ┆      ┆       ┆   ┆ i64    ┆ 19     ┆ i64    ┆ or     ┆       │\n",
      "│        ┆        ┆        ┆        ┆      ┆       ┆   ┆        ┆ Deaths ┆        ┆ COVID… ┆       │\n",
      "│        ┆        ┆        ┆        ┆      ┆       ┆   ┆        ┆ ---    ┆        ┆ ---    ┆       │\n",
      "│        ┆        ┆        ┆        ┆      ┆       ┆   ┆        ┆ i64    ┆        ┆ i64    ┆       │\n",
      "╞════════╪════════╪════════╪════════╪══════╪═══════╪═══╪════════╪════════╪════════╪════════╪═══════╡\n",
      "│ 09/27/ ┆ 01/01/ ┆ 09/23/ ┆ By     ┆ null ┆ null  ┆ … ┆ 116284 ┆ 569264 ┆ 22229  ┆ 176009 ┆ null  │\n",
      "│ 2023   ┆ 2020   ┆ 2023   ┆ Total  ┆      ┆       ┆   ┆ 4      ┆        ┆        ┆ 5      ┆       │\n",
      "│ 09/27/ ┆ 01/01/ ┆ 09/23/ ┆ By     ┆ null ┆ null  ┆ … ┆ 1056   ┆ 95     ┆ 64     ┆ 1541   ┆ null  │\n",
      "│ 2023   ┆ 2020   ┆ 2023   ┆ Total  ┆      ┆       ┆   ┆        ┆        ┆        ┆        ┆       │\n",
      "└────────┴────────┴────────┴────────┴──────┴───────┴───┴────────┴────────┴────────┴────────┴───────┘\n"
     ]
    }
   ],
   "source": [
    "pl.Config.set_tbl_cols(11)\n",
    "print(df.head(2))"
   ]
  },
  {
   "cell_type": "markdown",
   "metadata": {},
   "source": [
    "## Casting data types"
   ]
  },
  {
   "cell_type": "markdown",
   "metadata": {},
   "source": [
    "### How to do it..."
   ]
  },
  {
   "cell_type": "code",
   "execution_count": 13,
   "metadata": {},
   "outputs": [],
   "source": [
    "import polars as pl"
   ]
  },
  {
   "cell_type": "code",
   "execution_count": 113,
   "metadata": {},
   "outputs": [
    {
     "data": {
      "text/html": [
       "<div><style>\n",
       ".dataframe > thead > tr,\n",
       ".dataframe > tbody > tr {\n",
       "  text-align: right;\n",
       "  white-space: pre-wrap;\n",
       "}\n",
       "</style>\n",
       "<small>shape: (5, 16)</small><table border=\"1\" class=\"dataframe\"><thead><tr><th>Data As Of</th><th>Start Date</th><th>End Date</th><th>Group</th><th>Year</th><th>&hellip;</th><th>Pneumonia Deaths</th><th>Pneumonia and COVID-19 Deaths</th><th>Influenza Deaths</th><th>Pneumonia, Influenza, or COVID-19 Deaths</th><th>Footnote</th></tr><tr><td>str</td><td>str</td><td>str</td><td>str</td><td>str</td><td>&hellip;</td><td>i64</td><td>i64</td><td>i64</td><td>i64</td><td>str</td></tr></thead><tbody><tr><td>&quot;09/27/2023&quot;</td><td>&quot;01/01/2020&quot;</td><td>&quot;09/23/2023&quot;</td><td>&quot;By Total&quot;</td><td>null</td><td>&hellip;</td><td>1162844</td><td>569264</td><td>22229</td><td>1760095</td><td>null</td></tr><tr><td>&quot;09/27/2023&quot;</td><td>&quot;01/01/2020&quot;</td><td>&quot;09/23/2023&quot;</td><td>&quot;By Total&quot;</td><td>null</td><td>&hellip;</td><td>1056</td><td>95</td><td>64</td><td>1541</td><td>null</td></tr><tr><td>&quot;09/27/2023&quot;</td><td>&quot;01/01/2020&quot;</td><td>&quot;09/23/2023&quot;</td><td>&quot;By Total&quot;</td><td>null</td><td>&hellip;</td><td>2961</td><td>424</td><td>509</td><td>4716</td><td>null</td></tr><tr><td>&quot;09/27/2023&quot;</td><td>&quot;01/01/2020&quot;</td><td>&quot;09/23/2023&quot;</td><td>&quot;By Total&quot;</td><td>null</td><td>&hellip;</td><td>692</td><td>66</td><td>177</td><td>1079</td><td>null</td></tr><tr><td>&quot;09/27/2023&quot;</td><td>&quot;01/01/2020&quot;</td><td>&quot;09/23/2023&quot;</td><td>&quot;By Total&quot;</td><td>null</td><td>&hellip;</td><td>818</td><td>143</td><td>219</td><td>1390</td><td>null</td></tr></tbody></table></div>"
      ],
      "text/plain": [
       "shape: (5, 16)\n",
       "┌────────┬────────┬────────┬────────┬──────┬───────┬───┬────────┬────────┬────────┬────────┬───────┐\n",
       "│ Data   ┆ Start  ┆ End    ┆ Group  ┆ Year ┆ Month ┆ … ┆ Pneumo ┆ Pneumo ┆ Influe ┆ Pneumo ┆ Footn │\n",
       "│ As Of  ┆ Date   ┆ Date   ┆ ---    ┆ ---  ┆ ---   ┆   ┆ nia    ┆ nia    ┆ nza    ┆ nia,   ┆ ote   │\n",
       "│ ---    ┆ ---    ┆ ---    ┆ str    ┆ str  ┆ str   ┆   ┆ Deaths ┆ and    ┆ Deaths ┆ Influe ┆ ---   │\n",
       "│ str    ┆ str    ┆ str    ┆        ┆      ┆       ┆   ┆ ---    ┆ COVID- ┆ ---    ┆ nza,   ┆ str   │\n",
       "│        ┆        ┆        ┆        ┆      ┆       ┆   ┆ i64    ┆ 19     ┆ i64    ┆ or     ┆       │\n",
       "│        ┆        ┆        ┆        ┆      ┆       ┆   ┆        ┆ Deaths ┆        ┆ COVID… ┆       │\n",
       "│        ┆        ┆        ┆        ┆      ┆       ┆   ┆        ┆ ---    ┆        ┆ ---    ┆       │\n",
       "│        ┆        ┆        ┆        ┆      ┆       ┆   ┆        ┆ i64    ┆        ┆ i64    ┆       │\n",
       "╞════════╪════════╪════════╪════════╪══════╪═══════╪═══╪════════╪════════╪════════╪════════╪═══════╡\n",
       "│ 09/27/ ┆ 01/01/ ┆ 09/23/ ┆ By     ┆ null ┆ null  ┆ … ┆ 116284 ┆ 569264 ┆ 22229  ┆ 176009 ┆ null  │\n",
       "│ 2023   ┆ 2020   ┆ 2023   ┆ Total  ┆      ┆       ┆   ┆ 4      ┆        ┆        ┆ 5      ┆       │\n",
       "│ 09/27/ ┆ 01/01/ ┆ 09/23/ ┆ By     ┆ null ┆ null  ┆ … ┆ 1056   ┆ 95     ┆ 64     ┆ 1541   ┆ null  │\n",
       "│ 2023   ┆ 2020   ┆ 2023   ┆ Total  ┆      ┆       ┆   ┆        ┆        ┆        ┆        ┆       │\n",
       "│ 09/27/ ┆ 01/01/ ┆ 09/23/ ┆ By     ┆ null ┆ null  ┆ … ┆ 2961   ┆ 424    ┆ 509    ┆ 4716   ┆ null  │\n",
       "│ 2023   ┆ 2020   ┆ 2023   ┆ Total  ┆      ┆       ┆   ┆        ┆        ┆        ┆        ┆       │\n",
       "│ 09/27/ ┆ 01/01/ ┆ 09/23/ ┆ By     ┆ null ┆ null  ┆ … ┆ 692    ┆ 66     ┆ 177    ┆ 1079   ┆ null  │\n",
       "│ 2023   ┆ 2020   ┆ 2023   ┆ Total  ┆      ┆       ┆   ┆        ┆        ┆        ┆        ┆       │\n",
       "│ 09/27/ ┆ 01/01/ ┆ 09/23/ ┆ By     ┆ null ┆ null  ┆ … ┆ 818    ┆ 143    ┆ 219    ┆ 1390   ┆ null  │\n",
       "│ 2023   ┆ 2020   ┆ 2023   ┆ Total  ┆      ┆       ┆   ┆        ┆        ┆        ┆        ┆       │\n",
       "└────────┴────────┴────────┴────────┴──────┴───────┴───┴────────┴────────┴────────┴────────┴───────┘"
      ]
     },
     "execution_count": 113,
     "metadata": {},
     "output_type": "execute_result"
    }
   ],
   "source": [
    "df = pl.read_csv('../data/covid_19_deaths.csv')\n",
    "df.head()"
   ]
  },
  {
   "cell_type": "code",
   "execution_count": 114,
   "metadata": {},
   "outputs": [
    {
     "data": {
      "text/html": [
       "<div><style>\n",
       ".dataframe > thead > tr,\n",
       ".dataframe > tbody > tr {\n",
       "  text-align: right;\n",
       "  white-space: pre-wrap;\n",
       "}\n",
       "</style>\n",
       "<small>shape: (5, 17)</small><table border=\"1\" class=\"dataframe\"><thead><tr><th>Data As Of</th><th>Start Date</th><th>End Date</th><th>Group</th><th>Year</th><th>&hellip;</th><th>Pneumonia and COVID-19 Deaths</th><th>Influenza Deaths</th><th>Pneumonia, Influenza, or COVID-19 Deaths</th><th>Footnote</th><th>End Date 2</th></tr><tr><td>date</td><td>date</td><td>date</td><td>str</td><td>i64</td><td>&hellip;</td><td>i64</td><td>i64</td><td>i64</td><td>str</td><td>date</td></tr></thead><tbody><tr><td>2023-09-27</td><td>2020-01-01</td><td>2023-09-23</td><td>&quot;By Total&quot;</td><td>null</td><td>&hellip;</td><td>569264</td><td>22229</td><td>1760095</td><td>null</td><td>2023-09-23</td></tr><tr><td>2023-09-27</td><td>2020-01-01</td><td>2023-09-23</td><td>&quot;By Total&quot;</td><td>null</td><td>&hellip;</td><td>95</td><td>64</td><td>1541</td><td>null</td><td>2023-09-23</td></tr><tr><td>2023-09-27</td><td>2020-01-01</td><td>2023-09-23</td><td>&quot;By Total&quot;</td><td>null</td><td>&hellip;</td><td>424</td><td>509</td><td>4716</td><td>null</td><td>2023-09-23</td></tr><tr><td>2023-09-27</td><td>2020-01-01</td><td>2023-09-23</td><td>&quot;By Total&quot;</td><td>null</td><td>&hellip;</td><td>66</td><td>177</td><td>1079</td><td>null</td><td>2023-09-23</td></tr><tr><td>2023-09-27</td><td>2020-01-01</td><td>2023-09-23</td><td>&quot;By Total&quot;</td><td>null</td><td>&hellip;</td><td>143</td><td>219</td><td>1390</td><td>null</td><td>2023-09-23</td></tr></tbody></table></div>"
      ],
      "text/plain": [
       "shape: (5, 17)\n",
       "┌────────┬────────┬────────┬────────┬──────┬───────┬───┬────────┬────────┬────────┬────────┬───────┐\n",
       "│ Data   ┆ Start  ┆ End    ┆ Group  ┆ Year ┆ Month ┆ … ┆ Pneumo ┆ Influe ┆ Pneumo ┆ Footno ┆ End   │\n",
       "│ As Of  ┆ Date   ┆ Date   ┆ ---    ┆ ---  ┆ ---   ┆   ┆ nia    ┆ nza    ┆ nia,   ┆ te     ┆ Date  │\n",
       "│ ---    ┆ ---    ┆ ---    ┆ str    ┆ i64  ┆ str   ┆   ┆ and    ┆ Deaths ┆ Influe ┆ ---    ┆ 2     │\n",
       "│ date   ┆ date   ┆ date   ┆        ┆      ┆       ┆   ┆ COVID- ┆ ---    ┆ nza,   ┆ str    ┆ ---   │\n",
       "│        ┆        ┆        ┆        ┆      ┆       ┆   ┆ 19     ┆ i64    ┆ or     ┆        ┆ date  │\n",
       "│        ┆        ┆        ┆        ┆      ┆       ┆   ┆ Deaths ┆        ┆ COVID… ┆        ┆       │\n",
       "│        ┆        ┆        ┆        ┆      ┆       ┆   ┆ ---    ┆        ┆ ---    ┆        ┆       │\n",
       "│        ┆        ┆        ┆        ┆      ┆       ┆   ┆ i64    ┆        ┆ i64    ┆        ┆       │\n",
       "╞════════╪════════╪════════╪════════╪══════╪═══════╪═══╪════════╪════════╪════════╪════════╪═══════╡\n",
       "│ 2023-0 ┆ 2020-0 ┆ 2023-0 ┆ By     ┆ null ┆ null  ┆ … ┆ 569264 ┆ 22229  ┆ 176009 ┆ null   ┆ 2023- │\n",
       "│ 9-27   ┆ 1-01   ┆ 9-23   ┆ Total  ┆      ┆       ┆   ┆        ┆        ┆ 5      ┆        ┆ 09-23 │\n",
       "│ 2023-0 ┆ 2020-0 ┆ 2023-0 ┆ By     ┆ null ┆ null  ┆ … ┆ 95     ┆ 64     ┆ 1541   ┆ null   ┆ 2023- │\n",
       "│ 9-27   ┆ 1-01   ┆ 9-23   ┆ Total  ┆      ┆       ┆   ┆        ┆        ┆        ┆        ┆ 09-23 │\n",
       "│ 2023-0 ┆ 2020-0 ┆ 2023-0 ┆ By     ┆ null ┆ null  ┆ … ┆ 424    ┆ 509    ┆ 4716   ┆ null   ┆ 2023- │\n",
       "│ 9-27   ┆ 1-01   ┆ 9-23   ┆ Total  ┆      ┆       ┆   ┆        ┆        ┆        ┆        ┆ 09-23 │\n",
       "│ 2023-0 ┆ 2020-0 ┆ 2023-0 ┆ By     ┆ null ┆ null  ┆ … ┆ 66     ┆ 177    ┆ 1079   ┆ null   ┆ 2023- │\n",
       "│ 9-27   ┆ 1-01   ┆ 9-23   ┆ Total  ┆      ┆       ┆   ┆        ┆        ┆        ┆        ┆ 09-23 │\n",
       "│ 2023-0 ┆ 2020-0 ┆ 2023-0 ┆ By     ┆ null ┆ null  ┆ … ┆ 143    ┆ 219    ┆ 1390   ┆ null   ┆ 2023- │\n",
       "│ 9-27   ┆ 1-01   ┆ 9-23   ┆ Total  ┆      ┆       ┆   ┆        ┆        ┆        ┆        ┆ 09-23 │\n",
       "└────────┴────────┴────────┴────────┴──────┴───────┴───┴────────┴────────┴────────┴────────┴───────┘"
      ]
     },
     "execution_count": 114,
     "metadata": {},
     "output_type": "execute_result"
    }
   ],
   "source": [
    "# This code snippet performs the following operations on a DataFrame `df` using the Polars library:\n",
    "# \n",
    "# 1. Converts the 'Data As Of' column from a string to a date format using the '%m/%d/%Y' pattern.\n",
    "# 2. Converts the 'Start Date' column from a string to a date format using the '%m/%d/%Y' pattern.\n",
    "# 3. Converts the 'End Date' column from a string to a date format using the '%m/%d/%Y' pattern.\n",
    "# 4. Converts the 'End Date' column from a string to a date format using the '%m/%d/%Y' pattern and renames it to 'End Date 2'.\n",
    "# 5. Casts the 'Year' column to a 64-bit integer type.\n",
    "# \n",
    "# Finally, it returns the first few rows of the modified DataFrame using the `head()` method.\n",
    "\n",
    "df = df.rename({col.strip(): col.strip() for col in df.columns})\n",
    "\n",
    "df = df.with_columns(\n",
    "    pl.col('Data As Of').cast(pl.Utf8).str.strptime(pl.Date, '%m/%d/%Y'),\n",
    "    pl.col('Start Date').cast(pl.Utf8).str.strptime(pl.Date, '%m/%d/%Y'),\n",
    "    pl.col('End Date').cast(pl.Utf8).str.strptime(pl.Date, '%m/%d/%Y'),\n",
    "    pl.col('End Date').cast(pl.Utf8).str.to_date('%m/%d/%Y').alias('End Date 2'),\n",
    "    pl.col('Year').cast(pl.Int64)\n",
    ")\n",
    "\n",
    "df.head()\n"
   ]
  },
  {
   "cell_type": "code",
   "execution_count": 122,
   "metadata": {},
   "outputs": [],
   "source": [
    "\"\"\"\n",
    "Updates the DataFrame by performing the following transformations on specified columns:\n",
    "- Casts the 'Data As Of' column to a string and then converts it to a date with the format '%Y-%m-%d'.\n",
    "- Casts the 'Start Date' column to a string and then parses it to a date with the format '%Y-%m-%d' without strict validation.\n",
    "- Casts the 'End Date' column to a string and then parses it to a date with the format '%m/%d/%Y' without strict validation, renaming the resulting column to 'End Date 2'.\n",
    "- Casts the 'Year' column to a 64-bit integer.\n",
    "\n",
    "Returns:\n",
    "    DataFrame: The updated DataFrame with the transformed columns.\n",
    "\"\"\"\n",
    "updated_df = df.with_columns(\n",
    "    pl.col('Data As Of').cast(pl.Utf8).str.to_date('%Y-%m-%d'),\n",
    "    pl.col('Start Date').cast(pl.Utf8).str.strptime(pl.Date, '%Y-%m-%d', strict=False),\n",
    "    pl.col('End Date').cast(pl.Utf8).str.strptime(pl.Date, '%m/%d/%Y', strict=False).alias('End Date 2'),\n",
    "    pl.col('Year').cast(pl.Int64)\n",
    ")"
   ]
  },
  {
   "cell_type": "code",
   "execution_count": 124,
   "metadata": {},
   "outputs": [
    {
     "data": {
      "text/html": [
       "<div><style>\n",
       ".dataframe > thead > tr,\n",
       ".dataframe > tbody > tr {\n",
       "  text-align: right;\n",
       "  white-space: pre-wrap;\n",
       "}\n",
       "</style>\n",
       "<small>shape: (5, 17)</small><table border=\"1\" class=\"dataframe\"><thead><tr><th>Data As Of</th><th>Start Date</th><th>End Date</th><th>Group</th><th>Year</th><th>&hellip;</th><th>Pneumonia and COVID-19 Deaths</th><th>Influenza Deaths</th><th>Pneumonia, Influenza, or COVID-19 Deaths</th><th>Footnote</th><th>End Date 2</th></tr><tr><td>date</td><td>date</td><td>date</td><td>str</td><td>i64</td><td>&hellip;</td><td>i64</td><td>i64</td><td>i64</td><td>str</td><td>date</td></tr></thead><tbody><tr><td>2023-09-27</td><td>2020-01-01</td><td>2023-09-23</td><td>&quot;By Total&quot;</td><td>null</td><td>&hellip;</td><td>569264</td><td>22229</td><td>1760095</td><td>null</td><td>2023-09-23</td></tr><tr><td>2023-09-27</td><td>2020-01-01</td><td>2023-09-23</td><td>&quot;By Total&quot;</td><td>null</td><td>&hellip;</td><td>95</td><td>64</td><td>1541</td><td>null</td><td>2023-09-23</td></tr><tr><td>2023-09-27</td><td>2020-01-01</td><td>2023-09-23</td><td>&quot;By Total&quot;</td><td>null</td><td>&hellip;</td><td>424</td><td>509</td><td>4716</td><td>null</td><td>2023-09-23</td></tr><tr><td>2023-09-27</td><td>2020-01-01</td><td>2023-09-23</td><td>&quot;By Total&quot;</td><td>null</td><td>&hellip;</td><td>66</td><td>177</td><td>1079</td><td>null</td><td>2023-09-23</td></tr><tr><td>2023-09-27</td><td>2020-01-01</td><td>2023-09-23</td><td>&quot;By Total&quot;</td><td>null</td><td>&hellip;</td><td>143</td><td>219</td><td>1390</td><td>null</td><td>2023-09-23</td></tr></tbody></table></div>"
      ],
      "text/plain": [
       "shape: (5, 17)\n",
       "┌────────┬────────┬────────┬────────┬──────┬───────┬───┬────────┬────────┬────────┬────────┬───────┐\n",
       "│ Data   ┆ Start  ┆ End    ┆ Group  ┆ Year ┆ Month ┆ … ┆ Pneumo ┆ Influe ┆ Pneumo ┆ Footno ┆ End   │\n",
       "│ As Of  ┆ Date   ┆ Date   ┆ ---    ┆ ---  ┆ ---   ┆   ┆ nia    ┆ nza    ┆ nia,   ┆ te     ┆ Date  │\n",
       "│ ---    ┆ ---    ┆ ---    ┆ str    ┆ i64  ┆ str   ┆   ┆ and    ┆ Deaths ┆ Influe ┆ ---    ┆ 2     │\n",
       "│ date   ┆ date   ┆ date   ┆        ┆      ┆       ┆   ┆ COVID- ┆ ---    ┆ nza,   ┆ str    ┆ ---   │\n",
       "│        ┆        ┆        ┆        ┆      ┆       ┆   ┆ 19     ┆ i64    ┆ or     ┆        ┆ date  │\n",
       "│        ┆        ┆        ┆        ┆      ┆       ┆   ┆ Deaths ┆        ┆ COVID… ┆        ┆       │\n",
       "│        ┆        ┆        ┆        ┆      ┆       ┆   ┆ ---    ┆        ┆ ---    ┆        ┆       │\n",
       "│        ┆        ┆        ┆        ┆      ┆       ┆   ┆ i64    ┆        ┆ i64    ┆        ┆       │\n",
       "╞════════╪════════╪════════╪════════╪══════╪═══════╪═══╪════════╪════════╪════════╪════════╪═══════╡\n",
       "│ 2023-0 ┆ 2020-0 ┆ 2023-0 ┆ By     ┆ null ┆ null  ┆ … ┆ 569264 ┆ 22229  ┆ 176009 ┆ null   ┆ 2023- │\n",
       "│ 9-27   ┆ 1-01   ┆ 9-23   ┆ Total  ┆      ┆       ┆   ┆        ┆        ┆ 5      ┆        ┆ 09-23 │\n",
       "│ 2023-0 ┆ 2020-0 ┆ 2023-0 ┆ By     ┆ null ┆ null  ┆ … ┆ 95     ┆ 64     ┆ 1541   ┆ null   ┆ 2023- │\n",
       "│ 9-27   ┆ 1-01   ┆ 9-23   ┆ Total  ┆      ┆       ┆   ┆        ┆        ┆        ┆        ┆ 09-23 │\n",
       "│ 2023-0 ┆ 2020-0 ┆ 2023-0 ┆ By     ┆ null ┆ null  ┆ … ┆ 424    ┆ 509    ┆ 4716   ┆ null   ┆ 2023- │\n",
       "│ 9-27   ┆ 1-01   ┆ 9-23   ┆ Total  ┆      ┆       ┆   ┆        ┆        ┆        ┆        ┆ 09-23 │\n",
       "│ 2023-0 ┆ 2020-0 ┆ 2023-0 ┆ By     ┆ null ┆ null  ┆ … ┆ 66     ┆ 177    ┆ 1079   ┆ null   ┆ 2023- │\n",
       "│ 9-27   ┆ 1-01   ┆ 9-23   ┆ Total  ┆      ┆       ┆   ┆        ┆        ┆        ┆        ┆ 09-23 │\n",
       "│ 2023-0 ┆ 2020-0 ┆ 2023-0 ┆ By     ┆ null ┆ null  ┆ … ┆ 143    ┆ 219    ┆ 1390   ┆ null   ┆ 2023- │\n",
       "│ 9-27   ┆ 1-01   ┆ 9-23   ┆ Total  ┆      ┆       ┆   ┆        ┆        ┆        ┆        ┆ 09-23 │\n",
       "└────────┴────────┴────────┴────────┴──────┴───────┴───┴────────┴────────┴────────┴────────┴───────┘"
      ]
     },
     "execution_count": 124,
     "metadata": {},
     "output_type": "execute_result"
    }
   ],
   "source": [
    "lf = pl.scan_csv('../data/covid_19_deaths.csv')\n",
    "\"\"\"\n",
    "This script reads a CSV file containing COVID-19 death data and processes the date columns.\n",
    "\n",
    "Steps:\n",
    "1. Reads the CSV file located at '../data/covid_19_deaths.csv' using Polars' lazy frame.\n",
    "2. Converts the 'Data As Of', 'Start Date', and 'End Date' columns from string to date format using the specified date format '%m/%d/%Y'.\n",
    "3. Converts the 'End Date' column to date format again and aliases it as 'End Date 2'.\n",
    "4. Casts the 'Year' column to 64-bit integer type.\n",
    "5. Collects the processed data and displays the first few rows.\n",
    "\n",
    "Returns:\n",
    "        A DataFrame containing the processed data with the first few rows displayed.\n",
    "\"\"\"\n",
    "lf.with_columns(\n",
    "        pl.col('Data As Of').str.strptime(pl.Date, '%m/%d/%Y'),\n",
    "        pl.col('Start Date').str.strptime(pl.Date, '%m/%d/%Y'),\n",
    "        pl.col('End Date').str.strptime(pl.Date, '%m/%d/%Y'),\n",
    "        pl.col('End Date').str.to_date('%m/%d/%Y').alias('End Date 2'),\n",
    "        pl.col('Year').cast(pl.Int64)\n",
    ").collect().head()"
   ]
  },
  {
   "cell_type": "markdown",
   "metadata": {},
   "source": [
    "## Finding and removing duplicates values "
   ]
  },
  {
   "cell_type": "markdown",
   "metadata": {},
   "source": [
    "### How to do it"
   ]
  },
  {
   "cell_type": "code",
   "execution_count": 64,
   "metadata": {},
   "outputs": [],
   "source": [
    "import polars as pl"
   ]
  },
  {
   "cell_type": "code",
   "execution_count": 65,
   "metadata": {},
   "outputs": [
    {
     "data": {
      "text/html": [
       "<div><style>\n",
       ".dataframe > thead > tr,\n",
       ".dataframe > tbody > tr {\n",
       "  text-align: right;\n",
       "  white-space: pre-wrap;\n",
       "}\n",
       "</style>\n",
       "<small>shape: (5, 16)</small><table border=\"1\" class=\"dataframe\"><thead><tr><th>Data As Of</th><th>Start Date</th><th>End Date</th><th>Group</th><th>Year</th><th>&hellip;</th><th>Pneumonia Deaths</th><th>Pneumonia and COVID-19 Deaths</th><th>Influenza Deaths</th><th>Pneumonia, Influenza, or COVID-19 Deaths</th><th>Footnote</th></tr><tr><td>str</td><td>str</td><td>str</td><td>str</td><td>str</td><td>&hellip;</td><td>i64</td><td>i64</td><td>i64</td><td>i64</td><td>str</td></tr></thead><tbody><tr><td>&quot;09/27/2023&quot;</td><td>&quot;01/01/2020&quot;</td><td>&quot;09/23/2023&quot;</td><td>&quot;By Total&quot;</td><td>null</td><td>&hellip;</td><td>1162844</td><td>569264</td><td>22229</td><td>1760095</td><td>null</td></tr><tr><td>&quot;09/27/2023&quot;</td><td>&quot;01/01/2020&quot;</td><td>&quot;09/23/2023&quot;</td><td>&quot;By Total&quot;</td><td>null</td><td>&hellip;</td><td>1056</td><td>95</td><td>64</td><td>1541</td><td>null</td></tr><tr><td>&quot;09/27/2023&quot;</td><td>&quot;01/01/2020&quot;</td><td>&quot;09/23/2023&quot;</td><td>&quot;By Total&quot;</td><td>null</td><td>&hellip;</td><td>2961</td><td>424</td><td>509</td><td>4716</td><td>null</td></tr><tr><td>&quot;09/27/2023&quot;</td><td>&quot;01/01/2020&quot;</td><td>&quot;09/23/2023&quot;</td><td>&quot;By Total&quot;</td><td>null</td><td>&hellip;</td><td>692</td><td>66</td><td>177</td><td>1079</td><td>null</td></tr><tr><td>&quot;09/27/2023&quot;</td><td>&quot;01/01/2020&quot;</td><td>&quot;09/23/2023&quot;</td><td>&quot;By Total&quot;</td><td>null</td><td>&hellip;</td><td>818</td><td>143</td><td>219</td><td>1390</td><td>null</td></tr></tbody></table></div>"
      ],
      "text/plain": [
       "shape: (5, 16)\n",
       "┌────────┬────────┬────────┬────────┬──────┬───────┬───┬────────┬────────┬────────┬────────┬───────┐\n",
       "│ Data   ┆ Start  ┆ End    ┆ Group  ┆ Year ┆ Month ┆ … ┆ Pneumo ┆ Pneumo ┆ Influe ┆ Pneumo ┆ Footn │\n",
       "│ As Of  ┆ Date   ┆ Date   ┆ ---    ┆ ---  ┆ ---   ┆   ┆ nia    ┆ nia    ┆ nza    ┆ nia,   ┆ ote   │\n",
       "│ ---    ┆ ---    ┆ ---    ┆ str    ┆ str  ┆ str   ┆   ┆ Deaths ┆ and    ┆ Deaths ┆ Influe ┆ ---   │\n",
       "│ str    ┆ str    ┆ str    ┆        ┆      ┆       ┆   ┆ ---    ┆ COVID- ┆ ---    ┆ nza,   ┆ str   │\n",
       "│        ┆        ┆        ┆        ┆      ┆       ┆   ┆ i64    ┆ 19     ┆ i64    ┆ or     ┆       │\n",
       "│        ┆        ┆        ┆        ┆      ┆       ┆   ┆        ┆ Deaths ┆        ┆ COVID… ┆       │\n",
       "│        ┆        ┆        ┆        ┆      ┆       ┆   ┆        ┆ ---    ┆        ┆ ---    ┆       │\n",
       "│        ┆        ┆        ┆        ┆      ┆       ┆   ┆        ┆ i64    ┆        ┆ i64    ┆       │\n",
       "╞════════╪════════╪════════╪════════╪══════╪═══════╪═══╪════════╪════════╪════════╪════════╪═══════╡\n",
       "│ 09/27/ ┆ 01/01/ ┆ 09/23/ ┆ By     ┆ null ┆ null  ┆ … ┆ 116284 ┆ 569264 ┆ 22229  ┆ 176009 ┆ null  │\n",
       "│ 2023   ┆ 2020   ┆ 2023   ┆ Total  ┆      ┆       ┆   ┆ 4      ┆        ┆        ┆ 5      ┆       │\n",
       "│ 09/27/ ┆ 01/01/ ┆ 09/23/ ┆ By     ┆ null ┆ null  ┆ … ┆ 1056   ┆ 95     ┆ 64     ┆ 1541   ┆ null  │\n",
       "│ 2023   ┆ 2020   ┆ 2023   ┆ Total  ┆      ┆       ┆   ┆        ┆        ┆        ┆        ┆       │\n",
       "│ 09/27/ ┆ 01/01/ ┆ 09/23/ ┆ By     ┆ null ┆ null  ┆ … ┆ 2961   ┆ 424    ┆ 509    ┆ 4716   ┆ null  │\n",
       "│ 2023   ┆ 2020   ┆ 2023   ┆ Total  ┆      ┆       ┆   ┆        ┆        ┆        ┆        ┆       │\n",
       "│ 09/27/ ┆ 01/01/ ┆ 09/23/ ┆ By     ┆ null ┆ null  ┆ … ┆ 692    ┆ 66     ┆ 177    ┆ 1079   ┆ null  │\n",
       "│ 2023   ┆ 2020   ┆ 2023   ┆ Total  ┆      ┆       ┆   ┆        ┆        ┆        ┆        ┆       │\n",
       "│ 09/27/ ┆ 01/01/ ┆ 09/23/ ┆ By     ┆ null ┆ null  ┆ … ┆ 818    ┆ 143    ┆ 219    ┆ 1390   ┆ null  │\n",
       "│ 2023   ┆ 2020   ┆ 2023   ┆ Total  ┆      ┆       ┆   ┆        ┆        ┆        ┆        ┆       │\n",
       "└────────┴────────┴────────┴────────┴──────┴───────┴───┴────────┴────────┴────────┴────────┴───────┘"
      ]
     },
     "execution_count": 65,
     "metadata": {},
     "output_type": "execute_result"
    }
   ],
   "source": [
    "df = pl.read_csv('../data/covid_19_deaths.csv')\n",
    "df.head()"
   ]
  },
  {
   "cell_type": "code",
   "execution_count": 66,
   "metadata": {},
   "outputs": [
    {
     "data": {
      "text/plain": [
       "(137700, 16)"
      ]
     },
     "execution_count": 66,
     "metadata": {},
     "output_type": "execute_result"
    }
   ],
   "source": [
    "df.shape"
   ]
  },
  {
   "cell_type": "code",
   "execution_count": 67,
   "metadata": {},
   "outputs": [
    {
     "data": {
      "text/plain": [
       "0"
      ]
     },
     "execution_count": 67,
     "metadata": {},
     "output_type": "execute_result"
    }
   ],
   "source": [
    "df.is_duplicated().sum()"
   ]
  },
  {
   "cell_type": "code",
   "execution_count": 68,
   "metadata": {},
   "outputs": [
    {
     "data": {
      "text/plain": [
       "137700"
      ]
     },
     "execution_count": 68,
     "metadata": {},
     "output_type": "execute_result"
    }
   ],
   "source": [
    "df.is_unique().sum()"
   ]
  },
  {
   "cell_type": "code",
   "execution_count": 69,
   "metadata": {},
   "outputs": [
    {
     "data": {
      "text/plain": [
       "137700"
      ]
     },
     "execution_count": 69,
     "metadata": {},
     "output_type": "execute_result"
    }
   ],
   "source": [
    "df.n_unique()"
   ]
  },
  {
   "cell_type": "code",
   "execution_count": 70,
   "metadata": {},
   "outputs": [
    {
     "data": {
      "text/html": [
       "<div><style>\n",
       ".dataframe > thead > tr,\n",
       ".dataframe > tbody > tr {\n",
       "  text-align: right;\n",
       "  white-space: pre-wrap;\n",
       "}\n",
       "</style>\n",
       "<small>shape: (1, 16)</small><table border=\"1\" class=\"dataframe\"><thead><tr><th>Data As Of</th><th>Start Date</th><th>End Date</th><th>Group</th><th>Year</th><th>&hellip;</th><th>Pneumonia Deaths</th><th>Pneumonia and COVID-19 Deaths</th><th>Influenza Deaths</th><th>Pneumonia, Influenza, or COVID-19 Deaths</th><th>Footnote</th></tr><tr><td>u32</td><td>u32</td><td>u32</td><td>u32</td><td>u32</td><td>&hellip;</td><td>u32</td><td>u32</td><td>u32</td><td>u32</td><td>u32</td></tr></thead><tbody><tr><td>1</td><td>45</td><td>45</td><td>3</td><td>5</td><td>&hellip;</td><td>3556</td><td>2533</td><td>493</td><td>4264</td><td>2</td></tr></tbody></table></div>"
      ],
      "text/plain": [
       "shape: (1, 16)\n",
       "┌────────┬────────┬────────┬───────┬──────┬───────┬───┬────────┬────────┬────────┬────────┬────────┐\n",
       "│ Data   ┆ Start  ┆ End    ┆ Group ┆ Year ┆ Month ┆ … ┆ Pneumo ┆ Pneumo ┆ Influe ┆ Pneumo ┆ Footno │\n",
       "│ As Of  ┆ Date   ┆ Date   ┆ ---   ┆ ---  ┆ ---   ┆   ┆ nia    ┆ nia    ┆ nza    ┆ nia,   ┆ te     │\n",
       "│ ---    ┆ ---    ┆ ---    ┆ u32   ┆ u32  ┆ u32   ┆   ┆ Deaths ┆ and    ┆ Deaths ┆ Influe ┆ ---    │\n",
       "│ u32    ┆ u32    ┆ u32    ┆       ┆      ┆       ┆   ┆ ---    ┆ COVID- ┆ ---    ┆ nza,   ┆ u32    │\n",
       "│        ┆        ┆        ┆       ┆      ┆       ┆   ┆ u32    ┆ 19     ┆ u32    ┆ or     ┆        │\n",
       "│        ┆        ┆        ┆       ┆      ┆       ┆   ┆        ┆ Deaths ┆        ┆ COVID… ┆        │\n",
       "│        ┆        ┆        ┆       ┆      ┆       ┆   ┆        ┆ ---    ┆        ┆ ---    ┆        │\n",
       "│        ┆        ┆        ┆       ┆      ┆       ┆   ┆        ┆ u32    ┆        ┆ u32    ┆        │\n",
       "╞════════╪════════╪════════╪═══════╪══════╪═══════╪═══╪════════╪════════╪════════╪════════╪════════╡\n",
       "│ 1      ┆ 45     ┆ 45     ┆ 3     ┆ 5    ┆ 13    ┆ … ┆ 3556   ┆ 2533   ┆ 493    ┆ 4264   ┆ 2      │\n",
       "└────────┴────────┴────────┴───────┴──────┴───────┴───┴────────┴────────┴────────┴────────┴────────┘"
      ]
     },
     "execution_count": 70,
     "metadata": {},
     "output_type": "execute_result"
    }
   ],
   "source": [
    "df.select(pl.all().n_unique())"
   ]
  },
  {
   "cell_type": "code",
   "execution_count": 71,
   "metadata": {},
   "outputs": [
    {
     "data": {
      "text/plain": [
       "50"
      ]
     },
     "execution_count": 71,
     "metadata": {},
     "output_type": "execute_result"
    }
   ],
   "source": [
    "df.n_unique(subset=['Start Date', 'End Date'])"
   ]
  },
  {
   "cell_type": "code",
   "execution_count": 72,
   "metadata": {},
   "outputs": [
    {
     "data": {
      "text/html": [
       "<div><style>\n",
       ".dataframe > thead > tr,\n",
       ".dataframe > tbody > tr {\n",
       "  text-align: right;\n",
       "  white-space: pre-wrap;\n",
       "}\n",
       "</style>\n",
       "<small>shape: (5, 16)</small><table border=\"1\" class=\"dataframe\"><thead><tr><th>Data As Of</th><th>Start Date</th><th>End Date</th><th>Group</th><th>Year</th><th>&hellip;</th><th>Pneumonia Deaths</th><th>Pneumonia and COVID-19 Deaths</th><th>Influenza Deaths</th><th>Pneumonia, Influenza, or COVID-19 Deaths</th><th>Footnote</th></tr><tr><td>str</td><td>str</td><td>str</td><td>str</td><td>str</td><td>&hellip;</td><td>i64</td><td>i64</td><td>i64</td><td>i64</td><td>str</td></tr></thead><tbody><tr><td>&quot;09/27/2023&quot;</td><td>&quot;04/01/2020&quot;</td><td>&quot;04/30/2020&quot;</td><td>&quot;By Month&quot;</td><td>&quot;2020&quot;</td><td>&hellip;</td><td>46427</td><td>28399</td><td>1237</td><td>84003</td><td>null</td></tr><tr><td>&quot;09/27/2023&quot;</td><td>&quot;01/01/2020&quot;</td><td>&quot;12/31/2020&quot;</td><td>&quot;By Year&quot;</td><td>&quot;2020&quot;</td><td>&hellip;</td><td>352010</td><td>180086</td><td>8787</td><td>565226</td><td>null</td></tr><tr><td>&quot;09/27/2023&quot;</td><td>&quot;01/01/2022&quot;</td><td>&quot;12/31/2022&quot;</td><td>&quot;By Year&quot;</td><td>&quot;2022&quot;</td><td>&hellip;</td><td>267652</td><td>110393</td><td>8751</td><td>411412</td><td>null</td></tr><tr><td>&quot;09/27/2023&quot;</td><td>&quot;03/01/2023&quot;</td><td>&quot;03/31/2023&quot;</td><td>&quot;By Month&quot;</td><td>&quot;2023&quot;</td><td>&hellip;</td><td>17115</td><td>2697</td><td>240</td><td>22222</td><td>null</td></tr><tr><td>&quot;09/27/2023&quot;</td><td>&quot;06/01/2021&quot;</td><td>&quot;06/30/2021&quot;</td><td>&quot;By Month&quot;</td><td>&quot;2021&quot;</td><td>&hellip;</td><td>15624</td><td>4361</td><td>36</td><td>19316</td><td>null</td></tr></tbody></table></div>"
      ],
      "text/plain": [
       "shape: (5, 16)\n",
       "┌────────┬────────┬────────┬────────┬──────┬───────┬───┬────────┬────────┬────────┬────────┬───────┐\n",
       "│ Data   ┆ Start  ┆ End    ┆ Group  ┆ Year ┆ Month ┆ … ┆ Pneumo ┆ Pneumo ┆ Influe ┆ Pneumo ┆ Footn │\n",
       "│ As Of  ┆ Date   ┆ Date   ┆ ---    ┆ ---  ┆ ---   ┆   ┆ nia    ┆ nia    ┆ nza    ┆ nia,   ┆ ote   │\n",
       "│ ---    ┆ ---    ┆ ---    ┆ str    ┆ str  ┆ str   ┆   ┆ Deaths ┆ and    ┆ Deaths ┆ Influe ┆ ---   │\n",
       "│ str    ┆ str    ┆ str    ┆        ┆      ┆       ┆   ┆ ---    ┆ COVID- ┆ ---    ┆ nza,   ┆ str   │\n",
       "│        ┆        ┆        ┆        ┆      ┆       ┆   ┆ i64    ┆ 19     ┆ i64    ┆ or     ┆       │\n",
       "│        ┆        ┆        ┆        ┆      ┆       ┆   ┆        ┆ Deaths ┆        ┆ COVID… ┆       │\n",
       "│        ┆        ┆        ┆        ┆      ┆       ┆   ┆        ┆ ---    ┆        ┆ ---    ┆       │\n",
       "│        ┆        ┆        ┆        ┆      ┆       ┆   ┆        ┆ i64    ┆        ┆ i64    ┆       │\n",
       "╞════════╪════════╪════════╪════════╪══════╪═══════╪═══╪════════╪════════╪════════╪════════╪═══════╡\n",
       "│ 09/27/ ┆ 04/01/ ┆ 04/30/ ┆ By     ┆ 2020 ┆ 4     ┆ … ┆ 46427  ┆ 28399  ┆ 1237   ┆ 84003  ┆ null  │\n",
       "│ 2023   ┆ 2020   ┆ 2020   ┆ Month  ┆      ┆       ┆   ┆        ┆        ┆        ┆        ┆       │\n",
       "│ 09/27/ ┆ 01/01/ ┆ 12/31/ ┆ By     ┆ 2020 ┆ null  ┆ … ┆ 352010 ┆ 180086 ┆ 8787   ┆ 565226 ┆ null  │\n",
       "│ 2023   ┆ 2020   ┆ 2020   ┆ Year   ┆      ┆       ┆   ┆        ┆        ┆        ┆        ┆       │\n",
       "│ 09/27/ ┆ 01/01/ ┆ 12/31/ ┆ By     ┆ 2022 ┆ null  ┆ … ┆ 267652 ┆ 110393 ┆ 8751   ┆ 411412 ┆ null  │\n",
       "│ 2023   ┆ 2022   ┆ 2022   ┆ Year   ┆      ┆       ┆   ┆        ┆        ┆        ┆        ┆       │\n",
       "│ 09/27/ ┆ 03/01/ ┆ 03/31/ ┆ By     ┆ 2023 ┆ 3     ┆ … ┆ 17115  ┆ 2697   ┆ 240    ┆ 22222  ┆ null  │\n",
       "│ 2023   ┆ 2023   ┆ 2023   ┆ Month  ┆      ┆       ┆   ┆        ┆        ┆        ┆        ┆       │\n",
       "│ 09/27/ ┆ 06/01/ ┆ 06/30/ ┆ By     ┆ 2021 ┆ 6     ┆ … ┆ 15624  ┆ 4361   ┆ 36     ┆ 19316  ┆ null  │\n",
       "│ 2023   ┆ 2021   ┆ 2021   ┆ Month  ┆      ┆       ┆   ┆        ┆        ┆        ┆        ┆       │\n",
       "└────────┴────────┴────────┴────────┴──────┴───────┴───┴────────┴────────┴────────┴────────┴───────┘"
      ]
     },
     "execution_count": 72,
     "metadata": {},
     "output_type": "execute_result"
    }
   ],
   "source": [
    "(\n",
    "    df.unique(subset=['Start Date', 'End Date'], keep='first')\n",
    "    .head()\n",
    ")"
   ]
  },
  {
   "cell_type": "code",
   "execution_count": 73,
   "metadata": {},
   "outputs": [
    {
     "data": {
      "text/plain": [
       "3940"
      ]
     },
     "execution_count": 73,
     "metadata": {},
     "output_type": "execute_result"
    }
   ],
   "source": [
    "rows_to_keep = df.select(['Year', 'COVID-19 Deaths']).is_unique()\n",
    "rows_to_keep.sum()"
   ]
  },
  {
   "cell_type": "code",
   "execution_count": 74,
   "metadata": {},
   "outputs": [
    {
     "data": {
      "text/plain": [
       "(3940, 16)"
      ]
     },
     "execution_count": 74,
     "metadata": {},
     "output_type": "execute_result"
    }
   ],
   "source": [
    "df.filter(rows_to_keep).shape"
   ]
  },
  {
   "cell_type": "code",
   "execution_count": 75,
   "metadata": {},
   "outputs": [
    {
     "data": {
      "text/html": [
       "<div><style>\n",
       ".dataframe > thead > tr,\n",
       ".dataframe > tbody > tr {\n",
       "  text-align: right;\n",
       "  white-space: pre-wrap;\n",
       "}\n",
       "</style>\n",
       "<small>shape: (5, 16)</small><table border=\"1\" class=\"dataframe\"><thead><tr><th>Data As Of</th><th>Start Date</th><th>End Date</th><th>Group</th><th>Year</th><th>&hellip;</th><th>Pneumonia Deaths</th><th>Pneumonia and COVID-19 Deaths</th><th>Influenza Deaths</th><th>Pneumonia, Influenza, or COVID-19 Deaths</th><th>Footnote</th></tr><tr><td>str</td><td>str</td><td>str</td><td>str</td><td>str</td><td>&hellip;</td><td>i64</td><td>i64</td><td>i64</td><td>i64</td><td>str</td></tr></thead><tbody><tr><td>&quot;09/27/2023&quot;</td><td>&quot;01/01/2020&quot;</td><td>&quot;09/23/2023&quot;</td><td>&quot;By Total&quot;</td><td>null</td><td>&hellip;</td><td>1162844</td><td>569264</td><td>22229</td><td>1760095</td><td>null</td></tr><tr><td>&quot;09/27/2023&quot;</td><td>&quot;01/01/2020&quot;</td><td>&quot;09/23/2023&quot;</td><td>&quot;By Total&quot;</td><td>null</td><td>&hellip;</td><td>1056</td><td>95</td><td>64</td><td>1541</td><td>null</td></tr><tr><td>&quot;09/27/2023&quot;</td><td>&quot;01/01/2020&quot;</td><td>&quot;09/23/2023&quot;</td><td>&quot;By Total&quot;</td><td>null</td><td>&hellip;</td><td>2961</td><td>424</td><td>509</td><td>4716</td><td>null</td></tr><tr><td>&quot;09/27/2023&quot;</td><td>&quot;01/01/2020&quot;</td><td>&quot;09/23/2023&quot;</td><td>&quot;By Total&quot;</td><td>null</td><td>&hellip;</td><td>692</td><td>66</td><td>177</td><td>1079</td><td>null</td></tr><tr><td>&quot;09/27/2023&quot;</td><td>&quot;01/01/2020&quot;</td><td>&quot;09/23/2023&quot;</td><td>&quot;By Total&quot;</td><td>null</td><td>&hellip;</td><td>818</td><td>143</td><td>219</td><td>1390</td><td>null</td></tr></tbody></table></div>"
      ],
      "text/plain": [
       "shape: (5, 16)\n",
       "┌────────┬────────┬────────┬────────┬──────┬───────┬───┬────────┬────────┬────────┬────────┬───────┐\n",
       "│ Data   ┆ Start  ┆ End    ┆ Group  ┆ Year ┆ Month ┆ … ┆ Pneumo ┆ Pneumo ┆ Influe ┆ Pneumo ┆ Footn │\n",
       "│ As Of  ┆ Date   ┆ Date   ┆ ---    ┆ ---  ┆ ---   ┆   ┆ nia    ┆ nia    ┆ nza    ┆ nia,   ┆ ote   │\n",
       "│ ---    ┆ ---    ┆ ---    ┆ str    ┆ str  ┆ str   ┆   ┆ Deaths ┆ and    ┆ Deaths ┆ Influe ┆ ---   │\n",
       "│ str    ┆ str    ┆ str    ┆        ┆      ┆       ┆   ┆ ---    ┆ COVID- ┆ ---    ┆ nza,   ┆ str   │\n",
       "│        ┆        ┆        ┆        ┆      ┆       ┆   ┆ i64    ┆ 19     ┆ i64    ┆ or     ┆       │\n",
       "│        ┆        ┆        ┆        ┆      ┆       ┆   ┆        ┆ Deaths ┆        ┆ COVID… ┆       │\n",
       "│        ┆        ┆        ┆        ┆      ┆       ┆   ┆        ┆ ---    ┆        ┆ ---    ┆       │\n",
       "│        ┆        ┆        ┆        ┆      ┆       ┆   ┆        ┆ i64    ┆        ┆ i64    ┆       │\n",
       "╞════════╪════════╪════════╪════════╪══════╪═══════╪═══╪════════╪════════╪════════╪════════╪═══════╡\n",
       "│ 09/27/ ┆ 01/01/ ┆ 09/23/ ┆ By     ┆ null ┆ null  ┆ … ┆ 116284 ┆ 569264 ┆ 22229  ┆ 176009 ┆ null  │\n",
       "│ 2023   ┆ 2020   ┆ 2023   ┆ Total  ┆      ┆       ┆   ┆ 4      ┆        ┆        ┆ 5      ┆       │\n",
       "│ 09/27/ ┆ 01/01/ ┆ 09/23/ ┆ By     ┆ null ┆ null  ┆ … ┆ 1056   ┆ 95     ┆ 64     ┆ 1541   ┆ null  │\n",
       "│ 2023   ┆ 2020   ┆ 2023   ┆ Total  ┆      ┆       ┆   ┆        ┆        ┆        ┆        ┆       │\n",
       "│ 09/27/ ┆ 01/01/ ┆ 09/23/ ┆ By     ┆ null ┆ null  ┆ … ┆ 2961   ┆ 424    ┆ 509    ┆ 4716   ┆ null  │\n",
       "│ 2023   ┆ 2020   ┆ 2023   ┆ Total  ┆      ┆       ┆   ┆        ┆        ┆        ┆        ┆       │\n",
       "│ 09/27/ ┆ 01/01/ ┆ 09/23/ ┆ By     ┆ null ┆ null  ┆ … ┆ 692    ┆ 66     ┆ 177    ┆ 1079   ┆ null  │\n",
       "│ 2023   ┆ 2020   ┆ 2023   ┆ Total  ┆      ┆       ┆   ┆        ┆        ┆        ┆        ┆       │\n",
       "│ 09/27/ ┆ 01/01/ ┆ 09/23/ ┆ By     ┆ null ┆ null  ┆ … ┆ 818    ┆ 143    ┆ 219    ┆ 1390   ┆ null  │\n",
       "│ 2023   ┆ 2020   ┆ 2023   ┆ Total  ┆      ┆       ┆   ┆        ┆        ┆        ┆        ┆       │\n",
       "└────────┴────────┴────────┴────────┴──────┴───────┴───┴────────┴────────┴────────┴────────┴───────┘"
      ]
     },
     "execution_count": 75,
     "metadata": {},
     "output_type": "execute_result"
    }
   ],
   "source": [
    "df.filter(rows_to_keep).head()"
   ]
  },
  {
   "cell_type": "markdown",
   "metadata": {},
   "source": [
    "### There is more..."
   ]
  },
  {
   "cell_type": "code",
   "execution_count": 76,
   "metadata": {},
   "outputs": [
    {
     "data": {
      "text/html": [
       "<div><style>\n",
       ".dataframe > thead > tr,\n",
       ".dataframe > tbody > tr {\n",
       "  text-align: right;\n",
       "  white-space: pre-wrap;\n",
       "}\n",
       "</style>\n",
       "<small>shape: (1, 16)</small><table border=\"1\" class=\"dataframe\"><thead><tr><th>Data As Of</th><th>Start Date</th><th>End Date</th><th>Group</th><th>Year</th><th>&hellip;</th><th>Pneumonia Deaths</th><th>Pneumonia and COVID-19 Deaths</th><th>Influenza Deaths</th><th>Pneumonia, Influenza, or COVID-19 Deaths</th><th>Footnote</th></tr><tr><td>u32</td><td>u32</td><td>u32</td><td>u32</td><td>u32</td><td>&hellip;</td><td>u32</td><td>u32</td><td>u32</td><td>u32</td><td>u32</td></tr></thead><tbody><tr><td>1</td><td>45</td><td>45</td><td>3</td><td>5</td><td>&hellip;</td><td>3544</td><td>2539</td><td>491</td><td>4294</td><td>2</td></tr></tbody></table></div>"
      ],
      "text/plain": [
       "shape: (1, 16)\n",
       "┌────────┬────────┬────────┬───────┬──────┬───────┬───┬────────┬────────┬────────┬────────┬────────┐\n",
       "│ Data   ┆ Start  ┆ End    ┆ Group ┆ Year ┆ Month ┆ … ┆ Pneumo ┆ Pneumo ┆ Influe ┆ Pneumo ┆ Footno │\n",
       "│ As Of  ┆ Date   ┆ Date   ┆ ---   ┆ ---  ┆ ---   ┆   ┆ nia    ┆ nia    ┆ nza    ┆ nia,   ┆ te     │\n",
       "│ ---    ┆ ---    ┆ ---    ┆ u32   ┆ u32  ┆ u32   ┆   ┆ Deaths ┆ and    ┆ Deaths ┆ Influe ┆ ---    │\n",
       "│ u32    ┆ u32    ┆ u32    ┆       ┆      ┆       ┆   ┆ ---    ┆ COVID- ┆ ---    ┆ nza,   ┆ u32    │\n",
       "│        ┆        ┆        ┆       ┆      ┆       ┆   ┆ u32    ┆ 19     ┆ u32    ┆ or     ┆        │\n",
       "│        ┆        ┆        ┆       ┆      ┆       ┆   ┆        ┆ Deaths ┆        ┆ COVID… ┆        │\n",
       "│        ┆        ┆        ┆       ┆      ┆       ┆   ┆        ┆ ---    ┆        ┆ ---    ┆        │\n",
       "│        ┆        ┆        ┆       ┆      ┆       ┆   ┆        ┆ u32    ┆        ┆ u32    ┆        │\n",
       "╞════════╪════════╪════════╪═══════╪══════╪═══════╪═══╪════════╪════════╪════════╪════════╪════════╡\n",
       "│ 1      ┆ 45     ┆ 45     ┆ 3     ┆ 5    ┆ 13    ┆ … ┆ 3544   ┆ 2539   ┆ 491    ┆ 4294   ┆ 2      │\n",
       "└────────┴────────┴────────┴───────┴──────┴───────┴───┴────────┴────────┴────────┴────────┴────────┘"
      ]
     },
     "execution_count": 76,
     "metadata": {},
     "output_type": "execute_result"
    }
   ],
   "source": [
    "df.select(pl.all().approx_n_unique())"
   ]
  },
  {
   "cell_type": "markdown",
   "metadata": {},
   "source": [
    "## Masking sensitive data"
   ]
  },
  {
   "cell_type": "markdown",
   "metadata": {},
   "source": [
    "### How to do it..."
   ]
  },
  {
   "cell_type": "code",
   "execution_count": 77,
   "metadata": {},
   "outputs": [],
   "source": [
    "import polars as pl"
   ]
  },
  {
   "cell_type": "code",
   "execution_count": 32,
   "metadata": {},
   "outputs": [
    {
     "data": {
      "text/html": [
       "<div><style>\n",
       ".dataframe > thead > tr,\n",
       ".dataframe > tbody > tr {\n",
       "  text-align: right;\n",
       "  white-space: pre-wrap;\n",
       "}\n",
       "</style>\n",
       "<small>shape: (5, 16)</small><table border=\"1\" class=\"dataframe\"><thead><tr><th>Data As Of</th><th>Start Date</th><th>End Date</th><th>Group</th><th>Year</th><th>&hellip;</th><th>Pneumonia Deaths</th><th>Pneumonia and COVID-19 Deaths</th><th>Influenza Deaths</th><th>Pneumonia, Influenza, or COVID-19 Deaths</th><th>Footnote</th></tr><tr><td>str</td><td>str</td><td>str</td><td>str</td><td>str</td><td>&hellip;</td><td>i64</td><td>i64</td><td>i64</td><td>i64</td><td>str</td></tr></thead><tbody><tr><td>&quot;09/27/2023&quot;</td><td>&quot;01/01/2020&quot;</td><td>&quot;09/23/2023&quot;</td><td>&quot;By Total&quot;</td><td>null</td><td>&hellip;</td><td>1162844</td><td>569264</td><td>22229</td><td>1760095</td><td>null</td></tr><tr><td>&quot;09/27/2023&quot;</td><td>&quot;01/01/2020&quot;</td><td>&quot;09/23/2023&quot;</td><td>&quot;By Total&quot;</td><td>null</td><td>&hellip;</td><td>1056</td><td>95</td><td>64</td><td>1541</td><td>null</td></tr><tr><td>&quot;09/27/2023&quot;</td><td>&quot;01/01/2020&quot;</td><td>&quot;09/23/2023&quot;</td><td>&quot;By Total&quot;</td><td>null</td><td>&hellip;</td><td>2961</td><td>424</td><td>509</td><td>4716</td><td>null</td></tr><tr><td>&quot;09/27/2023&quot;</td><td>&quot;01/01/2020&quot;</td><td>&quot;09/23/2023&quot;</td><td>&quot;By Total&quot;</td><td>null</td><td>&hellip;</td><td>692</td><td>66</td><td>177</td><td>1079</td><td>null</td></tr><tr><td>&quot;09/27/2023&quot;</td><td>&quot;01/01/2020&quot;</td><td>&quot;09/23/2023&quot;</td><td>&quot;By Total&quot;</td><td>null</td><td>&hellip;</td><td>818</td><td>143</td><td>219</td><td>1390</td><td>null</td></tr></tbody></table></div>"
      ],
      "text/plain": [
       "shape: (5, 16)\n",
       "┌────────┬────────┬────────┬────────┬──────┬───────┬───┬────────┬────────┬────────┬────────┬───────┐\n",
       "│ Data   ┆ Start  ┆ End    ┆ Group  ┆ Year ┆ Month ┆ … ┆ Pneumo ┆ Pneumo ┆ Influe ┆ Pneumo ┆ Footn │\n",
       "│ As Of  ┆ Date   ┆ Date   ┆ ---    ┆ ---  ┆ ---   ┆   ┆ nia    ┆ nia    ┆ nza    ┆ nia,   ┆ ote   │\n",
       "│ ---    ┆ ---    ┆ ---    ┆ str    ┆ str  ┆ str   ┆   ┆ Deaths ┆ and    ┆ Deaths ┆ Influe ┆ ---   │\n",
       "│ str    ┆ str    ┆ str    ┆        ┆      ┆       ┆   ┆ ---    ┆ COVID- ┆ ---    ┆ nza,   ┆ str   │\n",
       "│        ┆        ┆        ┆        ┆      ┆       ┆   ┆ i64    ┆ 19     ┆ i64    ┆ or     ┆       │\n",
       "│        ┆        ┆        ┆        ┆      ┆       ┆   ┆        ┆ Deaths ┆        ┆ COVID… ┆       │\n",
       "│        ┆        ┆        ┆        ┆      ┆       ┆   ┆        ┆ ---    ┆        ┆ ---    ┆       │\n",
       "│        ┆        ┆        ┆        ┆      ┆       ┆   ┆        ┆ i64    ┆        ┆ i64    ┆       │\n",
       "╞════════╪════════╪════════╪════════╪══════╪═══════╪═══╪════════╪════════╪════════╪════════╪═══════╡\n",
       "│ 09/27/ ┆ 01/01/ ┆ 09/23/ ┆ By     ┆ null ┆ null  ┆ … ┆ 116284 ┆ 569264 ┆ 22229  ┆ 176009 ┆ null  │\n",
       "│ 2023   ┆ 2020   ┆ 2023   ┆ Total  ┆      ┆       ┆   ┆ 4      ┆        ┆        ┆ 5      ┆       │\n",
       "│ 09/27/ ┆ 01/01/ ┆ 09/23/ ┆ By     ┆ null ┆ null  ┆ … ┆ 1056   ┆ 95     ┆ 64     ┆ 1541   ┆ null  │\n",
       "│ 2023   ┆ 2020   ┆ 2023   ┆ Total  ┆      ┆       ┆   ┆        ┆        ┆        ┆        ┆       │\n",
       "│ 09/27/ ┆ 01/01/ ┆ 09/23/ ┆ By     ┆ null ┆ null  ┆ … ┆ 2961   ┆ 424    ┆ 509    ┆ 4716   ┆ null  │\n",
       "│ 2023   ┆ 2020   ┆ 2023   ┆ Total  ┆      ┆       ┆   ┆        ┆        ┆        ┆        ┆       │\n",
       "│ 09/27/ ┆ 01/01/ ┆ 09/23/ ┆ By     ┆ null ┆ null  ┆ … ┆ 692    ┆ 66     ┆ 177    ┆ 1079   ┆ null  │\n",
       "│ 2023   ┆ 2020   ┆ 2023   ┆ Total  ┆      ┆       ┆   ┆        ┆        ┆        ┆        ┆       │\n",
       "│ 09/27/ ┆ 01/01/ ┆ 09/23/ ┆ By     ┆ null ┆ null  ┆ … ┆ 818    ┆ 143    ┆ 219    ┆ 1390   ┆ null  │\n",
       "│ 2023   ┆ 2020   ┆ 2023   ┆ Total  ┆      ┆       ┆   ┆        ┆        ┆        ┆        ┆       │\n",
       "└────────┴────────┴────────┴────────┴──────┴───────┴───┴────────┴────────┴────────┴────────┴───────┘"
      ]
     },
     "execution_count": 32,
     "metadata": {},
     "output_type": "execute_result"
    }
   ],
   "source": [
    "df = pl.read_csv('../data/covid_19_deaths.csv')\n",
    "df.head()"
   ]
  },
  {
   "cell_type": "code",
   "execution_count": 125,
   "metadata": {},
   "outputs": [],
   "source": [
    "import random\n",
    "\n",
    "def get_random_nums(num_list, length):\n",
    "    \"\"\"\n",
    "    Generate a string of random numbers from a given list.\n",
    "\n",
    "    Args:\n",
    "        num_list (list): A list of numbers to sample from.\n",
    "        length (int): The number of random numbers to select.\n",
    "\n",
    "    Returns:\n",
    "        str: A string of randomly selected numbers concatenated together.\n",
    "    \"\"\"\n",
    "    random_nums = ''.join(str(n) for n in random.sample(num_list, length))\n",
    "    return random_nums"
   ]
  },
  {
   "cell_type": "code",
   "execution_count": 126,
   "metadata": {},
   "outputs": [
    {
     "data": {
      "text/html": [
       "<div><style>\n",
       ".dataframe > thead > tr,\n",
       ".dataframe > tbody > tr {\n",
       "  text-align: right;\n",
       "  white-space: pre-wrap;\n",
       "}\n",
       "</style>\n",
       "<small>shape: (5, 1)</small><table border=\"1\" class=\"dataframe\"><thead><tr><th>SSN</th></tr><tr><td>str</td></tr></thead><tbody><tr><td>&quot;906-70-3786&quot;</td></tr><tr><td>&quot;420-87-5139&quot;</td></tr><tr><td>&quot;506-25-6948&quot;</td></tr><tr><td>&quot;472-45-2738&quot;</td></tr><tr><td>&quot;960-90-3298&quot;</td></tr></tbody></table></div>"
      ],
      "text/plain": [
       "shape: (5, 1)\n",
       "┌─────────────┐\n",
       "│ SSN         │\n",
       "│ ---         │\n",
       "│ str         │\n",
       "╞═════════════╡\n",
       "│ 906-70-3786 │\n",
       "│ 420-87-5139 │\n",
       "│ 506-25-6948 │\n",
       "│ 472-45-2738 │\n",
       "│ 960-90-3298 │\n",
       "└─────────────┘"
      ]
     },
     "execution_count": 126,
     "metadata": {},
     "output_type": "execute_result"
    }
   ],
   "source": [
    "fake_ssns = []\n",
    "\"\"\"\n",
    "Generates a list of fake Social Security Numbers (SSNs) and creates a Polars DataFrame with these SSNs.\n",
    "\n",
    "The code performs the following steps:\n",
    "1. Initializes an empty list `fake_ssns` to store the generated SSNs.\n",
    "2. Creates a list `nums` containing digits from 0 to 9.\n",
    "3. Iterates over the range of the DataFrame's height (`df.height`).\n",
    "4. For each iteration, generates three parts of the SSN:\n",
    "    - `part_1`: A random 3-digit number.\n",
    "    - `part_2`: A random 2-digit number.\n",
    "    - `part_3`: A random 4-digit number.\n",
    "5. Combines the three parts into a single SSN string in the format `XXX-XX-XXXX`.\n",
    "6. Appends the generated SSN to the `fake_ssns` list.\n",
    "7. Seeds the random number generator with a fixed value (10) for reproducibility.\n",
    "8. Creates a Polars DataFrame `fake_ssns_df` with a single column 'SSN' containing the generated SSNs.\n",
    "9. Displays the first few rows of the DataFrame using the `head()` method.\n",
    "\n",
    "Note:\n",
    "- The function `get_random_nums(nums, n)` is assumed to generate a random number with `n` digits from the list `nums`.\n",
    "- The DataFrame `df` and the Polars library `pl` should be defined/imported elsewhere in the code.\n",
    "\"\"\"\n",
    "nums = [n for n in range(10)]\n",
    "\n",
    "for i in range(df.height):\n",
    "    part_1 = get_random_nums(nums, 3)\n",
    "    part_2 = get_random_nums(nums, 2)\n",
    "    part_3 = get_random_nums(nums, 4)\n",
    "    fake_ssn = f'{part_1}-{part_2}-{part_3}'\n",
    "    fake_ssns.append(fake_ssn)\n",
    "\n",
    "random.seed(10)\n",
    "fake_ssns_df = pl.DataFrame({'SSN': fake_ssns})\n",
    "fake_ssns_df.head()"
   ]
  },
  {
   "cell_type": "code",
   "execution_count": 129,
   "metadata": {},
   "outputs": [
    {
     "data": {
      "text/plain": [
       "'\\nConcatenates the existing DataFrame `df` with `fake_ssns_df` horizontally.\\n\\nParameters:\\n    df (pl.DataFrame): The original DataFrame.\\n    fake_ssns_df (pl.DataFrame): The DataFrame containing fake SSNs to be concatenated.\\n\\nReturns:\\n    pl.DataFrame: The concatenated DataFrame with columns from both `df` and `fake_ssns_df`.\\n'"
      ]
     },
     "execution_count": 129,
     "metadata": {},
     "output_type": "execute_result"
    }
   ],
   "source": [
    "fake_ssns_df = fake_ssns_df.rename({\"SSN\": \"Fake_SSN\"})\n",
    "df = pl.concat([df, fake_ssns_df], how='horizontal')\n",
    "\"\"\"\n",
    "Concatenates the existing DataFrame `df` with `fake_ssns_df` horizontally.\n",
    "\n",
    "Parameters:\n",
    "    df (pl.DataFrame): The original DataFrame.\n",
    "    fake_ssns_df (pl.DataFrame): The DataFrame containing fake SSNs to be concatenated.\n",
    "\n",
    "Returns:\n",
    "    pl.DataFrame: The concatenated DataFrame with columns from both `df` and `fake_ssns_df`.\n",
    "\"\"\""
   ]
  },
  {
   "cell_type": "code",
   "execution_count": 131,
   "metadata": {},
   "outputs": [
    {
     "data": {
      "text/html": [
       "<div><style>\n",
       ".dataframe > thead > tr,\n",
       ".dataframe > tbody > tr {\n",
       "  text-align: right;\n",
       "  white-space: pre-wrap;\n",
       "}\n",
       "</style>\n",
       "<small>shape: (5, 1)</small><table border=\"1\" class=\"dataframe\"><thead><tr><th>SSN Masked</th></tr><tr><td>str</td></tr></thead><tbody><tr><td>&quot;XXX-XX-XX86&quot;</td></tr><tr><td>&quot;XXX-XX-XX39&quot;</td></tr><tr><td>&quot;XXX-XX-XX48&quot;</td></tr><tr><td>&quot;XXX-XX-XX38&quot;</td></tr><tr><td>&quot;XXX-XX-XX98&quot;</td></tr></tbody></table></div>"
      ],
      "text/plain": [
       "shape: (5, 1)\n",
       "┌─────────────┐\n",
       "│ SSN Masked  │\n",
       "│ ---         │\n",
       "│ str         │\n",
       "╞═════════════╡\n",
       "│ XXX-XX-XX86 │\n",
       "│ XXX-XX-XX39 │\n",
       "│ XXX-XX-XX48 │\n",
       "│ XXX-XX-XX38 │\n",
       "│ XXX-XX-XX98 │\n",
       "└─────────────┘"
      ]
     },
     "execution_count": 131,
     "metadata": {},
     "output_type": "execute_result"
    }
   ],
   "source": [
    "\"\"\"\n",
    "This code snippet selects and masks the 'SSN' column in a DataFrame using the Polars library.\n",
    "\n",
    "The 'SSN' column is expected to contain Social Security Numbers (SSNs). The code masks the first five digits of the SSN with 'XXX-XX-XX' and retains the last four digits.\n",
    "\n",
    "Returns:\n",
    "    DataFrame: A DataFrame with a single column 'SSN Masked' containing the masked SSNs.\n",
    "\"\"\"\n",
    "df.select(\n",
    "    ('XXX-XX-XX' + pl.col('SSN').str.slice(9, 2)).alias('SSN Masked')\n",
    ").head()"
   ]
  },
  {
   "cell_type": "code",
   "execution_count": 133,
   "metadata": {},
   "outputs": [
    {
     "data": {
      "text/html": [
       "<div><style>\n",
       ".dataframe > thead > tr,\n",
       ".dataframe > tbody > tr {\n",
       "  text-align: right;\n",
       "  white-space: pre-wrap;\n",
       "}\n",
       "</style>\n",
       "<small>shape: (5, 1)</small><table border=\"1\" class=\"dataframe\"><thead><tr><th>SSN Masked</th></tr><tr><td>str</td></tr></thead><tbody><tr><td>&quot;XXX-XX-XX86&quot;</td></tr><tr><td>&quot;XXX-XX-XX39&quot;</td></tr><tr><td>&quot;XXX-XX-XX48&quot;</td></tr><tr><td>&quot;XXX-XX-XX38&quot;</td></tr><tr><td>&quot;XXX-XX-XX98&quot;</td></tr></tbody></table></div>"
      ],
      "text/plain": [
       "shape: (5, 1)\n",
       "┌─────────────┐\n",
       "│ SSN Masked  │\n",
       "│ ---         │\n",
       "│ str         │\n",
       "╞═════════════╡\n",
       "│ XXX-XX-XX86 │\n",
       "│ XXX-XX-XX39 │\n",
       "│ XXX-XX-XX48 │\n",
       "│ XXX-XX-XX38 │\n",
       "│ XXX-XX-XX98 │\n",
       "└─────────────┘"
      ]
     },
     "execution_count": 133,
     "metadata": {},
     "output_type": "execute_result"
    }
   ],
   "source": [
    "\"\"\"\n",
    "Selects and masks the 'SSN' column in the DataFrame.\n",
    "This function selects the 'SSN' column from the DataFrame, slices the last two characters,\n",
    "and concatenates them with the string 'XXX-XX-XX' to create a masked version of the SSN.\n",
    "The resulting masked SSN is then aliased as 'SSN Masked'.\n",
    "Returns:\n",
    "    DataFrame: A DataFrame with the masked SSN column.\n",
    "\"\"\"\n",
    "df.select(\n",
    "    ('XXX-XX-XX' + pl.col('SSN').str.slice(9, 2)).alias('SSN Masked')\n",
    ").head()"
   ]
  },
  {
   "cell_type": "code",
   "execution_count": 136,
   "metadata": {},
   "outputs": [
    {
     "data": {
      "text/html": [
       "<div><style>\n",
       ".dataframe > thead > tr,\n",
       ".dataframe > tbody > tr {\n",
       "  text-align: right;\n",
       "  white-space: pre-wrap;\n",
       "}\n",
       "</style>\n",
       "<small>shape: (5, 1)</small><table border=\"1\" class=\"dataframe\"><thead><tr><th>SSN Hashed</th></tr><tr><td>u64</td></tr></thead><tbody><tr><td>6883711336300221710</td></tr><tr><td>1353787506755705260</td></tr><tr><td>582257754172128729</td></tr><tr><td>4546623555158951452</td></tr><tr><td>16632570998477912075</td></tr></tbody></table></div>"
      ],
      "text/plain": [
       "shape: (5, 1)\n",
       "┌──────────────────────┐\n",
       "│ SSN Hashed           │\n",
       "│ ---                  │\n",
       "│ u64                  │\n",
       "╞══════════════════════╡\n",
       "│ 6883711336300221710  │\n",
       "│ 1353787506755705260  │\n",
       "│ 582257754172128729   │\n",
       "│ 4546623555158951452  │\n",
       "│ 16632570998477912075 │\n",
       "└──────────────────────┘"
      ]
     },
     "execution_count": 136,
     "metadata": {},
     "output_type": "execute_result"
    }
   ],
   "source": [
    "\"\"\"\n",
    "Selects the 'SSN' column from the DataFrame and applies a hash function to it.\n",
    "\n",
    "Returns:\n",
    "    DataFrame: A DataFrame containing the hashed values of the 'SSN' column.\n",
    "\"\"\"\n",
    "df.select(\n",
    "    pl.col('SSN').hash().alias('SSN Hashed')\n",
    ").head()"
   ]
  },
  {
   "cell_type": "markdown",
   "metadata": {},
   "source": [
    "## Visualizing data using Plotly"
   ]
  },
  {
   "cell_type": "markdown",
   "metadata": {},
   "source": [
    "### How to do it..."
   ]
  },
  {
   "cell_type": "code",
   "execution_count": 84,
   "metadata": {},
   "outputs": [],
   "source": [
    "import polars as pl\n",
    "import plotly.express as px"
   ]
  },
  {
   "cell_type": "code",
   "execution_count": 137,
   "metadata": {},
   "outputs": [
    {
     "data": {
      "text/html": [
       "<div><style>\n",
       ".dataframe > thead > tr,\n",
       ".dataframe > tbody > tr {\n",
       "  text-align: right;\n",
       "  white-space: pre-wrap;\n",
       "}\n",
       "</style>\n",
       "<small>shape: (5, 16)</small><table border=\"1\" class=\"dataframe\"><thead><tr><th>Data As Of</th><th>Start Date</th><th>End Date</th><th>Group</th><th>Year</th><th>&hellip;</th><th>Pneumonia Deaths</th><th>Pneumonia and COVID-19 Deaths</th><th>Influenza Deaths</th><th>Pneumonia, Influenza, or COVID-19 Deaths</th><th>Footnote</th></tr><tr><td>str</td><td>str</td><td>str</td><td>str</td><td>str</td><td>&hellip;</td><td>i64</td><td>i64</td><td>i64</td><td>i64</td><td>str</td></tr></thead><tbody><tr><td>&quot;09/27/2023&quot;</td><td>&quot;01/01/2020&quot;</td><td>&quot;01/31/2020&quot;</td><td>&quot;By Month&quot;</td><td>&quot;2020&quot;</td><td>&hellip;</td><td>17909</td><td>3</td><td>2125</td><td>20037</td><td>null</td></tr><tr><td>&quot;09/27/2023&quot;</td><td>&quot;01/01/2020&quot;</td><td>&quot;01/31/2020&quot;</td><td>&quot;By Month&quot;</td><td>&quot;2020&quot;</td><td>&hellip;</td><td>90</td><td>0</td><td>63</td><td>153</td><td>null</td></tr><tr><td>&quot;09/27/2023&quot;</td><td>&quot;01/01/2020&quot;</td><td>&quot;01/31/2020&quot;</td><td>&quot;By Month&quot;</td><td>&quot;2020&quot;</td><td>&hellip;</td><td>114</td><td>0</td><td>54</td><td>168</td><td>null</td></tr><tr><td>&quot;09/27/2023&quot;</td><td>&quot;01/01/2020&quot;</td><td>&quot;01/31/2020&quot;</td><td>&quot;By Month&quot;</td><td>&quot;2020&quot;</td><td>&hellip;</td><td>246</td><td>0</td><td>112</td><td>358</td><td>null</td></tr><tr><td>&quot;09/27/2023&quot;</td><td>&quot;01/01/2020&quot;</td><td>&quot;01/31/2020&quot;</td><td>&quot;By Month&quot;</td><td>&quot;2020&quot;</td><td>&hellip;</td><td>485</td><td>0</td><td>151</td><td>636</td><td>null</td></tr></tbody></table></div>"
      ],
      "text/plain": [
       "shape: (5, 16)\n",
       "┌────────┬────────┬────────┬────────┬──────┬───────┬───┬────────┬────────┬────────┬────────┬───────┐\n",
       "│ Data   ┆ Start  ┆ End    ┆ Group  ┆ Year ┆ Month ┆ … ┆ Pneumo ┆ Pneumo ┆ Influe ┆ Pneumo ┆ Footn │\n",
       "│ As Of  ┆ Date   ┆ Date   ┆ ---    ┆ ---  ┆ ---   ┆   ┆ nia    ┆ nia    ┆ nza    ┆ nia,   ┆ ote   │\n",
       "│ ---    ┆ ---    ┆ ---    ┆ str    ┆ str  ┆ str   ┆   ┆ Deaths ┆ and    ┆ Deaths ┆ Influe ┆ ---   │\n",
       "│ str    ┆ str    ┆ str    ┆        ┆      ┆       ┆   ┆ ---    ┆ COVID- ┆ ---    ┆ nza,   ┆ str   │\n",
       "│        ┆        ┆        ┆        ┆      ┆       ┆   ┆ i64    ┆ 19     ┆ i64    ┆ or     ┆       │\n",
       "│        ┆        ┆        ┆        ┆      ┆       ┆   ┆        ┆ Deaths ┆        ┆ COVID… ┆       │\n",
       "│        ┆        ┆        ┆        ┆      ┆       ┆   ┆        ┆ ---    ┆        ┆ ---    ┆       │\n",
       "│        ┆        ┆        ┆        ┆      ┆       ┆   ┆        ┆ i64    ┆        ┆ i64    ┆       │\n",
       "╞════════╪════════╪════════╪════════╪══════╪═══════╪═══╪════════╪════════╪════════╪════════╪═══════╡\n",
       "│ 09/27/ ┆ 01/01/ ┆ 01/31/ ┆ By     ┆ 2020 ┆ 1     ┆ … ┆ 17909  ┆ 3      ┆ 2125   ┆ 20037  ┆ null  │\n",
       "│ 2023   ┆ 2020   ┆ 2020   ┆ Month  ┆      ┆       ┆   ┆        ┆        ┆        ┆        ┆       │\n",
       "│ 09/27/ ┆ 01/01/ ┆ 01/31/ ┆ By     ┆ 2020 ┆ 1     ┆ … ┆ 90     ┆ 0      ┆ 63     ┆ 153    ┆ null  │\n",
       "│ 2023   ┆ 2020   ┆ 2020   ┆ Month  ┆      ┆       ┆   ┆        ┆        ┆        ┆        ┆       │\n",
       "│ 09/27/ ┆ 01/01/ ┆ 01/31/ ┆ By     ┆ 2020 ┆ 1     ┆ … ┆ 114    ┆ 0      ┆ 54     ┆ 168    ┆ null  │\n",
       "│ 2023   ┆ 2020   ┆ 2020   ┆ Month  ┆      ┆       ┆   ┆        ┆        ┆        ┆        ┆       │\n",
       "│ 09/27/ ┆ 01/01/ ┆ 01/31/ ┆ By     ┆ 2020 ┆ 1     ┆ … ┆ 246    ┆ 0      ┆ 112    ┆ 358    ┆ null  │\n",
       "│ 2023   ┆ 2020   ┆ 2020   ┆ Month  ┆      ┆       ┆   ┆        ┆        ┆        ┆        ┆       │\n",
       "│ 09/27/ ┆ 01/01/ ┆ 01/31/ ┆ By     ┆ 2020 ┆ 1     ┆ … ┆ 485    ┆ 0      ┆ 151    ┆ 636    ┆ null  │\n",
       "│ 2023   ┆ 2020   ┆ 2020   ┆ Month  ┆      ┆       ┆   ┆        ┆        ┆        ┆        ┆       │\n",
       "└────────┴────────┴────────┴────────┴──────┴───────┴───┴────────┴────────┴────────┴────────┴───────┘"
      ]
     },
     "execution_count": 137,
     "metadata": {},
     "output_type": "execute_result"
    }
   ],
   "source": [
    "age_groups = ['0-17 years', '18-29 years', '30-39 years', '40-49 years', '50-64 years', '65-74 years', '75-84 years', '85 years and over', 'All Ages']\n",
    "\"\"\"\n",
    "This script reads a CSV file containing COVID-19 death data, filters the data to include only rows where the 'Month' column is not null and the 'Age Group' column matches specific age groups, and then displays the first few rows of the filtered DataFrame.\n",
    "\n",
    "Variables:\n",
    "    age_groups (list of str): A list of age group categories to filter the data by.\n",
    "\n",
    "DataFrame Operations:\n",
    "    - Reads the CSV file located at '../data/covid_19_deaths.csv'.\n",
    "    - Filters the DataFrame to include only rows where the 'Month' column is not null.\n",
    "    - Filters the DataFrame to include only rows where the 'Age Group' column is in the specified age_groups list.\n",
    "    - Displays the first few rows of the filtered DataFrame.\n",
    "\"\"\"\n",
    "\n",
    "df = (\n",
    "    pl.read_csv('../data/covid_19_deaths.csv')\n",
    "    .filter(\n",
    "        pl.col('Month').is_not_null(),\n",
    "        pl.col('Age Group').is_in(age_groups),\n",
    "    )\n",
    ")\n",
    "df.head()"
   ]
  },
  {
   "cell_type": "code",
   "execution_count": 86,
   "metadata": {},
   "outputs": [
    {
     "data": {
      "text/html": [
       "<div><style>\n",
       ".dataframe > thead > tr,\n",
       ".dataframe > tbody > tr {\n",
       "  text-align: right;\n",
       "  white-space: pre-wrap;\n",
       "}\n",
       "</style>\n",
       "<small>shape: (5, 16)</small><table border=\"1\" class=\"dataframe\"><thead><tr><th>Data As Of</th><th>Start Date</th><th>End Date</th><th>Group</th><th>Year</th><th>&hellip;</th><th>Pneumonia Deaths</th><th>Pneumonia and COVID-19 Deaths</th><th>Influenza Deaths</th><th>Pneumonia, Influenza, or COVID-19 Deaths</th><th>Footnote</th></tr><tr><td>date</td><td>date</td><td>date</td><td>str</td><td>i64</td><td>&hellip;</td><td>i64</td><td>i64</td><td>i64</td><td>i64</td><td>str</td></tr></thead><tbody><tr><td>2023-09-27</td><td>2020-01-01</td><td>2020-01-31</td><td>&quot;By Month&quot;</td><td>2020</td><td>&hellip;</td><td>17909</td><td>3</td><td>2125</td><td>20037</td><td>null</td></tr><tr><td>2023-09-27</td><td>2020-01-01</td><td>2020-01-31</td><td>&quot;By Month&quot;</td><td>2020</td><td>&hellip;</td><td>90</td><td>0</td><td>63</td><td>153</td><td>null</td></tr><tr><td>2023-09-27</td><td>2020-01-01</td><td>2020-01-31</td><td>&quot;By Month&quot;</td><td>2020</td><td>&hellip;</td><td>114</td><td>0</td><td>54</td><td>168</td><td>null</td></tr><tr><td>2023-09-27</td><td>2020-01-01</td><td>2020-01-31</td><td>&quot;By Month&quot;</td><td>2020</td><td>&hellip;</td><td>246</td><td>0</td><td>112</td><td>358</td><td>null</td></tr><tr><td>2023-09-27</td><td>2020-01-01</td><td>2020-01-31</td><td>&quot;By Month&quot;</td><td>2020</td><td>&hellip;</td><td>485</td><td>0</td><td>151</td><td>636</td><td>null</td></tr></tbody></table></div>"
      ],
      "text/plain": [
       "shape: (5, 16)\n",
       "┌────────┬────────┬────────┬────────┬──────┬───────┬───┬────────┬────────┬────────┬────────┬───────┐\n",
       "│ Data   ┆ Start  ┆ End    ┆ Group  ┆ Year ┆ Month ┆ … ┆ Pneumo ┆ Pneumo ┆ Influe ┆ Pneumo ┆ Footn │\n",
       "│ As Of  ┆ Date   ┆ Date   ┆ ---    ┆ ---  ┆ ---   ┆   ┆ nia    ┆ nia    ┆ nza    ┆ nia,   ┆ ote   │\n",
       "│ ---    ┆ ---    ┆ ---    ┆ str    ┆ i64  ┆ i64   ┆   ┆ Deaths ┆ and    ┆ Deaths ┆ Influe ┆ ---   │\n",
       "│ date   ┆ date   ┆ date   ┆        ┆      ┆       ┆   ┆ ---    ┆ COVID- ┆ ---    ┆ nza,   ┆ str   │\n",
       "│        ┆        ┆        ┆        ┆      ┆       ┆   ┆ i64    ┆ 19     ┆ i64    ┆ or     ┆       │\n",
       "│        ┆        ┆        ┆        ┆      ┆       ┆   ┆        ┆ Deaths ┆        ┆ COVID… ┆       │\n",
       "│        ┆        ┆        ┆        ┆      ┆       ┆   ┆        ┆ ---    ┆        ┆ ---    ┆       │\n",
       "│        ┆        ┆        ┆        ┆      ┆       ┆   ┆        ┆ i64    ┆        ┆ i64    ┆       │\n",
       "╞════════╪════════╪════════╪════════╪══════╪═══════╪═══╪════════╪════════╪════════╪════════╪═══════╡\n",
       "│ 2023-0 ┆ 2020-0 ┆ 2020-0 ┆ By     ┆ 2020 ┆ 1     ┆ … ┆ 17909  ┆ 3      ┆ 2125   ┆ 20037  ┆ null  │\n",
       "│ 9-27   ┆ 1-01   ┆ 1-31   ┆ Month  ┆      ┆       ┆   ┆        ┆        ┆        ┆        ┆       │\n",
       "│ 2023-0 ┆ 2020-0 ┆ 2020-0 ┆ By     ┆ 2020 ┆ 1     ┆ … ┆ 90     ┆ 0      ┆ 63     ┆ 153    ┆ null  │\n",
       "│ 9-27   ┆ 1-01   ┆ 1-31   ┆ Month  ┆      ┆       ┆   ┆        ┆        ┆        ┆        ┆       │\n",
       "│ 2023-0 ┆ 2020-0 ┆ 2020-0 ┆ By     ┆ 2020 ┆ 1     ┆ … ┆ 114    ┆ 0      ┆ 54     ┆ 168    ┆ null  │\n",
       "│ 9-27   ┆ 1-01   ┆ 1-31   ┆ Month  ┆      ┆       ┆   ┆        ┆        ┆        ┆        ┆       │\n",
       "│ 2023-0 ┆ 2020-0 ┆ 2020-0 ┆ By     ┆ 2020 ┆ 1     ┆ … ┆ 246    ┆ 0      ┆ 112    ┆ 358    ┆ null  │\n",
       "│ 9-27   ┆ 1-01   ┆ 1-31   ┆ Month  ┆      ┆       ┆   ┆        ┆        ┆        ┆        ┆       │\n",
       "│ 2023-0 ┆ 2020-0 ┆ 2020-0 ┆ By     ┆ 2020 ┆ 1     ┆ … ┆ 485    ┆ 0      ┆ 151    ┆ 636    ┆ null  │\n",
       "│ 9-27   ┆ 1-01   ┆ 1-31   ┆ Month  ┆      ┆       ┆   ┆        ┆        ┆        ┆        ┆       │\n",
       "└────────┴────────┴────────┴────────┴──────┴───────┴───┴────────┴────────┴────────┴────────┴───────┘"
      ]
     },
     "execution_count": 86,
     "metadata": {},
     "output_type": "execute_result"
    }
   ],
   "source": [
    "df = (\n",
    "    df.\n",
    "    with_columns(\n",
    "        pl.col('Data As Of').str.strptime(pl.Date, '%m/%d/%Y'),\n",
    "        pl.col('Start Date').str.strptime(pl.Date, '%m/%d/%Y'),\n",
    "        pl.col('End Date').str.strptime(pl.Date, '%m/%d/%Y'),\n",
    "        pl.col('Year').cast(pl.Int64),\n",
    "        pl.col('Month').cast(pl.Int64)\n",
    "    )\n",
    ") \n",
    "df.head()"
   ]
  },
  {
   "cell_type": "code",
   "execution_count": 143,
   "metadata": {},
   "outputs": [
    {
     "data": {
      "application/vnd.plotly.v1+json": {
       "config": {
        "plotlyServerURL": "https://plot.ly"
       },
       "data": [
        {
         "alignmentgroup": "True",
         "hovertemplate": "Age Group=%{x}<br>COVID-19 Deaths=%{y}<extra></extra>",
         "legendgroup": "",
         "marker": {
          "color": "#636efa",
          "pattern": {
           "shape": ""
          }
         },
         "name": "",
         "offsetgroup": "",
         "orientation": "v",
         "showlegend": false,
         "textposition": "auto",
         "type": "bar",
         "x": [
          "85 years and over",
          "75-84 years",
          "65-74 years",
          "50-64 years",
          "40-49 years",
          "30-39 years",
          "18-29 years",
          "0-17 years"
         ],
         "xaxis": "x",
         "y": [
          20391,
          15686,
          9264,
          4762,
          835,
          426,
          183,
          137
         ],
         "yaxis": "y"
        }
       ],
       "layout": {
        "barmode": "relative",
        "legend": {
         "tracegroupgap": 0
        },
        "template": {
         "data": {
          "bar": [
           {
            "error_x": {
             "color": "#2a3f5f"
            },
            "error_y": {
             "color": "#2a3f5f"
            },
            "marker": {
             "line": {
              "color": "#E5ECF6",
              "width": 0.5
             },
             "pattern": {
              "fillmode": "overlay",
              "size": 10,
              "solidity": 0.2
             }
            },
            "type": "bar"
           }
          ],
          "barpolar": [
           {
            "marker": {
             "line": {
              "color": "#E5ECF6",
              "width": 0.5
             },
             "pattern": {
              "fillmode": "overlay",
              "size": 10,
              "solidity": 0.2
             }
            },
            "type": "barpolar"
           }
          ],
          "carpet": [
           {
            "aaxis": {
             "endlinecolor": "#2a3f5f",
             "gridcolor": "white",
             "linecolor": "white",
             "minorgridcolor": "white",
             "startlinecolor": "#2a3f5f"
            },
            "baxis": {
             "endlinecolor": "#2a3f5f",
             "gridcolor": "white",
             "linecolor": "white",
             "minorgridcolor": "white",
             "startlinecolor": "#2a3f5f"
            },
            "type": "carpet"
           }
          ],
          "choropleth": [
           {
            "colorbar": {
             "outlinewidth": 0,
             "ticks": ""
            },
            "type": "choropleth"
           }
          ],
          "contour": [
           {
            "colorbar": {
             "outlinewidth": 0,
             "ticks": ""
            },
            "colorscale": [
             [
              0,
              "#0d0887"
             ],
             [
              0.1111111111111111,
              "#46039f"
             ],
             [
              0.2222222222222222,
              "#7201a8"
             ],
             [
              0.3333333333333333,
              "#9c179e"
             ],
             [
              0.4444444444444444,
              "#bd3786"
             ],
             [
              0.5555555555555556,
              "#d8576b"
             ],
             [
              0.6666666666666666,
              "#ed7953"
             ],
             [
              0.7777777777777778,
              "#fb9f3a"
             ],
             [
              0.8888888888888888,
              "#fdca26"
             ],
             [
              1,
              "#f0f921"
             ]
            ],
            "type": "contour"
           }
          ],
          "contourcarpet": [
           {
            "colorbar": {
             "outlinewidth": 0,
             "ticks": ""
            },
            "type": "contourcarpet"
           }
          ],
          "heatmap": [
           {
            "colorbar": {
             "outlinewidth": 0,
             "ticks": ""
            },
            "colorscale": [
             [
              0,
              "#0d0887"
             ],
             [
              0.1111111111111111,
              "#46039f"
             ],
             [
              0.2222222222222222,
              "#7201a8"
             ],
             [
              0.3333333333333333,
              "#9c179e"
             ],
             [
              0.4444444444444444,
              "#bd3786"
             ],
             [
              0.5555555555555556,
              "#d8576b"
             ],
             [
              0.6666666666666666,
              "#ed7953"
             ],
             [
              0.7777777777777778,
              "#fb9f3a"
             ],
             [
              0.8888888888888888,
              "#fdca26"
             ],
             [
              1,
              "#f0f921"
             ]
            ],
            "type": "heatmap"
           }
          ],
          "heatmapgl": [
           {
            "colorbar": {
             "outlinewidth": 0,
             "ticks": ""
            },
            "colorscale": [
             [
              0,
              "#0d0887"
             ],
             [
              0.1111111111111111,
              "#46039f"
             ],
             [
              0.2222222222222222,
              "#7201a8"
             ],
             [
              0.3333333333333333,
              "#9c179e"
             ],
             [
              0.4444444444444444,
              "#bd3786"
             ],
             [
              0.5555555555555556,
              "#d8576b"
             ],
             [
              0.6666666666666666,
              "#ed7953"
             ],
             [
              0.7777777777777778,
              "#fb9f3a"
             ],
             [
              0.8888888888888888,
              "#fdca26"
             ],
             [
              1,
              "#f0f921"
             ]
            ],
            "type": "heatmapgl"
           }
          ],
          "histogram": [
           {
            "marker": {
             "pattern": {
              "fillmode": "overlay",
              "size": 10,
              "solidity": 0.2
             }
            },
            "type": "histogram"
           }
          ],
          "histogram2d": [
           {
            "colorbar": {
             "outlinewidth": 0,
             "ticks": ""
            },
            "colorscale": [
             [
              0,
              "#0d0887"
             ],
             [
              0.1111111111111111,
              "#46039f"
             ],
             [
              0.2222222222222222,
              "#7201a8"
             ],
             [
              0.3333333333333333,
              "#9c179e"
             ],
             [
              0.4444444444444444,
              "#bd3786"
             ],
             [
              0.5555555555555556,
              "#d8576b"
             ],
             [
              0.6666666666666666,
              "#ed7953"
             ],
             [
              0.7777777777777778,
              "#fb9f3a"
             ],
             [
              0.8888888888888888,
              "#fdca26"
             ],
             [
              1,
              "#f0f921"
             ]
            ],
            "type": "histogram2d"
           }
          ],
          "histogram2dcontour": [
           {
            "colorbar": {
             "outlinewidth": 0,
             "ticks": ""
            },
            "colorscale": [
             [
              0,
              "#0d0887"
             ],
             [
              0.1111111111111111,
              "#46039f"
             ],
             [
              0.2222222222222222,
              "#7201a8"
             ],
             [
              0.3333333333333333,
              "#9c179e"
             ],
             [
              0.4444444444444444,
              "#bd3786"
             ],
             [
              0.5555555555555556,
              "#d8576b"
             ],
             [
              0.6666666666666666,
              "#ed7953"
             ],
             [
              0.7777777777777778,
              "#fb9f3a"
             ],
             [
              0.8888888888888888,
              "#fdca26"
             ],
             [
              1,
              "#f0f921"
             ]
            ],
            "type": "histogram2dcontour"
           }
          ],
          "mesh3d": [
           {
            "colorbar": {
             "outlinewidth": 0,
             "ticks": ""
            },
            "type": "mesh3d"
           }
          ],
          "parcoords": [
           {
            "line": {
             "colorbar": {
              "outlinewidth": 0,
              "ticks": ""
             }
            },
            "type": "parcoords"
           }
          ],
          "pie": [
           {
            "automargin": true,
            "type": "pie"
           }
          ],
          "scatter": [
           {
            "fillpattern": {
             "fillmode": "overlay",
             "size": 10,
             "solidity": 0.2
            },
            "type": "scatter"
           }
          ],
          "scatter3d": [
           {
            "line": {
             "colorbar": {
              "outlinewidth": 0,
              "ticks": ""
             }
            },
            "marker": {
             "colorbar": {
              "outlinewidth": 0,
              "ticks": ""
             }
            },
            "type": "scatter3d"
           }
          ],
          "scattercarpet": [
           {
            "marker": {
             "colorbar": {
              "outlinewidth": 0,
              "ticks": ""
             }
            },
            "type": "scattercarpet"
           }
          ],
          "scattergeo": [
           {
            "marker": {
             "colorbar": {
              "outlinewidth": 0,
              "ticks": ""
             }
            },
            "type": "scattergeo"
           }
          ],
          "scattergl": [
           {
            "marker": {
             "colorbar": {
              "outlinewidth": 0,
              "ticks": ""
             }
            },
            "type": "scattergl"
           }
          ],
          "scattermapbox": [
           {
            "marker": {
             "colorbar": {
              "outlinewidth": 0,
              "ticks": ""
             }
            },
            "type": "scattermapbox"
           }
          ],
          "scatterpolar": [
           {
            "marker": {
             "colorbar": {
              "outlinewidth": 0,
              "ticks": ""
             }
            },
            "type": "scatterpolar"
           }
          ],
          "scatterpolargl": [
           {
            "marker": {
             "colorbar": {
              "outlinewidth": 0,
              "ticks": ""
             }
            },
            "type": "scatterpolargl"
           }
          ],
          "scatterternary": [
           {
            "marker": {
             "colorbar": {
              "outlinewidth": 0,
              "ticks": ""
             }
            },
            "type": "scatterternary"
           }
          ],
          "surface": [
           {
            "colorbar": {
             "outlinewidth": 0,
             "ticks": ""
            },
            "colorscale": [
             [
              0,
              "#0d0887"
             ],
             [
              0.1111111111111111,
              "#46039f"
             ],
             [
              0.2222222222222222,
              "#7201a8"
             ],
             [
              0.3333333333333333,
              "#9c179e"
             ],
             [
              0.4444444444444444,
              "#bd3786"
             ],
             [
              0.5555555555555556,
              "#d8576b"
             ],
             [
              0.6666666666666666,
              "#ed7953"
             ],
             [
              0.7777777777777778,
              "#fb9f3a"
             ],
             [
              0.8888888888888888,
              "#fdca26"
             ],
             [
              1,
              "#f0f921"
             ]
            ],
            "type": "surface"
           }
          ],
          "table": [
           {
            "cells": {
             "fill": {
              "color": "#EBF0F8"
             },
             "line": {
              "color": "white"
             }
            },
            "header": {
             "fill": {
              "color": "#C8D4E3"
             },
             "line": {
              "color": "white"
             }
            },
            "type": "table"
           }
          ]
         },
         "layout": {
          "annotationdefaults": {
           "arrowcolor": "#2a3f5f",
           "arrowhead": 0,
           "arrowwidth": 1
          },
          "autotypenumbers": "strict",
          "coloraxis": {
           "colorbar": {
            "outlinewidth": 0,
            "ticks": ""
           }
          },
          "colorscale": {
           "diverging": [
            [
             0,
             "#8e0152"
            ],
            [
             0.1,
             "#c51b7d"
            ],
            [
             0.2,
             "#de77ae"
            ],
            [
             0.3,
             "#f1b6da"
            ],
            [
             0.4,
             "#fde0ef"
            ],
            [
             0.5,
             "#f7f7f7"
            ],
            [
             0.6,
             "#e6f5d0"
            ],
            [
             0.7,
             "#b8e186"
            ],
            [
             0.8,
             "#7fbc41"
            ],
            [
             0.9,
             "#4d9221"
            ],
            [
             1,
             "#276419"
            ]
           ],
           "sequential": [
            [
             0,
             "#0d0887"
            ],
            [
             0.1111111111111111,
             "#46039f"
            ],
            [
             0.2222222222222222,
             "#7201a8"
            ],
            [
             0.3333333333333333,
             "#9c179e"
            ],
            [
             0.4444444444444444,
             "#bd3786"
            ],
            [
             0.5555555555555556,
             "#d8576b"
            ],
            [
             0.6666666666666666,
             "#ed7953"
            ],
            [
             0.7777777777777778,
             "#fb9f3a"
            ],
            [
             0.8888888888888888,
             "#fdca26"
            ],
            [
             1,
             "#f0f921"
            ]
           ],
           "sequentialminus": [
            [
             0,
             "#0d0887"
            ],
            [
             0.1111111111111111,
             "#46039f"
            ],
            [
             0.2222222222222222,
             "#7201a8"
            ],
            [
             0.3333333333333333,
             "#9c179e"
            ],
            [
             0.4444444444444444,
             "#bd3786"
            ],
            [
             0.5555555555555556,
             "#d8576b"
            ],
            [
             0.6666666666666666,
             "#ed7953"
            ],
            [
             0.7777777777777778,
             "#fb9f3a"
            ],
            [
             0.8888888888888888,
             "#fdca26"
            ],
            [
             1,
             "#f0f921"
            ]
           ]
          },
          "colorway": [
           "#636efa",
           "#EF553B",
           "#00cc96",
           "#ab63fa",
           "#FFA15A",
           "#19d3f3",
           "#FF6692",
           "#B6E880",
           "#FF97FF",
           "#FECB52"
          ],
          "font": {
           "color": "#2a3f5f"
          },
          "geo": {
           "bgcolor": "white",
           "lakecolor": "white",
           "landcolor": "#E5ECF6",
           "showlakes": true,
           "showland": true,
           "subunitcolor": "white"
          },
          "hoverlabel": {
           "align": "left"
          },
          "hovermode": "closest",
          "mapbox": {
           "style": "light"
          },
          "paper_bgcolor": "white",
          "plot_bgcolor": "#E5ECF6",
          "polar": {
           "angularaxis": {
            "gridcolor": "white",
            "linecolor": "white",
            "ticks": ""
           },
           "bgcolor": "#E5ECF6",
           "radialaxis": {
            "gridcolor": "white",
            "linecolor": "white",
            "ticks": ""
           }
          },
          "scene": {
           "xaxis": {
            "backgroundcolor": "#E5ECF6",
            "gridcolor": "white",
            "gridwidth": 2,
            "linecolor": "white",
            "showbackground": true,
            "ticks": "",
            "zerolinecolor": "white"
           },
           "yaxis": {
            "backgroundcolor": "#E5ECF6",
            "gridcolor": "white",
            "gridwidth": 2,
            "linecolor": "white",
            "showbackground": true,
            "ticks": "",
            "zerolinecolor": "white"
           },
           "zaxis": {
            "backgroundcolor": "#E5ECF6",
            "gridcolor": "white",
            "gridwidth": 2,
            "linecolor": "white",
            "showbackground": true,
            "ticks": "",
            "zerolinecolor": "white"
           }
          },
          "shapedefaults": {
           "line": {
            "color": "#2a3f5f"
           }
          },
          "ternary": {
           "aaxis": {
            "gridcolor": "white",
            "linecolor": "white",
            "ticks": ""
           },
           "baxis": {
            "gridcolor": "white",
            "linecolor": "white",
            "ticks": ""
           },
           "bgcolor": "#E5ECF6",
           "caxis": {
            "gridcolor": "white",
            "linecolor": "white",
            "ticks": ""
           }
          },
          "title": {
           "x": 0.05
          },
          "xaxis": {
           "automargin": true,
           "gridcolor": "white",
           "linecolor": "white",
           "ticks": "",
           "title": {
            "standoff": 15
           },
           "zerolinecolor": "white",
           "zerolinewidth": 2
          },
          "yaxis": {
           "automargin": true,
           "gridcolor": "white",
           "linecolor": "white",
           "ticks": "",
           "title": {
            "standoff": 15
           },
           "zerolinecolor": "white",
           "zerolinewidth": 2
          }
         }
        },
        "title": {
         "text": "COVID Deaths 2023 by Age Group - As of 9/27/23"
        },
        "xaxis": {
         "anchor": "y",
         "domain": [
          0,
          1
         ],
         "title": {}
        },
        "yaxis": {
         "anchor": "x",
         "domain": [
          0,
          1
         ],
         "title": {
          "text": "COVID-19 Deaths"
         }
        }
       }
      },
      "text/html": [
       "<div>                            <div id=\"a9f29e5c-ed4c-4a13-8322-ce0867594005\" class=\"plotly-graph-div\" style=\"height:525px; width:100%;\"></div>            <script type=\"text/javascript\">                require([\"plotly\"], function(Plotly) {                    window.PLOTLYENV=window.PLOTLYENV || {};                                    if (document.getElementById(\"a9f29e5c-ed4c-4a13-8322-ce0867594005\")) {                    Plotly.newPlot(                        \"a9f29e5c-ed4c-4a13-8322-ce0867594005\",                        [{\"alignmentgroup\":\"True\",\"hovertemplate\":\"Age Group=%{x}\\u003cbr\\u003eCOVID-19 Deaths=%{y}\\u003cextra\\u003e\\u003c\\u002fextra\\u003e\",\"legendgroup\":\"\",\"marker\":{\"color\":\"#636efa\",\"pattern\":{\"shape\":\"\"}},\"name\":\"\",\"offsetgroup\":\"\",\"orientation\":\"v\",\"showlegend\":false,\"textposition\":\"auto\",\"x\":[\"85 years and over\",\"75-84 years\",\"65-74 years\",\"50-64 years\",\"40-49 years\",\"30-39 years\",\"18-29 years\",\"0-17 years\"],\"xaxis\":\"x\",\"y\":[20391,15686,9264,4762,835,426,183,137],\"yaxis\":\"y\",\"type\":\"bar\"}],                        {\"template\":{\"data\":{\"histogram2dcontour\":[{\"type\":\"histogram2dcontour\",\"colorbar\":{\"outlinewidth\":0,\"ticks\":\"\"},\"colorscale\":[[0.0,\"#0d0887\"],[0.1111111111111111,\"#46039f\"],[0.2222222222222222,\"#7201a8\"],[0.3333333333333333,\"#9c179e\"],[0.4444444444444444,\"#bd3786\"],[0.5555555555555556,\"#d8576b\"],[0.6666666666666666,\"#ed7953\"],[0.7777777777777778,\"#fb9f3a\"],[0.8888888888888888,\"#fdca26\"],[1.0,\"#f0f921\"]]}],\"choropleth\":[{\"type\":\"choropleth\",\"colorbar\":{\"outlinewidth\":0,\"ticks\":\"\"}}],\"histogram2d\":[{\"type\":\"histogram2d\",\"colorbar\":{\"outlinewidth\":0,\"ticks\":\"\"},\"colorscale\":[[0.0,\"#0d0887\"],[0.1111111111111111,\"#46039f\"],[0.2222222222222222,\"#7201a8\"],[0.3333333333333333,\"#9c179e\"],[0.4444444444444444,\"#bd3786\"],[0.5555555555555556,\"#d8576b\"],[0.6666666666666666,\"#ed7953\"],[0.7777777777777778,\"#fb9f3a\"],[0.8888888888888888,\"#fdca26\"],[1.0,\"#f0f921\"]]}],\"heatmap\":[{\"type\":\"heatmap\",\"colorbar\":{\"outlinewidth\":0,\"ticks\":\"\"},\"colorscale\":[[0.0,\"#0d0887\"],[0.1111111111111111,\"#46039f\"],[0.2222222222222222,\"#7201a8\"],[0.3333333333333333,\"#9c179e\"],[0.4444444444444444,\"#bd3786\"],[0.5555555555555556,\"#d8576b\"],[0.6666666666666666,\"#ed7953\"],[0.7777777777777778,\"#fb9f3a\"],[0.8888888888888888,\"#fdca26\"],[1.0,\"#f0f921\"]]}],\"heatmapgl\":[{\"type\":\"heatmapgl\",\"colorbar\":{\"outlinewidth\":0,\"ticks\":\"\"},\"colorscale\":[[0.0,\"#0d0887\"],[0.1111111111111111,\"#46039f\"],[0.2222222222222222,\"#7201a8\"],[0.3333333333333333,\"#9c179e\"],[0.4444444444444444,\"#bd3786\"],[0.5555555555555556,\"#d8576b\"],[0.6666666666666666,\"#ed7953\"],[0.7777777777777778,\"#fb9f3a\"],[0.8888888888888888,\"#fdca26\"],[1.0,\"#f0f921\"]]}],\"contourcarpet\":[{\"type\":\"contourcarpet\",\"colorbar\":{\"outlinewidth\":0,\"ticks\":\"\"}}],\"contour\":[{\"type\":\"contour\",\"colorbar\":{\"outlinewidth\":0,\"ticks\":\"\"},\"colorscale\":[[0.0,\"#0d0887\"],[0.1111111111111111,\"#46039f\"],[0.2222222222222222,\"#7201a8\"],[0.3333333333333333,\"#9c179e\"],[0.4444444444444444,\"#bd3786\"],[0.5555555555555556,\"#d8576b\"],[0.6666666666666666,\"#ed7953\"],[0.7777777777777778,\"#fb9f3a\"],[0.8888888888888888,\"#fdca26\"],[1.0,\"#f0f921\"]]}],\"surface\":[{\"type\":\"surface\",\"colorbar\":{\"outlinewidth\":0,\"ticks\":\"\"},\"colorscale\":[[0.0,\"#0d0887\"],[0.1111111111111111,\"#46039f\"],[0.2222222222222222,\"#7201a8\"],[0.3333333333333333,\"#9c179e\"],[0.4444444444444444,\"#bd3786\"],[0.5555555555555556,\"#d8576b\"],[0.6666666666666666,\"#ed7953\"],[0.7777777777777778,\"#fb9f3a\"],[0.8888888888888888,\"#fdca26\"],[1.0,\"#f0f921\"]]}],\"mesh3d\":[{\"type\":\"mesh3d\",\"colorbar\":{\"outlinewidth\":0,\"ticks\":\"\"}}],\"scatter\":[{\"fillpattern\":{\"fillmode\":\"overlay\",\"size\":10,\"solidity\":0.2},\"type\":\"scatter\"}],\"parcoords\":[{\"type\":\"parcoords\",\"line\":{\"colorbar\":{\"outlinewidth\":0,\"ticks\":\"\"}}}],\"scatterpolargl\":[{\"type\":\"scatterpolargl\",\"marker\":{\"colorbar\":{\"outlinewidth\":0,\"ticks\":\"\"}}}],\"bar\":[{\"error_x\":{\"color\":\"#2a3f5f\"},\"error_y\":{\"color\":\"#2a3f5f\"},\"marker\":{\"line\":{\"color\":\"#E5ECF6\",\"width\":0.5},\"pattern\":{\"fillmode\":\"overlay\",\"size\":10,\"solidity\":0.2}},\"type\":\"bar\"}],\"scattergeo\":[{\"type\":\"scattergeo\",\"marker\":{\"colorbar\":{\"outlinewidth\":0,\"ticks\":\"\"}}}],\"scatterpolar\":[{\"type\":\"scatterpolar\",\"marker\":{\"colorbar\":{\"outlinewidth\":0,\"ticks\":\"\"}}}],\"histogram\":[{\"marker\":{\"pattern\":{\"fillmode\":\"overlay\",\"size\":10,\"solidity\":0.2}},\"type\":\"histogram\"}],\"scattergl\":[{\"type\":\"scattergl\",\"marker\":{\"colorbar\":{\"outlinewidth\":0,\"ticks\":\"\"}}}],\"scatter3d\":[{\"type\":\"scatter3d\",\"line\":{\"colorbar\":{\"outlinewidth\":0,\"ticks\":\"\"}},\"marker\":{\"colorbar\":{\"outlinewidth\":0,\"ticks\":\"\"}}}],\"scattermapbox\":[{\"type\":\"scattermapbox\",\"marker\":{\"colorbar\":{\"outlinewidth\":0,\"ticks\":\"\"}}}],\"scatterternary\":[{\"type\":\"scatterternary\",\"marker\":{\"colorbar\":{\"outlinewidth\":0,\"ticks\":\"\"}}}],\"scattercarpet\":[{\"type\":\"scattercarpet\",\"marker\":{\"colorbar\":{\"outlinewidth\":0,\"ticks\":\"\"}}}],\"carpet\":[{\"aaxis\":{\"endlinecolor\":\"#2a3f5f\",\"gridcolor\":\"white\",\"linecolor\":\"white\",\"minorgridcolor\":\"white\",\"startlinecolor\":\"#2a3f5f\"},\"baxis\":{\"endlinecolor\":\"#2a3f5f\",\"gridcolor\":\"white\",\"linecolor\":\"white\",\"minorgridcolor\":\"white\",\"startlinecolor\":\"#2a3f5f\"},\"type\":\"carpet\"}],\"table\":[{\"cells\":{\"fill\":{\"color\":\"#EBF0F8\"},\"line\":{\"color\":\"white\"}},\"header\":{\"fill\":{\"color\":\"#C8D4E3\"},\"line\":{\"color\":\"white\"}},\"type\":\"table\"}],\"barpolar\":[{\"marker\":{\"line\":{\"color\":\"#E5ECF6\",\"width\":0.5},\"pattern\":{\"fillmode\":\"overlay\",\"size\":10,\"solidity\":0.2}},\"type\":\"barpolar\"}],\"pie\":[{\"automargin\":true,\"type\":\"pie\"}]},\"layout\":{\"autotypenumbers\":\"strict\",\"colorway\":[\"#636efa\",\"#EF553B\",\"#00cc96\",\"#ab63fa\",\"#FFA15A\",\"#19d3f3\",\"#FF6692\",\"#B6E880\",\"#FF97FF\",\"#FECB52\"],\"font\":{\"color\":\"#2a3f5f\"},\"hovermode\":\"closest\",\"hoverlabel\":{\"align\":\"left\"},\"paper_bgcolor\":\"white\",\"plot_bgcolor\":\"#E5ECF6\",\"polar\":{\"bgcolor\":\"#E5ECF6\",\"angularaxis\":{\"gridcolor\":\"white\",\"linecolor\":\"white\",\"ticks\":\"\"},\"radialaxis\":{\"gridcolor\":\"white\",\"linecolor\":\"white\",\"ticks\":\"\"}},\"ternary\":{\"bgcolor\":\"#E5ECF6\",\"aaxis\":{\"gridcolor\":\"white\",\"linecolor\":\"white\",\"ticks\":\"\"},\"baxis\":{\"gridcolor\":\"white\",\"linecolor\":\"white\",\"ticks\":\"\"},\"caxis\":{\"gridcolor\":\"white\",\"linecolor\":\"white\",\"ticks\":\"\"}},\"coloraxis\":{\"colorbar\":{\"outlinewidth\":0,\"ticks\":\"\"}},\"colorscale\":{\"sequential\":[[0.0,\"#0d0887\"],[0.1111111111111111,\"#46039f\"],[0.2222222222222222,\"#7201a8\"],[0.3333333333333333,\"#9c179e\"],[0.4444444444444444,\"#bd3786\"],[0.5555555555555556,\"#d8576b\"],[0.6666666666666666,\"#ed7953\"],[0.7777777777777778,\"#fb9f3a\"],[0.8888888888888888,\"#fdca26\"],[1.0,\"#f0f921\"]],\"sequentialminus\":[[0.0,\"#0d0887\"],[0.1111111111111111,\"#46039f\"],[0.2222222222222222,\"#7201a8\"],[0.3333333333333333,\"#9c179e\"],[0.4444444444444444,\"#bd3786\"],[0.5555555555555556,\"#d8576b\"],[0.6666666666666666,\"#ed7953\"],[0.7777777777777778,\"#fb9f3a\"],[0.8888888888888888,\"#fdca26\"],[1.0,\"#f0f921\"]],\"diverging\":[[0,\"#8e0152\"],[0.1,\"#c51b7d\"],[0.2,\"#de77ae\"],[0.3,\"#f1b6da\"],[0.4,\"#fde0ef\"],[0.5,\"#f7f7f7\"],[0.6,\"#e6f5d0\"],[0.7,\"#b8e186\"],[0.8,\"#7fbc41\"],[0.9,\"#4d9221\"],[1,\"#276419\"]]},\"xaxis\":{\"gridcolor\":\"white\",\"linecolor\":\"white\",\"ticks\":\"\",\"title\":{\"standoff\":15},\"zerolinecolor\":\"white\",\"automargin\":true,\"zerolinewidth\":2},\"yaxis\":{\"gridcolor\":\"white\",\"linecolor\":\"white\",\"ticks\":\"\",\"title\":{\"standoff\":15},\"zerolinecolor\":\"white\",\"automargin\":true,\"zerolinewidth\":2},\"scene\":{\"xaxis\":{\"backgroundcolor\":\"#E5ECF6\",\"gridcolor\":\"white\",\"linecolor\":\"white\",\"showbackground\":true,\"ticks\":\"\",\"zerolinecolor\":\"white\",\"gridwidth\":2},\"yaxis\":{\"backgroundcolor\":\"#E5ECF6\",\"gridcolor\":\"white\",\"linecolor\":\"white\",\"showbackground\":true,\"ticks\":\"\",\"zerolinecolor\":\"white\",\"gridwidth\":2},\"zaxis\":{\"backgroundcolor\":\"#E5ECF6\",\"gridcolor\":\"white\",\"linecolor\":\"white\",\"showbackground\":true,\"ticks\":\"\",\"zerolinecolor\":\"white\",\"gridwidth\":2}},\"shapedefaults\":{\"line\":{\"color\":\"#2a3f5f\"}},\"annotationdefaults\":{\"arrowcolor\":\"#2a3f5f\",\"arrowhead\":0,\"arrowwidth\":1},\"geo\":{\"bgcolor\":\"white\",\"landcolor\":\"#E5ECF6\",\"subunitcolor\":\"white\",\"showland\":true,\"showlakes\":true,\"lakecolor\":\"white\"},\"title\":{\"x\":0.05},\"mapbox\":{\"style\":\"light\"}}},\"xaxis\":{\"anchor\":\"y\",\"domain\":[0.0,1.0],\"title\":{}},\"yaxis\":{\"anchor\":\"x\",\"domain\":[0.0,1.0],\"title\":{\"text\":\"COVID-19 Deaths\"}},\"legend\":{\"tracegroupgap\":0},\"title\":{\"text\":\"COVID Deaths 2023 by Age Group - As of 9\\u002f27\\u002f23\"},\"barmode\":\"relative\"},                        {\"responsive\": true}                    ).then(function(){\n",
       "                            \n",
       "var gd = document.getElementById('a9f29e5c-ed4c-4a13-8322-ce0867594005');\n",
       "var x = new MutationObserver(function (mutations, observer) {{\n",
       "        var display = window.getComputedStyle(gd).display;\n",
       "        if (!display || display === 'none') {{\n",
       "            console.log([gd, 'removed!']);\n",
       "            Plotly.purge(gd);\n",
       "            observer.disconnect();\n",
       "        }}\n",
       "}});\n",
       "\n",
       "// Listen for the removal of the full notebook cells\n",
       "var notebookContainer = gd.closest('#notebook-container');\n",
       "if (notebookContainer) {{\n",
       "    x.observe(notebookContainer, {childList: true});\n",
       "}}\n",
       "\n",
       "// Listen for the clearing of the current output cell\n",
       "var outputEl = gd.closest('.output');\n",
       "if (outputEl) {{\n",
       "    x.observe(outputEl, {childList: true});\n",
       "}}\n",
       "\n",
       "                        })                };                });            </script>        </div>"
      ]
     },
     "metadata": {},
     "output_type": "display_data"
    }
   ],
   "source": [
    "\"\"\"\n",
    "This script filters and aggregates COVID-19 death data by age group for the year 2023 in the United States,\n",
    "and then visualizes the results in a bar chart.\n",
    "\n",
    "Steps:\n",
    "1. Filter the DataFrame `df` to include only rows where:\n",
    "    - 'State' is 'United States'\n",
    "    - 'Year' is 2023 (cast to Int32)\n",
    "    - 'Age Group' is not 'All Ages'\n",
    "    - 'Sex' is 'All Sexes'\n",
    "2. Group the filtered data by 'Age Group' and sum the 'COVID-19 Deaths' for each group.\n",
    "3. Sort the aggregated data by 'COVID-19 Deaths' in descending order.\n",
    "4. Create a bar chart using Plotly Express to visualize the number of COVID-19 deaths by age group.\n",
    "5. Update the layout of the chart to remove the x-axis title.\n",
    "6. Display the chart.\n",
    "\n",
    "Variables:\n",
    "- covid_deaths_by_age: DataFrame containing the aggregated and sorted COVID-19 death data by age group.\n",
    "- fig: Plotly Express bar chart object visualizing the COVID-19 deaths by age group.\n",
    "\"\"\"\n",
    "covid_deaths_by_age = (\n",
    "    df\n",
    "    .filter(\n",
    "        pl.col('State') == 'United States',\n",
    "        pl.col('Year').cast(pl.Int32) == 2023,\n",
    "        pl.col('Age Group') != 'All Ages',\n",
    "        pl.col('Sex') == 'All Sexes'\n",
    "    )\n",
    "    .group_by('Age Group')\n",
    "    .agg(pl.col('COVID-19 Deaths').sum())\n",
    "    .sort(by='COVID-19 Deaths', descending=True)\n",
    ")\n",
    "\n",
    "fig = px.bar(\n",
    "    covid_deaths_by_age, \n",
    "    x='Age Group', \n",
    "    y='COVID-19 Deaths', \n",
    "    title='COVID Deaths 2023 by Age Group - As of 9/27/23'\n",
    ")\n",
    "\n",
    "fig.update_layout(xaxis_title=None)\n",
    "fig.show()\n"
   ]
  },
  {
   "cell_type": "code",
   "execution_count": 88,
   "metadata": {},
   "outputs": [
    {
     "data": {
      "application/vnd.plotly.v1+json": {
       "config": {
        "plotlyServerURL": "https://plot.ly"
       },
       "data": [
        {
         "alignmentgroup": "True",
         "hovertemplate": "State=%{x}<br>COVID-19 Deaths=%{y}<extra></extra>",
         "legendgroup": "",
         "marker": {
          "color": "#636efa",
          "pattern": {
           "shape": ""
          }
         },
         "name": "",
         "offsetgroup": "",
         "orientation": "v",
         "showlegend": false,
         "textposition": "auto",
         "type": "bar",
         "x": [
          "California",
          "Florida",
          "Texas",
          "Pennsylvania",
          "New York"
         ],
         "xaxis": "x",
         "y": [
          4914,
          4296,
          3478,
          2454,
          2186
         ],
         "yaxis": "y"
        }
       ],
       "layout": {
        "barmode": "relative",
        "legend": {
         "tracegroupgap": 0
        },
        "template": {
         "data": {
          "bar": [
           {
            "error_x": {
             "color": "#2a3f5f"
            },
            "error_y": {
             "color": "#2a3f5f"
            },
            "marker": {
             "line": {
              "color": "#E5ECF6",
              "width": 0.5
             },
             "pattern": {
              "fillmode": "overlay",
              "size": 10,
              "solidity": 0.2
             }
            },
            "type": "bar"
           }
          ],
          "barpolar": [
           {
            "marker": {
             "line": {
              "color": "#E5ECF6",
              "width": 0.5
             },
             "pattern": {
              "fillmode": "overlay",
              "size": 10,
              "solidity": 0.2
             }
            },
            "type": "barpolar"
           }
          ],
          "carpet": [
           {
            "aaxis": {
             "endlinecolor": "#2a3f5f",
             "gridcolor": "white",
             "linecolor": "white",
             "minorgridcolor": "white",
             "startlinecolor": "#2a3f5f"
            },
            "baxis": {
             "endlinecolor": "#2a3f5f",
             "gridcolor": "white",
             "linecolor": "white",
             "minorgridcolor": "white",
             "startlinecolor": "#2a3f5f"
            },
            "type": "carpet"
           }
          ],
          "choropleth": [
           {
            "colorbar": {
             "outlinewidth": 0,
             "ticks": ""
            },
            "type": "choropleth"
           }
          ],
          "contour": [
           {
            "colorbar": {
             "outlinewidth": 0,
             "ticks": ""
            },
            "colorscale": [
             [
              0,
              "#0d0887"
             ],
             [
              0.1111111111111111,
              "#46039f"
             ],
             [
              0.2222222222222222,
              "#7201a8"
             ],
             [
              0.3333333333333333,
              "#9c179e"
             ],
             [
              0.4444444444444444,
              "#bd3786"
             ],
             [
              0.5555555555555556,
              "#d8576b"
             ],
             [
              0.6666666666666666,
              "#ed7953"
             ],
             [
              0.7777777777777778,
              "#fb9f3a"
             ],
             [
              0.8888888888888888,
              "#fdca26"
             ],
             [
              1,
              "#f0f921"
             ]
            ],
            "type": "contour"
           }
          ],
          "contourcarpet": [
           {
            "colorbar": {
             "outlinewidth": 0,
             "ticks": ""
            },
            "type": "contourcarpet"
           }
          ],
          "heatmap": [
           {
            "colorbar": {
             "outlinewidth": 0,
             "ticks": ""
            },
            "colorscale": [
             [
              0,
              "#0d0887"
             ],
             [
              0.1111111111111111,
              "#46039f"
             ],
             [
              0.2222222222222222,
              "#7201a8"
             ],
             [
              0.3333333333333333,
              "#9c179e"
             ],
             [
              0.4444444444444444,
              "#bd3786"
             ],
             [
              0.5555555555555556,
              "#d8576b"
             ],
             [
              0.6666666666666666,
              "#ed7953"
             ],
             [
              0.7777777777777778,
              "#fb9f3a"
             ],
             [
              0.8888888888888888,
              "#fdca26"
             ],
             [
              1,
              "#f0f921"
             ]
            ],
            "type": "heatmap"
           }
          ],
          "heatmapgl": [
           {
            "colorbar": {
             "outlinewidth": 0,
             "ticks": ""
            },
            "colorscale": [
             [
              0,
              "#0d0887"
             ],
             [
              0.1111111111111111,
              "#46039f"
             ],
             [
              0.2222222222222222,
              "#7201a8"
             ],
             [
              0.3333333333333333,
              "#9c179e"
             ],
             [
              0.4444444444444444,
              "#bd3786"
             ],
             [
              0.5555555555555556,
              "#d8576b"
             ],
             [
              0.6666666666666666,
              "#ed7953"
             ],
             [
              0.7777777777777778,
              "#fb9f3a"
             ],
             [
              0.8888888888888888,
              "#fdca26"
             ],
             [
              1,
              "#f0f921"
             ]
            ],
            "type": "heatmapgl"
           }
          ],
          "histogram": [
           {
            "marker": {
             "pattern": {
              "fillmode": "overlay",
              "size": 10,
              "solidity": 0.2
             }
            },
            "type": "histogram"
           }
          ],
          "histogram2d": [
           {
            "colorbar": {
             "outlinewidth": 0,
             "ticks": ""
            },
            "colorscale": [
             [
              0,
              "#0d0887"
             ],
             [
              0.1111111111111111,
              "#46039f"
             ],
             [
              0.2222222222222222,
              "#7201a8"
             ],
             [
              0.3333333333333333,
              "#9c179e"
             ],
             [
              0.4444444444444444,
              "#bd3786"
             ],
             [
              0.5555555555555556,
              "#d8576b"
             ],
             [
              0.6666666666666666,
              "#ed7953"
             ],
             [
              0.7777777777777778,
              "#fb9f3a"
             ],
             [
              0.8888888888888888,
              "#fdca26"
             ],
             [
              1,
              "#f0f921"
             ]
            ],
            "type": "histogram2d"
           }
          ],
          "histogram2dcontour": [
           {
            "colorbar": {
             "outlinewidth": 0,
             "ticks": ""
            },
            "colorscale": [
             [
              0,
              "#0d0887"
             ],
             [
              0.1111111111111111,
              "#46039f"
             ],
             [
              0.2222222222222222,
              "#7201a8"
             ],
             [
              0.3333333333333333,
              "#9c179e"
             ],
             [
              0.4444444444444444,
              "#bd3786"
             ],
             [
              0.5555555555555556,
              "#d8576b"
             ],
             [
              0.6666666666666666,
              "#ed7953"
             ],
             [
              0.7777777777777778,
              "#fb9f3a"
             ],
             [
              0.8888888888888888,
              "#fdca26"
             ],
             [
              1,
              "#f0f921"
             ]
            ],
            "type": "histogram2dcontour"
           }
          ],
          "mesh3d": [
           {
            "colorbar": {
             "outlinewidth": 0,
             "ticks": ""
            },
            "type": "mesh3d"
           }
          ],
          "parcoords": [
           {
            "line": {
             "colorbar": {
              "outlinewidth": 0,
              "ticks": ""
             }
            },
            "type": "parcoords"
           }
          ],
          "pie": [
           {
            "automargin": true,
            "type": "pie"
           }
          ],
          "scatter": [
           {
            "fillpattern": {
             "fillmode": "overlay",
             "size": 10,
             "solidity": 0.2
            },
            "type": "scatter"
           }
          ],
          "scatter3d": [
           {
            "line": {
             "colorbar": {
              "outlinewidth": 0,
              "ticks": ""
             }
            },
            "marker": {
             "colorbar": {
              "outlinewidth": 0,
              "ticks": ""
             }
            },
            "type": "scatter3d"
           }
          ],
          "scattercarpet": [
           {
            "marker": {
             "colorbar": {
              "outlinewidth": 0,
              "ticks": ""
             }
            },
            "type": "scattercarpet"
           }
          ],
          "scattergeo": [
           {
            "marker": {
             "colorbar": {
              "outlinewidth": 0,
              "ticks": ""
             }
            },
            "type": "scattergeo"
           }
          ],
          "scattergl": [
           {
            "marker": {
             "colorbar": {
              "outlinewidth": 0,
              "ticks": ""
             }
            },
            "type": "scattergl"
           }
          ],
          "scattermapbox": [
           {
            "marker": {
             "colorbar": {
              "outlinewidth": 0,
              "ticks": ""
             }
            },
            "type": "scattermapbox"
           }
          ],
          "scatterpolar": [
           {
            "marker": {
             "colorbar": {
              "outlinewidth": 0,
              "ticks": ""
             }
            },
            "type": "scatterpolar"
           }
          ],
          "scatterpolargl": [
           {
            "marker": {
             "colorbar": {
              "outlinewidth": 0,
              "ticks": ""
             }
            },
            "type": "scatterpolargl"
           }
          ],
          "scatterternary": [
           {
            "marker": {
             "colorbar": {
              "outlinewidth": 0,
              "ticks": ""
             }
            },
            "type": "scatterternary"
           }
          ],
          "surface": [
           {
            "colorbar": {
             "outlinewidth": 0,
             "ticks": ""
            },
            "colorscale": [
             [
              0,
              "#0d0887"
             ],
             [
              0.1111111111111111,
              "#46039f"
             ],
             [
              0.2222222222222222,
              "#7201a8"
             ],
             [
              0.3333333333333333,
              "#9c179e"
             ],
             [
              0.4444444444444444,
              "#bd3786"
             ],
             [
              0.5555555555555556,
              "#d8576b"
             ],
             [
              0.6666666666666666,
              "#ed7953"
             ],
             [
              0.7777777777777778,
              "#fb9f3a"
             ],
             [
              0.8888888888888888,
              "#fdca26"
             ],
             [
              1,
              "#f0f921"
             ]
            ],
            "type": "surface"
           }
          ],
          "table": [
           {
            "cells": {
             "fill": {
              "color": "#EBF0F8"
             },
             "line": {
              "color": "white"
             }
            },
            "header": {
             "fill": {
              "color": "#C8D4E3"
             },
             "line": {
              "color": "white"
             }
            },
            "type": "table"
           }
          ]
         },
         "layout": {
          "annotationdefaults": {
           "arrowcolor": "#2a3f5f",
           "arrowhead": 0,
           "arrowwidth": 1
          },
          "autotypenumbers": "strict",
          "coloraxis": {
           "colorbar": {
            "outlinewidth": 0,
            "ticks": ""
           }
          },
          "colorscale": {
           "diverging": [
            [
             0,
             "#8e0152"
            ],
            [
             0.1,
             "#c51b7d"
            ],
            [
             0.2,
             "#de77ae"
            ],
            [
             0.3,
             "#f1b6da"
            ],
            [
             0.4,
             "#fde0ef"
            ],
            [
             0.5,
             "#f7f7f7"
            ],
            [
             0.6,
             "#e6f5d0"
            ],
            [
             0.7,
             "#b8e186"
            ],
            [
             0.8,
             "#7fbc41"
            ],
            [
             0.9,
             "#4d9221"
            ],
            [
             1,
             "#276419"
            ]
           ],
           "sequential": [
            [
             0,
             "#0d0887"
            ],
            [
             0.1111111111111111,
             "#46039f"
            ],
            [
             0.2222222222222222,
             "#7201a8"
            ],
            [
             0.3333333333333333,
             "#9c179e"
            ],
            [
             0.4444444444444444,
             "#bd3786"
            ],
            [
             0.5555555555555556,
             "#d8576b"
            ],
            [
             0.6666666666666666,
             "#ed7953"
            ],
            [
             0.7777777777777778,
             "#fb9f3a"
            ],
            [
             0.8888888888888888,
             "#fdca26"
            ],
            [
             1,
             "#f0f921"
            ]
           ],
           "sequentialminus": [
            [
             0,
             "#0d0887"
            ],
            [
             0.1111111111111111,
             "#46039f"
            ],
            [
             0.2222222222222222,
             "#7201a8"
            ],
            [
             0.3333333333333333,
             "#9c179e"
            ],
            [
             0.4444444444444444,
             "#bd3786"
            ],
            [
             0.5555555555555556,
             "#d8576b"
            ],
            [
             0.6666666666666666,
             "#ed7953"
            ],
            [
             0.7777777777777778,
             "#fb9f3a"
            ],
            [
             0.8888888888888888,
             "#fdca26"
            ],
            [
             1,
             "#f0f921"
            ]
           ]
          },
          "colorway": [
           "#636efa",
           "#EF553B",
           "#00cc96",
           "#ab63fa",
           "#FFA15A",
           "#19d3f3",
           "#FF6692",
           "#B6E880",
           "#FF97FF",
           "#FECB52"
          ],
          "font": {
           "color": "#2a3f5f"
          },
          "geo": {
           "bgcolor": "white",
           "lakecolor": "white",
           "landcolor": "#E5ECF6",
           "showlakes": true,
           "showland": true,
           "subunitcolor": "white"
          },
          "hoverlabel": {
           "align": "left"
          },
          "hovermode": "closest",
          "mapbox": {
           "style": "light"
          },
          "paper_bgcolor": "white",
          "plot_bgcolor": "#E5ECF6",
          "polar": {
           "angularaxis": {
            "gridcolor": "white",
            "linecolor": "white",
            "ticks": ""
           },
           "bgcolor": "#E5ECF6",
           "radialaxis": {
            "gridcolor": "white",
            "linecolor": "white",
            "ticks": ""
           }
          },
          "scene": {
           "xaxis": {
            "backgroundcolor": "#E5ECF6",
            "gridcolor": "white",
            "gridwidth": 2,
            "linecolor": "white",
            "showbackground": true,
            "ticks": "",
            "zerolinecolor": "white"
           },
           "yaxis": {
            "backgroundcolor": "#E5ECF6",
            "gridcolor": "white",
            "gridwidth": 2,
            "linecolor": "white",
            "showbackground": true,
            "ticks": "",
            "zerolinecolor": "white"
           },
           "zaxis": {
            "backgroundcolor": "#E5ECF6",
            "gridcolor": "white",
            "gridwidth": 2,
            "linecolor": "white",
            "showbackground": true,
            "ticks": "",
            "zerolinecolor": "white"
           }
          },
          "shapedefaults": {
           "line": {
            "color": "#2a3f5f"
           }
          },
          "ternary": {
           "aaxis": {
            "gridcolor": "white",
            "linecolor": "white",
            "ticks": ""
           },
           "baxis": {
            "gridcolor": "white",
            "linecolor": "white",
            "ticks": ""
           },
           "bgcolor": "#E5ECF6",
           "caxis": {
            "gridcolor": "white",
            "linecolor": "white",
            "ticks": ""
           }
          },
          "title": {
           "x": 0.05
          },
          "xaxis": {
           "automargin": true,
           "gridcolor": "white",
           "linecolor": "white",
           "ticks": "",
           "title": {
            "standoff": 15
           },
           "zerolinecolor": "white",
           "zerolinewidth": 2
          },
          "yaxis": {
           "automargin": true,
           "gridcolor": "white",
           "linecolor": "white",
           "ticks": "",
           "title": {
            "standoff": 15
           },
           "zerolinecolor": "white",
           "zerolinewidth": 2
          }
         }
        },
        "title": {
         "text": "COVID Deaths 2023 by Top 5 States - As of 9/27/23"
        },
        "xaxis": {
         "anchor": "y",
         "domain": [
          0,
          1
         ],
         "title": {}
        },
        "yaxis": {
         "anchor": "x",
         "domain": [
          0,
          1
         ],
         "title": {
          "text": "COVID-19 Deaths"
         }
        }
       }
      },
      "text/html": [
       "<div>                            <div id=\"e59cb8a0-a0d6-4f3c-a5fe-d16b64a42711\" class=\"plotly-graph-div\" style=\"height:525px; width:100%;\"></div>            <script type=\"text/javascript\">                require([\"plotly\"], function(Plotly) {                    window.PLOTLYENV=window.PLOTLYENV || {};                                    if (document.getElementById(\"e59cb8a0-a0d6-4f3c-a5fe-d16b64a42711\")) {                    Plotly.newPlot(                        \"e59cb8a0-a0d6-4f3c-a5fe-d16b64a42711\",                        [{\"alignmentgroup\":\"True\",\"hovertemplate\":\"State=%{x}\\u003cbr\\u003eCOVID-19 Deaths=%{y}\\u003cextra\\u003e\\u003c\\u002fextra\\u003e\",\"legendgroup\":\"\",\"marker\":{\"color\":\"#636efa\",\"pattern\":{\"shape\":\"\"}},\"name\":\"\",\"offsetgroup\":\"\",\"orientation\":\"v\",\"showlegend\":false,\"textposition\":\"auto\",\"x\":[\"California\",\"Florida\",\"Texas\",\"Pennsylvania\",\"New York\"],\"xaxis\":\"x\",\"y\":[4914,4296,3478,2454,2186],\"yaxis\":\"y\",\"type\":\"bar\"}],                        {\"template\":{\"data\":{\"histogram2dcontour\":[{\"type\":\"histogram2dcontour\",\"colorbar\":{\"outlinewidth\":0,\"ticks\":\"\"},\"colorscale\":[[0.0,\"#0d0887\"],[0.1111111111111111,\"#46039f\"],[0.2222222222222222,\"#7201a8\"],[0.3333333333333333,\"#9c179e\"],[0.4444444444444444,\"#bd3786\"],[0.5555555555555556,\"#d8576b\"],[0.6666666666666666,\"#ed7953\"],[0.7777777777777778,\"#fb9f3a\"],[0.8888888888888888,\"#fdca26\"],[1.0,\"#f0f921\"]]}],\"choropleth\":[{\"type\":\"choropleth\",\"colorbar\":{\"outlinewidth\":0,\"ticks\":\"\"}}],\"histogram2d\":[{\"type\":\"histogram2d\",\"colorbar\":{\"outlinewidth\":0,\"ticks\":\"\"},\"colorscale\":[[0.0,\"#0d0887\"],[0.1111111111111111,\"#46039f\"],[0.2222222222222222,\"#7201a8\"],[0.3333333333333333,\"#9c179e\"],[0.4444444444444444,\"#bd3786\"],[0.5555555555555556,\"#d8576b\"],[0.6666666666666666,\"#ed7953\"],[0.7777777777777778,\"#fb9f3a\"],[0.8888888888888888,\"#fdca26\"],[1.0,\"#f0f921\"]]}],\"heatmap\":[{\"type\":\"heatmap\",\"colorbar\":{\"outlinewidth\":0,\"ticks\":\"\"},\"colorscale\":[[0.0,\"#0d0887\"],[0.1111111111111111,\"#46039f\"],[0.2222222222222222,\"#7201a8\"],[0.3333333333333333,\"#9c179e\"],[0.4444444444444444,\"#bd3786\"],[0.5555555555555556,\"#d8576b\"],[0.6666666666666666,\"#ed7953\"],[0.7777777777777778,\"#fb9f3a\"],[0.8888888888888888,\"#fdca26\"],[1.0,\"#f0f921\"]]}],\"heatmapgl\":[{\"type\":\"heatmapgl\",\"colorbar\":{\"outlinewidth\":0,\"ticks\":\"\"},\"colorscale\":[[0.0,\"#0d0887\"],[0.1111111111111111,\"#46039f\"],[0.2222222222222222,\"#7201a8\"],[0.3333333333333333,\"#9c179e\"],[0.4444444444444444,\"#bd3786\"],[0.5555555555555556,\"#d8576b\"],[0.6666666666666666,\"#ed7953\"],[0.7777777777777778,\"#fb9f3a\"],[0.8888888888888888,\"#fdca26\"],[1.0,\"#f0f921\"]]}],\"contourcarpet\":[{\"type\":\"contourcarpet\",\"colorbar\":{\"outlinewidth\":0,\"ticks\":\"\"}}],\"contour\":[{\"type\":\"contour\",\"colorbar\":{\"outlinewidth\":0,\"ticks\":\"\"},\"colorscale\":[[0.0,\"#0d0887\"],[0.1111111111111111,\"#46039f\"],[0.2222222222222222,\"#7201a8\"],[0.3333333333333333,\"#9c179e\"],[0.4444444444444444,\"#bd3786\"],[0.5555555555555556,\"#d8576b\"],[0.6666666666666666,\"#ed7953\"],[0.7777777777777778,\"#fb9f3a\"],[0.8888888888888888,\"#fdca26\"],[1.0,\"#f0f921\"]]}],\"surface\":[{\"type\":\"surface\",\"colorbar\":{\"outlinewidth\":0,\"ticks\":\"\"},\"colorscale\":[[0.0,\"#0d0887\"],[0.1111111111111111,\"#46039f\"],[0.2222222222222222,\"#7201a8\"],[0.3333333333333333,\"#9c179e\"],[0.4444444444444444,\"#bd3786\"],[0.5555555555555556,\"#d8576b\"],[0.6666666666666666,\"#ed7953\"],[0.7777777777777778,\"#fb9f3a\"],[0.8888888888888888,\"#fdca26\"],[1.0,\"#f0f921\"]]}],\"mesh3d\":[{\"type\":\"mesh3d\",\"colorbar\":{\"outlinewidth\":0,\"ticks\":\"\"}}],\"scatter\":[{\"fillpattern\":{\"fillmode\":\"overlay\",\"size\":10,\"solidity\":0.2},\"type\":\"scatter\"}],\"parcoords\":[{\"type\":\"parcoords\",\"line\":{\"colorbar\":{\"outlinewidth\":0,\"ticks\":\"\"}}}],\"scatterpolargl\":[{\"type\":\"scatterpolargl\",\"marker\":{\"colorbar\":{\"outlinewidth\":0,\"ticks\":\"\"}}}],\"bar\":[{\"error_x\":{\"color\":\"#2a3f5f\"},\"error_y\":{\"color\":\"#2a3f5f\"},\"marker\":{\"line\":{\"color\":\"#E5ECF6\",\"width\":0.5},\"pattern\":{\"fillmode\":\"overlay\",\"size\":10,\"solidity\":0.2}},\"type\":\"bar\"}],\"scattergeo\":[{\"type\":\"scattergeo\",\"marker\":{\"colorbar\":{\"outlinewidth\":0,\"ticks\":\"\"}}}],\"scatterpolar\":[{\"type\":\"scatterpolar\",\"marker\":{\"colorbar\":{\"outlinewidth\":0,\"ticks\":\"\"}}}],\"histogram\":[{\"marker\":{\"pattern\":{\"fillmode\":\"overlay\",\"size\":10,\"solidity\":0.2}},\"type\":\"histogram\"}],\"scattergl\":[{\"type\":\"scattergl\",\"marker\":{\"colorbar\":{\"outlinewidth\":0,\"ticks\":\"\"}}}],\"scatter3d\":[{\"type\":\"scatter3d\",\"line\":{\"colorbar\":{\"outlinewidth\":0,\"ticks\":\"\"}},\"marker\":{\"colorbar\":{\"outlinewidth\":0,\"ticks\":\"\"}}}],\"scattermapbox\":[{\"type\":\"scattermapbox\",\"marker\":{\"colorbar\":{\"outlinewidth\":0,\"ticks\":\"\"}}}],\"scatterternary\":[{\"type\":\"scatterternary\",\"marker\":{\"colorbar\":{\"outlinewidth\":0,\"ticks\":\"\"}}}],\"scattercarpet\":[{\"type\":\"scattercarpet\",\"marker\":{\"colorbar\":{\"outlinewidth\":0,\"ticks\":\"\"}}}],\"carpet\":[{\"aaxis\":{\"endlinecolor\":\"#2a3f5f\",\"gridcolor\":\"white\",\"linecolor\":\"white\",\"minorgridcolor\":\"white\",\"startlinecolor\":\"#2a3f5f\"},\"baxis\":{\"endlinecolor\":\"#2a3f5f\",\"gridcolor\":\"white\",\"linecolor\":\"white\",\"minorgridcolor\":\"white\",\"startlinecolor\":\"#2a3f5f\"},\"type\":\"carpet\"}],\"table\":[{\"cells\":{\"fill\":{\"color\":\"#EBF0F8\"},\"line\":{\"color\":\"white\"}},\"header\":{\"fill\":{\"color\":\"#C8D4E3\"},\"line\":{\"color\":\"white\"}},\"type\":\"table\"}],\"barpolar\":[{\"marker\":{\"line\":{\"color\":\"#E5ECF6\",\"width\":0.5},\"pattern\":{\"fillmode\":\"overlay\",\"size\":10,\"solidity\":0.2}},\"type\":\"barpolar\"}],\"pie\":[{\"automargin\":true,\"type\":\"pie\"}]},\"layout\":{\"autotypenumbers\":\"strict\",\"colorway\":[\"#636efa\",\"#EF553B\",\"#00cc96\",\"#ab63fa\",\"#FFA15A\",\"#19d3f3\",\"#FF6692\",\"#B6E880\",\"#FF97FF\",\"#FECB52\"],\"font\":{\"color\":\"#2a3f5f\"},\"hovermode\":\"closest\",\"hoverlabel\":{\"align\":\"left\"},\"paper_bgcolor\":\"white\",\"plot_bgcolor\":\"#E5ECF6\",\"polar\":{\"bgcolor\":\"#E5ECF6\",\"angularaxis\":{\"gridcolor\":\"white\",\"linecolor\":\"white\",\"ticks\":\"\"},\"radialaxis\":{\"gridcolor\":\"white\",\"linecolor\":\"white\",\"ticks\":\"\"}},\"ternary\":{\"bgcolor\":\"#E5ECF6\",\"aaxis\":{\"gridcolor\":\"white\",\"linecolor\":\"white\",\"ticks\":\"\"},\"baxis\":{\"gridcolor\":\"white\",\"linecolor\":\"white\",\"ticks\":\"\"},\"caxis\":{\"gridcolor\":\"white\",\"linecolor\":\"white\",\"ticks\":\"\"}},\"coloraxis\":{\"colorbar\":{\"outlinewidth\":0,\"ticks\":\"\"}},\"colorscale\":{\"sequential\":[[0.0,\"#0d0887\"],[0.1111111111111111,\"#46039f\"],[0.2222222222222222,\"#7201a8\"],[0.3333333333333333,\"#9c179e\"],[0.4444444444444444,\"#bd3786\"],[0.5555555555555556,\"#d8576b\"],[0.6666666666666666,\"#ed7953\"],[0.7777777777777778,\"#fb9f3a\"],[0.8888888888888888,\"#fdca26\"],[1.0,\"#f0f921\"]],\"sequentialminus\":[[0.0,\"#0d0887\"],[0.1111111111111111,\"#46039f\"],[0.2222222222222222,\"#7201a8\"],[0.3333333333333333,\"#9c179e\"],[0.4444444444444444,\"#bd3786\"],[0.5555555555555556,\"#d8576b\"],[0.6666666666666666,\"#ed7953\"],[0.7777777777777778,\"#fb9f3a\"],[0.8888888888888888,\"#fdca26\"],[1.0,\"#f0f921\"]],\"diverging\":[[0,\"#8e0152\"],[0.1,\"#c51b7d\"],[0.2,\"#de77ae\"],[0.3,\"#f1b6da\"],[0.4,\"#fde0ef\"],[0.5,\"#f7f7f7\"],[0.6,\"#e6f5d0\"],[0.7,\"#b8e186\"],[0.8,\"#7fbc41\"],[0.9,\"#4d9221\"],[1,\"#276419\"]]},\"xaxis\":{\"gridcolor\":\"white\",\"linecolor\":\"white\",\"ticks\":\"\",\"title\":{\"standoff\":15},\"zerolinecolor\":\"white\",\"automargin\":true,\"zerolinewidth\":2},\"yaxis\":{\"gridcolor\":\"white\",\"linecolor\":\"white\",\"ticks\":\"\",\"title\":{\"standoff\":15},\"zerolinecolor\":\"white\",\"automargin\":true,\"zerolinewidth\":2},\"scene\":{\"xaxis\":{\"backgroundcolor\":\"#E5ECF6\",\"gridcolor\":\"white\",\"linecolor\":\"white\",\"showbackground\":true,\"ticks\":\"\",\"zerolinecolor\":\"white\",\"gridwidth\":2},\"yaxis\":{\"backgroundcolor\":\"#E5ECF6\",\"gridcolor\":\"white\",\"linecolor\":\"white\",\"showbackground\":true,\"ticks\":\"\",\"zerolinecolor\":\"white\",\"gridwidth\":2},\"zaxis\":{\"backgroundcolor\":\"#E5ECF6\",\"gridcolor\":\"white\",\"linecolor\":\"white\",\"showbackground\":true,\"ticks\":\"\",\"zerolinecolor\":\"white\",\"gridwidth\":2}},\"shapedefaults\":{\"line\":{\"color\":\"#2a3f5f\"}},\"annotationdefaults\":{\"arrowcolor\":\"#2a3f5f\",\"arrowhead\":0,\"arrowwidth\":1},\"geo\":{\"bgcolor\":\"white\",\"landcolor\":\"#E5ECF6\",\"subunitcolor\":\"white\",\"showland\":true,\"showlakes\":true,\"lakecolor\":\"white\"},\"title\":{\"x\":0.05},\"mapbox\":{\"style\":\"light\"}}},\"xaxis\":{\"anchor\":\"y\",\"domain\":[0.0,1.0],\"title\":{}},\"yaxis\":{\"anchor\":\"x\",\"domain\":[0.0,1.0],\"title\":{\"text\":\"COVID-19 Deaths\"}},\"legend\":{\"tracegroupgap\":0},\"title\":{\"text\":\"COVID Deaths 2023 by Top 5 States - As of 9\\u002f27\\u002f23\"},\"barmode\":\"relative\"},                        {\"responsive\": true}                    ).then(function(){\n",
       "                            \n",
       "var gd = document.getElementById('e59cb8a0-a0d6-4f3c-a5fe-d16b64a42711');\n",
       "var x = new MutationObserver(function (mutations, observer) {{\n",
       "        var display = window.getComputedStyle(gd).display;\n",
       "        if (!display || display === 'none') {{\n",
       "            console.log([gd, 'removed!']);\n",
       "            Plotly.purge(gd);\n",
       "            observer.disconnect();\n",
       "        }}\n",
       "}});\n",
       "\n",
       "// Listen for the removal of the full notebook cells\n",
       "var notebookContainer = gd.closest('#notebook-container');\n",
       "if (notebookContainer) {{\n",
       "    x.observe(notebookContainer, {childList: true});\n",
       "}}\n",
       "\n",
       "// Listen for the clearing of the current output cell\n",
       "var outputEl = gd.closest('.output');\n",
       "if (outputEl) {{\n",
       "    x.observe(outputEl, {childList: true});\n",
       "}}\n",
       "\n",
       "                        })                };                });            </script>        </div>"
      ]
     },
     "metadata": {},
     "output_type": "display_data"
    }
   ],
   "source": [
    "covid_deaths_by_top_5_states = (\n",
    "    df\n",
    "    .filter(\n",
    "        pl.col('State') != 'United States',\n",
    "        pl.col('Year') == 2023,\n",
    "        pl.col('Age Group') == 'All Ages',\n",
    "        pl.col('Sex') == 'All Sexes'\n",
    "    )\n",
    "    .group_by('State')\n",
    "    .agg(pl.col('COVID-19 Deaths').sum())\n",
    "    .sort(by='COVID-19 Deaths', descending=True)\n",
    "    .head()\n",
    ")\n",
    "\n",
    "fig = px.bar(\n",
    "    covid_deaths_by_top_5_states, \n",
    "    x='State', \n",
    "    y='COVID-19 Deaths', \n",
    "    title='COVID Deaths 2023 by Top 5 States - As of 9/27/23',\n",
    ")\n",
    "\n",
    "fig.update_layout(xaxis_title=None)\n",
    "fig.show()"
   ]
  },
  {
   "cell_type": "code",
   "execution_count": 89,
   "metadata": {},
   "outputs": [
    {
     "data": {
      "application/vnd.plotly.v1+json": {
       "config": {
        "plotlyServerURL": "https://plot.ly"
       },
       "data": [
        {
         "alignmentgroup": "True",
         "hovertemplate": "Sex=%{x}<br>COVID-19 Deaths=%{y}<extra></extra>",
         "legendgroup": "",
         "marker": {
          "color": "#636efa",
          "pattern": {
           "shape": ""
          }
         },
         "name": "",
         "offsetgroup": "",
         "orientation": "v",
         "showlegend": false,
         "textangle": 0,
         "textfont": {
          "size": 12
         },
         "textposition": "inside",
         "texttemplate": "%{y:.2s}",
         "type": "bar",
         "width": 0.3,
         "x": [
          "Male",
          "Female"
         ],
         "xaxis": "x",
         "y": [
          26585,
          25099
         ],
         "yaxis": "y"
        }
       ],
       "layout": {
        "barmode": "relative",
        "legend": {
         "tracegroupgap": 0
        },
        "template": {
         "data": {
          "bar": [
           {
            "error_x": {
             "color": "#2a3f5f"
            },
            "error_y": {
             "color": "#2a3f5f"
            },
            "marker": {
             "line": {
              "color": "#E5ECF6",
              "width": 0.5
             },
             "pattern": {
              "fillmode": "overlay",
              "size": 10,
              "solidity": 0.2
             }
            },
            "type": "bar"
           }
          ],
          "barpolar": [
           {
            "marker": {
             "line": {
              "color": "#E5ECF6",
              "width": 0.5
             },
             "pattern": {
              "fillmode": "overlay",
              "size": 10,
              "solidity": 0.2
             }
            },
            "type": "barpolar"
           }
          ],
          "carpet": [
           {
            "aaxis": {
             "endlinecolor": "#2a3f5f",
             "gridcolor": "white",
             "linecolor": "white",
             "minorgridcolor": "white",
             "startlinecolor": "#2a3f5f"
            },
            "baxis": {
             "endlinecolor": "#2a3f5f",
             "gridcolor": "white",
             "linecolor": "white",
             "minorgridcolor": "white",
             "startlinecolor": "#2a3f5f"
            },
            "type": "carpet"
           }
          ],
          "choropleth": [
           {
            "colorbar": {
             "outlinewidth": 0,
             "ticks": ""
            },
            "type": "choropleth"
           }
          ],
          "contour": [
           {
            "colorbar": {
             "outlinewidth": 0,
             "ticks": ""
            },
            "colorscale": [
             [
              0,
              "#0d0887"
             ],
             [
              0.1111111111111111,
              "#46039f"
             ],
             [
              0.2222222222222222,
              "#7201a8"
             ],
             [
              0.3333333333333333,
              "#9c179e"
             ],
             [
              0.4444444444444444,
              "#bd3786"
             ],
             [
              0.5555555555555556,
              "#d8576b"
             ],
             [
              0.6666666666666666,
              "#ed7953"
             ],
             [
              0.7777777777777778,
              "#fb9f3a"
             ],
             [
              0.8888888888888888,
              "#fdca26"
             ],
             [
              1,
              "#f0f921"
             ]
            ],
            "type": "contour"
           }
          ],
          "contourcarpet": [
           {
            "colorbar": {
             "outlinewidth": 0,
             "ticks": ""
            },
            "type": "contourcarpet"
           }
          ],
          "heatmap": [
           {
            "colorbar": {
             "outlinewidth": 0,
             "ticks": ""
            },
            "colorscale": [
             [
              0,
              "#0d0887"
             ],
             [
              0.1111111111111111,
              "#46039f"
             ],
             [
              0.2222222222222222,
              "#7201a8"
             ],
             [
              0.3333333333333333,
              "#9c179e"
             ],
             [
              0.4444444444444444,
              "#bd3786"
             ],
             [
              0.5555555555555556,
              "#d8576b"
             ],
             [
              0.6666666666666666,
              "#ed7953"
             ],
             [
              0.7777777777777778,
              "#fb9f3a"
             ],
             [
              0.8888888888888888,
              "#fdca26"
             ],
             [
              1,
              "#f0f921"
             ]
            ],
            "type": "heatmap"
           }
          ],
          "heatmapgl": [
           {
            "colorbar": {
             "outlinewidth": 0,
             "ticks": ""
            },
            "colorscale": [
             [
              0,
              "#0d0887"
             ],
             [
              0.1111111111111111,
              "#46039f"
             ],
             [
              0.2222222222222222,
              "#7201a8"
             ],
             [
              0.3333333333333333,
              "#9c179e"
             ],
             [
              0.4444444444444444,
              "#bd3786"
             ],
             [
              0.5555555555555556,
              "#d8576b"
             ],
             [
              0.6666666666666666,
              "#ed7953"
             ],
             [
              0.7777777777777778,
              "#fb9f3a"
             ],
             [
              0.8888888888888888,
              "#fdca26"
             ],
             [
              1,
              "#f0f921"
             ]
            ],
            "type": "heatmapgl"
           }
          ],
          "histogram": [
           {
            "marker": {
             "pattern": {
              "fillmode": "overlay",
              "size": 10,
              "solidity": 0.2
             }
            },
            "type": "histogram"
           }
          ],
          "histogram2d": [
           {
            "colorbar": {
             "outlinewidth": 0,
             "ticks": ""
            },
            "colorscale": [
             [
              0,
              "#0d0887"
             ],
             [
              0.1111111111111111,
              "#46039f"
             ],
             [
              0.2222222222222222,
              "#7201a8"
             ],
             [
              0.3333333333333333,
              "#9c179e"
             ],
             [
              0.4444444444444444,
              "#bd3786"
             ],
             [
              0.5555555555555556,
              "#d8576b"
             ],
             [
              0.6666666666666666,
              "#ed7953"
             ],
             [
              0.7777777777777778,
              "#fb9f3a"
             ],
             [
              0.8888888888888888,
              "#fdca26"
             ],
             [
              1,
              "#f0f921"
             ]
            ],
            "type": "histogram2d"
           }
          ],
          "histogram2dcontour": [
           {
            "colorbar": {
             "outlinewidth": 0,
             "ticks": ""
            },
            "colorscale": [
             [
              0,
              "#0d0887"
             ],
             [
              0.1111111111111111,
              "#46039f"
             ],
             [
              0.2222222222222222,
              "#7201a8"
             ],
             [
              0.3333333333333333,
              "#9c179e"
             ],
             [
              0.4444444444444444,
              "#bd3786"
             ],
             [
              0.5555555555555556,
              "#d8576b"
             ],
             [
              0.6666666666666666,
              "#ed7953"
             ],
             [
              0.7777777777777778,
              "#fb9f3a"
             ],
             [
              0.8888888888888888,
              "#fdca26"
             ],
             [
              1,
              "#f0f921"
             ]
            ],
            "type": "histogram2dcontour"
           }
          ],
          "mesh3d": [
           {
            "colorbar": {
             "outlinewidth": 0,
             "ticks": ""
            },
            "type": "mesh3d"
           }
          ],
          "parcoords": [
           {
            "line": {
             "colorbar": {
              "outlinewidth": 0,
              "ticks": ""
             }
            },
            "type": "parcoords"
           }
          ],
          "pie": [
           {
            "automargin": true,
            "type": "pie"
           }
          ],
          "scatter": [
           {
            "fillpattern": {
             "fillmode": "overlay",
             "size": 10,
             "solidity": 0.2
            },
            "type": "scatter"
           }
          ],
          "scatter3d": [
           {
            "line": {
             "colorbar": {
              "outlinewidth": 0,
              "ticks": ""
             }
            },
            "marker": {
             "colorbar": {
              "outlinewidth": 0,
              "ticks": ""
             }
            },
            "type": "scatter3d"
           }
          ],
          "scattercarpet": [
           {
            "marker": {
             "colorbar": {
              "outlinewidth": 0,
              "ticks": ""
             }
            },
            "type": "scattercarpet"
           }
          ],
          "scattergeo": [
           {
            "marker": {
             "colorbar": {
              "outlinewidth": 0,
              "ticks": ""
             }
            },
            "type": "scattergeo"
           }
          ],
          "scattergl": [
           {
            "marker": {
             "colorbar": {
              "outlinewidth": 0,
              "ticks": ""
             }
            },
            "type": "scattergl"
           }
          ],
          "scattermapbox": [
           {
            "marker": {
             "colorbar": {
              "outlinewidth": 0,
              "ticks": ""
             }
            },
            "type": "scattermapbox"
           }
          ],
          "scatterpolar": [
           {
            "marker": {
             "colorbar": {
              "outlinewidth": 0,
              "ticks": ""
             }
            },
            "type": "scatterpolar"
           }
          ],
          "scatterpolargl": [
           {
            "marker": {
             "colorbar": {
              "outlinewidth": 0,
              "ticks": ""
             }
            },
            "type": "scatterpolargl"
           }
          ],
          "scatterternary": [
           {
            "marker": {
             "colorbar": {
              "outlinewidth": 0,
              "ticks": ""
             }
            },
            "type": "scatterternary"
           }
          ],
          "surface": [
           {
            "colorbar": {
             "outlinewidth": 0,
             "ticks": ""
            },
            "colorscale": [
             [
              0,
              "#0d0887"
             ],
             [
              0.1111111111111111,
              "#46039f"
             ],
             [
              0.2222222222222222,
              "#7201a8"
             ],
             [
              0.3333333333333333,
              "#9c179e"
             ],
             [
              0.4444444444444444,
              "#bd3786"
             ],
             [
              0.5555555555555556,
              "#d8576b"
             ],
             [
              0.6666666666666666,
              "#ed7953"
             ],
             [
              0.7777777777777778,
              "#fb9f3a"
             ],
             [
              0.8888888888888888,
              "#fdca26"
             ],
             [
              1,
              "#f0f921"
             ]
            ],
            "type": "surface"
           }
          ],
          "table": [
           {
            "cells": {
             "fill": {
              "color": "#EBF0F8"
             },
             "line": {
              "color": "white"
             }
            },
            "header": {
             "fill": {
              "color": "#C8D4E3"
             },
             "line": {
              "color": "white"
             }
            },
            "type": "table"
           }
          ]
         },
         "layout": {
          "annotationdefaults": {
           "arrowcolor": "#2a3f5f",
           "arrowhead": 0,
           "arrowwidth": 1
          },
          "autotypenumbers": "strict",
          "coloraxis": {
           "colorbar": {
            "outlinewidth": 0,
            "ticks": ""
           }
          },
          "colorscale": {
           "diverging": [
            [
             0,
             "#8e0152"
            ],
            [
             0.1,
             "#c51b7d"
            ],
            [
             0.2,
             "#de77ae"
            ],
            [
             0.3,
             "#f1b6da"
            ],
            [
             0.4,
             "#fde0ef"
            ],
            [
             0.5,
             "#f7f7f7"
            ],
            [
             0.6,
             "#e6f5d0"
            ],
            [
             0.7,
             "#b8e186"
            ],
            [
             0.8,
             "#7fbc41"
            ],
            [
             0.9,
             "#4d9221"
            ],
            [
             1,
             "#276419"
            ]
           ],
           "sequential": [
            [
             0,
             "#0d0887"
            ],
            [
             0.1111111111111111,
             "#46039f"
            ],
            [
             0.2222222222222222,
             "#7201a8"
            ],
            [
             0.3333333333333333,
             "#9c179e"
            ],
            [
             0.4444444444444444,
             "#bd3786"
            ],
            [
             0.5555555555555556,
             "#d8576b"
            ],
            [
             0.6666666666666666,
             "#ed7953"
            ],
            [
             0.7777777777777778,
             "#fb9f3a"
            ],
            [
             0.8888888888888888,
             "#fdca26"
            ],
            [
             1,
             "#f0f921"
            ]
           ],
           "sequentialminus": [
            [
             0,
             "#0d0887"
            ],
            [
             0.1111111111111111,
             "#46039f"
            ],
            [
             0.2222222222222222,
             "#7201a8"
            ],
            [
             0.3333333333333333,
             "#9c179e"
            ],
            [
             0.4444444444444444,
             "#bd3786"
            ],
            [
             0.5555555555555556,
             "#d8576b"
            ],
            [
             0.6666666666666666,
             "#ed7953"
            ],
            [
             0.7777777777777778,
             "#fb9f3a"
            ],
            [
             0.8888888888888888,
             "#fdca26"
            ],
            [
             1,
             "#f0f921"
            ]
           ]
          },
          "colorway": [
           "#636efa",
           "#EF553B",
           "#00cc96",
           "#ab63fa",
           "#FFA15A",
           "#19d3f3",
           "#FF6692",
           "#B6E880",
           "#FF97FF",
           "#FECB52"
          ],
          "font": {
           "color": "#2a3f5f"
          },
          "geo": {
           "bgcolor": "white",
           "lakecolor": "white",
           "landcolor": "#E5ECF6",
           "showlakes": true,
           "showland": true,
           "subunitcolor": "white"
          },
          "hoverlabel": {
           "align": "left"
          },
          "hovermode": "closest",
          "mapbox": {
           "style": "light"
          },
          "paper_bgcolor": "white",
          "plot_bgcolor": "#E5ECF6",
          "polar": {
           "angularaxis": {
            "gridcolor": "white",
            "linecolor": "white",
            "ticks": ""
           },
           "bgcolor": "#E5ECF6",
           "radialaxis": {
            "gridcolor": "white",
            "linecolor": "white",
            "ticks": ""
           }
          },
          "scene": {
           "xaxis": {
            "backgroundcolor": "#E5ECF6",
            "gridcolor": "white",
            "gridwidth": 2,
            "linecolor": "white",
            "showbackground": true,
            "ticks": "",
            "zerolinecolor": "white"
           },
           "yaxis": {
            "backgroundcolor": "#E5ECF6",
            "gridcolor": "white",
            "gridwidth": 2,
            "linecolor": "white",
            "showbackground": true,
            "ticks": "",
            "zerolinecolor": "white"
           },
           "zaxis": {
            "backgroundcolor": "#E5ECF6",
            "gridcolor": "white",
            "gridwidth": 2,
            "linecolor": "white",
            "showbackground": true,
            "ticks": "",
            "zerolinecolor": "white"
           }
          },
          "shapedefaults": {
           "line": {
            "color": "#2a3f5f"
           }
          },
          "ternary": {
           "aaxis": {
            "gridcolor": "white",
            "linecolor": "white",
            "ticks": ""
           },
           "baxis": {
            "gridcolor": "white",
            "linecolor": "white",
            "ticks": ""
           },
           "bgcolor": "#E5ECF6",
           "caxis": {
            "gridcolor": "white",
            "linecolor": "white",
            "ticks": ""
           }
          },
          "title": {
           "x": 0.05
          },
          "xaxis": {
           "automargin": true,
           "gridcolor": "white",
           "linecolor": "white",
           "ticks": "",
           "title": {
            "standoff": 15
           },
           "zerolinecolor": "white",
           "zerolinewidth": 2
          },
          "yaxis": {
           "automargin": true,
           "gridcolor": "white",
           "linecolor": "white",
           "ticks": "",
           "title": {
            "standoff": 15
           },
           "zerolinecolor": "white",
           "zerolinewidth": 2
          }
         }
        },
        "title": {
         "text": "COVID Deaths 2023 by Sex - As of 9/27/23"
        },
        "xaxis": {
         "anchor": "y",
         "domain": [
          0,
          1
         ],
         "title": {}
        },
        "yaxis": {
         "anchor": "x",
         "domain": [
          0,
          1
         ],
         "title": {
          "text": "COVID-19 Deaths"
         }
        }
       }
      },
      "text/html": [
       "<div>                            <div id=\"9b61eab5-5101-46d4-94af-f03136362171\" class=\"plotly-graph-div\" style=\"height:525px; width:100%;\"></div>            <script type=\"text/javascript\">                require([\"plotly\"], function(Plotly) {                    window.PLOTLYENV=window.PLOTLYENV || {};                                    if (document.getElementById(\"9b61eab5-5101-46d4-94af-f03136362171\")) {                    Plotly.newPlot(                        \"9b61eab5-5101-46d4-94af-f03136362171\",                        [{\"alignmentgroup\":\"True\",\"hovertemplate\":\"Sex=%{x}\\u003cbr\\u003eCOVID-19 Deaths=%{y}\\u003cextra\\u003e\\u003c\\u002fextra\\u003e\",\"legendgroup\":\"\",\"marker\":{\"color\":\"#636efa\",\"pattern\":{\"shape\":\"\"}},\"name\":\"\",\"offsetgroup\":\"\",\"orientation\":\"v\",\"showlegend\":false,\"textposition\":\"inside\",\"texttemplate\":\"%{y:.2s}\",\"x\":[\"Male\",\"Female\"],\"xaxis\":\"x\",\"y\":[26585,25099],\"yaxis\":\"y\",\"type\":\"bar\",\"textfont\":{\"size\":12},\"textangle\":0,\"width\":0.3}],                        {\"template\":{\"data\":{\"histogram2dcontour\":[{\"type\":\"histogram2dcontour\",\"colorbar\":{\"outlinewidth\":0,\"ticks\":\"\"},\"colorscale\":[[0.0,\"#0d0887\"],[0.1111111111111111,\"#46039f\"],[0.2222222222222222,\"#7201a8\"],[0.3333333333333333,\"#9c179e\"],[0.4444444444444444,\"#bd3786\"],[0.5555555555555556,\"#d8576b\"],[0.6666666666666666,\"#ed7953\"],[0.7777777777777778,\"#fb9f3a\"],[0.8888888888888888,\"#fdca26\"],[1.0,\"#f0f921\"]]}],\"choropleth\":[{\"type\":\"choropleth\",\"colorbar\":{\"outlinewidth\":0,\"ticks\":\"\"}}],\"histogram2d\":[{\"type\":\"histogram2d\",\"colorbar\":{\"outlinewidth\":0,\"ticks\":\"\"},\"colorscale\":[[0.0,\"#0d0887\"],[0.1111111111111111,\"#46039f\"],[0.2222222222222222,\"#7201a8\"],[0.3333333333333333,\"#9c179e\"],[0.4444444444444444,\"#bd3786\"],[0.5555555555555556,\"#d8576b\"],[0.6666666666666666,\"#ed7953\"],[0.7777777777777778,\"#fb9f3a\"],[0.8888888888888888,\"#fdca26\"],[1.0,\"#f0f921\"]]}],\"heatmap\":[{\"type\":\"heatmap\",\"colorbar\":{\"outlinewidth\":0,\"ticks\":\"\"},\"colorscale\":[[0.0,\"#0d0887\"],[0.1111111111111111,\"#46039f\"],[0.2222222222222222,\"#7201a8\"],[0.3333333333333333,\"#9c179e\"],[0.4444444444444444,\"#bd3786\"],[0.5555555555555556,\"#d8576b\"],[0.6666666666666666,\"#ed7953\"],[0.7777777777777778,\"#fb9f3a\"],[0.8888888888888888,\"#fdca26\"],[1.0,\"#f0f921\"]]}],\"heatmapgl\":[{\"type\":\"heatmapgl\",\"colorbar\":{\"outlinewidth\":0,\"ticks\":\"\"},\"colorscale\":[[0.0,\"#0d0887\"],[0.1111111111111111,\"#46039f\"],[0.2222222222222222,\"#7201a8\"],[0.3333333333333333,\"#9c179e\"],[0.4444444444444444,\"#bd3786\"],[0.5555555555555556,\"#d8576b\"],[0.6666666666666666,\"#ed7953\"],[0.7777777777777778,\"#fb9f3a\"],[0.8888888888888888,\"#fdca26\"],[1.0,\"#f0f921\"]]}],\"contourcarpet\":[{\"type\":\"contourcarpet\",\"colorbar\":{\"outlinewidth\":0,\"ticks\":\"\"}}],\"contour\":[{\"type\":\"contour\",\"colorbar\":{\"outlinewidth\":0,\"ticks\":\"\"},\"colorscale\":[[0.0,\"#0d0887\"],[0.1111111111111111,\"#46039f\"],[0.2222222222222222,\"#7201a8\"],[0.3333333333333333,\"#9c179e\"],[0.4444444444444444,\"#bd3786\"],[0.5555555555555556,\"#d8576b\"],[0.6666666666666666,\"#ed7953\"],[0.7777777777777778,\"#fb9f3a\"],[0.8888888888888888,\"#fdca26\"],[1.0,\"#f0f921\"]]}],\"surface\":[{\"type\":\"surface\",\"colorbar\":{\"outlinewidth\":0,\"ticks\":\"\"},\"colorscale\":[[0.0,\"#0d0887\"],[0.1111111111111111,\"#46039f\"],[0.2222222222222222,\"#7201a8\"],[0.3333333333333333,\"#9c179e\"],[0.4444444444444444,\"#bd3786\"],[0.5555555555555556,\"#d8576b\"],[0.6666666666666666,\"#ed7953\"],[0.7777777777777778,\"#fb9f3a\"],[0.8888888888888888,\"#fdca26\"],[1.0,\"#f0f921\"]]}],\"mesh3d\":[{\"type\":\"mesh3d\",\"colorbar\":{\"outlinewidth\":0,\"ticks\":\"\"}}],\"scatter\":[{\"fillpattern\":{\"fillmode\":\"overlay\",\"size\":10,\"solidity\":0.2},\"type\":\"scatter\"}],\"parcoords\":[{\"type\":\"parcoords\",\"line\":{\"colorbar\":{\"outlinewidth\":0,\"ticks\":\"\"}}}],\"scatterpolargl\":[{\"type\":\"scatterpolargl\",\"marker\":{\"colorbar\":{\"outlinewidth\":0,\"ticks\":\"\"}}}],\"bar\":[{\"error_x\":{\"color\":\"#2a3f5f\"},\"error_y\":{\"color\":\"#2a3f5f\"},\"marker\":{\"line\":{\"color\":\"#E5ECF6\",\"width\":0.5},\"pattern\":{\"fillmode\":\"overlay\",\"size\":10,\"solidity\":0.2}},\"type\":\"bar\"}],\"scattergeo\":[{\"type\":\"scattergeo\",\"marker\":{\"colorbar\":{\"outlinewidth\":0,\"ticks\":\"\"}}}],\"scatterpolar\":[{\"type\":\"scatterpolar\",\"marker\":{\"colorbar\":{\"outlinewidth\":0,\"ticks\":\"\"}}}],\"histogram\":[{\"marker\":{\"pattern\":{\"fillmode\":\"overlay\",\"size\":10,\"solidity\":0.2}},\"type\":\"histogram\"}],\"scattergl\":[{\"type\":\"scattergl\",\"marker\":{\"colorbar\":{\"outlinewidth\":0,\"ticks\":\"\"}}}],\"scatter3d\":[{\"type\":\"scatter3d\",\"line\":{\"colorbar\":{\"outlinewidth\":0,\"ticks\":\"\"}},\"marker\":{\"colorbar\":{\"outlinewidth\":0,\"ticks\":\"\"}}}],\"scattermapbox\":[{\"type\":\"scattermapbox\",\"marker\":{\"colorbar\":{\"outlinewidth\":0,\"ticks\":\"\"}}}],\"scatterternary\":[{\"type\":\"scatterternary\",\"marker\":{\"colorbar\":{\"outlinewidth\":0,\"ticks\":\"\"}}}],\"scattercarpet\":[{\"type\":\"scattercarpet\",\"marker\":{\"colorbar\":{\"outlinewidth\":0,\"ticks\":\"\"}}}],\"carpet\":[{\"aaxis\":{\"endlinecolor\":\"#2a3f5f\",\"gridcolor\":\"white\",\"linecolor\":\"white\",\"minorgridcolor\":\"white\",\"startlinecolor\":\"#2a3f5f\"},\"baxis\":{\"endlinecolor\":\"#2a3f5f\",\"gridcolor\":\"white\",\"linecolor\":\"white\",\"minorgridcolor\":\"white\",\"startlinecolor\":\"#2a3f5f\"},\"type\":\"carpet\"}],\"table\":[{\"cells\":{\"fill\":{\"color\":\"#EBF0F8\"},\"line\":{\"color\":\"white\"}},\"header\":{\"fill\":{\"color\":\"#C8D4E3\"},\"line\":{\"color\":\"white\"}},\"type\":\"table\"}],\"barpolar\":[{\"marker\":{\"line\":{\"color\":\"#E5ECF6\",\"width\":0.5},\"pattern\":{\"fillmode\":\"overlay\",\"size\":10,\"solidity\":0.2}},\"type\":\"barpolar\"}],\"pie\":[{\"automargin\":true,\"type\":\"pie\"}]},\"layout\":{\"autotypenumbers\":\"strict\",\"colorway\":[\"#636efa\",\"#EF553B\",\"#00cc96\",\"#ab63fa\",\"#FFA15A\",\"#19d3f3\",\"#FF6692\",\"#B6E880\",\"#FF97FF\",\"#FECB52\"],\"font\":{\"color\":\"#2a3f5f\"},\"hovermode\":\"closest\",\"hoverlabel\":{\"align\":\"left\"},\"paper_bgcolor\":\"white\",\"plot_bgcolor\":\"#E5ECF6\",\"polar\":{\"bgcolor\":\"#E5ECF6\",\"angularaxis\":{\"gridcolor\":\"white\",\"linecolor\":\"white\",\"ticks\":\"\"},\"radialaxis\":{\"gridcolor\":\"white\",\"linecolor\":\"white\",\"ticks\":\"\"}},\"ternary\":{\"bgcolor\":\"#E5ECF6\",\"aaxis\":{\"gridcolor\":\"white\",\"linecolor\":\"white\",\"ticks\":\"\"},\"baxis\":{\"gridcolor\":\"white\",\"linecolor\":\"white\",\"ticks\":\"\"},\"caxis\":{\"gridcolor\":\"white\",\"linecolor\":\"white\",\"ticks\":\"\"}},\"coloraxis\":{\"colorbar\":{\"outlinewidth\":0,\"ticks\":\"\"}},\"colorscale\":{\"sequential\":[[0.0,\"#0d0887\"],[0.1111111111111111,\"#46039f\"],[0.2222222222222222,\"#7201a8\"],[0.3333333333333333,\"#9c179e\"],[0.4444444444444444,\"#bd3786\"],[0.5555555555555556,\"#d8576b\"],[0.6666666666666666,\"#ed7953\"],[0.7777777777777778,\"#fb9f3a\"],[0.8888888888888888,\"#fdca26\"],[1.0,\"#f0f921\"]],\"sequentialminus\":[[0.0,\"#0d0887\"],[0.1111111111111111,\"#46039f\"],[0.2222222222222222,\"#7201a8\"],[0.3333333333333333,\"#9c179e\"],[0.4444444444444444,\"#bd3786\"],[0.5555555555555556,\"#d8576b\"],[0.6666666666666666,\"#ed7953\"],[0.7777777777777778,\"#fb9f3a\"],[0.8888888888888888,\"#fdca26\"],[1.0,\"#f0f921\"]],\"diverging\":[[0,\"#8e0152\"],[0.1,\"#c51b7d\"],[0.2,\"#de77ae\"],[0.3,\"#f1b6da\"],[0.4,\"#fde0ef\"],[0.5,\"#f7f7f7\"],[0.6,\"#e6f5d0\"],[0.7,\"#b8e186\"],[0.8,\"#7fbc41\"],[0.9,\"#4d9221\"],[1,\"#276419\"]]},\"xaxis\":{\"gridcolor\":\"white\",\"linecolor\":\"white\",\"ticks\":\"\",\"title\":{\"standoff\":15},\"zerolinecolor\":\"white\",\"automargin\":true,\"zerolinewidth\":2},\"yaxis\":{\"gridcolor\":\"white\",\"linecolor\":\"white\",\"ticks\":\"\",\"title\":{\"standoff\":15},\"zerolinecolor\":\"white\",\"automargin\":true,\"zerolinewidth\":2},\"scene\":{\"xaxis\":{\"backgroundcolor\":\"#E5ECF6\",\"gridcolor\":\"white\",\"linecolor\":\"white\",\"showbackground\":true,\"ticks\":\"\",\"zerolinecolor\":\"white\",\"gridwidth\":2},\"yaxis\":{\"backgroundcolor\":\"#E5ECF6\",\"gridcolor\":\"white\",\"linecolor\":\"white\",\"showbackground\":true,\"ticks\":\"\",\"zerolinecolor\":\"white\",\"gridwidth\":2},\"zaxis\":{\"backgroundcolor\":\"#E5ECF6\",\"gridcolor\":\"white\",\"linecolor\":\"white\",\"showbackground\":true,\"ticks\":\"\",\"zerolinecolor\":\"white\",\"gridwidth\":2}},\"shapedefaults\":{\"line\":{\"color\":\"#2a3f5f\"}},\"annotationdefaults\":{\"arrowcolor\":\"#2a3f5f\",\"arrowhead\":0,\"arrowwidth\":1},\"geo\":{\"bgcolor\":\"white\",\"landcolor\":\"#E5ECF6\",\"subunitcolor\":\"white\",\"showland\":true,\"showlakes\":true,\"lakecolor\":\"white\"},\"title\":{\"x\":0.05},\"mapbox\":{\"style\":\"light\"}}},\"xaxis\":{\"anchor\":\"y\",\"domain\":[0.0,1.0],\"title\":{}},\"yaxis\":{\"anchor\":\"x\",\"domain\":[0.0,1.0],\"title\":{\"text\":\"COVID-19 Deaths\"}},\"legend\":{\"tracegroupgap\":0},\"title\":{\"text\":\"COVID Deaths 2023 by Sex - As of 9\\u002f27\\u002f23\"},\"barmode\":\"relative\"},                        {\"responsive\": true}                    ).then(function(){\n",
       "                            \n",
       "var gd = document.getElementById('9b61eab5-5101-46d4-94af-f03136362171');\n",
       "var x = new MutationObserver(function (mutations, observer) {{\n",
       "        var display = window.getComputedStyle(gd).display;\n",
       "        if (!display || display === 'none') {{\n",
       "            console.log([gd, 'removed!']);\n",
       "            Plotly.purge(gd);\n",
       "            observer.disconnect();\n",
       "        }}\n",
       "}});\n",
       "\n",
       "// Listen for the removal of the full notebook cells\n",
       "var notebookContainer = gd.closest('#notebook-container');\n",
       "if (notebookContainer) {{\n",
       "    x.observe(notebookContainer, {childList: true});\n",
       "}}\n",
       "\n",
       "// Listen for the clearing of the current output cell\n",
       "var outputEl = gd.closest('.output');\n",
       "if (outputEl) {{\n",
       "    x.observe(outputEl, {childList: true});\n",
       "}}\n",
       "\n",
       "                        })                };                });            </script>        </div>"
      ]
     },
     "metadata": {},
     "output_type": "display_data"
    }
   ],
   "source": [
    "covid_deaths_by_sex = (\n",
    "    df\n",
    "    .filter(\n",
    "        pl.col('State') == 'United States',\n",
    "        pl.col('Year') == 2023,\n",
    "        pl.col('Age Group') == 'All Ages',\n",
    "        pl.col('Sex') != 'All Sexes'\n",
    "    )\n",
    "    .group_by('Sex')\n",
    "    .agg(pl.col('COVID-19 Deaths').sum())\n",
    "    .sort(by='COVID-19 Deaths', descending=True)\n",
    "    .head()\n",
    ")\n",
    "\n",
    "fig = px.bar(\n",
    "    covid_deaths_by_sex, \n",
    "    x='Sex', \n",
    "    y='COVID-19 Deaths', \n",
    "    title='COVID Deaths 2023 by Sex - As of 9/27/23',\n",
    "    text_auto='.2s'\n",
    ")\n",
    "\n",
    "fig.update_layout(xaxis_title=None)\n",
    "fig.update_traces(width = 0.3, textfont_size=12, textangle=0, textposition='inside')\n",
    "fig.show()"
   ]
  },
  {
   "cell_type": "code",
   "execution_count": 90,
   "metadata": {},
   "outputs": [
    {
     "data": {
      "application/vnd.plotly.v1+json": {
       "config": {
        "plotlyServerURL": "https://plot.ly"
       },
       "data": [
        {
         "hovertemplate": "<b>%{hovertext}</b><br><br>Division=East South Central<br>COVID-19 Deaths=%{x}<br>Influenza Deaths=%{y}<br>Pneumonia Deaths=%{marker.size}<extra></extra>",
         "hovertext": [
          "Mississippi",
          "Kentucky",
          "Alabama",
          "Tennessee"
         ],
         "legendgroup": "East South Central",
         "marker": {
          "color": "#636efa",
          "size": [
           1459,
           2729,
           1970,
           3690
          ],
          "sizemode": "area",
          "sizeref": 35.76,
          "symbol": "circle"
         },
         "mode": "markers",
         "name": "East South Central",
         "orientation": "v",
         "showlegend": true,
         "type": "scatter",
         "x": [
          434,
          1038,
          640,
          1389
         ],
         "xaxis": "x",
         "y": [
          0,
          11,
          0,
          11
         ],
         "yaxis": "y"
        },
        {
         "hovertemplate": "<b>%{hovertext}</b><br><br>Division=New England<br>COVID-19 Deaths=%{x}<br>Influenza Deaths=%{y}<br>Pneumonia Deaths=%{marker.size}<extra></extra>",
         "hovertext": [
          "Maine",
          "Rhode Island",
          "Vermont",
          "New Hampshire",
          "Massachusetts",
          "Connecticut"
         ],
         "legendgroup": "New England",
         "marker": {
          "color": "#EF553B",
          "size": [
           528,
           64,
           43,
           248,
           2555,
           1469
          ],
          "sizemode": "area",
          "sizeref": 35.76,
          "symbol": "circle"
         },
         "mode": "markers",
         "name": "New England",
         "orientation": "v",
         "showlegend": true,
         "type": "scatter",
         "x": [
          81,
          33,
          0,
          79,
          1005,
          389
         ],
         "xaxis": "x",
         "y": [
          0,
          0,
          0,
          0,
          45,
          0
         ],
         "yaxis": "y"
        },
        {
         "hovertemplate": "<b>%{hovertext}</b><br><br>Division=South Atlantic<br>COVID-19 Deaths=%{x}<br>Influenza Deaths=%{y}<br>Pneumonia Deaths=%{marker.size}<extra></extra>",
         "hovertext": [
          "Delaware",
          "West Virginia",
          "Virginia",
          "Florida",
          "Georgia",
          "South Carolina",
          "North Carolina",
          "Maryland"
         ],
         "legendgroup": "South Atlantic",
         "marker": {
          "color": "#00cc96",
          "size": [
           84,
           1354,
           2428,
           11032,
           3116,
           2106,
           4691,
           2193
          ],
          "sizemode": "area",
          "sizeref": 35.76,
          "symbol": "circle"
         },
         "mode": "markers",
         "name": "South Atlantic",
         "orientation": "v",
         "showlegend": true,
         "type": "scatter",
         "x": [
          66,
          299,
          1111,
          4164,
          1297,
          882,
          1837,
          795
         ],
         "xaxis": "x",
         "y": [
          0,
          0,
          0,
          116,
          0,
          0,
          22,
          0
         ],
         "yaxis": "y"
        },
        {
         "hovertemplate": "<b>%{hovertext}</b><br><br>Division=East North Central<br>COVID-19 Deaths=%{x}<br>Influenza Deaths=%{y}<br>Pneumonia Deaths=%{marker.size}<extra></extra>",
         "hovertext": [
          "Indiana",
          "Ohio",
          "Illinois",
          "Michigan",
          "Wisconsin"
         ],
         "legendgroup": "East North Central",
         "marker": {
          "color": "#ab63fa",
          "size": [
           2909,
           4275,
           3978,
           3806,
           1730
          ],
          "sizemode": "area",
          "sizeref": 35.76,
          "symbol": "circle"
         },
         "mode": "markers",
         "name": "East North Central",
         "orientation": "v",
         "showlegend": true,
         "type": "scatter",
         "x": [
          820,
          1979,
          1316,
          1535,
          591
         ],
         "xaxis": "x",
         "y": [
          26,
          78,
          38,
          105,
          24
         ],
         "yaxis": "y"
        },
        {
         "hovertemplate": "<b>%{hovertext}</b><br><br>Division=West South Central<br>COVID-19 Deaths=%{x}<br>Influenza Deaths=%{y}<br>Pneumonia Deaths=%{marker.size}<extra></extra>",
         "hovertext": [
          "Arkansas",
          "Louisiana",
          "Texas",
          "Oklahoma"
         ],
         "legendgroup": "West South Central",
         "marker": {
          "color": "#FFA15A",
          "size": [
           1497,
           1141,
           9831,
           2064
          ],
          "sizemode": "area",
          "sizeref": 35.76,
          "symbol": "circle"
         },
         "mode": "markers",
         "name": "West South Central",
         "orientation": "v",
         "showlegend": true,
         "type": "scatter",
         "x": [
          249,
          413,
          3337,
          646
         ],
         "xaxis": "x",
         "y": [
          0,
          0,
          80,
          10
         ],
         "yaxis": "y"
        },
        {
         "hovertemplate": "<b>%{hovertext}</b><br><br>Division=Mountain<br>COVID-19 Deaths=%{x}<br>Influenza Deaths=%{y}<br>Pneumonia Deaths=%{marker.size}<extra></extra>",
         "hovertext": [
          "Idaho",
          "Arizona",
          "Wyoming",
          "Utah",
          "Nevada",
          "New Mexico",
          "Montana",
          "Colorado"
         ],
         "legendgroup": "Mountain",
         "marker": {
          "color": "#19d3f3",
          "size": [
           231,
           2606,
           20,
           393,
           1302,
           703,
           114,
           1498
          ],
          "sizemode": "area",
          "sizeref": 35.76,
          "symbol": "circle"
         },
         "mode": "markers",
         "name": "Mountain",
         "orientation": "v",
         "showlegend": true,
         "type": "scatter",
         "x": [
          32,
          841,
          0,
          22,
          125,
          106,
          0,
          473
         ],
         "xaxis": "x",
         "y": [
          0,
          0,
          0,
          0,
          0,
          0,
          0,
          0
         ],
         "yaxis": "y"
        },
        {
         "hovertemplate": "<b>%{hovertext}</b><br><br>Division=Pacific<br>COVID-19 Deaths=%{x}<br>Influenza Deaths=%{y}<br>Pneumonia Deaths=%{marker.size}<extra></extra>",
         "hovertext": [
          "Oregon",
          "Hawaii",
          "California",
          "Alaska",
          "Washington"
         ],
         "legendgroup": "Pacific",
         "marker": {
          "color": "#FF6692",
          "size": [
           1240,
           415,
           14304,
           0,
           2470
          ],
          "sizemode": "area",
          "sizeref": 35.76,
          "symbol": "circle"
         },
         "mode": "markers",
         "name": "Pacific",
         "orientation": "v",
         "showlegend": true,
         "type": "scatter",
         "x": [
          415,
          20,
          4768,
          0,
          933
         ],
         "xaxis": "x",
         "y": [
          20,
          0,
          118,
          0,
          54
         ],
         "yaxis": "y"
        },
        {
         "hovertemplate": "<b>%{hovertext}</b><br><br>Division=West North Central<br>COVID-19 Deaths=%{x}<br>Influenza Deaths=%{y}<br>Pneumonia Deaths=%{marker.size}<extra></extra>",
         "hovertext": [
          "Iowa",
          "South Dakota",
          "Missouri",
          "Minnesota",
          "Nebraska",
          "North Dakota",
          "Kansas"
         ],
         "legendgroup": "West North Central",
         "marker": {
          "color": "#B6E880",
          "size": [
           1004,
           123,
           2599,
           1904,
           588,
           62,
           957
          ],
          "sizemode": "area",
          "sizeref": 35.76,
          "symbol": "circle"
         },
         "mode": "markers",
         "name": "West North Central",
         "orientation": "v",
         "showlegend": true,
         "type": "scatter",
         "x": [
          304,
          0,
          672,
          724,
          165,
          0,
          242
         ],
         "xaxis": "x",
         "y": [
          21,
          0,
          10,
          0,
          0,
          0,
          0
         ],
         "yaxis": "y"
        },
        {
         "hovertemplate": "<b>%{hovertext}</b><br><br>Division=Mid-Atlantic<br>COVID-19 Deaths=%{x}<br>Influenza Deaths=%{y}<br>Pneumonia Deaths=%{marker.size}<extra></extra>",
         "hovertext": [
          "Pennsylvania",
          "New Jersey",
          "New York"
         ],
         "legendgroup": "Mid-Atlantic",
         "marker": {
          "color": "#FF97FF",
          "size": [
           5011,
           2705,
           5581
          ],
          "sizemode": "area",
          "sizeref": 35.76,
          "symbol": "circle"
         },
         "mode": "markers",
         "name": "Mid-Atlantic",
         "orientation": "v",
         "showlegend": true,
         "type": "scatter",
         "x": [
          2312,
          1184,
          2026
         ],
         "xaxis": "x",
         "y": [
          122,
          20,
          85
         ],
         "yaxis": "y"
        },
        {
         "hovertemplate": "<b>%{hovertext}</b><br><br>Division=Others<br>COVID-19 Deaths=%{x}<br>Influenza Deaths=%{y}<br>Pneumonia Deaths=%{marker.size}<extra></extra>",
         "hovertext": [
          "New York City",
          "Puerto Rico",
          "District of Columbia"
         ],
         "legendgroup": "Others",
         "marker": {
          "color": "#FECB52",
          "size": [
           2756,
           3257,
           21
          ],
          "sizemode": "area",
          "sizeref": 35.76,
          "symbol": "circle"
         },
         "mode": "markers",
         "name": "Others",
         "orientation": "v",
         "showlegend": true,
         "type": "scatter",
         "x": [
          735,
          550,
          0
         ],
         "xaxis": "x",
         "y": [
          10,
          0,
          0
         ],
         "yaxis": "y"
        }
       ],
       "layout": {
        "legend": {
         "itemsizing": "constant",
         "title": {
          "text": "Division"
         },
         "tracegroupgap": 0
        },
        "template": {
         "data": {
          "bar": [
           {
            "error_x": {
             "color": "#2a3f5f"
            },
            "error_y": {
             "color": "#2a3f5f"
            },
            "marker": {
             "line": {
              "color": "#E5ECF6",
              "width": 0.5
             },
             "pattern": {
              "fillmode": "overlay",
              "size": 10,
              "solidity": 0.2
             }
            },
            "type": "bar"
           }
          ],
          "barpolar": [
           {
            "marker": {
             "line": {
              "color": "#E5ECF6",
              "width": 0.5
             },
             "pattern": {
              "fillmode": "overlay",
              "size": 10,
              "solidity": 0.2
             }
            },
            "type": "barpolar"
           }
          ],
          "carpet": [
           {
            "aaxis": {
             "endlinecolor": "#2a3f5f",
             "gridcolor": "white",
             "linecolor": "white",
             "minorgridcolor": "white",
             "startlinecolor": "#2a3f5f"
            },
            "baxis": {
             "endlinecolor": "#2a3f5f",
             "gridcolor": "white",
             "linecolor": "white",
             "minorgridcolor": "white",
             "startlinecolor": "#2a3f5f"
            },
            "type": "carpet"
           }
          ],
          "choropleth": [
           {
            "colorbar": {
             "outlinewidth": 0,
             "ticks": ""
            },
            "type": "choropleth"
           }
          ],
          "contour": [
           {
            "colorbar": {
             "outlinewidth": 0,
             "ticks": ""
            },
            "colorscale": [
             [
              0,
              "#0d0887"
             ],
             [
              0.1111111111111111,
              "#46039f"
             ],
             [
              0.2222222222222222,
              "#7201a8"
             ],
             [
              0.3333333333333333,
              "#9c179e"
             ],
             [
              0.4444444444444444,
              "#bd3786"
             ],
             [
              0.5555555555555556,
              "#d8576b"
             ],
             [
              0.6666666666666666,
              "#ed7953"
             ],
             [
              0.7777777777777778,
              "#fb9f3a"
             ],
             [
              0.8888888888888888,
              "#fdca26"
             ],
             [
              1,
              "#f0f921"
             ]
            ],
            "type": "contour"
           }
          ],
          "contourcarpet": [
           {
            "colorbar": {
             "outlinewidth": 0,
             "ticks": ""
            },
            "type": "contourcarpet"
           }
          ],
          "heatmap": [
           {
            "colorbar": {
             "outlinewidth": 0,
             "ticks": ""
            },
            "colorscale": [
             [
              0,
              "#0d0887"
             ],
             [
              0.1111111111111111,
              "#46039f"
             ],
             [
              0.2222222222222222,
              "#7201a8"
             ],
             [
              0.3333333333333333,
              "#9c179e"
             ],
             [
              0.4444444444444444,
              "#bd3786"
             ],
             [
              0.5555555555555556,
              "#d8576b"
             ],
             [
              0.6666666666666666,
              "#ed7953"
             ],
             [
              0.7777777777777778,
              "#fb9f3a"
             ],
             [
              0.8888888888888888,
              "#fdca26"
             ],
             [
              1,
              "#f0f921"
             ]
            ],
            "type": "heatmap"
           }
          ],
          "heatmapgl": [
           {
            "colorbar": {
             "outlinewidth": 0,
             "ticks": ""
            },
            "colorscale": [
             [
              0,
              "#0d0887"
             ],
             [
              0.1111111111111111,
              "#46039f"
             ],
             [
              0.2222222222222222,
              "#7201a8"
             ],
             [
              0.3333333333333333,
              "#9c179e"
             ],
             [
              0.4444444444444444,
              "#bd3786"
             ],
             [
              0.5555555555555556,
              "#d8576b"
             ],
             [
              0.6666666666666666,
              "#ed7953"
             ],
             [
              0.7777777777777778,
              "#fb9f3a"
             ],
             [
              0.8888888888888888,
              "#fdca26"
             ],
             [
              1,
              "#f0f921"
             ]
            ],
            "type": "heatmapgl"
           }
          ],
          "histogram": [
           {
            "marker": {
             "pattern": {
              "fillmode": "overlay",
              "size": 10,
              "solidity": 0.2
             }
            },
            "type": "histogram"
           }
          ],
          "histogram2d": [
           {
            "colorbar": {
             "outlinewidth": 0,
             "ticks": ""
            },
            "colorscale": [
             [
              0,
              "#0d0887"
             ],
             [
              0.1111111111111111,
              "#46039f"
             ],
             [
              0.2222222222222222,
              "#7201a8"
             ],
             [
              0.3333333333333333,
              "#9c179e"
             ],
             [
              0.4444444444444444,
              "#bd3786"
             ],
             [
              0.5555555555555556,
              "#d8576b"
             ],
             [
              0.6666666666666666,
              "#ed7953"
             ],
             [
              0.7777777777777778,
              "#fb9f3a"
             ],
             [
              0.8888888888888888,
              "#fdca26"
             ],
             [
              1,
              "#f0f921"
             ]
            ],
            "type": "histogram2d"
           }
          ],
          "histogram2dcontour": [
           {
            "colorbar": {
             "outlinewidth": 0,
             "ticks": ""
            },
            "colorscale": [
             [
              0,
              "#0d0887"
             ],
             [
              0.1111111111111111,
              "#46039f"
             ],
             [
              0.2222222222222222,
              "#7201a8"
             ],
             [
              0.3333333333333333,
              "#9c179e"
             ],
             [
              0.4444444444444444,
              "#bd3786"
             ],
             [
              0.5555555555555556,
              "#d8576b"
             ],
             [
              0.6666666666666666,
              "#ed7953"
             ],
             [
              0.7777777777777778,
              "#fb9f3a"
             ],
             [
              0.8888888888888888,
              "#fdca26"
             ],
             [
              1,
              "#f0f921"
             ]
            ],
            "type": "histogram2dcontour"
           }
          ],
          "mesh3d": [
           {
            "colorbar": {
             "outlinewidth": 0,
             "ticks": ""
            },
            "type": "mesh3d"
           }
          ],
          "parcoords": [
           {
            "line": {
             "colorbar": {
              "outlinewidth": 0,
              "ticks": ""
             }
            },
            "type": "parcoords"
           }
          ],
          "pie": [
           {
            "automargin": true,
            "type": "pie"
           }
          ],
          "scatter": [
           {
            "fillpattern": {
             "fillmode": "overlay",
             "size": 10,
             "solidity": 0.2
            },
            "type": "scatter"
           }
          ],
          "scatter3d": [
           {
            "line": {
             "colorbar": {
              "outlinewidth": 0,
              "ticks": ""
             }
            },
            "marker": {
             "colorbar": {
              "outlinewidth": 0,
              "ticks": ""
             }
            },
            "type": "scatter3d"
           }
          ],
          "scattercarpet": [
           {
            "marker": {
             "colorbar": {
              "outlinewidth": 0,
              "ticks": ""
             }
            },
            "type": "scattercarpet"
           }
          ],
          "scattergeo": [
           {
            "marker": {
             "colorbar": {
              "outlinewidth": 0,
              "ticks": ""
             }
            },
            "type": "scattergeo"
           }
          ],
          "scattergl": [
           {
            "marker": {
             "colorbar": {
              "outlinewidth": 0,
              "ticks": ""
             }
            },
            "type": "scattergl"
           }
          ],
          "scattermapbox": [
           {
            "marker": {
             "colorbar": {
              "outlinewidth": 0,
              "ticks": ""
             }
            },
            "type": "scattermapbox"
           }
          ],
          "scatterpolar": [
           {
            "marker": {
             "colorbar": {
              "outlinewidth": 0,
              "ticks": ""
             }
            },
            "type": "scatterpolar"
           }
          ],
          "scatterpolargl": [
           {
            "marker": {
             "colorbar": {
              "outlinewidth": 0,
              "ticks": ""
             }
            },
            "type": "scatterpolargl"
           }
          ],
          "scatterternary": [
           {
            "marker": {
             "colorbar": {
              "outlinewidth": 0,
              "ticks": ""
             }
            },
            "type": "scatterternary"
           }
          ],
          "surface": [
           {
            "colorbar": {
             "outlinewidth": 0,
             "ticks": ""
            },
            "colorscale": [
             [
              0,
              "#0d0887"
             ],
             [
              0.1111111111111111,
              "#46039f"
             ],
             [
              0.2222222222222222,
              "#7201a8"
             ],
             [
              0.3333333333333333,
              "#9c179e"
             ],
             [
              0.4444444444444444,
              "#bd3786"
             ],
             [
              0.5555555555555556,
              "#d8576b"
             ],
             [
              0.6666666666666666,
              "#ed7953"
             ],
             [
              0.7777777777777778,
              "#fb9f3a"
             ],
             [
              0.8888888888888888,
              "#fdca26"
             ],
             [
              1,
              "#f0f921"
             ]
            ],
            "type": "surface"
           }
          ],
          "table": [
           {
            "cells": {
             "fill": {
              "color": "#EBF0F8"
             },
             "line": {
              "color": "white"
             }
            },
            "header": {
             "fill": {
              "color": "#C8D4E3"
             },
             "line": {
              "color": "white"
             }
            },
            "type": "table"
           }
          ]
         },
         "layout": {
          "annotationdefaults": {
           "arrowcolor": "#2a3f5f",
           "arrowhead": 0,
           "arrowwidth": 1
          },
          "autotypenumbers": "strict",
          "coloraxis": {
           "colorbar": {
            "outlinewidth": 0,
            "ticks": ""
           }
          },
          "colorscale": {
           "diverging": [
            [
             0,
             "#8e0152"
            ],
            [
             0.1,
             "#c51b7d"
            ],
            [
             0.2,
             "#de77ae"
            ],
            [
             0.3,
             "#f1b6da"
            ],
            [
             0.4,
             "#fde0ef"
            ],
            [
             0.5,
             "#f7f7f7"
            ],
            [
             0.6,
             "#e6f5d0"
            ],
            [
             0.7,
             "#b8e186"
            ],
            [
             0.8,
             "#7fbc41"
            ],
            [
             0.9,
             "#4d9221"
            ],
            [
             1,
             "#276419"
            ]
           ],
           "sequential": [
            [
             0,
             "#0d0887"
            ],
            [
             0.1111111111111111,
             "#46039f"
            ],
            [
             0.2222222222222222,
             "#7201a8"
            ],
            [
             0.3333333333333333,
             "#9c179e"
            ],
            [
             0.4444444444444444,
             "#bd3786"
            ],
            [
             0.5555555555555556,
             "#d8576b"
            ],
            [
             0.6666666666666666,
             "#ed7953"
            ],
            [
             0.7777777777777778,
             "#fb9f3a"
            ],
            [
             0.8888888888888888,
             "#fdca26"
            ],
            [
             1,
             "#f0f921"
            ]
           ],
           "sequentialminus": [
            [
             0,
             "#0d0887"
            ],
            [
             0.1111111111111111,
             "#46039f"
            ],
            [
             0.2222222222222222,
             "#7201a8"
            ],
            [
             0.3333333333333333,
             "#9c179e"
            ],
            [
             0.4444444444444444,
             "#bd3786"
            ],
            [
             0.5555555555555556,
             "#d8576b"
            ],
            [
             0.6666666666666666,
             "#ed7953"
            ],
            [
             0.7777777777777778,
             "#fb9f3a"
            ],
            [
             0.8888888888888888,
             "#fdca26"
            ],
            [
             1,
             "#f0f921"
            ]
           ]
          },
          "colorway": [
           "#636efa",
           "#EF553B",
           "#00cc96",
           "#ab63fa",
           "#FFA15A",
           "#19d3f3",
           "#FF6692",
           "#B6E880",
           "#FF97FF",
           "#FECB52"
          ],
          "font": {
           "color": "#2a3f5f"
          },
          "geo": {
           "bgcolor": "white",
           "lakecolor": "white",
           "landcolor": "#E5ECF6",
           "showlakes": true,
           "showland": true,
           "subunitcolor": "white"
          },
          "hoverlabel": {
           "align": "left"
          },
          "hovermode": "closest",
          "mapbox": {
           "style": "light"
          },
          "paper_bgcolor": "white",
          "plot_bgcolor": "#E5ECF6",
          "polar": {
           "angularaxis": {
            "gridcolor": "white",
            "linecolor": "white",
            "ticks": ""
           },
           "bgcolor": "#E5ECF6",
           "radialaxis": {
            "gridcolor": "white",
            "linecolor": "white",
            "ticks": ""
           }
          },
          "scene": {
           "xaxis": {
            "backgroundcolor": "#E5ECF6",
            "gridcolor": "white",
            "gridwidth": 2,
            "linecolor": "white",
            "showbackground": true,
            "ticks": "",
            "zerolinecolor": "white"
           },
           "yaxis": {
            "backgroundcolor": "#E5ECF6",
            "gridcolor": "white",
            "gridwidth": 2,
            "linecolor": "white",
            "showbackground": true,
            "ticks": "",
            "zerolinecolor": "white"
           },
           "zaxis": {
            "backgroundcolor": "#E5ECF6",
            "gridcolor": "white",
            "gridwidth": 2,
            "linecolor": "white",
            "showbackground": true,
            "ticks": "",
            "zerolinecolor": "white"
           }
          },
          "shapedefaults": {
           "line": {
            "color": "#2a3f5f"
           }
          },
          "ternary": {
           "aaxis": {
            "gridcolor": "white",
            "linecolor": "white",
            "ticks": ""
           },
           "baxis": {
            "gridcolor": "white",
            "linecolor": "white",
            "ticks": ""
           },
           "bgcolor": "#E5ECF6",
           "caxis": {
            "gridcolor": "white",
            "linecolor": "white",
            "ticks": ""
           }
          },
          "title": {
           "x": 0.05
          },
          "xaxis": {
           "automargin": true,
           "gridcolor": "white",
           "linecolor": "white",
           "ticks": "",
           "title": {
            "standoff": 15
           },
           "zerolinecolor": "white",
           "zerolinewidth": 2
          },
          "yaxis": {
           "automargin": true,
           "gridcolor": "white",
           "linecolor": "white",
           "ticks": "",
           "title": {
            "standoff": 15
           },
           "zerolinecolor": "white",
           "zerolinewidth": 2
          }
         }
        },
        "title": {
         "text": "COVID-19, Influenza, and Pneumonia Deaths 2023 by US States and Divisions"
        },
        "xaxis": {
         "anchor": "y",
         "domain": [
          0,
          1
         ],
         "title": {
          "text": "COVID-19 Deaths"
         }
        },
        "yaxis": {
         "anchor": "x",
         "domain": [
          0,
          1
         ],
         "title": {
          "text": "Influenza Deaths"
         }
        }
       }
      },
      "text/html": [
       "<div>                            <div id=\"ceb08d72-66f9-4c70-814f-b6fb07075dc8\" class=\"plotly-graph-div\" style=\"height:525px; width:100%;\"></div>            <script type=\"text/javascript\">                require([\"plotly\"], function(Plotly) {                    window.PLOTLYENV=window.PLOTLYENV || {};                                    if (document.getElementById(\"ceb08d72-66f9-4c70-814f-b6fb07075dc8\")) {                    Plotly.newPlot(                        \"ceb08d72-66f9-4c70-814f-b6fb07075dc8\",                        [{\"hovertemplate\":\"\\u003cb\\u003e%{hovertext}\\u003c\\u002fb\\u003e\\u003cbr\\u003e\\u003cbr\\u003eDivision=East South Central\\u003cbr\\u003eCOVID-19 Deaths=%{x}\\u003cbr\\u003eInfluenza Deaths=%{y}\\u003cbr\\u003ePneumonia Deaths=%{marker.size}\\u003cextra\\u003e\\u003c\\u002fextra\\u003e\",\"hovertext\":[\"Mississippi\",\"Kentucky\",\"Alabama\",\"Tennessee\"],\"legendgroup\":\"East South Central\",\"marker\":{\"color\":\"#636efa\",\"size\":[1459,2729,1970,3690],\"sizemode\":\"area\",\"sizeref\":35.76,\"symbol\":\"circle\"},\"mode\":\"markers\",\"name\":\"East South Central\",\"orientation\":\"v\",\"showlegend\":true,\"x\":[434,1038,640,1389],\"xaxis\":\"x\",\"y\":[0,11,0,11],\"yaxis\":\"y\",\"type\":\"scatter\"},{\"hovertemplate\":\"\\u003cb\\u003e%{hovertext}\\u003c\\u002fb\\u003e\\u003cbr\\u003e\\u003cbr\\u003eDivision=New England\\u003cbr\\u003eCOVID-19 Deaths=%{x}\\u003cbr\\u003eInfluenza Deaths=%{y}\\u003cbr\\u003ePneumonia Deaths=%{marker.size}\\u003cextra\\u003e\\u003c\\u002fextra\\u003e\",\"hovertext\":[\"Maine\",\"Rhode Island\",\"Vermont\",\"New Hampshire\",\"Massachusetts\",\"Connecticut\"],\"legendgroup\":\"New England\",\"marker\":{\"color\":\"#EF553B\",\"size\":[528,64,43,248,2555,1469],\"sizemode\":\"area\",\"sizeref\":35.76,\"symbol\":\"circle\"},\"mode\":\"markers\",\"name\":\"New England\",\"orientation\":\"v\",\"showlegend\":true,\"x\":[81,33,0,79,1005,389],\"xaxis\":\"x\",\"y\":[0,0,0,0,45,0],\"yaxis\":\"y\",\"type\":\"scatter\"},{\"hovertemplate\":\"\\u003cb\\u003e%{hovertext}\\u003c\\u002fb\\u003e\\u003cbr\\u003e\\u003cbr\\u003eDivision=South Atlantic\\u003cbr\\u003eCOVID-19 Deaths=%{x}\\u003cbr\\u003eInfluenza Deaths=%{y}\\u003cbr\\u003ePneumonia Deaths=%{marker.size}\\u003cextra\\u003e\\u003c\\u002fextra\\u003e\",\"hovertext\":[\"Delaware\",\"West Virginia\",\"Virginia\",\"Florida\",\"Georgia\",\"South Carolina\",\"North Carolina\",\"Maryland\"],\"legendgroup\":\"South Atlantic\",\"marker\":{\"color\":\"#00cc96\",\"size\":[84,1354,2428,11032,3116,2106,4691,2193],\"sizemode\":\"area\",\"sizeref\":35.76,\"symbol\":\"circle\"},\"mode\":\"markers\",\"name\":\"South Atlantic\",\"orientation\":\"v\",\"showlegend\":true,\"x\":[66,299,1111,4164,1297,882,1837,795],\"xaxis\":\"x\",\"y\":[0,0,0,116,0,0,22,0],\"yaxis\":\"y\",\"type\":\"scatter\"},{\"hovertemplate\":\"\\u003cb\\u003e%{hovertext}\\u003c\\u002fb\\u003e\\u003cbr\\u003e\\u003cbr\\u003eDivision=East North Central\\u003cbr\\u003eCOVID-19 Deaths=%{x}\\u003cbr\\u003eInfluenza Deaths=%{y}\\u003cbr\\u003ePneumonia Deaths=%{marker.size}\\u003cextra\\u003e\\u003c\\u002fextra\\u003e\",\"hovertext\":[\"Indiana\",\"Ohio\",\"Illinois\",\"Michigan\",\"Wisconsin\"],\"legendgroup\":\"East North Central\",\"marker\":{\"color\":\"#ab63fa\",\"size\":[2909,4275,3978,3806,1730],\"sizemode\":\"area\",\"sizeref\":35.76,\"symbol\":\"circle\"},\"mode\":\"markers\",\"name\":\"East North Central\",\"orientation\":\"v\",\"showlegend\":true,\"x\":[820,1979,1316,1535,591],\"xaxis\":\"x\",\"y\":[26,78,38,105,24],\"yaxis\":\"y\",\"type\":\"scatter\"},{\"hovertemplate\":\"\\u003cb\\u003e%{hovertext}\\u003c\\u002fb\\u003e\\u003cbr\\u003e\\u003cbr\\u003eDivision=West South Central\\u003cbr\\u003eCOVID-19 Deaths=%{x}\\u003cbr\\u003eInfluenza Deaths=%{y}\\u003cbr\\u003ePneumonia Deaths=%{marker.size}\\u003cextra\\u003e\\u003c\\u002fextra\\u003e\",\"hovertext\":[\"Arkansas\",\"Louisiana\",\"Texas\",\"Oklahoma\"],\"legendgroup\":\"West South Central\",\"marker\":{\"color\":\"#FFA15A\",\"size\":[1497,1141,9831,2064],\"sizemode\":\"area\",\"sizeref\":35.76,\"symbol\":\"circle\"},\"mode\":\"markers\",\"name\":\"West South Central\",\"orientation\":\"v\",\"showlegend\":true,\"x\":[249,413,3337,646],\"xaxis\":\"x\",\"y\":[0,0,80,10],\"yaxis\":\"y\",\"type\":\"scatter\"},{\"hovertemplate\":\"\\u003cb\\u003e%{hovertext}\\u003c\\u002fb\\u003e\\u003cbr\\u003e\\u003cbr\\u003eDivision=Mountain\\u003cbr\\u003eCOVID-19 Deaths=%{x}\\u003cbr\\u003eInfluenza Deaths=%{y}\\u003cbr\\u003ePneumonia Deaths=%{marker.size}\\u003cextra\\u003e\\u003c\\u002fextra\\u003e\",\"hovertext\":[\"Idaho\",\"Arizona\",\"Wyoming\",\"Utah\",\"Nevada\",\"New Mexico\",\"Montana\",\"Colorado\"],\"legendgroup\":\"Mountain\",\"marker\":{\"color\":\"#19d3f3\",\"size\":[231,2606,20,393,1302,703,114,1498],\"sizemode\":\"area\",\"sizeref\":35.76,\"symbol\":\"circle\"},\"mode\":\"markers\",\"name\":\"Mountain\",\"orientation\":\"v\",\"showlegend\":true,\"x\":[32,841,0,22,125,106,0,473],\"xaxis\":\"x\",\"y\":[0,0,0,0,0,0,0,0],\"yaxis\":\"y\",\"type\":\"scatter\"},{\"hovertemplate\":\"\\u003cb\\u003e%{hovertext}\\u003c\\u002fb\\u003e\\u003cbr\\u003e\\u003cbr\\u003eDivision=Pacific\\u003cbr\\u003eCOVID-19 Deaths=%{x}\\u003cbr\\u003eInfluenza Deaths=%{y}\\u003cbr\\u003ePneumonia Deaths=%{marker.size}\\u003cextra\\u003e\\u003c\\u002fextra\\u003e\",\"hovertext\":[\"Oregon\",\"Hawaii\",\"California\",\"Alaska\",\"Washington\"],\"legendgroup\":\"Pacific\",\"marker\":{\"color\":\"#FF6692\",\"size\":[1240,415,14304,0,2470],\"sizemode\":\"area\",\"sizeref\":35.76,\"symbol\":\"circle\"},\"mode\":\"markers\",\"name\":\"Pacific\",\"orientation\":\"v\",\"showlegend\":true,\"x\":[415,20,4768,0,933],\"xaxis\":\"x\",\"y\":[20,0,118,0,54],\"yaxis\":\"y\",\"type\":\"scatter\"},{\"hovertemplate\":\"\\u003cb\\u003e%{hovertext}\\u003c\\u002fb\\u003e\\u003cbr\\u003e\\u003cbr\\u003eDivision=West North Central\\u003cbr\\u003eCOVID-19 Deaths=%{x}\\u003cbr\\u003eInfluenza Deaths=%{y}\\u003cbr\\u003ePneumonia Deaths=%{marker.size}\\u003cextra\\u003e\\u003c\\u002fextra\\u003e\",\"hovertext\":[\"Iowa\",\"South Dakota\",\"Missouri\",\"Minnesota\",\"Nebraska\",\"North Dakota\",\"Kansas\"],\"legendgroup\":\"West North Central\",\"marker\":{\"color\":\"#B6E880\",\"size\":[1004,123,2599,1904,588,62,957],\"sizemode\":\"area\",\"sizeref\":35.76,\"symbol\":\"circle\"},\"mode\":\"markers\",\"name\":\"West North Central\",\"orientation\":\"v\",\"showlegend\":true,\"x\":[304,0,672,724,165,0,242],\"xaxis\":\"x\",\"y\":[21,0,10,0,0,0,0],\"yaxis\":\"y\",\"type\":\"scatter\"},{\"hovertemplate\":\"\\u003cb\\u003e%{hovertext}\\u003c\\u002fb\\u003e\\u003cbr\\u003e\\u003cbr\\u003eDivision=Mid-Atlantic\\u003cbr\\u003eCOVID-19 Deaths=%{x}\\u003cbr\\u003eInfluenza Deaths=%{y}\\u003cbr\\u003ePneumonia Deaths=%{marker.size}\\u003cextra\\u003e\\u003c\\u002fextra\\u003e\",\"hovertext\":[\"Pennsylvania\",\"New Jersey\",\"New York\"],\"legendgroup\":\"Mid-Atlantic\",\"marker\":{\"color\":\"#FF97FF\",\"size\":[5011,2705,5581],\"sizemode\":\"area\",\"sizeref\":35.76,\"symbol\":\"circle\"},\"mode\":\"markers\",\"name\":\"Mid-Atlantic\",\"orientation\":\"v\",\"showlegend\":true,\"x\":[2312,1184,2026],\"xaxis\":\"x\",\"y\":[122,20,85],\"yaxis\":\"y\",\"type\":\"scatter\"},{\"hovertemplate\":\"\\u003cb\\u003e%{hovertext}\\u003c\\u002fb\\u003e\\u003cbr\\u003e\\u003cbr\\u003eDivision=Others\\u003cbr\\u003eCOVID-19 Deaths=%{x}\\u003cbr\\u003eInfluenza Deaths=%{y}\\u003cbr\\u003ePneumonia Deaths=%{marker.size}\\u003cextra\\u003e\\u003c\\u002fextra\\u003e\",\"hovertext\":[\"New York City\",\"Puerto Rico\",\"District of Columbia\"],\"legendgroup\":\"Others\",\"marker\":{\"color\":\"#FECB52\",\"size\":[2756,3257,21],\"sizemode\":\"area\",\"sizeref\":35.76,\"symbol\":\"circle\"},\"mode\":\"markers\",\"name\":\"Others\",\"orientation\":\"v\",\"showlegend\":true,\"x\":[735,550,0],\"xaxis\":\"x\",\"y\":[10,0,0],\"yaxis\":\"y\",\"type\":\"scatter\"}],                        {\"template\":{\"data\":{\"histogram2dcontour\":[{\"type\":\"histogram2dcontour\",\"colorbar\":{\"outlinewidth\":0,\"ticks\":\"\"},\"colorscale\":[[0.0,\"#0d0887\"],[0.1111111111111111,\"#46039f\"],[0.2222222222222222,\"#7201a8\"],[0.3333333333333333,\"#9c179e\"],[0.4444444444444444,\"#bd3786\"],[0.5555555555555556,\"#d8576b\"],[0.6666666666666666,\"#ed7953\"],[0.7777777777777778,\"#fb9f3a\"],[0.8888888888888888,\"#fdca26\"],[1.0,\"#f0f921\"]]}],\"choropleth\":[{\"type\":\"choropleth\",\"colorbar\":{\"outlinewidth\":0,\"ticks\":\"\"}}],\"histogram2d\":[{\"type\":\"histogram2d\",\"colorbar\":{\"outlinewidth\":0,\"ticks\":\"\"},\"colorscale\":[[0.0,\"#0d0887\"],[0.1111111111111111,\"#46039f\"],[0.2222222222222222,\"#7201a8\"],[0.3333333333333333,\"#9c179e\"],[0.4444444444444444,\"#bd3786\"],[0.5555555555555556,\"#d8576b\"],[0.6666666666666666,\"#ed7953\"],[0.7777777777777778,\"#fb9f3a\"],[0.8888888888888888,\"#fdca26\"],[1.0,\"#f0f921\"]]}],\"heatmap\":[{\"type\":\"heatmap\",\"colorbar\":{\"outlinewidth\":0,\"ticks\":\"\"},\"colorscale\":[[0.0,\"#0d0887\"],[0.1111111111111111,\"#46039f\"],[0.2222222222222222,\"#7201a8\"],[0.3333333333333333,\"#9c179e\"],[0.4444444444444444,\"#bd3786\"],[0.5555555555555556,\"#d8576b\"],[0.6666666666666666,\"#ed7953\"],[0.7777777777777778,\"#fb9f3a\"],[0.8888888888888888,\"#fdca26\"],[1.0,\"#f0f921\"]]}],\"heatmapgl\":[{\"type\":\"heatmapgl\",\"colorbar\":{\"outlinewidth\":0,\"ticks\":\"\"},\"colorscale\":[[0.0,\"#0d0887\"],[0.1111111111111111,\"#46039f\"],[0.2222222222222222,\"#7201a8\"],[0.3333333333333333,\"#9c179e\"],[0.4444444444444444,\"#bd3786\"],[0.5555555555555556,\"#d8576b\"],[0.6666666666666666,\"#ed7953\"],[0.7777777777777778,\"#fb9f3a\"],[0.8888888888888888,\"#fdca26\"],[1.0,\"#f0f921\"]]}],\"contourcarpet\":[{\"type\":\"contourcarpet\",\"colorbar\":{\"outlinewidth\":0,\"ticks\":\"\"}}],\"contour\":[{\"type\":\"contour\",\"colorbar\":{\"outlinewidth\":0,\"ticks\":\"\"},\"colorscale\":[[0.0,\"#0d0887\"],[0.1111111111111111,\"#46039f\"],[0.2222222222222222,\"#7201a8\"],[0.3333333333333333,\"#9c179e\"],[0.4444444444444444,\"#bd3786\"],[0.5555555555555556,\"#d8576b\"],[0.6666666666666666,\"#ed7953\"],[0.7777777777777778,\"#fb9f3a\"],[0.8888888888888888,\"#fdca26\"],[1.0,\"#f0f921\"]]}],\"surface\":[{\"type\":\"surface\",\"colorbar\":{\"outlinewidth\":0,\"ticks\":\"\"},\"colorscale\":[[0.0,\"#0d0887\"],[0.1111111111111111,\"#46039f\"],[0.2222222222222222,\"#7201a8\"],[0.3333333333333333,\"#9c179e\"],[0.4444444444444444,\"#bd3786\"],[0.5555555555555556,\"#d8576b\"],[0.6666666666666666,\"#ed7953\"],[0.7777777777777778,\"#fb9f3a\"],[0.8888888888888888,\"#fdca26\"],[1.0,\"#f0f921\"]]}],\"mesh3d\":[{\"type\":\"mesh3d\",\"colorbar\":{\"outlinewidth\":0,\"ticks\":\"\"}}],\"scatter\":[{\"fillpattern\":{\"fillmode\":\"overlay\",\"size\":10,\"solidity\":0.2},\"type\":\"scatter\"}],\"parcoords\":[{\"type\":\"parcoords\",\"line\":{\"colorbar\":{\"outlinewidth\":0,\"ticks\":\"\"}}}],\"scatterpolargl\":[{\"type\":\"scatterpolargl\",\"marker\":{\"colorbar\":{\"outlinewidth\":0,\"ticks\":\"\"}}}],\"bar\":[{\"error_x\":{\"color\":\"#2a3f5f\"},\"error_y\":{\"color\":\"#2a3f5f\"},\"marker\":{\"line\":{\"color\":\"#E5ECF6\",\"width\":0.5},\"pattern\":{\"fillmode\":\"overlay\",\"size\":10,\"solidity\":0.2}},\"type\":\"bar\"}],\"scattergeo\":[{\"type\":\"scattergeo\",\"marker\":{\"colorbar\":{\"outlinewidth\":0,\"ticks\":\"\"}}}],\"scatterpolar\":[{\"type\":\"scatterpolar\",\"marker\":{\"colorbar\":{\"outlinewidth\":0,\"ticks\":\"\"}}}],\"histogram\":[{\"marker\":{\"pattern\":{\"fillmode\":\"overlay\",\"size\":10,\"solidity\":0.2}},\"type\":\"histogram\"}],\"scattergl\":[{\"type\":\"scattergl\",\"marker\":{\"colorbar\":{\"outlinewidth\":0,\"ticks\":\"\"}}}],\"scatter3d\":[{\"type\":\"scatter3d\",\"line\":{\"colorbar\":{\"outlinewidth\":0,\"ticks\":\"\"}},\"marker\":{\"colorbar\":{\"outlinewidth\":0,\"ticks\":\"\"}}}],\"scattermapbox\":[{\"type\":\"scattermapbox\",\"marker\":{\"colorbar\":{\"outlinewidth\":0,\"ticks\":\"\"}}}],\"scatterternary\":[{\"type\":\"scatterternary\",\"marker\":{\"colorbar\":{\"outlinewidth\":0,\"ticks\":\"\"}}}],\"scattercarpet\":[{\"type\":\"scattercarpet\",\"marker\":{\"colorbar\":{\"outlinewidth\":0,\"ticks\":\"\"}}}],\"carpet\":[{\"aaxis\":{\"endlinecolor\":\"#2a3f5f\",\"gridcolor\":\"white\",\"linecolor\":\"white\",\"minorgridcolor\":\"white\",\"startlinecolor\":\"#2a3f5f\"},\"baxis\":{\"endlinecolor\":\"#2a3f5f\",\"gridcolor\":\"white\",\"linecolor\":\"white\",\"minorgridcolor\":\"white\",\"startlinecolor\":\"#2a3f5f\"},\"type\":\"carpet\"}],\"table\":[{\"cells\":{\"fill\":{\"color\":\"#EBF0F8\"},\"line\":{\"color\":\"white\"}},\"header\":{\"fill\":{\"color\":\"#C8D4E3\"},\"line\":{\"color\":\"white\"}},\"type\":\"table\"}],\"barpolar\":[{\"marker\":{\"line\":{\"color\":\"#E5ECF6\",\"width\":0.5},\"pattern\":{\"fillmode\":\"overlay\",\"size\":10,\"solidity\":0.2}},\"type\":\"barpolar\"}],\"pie\":[{\"automargin\":true,\"type\":\"pie\"}]},\"layout\":{\"autotypenumbers\":\"strict\",\"colorway\":[\"#636efa\",\"#EF553B\",\"#00cc96\",\"#ab63fa\",\"#FFA15A\",\"#19d3f3\",\"#FF6692\",\"#B6E880\",\"#FF97FF\",\"#FECB52\"],\"font\":{\"color\":\"#2a3f5f\"},\"hovermode\":\"closest\",\"hoverlabel\":{\"align\":\"left\"},\"paper_bgcolor\":\"white\",\"plot_bgcolor\":\"#E5ECF6\",\"polar\":{\"bgcolor\":\"#E5ECF6\",\"angularaxis\":{\"gridcolor\":\"white\",\"linecolor\":\"white\",\"ticks\":\"\"},\"radialaxis\":{\"gridcolor\":\"white\",\"linecolor\":\"white\",\"ticks\":\"\"}},\"ternary\":{\"bgcolor\":\"#E5ECF6\",\"aaxis\":{\"gridcolor\":\"white\",\"linecolor\":\"white\",\"ticks\":\"\"},\"baxis\":{\"gridcolor\":\"white\",\"linecolor\":\"white\",\"ticks\":\"\"},\"caxis\":{\"gridcolor\":\"white\",\"linecolor\":\"white\",\"ticks\":\"\"}},\"coloraxis\":{\"colorbar\":{\"outlinewidth\":0,\"ticks\":\"\"}},\"colorscale\":{\"sequential\":[[0.0,\"#0d0887\"],[0.1111111111111111,\"#46039f\"],[0.2222222222222222,\"#7201a8\"],[0.3333333333333333,\"#9c179e\"],[0.4444444444444444,\"#bd3786\"],[0.5555555555555556,\"#d8576b\"],[0.6666666666666666,\"#ed7953\"],[0.7777777777777778,\"#fb9f3a\"],[0.8888888888888888,\"#fdca26\"],[1.0,\"#f0f921\"]],\"sequentialminus\":[[0.0,\"#0d0887\"],[0.1111111111111111,\"#46039f\"],[0.2222222222222222,\"#7201a8\"],[0.3333333333333333,\"#9c179e\"],[0.4444444444444444,\"#bd3786\"],[0.5555555555555556,\"#d8576b\"],[0.6666666666666666,\"#ed7953\"],[0.7777777777777778,\"#fb9f3a\"],[0.8888888888888888,\"#fdca26\"],[1.0,\"#f0f921\"]],\"diverging\":[[0,\"#8e0152\"],[0.1,\"#c51b7d\"],[0.2,\"#de77ae\"],[0.3,\"#f1b6da\"],[0.4,\"#fde0ef\"],[0.5,\"#f7f7f7\"],[0.6,\"#e6f5d0\"],[0.7,\"#b8e186\"],[0.8,\"#7fbc41\"],[0.9,\"#4d9221\"],[1,\"#276419\"]]},\"xaxis\":{\"gridcolor\":\"white\",\"linecolor\":\"white\",\"ticks\":\"\",\"title\":{\"standoff\":15},\"zerolinecolor\":\"white\",\"automargin\":true,\"zerolinewidth\":2},\"yaxis\":{\"gridcolor\":\"white\",\"linecolor\":\"white\",\"ticks\":\"\",\"title\":{\"standoff\":15},\"zerolinecolor\":\"white\",\"automargin\":true,\"zerolinewidth\":2},\"scene\":{\"xaxis\":{\"backgroundcolor\":\"#E5ECF6\",\"gridcolor\":\"white\",\"linecolor\":\"white\",\"showbackground\":true,\"ticks\":\"\",\"zerolinecolor\":\"white\",\"gridwidth\":2},\"yaxis\":{\"backgroundcolor\":\"#E5ECF6\",\"gridcolor\":\"white\",\"linecolor\":\"white\",\"showbackground\":true,\"ticks\":\"\",\"zerolinecolor\":\"white\",\"gridwidth\":2},\"zaxis\":{\"backgroundcolor\":\"#E5ECF6\",\"gridcolor\":\"white\",\"linecolor\":\"white\",\"showbackground\":true,\"ticks\":\"\",\"zerolinecolor\":\"white\",\"gridwidth\":2}},\"shapedefaults\":{\"line\":{\"color\":\"#2a3f5f\"}},\"annotationdefaults\":{\"arrowcolor\":\"#2a3f5f\",\"arrowhead\":0,\"arrowwidth\":1},\"geo\":{\"bgcolor\":\"white\",\"landcolor\":\"#E5ECF6\",\"subunitcolor\":\"white\",\"showland\":true,\"showlakes\":true,\"lakecolor\":\"white\"},\"title\":{\"x\":0.05},\"mapbox\":{\"style\":\"light\"}}},\"xaxis\":{\"anchor\":\"y\",\"domain\":[0.0,1.0],\"title\":{\"text\":\"COVID-19 Deaths\"}},\"yaxis\":{\"anchor\":\"x\",\"domain\":[0.0,1.0],\"title\":{\"text\":\"Influenza Deaths\"}},\"legend\":{\"title\":{\"text\":\"Division\"},\"tracegroupgap\":0,\"itemsizing\":\"constant\"},\"title\":{\"text\":\"COVID-19, Influenza, and Pneumonia Deaths 2023 by US States and Divisions\"}},                        {\"responsive\": true}                    ).then(function(){\n",
       "                            \n",
       "var gd = document.getElementById('ceb08d72-66f9-4c70-814f-b6fb07075dc8');\n",
       "var x = new MutationObserver(function (mutations, observer) {{\n",
       "        var display = window.getComputedStyle(gd).display;\n",
       "        if (!display || display === 'none') {{\n",
       "            console.log([gd, 'removed!']);\n",
       "            Plotly.purge(gd);\n",
       "            observer.disconnect();\n",
       "        }}\n",
       "}});\n",
       "\n",
       "// Listen for the removal of the full notebook cells\n",
       "var notebookContainer = gd.closest('#notebook-container');\n",
       "if (notebookContainer) {{\n",
       "    x.observe(notebookContainer, {childList: true});\n",
       "}}\n",
       "\n",
       "// Listen for the clearing of the current output cell\n",
       "var outputEl = gd.closest('.output');\n",
       "if (outputEl) {{\n",
       "    x.observe(outputEl, {childList: true});\n",
       "}}\n",
       "\n",
       "                        })                };                });            </script>        </div>"
      ]
     },
     "metadata": {},
     "output_type": "display_data"
    }
   ],
   "source": [
    "from us_state_mappings import us_state_division_dict\n",
    "\n",
    "covid_deaths_vs_flu_deaths = (\n",
    "    df\n",
    "    .with_columns(\n",
    "        pl.col('State').replace_strict(us_state_division_dict, default='Others').alias('Division')\n",
    "    )\n",
    "    .filter(\n",
    "        pl.col('State') != 'United States',\n",
    "        pl.col('Age Group') != 'All Ages',\n",
    "        pl.col('Sex') != 'All Sexes',\n",
    "        pl.col('Year') == 2023\n",
    "    )\n",
    "    .group_by('State', 'Division')\n",
    "    .agg(\n",
    "        pl.col('COVID-19 Deaths').sum(),\n",
    "        pl.col('Influenza Deaths').sum(),\n",
    "        pl.col('Pneumonia Deaths').sum()\n",
    "    )\n",
    ")\n",
    "\n",
    "fig = px.scatter(\n",
    "    covid_deaths_vs_flu_deaths, \n",
    "    x='COVID-19 Deaths', \n",
    "    y='Influenza Deaths', \n",
    "    color='Division',\n",
    "    size='Pneumonia Deaths',\n",
    "    hover_name='State',\n",
    "    title='COVID-19, Influenza, and Pneumonia Deaths 2023 by US States and Divisions'\n",
    ")\n",
    "\n",
    "fig.show()"
   ]
  },
  {
   "cell_type": "code",
   "execution_count": 145,
   "metadata": {},
   "outputs": [
    {
     "data": {
      "application/vnd.plotly.v1+json": {
       "config": {
        "plotlyServerURL": "https://plot.ly"
       },
       "data": [
        {
         "hovertemplate": "Year=2020<br>Month=%{x}<br>COVID-19 Deaths=%{y}<extra></extra>",
         "legendgroup": "2020",
         "line": {
          "color": "#636efa",
          "dash": "solid",
          "shape": "spline"
         },
         "marker": {
          "symbol": "circle"
         },
         "mode": "lines",
         "name": "2020",
         "orientation": "v",
         "showlegend": true,
         "type": "scatter",
         "x": [
          "1",
          "10",
          "11",
          "12",
          "2",
          "3",
          "4",
          "5",
          "6",
          "7",
          "8",
          "9"
         ],
         "xaxis": "x",
         "y": [
          6,
          24930,
          53248,
          98174,
          25,
          7174,
          65550,
          38329,
          18026,
          31135,
          29911,
          19158
         ],
         "yaxis": "y"
        },
        {
         "hovertemplate": "Year=2021<br>Month=%{x}<br>COVID-19 Deaths=%{y}<extra></extra>",
         "legendgroup": "2021",
         "line": {
          "color": "#EF553B",
          "dash": "solid",
          "shape": "spline"
         },
         "marker": {
          "symbol": "circle"
         },
         "mode": "lines",
         "name": "2021",
         "orientation": "v",
         "showlegend": true,
         "type": "scatter",
         "x": [
          "1",
          "10",
          "11",
          "12",
          "2",
          "3",
          "4",
          "5",
          "6",
          "7",
          "8",
          "9"
         ],
         "xaxis": "x",
         "y": [
          105565,
          42606,
          32329,
          45623,
          48570,
          23265,
          18805,
          14989,
          8024,
          11222,
          48821,
          63444
         ],
         "yaxis": "y"
        },
        {
         "hovertemplate": "Year=2022<br>Month=%{x}<br>COVID-19 Deaths=%{y}<extra></extra>",
         "legendgroup": "2022",
         "line": {
          "color": "#00cc96",
          "dash": "solid",
          "shape": "spline"
         },
         "marker": {
          "symbol": "circle"
         },
         "mode": "lines",
         "name": "2022",
         "orientation": "v",
         "showlegend": true,
         "type": "scatter",
         "x": [
          "1",
          "10",
          "11",
          "12",
          "2",
          "3",
          "4",
          "5",
          "6",
          "7",
          "8",
          "9"
         ],
         "xaxis": "x",
         "y": [
          84011,
          9713,
          10036,
          14383,
          50298,
          15627,
          6265,
          7633,
          9539,
          13393,
          14138,
          11125
         ],
         "yaxis": "y"
        },
        {
         "hovertemplate": "Year=2023<br>Month=%{x}<br>COVID-19 Deaths=%{y}<extra></extra>",
         "legendgroup": "2023",
         "line": {
          "color": "#ab63fa",
          "dash": "solid",
          "shape": "spline"
         },
         "marker": {
          "symbol": "circle"
         },
         "mode": "lines",
         "name": "2023",
         "orientation": "v",
         "showlegend": true,
         "type": "scatter",
         "x": [
          "1",
          "2",
          "3",
          "4",
          "5",
          "6",
          "7",
          "8",
          "9"
         ],
         "xaxis": "x",
         "y": [
          14877,
          8985,
          7593,
          5150,
          3518,
          2547,
          2295,
          3844,
          2875
         ],
         "yaxis": "y"
        }
       ],
       "layout": {
        "legend": {
         "title": {
          "text": "Year"
         },
         "tracegroupgap": 0,
         "traceorder": "reversed"
        },
        "template": {
         "data": {
          "bar": [
           {
            "error_x": {
             "color": "#2a3f5f"
            },
            "error_y": {
             "color": "#2a3f5f"
            },
            "marker": {
             "line": {
              "color": "#E5ECF6",
              "width": 0.5
             },
             "pattern": {
              "fillmode": "overlay",
              "size": 10,
              "solidity": 0.2
             }
            },
            "type": "bar"
           }
          ],
          "barpolar": [
           {
            "marker": {
             "line": {
              "color": "#E5ECF6",
              "width": 0.5
             },
             "pattern": {
              "fillmode": "overlay",
              "size": 10,
              "solidity": 0.2
             }
            },
            "type": "barpolar"
           }
          ],
          "carpet": [
           {
            "aaxis": {
             "endlinecolor": "#2a3f5f",
             "gridcolor": "white",
             "linecolor": "white",
             "minorgridcolor": "white",
             "startlinecolor": "#2a3f5f"
            },
            "baxis": {
             "endlinecolor": "#2a3f5f",
             "gridcolor": "white",
             "linecolor": "white",
             "minorgridcolor": "white",
             "startlinecolor": "#2a3f5f"
            },
            "type": "carpet"
           }
          ],
          "choropleth": [
           {
            "colorbar": {
             "outlinewidth": 0,
             "ticks": ""
            },
            "type": "choropleth"
           }
          ],
          "contour": [
           {
            "colorbar": {
             "outlinewidth": 0,
             "ticks": ""
            },
            "colorscale": [
             [
              0,
              "#0d0887"
             ],
             [
              0.1111111111111111,
              "#46039f"
             ],
             [
              0.2222222222222222,
              "#7201a8"
             ],
             [
              0.3333333333333333,
              "#9c179e"
             ],
             [
              0.4444444444444444,
              "#bd3786"
             ],
             [
              0.5555555555555556,
              "#d8576b"
             ],
             [
              0.6666666666666666,
              "#ed7953"
             ],
             [
              0.7777777777777778,
              "#fb9f3a"
             ],
             [
              0.8888888888888888,
              "#fdca26"
             ],
             [
              1,
              "#f0f921"
             ]
            ],
            "type": "contour"
           }
          ],
          "contourcarpet": [
           {
            "colorbar": {
             "outlinewidth": 0,
             "ticks": ""
            },
            "type": "contourcarpet"
           }
          ],
          "heatmap": [
           {
            "colorbar": {
             "outlinewidth": 0,
             "ticks": ""
            },
            "colorscale": [
             [
              0,
              "#0d0887"
             ],
             [
              0.1111111111111111,
              "#46039f"
             ],
             [
              0.2222222222222222,
              "#7201a8"
             ],
             [
              0.3333333333333333,
              "#9c179e"
             ],
             [
              0.4444444444444444,
              "#bd3786"
             ],
             [
              0.5555555555555556,
              "#d8576b"
             ],
             [
              0.6666666666666666,
              "#ed7953"
             ],
             [
              0.7777777777777778,
              "#fb9f3a"
             ],
             [
              0.8888888888888888,
              "#fdca26"
             ],
             [
              1,
              "#f0f921"
             ]
            ],
            "type": "heatmap"
           }
          ],
          "heatmapgl": [
           {
            "colorbar": {
             "outlinewidth": 0,
             "ticks": ""
            },
            "colorscale": [
             [
              0,
              "#0d0887"
             ],
             [
              0.1111111111111111,
              "#46039f"
             ],
             [
              0.2222222222222222,
              "#7201a8"
             ],
             [
              0.3333333333333333,
              "#9c179e"
             ],
             [
              0.4444444444444444,
              "#bd3786"
             ],
             [
              0.5555555555555556,
              "#d8576b"
             ],
             [
              0.6666666666666666,
              "#ed7953"
             ],
             [
              0.7777777777777778,
              "#fb9f3a"
             ],
             [
              0.8888888888888888,
              "#fdca26"
             ],
             [
              1,
              "#f0f921"
             ]
            ],
            "type": "heatmapgl"
           }
          ],
          "histogram": [
           {
            "marker": {
             "pattern": {
              "fillmode": "overlay",
              "size": 10,
              "solidity": 0.2
             }
            },
            "type": "histogram"
           }
          ],
          "histogram2d": [
           {
            "colorbar": {
             "outlinewidth": 0,
             "ticks": ""
            },
            "colorscale": [
             [
              0,
              "#0d0887"
             ],
             [
              0.1111111111111111,
              "#46039f"
             ],
             [
              0.2222222222222222,
              "#7201a8"
             ],
             [
              0.3333333333333333,
              "#9c179e"
             ],
             [
              0.4444444444444444,
              "#bd3786"
             ],
             [
              0.5555555555555556,
              "#d8576b"
             ],
             [
              0.6666666666666666,
              "#ed7953"
             ],
             [
              0.7777777777777778,
              "#fb9f3a"
             ],
             [
              0.8888888888888888,
              "#fdca26"
             ],
             [
              1,
              "#f0f921"
             ]
            ],
            "type": "histogram2d"
           }
          ],
          "histogram2dcontour": [
           {
            "colorbar": {
             "outlinewidth": 0,
             "ticks": ""
            },
            "colorscale": [
             [
              0,
              "#0d0887"
             ],
             [
              0.1111111111111111,
              "#46039f"
             ],
             [
              0.2222222222222222,
              "#7201a8"
             ],
             [
              0.3333333333333333,
              "#9c179e"
             ],
             [
              0.4444444444444444,
              "#bd3786"
             ],
             [
              0.5555555555555556,
              "#d8576b"
             ],
             [
              0.6666666666666666,
              "#ed7953"
             ],
             [
              0.7777777777777778,
              "#fb9f3a"
             ],
             [
              0.8888888888888888,
              "#fdca26"
             ],
             [
              1,
              "#f0f921"
             ]
            ],
            "type": "histogram2dcontour"
           }
          ],
          "mesh3d": [
           {
            "colorbar": {
             "outlinewidth": 0,
             "ticks": ""
            },
            "type": "mesh3d"
           }
          ],
          "parcoords": [
           {
            "line": {
             "colorbar": {
              "outlinewidth": 0,
              "ticks": ""
             }
            },
            "type": "parcoords"
           }
          ],
          "pie": [
           {
            "automargin": true,
            "type": "pie"
           }
          ],
          "scatter": [
           {
            "fillpattern": {
             "fillmode": "overlay",
             "size": 10,
             "solidity": 0.2
            },
            "type": "scatter"
           }
          ],
          "scatter3d": [
           {
            "line": {
             "colorbar": {
              "outlinewidth": 0,
              "ticks": ""
             }
            },
            "marker": {
             "colorbar": {
              "outlinewidth": 0,
              "ticks": ""
             }
            },
            "type": "scatter3d"
           }
          ],
          "scattercarpet": [
           {
            "marker": {
             "colorbar": {
              "outlinewidth": 0,
              "ticks": ""
             }
            },
            "type": "scattercarpet"
           }
          ],
          "scattergeo": [
           {
            "marker": {
             "colorbar": {
              "outlinewidth": 0,
              "ticks": ""
             }
            },
            "type": "scattergeo"
           }
          ],
          "scattergl": [
           {
            "marker": {
             "colorbar": {
              "outlinewidth": 0,
              "ticks": ""
             }
            },
            "type": "scattergl"
           }
          ],
          "scattermapbox": [
           {
            "marker": {
             "colorbar": {
              "outlinewidth": 0,
              "ticks": ""
             }
            },
            "type": "scattermapbox"
           }
          ],
          "scatterpolar": [
           {
            "marker": {
             "colorbar": {
              "outlinewidth": 0,
              "ticks": ""
             }
            },
            "type": "scatterpolar"
           }
          ],
          "scatterpolargl": [
           {
            "marker": {
             "colorbar": {
              "outlinewidth": 0,
              "ticks": ""
             }
            },
            "type": "scatterpolargl"
           }
          ],
          "scatterternary": [
           {
            "marker": {
             "colorbar": {
              "outlinewidth": 0,
              "ticks": ""
             }
            },
            "type": "scatterternary"
           }
          ],
          "surface": [
           {
            "colorbar": {
             "outlinewidth": 0,
             "ticks": ""
            },
            "colorscale": [
             [
              0,
              "#0d0887"
             ],
             [
              0.1111111111111111,
              "#46039f"
             ],
             [
              0.2222222222222222,
              "#7201a8"
             ],
             [
              0.3333333333333333,
              "#9c179e"
             ],
             [
              0.4444444444444444,
              "#bd3786"
             ],
             [
              0.5555555555555556,
              "#d8576b"
             ],
             [
              0.6666666666666666,
              "#ed7953"
             ],
             [
              0.7777777777777778,
              "#fb9f3a"
             ],
             [
              0.8888888888888888,
              "#fdca26"
             ],
             [
              1,
              "#f0f921"
             ]
            ],
            "type": "surface"
           }
          ],
          "table": [
           {
            "cells": {
             "fill": {
              "color": "#EBF0F8"
             },
             "line": {
              "color": "white"
             }
            },
            "header": {
             "fill": {
              "color": "#C8D4E3"
             },
             "line": {
              "color": "white"
             }
            },
            "type": "table"
           }
          ]
         },
         "layout": {
          "annotationdefaults": {
           "arrowcolor": "#2a3f5f",
           "arrowhead": 0,
           "arrowwidth": 1
          },
          "autotypenumbers": "strict",
          "coloraxis": {
           "colorbar": {
            "outlinewidth": 0,
            "ticks": ""
           }
          },
          "colorscale": {
           "diverging": [
            [
             0,
             "#8e0152"
            ],
            [
             0.1,
             "#c51b7d"
            ],
            [
             0.2,
             "#de77ae"
            ],
            [
             0.3,
             "#f1b6da"
            ],
            [
             0.4,
             "#fde0ef"
            ],
            [
             0.5,
             "#f7f7f7"
            ],
            [
             0.6,
             "#e6f5d0"
            ],
            [
             0.7,
             "#b8e186"
            ],
            [
             0.8,
             "#7fbc41"
            ],
            [
             0.9,
             "#4d9221"
            ],
            [
             1,
             "#276419"
            ]
           ],
           "sequential": [
            [
             0,
             "#0d0887"
            ],
            [
             0.1111111111111111,
             "#46039f"
            ],
            [
             0.2222222222222222,
             "#7201a8"
            ],
            [
             0.3333333333333333,
             "#9c179e"
            ],
            [
             0.4444444444444444,
             "#bd3786"
            ],
            [
             0.5555555555555556,
             "#d8576b"
            ],
            [
             0.6666666666666666,
             "#ed7953"
            ],
            [
             0.7777777777777778,
             "#fb9f3a"
            ],
            [
             0.8888888888888888,
             "#fdca26"
            ],
            [
             1,
             "#f0f921"
            ]
           ],
           "sequentialminus": [
            [
             0,
             "#0d0887"
            ],
            [
             0.1111111111111111,
             "#46039f"
            ],
            [
             0.2222222222222222,
             "#7201a8"
            ],
            [
             0.3333333333333333,
             "#9c179e"
            ],
            [
             0.4444444444444444,
             "#bd3786"
            ],
            [
             0.5555555555555556,
             "#d8576b"
            ],
            [
             0.6666666666666666,
             "#ed7953"
            ],
            [
             0.7777777777777778,
             "#fb9f3a"
            ],
            [
             0.8888888888888888,
             "#fdca26"
            ],
            [
             1,
             "#f0f921"
            ]
           ]
          },
          "colorway": [
           "#636efa",
           "#EF553B",
           "#00cc96",
           "#ab63fa",
           "#FFA15A",
           "#19d3f3",
           "#FF6692",
           "#B6E880",
           "#FF97FF",
           "#FECB52"
          ],
          "font": {
           "color": "#2a3f5f"
          },
          "geo": {
           "bgcolor": "white",
           "lakecolor": "white",
           "landcolor": "#E5ECF6",
           "showlakes": true,
           "showland": true,
           "subunitcolor": "white"
          },
          "hoverlabel": {
           "align": "left"
          },
          "hovermode": "closest",
          "mapbox": {
           "style": "light"
          },
          "paper_bgcolor": "white",
          "plot_bgcolor": "#E5ECF6",
          "polar": {
           "angularaxis": {
            "gridcolor": "white",
            "linecolor": "white",
            "ticks": ""
           },
           "bgcolor": "#E5ECF6",
           "radialaxis": {
            "gridcolor": "white",
            "linecolor": "white",
            "ticks": ""
           }
          },
          "scene": {
           "xaxis": {
            "backgroundcolor": "#E5ECF6",
            "gridcolor": "white",
            "gridwidth": 2,
            "linecolor": "white",
            "showbackground": true,
            "ticks": "",
            "zerolinecolor": "white"
           },
           "yaxis": {
            "backgroundcolor": "#E5ECF6",
            "gridcolor": "white",
            "gridwidth": 2,
            "linecolor": "white",
            "showbackground": true,
            "ticks": "",
            "zerolinecolor": "white"
           },
           "zaxis": {
            "backgroundcolor": "#E5ECF6",
            "gridcolor": "white",
            "gridwidth": 2,
            "linecolor": "white",
            "showbackground": true,
            "ticks": "",
            "zerolinecolor": "white"
           }
          },
          "shapedefaults": {
           "line": {
            "color": "#2a3f5f"
           }
          },
          "ternary": {
           "aaxis": {
            "gridcolor": "white",
            "linecolor": "white",
            "ticks": ""
           },
           "baxis": {
            "gridcolor": "white",
            "linecolor": "white",
            "ticks": ""
           },
           "bgcolor": "#E5ECF6",
           "caxis": {
            "gridcolor": "white",
            "linecolor": "white",
            "ticks": ""
           }
          },
          "title": {
           "x": 0.05
          },
          "xaxis": {
           "automargin": true,
           "gridcolor": "white",
           "linecolor": "white",
           "ticks": "",
           "title": {
            "standoff": 15
           },
           "zerolinecolor": "white",
           "zerolinewidth": 2
          },
          "yaxis": {
           "automargin": true,
           "gridcolor": "white",
           "linecolor": "white",
           "ticks": "",
           "title": {
            "standoff": 15
           },
           "zerolinecolor": "white",
           "zerolinewidth": 2
          }
         }
        },
        "title": {
         "text": "COVID-19 Deaths Monthly Trend - United States"
        },
        "xaxis": {
         "anchor": "y",
         "domain": [
          0,
          1
         ],
         "dtick": 1,
         "title": {
          "text": "Month"
         }
        },
        "yaxis": {
         "anchor": "x",
         "domain": [
          0,
          1
         ],
         "title": {
          "text": "COVID-19 Deaths"
         }
        }
       }
      },
      "text/html": [
       "<div>                            <div id=\"5aa30459-17ad-4ef3-9080-e9bc2b0aad05\" class=\"plotly-graph-div\" style=\"height:525px; width:100%;\"></div>            <script type=\"text/javascript\">                require([\"plotly\"], function(Plotly) {                    window.PLOTLYENV=window.PLOTLYENV || {};                                    if (document.getElementById(\"5aa30459-17ad-4ef3-9080-e9bc2b0aad05\")) {                    Plotly.newPlot(                        \"5aa30459-17ad-4ef3-9080-e9bc2b0aad05\",                        [{\"hovertemplate\":\"Year=2020\\u003cbr\\u003eMonth=%{x}\\u003cbr\\u003eCOVID-19 Deaths=%{y}\\u003cextra\\u003e\\u003c\\u002fextra\\u003e\",\"legendgroup\":\"2020\",\"line\":{\"color\":\"#636efa\",\"dash\":\"solid\",\"shape\":\"spline\"},\"marker\":{\"symbol\":\"circle\"},\"mode\":\"lines\",\"name\":\"2020\",\"orientation\":\"v\",\"showlegend\":true,\"x\":[\"1\",\"10\",\"11\",\"12\",\"2\",\"3\",\"4\",\"5\",\"6\",\"7\",\"8\",\"9\"],\"xaxis\":\"x\",\"y\":[6,24930,53248,98174,25,7174,65550,38329,18026,31135,29911,19158],\"yaxis\":\"y\",\"type\":\"scatter\"},{\"hovertemplate\":\"Year=2021\\u003cbr\\u003eMonth=%{x}\\u003cbr\\u003eCOVID-19 Deaths=%{y}\\u003cextra\\u003e\\u003c\\u002fextra\\u003e\",\"legendgroup\":\"2021\",\"line\":{\"color\":\"#EF553B\",\"dash\":\"solid\",\"shape\":\"spline\"},\"marker\":{\"symbol\":\"circle\"},\"mode\":\"lines\",\"name\":\"2021\",\"orientation\":\"v\",\"showlegend\":true,\"x\":[\"1\",\"10\",\"11\",\"12\",\"2\",\"3\",\"4\",\"5\",\"6\",\"7\",\"8\",\"9\"],\"xaxis\":\"x\",\"y\":[105565,42606,32329,45623,48570,23265,18805,14989,8024,11222,48821,63444],\"yaxis\":\"y\",\"type\":\"scatter\"},{\"hovertemplate\":\"Year=2022\\u003cbr\\u003eMonth=%{x}\\u003cbr\\u003eCOVID-19 Deaths=%{y}\\u003cextra\\u003e\\u003c\\u002fextra\\u003e\",\"legendgroup\":\"2022\",\"line\":{\"color\":\"#00cc96\",\"dash\":\"solid\",\"shape\":\"spline\"},\"marker\":{\"symbol\":\"circle\"},\"mode\":\"lines\",\"name\":\"2022\",\"orientation\":\"v\",\"showlegend\":true,\"x\":[\"1\",\"10\",\"11\",\"12\",\"2\",\"3\",\"4\",\"5\",\"6\",\"7\",\"8\",\"9\"],\"xaxis\":\"x\",\"y\":[84011,9713,10036,14383,50298,15627,6265,7633,9539,13393,14138,11125],\"yaxis\":\"y\",\"type\":\"scatter\"},{\"hovertemplate\":\"Year=2023\\u003cbr\\u003eMonth=%{x}\\u003cbr\\u003eCOVID-19 Deaths=%{y}\\u003cextra\\u003e\\u003c\\u002fextra\\u003e\",\"legendgroup\":\"2023\",\"line\":{\"color\":\"#ab63fa\",\"dash\":\"solid\",\"shape\":\"spline\"},\"marker\":{\"symbol\":\"circle\"},\"mode\":\"lines\",\"name\":\"2023\",\"orientation\":\"v\",\"showlegend\":true,\"x\":[\"1\",\"2\",\"3\",\"4\",\"5\",\"6\",\"7\",\"8\",\"9\"],\"xaxis\":\"x\",\"y\":[14877,8985,7593,5150,3518,2547,2295,3844,2875],\"yaxis\":\"y\",\"type\":\"scatter\"}],                        {\"template\":{\"data\":{\"histogram2dcontour\":[{\"type\":\"histogram2dcontour\",\"colorbar\":{\"outlinewidth\":0,\"ticks\":\"\"},\"colorscale\":[[0.0,\"#0d0887\"],[0.1111111111111111,\"#46039f\"],[0.2222222222222222,\"#7201a8\"],[0.3333333333333333,\"#9c179e\"],[0.4444444444444444,\"#bd3786\"],[0.5555555555555556,\"#d8576b\"],[0.6666666666666666,\"#ed7953\"],[0.7777777777777778,\"#fb9f3a\"],[0.8888888888888888,\"#fdca26\"],[1.0,\"#f0f921\"]]}],\"choropleth\":[{\"type\":\"choropleth\",\"colorbar\":{\"outlinewidth\":0,\"ticks\":\"\"}}],\"histogram2d\":[{\"type\":\"histogram2d\",\"colorbar\":{\"outlinewidth\":0,\"ticks\":\"\"},\"colorscale\":[[0.0,\"#0d0887\"],[0.1111111111111111,\"#46039f\"],[0.2222222222222222,\"#7201a8\"],[0.3333333333333333,\"#9c179e\"],[0.4444444444444444,\"#bd3786\"],[0.5555555555555556,\"#d8576b\"],[0.6666666666666666,\"#ed7953\"],[0.7777777777777778,\"#fb9f3a\"],[0.8888888888888888,\"#fdca26\"],[1.0,\"#f0f921\"]]}],\"heatmap\":[{\"type\":\"heatmap\",\"colorbar\":{\"outlinewidth\":0,\"ticks\":\"\"},\"colorscale\":[[0.0,\"#0d0887\"],[0.1111111111111111,\"#46039f\"],[0.2222222222222222,\"#7201a8\"],[0.3333333333333333,\"#9c179e\"],[0.4444444444444444,\"#bd3786\"],[0.5555555555555556,\"#d8576b\"],[0.6666666666666666,\"#ed7953\"],[0.7777777777777778,\"#fb9f3a\"],[0.8888888888888888,\"#fdca26\"],[1.0,\"#f0f921\"]]}],\"heatmapgl\":[{\"type\":\"heatmapgl\",\"colorbar\":{\"outlinewidth\":0,\"ticks\":\"\"},\"colorscale\":[[0.0,\"#0d0887\"],[0.1111111111111111,\"#46039f\"],[0.2222222222222222,\"#7201a8\"],[0.3333333333333333,\"#9c179e\"],[0.4444444444444444,\"#bd3786\"],[0.5555555555555556,\"#d8576b\"],[0.6666666666666666,\"#ed7953\"],[0.7777777777777778,\"#fb9f3a\"],[0.8888888888888888,\"#fdca26\"],[1.0,\"#f0f921\"]]}],\"contourcarpet\":[{\"type\":\"contourcarpet\",\"colorbar\":{\"outlinewidth\":0,\"ticks\":\"\"}}],\"contour\":[{\"type\":\"contour\",\"colorbar\":{\"outlinewidth\":0,\"ticks\":\"\"},\"colorscale\":[[0.0,\"#0d0887\"],[0.1111111111111111,\"#46039f\"],[0.2222222222222222,\"#7201a8\"],[0.3333333333333333,\"#9c179e\"],[0.4444444444444444,\"#bd3786\"],[0.5555555555555556,\"#d8576b\"],[0.6666666666666666,\"#ed7953\"],[0.7777777777777778,\"#fb9f3a\"],[0.8888888888888888,\"#fdca26\"],[1.0,\"#f0f921\"]]}],\"surface\":[{\"type\":\"surface\",\"colorbar\":{\"outlinewidth\":0,\"ticks\":\"\"},\"colorscale\":[[0.0,\"#0d0887\"],[0.1111111111111111,\"#46039f\"],[0.2222222222222222,\"#7201a8\"],[0.3333333333333333,\"#9c179e\"],[0.4444444444444444,\"#bd3786\"],[0.5555555555555556,\"#d8576b\"],[0.6666666666666666,\"#ed7953\"],[0.7777777777777778,\"#fb9f3a\"],[0.8888888888888888,\"#fdca26\"],[1.0,\"#f0f921\"]]}],\"mesh3d\":[{\"type\":\"mesh3d\",\"colorbar\":{\"outlinewidth\":0,\"ticks\":\"\"}}],\"scatter\":[{\"fillpattern\":{\"fillmode\":\"overlay\",\"size\":10,\"solidity\":0.2},\"type\":\"scatter\"}],\"parcoords\":[{\"type\":\"parcoords\",\"line\":{\"colorbar\":{\"outlinewidth\":0,\"ticks\":\"\"}}}],\"scatterpolargl\":[{\"type\":\"scatterpolargl\",\"marker\":{\"colorbar\":{\"outlinewidth\":0,\"ticks\":\"\"}}}],\"bar\":[{\"error_x\":{\"color\":\"#2a3f5f\"},\"error_y\":{\"color\":\"#2a3f5f\"},\"marker\":{\"line\":{\"color\":\"#E5ECF6\",\"width\":0.5},\"pattern\":{\"fillmode\":\"overlay\",\"size\":10,\"solidity\":0.2}},\"type\":\"bar\"}],\"scattergeo\":[{\"type\":\"scattergeo\",\"marker\":{\"colorbar\":{\"outlinewidth\":0,\"ticks\":\"\"}}}],\"scatterpolar\":[{\"type\":\"scatterpolar\",\"marker\":{\"colorbar\":{\"outlinewidth\":0,\"ticks\":\"\"}}}],\"histogram\":[{\"marker\":{\"pattern\":{\"fillmode\":\"overlay\",\"size\":10,\"solidity\":0.2}},\"type\":\"histogram\"}],\"scattergl\":[{\"type\":\"scattergl\",\"marker\":{\"colorbar\":{\"outlinewidth\":0,\"ticks\":\"\"}}}],\"scatter3d\":[{\"type\":\"scatter3d\",\"line\":{\"colorbar\":{\"outlinewidth\":0,\"ticks\":\"\"}},\"marker\":{\"colorbar\":{\"outlinewidth\":0,\"ticks\":\"\"}}}],\"scattermapbox\":[{\"type\":\"scattermapbox\",\"marker\":{\"colorbar\":{\"outlinewidth\":0,\"ticks\":\"\"}}}],\"scatterternary\":[{\"type\":\"scatterternary\",\"marker\":{\"colorbar\":{\"outlinewidth\":0,\"ticks\":\"\"}}}],\"scattercarpet\":[{\"type\":\"scattercarpet\",\"marker\":{\"colorbar\":{\"outlinewidth\":0,\"ticks\":\"\"}}}],\"carpet\":[{\"aaxis\":{\"endlinecolor\":\"#2a3f5f\",\"gridcolor\":\"white\",\"linecolor\":\"white\",\"minorgridcolor\":\"white\",\"startlinecolor\":\"#2a3f5f\"},\"baxis\":{\"endlinecolor\":\"#2a3f5f\",\"gridcolor\":\"white\",\"linecolor\":\"white\",\"minorgridcolor\":\"white\",\"startlinecolor\":\"#2a3f5f\"},\"type\":\"carpet\"}],\"table\":[{\"cells\":{\"fill\":{\"color\":\"#EBF0F8\"},\"line\":{\"color\":\"white\"}},\"header\":{\"fill\":{\"color\":\"#C8D4E3\"},\"line\":{\"color\":\"white\"}},\"type\":\"table\"}],\"barpolar\":[{\"marker\":{\"line\":{\"color\":\"#E5ECF6\",\"width\":0.5},\"pattern\":{\"fillmode\":\"overlay\",\"size\":10,\"solidity\":0.2}},\"type\":\"barpolar\"}],\"pie\":[{\"automargin\":true,\"type\":\"pie\"}]},\"layout\":{\"autotypenumbers\":\"strict\",\"colorway\":[\"#636efa\",\"#EF553B\",\"#00cc96\",\"#ab63fa\",\"#FFA15A\",\"#19d3f3\",\"#FF6692\",\"#B6E880\",\"#FF97FF\",\"#FECB52\"],\"font\":{\"color\":\"#2a3f5f\"},\"hovermode\":\"closest\",\"hoverlabel\":{\"align\":\"left\"},\"paper_bgcolor\":\"white\",\"plot_bgcolor\":\"#E5ECF6\",\"polar\":{\"bgcolor\":\"#E5ECF6\",\"angularaxis\":{\"gridcolor\":\"white\",\"linecolor\":\"white\",\"ticks\":\"\"},\"radialaxis\":{\"gridcolor\":\"white\",\"linecolor\":\"white\",\"ticks\":\"\"}},\"ternary\":{\"bgcolor\":\"#E5ECF6\",\"aaxis\":{\"gridcolor\":\"white\",\"linecolor\":\"white\",\"ticks\":\"\"},\"baxis\":{\"gridcolor\":\"white\",\"linecolor\":\"white\",\"ticks\":\"\"},\"caxis\":{\"gridcolor\":\"white\",\"linecolor\":\"white\",\"ticks\":\"\"}},\"coloraxis\":{\"colorbar\":{\"outlinewidth\":0,\"ticks\":\"\"}},\"colorscale\":{\"sequential\":[[0.0,\"#0d0887\"],[0.1111111111111111,\"#46039f\"],[0.2222222222222222,\"#7201a8\"],[0.3333333333333333,\"#9c179e\"],[0.4444444444444444,\"#bd3786\"],[0.5555555555555556,\"#d8576b\"],[0.6666666666666666,\"#ed7953\"],[0.7777777777777778,\"#fb9f3a\"],[0.8888888888888888,\"#fdca26\"],[1.0,\"#f0f921\"]],\"sequentialminus\":[[0.0,\"#0d0887\"],[0.1111111111111111,\"#46039f\"],[0.2222222222222222,\"#7201a8\"],[0.3333333333333333,\"#9c179e\"],[0.4444444444444444,\"#bd3786\"],[0.5555555555555556,\"#d8576b\"],[0.6666666666666666,\"#ed7953\"],[0.7777777777777778,\"#fb9f3a\"],[0.8888888888888888,\"#fdca26\"],[1.0,\"#f0f921\"]],\"diverging\":[[0,\"#8e0152\"],[0.1,\"#c51b7d\"],[0.2,\"#de77ae\"],[0.3,\"#f1b6da\"],[0.4,\"#fde0ef\"],[0.5,\"#f7f7f7\"],[0.6,\"#e6f5d0\"],[0.7,\"#b8e186\"],[0.8,\"#7fbc41\"],[0.9,\"#4d9221\"],[1,\"#276419\"]]},\"xaxis\":{\"gridcolor\":\"white\",\"linecolor\":\"white\",\"ticks\":\"\",\"title\":{\"standoff\":15},\"zerolinecolor\":\"white\",\"automargin\":true,\"zerolinewidth\":2},\"yaxis\":{\"gridcolor\":\"white\",\"linecolor\":\"white\",\"ticks\":\"\",\"title\":{\"standoff\":15},\"zerolinecolor\":\"white\",\"automargin\":true,\"zerolinewidth\":2},\"scene\":{\"xaxis\":{\"backgroundcolor\":\"#E5ECF6\",\"gridcolor\":\"white\",\"linecolor\":\"white\",\"showbackground\":true,\"ticks\":\"\",\"zerolinecolor\":\"white\",\"gridwidth\":2},\"yaxis\":{\"backgroundcolor\":\"#E5ECF6\",\"gridcolor\":\"white\",\"linecolor\":\"white\",\"showbackground\":true,\"ticks\":\"\",\"zerolinecolor\":\"white\",\"gridwidth\":2},\"zaxis\":{\"backgroundcolor\":\"#E5ECF6\",\"gridcolor\":\"white\",\"linecolor\":\"white\",\"showbackground\":true,\"ticks\":\"\",\"zerolinecolor\":\"white\",\"gridwidth\":2}},\"shapedefaults\":{\"line\":{\"color\":\"#2a3f5f\"}},\"annotationdefaults\":{\"arrowcolor\":\"#2a3f5f\",\"arrowhead\":0,\"arrowwidth\":1},\"geo\":{\"bgcolor\":\"white\",\"landcolor\":\"#E5ECF6\",\"subunitcolor\":\"white\",\"showland\":true,\"showlakes\":true,\"lakecolor\":\"white\"},\"title\":{\"x\":0.05},\"mapbox\":{\"style\":\"light\"}}},\"xaxis\":{\"anchor\":\"y\",\"domain\":[0.0,1.0],\"title\":{\"text\":\"Month\"},\"dtick\":1},\"yaxis\":{\"anchor\":\"x\",\"domain\":[0.0,1.0],\"title\":{\"text\":\"COVID-19 Deaths\"}},\"legend\":{\"title\":{\"text\":\"Year\"},\"tracegroupgap\":0,\"traceorder\":\"reversed\"},\"title\":{\"text\":\"COVID-19 Deaths Monthly Trend - United States\"}},                        {\"responsive\": true}                    ).then(function(){\n",
       "                            \n",
       "var gd = document.getElementById('5aa30459-17ad-4ef3-9080-e9bc2b0aad05');\n",
       "var x = new MutationObserver(function (mutations, observer) {{\n",
       "        var display = window.getComputedStyle(gd).display;\n",
       "        if (!display || display === 'none') {{\n",
       "            console.log([gd, 'removed!']);\n",
       "            Plotly.purge(gd);\n",
       "            observer.disconnect();\n",
       "        }}\n",
       "}});\n",
       "\n",
       "// Listen for the removal of the full notebook cells\n",
       "var notebookContainer = gd.closest('#notebook-container');\n",
       "if (notebookContainer) {{\n",
       "    x.observe(notebookContainer, {childList: true});\n",
       "}}\n",
       "\n",
       "// Listen for the clearing of the current output cell\n",
       "var outputEl = gd.closest('.output');\n",
       "if (outputEl) {{\n",
       "    x.observe(outputEl, {childList: true});\n",
       "}}\n",
       "\n",
       "                        })                };                });            </script>        </div>"
      ]
     },
     "metadata": {},
     "output_type": "display_data"
    }
   ],
   "source": [
    "\"\"\"\n",
    "This script processes a DataFrame `df` to filter and aggregate COVID-19 death data for the United States,\n",
    "grouped by year and month. It then creates a line plot to visualize the monthly trend of COVID-19 deaths.\n",
    "\n",
    "Steps:\n",
    "1. Filter the DataFrame `df` to include only rows where:\n",
    "    - 'State' is 'United States'\n",
    "    - 'Age Group' is 'All Ages'\n",
    "    - 'Sex' is 'All Sexes'\n",
    "2. Group the filtered data by 'Year' and 'Month'.\n",
    "3. Aggregate the grouped data by summing the 'COVID-19 Deaths' column.\n",
    "4. Sort the aggregated data by 'Month'.\n",
    "5. Create a line plot using Plotly Express to visualize the monthly trend of COVID-19 deaths:\n",
    "    - X-axis: 'Month'\n",
    "    - Y-axis: 'COVID-19 Deaths'\n",
    "    - Line color: 'Year'\n",
    "    - Title: 'COVID-19 Deaths Monthly Trend - United States'\n",
    "    - Line shape: 'spline'\n",
    "6. Update the x-axis to have a tick interval of 1.\n",
    "7. Update the layout to reverse the order of the legend traces.\n",
    "8. Display the plot.\n",
    "\"\"\"\n",
    "monthly_treand_by_year = (\n",
    "    df\n",
    "    .filter(\n",
    "        pl.col('State') == 'United States',\n",
    "        pl.col('Age Group') == 'All Ages',\n",
    "        pl.col('Sex') == 'All Sexes'\n",
    "    )\n",
    "    .group_by('Year', 'Month')\n",
    "    .agg(\n",
    "        pl.col('COVID-19 Deaths').sum(),\n",
    "    )\n",
    "    .sort(by='Month')\n",
    ")\n",
    "\n",
    "fig = px.line(\n",
    "    monthly_treand_by_year, \n",
    "    x='Month', \n",
    "    y='COVID-19 Deaths', \n",
    "    color='Year',\n",
    "    title='COVID-19 Deaths Monthly Trend - United States',\n",
    "    line_shape='spline'\n",
    ")\n",
    "\n",
    "fig.update_xaxes(dtick = 1)\n",
    "fig.update_layout(legend_traceorder='reversed')\n",
    "fig.show()"
   ]
  },
  {
   "cell_type": "markdown",
   "metadata": {},
   "source": [
    "## Detecting and handling outliers  "
   ]
  },
  {
   "cell_type": "markdown",
   "metadata": {},
   "source": [
    "### How to do it..."
   ]
  },
  {
   "cell_type": "code",
   "execution_count": 146,
   "metadata": {},
   "outputs": [
    {
     "data": {
      "text/html": [
       "<div><style>\n",
       ".dataframe > thead > tr,\n",
       ".dataframe > tbody > tr {\n",
       "  text-align: right;\n",
       "  white-space: pre-wrap;\n",
       "}\n",
       "</style>\n",
       "<small>shape: (5, 6)</small><table border=\"1\" class=\"dataframe\"><thead><tr><th>sepal_length</th><th>sepal_width</th><th>petal_length</th><th>petal_width</th><th>species</th><th>species_id</th></tr><tr><td>f64</td><td>f64</td><td>f64</td><td>f64</td><td>str</td><td>i64</td></tr></thead><tbody><tr><td>5.1</td><td>3.5</td><td>1.4</td><td>0.2</td><td>&quot;setosa&quot;</td><td>1</td></tr><tr><td>4.9</td><td>3.0</td><td>1.4</td><td>0.2</td><td>&quot;setosa&quot;</td><td>1</td></tr><tr><td>4.7</td><td>3.2</td><td>1.3</td><td>0.2</td><td>&quot;setosa&quot;</td><td>1</td></tr><tr><td>4.6</td><td>3.1</td><td>1.5</td><td>0.2</td><td>&quot;setosa&quot;</td><td>1</td></tr><tr><td>5.0</td><td>3.6</td><td>1.4</td><td>0.2</td><td>&quot;setosa&quot;</td><td>1</td></tr></tbody></table></div>"
      ],
      "text/plain": [
       "shape: (5, 6)\n",
       "┌──────────────┬─────────────┬──────────────┬─────────────┬─────────┬────────────┐\n",
       "│ sepal_length ┆ sepal_width ┆ petal_length ┆ petal_width ┆ species ┆ species_id │\n",
       "│ ---          ┆ ---         ┆ ---          ┆ ---         ┆ ---     ┆ ---        │\n",
       "│ f64          ┆ f64         ┆ f64          ┆ f64         ┆ str     ┆ i64        │\n",
       "╞══════════════╪═════════════╪══════════════╪═════════════╪═════════╪════════════╡\n",
       "│ 5.1          ┆ 3.5         ┆ 1.4          ┆ 0.2         ┆ setosa  ┆ 1          │\n",
       "│ 4.9          ┆ 3.0         ┆ 1.4          ┆ 0.2         ┆ setosa  ┆ 1          │\n",
       "│ 4.7          ┆ 3.2         ┆ 1.3          ┆ 0.2         ┆ setosa  ┆ 1          │\n",
       "│ 4.6          ┆ 3.1         ┆ 1.5          ┆ 0.2         ┆ setosa  ┆ 1          │\n",
       "│ 5.0          ┆ 3.6         ┆ 1.4          ┆ 0.2         ┆ setosa  ┆ 1          │\n",
       "└──────────────┴─────────────┴──────────────┴─────────────┴─────────┴────────────┘"
      ]
     },
     "execution_count": 146,
     "metadata": {},
     "output_type": "execute_result"
    }
   ],
   "source": [
    "import polars as pl\n",
    "\"\"\"\n",
    "This script imports the Polars and Plotly libraries, converts the Iris dataset from a Pandas DataFrame to a Polars DataFrame, and displays the first few rows of the Polars DataFrame.\n",
    "\n",
    "Functions:\n",
    "    None\n",
    "\n",
    "Imports:\n",
    "    polars as pl: Polars library for data manipulation.\n",
    "    plotly: Plotly library for data visualization.\n",
    "\n",
    "Usage:\n",
    "    The script converts the Iris dataset from Plotly to a Polars DataFrame and displays the first few rows using the `head()` method.\n",
    "\"\"\"\n",
    "import plotly \n",
    "df = pl.from_pandas(plotly.data.iris())\n",
    "df.head()"
   ]
  },
  {
   "cell_type": "code",
   "execution_count": 93,
   "metadata": {},
   "outputs": [
    {
     "data": {
      "application/vnd.plotly.v1+json": {
       "config": {
        "plotlyServerURL": "https://plot.ly"
       },
       "data": [
        {
         "alignmentgroup": "True",
         "hovertemplate": "sepal_width=%{y}<extra></extra>",
         "legendgroup": "",
         "marker": {
          "color": "#636efa"
         },
         "name": "",
         "notched": false,
         "offsetgroup": "",
         "orientation": "v",
         "showlegend": false,
         "type": "box",
         "x0": " ",
         "xaxis": "x",
         "y": [
          3.5,
          3,
          3.2,
          3.1,
          3.6,
          3.9,
          3.4,
          3.4,
          2.9,
          3.1,
          3.7,
          3.4,
          3,
          3,
          4,
          4.4,
          3.9,
          3.5,
          3.8,
          3.8,
          3.4,
          3.7,
          3.6,
          3.3,
          3.4,
          3,
          3.4,
          3.5,
          3.4,
          3.2,
          3.1,
          3.4,
          4.1,
          4.2,
          3.1,
          3.2,
          3.5,
          3.1,
          3,
          3.4,
          3.5,
          2.3,
          3.2,
          3.5,
          3.8,
          3,
          3.8,
          3.2,
          3.7,
          3.3,
          3.2,
          3.2,
          3.1,
          2.3,
          2.8,
          2.8,
          3.3,
          2.4,
          2.9,
          2.7,
          2,
          3,
          2.2,
          2.9,
          2.9,
          3.1,
          3,
          2.7,
          2.2,
          2.5,
          3.2,
          2.8,
          2.5,
          2.8,
          2.9,
          3,
          2.8,
          3,
          2.9,
          2.6,
          2.4,
          2.4,
          2.7,
          2.7,
          3,
          3.4,
          3.1,
          2.3,
          3,
          2.5,
          2.6,
          3,
          2.6,
          2.3,
          2.7,
          3,
          2.9,
          2.9,
          2.5,
          2.8,
          3.3,
          2.7,
          3,
          2.9,
          3,
          3,
          2.5,
          2.9,
          2.5,
          3.6,
          3.2,
          2.7,
          3,
          2.5,
          2.8,
          3.2,
          3,
          3.8,
          2.6,
          2.2,
          3.2,
          2.8,
          2.8,
          2.7,
          3.3,
          3.2,
          2.8,
          3,
          2.8,
          3,
          2.8,
          3.8,
          2.8,
          2.8,
          2.6,
          3,
          3.4,
          3.1,
          3,
          3.1,
          3.1,
          3.1,
          2.7,
          3.2,
          3.3,
          3,
          2.5,
          3,
          3.4,
          3
         ],
         "y0": " ",
         "yaxis": "y"
        }
       ],
       "layout": {
        "boxmode": "group",
        "legend": {
         "tracegroupgap": 0
        },
        "margin": {
         "t": 60
        },
        "template": {
         "data": {
          "bar": [
           {
            "error_x": {
             "color": "#2a3f5f"
            },
            "error_y": {
             "color": "#2a3f5f"
            },
            "marker": {
             "line": {
              "color": "#E5ECF6",
              "width": 0.5
             },
             "pattern": {
              "fillmode": "overlay",
              "size": 10,
              "solidity": 0.2
             }
            },
            "type": "bar"
           }
          ],
          "barpolar": [
           {
            "marker": {
             "line": {
              "color": "#E5ECF6",
              "width": 0.5
             },
             "pattern": {
              "fillmode": "overlay",
              "size": 10,
              "solidity": 0.2
             }
            },
            "type": "barpolar"
           }
          ],
          "carpet": [
           {
            "aaxis": {
             "endlinecolor": "#2a3f5f",
             "gridcolor": "white",
             "linecolor": "white",
             "minorgridcolor": "white",
             "startlinecolor": "#2a3f5f"
            },
            "baxis": {
             "endlinecolor": "#2a3f5f",
             "gridcolor": "white",
             "linecolor": "white",
             "minorgridcolor": "white",
             "startlinecolor": "#2a3f5f"
            },
            "type": "carpet"
           }
          ],
          "choropleth": [
           {
            "colorbar": {
             "outlinewidth": 0,
             "ticks": ""
            },
            "type": "choropleth"
           }
          ],
          "contour": [
           {
            "colorbar": {
             "outlinewidth": 0,
             "ticks": ""
            },
            "colorscale": [
             [
              0,
              "#0d0887"
             ],
             [
              0.1111111111111111,
              "#46039f"
             ],
             [
              0.2222222222222222,
              "#7201a8"
             ],
             [
              0.3333333333333333,
              "#9c179e"
             ],
             [
              0.4444444444444444,
              "#bd3786"
             ],
             [
              0.5555555555555556,
              "#d8576b"
             ],
             [
              0.6666666666666666,
              "#ed7953"
             ],
             [
              0.7777777777777778,
              "#fb9f3a"
             ],
             [
              0.8888888888888888,
              "#fdca26"
             ],
             [
              1,
              "#f0f921"
             ]
            ],
            "type": "contour"
           }
          ],
          "contourcarpet": [
           {
            "colorbar": {
             "outlinewidth": 0,
             "ticks": ""
            },
            "type": "contourcarpet"
           }
          ],
          "heatmap": [
           {
            "colorbar": {
             "outlinewidth": 0,
             "ticks": ""
            },
            "colorscale": [
             [
              0,
              "#0d0887"
             ],
             [
              0.1111111111111111,
              "#46039f"
             ],
             [
              0.2222222222222222,
              "#7201a8"
             ],
             [
              0.3333333333333333,
              "#9c179e"
             ],
             [
              0.4444444444444444,
              "#bd3786"
             ],
             [
              0.5555555555555556,
              "#d8576b"
             ],
             [
              0.6666666666666666,
              "#ed7953"
             ],
             [
              0.7777777777777778,
              "#fb9f3a"
             ],
             [
              0.8888888888888888,
              "#fdca26"
             ],
             [
              1,
              "#f0f921"
             ]
            ],
            "type": "heatmap"
           }
          ],
          "heatmapgl": [
           {
            "colorbar": {
             "outlinewidth": 0,
             "ticks": ""
            },
            "colorscale": [
             [
              0,
              "#0d0887"
             ],
             [
              0.1111111111111111,
              "#46039f"
             ],
             [
              0.2222222222222222,
              "#7201a8"
             ],
             [
              0.3333333333333333,
              "#9c179e"
             ],
             [
              0.4444444444444444,
              "#bd3786"
             ],
             [
              0.5555555555555556,
              "#d8576b"
             ],
             [
              0.6666666666666666,
              "#ed7953"
             ],
             [
              0.7777777777777778,
              "#fb9f3a"
             ],
             [
              0.8888888888888888,
              "#fdca26"
             ],
             [
              1,
              "#f0f921"
             ]
            ],
            "type": "heatmapgl"
           }
          ],
          "histogram": [
           {
            "marker": {
             "pattern": {
              "fillmode": "overlay",
              "size": 10,
              "solidity": 0.2
             }
            },
            "type": "histogram"
           }
          ],
          "histogram2d": [
           {
            "colorbar": {
             "outlinewidth": 0,
             "ticks": ""
            },
            "colorscale": [
             [
              0,
              "#0d0887"
             ],
             [
              0.1111111111111111,
              "#46039f"
             ],
             [
              0.2222222222222222,
              "#7201a8"
             ],
             [
              0.3333333333333333,
              "#9c179e"
             ],
             [
              0.4444444444444444,
              "#bd3786"
             ],
             [
              0.5555555555555556,
              "#d8576b"
             ],
             [
              0.6666666666666666,
              "#ed7953"
             ],
             [
              0.7777777777777778,
              "#fb9f3a"
             ],
             [
              0.8888888888888888,
              "#fdca26"
             ],
             [
              1,
              "#f0f921"
             ]
            ],
            "type": "histogram2d"
           }
          ],
          "histogram2dcontour": [
           {
            "colorbar": {
             "outlinewidth": 0,
             "ticks": ""
            },
            "colorscale": [
             [
              0,
              "#0d0887"
             ],
             [
              0.1111111111111111,
              "#46039f"
             ],
             [
              0.2222222222222222,
              "#7201a8"
             ],
             [
              0.3333333333333333,
              "#9c179e"
             ],
             [
              0.4444444444444444,
              "#bd3786"
             ],
             [
              0.5555555555555556,
              "#d8576b"
             ],
             [
              0.6666666666666666,
              "#ed7953"
             ],
             [
              0.7777777777777778,
              "#fb9f3a"
             ],
             [
              0.8888888888888888,
              "#fdca26"
             ],
             [
              1,
              "#f0f921"
             ]
            ],
            "type": "histogram2dcontour"
           }
          ],
          "mesh3d": [
           {
            "colorbar": {
             "outlinewidth": 0,
             "ticks": ""
            },
            "type": "mesh3d"
           }
          ],
          "parcoords": [
           {
            "line": {
             "colorbar": {
              "outlinewidth": 0,
              "ticks": ""
             }
            },
            "type": "parcoords"
           }
          ],
          "pie": [
           {
            "automargin": true,
            "type": "pie"
           }
          ],
          "scatter": [
           {
            "fillpattern": {
             "fillmode": "overlay",
             "size": 10,
             "solidity": 0.2
            },
            "type": "scatter"
           }
          ],
          "scatter3d": [
           {
            "line": {
             "colorbar": {
              "outlinewidth": 0,
              "ticks": ""
             }
            },
            "marker": {
             "colorbar": {
              "outlinewidth": 0,
              "ticks": ""
             }
            },
            "type": "scatter3d"
           }
          ],
          "scattercarpet": [
           {
            "marker": {
             "colorbar": {
              "outlinewidth": 0,
              "ticks": ""
             }
            },
            "type": "scattercarpet"
           }
          ],
          "scattergeo": [
           {
            "marker": {
             "colorbar": {
              "outlinewidth": 0,
              "ticks": ""
             }
            },
            "type": "scattergeo"
           }
          ],
          "scattergl": [
           {
            "marker": {
             "colorbar": {
              "outlinewidth": 0,
              "ticks": ""
             }
            },
            "type": "scattergl"
           }
          ],
          "scattermapbox": [
           {
            "marker": {
             "colorbar": {
              "outlinewidth": 0,
              "ticks": ""
             }
            },
            "type": "scattermapbox"
           }
          ],
          "scatterpolar": [
           {
            "marker": {
             "colorbar": {
              "outlinewidth": 0,
              "ticks": ""
             }
            },
            "type": "scatterpolar"
           }
          ],
          "scatterpolargl": [
           {
            "marker": {
             "colorbar": {
              "outlinewidth": 0,
              "ticks": ""
             }
            },
            "type": "scatterpolargl"
           }
          ],
          "scatterternary": [
           {
            "marker": {
             "colorbar": {
              "outlinewidth": 0,
              "ticks": ""
             }
            },
            "type": "scatterternary"
           }
          ],
          "surface": [
           {
            "colorbar": {
             "outlinewidth": 0,
             "ticks": ""
            },
            "colorscale": [
             [
              0,
              "#0d0887"
             ],
             [
              0.1111111111111111,
              "#46039f"
             ],
             [
              0.2222222222222222,
              "#7201a8"
             ],
             [
              0.3333333333333333,
              "#9c179e"
             ],
             [
              0.4444444444444444,
              "#bd3786"
             ],
             [
              0.5555555555555556,
              "#d8576b"
             ],
             [
              0.6666666666666666,
              "#ed7953"
             ],
             [
              0.7777777777777778,
              "#fb9f3a"
             ],
             [
              0.8888888888888888,
              "#fdca26"
             ],
             [
              1,
              "#f0f921"
             ]
            ],
            "type": "surface"
           }
          ],
          "table": [
           {
            "cells": {
             "fill": {
              "color": "#EBF0F8"
             },
             "line": {
              "color": "white"
             }
            },
            "header": {
             "fill": {
              "color": "#C8D4E3"
             },
             "line": {
              "color": "white"
             }
            },
            "type": "table"
           }
          ]
         },
         "layout": {
          "annotationdefaults": {
           "arrowcolor": "#2a3f5f",
           "arrowhead": 0,
           "arrowwidth": 1
          },
          "autotypenumbers": "strict",
          "coloraxis": {
           "colorbar": {
            "outlinewidth": 0,
            "ticks": ""
           }
          },
          "colorscale": {
           "diverging": [
            [
             0,
             "#8e0152"
            ],
            [
             0.1,
             "#c51b7d"
            ],
            [
             0.2,
             "#de77ae"
            ],
            [
             0.3,
             "#f1b6da"
            ],
            [
             0.4,
             "#fde0ef"
            ],
            [
             0.5,
             "#f7f7f7"
            ],
            [
             0.6,
             "#e6f5d0"
            ],
            [
             0.7,
             "#b8e186"
            ],
            [
             0.8,
             "#7fbc41"
            ],
            [
             0.9,
             "#4d9221"
            ],
            [
             1,
             "#276419"
            ]
           ],
           "sequential": [
            [
             0,
             "#0d0887"
            ],
            [
             0.1111111111111111,
             "#46039f"
            ],
            [
             0.2222222222222222,
             "#7201a8"
            ],
            [
             0.3333333333333333,
             "#9c179e"
            ],
            [
             0.4444444444444444,
             "#bd3786"
            ],
            [
             0.5555555555555556,
             "#d8576b"
            ],
            [
             0.6666666666666666,
             "#ed7953"
            ],
            [
             0.7777777777777778,
             "#fb9f3a"
            ],
            [
             0.8888888888888888,
             "#fdca26"
            ],
            [
             1,
             "#f0f921"
            ]
           ],
           "sequentialminus": [
            [
             0,
             "#0d0887"
            ],
            [
             0.1111111111111111,
             "#46039f"
            ],
            [
             0.2222222222222222,
             "#7201a8"
            ],
            [
             0.3333333333333333,
             "#9c179e"
            ],
            [
             0.4444444444444444,
             "#bd3786"
            ],
            [
             0.5555555555555556,
             "#d8576b"
            ],
            [
             0.6666666666666666,
             "#ed7953"
            ],
            [
             0.7777777777777778,
             "#fb9f3a"
            ],
            [
             0.8888888888888888,
             "#fdca26"
            ],
            [
             1,
             "#f0f921"
            ]
           ]
          },
          "colorway": [
           "#636efa",
           "#EF553B",
           "#00cc96",
           "#ab63fa",
           "#FFA15A",
           "#19d3f3",
           "#FF6692",
           "#B6E880",
           "#FF97FF",
           "#FECB52"
          ],
          "font": {
           "color": "#2a3f5f"
          },
          "geo": {
           "bgcolor": "white",
           "lakecolor": "white",
           "landcolor": "#E5ECF6",
           "showlakes": true,
           "showland": true,
           "subunitcolor": "white"
          },
          "hoverlabel": {
           "align": "left"
          },
          "hovermode": "closest",
          "mapbox": {
           "style": "light"
          },
          "paper_bgcolor": "white",
          "plot_bgcolor": "#E5ECF6",
          "polar": {
           "angularaxis": {
            "gridcolor": "white",
            "linecolor": "white",
            "ticks": ""
           },
           "bgcolor": "#E5ECF6",
           "radialaxis": {
            "gridcolor": "white",
            "linecolor": "white",
            "ticks": ""
           }
          },
          "scene": {
           "xaxis": {
            "backgroundcolor": "#E5ECF6",
            "gridcolor": "white",
            "gridwidth": 2,
            "linecolor": "white",
            "showbackground": true,
            "ticks": "",
            "zerolinecolor": "white"
           },
           "yaxis": {
            "backgroundcolor": "#E5ECF6",
            "gridcolor": "white",
            "gridwidth": 2,
            "linecolor": "white",
            "showbackground": true,
            "ticks": "",
            "zerolinecolor": "white"
           },
           "zaxis": {
            "backgroundcolor": "#E5ECF6",
            "gridcolor": "white",
            "gridwidth": 2,
            "linecolor": "white",
            "showbackground": true,
            "ticks": "",
            "zerolinecolor": "white"
           }
          },
          "shapedefaults": {
           "line": {
            "color": "#2a3f5f"
           }
          },
          "ternary": {
           "aaxis": {
            "gridcolor": "white",
            "linecolor": "white",
            "ticks": ""
           },
           "baxis": {
            "gridcolor": "white",
            "linecolor": "white",
            "ticks": ""
           },
           "bgcolor": "#E5ECF6",
           "caxis": {
            "gridcolor": "white",
            "linecolor": "white",
            "ticks": ""
           }
          },
          "title": {
           "x": 0.05
          },
          "xaxis": {
           "automargin": true,
           "gridcolor": "white",
           "linecolor": "white",
           "ticks": "",
           "title": {
            "standoff": 15
           },
           "zerolinecolor": "white",
           "zerolinewidth": 2
          },
          "yaxis": {
           "automargin": true,
           "gridcolor": "white",
           "linecolor": "white",
           "ticks": "",
           "title": {
            "standoff": 15
           },
           "zerolinecolor": "white",
           "zerolinewidth": 2
          }
         }
        },
        "width": 500,
        "xaxis": {
         "anchor": "y",
         "domain": [
          0,
          1
         ]
        },
        "yaxis": {
         "anchor": "x",
         "domain": [
          0,
          1
         ],
         "title": {
          "text": "sepal_width"
         }
        }
       }
      },
      "text/html": [
       "<div>                            <div id=\"08e71cb3-9832-4907-a608-e5c71d6845d7\" class=\"plotly-graph-div\" style=\"height:525px; width:500px;\"></div>            <script type=\"text/javascript\">                require([\"plotly\"], function(Plotly) {                    window.PLOTLYENV=window.PLOTLYENV || {};                                    if (document.getElementById(\"08e71cb3-9832-4907-a608-e5c71d6845d7\")) {                    Plotly.newPlot(                        \"08e71cb3-9832-4907-a608-e5c71d6845d7\",                        [{\"alignmentgroup\":\"True\",\"hovertemplate\":\"sepal_width=%{y}\\u003cextra\\u003e\\u003c\\u002fextra\\u003e\",\"legendgroup\":\"\",\"marker\":{\"color\":\"#636efa\"},\"name\":\"\",\"notched\":false,\"offsetgroup\":\"\",\"orientation\":\"v\",\"showlegend\":false,\"x0\":\" \",\"xaxis\":\"x\",\"y\":[3.5,3.0,3.2,3.1,3.6,3.9,3.4,3.4,2.9,3.1,3.7,3.4,3.0,3.0,4.0,4.4,3.9,3.5,3.8,3.8,3.4,3.7,3.6,3.3,3.4,3.0,3.4,3.5,3.4,3.2,3.1,3.4,4.1,4.2,3.1,3.2,3.5,3.1,3.0,3.4,3.5,2.3,3.2,3.5,3.8,3.0,3.8,3.2,3.7,3.3,3.2,3.2,3.1,2.3,2.8,2.8,3.3,2.4,2.9,2.7,2.0,3.0,2.2,2.9,2.9,3.1,3.0,2.7,2.2,2.5,3.2,2.8,2.5,2.8,2.9,3.0,2.8,3.0,2.9,2.6,2.4,2.4,2.7,2.7,3.0,3.4,3.1,2.3,3.0,2.5,2.6,3.0,2.6,2.3,2.7,3.0,2.9,2.9,2.5,2.8,3.3,2.7,3.0,2.9,3.0,3.0,2.5,2.9,2.5,3.6,3.2,2.7,3.0,2.5,2.8,3.2,3.0,3.8,2.6,2.2,3.2,2.8,2.8,2.7,3.3,3.2,2.8,3.0,2.8,3.0,2.8,3.8,2.8,2.8,2.6,3.0,3.4,3.1,3.0,3.1,3.1,3.1,2.7,3.2,3.3,3.0,2.5,3.0,3.4,3.0],\"y0\":\" \",\"yaxis\":\"y\",\"type\":\"box\"}],                        {\"template\":{\"data\":{\"histogram2dcontour\":[{\"type\":\"histogram2dcontour\",\"colorbar\":{\"outlinewidth\":0,\"ticks\":\"\"},\"colorscale\":[[0.0,\"#0d0887\"],[0.1111111111111111,\"#46039f\"],[0.2222222222222222,\"#7201a8\"],[0.3333333333333333,\"#9c179e\"],[0.4444444444444444,\"#bd3786\"],[0.5555555555555556,\"#d8576b\"],[0.6666666666666666,\"#ed7953\"],[0.7777777777777778,\"#fb9f3a\"],[0.8888888888888888,\"#fdca26\"],[1.0,\"#f0f921\"]]}],\"choropleth\":[{\"type\":\"choropleth\",\"colorbar\":{\"outlinewidth\":0,\"ticks\":\"\"}}],\"histogram2d\":[{\"type\":\"histogram2d\",\"colorbar\":{\"outlinewidth\":0,\"ticks\":\"\"},\"colorscale\":[[0.0,\"#0d0887\"],[0.1111111111111111,\"#46039f\"],[0.2222222222222222,\"#7201a8\"],[0.3333333333333333,\"#9c179e\"],[0.4444444444444444,\"#bd3786\"],[0.5555555555555556,\"#d8576b\"],[0.6666666666666666,\"#ed7953\"],[0.7777777777777778,\"#fb9f3a\"],[0.8888888888888888,\"#fdca26\"],[1.0,\"#f0f921\"]]}],\"heatmap\":[{\"type\":\"heatmap\",\"colorbar\":{\"outlinewidth\":0,\"ticks\":\"\"},\"colorscale\":[[0.0,\"#0d0887\"],[0.1111111111111111,\"#46039f\"],[0.2222222222222222,\"#7201a8\"],[0.3333333333333333,\"#9c179e\"],[0.4444444444444444,\"#bd3786\"],[0.5555555555555556,\"#d8576b\"],[0.6666666666666666,\"#ed7953\"],[0.7777777777777778,\"#fb9f3a\"],[0.8888888888888888,\"#fdca26\"],[1.0,\"#f0f921\"]]}],\"heatmapgl\":[{\"type\":\"heatmapgl\",\"colorbar\":{\"outlinewidth\":0,\"ticks\":\"\"},\"colorscale\":[[0.0,\"#0d0887\"],[0.1111111111111111,\"#46039f\"],[0.2222222222222222,\"#7201a8\"],[0.3333333333333333,\"#9c179e\"],[0.4444444444444444,\"#bd3786\"],[0.5555555555555556,\"#d8576b\"],[0.6666666666666666,\"#ed7953\"],[0.7777777777777778,\"#fb9f3a\"],[0.8888888888888888,\"#fdca26\"],[1.0,\"#f0f921\"]]}],\"contourcarpet\":[{\"type\":\"contourcarpet\",\"colorbar\":{\"outlinewidth\":0,\"ticks\":\"\"}}],\"contour\":[{\"type\":\"contour\",\"colorbar\":{\"outlinewidth\":0,\"ticks\":\"\"},\"colorscale\":[[0.0,\"#0d0887\"],[0.1111111111111111,\"#46039f\"],[0.2222222222222222,\"#7201a8\"],[0.3333333333333333,\"#9c179e\"],[0.4444444444444444,\"#bd3786\"],[0.5555555555555556,\"#d8576b\"],[0.6666666666666666,\"#ed7953\"],[0.7777777777777778,\"#fb9f3a\"],[0.8888888888888888,\"#fdca26\"],[1.0,\"#f0f921\"]]}],\"surface\":[{\"type\":\"surface\",\"colorbar\":{\"outlinewidth\":0,\"ticks\":\"\"},\"colorscale\":[[0.0,\"#0d0887\"],[0.1111111111111111,\"#46039f\"],[0.2222222222222222,\"#7201a8\"],[0.3333333333333333,\"#9c179e\"],[0.4444444444444444,\"#bd3786\"],[0.5555555555555556,\"#d8576b\"],[0.6666666666666666,\"#ed7953\"],[0.7777777777777778,\"#fb9f3a\"],[0.8888888888888888,\"#fdca26\"],[1.0,\"#f0f921\"]]}],\"mesh3d\":[{\"type\":\"mesh3d\",\"colorbar\":{\"outlinewidth\":0,\"ticks\":\"\"}}],\"scatter\":[{\"fillpattern\":{\"fillmode\":\"overlay\",\"size\":10,\"solidity\":0.2},\"type\":\"scatter\"}],\"parcoords\":[{\"type\":\"parcoords\",\"line\":{\"colorbar\":{\"outlinewidth\":0,\"ticks\":\"\"}}}],\"scatterpolargl\":[{\"type\":\"scatterpolargl\",\"marker\":{\"colorbar\":{\"outlinewidth\":0,\"ticks\":\"\"}}}],\"bar\":[{\"error_x\":{\"color\":\"#2a3f5f\"},\"error_y\":{\"color\":\"#2a3f5f\"},\"marker\":{\"line\":{\"color\":\"#E5ECF6\",\"width\":0.5},\"pattern\":{\"fillmode\":\"overlay\",\"size\":10,\"solidity\":0.2}},\"type\":\"bar\"}],\"scattergeo\":[{\"type\":\"scattergeo\",\"marker\":{\"colorbar\":{\"outlinewidth\":0,\"ticks\":\"\"}}}],\"scatterpolar\":[{\"type\":\"scatterpolar\",\"marker\":{\"colorbar\":{\"outlinewidth\":0,\"ticks\":\"\"}}}],\"histogram\":[{\"marker\":{\"pattern\":{\"fillmode\":\"overlay\",\"size\":10,\"solidity\":0.2}},\"type\":\"histogram\"}],\"scattergl\":[{\"type\":\"scattergl\",\"marker\":{\"colorbar\":{\"outlinewidth\":0,\"ticks\":\"\"}}}],\"scatter3d\":[{\"type\":\"scatter3d\",\"line\":{\"colorbar\":{\"outlinewidth\":0,\"ticks\":\"\"}},\"marker\":{\"colorbar\":{\"outlinewidth\":0,\"ticks\":\"\"}}}],\"scattermapbox\":[{\"type\":\"scattermapbox\",\"marker\":{\"colorbar\":{\"outlinewidth\":0,\"ticks\":\"\"}}}],\"scatterternary\":[{\"type\":\"scatterternary\",\"marker\":{\"colorbar\":{\"outlinewidth\":0,\"ticks\":\"\"}}}],\"scattercarpet\":[{\"type\":\"scattercarpet\",\"marker\":{\"colorbar\":{\"outlinewidth\":0,\"ticks\":\"\"}}}],\"carpet\":[{\"aaxis\":{\"endlinecolor\":\"#2a3f5f\",\"gridcolor\":\"white\",\"linecolor\":\"white\",\"minorgridcolor\":\"white\",\"startlinecolor\":\"#2a3f5f\"},\"baxis\":{\"endlinecolor\":\"#2a3f5f\",\"gridcolor\":\"white\",\"linecolor\":\"white\",\"minorgridcolor\":\"white\",\"startlinecolor\":\"#2a3f5f\"},\"type\":\"carpet\"}],\"table\":[{\"cells\":{\"fill\":{\"color\":\"#EBF0F8\"},\"line\":{\"color\":\"white\"}},\"header\":{\"fill\":{\"color\":\"#C8D4E3\"},\"line\":{\"color\":\"white\"}},\"type\":\"table\"}],\"barpolar\":[{\"marker\":{\"line\":{\"color\":\"#E5ECF6\",\"width\":0.5},\"pattern\":{\"fillmode\":\"overlay\",\"size\":10,\"solidity\":0.2}},\"type\":\"barpolar\"}],\"pie\":[{\"automargin\":true,\"type\":\"pie\"}]},\"layout\":{\"autotypenumbers\":\"strict\",\"colorway\":[\"#636efa\",\"#EF553B\",\"#00cc96\",\"#ab63fa\",\"#FFA15A\",\"#19d3f3\",\"#FF6692\",\"#B6E880\",\"#FF97FF\",\"#FECB52\"],\"font\":{\"color\":\"#2a3f5f\"},\"hovermode\":\"closest\",\"hoverlabel\":{\"align\":\"left\"},\"paper_bgcolor\":\"white\",\"plot_bgcolor\":\"#E5ECF6\",\"polar\":{\"bgcolor\":\"#E5ECF6\",\"angularaxis\":{\"gridcolor\":\"white\",\"linecolor\":\"white\",\"ticks\":\"\"},\"radialaxis\":{\"gridcolor\":\"white\",\"linecolor\":\"white\",\"ticks\":\"\"}},\"ternary\":{\"bgcolor\":\"#E5ECF6\",\"aaxis\":{\"gridcolor\":\"white\",\"linecolor\":\"white\",\"ticks\":\"\"},\"baxis\":{\"gridcolor\":\"white\",\"linecolor\":\"white\",\"ticks\":\"\"},\"caxis\":{\"gridcolor\":\"white\",\"linecolor\":\"white\",\"ticks\":\"\"}},\"coloraxis\":{\"colorbar\":{\"outlinewidth\":0,\"ticks\":\"\"}},\"colorscale\":{\"sequential\":[[0.0,\"#0d0887\"],[0.1111111111111111,\"#46039f\"],[0.2222222222222222,\"#7201a8\"],[0.3333333333333333,\"#9c179e\"],[0.4444444444444444,\"#bd3786\"],[0.5555555555555556,\"#d8576b\"],[0.6666666666666666,\"#ed7953\"],[0.7777777777777778,\"#fb9f3a\"],[0.8888888888888888,\"#fdca26\"],[1.0,\"#f0f921\"]],\"sequentialminus\":[[0.0,\"#0d0887\"],[0.1111111111111111,\"#46039f\"],[0.2222222222222222,\"#7201a8\"],[0.3333333333333333,\"#9c179e\"],[0.4444444444444444,\"#bd3786\"],[0.5555555555555556,\"#d8576b\"],[0.6666666666666666,\"#ed7953\"],[0.7777777777777778,\"#fb9f3a\"],[0.8888888888888888,\"#fdca26\"],[1.0,\"#f0f921\"]],\"diverging\":[[0,\"#8e0152\"],[0.1,\"#c51b7d\"],[0.2,\"#de77ae\"],[0.3,\"#f1b6da\"],[0.4,\"#fde0ef\"],[0.5,\"#f7f7f7\"],[0.6,\"#e6f5d0\"],[0.7,\"#b8e186\"],[0.8,\"#7fbc41\"],[0.9,\"#4d9221\"],[1,\"#276419\"]]},\"xaxis\":{\"gridcolor\":\"white\",\"linecolor\":\"white\",\"ticks\":\"\",\"title\":{\"standoff\":15},\"zerolinecolor\":\"white\",\"automargin\":true,\"zerolinewidth\":2},\"yaxis\":{\"gridcolor\":\"white\",\"linecolor\":\"white\",\"ticks\":\"\",\"title\":{\"standoff\":15},\"zerolinecolor\":\"white\",\"automargin\":true,\"zerolinewidth\":2},\"scene\":{\"xaxis\":{\"backgroundcolor\":\"#E5ECF6\",\"gridcolor\":\"white\",\"linecolor\":\"white\",\"showbackground\":true,\"ticks\":\"\",\"zerolinecolor\":\"white\",\"gridwidth\":2},\"yaxis\":{\"backgroundcolor\":\"#E5ECF6\",\"gridcolor\":\"white\",\"linecolor\":\"white\",\"showbackground\":true,\"ticks\":\"\",\"zerolinecolor\":\"white\",\"gridwidth\":2},\"zaxis\":{\"backgroundcolor\":\"#E5ECF6\",\"gridcolor\":\"white\",\"linecolor\":\"white\",\"showbackground\":true,\"ticks\":\"\",\"zerolinecolor\":\"white\",\"gridwidth\":2}},\"shapedefaults\":{\"line\":{\"color\":\"#2a3f5f\"}},\"annotationdefaults\":{\"arrowcolor\":\"#2a3f5f\",\"arrowhead\":0,\"arrowwidth\":1},\"geo\":{\"bgcolor\":\"white\",\"landcolor\":\"#E5ECF6\",\"subunitcolor\":\"white\",\"showland\":true,\"showlakes\":true,\"lakecolor\":\"white\"},\"title\":{\"x\":0.05},\"mapbox\":{\"style\":\"light\"}}},\"xaxis\":{\"anchor\":\"y\",\"domain\":[0.0,1.0]},\"yaxis\":{\"anchor\":\"x\",\"domain\":[0.0,1.0],\"title\":{\"text\":\"sepal_width\"}},\"legend\":{\"tracegroupgap\":0},\"margin\":{\"t\":60},\"boxmode\":\"group\",\"width\":500},                        {\"responsive\": true}                    ).then(function(){\n",
       "                            \n",
       "var gd = document.getElementById('08e71cb3-9832-4907-a608-e5c71d6845d7');\n",
       "var x = new MutationObserver(function (mutations, observer) {{\n",
       "        var display = window.getComputedStyle(gd).display;\n",
       "        if (!display || display === 'none') {{\n",
       "            console.log([gd, 'removed!']);\n",
       "            Plotly.purge(gd);\n",
       "            observer.disconnect();\n",
       "        }}\n",
       "}});\n",
       "\n",
       "// Listen for the removal of the full notebook cells\n",
       "var notebookContainer = gd.closest('#notebook-container');\n",
       "if (notebookContainer) {{\n",
       "    x.observe(notebookContainer, {childList: true});\n",
       "}}\n",
       "\n",
       "// Listen for the clearing of the current output cell\n",
       "var outputEl = gd.closest('.output');\n",
       "if (outputEl) {{\n",
       "    x.observe(outputEl, {childList: true});\n",
       "}}\n",
       "\n",
       "                        })                };                });            </script>        </div>"
      ]
     },
     "metadata": {},
     "output_type": "display_data"
    }
   ],
   "source": [
    "import plotly.express as px\n",
    "\n",
    "fig = px.box(df, y='sepal_width', width=500)\n",
    "fig.show()"
   ]
  },
  {
   "cell_type": "code",
   "execution_count": 147,
   "metadata": {},
   "outputs": [
    {
     "data": {
      "text/html": [
       "<div><style>\n",
       ".dataframe > thead > tr,\n",
       ".dataframe > tbody > tr {\n",
       "  text-align: right;\n",
       "  white-space: pre-wrap;\n",
       "}\n",
       "</style>\n",
       "<small>shape: (4, 6)</small><table border=\"1\" class=\"dataframe\"><thead><tr><th>sepal_length</th><th>sepal_width</th><th>petal_length</th><th>petal_width</th><th>species</th><th>species_id</th></tr><tr><td>f64</td><td>f64</td><td>f64</td><td>f64</td><td>str</td><td>i64</td></tr></thead><tbody><tr><td>5.7</td><td>4.4</td><td>1.5</td><td>0.4</td><td>&quot;setosa&quot;</td><td>1</td></tr><tr><td>5.2</td><td>4.1</td><td>1.5</td><td>0.1</td><td>&quot;setosa&quot;</td><td>1</td></tr><tr><td>5.5</td><td>4.2</td><td>1.4</td><td>0.2</td><td>&quot;setosa&quot;</td><td>1</td></tr><tr><td>5.0</td><td>2.0</td><td>3.5</td><td>1.0</td><td>&quot;versicolor&quot;</td><td>2</td></tr></tbody></table></div>"
      ],
      "text/plain": [
       "shape: (4, 6)\n",
       "┌──────────────┬─────────────┬──────────────┬─────────────┬────────────┬────────────┐\n",
       "│ sepal_length ┆ sepal_width ┆ petal_length ┆ petal_width ┆ species    ┆ species_id │\n",
       "│ ---          ┆ ---         ┆ ---          ┆ ---         ┆ ---        ┆ ---        │\n",
       "│ f64          ┆ f64         ┆ f64          ┆ f64         ┆ str        ┆ i64        │\n",
       "╞══════════════╪═════════════╪══════════════╪═════════════╪════════════╪════════════╡\n",
       "│ 5.7          ┆ 4.4         ┆ 1.5          ┆ 0.4         ┆ setosa     ┆ 1          │\n",
       "│ 5.2          ┆ 4.1         ┆ 1.5          ┆ 0.1         ┆ setosa     ┆ 1          │\n",
       "│ 5.5          ┆ 4.2         ┆ 1.4          ┆ 0.2         ┆ setosa     ┆ 1          │\n",
       "│ 5.0          ┆ 2.0         ┆ 3.5          ┆ 1.0         ┆ versicolor ┆ 2          │\n",
       "└──────────────┴─────────────┴──────────────┴─────────────┴────────────┴────────────┘"
      ]
     },
     "execution_count": 147,
     "metadata": {},
     "output_type": "execute_result"
    }
   ],
   "source": [
    "q1 = pl.col('sepal_width').quantile(0.25)\n",
    "\"\"\"\n",
    "Filters the DataFrame to find outliers in the 'sepal_width' column based on the IQR method.\n",
    "\n",
    "This function calculates the first quartile (Q1) and third quartile (Q3) of the 'sepal_width' column,\n",
    "then computes the interquartile range (IQR) as the difference between Q3 and Q1. It defines the lower\n",
    "and upper limits for outliers as Q1 - 1.5 * IQR and Q3 + 1.5 * IQR, respectively. The DataFrame is then\n",
    "filtered to include only the rows where 'sepal_width' is less than the lower limit or greater than the\n",
    "upper limit, effectively identifying the outliers.\n",
    "\n",
    "Returns:\n",
    "    DataFrame: A DataFrame containing the rows where 'sepal_width' is an outlier.\n",
    "\"\"\"\n",
    "q3 = pl.col('sepal_width').quantile(0.75)\n",
    "iqr = q3 - q1\n",
    "threshold = 1.5\n",
    "lower_limit = q1 - iqr * threshold\n",
    "upper_limit = q3 + iqr * threshold\n",
    "\n",
    "df.filter(\n",
    "    (pl.col('sepal_width') < lower_limit) | (pl.col('sepal_width') > upper_limit)\n",
    ").head()"
   ]
  },
  {
   "cell_type": "code",
   "execution_count": 148,
   "metadata": {},
   "outputs": [
    {
     "data": {
      "text/html": [
       "<div><style>\n",
       ".dataframe > thead > tr,\n",
       ".dataframe > tbody > tr {\n",
       "  text-align: right;\n",
       "  white-space: pre-wrap;\n",
       "}\n",
       "</style>\n",
       "<small>shape: (0, 6)</small><table border=\"1\" class=\"dataframe\"><thead><tr><th>sepal_length</th><th>sepal_width</th><th>petal_length</th><th>petal_width</th><th>species</th><th>species_id</th></tr><tr><td>f64</td><td>f64</td><td>f64</td><td>f64</td><td>str</td><td>i64</td></tr></thead><tbody></tbody></table></div>"
      ],
      "text/plain": [
       "shape: (0, 6)\n",
       "┌──────────────┬─────────────┬──────────────┬─────────────┬─────────┬────────────┐\n",
       "│ sepal_length ┆ sepal_width ┆ petal_length ┆ petal_width ┆ species ┆ species_id │\n",
       "│ ---          ┆ ---         ┆ ---          ┆ ---         ┆ ---     ┆ ---        │\n",
       "│ f64          ┆ f64         ┆ f64          ┆ f64         ┆ str     ┆ i64        │\n",
       "╞══════════════╪═════════════╪══════════════╪═════════════╪═════════╪════════════╡\n",
       "└──────────────┴─────────────┴──────────────┴─────────────┴─────────┴────────────┘"
      ]
     },
     "execution_count": 148,
     "metadata": {},
     "output_type": "execute_result"
    }
   ],
   "source": [
    "is_outlier_iqr = (pl.col('sepal_width') < lower_limit) | (pl.col('sepal_width') > upper_limit)\n",
    "\"\"\"\n",
    "This code snippet identifies and removes outliers from a DataFrame based on the IQR method for the 'sepal_width' column.\n",
    "\n",
    "Variables:\n",
    "- is_outlier_iqr: A boolean expression that identifies rows where 'sepal_width' is either below the lower limit or above the upper limit.\n",
    "- df_iqr_outlier_removed: A DataFrame with outliers removed based on the IQR method.\n",
    "\n",
    "Steps:\n",
    "1. Define a boolean condition `is_outlier_iqr` to identify outliers in the 'sepal_width' column.\n",
    "2. Filter the DataFrame `df` to remove rows where `is_outlier_iqr` is True, resulting in `df_iqr_outlier_removed`.\n",
    "3. Filter `df_iqr_outlier_removed` to show rows where `is_outlier_iqr` is True, which should return an empty DataFrame if all outliers were successfully removed.\n",
    "\"\"\"\n",
    "df_iqr_outlier_removed = (\n",
    "    df\n",
    "    .filter(is_outlier_iqr.not_())\n",
    ")\n",
    "df_iqr_outlier_removed.filter(is_outlier_iqr)"
   ]
  },
  {
   "cell_type": "code",
   "execution_count": 153,
   "metadata": {},
   "outputs": [
    {
     "data": {
      "text/html": [
       "<div><style>\n",
       ".dataframe > thead > tr,\n",
       ".dataframe > tbody > tr {\n",
       "  text-align: right;\n",
       "  white-space: pre-wrap;\n",
       "}\n",
       "</style>\n",
       "<small>shape: (0, 6)</small><table border=\"1\" class=\"dataframe\"><thead><tr><th>sepal_length</th><th>sepal_width</th><th>petal_length</th><th>petal_width</th><th>species</th><th>species_id</th></tr><tr><td>f64</td><td>f64</td><td>f64</td><td>f64</td><td>str</td><td>i64</td></tr></thead><tbody></tbody></table></div>"
      ],
      "text/plain": [
       "shape: (0, 6)\n",
       "┌──────────────┬─────────────┬──────────────┬─────────────┬─────────┬────────────┐\n",
       "│ sepal_length ┆ sepal_width ┆ petal_length ┆ petal_width ┆ species ┆ species_id │\n",
       "│ ---          ┆ ---         ┆ ---          ┆ ---         ┆ ---     ┆ ---        │\n",
       "│ f64          ┆ f64         ┆ f64          ┆ f64         ┆ str     ┆ i64        │\n",
       "╞══════════════╪═════════════╪══════════════╪═════════════╪═════════╪════════════╡\n",
       "└──────────────┴─────────────┴──────────────┴─────────────┴─────────┴────────────┘"
      ]
     },
     "execution_count": 153,
     "metadata": {},
     "output_type": "execute_result"
    }
   ],
   "source": [
    "\"\"\"\n",
    "This code snippet replaces outliers in the 'sepal_width' column of a DataFrame using the Interquartile Range (IQR) method.\n",
    "\n",
    "Steps:\n",
    "1. Create a new DataFrame `df_iqr_outlier_replaced` by replacing outliers in the 'sepal_width' column with the median value of the column.\n",
    "2. Use the `is_outlier_iqr` condition to identify outliers.\n",
    "3. Apply the `pl.when` function to check if a value is an outlier.\n",
    "4. If the value is an outlier, replace it with the median of the 'sepal_width' column.\n",
    "5. Otherwise, keep the original value.\n",
    "6. Alias the modified column as 'sepal_width'.\n",
    "7. Filter the DataFrame to show only the rows where the 'sepal_width' values were identified as outliers.\n",
    "\n",
    "NOTE:In the context of data science and machine learning, \n",
    "sepal width is often used as a feature in datasets related to plant morphology, \n",
    "such as the famous Iris dataset, where it helps in classifying different species of flowers based on their physical characteristics.\n",
    "\n",
    "Variables:\n",
    "- df: The original DataFrame.\n",
    "- is_outlier_iqr: A boolean condition that identifies outliers based on the IQR method.\n",
    "- df_iqr_outlier_replaced: The DataFrame with outliers in the 'sepal_width' column replaced by the median value.\n",
    "\"\"\"\n",
    "df_iqr_outlier_replaced = (\n",
    "    df\n",
    "    .with_columns(\n",
    "        pl.when(is_outlier_iqr)\n",
    "        .then(pl.col('sepal_width').median())\n",
    "        .otherwise(pl.col('sepal_width'))\n",
    "        .alias('sepal_width')\n",
    "    )\n",
    ")\n",
    "df_iqr_outlier_replaced.filter(is_outlier_iqr)"
   ]
  },
  {
   "cell_type": "code",
   "execution_count": 152,
   "metadata": {},
   "outputs": [
    {
     "data": {
      "text/html": [
       "<div><style>\n",
       ".dataframe > thead > tr,\n",
       ".dataframe > tbody > tr {\n",
       "  text-align: right;\n",
       "  white-space: pre-wrap;\n",
       "}\n",
       "</style>\n",
       "<small>shape: (5, 7)</small><table border=\"1\" class=\"dataframe\"><thead><tr><th>sepal_length</th><th>sepal_width</th><th>petal_length</th><th>petal_width</th><th>species</th><th>species_id</th><th>sepal_width_zscore</th></tr><tr><td>f64</td><td>f64</td><td>f64</td><td>f64</td><td>str</td><td>i64</td><td>f64</td></tr></thead><tbody><tr><td>5.1</td><td>3.5</td><td>1.4</td><td>0.2</td><td>&quot;setosa&quot;</td><td>1</td><td>1.028611</td></tr><tr><td>4.9</td><td>3.0</td><td>1.4</td><td>0.2</td><td>&quot;setosa&quot;</td><td>1</td><td>-0.12454</td></tr><tr><td>4.7</td><td>3.2</td><td>1.3</td><td>0.2</td><td>&quot;setosa&quot;</td><td>1</td><td>0.33672</td></tr><tr><td>4.6</td><td>3.1</td><td>1.5</td><td>0.2</td><td>&quot;setosa&quot;</td><td>1</td><td>0.10609</td></tr><tr><td>5.0</td><td>3.6</td><td>1.4</td><td>0.2</td><td>&quot;setosa&quot;</td><td>1</td><td>1.259242</td></tr></tbody></table></div>"
      ],
      "text/plain": [
       "shape: (5, 7)\n",
       "┌──────────────┬─────────────┬──────────────┬─────────────┬─────────┬────────────┬─────────────────┐\n",
       "│ sepal_length ┆ sepal_width ┆ petal_length ┆ petal_width ┆ species ┆ species_id ┆ sepal_width_zsc │\n",
       "│ ---          ┆ ---         ┆ ---          ┆ ---         ┆ ---     ┆ ---        ┆ ore             │\n",
       "│ f64          ┆ f64         ┆ f64          ┆ f64         ┆ str     ┆ i64        ┆ ---             │\n",
       "│              ┆             ┆              ┆             ┆         ┆            ┆ f64             │\n",
       "╞══════════════╪═════════════╪══════════════╪═════════════╪═════════╪════════════╪═════════════════╡\n",
       "│ 5.1          ┆ 3.5         ┆ 1.4          ┆ 0.2         ┆ setosa  ┆ 1          ┆ 1.028611        │\n",
       "│ 4.9          ┆ 3.0         ┆ 1.4          ┆ 0.2         ┆ setosa  ┆ 1          ┆ -0.12454        │\n",
       "│ 4.7          ┆ 3.2         ┆ 1.3          ┆ 0.2         ┆ setosa  ┆ 1          ┆ 0.33672         │\n",
       "│ 4.6          ┆ 3.1         ┆ 1.5          ┆ 0.2         ┆ setosa  ┆ 1          ┆ 0.10609         │\n",
       "│ 5.0          ┆ 3.6         ┆ 1.4          ┆ 0.2         ┆ setosa  ┆ 1          ┆ 1.259242        │\n",
       "└──────────────┴─────────────┴──────────────┴─────────────┴─────────┴────────────┴─────────────────┘"
      ]
     },
     "execution_count": 152,
     "metadata": {},
     "output_type": "execute_result"
    }
   ],
   "source": [
    "\"\"\"\n",
    "Calculate the z-score for the 'sepal_width' column in the DataFrame.\n",
    "\n",
    "This function computes the z-score for the 'sepal_width' column by subtracting the mean of the column \n",
    "and dividing by the standard deviation of the column. The resulting z-score is added as a new column \n",
    "'sepal_width_zscore' to the DataFrame.\n",
    "\n",
    "Returns:\n",
    "    DataFrame: A DataFrame with an additional column 'sepal_width_zscore' containing the z-scores \n",
    "    of the 'sepal_width' values.\n",
    "\"\"\"\n",
    "df_zscore = df.with_columns(\n",
    "    sepal_width_zscore=(pl.col('sepal_width') - pl.col('sepal_width').mean()) / pl.col('sepal_width').std()\n",
    ")\n",
    "df_zscore.head()"
   ]
  },
  {
   "cell_type": "code",
   "execution_count": 154,
   "metadata": {},
   "outputs": [],
   "source": [
    "is_outlier_z_score = (pl.col('sepal_width_zscore') > 3) | (pl.col('sepal_width_zscore') < -3)\n",
    "\"\"\"\n",
    "Filters out rows from the DataFrame `df_zscore` where the 'sepal_width_zscore' column\n",
    "has values greater than 3 or less than -3, indicating outliers based on the z-score.\n",
    "\n",
    "Returns:\n",
    "    DataFrame: A new DataFrame `df_zscore_outliers_removed` with outliers removed.\n",
    "\"\"\"\n",
    "df_zscore_outliers_removed = df_zscore.filter(is_outlier_z_score.not_())"
   ]
  },
  {
   "cell_type": "code",
   "execution_count": 54,
   "metadata": {},
   "outputs": [
    {
     "data": {
      "text/html": [
       "<div><style>\n",
       ".dataframe > thead > tr,\n",
       ".dataframe > tbody > tr {\n",
       "  text-align: right;\n",
       "  white-space: pre-wrap;\n",
       "}\n",
       "</style>\n",
       "<small>shape: (1, 7)</small><table border=\"1\" class=\"dataframe\"><thead><tr><th>sepal_length</th><th>sepal_width</th><th>petal_length</th><th>petal_width</th><th>species</th><th>species_id</th><th>sepal_width_zscore</th></tr><tr><td>f64</td><td>f64</td><td>f64</td><td>f64</td><td>str</td><td>i64</td><td>f64</td></tr></thead><tbody><tr><td>5.7</td><td>4.4</td><td>1.5</td><td>0.4</td><td>&quot;setosa&quot;</td><td>1</td><td>3.104284</td></tr></tbody></table></div>"
      ],
      "text/plain": [
       "shape: (1, 7)\n",
       "┌──────────────┬─────────────┬──────────────┬─────────────┬─────────┬────────────┬─────────────────┐\n",
       "│ sepal_length ┆ sepal_width ┆ petal_length ┆ petal_width ┆ species ┆ species_id ┆ sepal_width_zsc │\n",
       "│ ---          ┆ ---         ┆ ---          ┆ ---         ┆ ---     ┆ ---        ┆ ore             │\n",
       "│ f64          ┆ f64         ┆ f64          ┆ f64         ┆ str     ┆ i64        ┆ ---             │\n",
       "│              ┆             ┆              ┆             ┆         ┆            ┆ f64             │\n",
       "╞══════════════╪═════════════╪══════════════╪═════════════╪═════════╪════════════╪═════════════════╡\n",
       "│ 5.7          ┆ 4.4         ┆ 1.5          ┆ 0.4         ┆ setosa  ┆ 1          ┆ 3.104284        │\n",
       "└──────────────┴─────────────┴──────────────┴─────────────┴─────────┴────────────┴─────────────────┘"
      ]
     },
     "execution_count": 54,
     "metadata": {},
     "output_type": "execute_result"
    }
   ],
   "source": [
    "df_zscore.filter(is_outlier_z_score)"
   ]
  },
  {
   "cell_type": "code",
   "execution_count": 99,
   "metadata": {},
   "outputs": [
    {
     "data": {
      "text/html": [
       "<div><style>\n",
       ".dataframe > thead > tr,\n",
       ".dataframe > tbody > tr {\n",
       "  text-align: right;\n",
       "  white-space: pre-wrap;\n",
       "}\n",
       "</style>\n",
       "<small>shape: (0, 7)</small><table border=\"1\" class=\"dataframe\"><thead><tr><th>sepal_length</th><th>sepal_width</th><th>petal_length</th><th>petal_width</th><th>species</th><th>species_id</th><th>sepal_width_zscore</th></tr><tr><td>f64</td><td>f64</td><td>f64</td><td>f64</td><td>str</td><td>i64</td><td>f64</td></tr></thead><tbody></tbody></table></div>"
      ],
      "text/plain": [
       "shape: (0, 7)\n",
       "┌──────────────┬─────────────┬──────────────┬─────────────┬─────────┬────────────┬─────────────────┐\n",
       "│ sepal_length ┆ sepal_width ┆ petal_length ┆ petal_width ┆ species ┆ species_id ┆ sepal_width_zsc │\n",
       "│ ---          ┆ ---         ┆ ---          ┆ ---         ┆ ---     ┆ ---        ┆ ore             │\n",
       "│ f64          ┆ f64         ┆ f64          ┆ f64         ┆ str     ┆ i64        ┆ ---             │\n",
       "│              ┆             ┆              ┆             ┆         ┆            ┆ f64             │\n",
       "╞══════════════╪═════════════╪══════════════╪═════════════╪═════════╪════════════╪═════════════════╡\n",
       "└──────────────┴─────────────┴──────────────┴─────────────┴─────────┴────────────┴─────────────────┘"
      ]
     },
     "execution_count": 99,
     "metadata": {},
     "output_type": "execute_result"
    }
   ],
   "source": [
    "df_zscore_outliers_removed.filter(is_outlier_z_score)"
   ]
  },
  {
   "cell_type": "code",
   "execution_count": 156,
   "metadata": {},
   "outputs": [],
   "source": [
    "\"\"\"\n",
    "Replace outliers in the 'sepal_width' column of the DataFrame with the mean value of the 'sepal_width' column.\n",
    "\n",
    "This function uses the z-score method to identify outliers in the 'sepal_width' column. If a value is identified as an outlier, it is replaced with the mean value of the 'sepal_width' column. Otherwise, the original value is retained.\n",
    "\n",
    "Returns:\n",
    "    DataFrame: A new DataFrame with outliers in the 'sepal_width' column replaced by the mean value.\n",
    "\"\"\"\n",
    "df_zscore_outliers_replaced = (\n",
    "    df_zscore\n",
    "    .with_columns(\n",
    "        pl.when(is_outlier_z_score)\n",
    "        .then(pl.col('sepal_width').mean())\n",
    "        .otherwise(pl.col('sepal_width'))\n",
    "        .alias('sepal_width')\n",
    "    )\n",
    ")"
   ]
  },
  {
   "cell_type": "code",
   "execution_count": 157,
   "metadata": {},
   "outputs": [
    {
     "data": {
      "text/html": [
       "<div><style>\n",
       ".dataframe > thead > tr,\n",
       ".dataframe > tbody > tr {\n",
       "  text-align: right;\n",
       "  white-space: pre-wrap;\n",
       "}\n",
       "</style>\n",
       "<small>shape: (1, 7)</small><table border=\"1\" class=\"dataframe\"><thead><tr><th>sepal_length</th><th>sepal_width</th><th>petal_length</th><th>petal_width</th><th>species</th><th>species_id</th><th>sepal_width_zscore</th></tr><tr><td>f64</td><td>f64</td><td>f64</td><td>f64</td><td>str</td><td>i64</td><td>f64</td></tr></thead><tbody><tr><td>5.7</td><td>3.054</td><td>1.5</td><td>0.4</td><td>&quot;setosa&quot;</td><td>1</td><td>3.104284</td></tr></tbody></table></div>"
      ],
      "text/plain": [
       "shape: (1, 7)\n",
       "┌──────────────┬─────────────┬──────────────┬─────────────┬─────────┬────────────┬─────────────────┐\n",
       "│ sepal_length ┆ sepal_width ┆ petal_length ┆ petal_width ┆ species ┆ species_id ┆ sepal_width_zsc │\n",
       "│ ---          ┆ ---         ┆ ---          ┆ ---         ┆ ---     ┆ ---        ┆ ore             │\n",
       "│ f64          ┆ f64         ┆ f64          ┆ f64         ┆ str     ┆ i64        ┆ ---             │\n",
       "│              ┆             ┆              ┆             ┆         ┆            ┆ f64             │\n",
       "╞══════════════╪═════════════╪══════════════╪═════════════╪═════════╪════════════╪═════════════════╡\n",
       "│ 5.7          ┆ 3.054       ┆ 1.5          ┆ 0.4         ┆ setosa  ┆ 1          ┆ 3.104284        │\n",
       "└──────────────┴─────────────┴──────────────┴─────────────┴─────────┴────────────┴─────────────────┘"
      ]
     },
     "execution_count": 157,
     "metadata": {},
     "output_type": "execute_result"
    }
   ],
   "source": [
    "df_zscore_outliers_replaced.filter(is_outlier_z_score)"
   ]
  }
 ],
 "metadata": {
  "kernelspec": {
   "display_name": "Python 3",
   "language": "python",
   "name": "python3"
  },
  "language_info": {
   "codemirror_mode": {
    "name": "ipython",
    "version": 3
   },
   "file_extension": ".py",
   "mimetype": "text/x-python",
   "name": "python",
   "nbconvert_exporter": "python",
   "pygments_lexer": "ipython3",
   "version": "3.12.1"
  }
 },
 "nbformat": 4,
 "nbformat_minor": 2
}
