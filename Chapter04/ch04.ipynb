{
 "cells": [
  {
   "cell_type": "markdown",
   "metadata": {},
   "source": [
    "# Chapter 4: Data Transformation Techniques"
   ]
  },
  {
   "cell_type": "markdown",
   "metadata": {},
   "source": [
    "## Simple aggregations"
   ]
  },
  {
   "cell_type": "markdown",
   "metadata": {},
   "source": [
    "### How to do it..."
   ]
  },
  {
   "cell_type": "code",
   "execution_count": 1,
   "metadata": {},
   "outputs": [],
   "source": [
    "import polars as pl"
   ]
  },
  {
   "cell_type": "code",
   "execution_count": 2,
   "metadata": {},
   "outputs": [],
   "source": [
    "df = pl.read_csv('../data/contoso_sales.csv', try_parse_dates=True)"
   ]
  },
  {
   "cell_type": "code",
   "execution_count": 3,
   "metadata": {},
   "outputs": [
    {
     "data": {
      "text/html": [
       "<div><style>\n",
       ".dataframe > thead > tr,\n",
       ".dataframe > tbody > tr {\n",
       "  text-align: right;\n",
       "  white-space: pre-wrap;\n",
       "}\n",
       "</style>\n",
       "<small>shape: (5, 20)</small><table border=\"1\" class=\"dataframe\"><thead><tr><th>Order Number</th><th>Line Number</th><th>Order Date</th><th>Delivery Date</th><th>Customer Name</th><th>Customer Gender</th><th>Customer Country</th><th>Customer Age</th><th>Store Name</th><th>Product Name</th><th>Color</th><th>Brand</th><th>Category</th><th>Subcategory</th><th>Quantity</th><th>Unit Price</th><th>Net Price</th><th>Unit Cost</th><th>Currency Code</th><th>Exchange Rate</th></tr><tr><td>i64</td><td>i64</td><td>date</td><td>date</td><td>str</td><td>str</td><td>str</td><td>i64</td><td>str</td><td>str</td><td>str</td><td>str</td><td>str</td><td>str</td><td>i64</td><td>f64</td><td>f64</td><td>f64</td><td>str</td><td>f64</td></tr></thead><tbody><tr><td>284806</td><td>1</td><td>2017-10-18</td><td>2017-10-20</td><td>&quot;Eric Kennedy&quot;</td><td>&quot;Male&quot;</td><td>&quot;United States&quot;</td><td>47</td><td>&quot;Online store&quot;</td><td>&quot;Contoso 512MB MP3 Player E51 S…</td><td>&quot;Silver&quot;</td><td>&quot;Contoso&quot;</td><td>&quot;Audio&quot;</td><td>&quot;MP4&amp;MP3&quot;</td><td>7</td><td>11.691</td><td>10.288</td><td>5.958</td><td>&quot;USD&quot;</td><td>1.0</td></tr><tr><td>285506</td><td>1</td><td>2017-10-25</td><td>2017-10-26</td><td>&quot;George Tooth&quot;</td><td>&quot;Male&quot;</td><td>&quot;Australia&quot;</td><td>30</td><td>&quot;Online store&quot;</td><td>&quot;Contoso 512MB MP3 Player E51 S…</td><td>&quot;Silver&quot;</td><td>&quot;Contoso&quot;</td><td>&quot;Audio&quot;</td><td>&quot;MP4&amp;MP3&quot;</td><td>1</td><td>11.691</td><td>11.691</td><td>5.958</td><td>&quot;AUD&quot;</td><td>1.2967</td></tr><tr><td>311002</td><td>2</td><td>2018-07-07</td><td>2018-07-12</td><td>&quot;Caleb Greene&quot;</td><td>&quot;Male&quot;</td><td>&quot;Australia&quot;</td><td>59</td><td>&quot;Online store&quot;</td><td>&quot;Contoso 512MB MP3 Player E51 S…</td><td>&quot;Silver&quot;</td><td>&quot;Contoso&quot;</td><td>&quot;Audio&quot;</td><td>&quot;MP4&amp;MP3&quot;</td><td>6</td><td>12.99</td><td>12.99</td><td>6.62</td><td>&quot;AUD&quot;</td><td>1.3484</td></tr><tr><td>366307</td><td>2</td><td>2020-01-11</td><td>2020-01-11</td><td>&quot;Isaac Siddins&quot;</td><td>&quot;Male&quot;</td><td>&quot;Australia&quot;</td><td>25</td><td>&quot;Contoso Store Western Australi…</td><td>&quot;Contoso 512MB MP3 Player E51 B…</td><td>&quot;Blue&quot;</td><td>&quot;Contoso&quot;</td><td>&quot;Audio&quot;</td><td>&quot;MP4&amp;MP3&quot;</td><td>4</td><td>12.99</td><td>12.99</td><td>6.62</td><td>&quot;AUD&quot;</td><td>1.4545</td></tr><tr><td>325708</td><td>3</td><td>2018-12-01</td><td>2018-12-02</td><td>&quot;Mike McQueen&quot;</td><td>&quot;Male&quot;</td><td>&quot;United States&quot;</td><td>56</td><td>&quot;Online store&quot;</td><td>&quot;Contoso 512MB MP3 Player E51 B…</td><td>&quot;Blue&quot;</td><td>&quot;Contoso&quot;</td><td>&quot;Audio&quot;</td><td>&quot;MP4&amp;MP3&quot;</td><td>2</td><td>12.99</td><td>11.5611</td><td>6.62</td><td>&quot;USD&quot;</td><td>1.0</td></tr></tbody></table></div>"
      ],
      "text/plain": [
       "shape: (5, 20)\n",
       "┌────────┬────────┬─────────────┬─────────────┬───┬─────────────┬───────┬─────────────┬────────────┐\n",
       "│ Order  ┆ Line   ┆ Order Date  ┆ Delivery    ┆ … ┆ Net Price   ┆ Unit  ┆ Currency    ┆ Exchange   │\n",
       "│ Number ┆ Number ┆ ---         ┆ Date        ┆   ┆ ---         ┆ Cost  ┆ Code        ┆ Rate       │\n",
       "│ ---    ┆ ---    ┆ date        ┆ ---         ┆   ┆ f64         ┆ ---   ┆ ---         ┆ ---        │\n",
       "│ i64    ┆ i64    ┆             ┆ date        ┆   ┆             ┆ f64   ┆ str         ┆ f64        │\n",
       "╞════════╪════════╪═════════════╪═════════════╪═══╪═════════════╪═══════╪═════════════╪════════════╡\n",
       "│ 284806 ┆ 1      ┆ 2017-10-18  ┆ 2017-10-20  ┆ … ┆ 10.288      ┆ 5.958 ┆ USD         ┆ 1.0        │\n",
       "│ 285506 ┆ 1      ┆ 2017-10-25  ┆ 2017-10-26  ┆ … ┆ 11.691      ┆ 5.958 ┆ AUD         ┆ 1.2967     │\n",
       "│ 311002 ┆ 2      ┆ 2018-07-07  ┆ 2018-07-12  ┆ … ┆ 12.99       ┆ 6.62  ┆ AUD         ┆ 1.3484     │\n",
       "│ 366307 ┆ 2      ┆ 2020-01-11  ┆ 2020-01-11  ┆ … ┆ 12.99       ┆ 6.62  ┆ AUD         ┆ 1.4545     │\n",
       "│ 325708 ┆ 3      ┆ 2018-12-01  ┆ 2018-12-02  ┆ … ┆ 11.5611     ┆ 6.62  ┆ USD         ┆ 1.0        │\n",
       "└────────┴────────┴─────────────┴─────────────┴───┴─────────────┴───────┴─────────────┴────────────┘"
      ]
     },
     "execution_count": 3,
     "metadata": {},
     "output_type": "execute_result"
    }
   ],
   "source": [
    "df.head()"
   ]
  },
  {
   "cell_type": "code",
   "execution_count": 4,
   "metadata": {},
   "outputs": [
    {
     "data": {
      "text/html": [
       "<div><style>\n",
       ".dataframe > thead > tr,\n",
       ".dataframe > tbody > tr {\n",
       "  text-align: right;\n",
       "  white-space: pre-wrap;\n",
       "}\n",
       "</style>\n",
       "<small>shape: (1, 8)</small><table border=\"1\" class=\"dataframe\"><thead><tr><th>Order Number</th><th>Line Number</th><th>Customer Age</th><th>Quantity</th><th>Unit Price</th><th>Net Price</th><th>Unit Cost</th><th>Exchange Rate</th></tr><tr><td>i64</td><td>i64</td><td>i64</td><td>i64</td><td>f64</td><td>f64</td><td>f64</td><td>f64</td></tr></thead><tbody><tr><td>4466019052</td><td>16195</td><td>725757</td><td>43517</td><td>4.1785e6</td><td>3.9286e6</td><td>1.7356e6</td><td>14124.4597</td></tr></tbody></table></div>"
      ],
      "text/plain": [
       "shape: (1, 8)\n",
       "┌─────────────┬────────┬─────────────┬──────────┬─────────────┬───────────┬───────────┬────────────┐\n",
       "│ Order       ┆ Line   ┆ Customer    ┆ Quantity ┆ Unit Price  ┆ Net Price ┆ Unit Cost ┆ Exchange   │\n",
       "│ Number      ┆ Number ┆ Age         ┆ ---      ┆ ---         ┆ ---       ┆ ---       ┆ Rate       │\n",
       "│ ---         ┆ ---    ┆ ---         ┆ i64      ┆ f64         ┆ f64       ┆ f64       ┆ ---        │\n",
       "│ i64         ┆ i64    ┆ i64         ┆          ┆             ┆           ┆           ┆ f64        │\n",
       "╞═════════════╪════════╪═════════════╪══════════╪═════════════╪═══════════╪═══════════╪════════════╡\n",
       "│ 4466019052  ┆ 16195  ┆ 725757      ┆ 43517    ┆ 4.1785e6    ┆ 3.9286e6  ┆ 1.7356e6  ┆ 14124.4597 │\n",
       "└─────────────┴────────┴─────────────┴──────────┴─────────────┴───────────┴───────────┴────────────┘"
      ]
     },
     "execution_count": 4,
     "metadata": {},
     "output_type": "execute_result"
    }
   ],
   "source": [
    "from polars import selectors as cs\n",
    "(\n",
    "    df\n",
    "    .select(cs.numeric())\n",
    "    .sum()\n",
    ")"
   ]
  },
  {
   "cell_type": "code",
   "execution_count": 5,
   "metadata": {},
   "outputs": [
    {
     "data": {
      "text/plain": [
       "43517"
      ]
     },
     "execution_count": 5,
     "metadata": {},
     "output_type": "execute_result"
    }
   ],
   "source": [
    "s = df.select('Quantity').to_series()\n",
    "\"\"\"\n",
    "Selects the 'Quantity' column from the DataFrame, converts it to a series, and calculates the sum of the series.\n",
    "\n",
    "Returns:\n",
    "    int or float: The sum of the 'Quantity' column.\n",
    "\"\"\"\n",
    "s.sum()"
   ]
  },
  {
   "cell_type": "code",
   "execution_count": 7,
   "metadata": {},
   "outputs": [
    {
     "data": {
      "text/plain": [
       "\"\\nSelects the 'Quantity' column from the DataFrame and computes the sum of its values.\\n\\nReturns:\\n    DataFrame: A DataFrame containing the sum of the 'Quantity' column.\\n\""
      ]
     },
     "execution_count": 7,
     "metadata": {},
     "output_type": "execute_result"
    }
   ],
   "source": [
    "df.select(pl.col('Quantity').sum())\n",
    "\"\"\"\n",
    "Selects the 'Quantity' column from the DataFrame and computes the sum of its values.\n",
    "\n",
    "Returns:\n",
    "    DataFrame: A DataFrame containing the sum of the 'Quantity' column.\n",
    "\"\"\""
   ]
  },
  {
   "cell_type": "code",
   "execution_count": 8,
   "metadata": {},
   "outputs": [
    {
     "data": {
      "text/html": [
       "<div><style>\n",
       ".dataframe > thead > tr,\n",
       ".dataframe > tbody > tr {\n",
       "  text-align: right;\n",
       "  white-space: pre-wrap;\n",
       "}\n",
       "</style>\n",
       "<small>shape: (1, 2)</small><table border=\"1\" class=\"dataframe\"><thead><tr><th>Cust Name First</th><th>Cust Name Last</th></tr><tr><td>str</td><td>str</td></tr></thead><tbody><tr><td>&quot;Eric Kennedy&quot;</td><td>&quot;Billy Ratliff&quot;</td></tr></tbody></table></div>"
      ],
      "text/plain": [
       "shape: (1, 2)\n",
       "┌─────────────────┬────────────────┐\n",
       "│ Cust Name First ┆ Cust Name Last │\n",
       "│ ---             ┆ ---            │\n",
       "│ str             ┆ str            │\n",
       "╞═════════════════╪════════════════╡\n",
       "│ Eric Kennedy    ┆ Billy Ratliff  │\n",
       "└─────────────────┴────────────────┘"
      ]
     },
     "execution_count": 8,
     "metadata": {},
     "output_type": "execute_result"
    }
   ],
   "source": [
    "df.select(\n",
    "    pl.col('Customer Name').first().alias('Cust Name First'),\n",
    "    pl.col('Customer Name').last().alias('Cust Name Last')\n",
    ")"
   ]
  },
  {
   "cell_type": "code",
   "execution_count": 9,
   "metadata": {},
   "outputs": [
    {
     "data": {
      "text/html": [
       "<div><style>\n",
       ".dataframe > thead > tr,\n",
       ".dataframe > tbody > tr {\n",
       "  text-align: right;\n",
       "  white-space: pre-wrap;\n",
       "}\n",
       "</style>\n",
       "<small>shape: (9, 9)</small><table border=\"1\" class=\"dataframe\"><thead><tr><th>statistic</th><th>Order Number</th><th>Line Number</th><th>Customer Age</th><th>Quantity</th><th>Unit Price</th><th>Net Price</th><th>Unit Cost</th><th>Exchange Rate</th></tr><tr><td>str</td><td>f64</td><td>f64</td><td>f64</td><td>f64</td><td>f64</td><td>f64</td><td>f64</td><td>f64</td></tr></thead><tbody><tr><td>&quot;count&quot;</td><td>13915.0</td><td>13915.0</td><td>13915.0</td><td>13915.0</td><td>13915.0</td><td>13915.0</td><td>13915.0</td><td>13915.0</td></tr><tr><td>&quot;null_count&quot;</td><td>0.0</td><td>0.0</td><td>0.0</td><td>0.0</td><td>0.0</td><td>0.0</td><td>0.0</td><td>0.0</td></tr><tr><td>&quot;mean&quot;</td><td>320949.985771</td><td>1.163852</td><td>52.15645</td><td>3.127345</td><td>300.28425</td><td>282.32739</td><td>124.731364</td><td>1.015053</td></tr><tr><td>&quot;std&quot;</td><td>28431.79136</td><td>1.361349</td><td>19.133881</td><td>2.233597</td><td>405.538975</td><td>381.738847</td><td>147.944094</td><td>0.171927</td></tr><tr><td>&quot;min&quot;</td><td>269500.0</td><td>0.0</td><td>19.0</td><td>1.0</td><td>0.95</td><td>0.8265</td><td>0.48</td><td>0.7015</td></tr><tr><td>&quot;25%&quot;</td><td>295902.0</td><td>0.0</td><td>36.0</td><td>1.0</td><td>46.99</td><td>43.4</td><td>21.92</td><td>0.8965</td></tr><tr><td>&quot;50%&quot;</td><td>319806.0</td><td>1.0</td><td>52.0</td><td>2.0</td><td>207.987</td><td>194.91</td><td>86.68</td><td>1.0</td></tr><tr><td>&quot;75%&quot;</td><td>345106.0</td><td>2.0</td><td>68.0</td><td>4.0</td><td>361.2</td><td>336.0</td><td>160.93</td><td>1.0</td></tr><tr><td>&quot;max&quot;</td><td>371503.0</td><td>6.0</td><td>85.0</td><td>10.0</td><td>3748.5</td><td>3748.5</td><td>1241.955</td><td>1.5373</td></tr></tbody></table></div>"
      ],
      "text/plain": [
       "shape: (9, 9)\n",
       "┌───────────┬───────────┬───────────┬───────────┬───┬───────────┬───────────┬───────────┬──────────┐\n",
       "│ statistic ┆ Order     ┆ Line      ┆ Customer  ┆ … ┆ Unit      ┆ Net Price ┆ Unit Cost ┆ Exchange │\n",
       "│ ---       ┆ Number    ┆ Number    ┆ Age       ┆   ┆ Price     ┆ ---       ┆ ---       ┆ Rate     │\n",
       "│ str       ┆ ---       ┆ ---       ┆ ---       ┆   ┆ ---       ┆ f64       ┆ f64       ┆ ---      │\n",
       "│           ┆ f64       ┆ f64       ┆ f64       ┆   ┆ f64       ┆           ┆           ┆ f64      │\n",
       "╞═══════════╪═══════════╪═══════════╪═══════════╪═══╪═══════════╪═══════════╪═══════════╪══════════╡\n",
       "│ count     ┆ 13915.0   ┆ 13915.0   ┆ 13915.0   ┆ … ┆ 13915.0   ┆ 13915.0   ┆ 13915.0   ┆ 13915.0  │\n",
       "│ null_coun ┆ 0.0       ┆ 0.0       ┆ 0.0       ┆ … ┆ 0.0       ┆ 0.0       ┆ 0.0       ┆ 0.0      │\n",
       "│ t         ┆           ┆           ┆           ┆   ┆           ┆           ┆           ┆          │\n",
       "│ mean      ┆ 320949.98 ┆ 1.163852  ┆ 52.15645  ┆ … ┆ 300.28425 ┆ 282.32739 ┆ 124.73136 ┆ 1.015053 │\n",
       "│           ┆ 5771      ┆           ┆           ┆   ┆           ┆           ┆ 4         ┆          │\n",
       "│ std       ┆ 28431.791 ┆ 1.361349  ┆ 19.133881 ┆ … ┆ 405.53897 ┆ 381.73884 ┆ 147.94409 ┆ 0.171927 │\n",
       "│           ┆ 36        ┆           ┆           ┆   ┆ 5         ┆ 7         ┆ 4         ┆          │\n",
       "│ min       ┆ 269500.0  ┆ 0.0       ┆ 19.0      ┆ … ┆ 0.95      ┆ 0.8265    ┆ 0.48      ┆ 0.7015   │\n",
       "│ 25%       ┆ 295902.0  ┆ 0.0       ┆ 36.0      ┆ … ┆ 46.99     ┆ 43.4      ┆ 21.92     ┆ 0.8965   │\n",
       "│ 50%       ┆ 319806.0  ┆ 1.0       ┆ 52.0      ┆ … ┆ 207.987   ┆ 194.91    ┆ 86.68     ┆ 1.0      │\n",
       "│ 75%       ┆ 345106.0  ┆ 2.0       ┆ 68.0      ┆ … ┆ 361.2     ┆ 336.0     ┆ 160.93    ┆ 1.0      │\n",
       "│ max       ┆ 371503.0  ┆ 6.0       ┆ 85.0      ┆ … ┆ 3748.5    ┆ 3748.5    ┆ 1241.955  ┆ 1.5373   │\n",
       "└───────────┴───────────┴───────────┴───────────┴───┴───────────┴───────────┴───────────┴──────────┘"
      ]
     },
     "execution_count": 9,
     "metadata": {},
     "output_type": "execute_result"
    }
   ],
   "source": [
    "df.select(cs.numeric()).describe()"
   ]
  },
  {
   "cell_type": "markdown",
   "metadata": {},
   "source": [
    "### There is more..."
   ]
  },
  {
   "cell_type": "code",
   "execution_count": 10,
   "metadata": {},
   "outputs": [
    {
     "data": {
      "text/html": [
       "<div><style>\n",
       ".dataframe > thead > tr,\n",
       ".dataframe > tbody > tr {\n",
       "  text-align: right;\n",
       "  white-space: pre-wrap;\n",
       "}\n",
       "</style>\n",
       "<small>shape: (1, 1)</small><table border=\"1\" class=\"dataframe\"><thead><tr><th>Quantity</th></tr><tr><td>u32</td></tr></thead><tbody><tr><td>4423</td></tr></tbody></table></div>"
      ],
      "text/plain": [
       "shape: (1, 1)\n",
       "┌──────────┐\n",
       "│ Quantity │\n",
       "│ ---      │\n",
       "│ u32      │\n",
       "╞══════════╡\n",
       "│ 4423     │\n",
       "└──────────┘"
      ]
     },
     "execution_count": 10,
     "metadata": {},
     "output_type": "execute_result"
    }
   ],
   "source": [
    "df.select(\n",
    "    (pl.col('Quantity') >= 4).sum()\n",
    ")"
   ]
  },
  {
   "cell_type": "code",
   "execution_count": 11,
   "metadata": {},
   "outputs": [
    {
     "data": {
      "text/html": [
       "<div><style>\n",
       ".dataframe > thead > tr,\n",
       ".dataframe > tbody > tr {\n",
       "  text-align: right;\n",
       "  white-space: pre-wrap;\n",
       "}\n",
       "</style>\n",
       "<small>shape: (1, 1)</small><table border=\"1\" class=\"dataframe\"><thead><tr><th>Quantity</th></tr><tr><td>i64</td></tr></thead><tbody><tr><td>25017</td></tr></tbody></table></div>"
      ],
      "text/plain": [
       "shape: (1, 1)\n",
       "┌──────────┐\n",
       "│ Quantity │\n",
       "│ ---      │\n",
       "│ i64      │\n",
       "╞══════════╡\n",
       "│ 25017    │\n",
       "└──────────┘"
      ]
     },
     "execution_count": 11,
     "metadata": {},
     "output_type": "execute_result"
    }
   ],
   "source": [
    "df.select(\n",
    "    pl.col('Quantity').filter(pl.col('Store Name')=='Online store').sum()\n",
    ")"
   ]
  },
  {
   "cell_type": "markdown",
   "metadata": {},
   "source": [
    "## Using group by aggregations"
   ]
  },
  {
   "cell_type": "markdown",
   "metadata": {},
   "source": [
    "### How to do it..."
   ]
  },
  {
   "cell_type": "code",
   "execution_count": 12,
   "metadata": {},
   "outputs": [],
   "source": [
    "import polars as pl"
   ]
  },
  {
   "cell_type": "code",
   "execution_count": 13,
   "metadata": {},
   "outputs": [
    {
     "data": {
      "text/html": [
       "<div><style>\n",
       ".dataframe > thead > tr,\n",
       ".dataframe > tbody > tr {\n",
       "  text-align: right;\n",
       "  white-space: pre-wrap;\n",
       "}\n",
       "</style>\n",
       "<small>shape: (5, 20)</small><table border=\"1\" class=\"dataframe\"><thead><tr><th>Order Number</th><th>Line Number</th><th>Order Date</th><th>Delivery Date</th><th>Customer Name</th><th>Customer Gender</th><th>Customer Country</th><th>Customer Age</th><th>Store Name</th><th>Product Name</th><th>Color</th><th>Brand</th><th>Category</th><th>Subcategory</th><th>Quantity</th><th>Unit Price</th><th>Net Price</th><th>Unit Cost</th><th>Currency Code</th><th>Exchange Rate</th></tr><tr><td>i64</td><td>i64</td><td>date</td><td>date</td><td>str</td><td>str</td><td>str</td><td>i64</td><td>str</td><td>str</td><td>str</td><td>str</td><td>str</td><td>str</td><td>i64</td><td>f64</td><td>f64</td><td>f64</td><td>str</td><td>f64</td></tr></thead><tbody><tr><td>284806</td><td>1</td><td>2017-10-18</td><td>2017-10-20</td><td>&quot;Eric Kennedy&quot;</td><td>&quot;Male&quot;</td><td>&quot;United States&quot;</td><td>47</td><td>&quot;Online store&quot;</td><td>&quot;Contoso 512MB MP3 Player E51 S…</td><td>&quot;Silver&quot;</td><td>&quot;Contoso&quot;</td><td>&quot;Audio&quot;</td><td>&quot;MP4&amp;MP3&quot;</td><td>7</td><td>11.691</td><td>10.288</td><td>5.958</td><td>&quot;USD&quot;</td><td>1.0</td></tr><tr><td>285506</td><td>1</td><td>2017-10-25</td><td>2017-10-26</td><td>&quot;George Tooth&quot;</td><td>&quot;Male&quot;</td><td>&quot;Australia&quot;</td><td>30</td><td>&quot;Online store&quot;</td><td>&quot;Contoso 512MB MP3 Player E51 S…</td><td>&quot;Silver&quot;</td><td>&quot;Contoso&quot;</td><td>&quot;Audio&quot;</td><td>&quot;MP4&amp;MP3&quot;</td><td>1</td><td>11.691</td><td>11.691</td><td>5.958</td><td>&quot;AUD&quot;</td><td>1.2967</td></tr><tr><td>311002</td><td>2</td><td>2018-07-07</td><td>2018-07-12</td><td>&quot;Caleb Greene&quot;</td><td>&quot;Male&quot;</td><td>&quot;Australia&quot;</td><td>59</td><td>&quot;Online store&quot;</td><td>&quot;Contoso 512MB MP3 Player E51 S…</td><td>&quot;Silver&quot;</td><td>&quot;Contoso&quot;</td><td>&quot;Audio&quot;</td><td>&quot;MP4&amp;MP3&quot;</td><td>6</td><td>12.99</td><td>12.99</td><td>6.62</td><td>&quot;AUD&quot;</td><td>1.3484</td></tr><tr><td>366307</td><td>2</td><td>2020-01-11</td><td>2020-01-11</td><td>&quot;Isaac Siddins&quot;</td><td>&quot;Male&quot;</td><td>&quot;Australia&quot;</td><td>25</td><td>&quot;Contoso Store Western Australi…</td><td>&quot;Contoso 512MB MP3 Player E51 B…</td><td>&quot;Blue&quot;</td><td>&quot;Contoso&quot;</td><td>&quot;Audio&quot;</td><td>&quot;MP4&amp;MP3&quot;</td><td>4</td><td>12.99</td><td>12.99</td><td>6.62</td><td>&quot;AUD&quot;</td><td>1.4545</td></tr><tr><td>325708</td><td>3</td><td>2018-12-01</td><td>2018-12-02</td><td>&quot;Mike McQueen&quot;</td><td>&quot;Male&quot;</td><td>&quot;United States&quot;</td><td>56</td><td>&quot;Online store&quot;</td><td>&quot;Contoso 512MB MP3 Player E51 B…</td><td>&quot;Blue&quot;</td><td>&quot;Contoso&quot;</td><td>&quot;Audio&quot;</td><td>&quot;MP4&amp;MP3&quot;</td><td>2</td><td>12.99</td><td>11.5611</td><td>6.62</td><td>&quot;USD&quot;</td><td>1.0</td></tr></tbody></table></div>"
      ],
      "text/plain": [
       "shape: (5, 20)\n",
       "┌────────┬────────┬─────────────┬─────────────┬───┬─────────────┬───────┬─────────────┬────────────┐\n",
       "│ Order  ┆ Line   ┆ Order Date  ┆ Delivery    ┆ … ┆ Net Price   ┆ Unit  ┆ Currency    ┆ Exchange   │\n",
       "│ Number ┆ Number ┆ ---         ┆ Date        ┆   ┆ ---         ┆ Cost  ┆ Code        ┆ Rate       │\n",
       "│ ---    ┆ ---    ┆ date        ┆ ---         ┆   ┆ f64         ┆ ---   ┆ ---         ┆ ---        │\n",
       "│ i64    ┆ i64    ┆             ┆ date        ┆   ┆             ┆ f64   ┆ str         ┆ f64        │\n",
       "╞════════╪════════╪═════════════╪═════════════╪═══╪═════════════╪═══════╪═════════════╪════════════╡\n",
       "│ 284806 ┆ 1      ┆ 2017-10-18  ┆ 2017-10-20  ┆ … ┆ 10.288      ┆ 5.958 ┆ USD         ┆ 1.0        │\n",
       "│ 285506 ┆ 1      ┆ 2017-10-25  ┆ 2017-10-26  ┆ … ┆ 11.691      ┆ 5.958 ┆ AUD         ┆ 1.2967     │\n",
       "│ 311002 ┆ 2      ┆ 2018-07-07  ┆ 2018-07-12  ┆ … ┆ 12.99       ┆ 6.62  ┆ AUD         ┆ 1.3484     │\n",
       "│ 366307 ┆ 2      ┆ 2020-01-11  ┆ 2020-01-11  ┆ … ┆ 12.99       ┆ 6.62  ┆ AUD         ┆ 1.4545     │\n",
       "│ 325708 ┆ 3      ┆ 2018-12-01  ┆ 2018-12-02  ┆ … ┆ 11.5611     ┆ 6.62  ┆ USD         ┆ 1.0        │\n",
       "└────────┴────────┴─────────────┴─────────────┴───┴─────────────┴───────┴─────────────┴────────────┘"
      ]
     },
     "execution_count": 13,
     "metadata": {},
     "output_type": "execute_result"
    }
   ],
   "source": [
    "df = pl.read_csv('../data/contoso_sales.csv', try_parse_dates=True)\n",
    "df.head()"
   ]
  },
  {
   "cell_type": "code",
   "execution_count": 14,
   "metadata": {},
   "outputs": [
    {
     "data": {
      "text/plain": [
       "<polars.dataframe.group_by.GroupBy at 0x72eef6efb2f0>"
      ]
     },
     "execution_count": 14,
     "metadata": {},
     "output_type": "execute_result"
    }
   ],
   "source": [
    "df.group_by('Brand')"
   ]
  },
  {
   "cell_type": "code",
   "execution_count": 15,
   "metadata": {},
   "outputs": [
    {
     "data": {
      "text/html": [
       "<div><style>\n",
       ".dataframe > thead > tr,\n",
       ".dataframe > tbody > tr {\n",
       "  text-align: right;\n",
       "  white-space: pre-wrap;\n",
       "}\n",
       "</style>\n",
       "<small>shape: (5, 2)</small><table border=\"1\" class=\"dataframe\"><thead><tr><th>Brand</th><th>Sum of Quantity</th></tr><tr><td>str</td><td>i64</td></tr></thead><tbody><tr><td>&quot;A. Datum&quot;</td><td>555</td></tr><tr><td>&quot;Southridge Video&quot;</td><td>6749</td></tr><tr><td>&quot;Litware &quot;</td><td>161</td></tr><tr><td>&quot;Fabrikam  &quot;</td><td>332</td></tr><tr><td>&quot;Adventure Works&quot;</td><td>4616</td></tr></tbody></table></div>"
      ],
      "text/plain": [
       "shape: (5, 2)\n",
       "┌──────────────────┬─────────────────┐\n",
       "│ Brand            ┆ Sum of Quantity │\n",
       "│ ---              ┆ ---             │\n",
       "│ str              ┆ i64             │\n",
       "╞══════════════════╪═════════════════╡\n",
       "│ A. Datum         ┆ 555             │\n",
       "│ Southridge Video ┆ 6749            │\n",
       "│ Litware          ┆ 161             │\n",
       "│ Fabrikam         ┆ 332             │\n",
       "│ Adventure Works  ┆ 4616            │\n",
       "└──────────────────┴─────────────────┘"
      ]
     },
     "execution_count": 15,
     "metadata": {},
     "output_type": "execute_result"
    }
   ],
   "source": [
    "(\n",
    "    df\n",
    "    .group_by('Brand')\n",
    "    .agg(pl.col('Quantity').sum().alias('Sum of Quantity'))\n",
    "    .head()\n",
    ")"
   ]
  },
  {
   "cell_type": "code",
   "execution_count": 16,
   "metadata": {},
   "outputs": [
    {
     "data": {
      "text/html": [
       "<div><style>\n",
       ".dataframe > thead > tr,\n",
       ".dataframe > tbody > tr {\n",
       "  text-align: right;\n",
       "  white-space: pre-wrap;\n",
       "}\n",
       "</style>\n",
       "<small>shape: (5, 3)</small><table border=\"1\" class=\"dataframe\"><thead><tr><th>Brand</th><th>Sum of Quantity</th><th>Average Unit Price</th></tr><tr><td>str</td><td>f64</td><td>f64</td></tr></thead><tbody><tr><td>&quot;Fabrikam  &quot;</td><td>82765.3</td><td>795.820192</td></tr><tr><td>&quot;Contoso &quot;</td><td>232497.937</td><td>715.378268</td></tr><tr><td>&quot;Adventure Works&quot;</td><td>908783.8045</td><td>620.330242</td></tr><tr><td>&quot;Litware &quot;</td><td>33194.085</td><td>603.528818</td></tr><tr><td>&quot;Fabrikam&quot;</td><td>262239.375</td><td>557.956117</td></tr></tbody></table></div>"
      ],
      "text/plain": [
       "shape: (5, 3)\n",
       "┌─────────────────┬─────────────────┬────────────────────┐\n",
       "│ Brand           ┆ Sum of Quantity ┆ Average Unit Price │\n",
       "│ ---             ┆ ---             ┆ ---                │\n",
       "│ str             ┆ f64             ┆ f64                │\n",
       "╞═════════════════╪═════════════════╪════════════════════╡\n",
       "│ Fabrikam        ┆ 82765.3         ┆ 795.820192         │\n",
       "│ Contoso         ┆ 232497.937      ┆ 715.378268         │\n",
       "│ Adventure Works ┆ 908783.8045     ┆ 620.330242         │\n",
       "│ Litware         ┆ 33194.085       ┆ 603.528818         │\n",
       "│ Fabrikam        ┆ 262239.375      ┆ 557.956117         │\n",
       "└─────────────────┴─────────────────┴────────────────────┘"
      ]
     },
     "execution_count": 16,
     "metadata": {},
     "output_type": "execute_result"
    }
   ],
   "source": [
    "(\n",
    "    df\n",
    "    .group_by('Brand')\n",
    "    .agg(\n",
    "        pl.col('Unit Price').sum().alias('Sum of Quantity'),\n",
    "        pl.col('Unit Price').mean().alias('Average Unit Price'),\n",
    "    )\n",
    "    .sort('Average Unit Price', descending=True)\n",
    "    .head()\n",
    ")"
   ]
  },
  {
   "cell_type": "code",
   "execution_count": 17,
   "metadata": {},
   "outputs": [
    {
     "data": {
      "text/html": [
       "<div><style>\n",
       ".dataframe > thead > tr,\n",
       ".dataframe > tbody > tr {\n",
       "  text-align: right;\n",
       "  white-space: pre-wrap;\n",
       "}\n",
       "</style>\n",
       "<small>shape: (5, 5)</small><table border=\"1\" class=\"dataframe\"><thead><tr><th>Brand</th><th>Average Unit Price</th><th>Average Unit Price 2</th><th>Customer Name</th><th>Category</th></tr><tr><td>str</td><td>f64</td><td>f64</td><td>str</td><td>str</td></tr></thead><tbody><tr><td>&quot;A. Datum&quot;</td><td>280.1</td><td>280.1</td><td>&quot;Blažena Salabová&quot;</td><td>&quot;Cameras and camcorders &quot;</td></tr><tr><td>&quot;Adventure Works&quot;</td><td>620.33</td><td>620.33</td><td>&quot;Molly Walters&quot;</td><td>&quot;Home Appliances&quot;</td></tr><tr><td>&quot;Adventure Works &quot;</td><td>166.9</td><td>166.9</td><td>&quot;James Steinfeld&quot;</td><td>&quot;TV and Video&quot;</td></tr><tr><td>&quot;Contoso&quot;</td><td>150.86</td><td>150.86</td><td>&quot;Eric Kennedy&quot;</td><td>&quot;Cell phones&quot;</td></tr><tr><td>&quot;Contoso &quot;</td><td>715.38</td><td>715.38</td><td>&quot;Chiquita Boyd&quot;</td><td>&quot;Home Appliances&quot;</td></tr></tbody></table></div>"
      ],
      "text/plain": [
       "shape: (5, 5)\n",
       "┌──────────────────┬──────────────┬──────────────────────┬──────────────────┬─────────────────┐\n",
       "│ Brand            ┆ Average Unit ┆ Average Unit Price 2 ┆ Customer Name    ┆ Category        │\n",
       "│ ---              ┆ Price        ┆ ---                  ┆ ---              ┆ ---             │\n",
       "│ str              ┆ ---          ┆ f64                  ┆ str              ┆ str             │\n",
       "│                  ┆ f64          ┆                      ┆                  ┆                 │\n",
       "╞══════════════════╪══════════════╪══════════════════════╪══════════════════╪═════════════════╡\n",
       "│ A. Datum         ┆ 280.1        ┆ 280.1                ┆ Blažena Salabová ┆ Cameras and     │\n",
       "│                  ┆              ┆                      ┆                  ┆ camcorders      │\n",
       "│ Adventure Works  ┆ 620.33       ┆ 620.33               ┆ Molly Walters    ┆ Home Appliances │\n",
       "│ Adventure Works  ┆ 166.9        ┆ 166.9                ┆ James Steinfeld  ┆ TV and Video    │\n",
       "│ Contoso          ┆ 150.86       ┆ 150.86               ┆ Eric Kennedy     ┆ Cell phones     │\n",
       "│ Contoso          ┆ 715.38       ┆ 715.38               ┆ Chiquita Boyd    ┆ Home Appliances │\n",
       "└──────────────────┴──────────────┴──────────────────────┴──────────────────┴─────────────────┘"
      ]
     },
     "execution_count": 17,
     "metadata": {},
     "output_type": "execute_result"
    }
   ],
   "source": [
    "(\n",
    "    df\n",
    "    .group_by('Brand')\n",
    "    .agg(\n",
    "        pl.col('Unit Price').mean().round(2).alias('Average Unit Price'),\n",
    "        (pl.col('Unit Price').sum() / pl.len()).round(2).alias('Average Unit Price 2'),\n",
    "        pl.col('Customer Name').first(),\n",
    "        pl.col('Category').last()\n",
    "    )\n",
    "    .sort('Average Unit Price', descending=True)\n",
    "    .sort('Brand')\n",
    "    .head()\n",
    ")"
   ]
  },
  {
   "cell_type": "code",
   "execution_count": 18,
   "metadata": {},
   "outputs": [
    {
     "data": {
      "text/html": [
       "<div><style>\n",
       ".dataframe > thead > tr,\n",
       ".dataframe > tbody > tr {\n",
       "  text-align: right;\n",
       "  white-space: pre-wrap;\n",
       "}\n",
       "</style>\n",
       "<small>shape: (5, 5)</small><table border=\"1\" class=\"dataframe\"><thead><tr><th>Brand</th><th>Average Unit Price</th><th>Average Unit Price 2</th><th>Customer Name</th><th>Category</th></tr><tr><td>str</td><td>f64</td><td>f64</td><td>str</td><td>str</td></tr></thead><tbody><tr><td>&quot;A. Datum&quot;</td><td>280.1</td><td>280.1</td><td>&quot;Blažena Salabová&quot;</td><td>&quot;Cameras and camcorders &quot;</td></tr><tr><td>&quot;Adventure Works&quot;</td><td>620.33</td><td>620.33</td><td>&quot;Molly Walters&quot;</td><td>&quot;Home Appliances&quot;</td></tr><tr><td>&quot;Adventure Works &quot;</td><td>166.9</td><td>166.9</td><td>&quot;James Steinfeld&quot;</td><td>&quot;TV and Video&quot;</td></tr><tr><td>&quot;Contoso&quot;</td><td>150.86</td><td>150.86</td><td>&quot;Eric Kennedy&quot;</td><td>&quot;Cell phones&quot;</td></tr><tr><td>&quot;Contoso &quot;</td><td>715.38</td><td>715.38</td><td>&quot;Chiquita Boyd&quot;</td><td>&quot;Home Appliances&quot;</td></tr></tbody></table></div>"
      ],
      "text/plain": [
       "shape: (5, 5)\n",
       "┌──────────────────┬──────────────┬──────────────────────┬──────────────────┬─────────────────┐\n",
       "│ Brand            ┆ Average Unit ┆ Average Unit Price 2 ┆ Customer Name    ┆ Category        │\n",
       "│ ---              ┆ Price        ┆ ---                  ┆ ---              ┆ ---             │\n",
       "│ str              ┆ ---          ┆ f64                  ┆ str              ┆ str             │\n",
       "│                  ┆ f64          ┆                      ┆                  ┆                 │\n",
       "╞══════════════════╪══════════════╪══════════════════════╪══════════════════╪═════════════════╡\n",
       "│ A. Datum         ┆ 280.1        ┆ 280.1                ┆ Blažena Salabová ┆ Cameras and     │\n",
       "│                  ┆              ┆                      ┆                  ┆ camcorders      │\n",
       "│ Adventure Works  ┆ 620.33       ┆ 620.33               ┆ Molly Walters    ┆ Home Appliances │\n",
       "│ Adventure Works  ┆ 166.9        ┆ 166.9                ┆ James Steinfeld  ┆ TV and Video    │\n",
       "│ Contoso          ┆ 150.86       ┆ 150.86               ┆ Eric Kennedy     ┆ Cell phones     │\n",
       "│ Contoso          ┆ 715.38       ┆ 715.38               ┆ Chiquita Boyd    ┆ Home Appliances │\n",
       "└──────────────────┴──────────────┴──────────────────────┴──────────────────┴─────────────────┘"
      ]
     },
     "execution_count": 18,
     "metadata": {},
     "output_type": "execute_result"
    }
   ],
   "source": [
    "(\n",
    "    pl.scan_csv('../data/contoso_sales.csv', try_parse_dates=True)\n",
    "    .group_by('Brand')\n",
    "    .agg(\n",
    "        pl.col('Unit Price').mean().round(2).alias('Average Unit Price'),\n",
    "        (pl.col('Unit Price').sum() / pl.len()).round(2).alias('Average Unit Price 2'),\n",
    "        pl.col('Customer Name').first(),\n",
    "        pl.col('Category').last()\n",
    "    )\n",
    "    .sort('Average Unit Price', descending=True)\n",
    "    .sort('Brand')\n",
    "    .collect()\n",
    "    .head()\n",
    ")"
   ]
  },
  {
   "cell_type": "code",
   "execution_count": 19,
   "metadata": {},
   "outputs": [
    {
     "name": "stdout",
     "output_type": "stream",
     "text": [
      "shape: (10, 1)\n",
      "┌──────────────────────┐\n",
      "│ Brand                │\n",
      "│ ---                  │\n",
      "│ str                  │\n",
      "╞══════════════════════╡\n",
      "│ Contoso              │\n",
      "│ The Phone Company    │\n",
      "│ Adventure Works      │\n",
      "│ Wide World Importers │\n",
      "│ Fabrikam             │\n",
      "│ Fabrikam             │\n",
      "│ Litware              │\n",
      "│ Southridge Video     │\n",
      "│ Tailspin Toys        │\n",
      "│ Adventure Works      │\n",
      "└──────────────────────┘\n"
     ]
    }
   ],
   "source": [
    "pl.Config.set_fmt_str_lengths = 50\n",
    "print(df.select('Brand').unique().head(10))"
   ]
  },
  {
   "cell_type": "code",
   "execution_count": 20,
   "metadata": {},
   "outputs": [
    {
     "data": {
      "text/html": [
       "<div><style>\n",
       ".dataframe > thead > tr,\n",
       ".dataframe > tbody > tr {\n",
       "  text-align: right;\n",
       "  white-space: pre-wrap;\n",
       "}\n",
       "</style>\n",
       "<small>shape: (10, 1)</small><table border=\"1\" class=\"dataframe\"><thead><tr><th>Brand</th></tr><tr><td>str</td></tr></thead><tbody><tr><td>&quot;Adventure Works&quot;</td></tr><tr><td>&quot;Fabrikam&quot;</td></tr><tr><td>&quot;Contoso&quot;</td></tr><tr><td>&quot;Wide World Importers&quot;</td></tr><tr><td>&quot;Adventure Works &quot;</td></tr><tr><td>&quot;A. Datum&quot;</td></tr><tr><td>&quot;Tailspin Toys&quot;</td></tr><tr><td>&quot;Contoso &quot;</td></tr><tr><td>&quot;Northwind Traders&quot;</td></tr><tr><td>&quot;Fabrikam  &quot;</td></tr></tbody></table></div>"
      ],
      "text/plain": [
       "shape: (10, 1)\n",
       "┌──────────────────────┐\n",
       "│ Brand                │\n",
       "│ ---                  │\n",
       "│ str                  │\n",
       "╞══════════════════════╡\n",
       "│ Adventure Works      │\n",
       "│ Fabrikam             │\n",
       "│ Contoso              │\n",
       "│ Wide World Importers │\n",
       "│ Adventure Works      │\n",
       "│ A. Datum             │\n",
       "│ Tailspin Toys        │\n",
       "│ Contoso              │\n",
       "│ Northwind Traders    │\n",
       "│ Fabrikam             │\n",
       "└──────────────────────┘"
      ]
     },
     "execution_count": 20,
     "metadata": {},
     "output_type": "execute_result"
    }
   ],
   "source": [
    "df.select('Brand').unique().head(10)"
   ]
  },
  {
   "cell_type": "code",
   "execution_count": 21,
   "metadata": {},
   "outputs": [
    {
     "data": {
      "text/html": [
       "<div><style>\n",
       ".dataframe > thead > tr,\n",
       ".dataframe > tbody > tr {\n",
       "  text-align: right;\n",
       "  white-space: pre-wrap;\n",
       "}\n",
       "</style>\n",
       "<small>shape: (10, 1)</small><table border=\"1\" class=\"dataframe\"><thead><tr><th>Brand</th></tr><tr><td>str</td></tr></thead><tbody><tr><td>&quot;Tailspin Toys&quot;</td></tr><tr><td>&quot;Contoso &quot;</td></tr><tr><td>&quot;The Phone Company&quot;</td></tr><tr><td>&quot;A. Datum&quot;</td></tr><tr><td>&quot;Proseware&quot;</td></tr><tr><td>&quot;Northwind Traders&quot;</td></tr><tr><td>&quot;Adventure Works&quot;</td></tr><tr><td>&quot;Fabrikam  &quot;</td></tr><tr><td>&quot;Wide World Importers&quot;</td></tr><tr><td>&quot;Litware &quot;</td></tr></tbody></table></div>"
      ],
      "text/plain": [
       "shape: (10, 1)\n",
       "┌──────────────────────┐\n",
       "│ Brand                │\n",
       "│ ---                  │\n",
       "│ str                  │\n",
       "╞══════════════════════╡\n",
       "│ Tailspin Toys        │\n",
       "│ Contoso              │\n",
       "│ The Phone Company    │\n",
       "│ A. Datum             │\n",
       "│ Proseware            │\n",
       "│ Northwind Traders    │\n",
       "│ Adventure Works      │\n",
       "│ Fabrikam             │\n",
       "│ Wide World Importers │\n",
       "│ Litware              │\n",
       "└──────────────────────┘"
      ]
     },
     "execution_count": 21,
     "metadata": {},
     "output_type": "execute_result"
    }
   ],
   "source": [
    "import os\n",
    "os.environ['POLARS_FMT_STR_LEN'] = str(50)\n",
    "\n",
    "df.select('Brand').unique().head(10)"
   ]
  },
  {
   "cell_type": "markdown",
   "metadata": {},
   "source": [
    "### There is more..."
   ]
  },
  {
   "cell_type": "code",
   "execution_count": 22,
   "metadata": {},
   "outputs": [
    {
     "name": "stdout",
     "output_type": "stream",
     "text": [
      "Wide World Importers <class 'polars.dataframe.frame.DataFrame'>\n",
      "Contoso <class 'polars.dataframe.frame.DataFrame'>\n",
      "A. Datum <class 'polars.dataframe.frame.DataFrame'>\n",
      "Fabrikam <class 'polars.dataframe.frame.DataFrame'>\n",
      "Tailspin Toys <class 'polars.dataframe.frame.DataFrame'>\n",
      "Litware  <class 'polars.dataframe.frame.DataFrame'>\n",
      "The Phone Company <class 'polars.dataframe.frame.DataFrame'>\n",
      "Proseware <class 'polars.dataframe.frame.DataFrame'>\n",
      "Litware <class 'polars.dataframe.frame.DataFrame'>\n",
      "Contoso  <class 'polars.dataframe.frame.DataFrame'>\n",
      "Adventure Works <class 'polars.dataframe.frame.DataFrame'>\n",
      "Northwind Traders <class 'polars.dataframe.frame.DataFrame'>\n",
      "Adventure Works  <class 'polars.dataframe.frame.DataFrame'>\n",
      "Fabrikam   <class 'polars.dataframe.frame.DataFrame'>\n",
      "Southridge Video <class 'polars.dataframe.frame.DataFrame'>\n"
     ]
    }
   ],
   "source": [
    "for name, data in df.group_by(['Brand']):\n",
    "    print(name[0], type(data))"
   ]
  },
  {
   "cell_type": "code",
   "execution_count": 23,
   "metadata": {},
   "outputs": [
    {
     "data": {
      "text/html": [
       "<div><style>\n",
       ".dataframe > thead > tr,\n",
       ".dataframe > tbody > tr {\n",
       "  text-align: right;\n",
       "  white-space: pre-wrap;\n",
       "}\n",
       "</style>\n",
       "<small>shape: (5, 2)</small><table border=\"1\" class=\"dataframe\"><thead><tr><th>Brand</th><th>Quantity</th></tr><tr><td>str</td><td>list[i64]</td></tr></thead><tbody><tr><td>&quot;Northwind Traders&quot;</td><td>[2, 3, … 2]</td></tr><tr><td>&quot;Litware&quot;</td><td>[1, 1, … 2]</td></tr><tr><td>&quot;A. Datum&quot;</td><td>[2, 1, … 2]</td></tr><tr><td>&quot;Proseware&quot;</td><td>[4, 9, … 5]</td></tr><tr><td>&quot;Fabrikam  &quot;</td><td>[2, 4, … 3]</td></tr></tbody></table></div>"
      ],
      "text/plain": [
       "shape: (5, 2)\n",
       "┌───────────────────┬─────────────┐\n",
       "│ Brand             ┆ Quantity    │\n",
       "│ ---               ┆ ---         │\n",
       "│ str               ┆ list[i64]   │\n",
       "╞═══════════════════╪═════════════╡\n",
       "│ Northwind Traders ┆ [2, 3, … 2] │\n",
       "│ Litware           ┆ [1, 1, … 2] │\n",
       "│ A. Datum          ┆ [2, 1, … 2] │\n",
       "│ Proseware         ┆ [4, 9, … 5] │\n",
       "│ Fabrikam          ┆ [2, 4, … 3] │\n",
       "└───────────────────┴─────────────┘"
      ]
     },
     "execution_count": 23,
     "metadata": {},
     "output_type": "execute_result"
    }
   ],
   "source": [
    "(\n",
    "    df\n",
    "    .group_by('Brand')\n",
    "    .agg(pl.col('Quantity'))\n",
    "    .head()\n",
    ")"
   ]
  },
  {
   "cell_type": "code",
   "execution_count": 24,
   "metadata": {},
   "outputs": [
    {
     "data": {
      "text/html": [
       "<div><style>\n",
       ".dataframe > thead > tr,\n",
       ".dataframe > tbody > tr {\n",
       "  text-align: right;\n",
       "  white-space: pre-wrap;\n",
       "}\n",
       "</style>\n",
       "<small>shape: (5, 2)</small><table border=\"1\" class=\"dataframe\"><thead><tr><th>Brand</th><th>Quantity</th></tr><tr><td>str</td><td>list[i64]</td></tr></thead><tbody><tr><td>&quot;Contoso&quot;</td><td>[7, 1, … 3]</td></tr><tr><td>&quot;Wide World Importers&quot;</td><td>[2, 8, … 2]</td></tr><tr><td>&quot;Northwind Traders&quot;</td><td>[2, 3, … 2]</td></tr><tr><td>&quot;Adventure Works &quot;</td><td>[2, 3, … 6]</td></tr><tr><td>&quot;Adventure Works&quot;</td><td>[5, 7, … 2]</td></tr></tbody></table></div>"
      ],
      "text/plain": [
       "shape: (5, 2)\n",
       "┌──────────────────────┬─────────────┐\n",
       "│ Brand                ┆ Quantity    │\n",
       "│ ---                  ┆ ---         │\n",
       "│ str                  ┆ list[i64]   │\n",
       "╞══════════════════════╪═════════════╡\n",
       "│ Contoso              ┆ [7, 1, … 3] │\n",
       "│ Wide World Importers ┆ [2, 8, … 2] │\n",
       "│ Northwind Traders    ┆ [2, 3, … 2] │\n",
       "│ Adventure Works      ┆ [2, 3, … 6] │\n",
       "│ Adventure Works      ┆ [5, 7, … 2] │\n",
       "└──────────────────────┴─────────────┘"
      ]
     },
     "execution_count": 24,
     "metadata": {},
     "output_type": "execute_result"
    }
   ],
   "source": [
    "(\n",
    "    df\n",
    "    .group_by('Brand', maintain_order=True)\n",
    "    .agg(pl.col('Quantity'))\n",
    "    .head()\n",
    ")"
   ]
  },
  {
   "cell_type": "code",
   "execution_count": 27,
   "metadata": {},
   "outputs": [
    {
     "data": {
      "text/html": [
       "<div><style>\n",
       ".dataframe > thead > tr,\n",
       ".dataframe > tbody > tr {\n",
       "  text-align: right;\n",
       "  white-space: pre-wrap;\n",
       "}\n",
       "</style>\n",
       "<small>shape: (5, 4)</small><table border=\"1\" class=\"dataframe\"><thead><tr><th>Brand</th><th>Customer Country</th><th>Order Year</th><th>Unit Price</th></tr><tr><td>str</td><td>str</td><td>i32</td><td>f64</td></tr></thead><tbody><tr><td>&quot;The Phone Company&quot;</td><td>&quot;Australia&quot;</td><td>2019</td><td>288.54717</td></tr><tr><td>&quot;Adventure Works&quot;</td><td>&quot;Italy&quot;</td><td>2020</td><td>1236.226</td></tr><tr><td>&quot;Litware&quot;</td><td>&quot;Australia&quot;</td><td>2017</td><td>26.181</td></tr><tr><td>&quot;Fabrikam  &quot;</td><td>&quot;United States&quot;</td><td>2020</td><td>443.285714</td></tr><tr><td>&quot;Tailspin Toys&quot;</td><td>&quot;Italy&quot;</td><td>2019</td><td>17.495</td></tr></tbody></table></div>"
      ],
      "text/plain": [
       "shape: (5, 4)\n",
       "┌───────────────────┬──────────────────┬────────────┬────────────┐\n",
       "│ Brand             ┆ Customer Country ┆ Order Year ┆ Unit Price │\n",
       "│ ---               ┆ ---              ┆ ---        ┆ ---        │\n",
       "│ str               ┆ str              ┆ i32        ┆ f64        │\n",
       "╞═══════════════════╪══════════════════╪════════════╪════════════╡\n",
       "│ The Phone Company ┆ Australia        ┆ 2019       ┆ 288.54717  │\n",
       "│ Adventure Works   ┆ Italy            ┆ 2020       ┆ 1236.226   │\n",
       "│ Litware           ┆ Australia        ┆ 2017       ┆ 26.181     │\n",
       "│ Fabrikam          ┆ United States    ┆ 2020       ┆ 443.285714 │\n",
       "│ Tailspin Toys     ┆ Italy            ┆ 2019       ┆ 17.495     │\n",
       "└───────────────────┴──────────────────┴────────────┴────────────┘"
      ]
     },
     "execution_count": 27,
     "metadata": {},
     "output_type": "execute_result"
    }
   ],
   "source": [
    "# Groups the DataFrame by 'Brand', 'Customer Country', and the year of 'Order Date', \n",
    "# then calculates the mean of 'Unit Price' for each group and returns the first few rows.\n",
    "# Returns:\n",
    "#     DataFrame: A DataFrame with the grouped and aggregated data, showing the first few rows.\n",
    "(\n",
    "    df\n",
    "    .group_by(\n",
    "        pl.col('Brand'), \n",
    "        'Customer Country',\n",
    "        pl.col('Order Date').dt.year().alias('Order Year')\n",
    "    )\n",
    "    .agg(pl.col('Unit Price').mean())\n",
    "    .head()\n",
    ")"
   ]
  },
  {
   "cell_type": "markdown",
   "metadata": {},
   "source": [
    "## Aggregating values across multiple columns"
   ]
  },
  {
   "cell_type": "markdown",
   "metadata": {},
   "source": [
    "### How to do it..."
   ]
  },
  {
   "cell_type": "code",
   "execution_count": 6,
   "metadata": {},
   "outputs": [],
   "source": [
    "import polars as pl"
   ]
  },
  {
   "cell_type": "code",
   "execution_count": 28,
   "metadata": {},
   "outputs": [
    {
     "data": {
      "text/html": [
       "<div><style>\n",
       ".dataframe > thead > tr,\n",
       ".dataframe > tbody > tr {\n",
       "  text-align: right;\n",
       "  white-space: pre-wrap;\n",
       "}\n",
       "</style>\n",
       "<small>shape: (5, 13)</small><table border=\"1\" class=\"dataframe\"><thead><tr><th>#</th><th>Name</th><th>Type 1</th><th>Type 2</th><th>Total</th><th>HP</th><th>Attack</th><th>Defense</th><th>Sp. Atk</th><th>Sp. Def</th><th>Speed</th><th>Generation</th><th>Legendary</th></tr><tr><td>i64</td><td>str</td><td>str</td><td>str</td><td>i64</td><td>i64</td><td>i64</td><td>i64</td><td>i64</td><td>i64</td><td>i64</td><td>i64</td><td>bool</td></tr></thead><tbody><tr><td>1</td><td>&quot;Bulbasaur&quot;</td><td>&quot;Grass&quot;</td><td>&quot;Poison&quot;</td><td>318</td><td>45</td><td>49</td><td>49</td><td>65</td><td>65</td><td>45</td><td>1</td><td>false</td></tr><tr><td>2</td><td>&quot;Ivysaur&quot;</td><td>&quot;Grass&quot;</td><td>&quot;Poison&quot;</td><td>405</td><td>60</td><td>62</td><td>63</td><td>80</td><td>80</td><td>60</td><td>1</td><td>false</td></tr><tr><td>3</td><td>&quot;Venusaur&quot;</td><td>&quot;Grass&quot;</td><td>&quot;Poison&quot;</td><td>525</td><td>80</td><td>82</td><td>83</td><td>100</td><td>100</td><td>80</td><td>1</td><td>false</td></tr><tr><td>3</td><td>&quot;VenusaurMega Venusaur&quot;</td><td>&quot;Grass&quot;</td><td>&quot;Poison&quot;</td><td>625</td><td>80</td><td>100</td><td>123</td><td>122</td><td>120</td><td>80</td><td>1</td><td>false</td></tr><tr><td>4</td><td>&quot;Charmander&quot;</td><td>&quot;Fire&quot;</td><td>null</td><td>309</td><td>39</td><td>52</td><td>43</td><td>60</td><td>50</td><td>65</td><td>1</td><td>false</td></tr></tbody></table></div>"
      ],
      "text/plain": [
       "shape: (5, 13)\n",
       "┌─────┬───────────────────────┬────────┬────────┬───┬─────────┬───────┬────────────┬───────────┐\n",
       "│ #   ┆ Name                  ┆ Type 1 ┆ Type 2 ┆ … ┆ Sp. Def ┆ Speed ┆ Generation ┆ Legendary │\n",
       "│ --- ┆ ---                   ┆ ---    ┆ ---    ┆   ┆ ---     ┆ ---   ┆ ---        ┆ ---       │\n",
       "│ i64 ┆ str                   ┆ str    ┆ str    ┆   ┆ i64     ┆ i64   ┆ i64        ┆ bool      │\n",
       "╞═════╪═══════════════════════╪════════╪════════╪═══╪═════════╪═══════╪════════════╪═══════════╡\n",
       "│ 1   ┆ Bulbasaur             ┆ Grass  ┆ Poison ┆ … ┆ 65      ┆ 45    ┆ 1          ┆ false     │\n",
       "│ 2   ┆ Ivysaur               ┆ Grass  ┆ Poison ┆ … ┆ 80      ┆ 60    ┆ 1          ┆ false     │\n",
       "│ 3   ┆ Venusaur              ┆ Grass  ┆ Poison ┆ … ┆ 100     ┆ 80    ┆ 1          ┆ false     │\n",
       "│ 3   ┆ VenusaurMega Venusaur ┆ Grass  ┆ Poison ┆ … ┆ 120     ┆ 80    ┆ 1          ┆ false     │\n",
       "│ 4   ┆ Charmander            ┆ Fire   ┆ null   ┆ … ┆ 50      ┆ 65    ┆ 1          ┆ false     │\n",
       "└─────┴───────────────────────┴────────┴────────┴───┴─────────┴───────┴────────────┴───────────┘"
      ]
     },
     "execution_count": 28,
     "metadata": {},
     "output_type": "execute_result"
    }
   ],
   "source": [
    "df = pl.read_csv('../data/pokemon.csv')\n",
    "df.head()"
   ]
  },
  {
   "cell_type": "code",
   "execution_count": 31,
   "metadata": {},
   "outputs": [
    {
     "data": {
      "text/html": [
       "<div><style>\n",
       ".dataframe > thead > tr,\n",
       ".dataframe > tbody > tr {\n",
       "  text-align: right;\n",
       "  white-space: pre-wrap;\n",
       "}\n",
       "</style>\n",
       "<small>shape: (5, 7)</small><table border=\"1\" class=\"dataframe\"><thead><tr><th>HP</th><th>Attack</th><th>Defense</th><th>Sp. Atk</th><th>Sp. Def</th><th>Speed</th><th>Total 2</th></tr><tr><td>i64</td><td>i64</td><td>i64</td><td>i64</td><td>i64</td><td>i64</td><td>i64</td></tr></thead><tbody><tr><td>45</td><td>49</td><td>49</td><td>65</td><td>65</td><td>45</td><td>318</td></tr><tr><td>60</td><td>62</td><td>63</td><td>80</td><td>80</td><td>60</td><td>405</td></tr><tr><td>80</td><td>82</td><td>83</td><td>100</td><td>100</td><td>80</td><td>525</td></tr><tr><td>80</td><td>100</td><td>123</td><td>122</td><td>120</td><td>80</td><td>625</td></tr><tr><td>39</td><td>52</td><td>43</td><td>60</td><td>50</td><td>65</td><td>309</td></tr></tbody></table></div>"
      ],
      "text/plain": [
       "shape: (5, 7)\n",
       "┌─────┬────────┬─────────┬─────────┬─────────┬───────┬─────────┐\n",
       "│ HP  ┆ Attack ┆ Defense ┆ Sp. Atk ┆ Sp. Def ┆ Speed ┆ Total 2 │\n",
       "│ --- ┆ ---    ┆ ---     ┆ ---     ┆ ---     ┆ ---   ┆ ---     │\n",
       "│ i64 ┆ i64    ┆ i64     ┆ i64     ┆ i64     ┆ i64   ┆ i64     │\n",
       "╞═════╪════════╪═════════╪═════════╪═════════╪═══════╪═════════╡\n",
       "│ 45  ┆ 49     ┆ 49      ┆ 65      ┆ 65      ┆ 45    ┆ 318     │\n",
       "│ 60  ┆ 62     ┆ 63      ┆ 80      ┆ 80      ┆ 60    ┆ 405     │\n",
       "│ 80  ┆ 82     ┆ 83      ┆ 100     ┆ 100     ┆ 80    ┆ 525     │\n",
       "│ 80  ┆ 100    ┆ 123     ┆ 122     ┆ 120     ┆ 80    ┆ 625     │\n",
       "│ 39  ┆ 52     ┆ 43      ┆ 60      ┆ 50      ┆ 65    ┆ 309     │\n",
       "└─────┴────────┴─────────┴─────────┴─────────┴───────┴─────────┘"
      ]
     },
     "execution_count": 31,
     "metadata": {},
     "output_type": "execute_result"
    }
   ],
   "source": [
    "\"\"\"\n",
    "This code snippet selects specific columns from a DataFrame and calculates the horizontal sum of these columns.\n",
    "The selected columns are 'HP', 'Attack', 'Defense', 'Sp. Atk', 'Sp. Def', and 'Speed'.\n",
    "The horizontal sum is then aliased as 'Total 2', and the first few rows of the resulting DataFrame are displayed using the head() method.\n",
    "\"\"\"\n",
    "(\n",
    "    df\n",
    "    .select('HP', 'Attack', 'Defense', 'Sp. Atk', 'Sp. Def', 'Speed')\n",
    "    .with_columns(\n",
    "        pl.sum_horizontal('HP', 'Attack', 'Defense', 'Sp. Atk', 'Sp. Def', 'Speed').alias('Total 2')\n",
    "    )\n",
    "    .head()\n",
    ")"
   ]
  },
  {
   "cell_type": "code",
   "execution_count": 32,
   "metadata": {},
   "outputs": [
    {
     "data": {
      "text/html": [
       "<div><style>\n",
       ".dataframe > thead > tr,\n",
       ".dataframe > tbody > tr {\n",
       "  text-align: right;\n",
       "  white-space: pre-wrap;\n",
       "}\n",
       "</style>\n",
       "<small>shape: (5, 14)</small><table border=\"1\" class=\"dataframe\"><thead><tr><th>#</th><th>Name</th><th>Type 1</th><th>Type 2</th><th>Total</th><th>HP</th><th>Attack</th><th>Defense</th><th>Sp. Atk</th><th>Sp. Def</th><th>Speed</th><th>Generation</th><th>Legendary</th><th>Total 2</th></tr><tr><td>i64</td><td>str</td><td>str</td><td>str</td><td>i64</td><td>i64</td><td>i64</td><td>i64</td><td>i64</td><td>i64</td><td>i64</td><td>i64</td><td>bool</td><td>i64</td></tr></thead><tbody><tr><td>1</td><td>&quot;Bulbasaur&quot;</td><td>&quot;Grass&quot;</td><td>&quot;Poison&quot;</td><td>318</td><td>45</td><td>49</td><td>49</td><td>65</td><td>65</td><td>45</td><td>1</td><td>false</td><td>318</td></tr><tr><td>2</td><td>&quot;Ivysaur&quot;</td><td>&quot;Grass&quot;</td><td>&quot;Poison&quot;</td><td>405</td><td>60</td><td>62</td><td>63</td><td>80</td><td>80</td><td>60</td><td>1</td><td>false</td><td>405</td></tr><tr><td>3</td><td>&quot;Venusaur&quot;</td><td>&quot;Grass&quot;</td><td>&quot;Poison&quot;</td><td>525</td><td>80</td><td>82</td><td>83</td><td>100</td><td>100</td><td>80</td><td>1</td><td>false</td><td>525</td></tr><tr><td>3</td><td>&quot;VenusaurMega Venusaur&quot;</td><td>&quot;Grass&quot;</td><td>&quot;Poison&quot;</td><td>625</td><td>80</td><td>100</td><td>123</td><td>122</td><td>120</td><td>80</td><td>1</td><td>false</td><td>625</td></tr><tr><td>4</td><td>&quot;Charmander&quot;</td><td>&quot;Fire&quot;</td><td>null</td><td>309</td><td>39</td><td>52</td><td>43</td><td>60</td><td>50</td><td>65</td><td>1</td><td>false</td><td>309</td></tr></tbody></table></div>"
      ],
      "text/plain": [
       "shape: (5, 14)\n",
       "┌─────┬───────────────────────┬────────┬────────┬───┬───────┬────────────┬───────────┬─────────┐\n",
       "│ #   ┆ Name                  ┆ Type 1 ┆ Type 2 ┆ … ┆ Speed ┆ Generation ┆ Legendary ┆ Total 2 │\n",
       "│ --- ┆ ---                   ┆ ---    ┆ ---    ┆   ┆ ---   ┆ ---        ┆ ---       ┆ ---     │\n",
       "│ i64 ┆ str                   ┆ str    ┆ str    ┆   ┆ i64   ┆ i64        ┆ bool      ┆ i64     │\n",
       "╞═════╪═══════════════════════╪════════╪════════╪═══╪═══════╪════════════╪═══════════╪═════════╡\n",
       "│ 1   ┆ Bulbasaur             ┆ Grass  ┆ Poison ┆ … ┆ 45    ┆ 1          ┆ false     ┆ 318     │\n",
       "│ 2   ┆ Ivysaur               ┆ Grass  ┆ Poison ┆ … ┆ 60    ┆ 1          ┆ false     ┆ 405     │\n",
       "│ 3   ┆ Venusaur              ┆ Grass  ┆ Poison ┆ … ┆ 80    ┆ 1          ┆ false     ┆ 525     │\n",
       "│ 3   ┆ VenusaurMega Venusaur ┆ Grass  ┆ Poison ┆ … ┆ 80    ┆ 1          ┆ false     ┆ 625     │\n",
       "│ 4   ┆ Charmander            ┆ Fire   ┆ null   ┆ … ┆ 65    ┆ 1          ┆ false     ┆ 309     │\n",
       "└─────┴───────────────────────┴────────┴────────┴───┴───────┴────────────┴───────────┴─────────┘"
      ]
     },
     "execution_count": 32,
     "metadata": {},
     "output_type": "execute_result"
    }
   ],
   "source": [
    "(\n",
    "    df\n",
    "    .with_columns(\n",
    "        pl.sum_horizontal('HP', 'Attack', 'Defense', 'Sp. Atk', 'Sp. Def', 'Speed').alias('Total 2')\n",
    "    )\n",
    "    .head()\n",
    ")"
   ]
  },
  {
   "cell_type": "code",
   "execution_count": 33,
   "metadata": {},
   "outputs": [
    {
     "data": {
      "text/html": [
       "<div><style>\n",
       ".dataframe > thead > tr,\n",
       ".dataframe > tbody > tr {\n",
       "  text-align: right;\n",
       "  white-space: pre-wrap;\n",
       "}\n",
       "</style>\n",
       "<small>shape: (5, 14)</small><table border=\"1\" class=\"dataframe\"><thead><tr><th>#</th><th>Name</th><th>Type 1</th><th>Type 2</th><th>Total</th><th>HP</th><th>Attack</th><th>Defense</th><th>Sp. Atk</th><th>Sp. Def</th><th>Speed</th><th>Generation</th><th>Legendary</th><th>Total 2</th></tr><tr><td>i64</td><td>str</td><td>str</td><td>str</td><td>i64</td><td>i64</td><td>i64</td><td>i64</td><td>i64</td><td>i64</td><td>i64</td><td>i64</td><td>bool</td><td>i64</td></tr></thead><tbody><tr><td>1</td><td>&quot;Bulbasaur&quot;</td><td>&quot;Grass&quot;</td><td>&quot;Poison&quot;</td><td>318</td><td>45</td><td>49</td><td>49</td><td>65</td><td>65</td><td>45</td><td>1</td><td>false</td><td>318</td></tr><tr><td>2</td><td>&quot;Ivysaur&quot;</td><td>&quot;Grass&quot;</td><td>&quot;Poison&quot;</td><td>405</td><td>60</td><td>62</td><td>63</td><td>80</td><td>80</td><td>60</td><td>1</td><td>false</td><td>405</td></tr><tr><td>3</td><td>&quot;Venusaur&quot;</td><td>&quot;Grass&quot;</td><td>&quot;Poison&quot;</td><td>525</td><td>80</td><td>82</td><td>83</td><td>100</td><td>100</td><td>80</td><td>1</td><td>false</td><td>525</td></tr><tr><td>3</td><td>&quot;VenusaurMega Venusaur&quot;</td><td>&quot;Grass&quot;</td><td>&quot;Poison&quot;</td><td>625</td><td>80</td><td>100</td><td>123</td><td>122</td><td>120</td><td>80</td><td>1</td><td>false</td><td>625</td></tr><tr><td>4</td><td>&quot;Charmander&quot;</td><td>&quot;Fire&quot;</td><td>null</td><td>309</td><td>39</td><td>52</td><td>43</td><td>60</td><td>50</td><td>65</td><td>1</td><td>false</td><td>309</td></tr></tbody></table></div>"
      ],
      "text/plain": [
       "shape: (5, 14)\n",
       "┌─────┬───────────────────────┬────────┬────────┬───┬───────┬────────────┬───────────┬─────────┐\n",
       "│ #   ┆ Name                  ┆ Type 1 ┆ Type 2 ┆ … ┆ Speed ┆ Generation ┆ Legendary ┆ Total 2 │\n",
       "│ --- ┆ ---                   ┆ ---    ┆ ---    ┆   ┆ ---   ┆ ---        ┆ ---       ┆ ---     │\n",
       "│ i64 ┆ str                   ┆ str    ┆ str    ┆   ┆ i64   ┆ i64        ┆ bool      ┆ i64     │\n",
       "╞═════╪═══════════════════════╪════════╪════════╪═══╪═══════╪════════════╪═══════════╪═════════╡\n",
       "│ 1   ┆ Bulbasaur             ┆ Grass  ┆ Poison ┆ … ┆ 45    ┆ 1          ┆ false     ┆ 318     │\n",
       "│ 2   ┆ Ivysaur               ┆ Grass  ┆ Poison ┆ … ┆ 60    ┆ 1          ┆ false     ┆ 405     │\n",
       "│ 3   ┆ Venusaur              ┆ Grass  ┆ Poison ┆ … ┆ 80    ┆ 1          ┆ false     ┆ 525     │\n",
       "│ 3   ┆ VenusaurMega Venusaur ┆ Grass  ┆ Poison ┆ … ┆ 80    ┆ 1          ┆ false     ┆ 625     │\n",
       "│ 4   ┆ Charmander            ┆ Fire   ┆ null   ┆ … ┆ 65    ┆ 1          ┆ false     ┆ 309     │\n",
       "└─────┴───────────────────────┴────────┴────────┴───┴───────┴────────────┴───────────┴─────────┘"
      ]
     },
     "execution_count": 33,
     "metadata": {},
     "output_type": "execute_result"
    }
   ],
   "source": [
    "(\n",
    "    df\n",
    "    .with_columns(\n",
    "        pl.concat_list('HP', 'Attack', 'Defense', 'Sp. Atk', 'Sp. Def', 'Speed').list.sum().alias('Total 2')\n",
    "    )\n",
    "    .head()\n",
    ")"
   ]
  },
  {
   "cell_type": "code",
   "execution_count": 35,
   "metadata": {},
   "outputs": [
    {
     "data": {
      "text/html": [
       "<div><style>\n",
       ".dataframe > thead > tr,\n",
       ".dataframe > tbody > tr {\n",
       "  text-align: right;\n",
       "  white-space: pre-wrap;\n",
       "}\n",
       "</style>\n",
       "<small>shape: (5, 14)</small><table border=\"1\" class=\"dataframe\"><thead><tr><th>#</th><th>Name</th><th>Type 1</th><th>Type 2</th><th>Total</th><th>HP</th><th>Attack</th><th>Defense</th><th>Sp. Atk</th><th>Sp. Def</th><th>Speed</th><th>Generation</th><th>Legendary</th><th>Total 2</th></tr><tr><td>i64</td><td>str</td><td>str</td><td>str</td><td>i64</td><td>i64</td><td>i64</td><td>i64</td><td>i64</td><td>i64</td><td>i64</td><td>i64</td><td>bool</td><td>i64</td></tr></thead><tbody><tr><td>1</td><td>&quot;Bulbasaur&quot;</td><td>&quot;Grass&quot;</td><td>&quot;Poison&quot;</td><td>318</td><td>45</td><td>49</td><td>49</td><td>65</td><td>65</td><td>45</td><td>1</td><td>false</td><td>318</td></tr><tr><td>2</td><td>&quot;Ivysaur&quot;</td><td>&quot;Grass&quot;</td><td>&quot;Poison&quot;</td><td>405</td><td>60</td><td>62</td><td>63</td><td>80</td><td>80</td><td>60</td><td>1</td><td>false</td><td>405</td></tr><tr><td>3</td><td>&quot;Venusaur&quot;</td><td>&quot;Grass&quot;</td><td>&quot;Poison&quot;</td><td>525</td><td>80</td><td>82</td><td>83</td><td>100</td><td>100</td><td>80</td><td>1</td><td>false</td><td>525</td></tr><tr><td>3</td><td>&quot;VenusaurMega Venusaur&quot;</td><td>&quot;Grass&quot;</td><td>&quot;Poison&quot;</td><td>625</td><td>80</td><td>100</td><td>123</td><td>122</td><td>120</td><td>80</td><td>1</td><td>false</td><td>625</td></tr><tr><td>4</td><td>&quot;Charmander&quot;</td><td>&quot;Fire&quot;</td><td>null</td><td>309</td><td>39</td><td>52</td><td>43</td><td>60</td><td>50</td><td>65</td><td>1</td><td>false</td><td>309</td></tr></tbody></table></div>"
      ],
      "text/plain": [
       "shape: (5, 14)\n",
       "┌─────┬───────────────────────┬────────┬────────┬───┬───────┬────────────┬───────────┬─────────┐\n",
       "│ #   ┆ Name                  ┆ Type 1 ┆ Type 2 ┆ … ┆ Speed ┆ Generation ┆ Legendary ┆ Total 2 │\n",
       "│ --- ┆ ---                   ┆ ---    ┆ ---    ┆   ┆ ---   ┆ ---        ┆ ---       ┆ ---     │\n",
       "│ i64 ┆ str                   ┆ str    ┆ str    ┆   ┆ i64   ┆ i64        ┆ bool      ┆ i64     │\n",
       "╞═════╪═══════════════════════╪════════╪════════╪═══╪═══════╪════════════╪═══════════╪═════════╡\n",
       "│ 1   ┆ Bulbasaur             ┆ Grass  ┆ Poison ┆ … ┆ 45    ┆ 1          ┆ false     ┆ 318     │\n",
       "│ 2   ┆ Ivysaur               ┆ Grass  ┆ Poison ┆ … ┆ 60    ┆ 1          ┆ false     ┆ 405     │\n",
       "│ 3   ┆ Venusaur              ┆ Grass  ┆ Poison ┆ … ┆ 80    ┆ 1          ┆ false     ┆ 525     │\n",
       "│ 3   ┆ VenusaurMega Venusaur ┆ Grass  ┆ Poison ┆ … ┆ 80    ┆ 1          ┆ false     ┆ 625     │\n",
       "│ 4   ┆ Charmander            ┆ Fire   ┆ null   ┆ … ┆ 65    ┆ 1          ┆ false     ┆ 309     │\n",
       "└─────┴───────────────────────┴────────┴────────┴───┴───────┴────────────┴───────────┴─────────┘"
      ]
     },
     "execution_count": 35,
     "metadata": {},
     "output_type": "execute_result"
    }
   ],
   "source": [
    "cols = ['HP', 'Attack', 'Defense', 'Sp. Atk', 'Sp. Def', 'Speed']\n",
    "\"\"\"\n",
    "This code snippet performs the following operations on a DataFrame `df`:\n",
    "\n",
    "1. Defines a list of column names `cols` which includes 'HP', 'Attack', 'Defense', 'Sp. Atk', 'Sp. Def', and 'Speed'.\n",
    "2. Uses the `with_columns` method to add a new column to the DataFrame.\n",
    "3. The new column, named 'Total 2', is created by summing the values of the columns specified in `cols` using the `pl.reduce` function.\n",
    "4. The `head()` method is called to display the first few rows of the modified DataFrame.\n",
    "\n",
    "Returns:\n",
    "    A DataFrame with an additional column 'Total 2' that contains the sum of the specified columns for each row.\n",
    "\"\"\"\n",
    "(\n",
    "    df\n",
    "    .with_columns(\n",
    "        pl.reduce(\n",
    "            function=lambda acc, col: acc + col, \n",
    "            exprs=pl.col(cols)\n",
    "        )\n",
    "        .alias('Total 2')\n",
    "    )\n",
    "    .head()\n",
    ")"
   ]
  },
  {
   "cell_type": "markdown",
   "metadata": {},
   "source": [
    "The provided code snippet demonstrates how to manipulate a DataFrame \n",
    "\n",
    "df\n",
    "\n",
    " using the `polars` library in Python. The primary goal of this snippet is to add a new column to the DataFrame that represents the sum of several existing columns.\n",
    "\n",
    "First, a list of column names \n",
    "\n",
    "cols\n",
    "\n",
    " is defined, which includes 'HP', 'Attack', 'Defense', 'Sp. Atk', 'Sp. Def', and 'Speed'. These columns are presumably part of the DataFrame \n",
    "\n",
    "df\n",
    "\n",
    " and represent various attributes.\n",
    "\n",
    "The \n",
    "\n",
    "with_columns\n",
    "\n",
    " method is then used to add a new column to the DataFrame. This method allows for the modification of the DataFrame by adding or transforming columns. Within this method, the \n",
    "\n",
    "pl.reduce\n",
    "\n",
    " function is employed to sum the values of the specified columns. The \n",
    "\n",
    "pl.reduce\n",
    "\n",
    " function takes a lambda function as its \n",
    "\n",
    "function\n",
    "\n",
    " argument, which defines how the columns should be combined. In this case, the lambda function adds the values of the columns (\n",
    "\n",
    "acc + col\n",
    "\n",
    "). The \n",
    "\n",
    "exprs\n",
    "\n",
    " argument specifies the columns to be summed, which are provided by \n",
    "\n",
    "pl.col(cols)\n",
    "\n",
    ".\n",
    "\n",
    "The result of the \n",
    "\n",
    "pl.reduce\n",
    "\n",
    " function is then given an alias 'Total 2', which becomes the name of the new column. This new column contains the sum of the values from the specified columns for each row in the DataFrame.\n",
    "\n",
    "Finally, the \n",
    "\n",
    "head()\n",
    "\n",
    " method is called to display the first few rows of the modified DataFrame. This allows for a quick inspection of the changes made to the DataFrame, specifically the addition of the 'Total 2' column.\n",
    "\n",
    "In summary, this code snippet adds a new column to the DataFrame \n",
    "\n",
    "df\n",
    "\n",
    " that contains the sum of the values from the 'HP', 'Attack', 'Defense', 'Sp. Atk', 'Sp. Def', and 'Speed' columns for each row, and then displays the first few rows of the updated DataFrame."
   ]
  },
  {
   "cell_type": "code",
   "execution_count": 38,
   "metadata": {},
   "outputs": [
    {
     "data": {
      "text/html": [
       "<div><style>\n",
       ".dataframe > thead > tr,\n",
       ".dataframe > tbody > tr {\n",
       "  text-align: right;\n",
       "  white-space: pre-wrap;\n",
       "}\n",
       "</style>\n",
       "<small>shape: (5, 14)</small><table border=\"1\" class=\"dataframe\"><thead><tr><th>#</th><th>Name</th><th>Type 1</th><th>Type 2</th><th>Total</th><th>HP</th><th>Attack</th><th>Defense</th><th>Sp. Atk</th><th>Sp. Def</th><th>Speed</th><th>Generation</th><th>Legendary</th><th>Total 2</th></tr><tr><td>i64</td><td>str</td><td>str</td><td>str</td><td>i64</td><td>i64</td><td>i64</td><td>i64</td><td>i64</td><td>i64</td><td>i64</td><td>i64</td><td>bool</td><td>i64</td></tr></thead><tbody><tr><td>1</td><td>&quot;Bulbasaur&quot;</td><td>&quot;Grass&quot;</td><td>&quot;Poison&quot;</td><td>318</td><td>45</td><td>49</td><td>49</td><td>65</td><td>65</td><td>45</td><td>1</td><td>false</td><td>418</td></tr><tr><td>2</td><td>&quot;Ivysaur&quot;</td><td>&quot;Grass&quot;</td><td>&quot;Poison&quot;</td><td>405</td><td>60</td><td>62</td><td>63</td><td>80</td><td>80</td><td>60</td><td>1</td><td>false</td><td>505</td></tr><tr><td>3</td><td>&quot;Venusaur&quot;</td><td>&quot;Grass&quot;</td><td>&quot;Poison&quot;</td><td>525</td><td>80</td><td>82</td><td>83</td><td>100</td><td>100</td><td>80</td><td>1</td><td>false</td><td>625</td></tr><tr><td>3</td><td>&quot;VenusaurMega Venusaur&quot;</td><td>&quot;Grass&quot;</td><td>&quot;Poison&quot;</td><td>625</td><td>80</td><td>100</td><td>123</td><td>122</td><td>120</td><td>80</td><td>1</td><td>false</td><td>725</td></tr><tr><td>4</td><td>&quot;Charmander&quot;</td><td>&quot;Fire&quot;</td><td>null</td><td>309</td><td>39</td><td>52</td><td>43</td><td>60</td><td>50</td><td>65</td><td>1</td><td>false</td><td>409</td></tr></tbody></table></div>"
      ],
      "text/plain": [
       "shape: (5, 14)\n",
       "┌─────┬───────────────────────┬────────┬────────┬───┬───────┬────────────┬───────────┬─────────┐\n",
       "│ #   ┆ Name                  ┆ Type 1 ┆ Type 2 ┆ … ┆ Speed ┆ Generation ┆ Legendary ┆ Total 2 │\n",
       "│ --- ┆ ---                   ┆ ---    ┆ ---    ┆   ┆ ---   ┆ ---        ┆ ---       ┆ ---     │\n",
       "│ i64 ┆ str                   ┆ str    ┆ str    ┆   ┆ i64   ┆ i64        ┆ bool      ┆ i64     │\n",
       "╞═════╪═══════════════════════╪════════╪════════╪═══╪═══════╪════════════╪═══════════╪═════════╡\n",
       "│ 1   ┆ Bulbasaur             ┆ Grass  ┆ Poison ┆ … ┆ 45    ┆ 1          ┆ false     ┆ 418     │\n",
       "│ 2   ┆ Ivysaur               ┆ Grass  ┆ Poison ┆ … ┆ 60    ┆ 1          ┆ false     ┆ 505     │\n",
       "│ 3   ┆ Venusaur              ┆ Grass  ┆ Poison ┆ … ┆ 80    ┆ 1          ┆ false     ┆ 625     │\n",
       "│ 3   ┆ VenusaurMega Venusaur ┆ Grass  ┆ Poison ┆ … ┆ 80    ┆ 1          ┆ false     ┆ 725     │\n",
       "│ 4   ┆ Charmander            ┆ Fire   ┆ null   ┆ … ┆ 65    ┆ 1          ┆ false     ┆ 409     │\n",
       "└─────┴───────────────────────┴────────┴────────┴───┴───────┴────────────┴───────────┴─────────┘"
      ]
     },
     "execution_count": 38,
     "metadata": {},
     "output_type": "execute_result"
    }
   ],
   "source": [
    "# This code snippet performs the following operations on a DataFrame `df`:\n",
    "#\n",
    "# 1. Adds a new column named 'Total 2' to the DataFrame.\n",
    "# 2. The new column is created by folding (reducing) the specified columns (`cols`) with an initial value of 100.\n",
    "# 3. The folding operation sums the initial value (100) with each value in the specified columns.\n",
    "# 4. The resulting DataFrame with the new column is then limited to the first few rows using the `head()` method.\n",
    "#\n",
    "# Parameters:\n",
    "# - df: The input DataFrame.\n",
    "# - cols: A list of column names to be included in the fold operation.\n",
    "#\n",
    "# Returns:\n",
    "# - A DataFrame with the new 'Total 2' column and limited to the first few rows.\n",
    "\n",
    "(\n",
    "    df\n",
    "    .with_columns(\n",
    "        pl.fold(\n",
    "            acc=pl.lit(100), \n",
    "            function=lambda acc, col: acc + col, \n",
    "            exprs=pl.col(cols)\n",
    "        )\n",
    "        .alias('Total 2')\n",
    "    )\n",
    "    .head()\n",
    ")"
   ]
  },
  {
   "cell_type": "markdown",
   "metadata": {},
   "source": [
    "This code snippet demonstrates how to add a new column to a DataFrame \n",
    "\n",
    "df\n",
    "\n",
    " using the `polars` library in Python. The new column, named 'Total 2', is created by performing a fold (reduce) operation on a specified list of columns (\n",
    "\n",
    "cols\n",
    "\n",
    "), starting with an initial value of 100.\n",
    "\n",
    "The process begins by defining the DataFrame \n",
    "\n",
    "df\n",
    "\n",
    " and the list of column names \n",
    "\n",
    "cols\n",
    "\n",
    " that will be included in the fold operation. The \n",
    "\n",
    "with_columns\n",
    "\n",
    " method is used to add or transform columns in the DataFrame. Within this method, the \n",
    "\n",
    "pl.fold\n",
    "\n",
    " function is employed to perform the fold operation.\n",
    "\n",
    "The \n",
    "\n",
    "pl.fold\n",
    "\n",
    " function takes three arguments:\n",
    "1. \n",
    "\n",
    "acc=pl.lit(100)\n",
    "\n",
    ": This sets the initial value of the accumulator to 100.\n",
    "2. \n",
    "\n",
    "function=lambda acc, col: acc + col\n",
    "\n",
    ": This lambda function defines how the fold operation should combine the columns. In this case, it adds the values of the columns to the accumulator.\n",
    "3. \n",
    "\n",
    "exprs=pl.col(cols)\n",
    "\n",
    ": This specifies the columns to be included in the fold operation, provided by \n",
    "\n",
    "pl.col(cols)\n",
    "\n",
    ".\n",
    "\n",
    "The result of the \n",
    "\n",
    "pl.fold\n",
    "\n",
    " function is then given an alias 'Total 2', which becomes the name of the new column. This new column contains the sum of the initial value (100) and the values from the specified columns for each row in the DataFrame.\n",
    "\n",
    "Finally, the \n",
    "\n",
    "head()\n",
    "\n",
    " method is called to display the first few rows of the modified DataFrame. This allows for a quick inspection of the changes made to the DataFrame, specifically the addition of the 'Total 2' column.\n",
    "\n",
    "In summary, this code snippet adds a new column to the DataFrame \n",
    "\n",
    "df\n",
    "\n",
    " that contains the sum of an initial value (100) and the values from the specified columns for each row, and then displays the first few rows of the updated DataFrame."
   ]
  },
  {
   "cell_type": "markdown",
   "metadata": {},
   "source": [
    "### There is more..."
   ]
  },
  {
   "cell_type": "code",
   "execution_count": 41,
   "metadata": {},
   "outputs": [
    {
     "data": {
      "text/html": [
       "<div><style>\n",
       ".dataframe > thead > tr,\n",
       ".dataframe > tbody > tr {\n",
       "  text-align: right;\n",
       "  white-space: pre-wrap;\n",
       "}\n",
       "</style>\n",
       "<small>shape: (4, 13)</small><table border=\"1\" class=\"dataframe\"><thead><tr><th>#</th><th>Name</th><th>Type 1</th><th>Type 2</th><th>Total</th><th>HP</th><th>Attack</th><th>Defense</th><th>Sp. Atk</th><th>Sp. Def</th><th>Speed</th><th>Generation</th><th>Legendary</th></tr><tr><td>i64</td><td>str</td><td>str</td><td>str</td><td>i64</td><td>i64</td><td>i64</td><td>i64</td><td>i64</td><td>i64</td><td>i64</td><td>i64</td><td>bool</td></tr></thead><tbody><tr><td>144</td><td>&quot;Articuno&quot;</td><td>&quot;Ice&quot;</td><td>&quot;Flying&quot;</td><td>580</td><td>90</td><td>85</td><td>100</td><td>95</td><td>125</td><td>85</td><td>1</td><td>true</td></tr><tr><td>145</td><td>&quot;Zapdos&quot;</td><td>&quot;Electric&quot;</td><td>&quot;Flying&quot;</td><td>580</td><td>90</td><td>90</td><td>85</td><td>125</td><td>90</td><td>100</td><td>1</td><td>true</td></tr><tr><td>146</td><td>&quot;Moltres&quot;</td><td>&quot;Fire&quot;</td><td>&quot;Flying&quot;</td><td>580</td><td>90</td><td>100</td><td>90</td><td>125</td><td>85</td><td>90</td><td>1</td><td>true</td></tr><tr><td>150</td><td>&quot;Mewtwo&quot;</td><td>&quot;Psychic&quot;</td><td>null</td><td>680</td><td>106</td><td>110</td><td>90</td><td>154</td><td>90</td><td>130</td><td>1</td><td>true</td></tr></tbody></table></div>"
      ],
      "text/plain": [
       "shape: (4, 13)\n",
       "┌─────┬──────────┬──────────┬────────┬───┬─────────┬───────┬────────────┬───────────┐\n",
       "│ #   ┆ Name     ┆ Type 1   ┆ Type 2 ┆ … ┆ Sp. Def ┆ Speed ┆ Generation ┆ Legendary │\n",
       "│ --- ┆ ---      ┆ ---      ┆ ---    ┆   ┆ ---     ┆ ---   ┆ ---        ┆ ---       │\n",
       "│ i64 ┆ str      ┆ str      ┆ str    ┆   ┆ i64     ┆ i64   ┆ i64        ┆ bool      │\n",
       "╞═════╪══════════╪══════════╪════════╪═══╪═════════╪═══════╪════════════╪═══════════╡\n",
       "│ 144 ┆ Articuno ┆ Ice      ┆ Flying ┆ … ┆ 125     ┆ 85    ┆ 1          ┆ true      │\n",
       "│ 145 ┆ Zapdos   ┆ Electric ┆ Flying ┆ … ┆ 90      ┆ 100   ┆ 1          ┆ true      │\n",
       "│ 146 ┆ Moltres  ┆ Fire     ┆ Flying ┆ … ┆ 85      ┆ 90    ┆ 1          ┆ true      │\n",
       "│ 150 ┆ Mewtwo   ┆ Psychic  ┆ null   ┆ … ┆ 90      ┆ 130   ┆ 1          ┆ true      │\n",
       "└─────┴──────────┴──────────┴────────┴───┴─────────┴───────┴────────────┴───────────┘"
      ]
     },
     "execution_count": 41,
     "metadata": {},
     "output_type": "execute_result"
    }
   ],
   "source": [
    "\"\"\"\n",
    "Filters the DataFrame `df` to include only rows where all specified columns have values greater than 80,\n",
    "and then returns the first few rows of the filtered DataFrame.\n",
    "\n",
    "The filtering is done using the `pl.fold` function, which iteratively applies a logical AND operation\n",
    "to check if all columns specified in `cols` have values greater than 80.\n",
    "\n",
    "Returns:\n",
    "    DataFrame: The first few rows of the filtered DataFrame.\n",
    "\"\"\"\n",
    "(\n",
    "    df\n",
    "    .filter(\n",
    "        pl.fold(\n",
    "            acc=pl.lit(True), \n",
    "            function=lambda acc, col: acc & col, \n",
    "            exprs=pl.col(cols) > 80\n",
    "        )\n",
    "    )\n",
    "    .head()\n",
    ")"
   ]
  },
  {
   "cell_type": "code",
   "execution_count": 42,
   "metadata": {},
   "outputs": [
    {
     "data": {
      "text/html": [
       "<div><style>\n",
       ".dataframe > thead > tr,\n",
       ".dataframe > tbody > tr {\n",
       "  text-align: right;\n",
       "  white-space: pre-wrap;\n",
       "}\n",
       "</style>\n",
       "<small>shape: (4, 13)</small><table border=\"1\" class=\"dataframe\"><thead><tr><th>#</th><th>Name</th><th>Type 1</th><th>Type 2</th><th>Total</th><th>HP</th><th>Attack</th><th>Defense</th><th>Sp. Atk</th><th>Sp. Def</th><th>Speed</th><th>Generation</th><th>Legendary</th></tr><tr><td>i64</td><td>str</td><td>str</td><td>str</td><td>i64</td><td>i64</td><td>i64</td><td>i64</td><td>i64</td><td>i64</td><td>i64</td><td>i64</td><td>bool</td></tr></thead><tbody><tr><td>144</td><td>&quot;Articuno&quot;</td><td>&quot;Ice&quot;</td><td>&quot;Flying&quot;</td><td>580</td><td>90</td><td>85</td><td>100</td><td>95</td><td>125</td><td>85</td><td>1</td><td>true</td></tr><tr><td>145</td><td>&quot;Zapdos&quot;</td><td>&quot;Electric&quot;</td><td>&quot;Flying&quot;</td><td>580</td><td>90</td><td>90</td><td>85</td><td>125</td><td>90</td><td>100</td><td>1</td><td>true</td></tr><tr><td>146</td><td>&quot;Moltres&quot;</td><td>&quot;Fire&quot;</td><td>&quot;Flying&quot;</td><td>580</td><td>90</td><td>100</td><td>90</td><td>125</td><td>85</td><td>90</td><td>1</td><td>true</td></tr><tr><td>150</td><td>&quot;Mewtwo&quot;</td><td>&quot;Psychic&quot;</td><td>null</td><td>680</td><td>106</td><td>110</td><td>90</td><td>154</td><td>90</td><td>130</td><td>1</td><td>true</td></tr></tbody></table></div>"
      ],
      "text/plain": [
       "shape: (4, 13)\n",
       "┌─────┬──────────┬──────────┬────────┬───┬─────────┬───────┬────────────┬───────────┐\n",
       "│ #   ┆ Name     ┆ Type 1   ┆ Type 2 ┆ … ┆ Sp. Def ┆ Speed ┆ Generation ┆ Legendary │\n",
       "│ --- ┆ ---      ┆ ---      ┆ ---    ┆   ┆ ---     ┆ ---   ┆ ---        ┆ ---       │\n",
       "│ i64 ┆ str      ┆ str      ┆ str    ┆   ┆ i64     ┆ i64   ┆ i64        ┆ bool      │\n",
       "╞═════╪══════════╪══════════╪════════╪═══╪═════════╪═══════╪════════════╪═══════════╡\n",
       "│ 144 ┆ Articuno ┆ Ice      ┆ Flying ┆ … ┆ 125     ┆ 85    ┆ 1          ┆ true      │\n",
       "│ 145 ┆ Zapdos   ┆ Electric ┆ Flying ┆ … ┆ 90      ┆ 100   ┆ 1          ┆ true      │\n",
       "│ 146 ┆ Moltres  ┆ Fire     ┆ Flying ┆ … ┆ 85      ┆ 90    ┆ 1          ┆ true      │\n",
       "│ 150 ┆ Mewtwo   ┆ Psychic  ┆ null   ┆ … ┆ 90      ┆ 130   ┆ 1          ┆ true      │\n",
       "└─────┴──────────┴──────────┴────────┴───┴─────────┴───────┴────────────┴───────────┘"
      ]
     },
     "execution_count": 42,
     "metadata": {},
     "output_type": "execute_result"
    }
   ],
   "source": [
    "(\n",
    "    df\n",
    "    .filter(\n",
    "        pl.all_horizontal(pl.col(cols) > 80)\n",
    "    )\n",
    "    .head()\n",
    ")"
   ]
  },
  {
   "cell_type": "code",
   "execution_count": 44,
   "metadata": {},
   "outputs": [
    {
     "data": {
      "text/html": [
       "<div><style>\n",
       ".dataframe > thead > tr,\n",
       ".dataframe > tbody > tr {\n",
       "  text-align: right;\n",
       "  white-space: pre-wrap;\n",
       "}\n",
       "</style>\n",
       "<small>shape: (5, 4)</small><table border=\"1\" class=\"dataframe\"><thead><tr><th>Name</th><th>Type 1</th><th>Type 2</th><th>Str Combined</th></tr><tr><td>str</td><td>str</td><td>str</td><td>str</td></tr></thead><tbody><tr><td>&quot;Bulbasaur&quot;</td><td>&quot;Grass&quot;</td><td>&quot;Poison&quot;</td><td>&quot;BulbasaurGrassPoison&quot;</td></tr><tr><td>&quot;Ivysaur&quot;</td><td>&quot;Grass&quot;</td><td>&quot;Poison&quot;</td><td>&quot;IvysaurGrassPoison&quot;</td></tr><tr><td>&quot;Venusaur&quot;</td><td>&quot;Grass&quot;</td><td>&quot;Poison&quot;</td><td>&quot;VenusaurGrassPoison&quot;</td></tr><tr><td>&quot;VenusaurMega Venusaur&quot;</td><td>&quot;Grass&quot;</td><td>&quot;Poison&quot;</td><td>&quot;VenusaurMega VenusaurGrassPoison&quot;</td></tr><tr><td>&quot;Charmander&quot;</td><td>&quot;Fire&quot;</td><td>null</td><td>null</td></tr></tbody></table></div>"
      ],
      "text/plain": [
       "shape: (5, 4)\n",
       "┌───────────────────────┬────────┬────────┬──────────────────────────────────┐\n",
       "│ Name                  ┆ Type 1 ┆ Type 2 ┆ Str Combined                     │\n",
       "│ ---                   ┆ ---    ┆ ---    ┆ ---                              │\n",
       "│ str                   ┆ str    ┆ str    ┆ str                              │\n",
       "╞═══════════════════════╪════════╪════════╪══════════════════════════════════╡\n",
       "│ Bulbasaur             ┆ Grass  ┆ Poison ┆ BulbasaurGrassPoison             │\n",
       "│ Ivysaur               ┆ Grass  ┆ Poison ┆ IvysaurGrassPoison               │\n",
       "│ Venusaur              ┆ Grass  ┆ Poison ┆ VenusaurGrassPoison              │\n",
       "│ VenusaurMega Venusaur ┆ Grass  ┆ Poison ┆ VenusaurMega VenusaurGrassPoison │\n",
       "│ Charmander            ┆ Fire   ┆ null   ┆ null                             │\n",
       "└───────────────────────┴────────┴────────┴──────────────────────────────────┘"
      ]
     },
     "execution_count": 44,
     "metadata": {},
     "output_type": "execute_result"
    }
   ],
   "source": [
    "str_cols = ['Name', 'Type 1', 'Type 2']\n",
    "\"\"\"\n",
    "This code snippet performs the following operations:\n",
    "1. Defines a list of column names `str_cols` that contains string columns: 'Name', 'Type 1', and 'Type 2'.\n",
    "2. Uses the `pl.fold` function to concatenate the values of the columns in `str_cols` into a single string column named 'Str Combined'.\n",
    "    - `acc=pl.lit('')`: Initializes the accumulator with an empty string.\n",
    "    - `function=lambda acc, col: acc + col`: Defines a lambda function to concatenate the accumulator with the current column value.\n",
    "    - `exprs=str_cols`: Specifies the columns to be concatenated.\n",
    "    - `.alias('Str Combined')`: Assigns the alias 'Str Combined' to the resulting concatenated column.\n",
    "3. Appends the new 'Str Combined' column to the `str_cols` list.\n",
    "4. Selects the columns in `str_cols` from the DataFrame `df` and displays the first few rows using the `head()` method.\n",
    "\"\"\"\n",
    "str_combined = pl.fold(acc=pl.lit(''), function=lambda acc, col: acc + col, exprs=str_cols).alias('Str Combined')\n",
    "str_cols.append(str_combined)\n",
    "df.select(str_cols).head()"
   ]
  },
  {
   "cell_type": "code",
   "execution_count": 45,
   "metadata": {},
   "outputs": [
    {
     "data": {
      "text/html": [
       "<div><style>\n",
       ".dataframe > thead > tr,\n",
       ".dataframe > tbody > tr {\n",
       "  text-align: right;\n",
       "  white-space: pre-wrap;\n",
       "}\n",
       "</style>\n",
       "<small>shape: (5, 1)</small><table border=\"1\" class=\"dataframe\"><thead><tr><th>Name</th></tr><tr><td>str</td></tr></thead><tbody><tr><td>&quot;BulbasaurGrassPoison&quot;</td></tr><tr><td>&quot;IvysaurGrassPoison&quot;</td></tr><tr><td>&quot;VenusaurGrassPoison&quot;</td></tr><tr><td>&quot;VenusaurMega VenusaurGrassPoison&quot;</td></tr><tr><td>null</td></tr></tbody></table></div>"
      ],
      "text/plain": [
       "shape: (5, 1)\n",
       "┌──────────────────────────────────┐\n",
       "│ Name                             │\n",
       "│ ---                              │\n",
       "│ str                              │\n",
       "╞══════════════════════════════════╡\n",
       "│ BulbasaurGrassPoison             │\n",
       "│ IvysaurGrassPoison               │\n",
       "│ VenusaurGrassPoison              │\n",
       "│ VenusaurMega VenusaurGrassPoison │\n",
       "│ null                             │\n",
       "└──────────────────────────────────┘"
      ]
     },
     "execution_count": 45,
     "metadata": {},
     "output_type": "execute_result"
    }
   ],
   "source": [
    "str_cols = ['Name', 'Type 1', 'Type 2']\n",
    "df.select(pl.concat_str(str_cols)).head()"
   ]
  },
  {
   "cell_type": "markdown",
   "metadata": {},
   "source": [
    "## Computing over groups with window functions"
   ]
  },
  {
   "cell_type": "markdown",
   "metadata": {},
   "source": [
    "### How to do it..."
   ]
  },
  {
   "cell_type": "code",
   "execution_count": 46,
   "metadata": {},
   "outputs": [],
   "source": [
    "import polars as pl"
   ]
  },
  {
   "cell_type": "code",
   "execution_count": 47,
   "metadata": {},
   "outputs": [],
   "source": [
    "import os \n",
    "os.environ['POLARS_FMT_STR_LEN'] = str(50) "
   ]
  },
  {
   "cell_type": "code",
   "execution_count": 48,
   "metadata": {},
   "outputs": [
    {
     "data": {
      "text/html": [
       "<div><style>\n",
       ".dataframe > thead > tr,\n",
       ".dataframe > tbody > tr {\n",
       "  text-align: right;\n",
       "  white-space: pre-wrap;\n",
       "}\n",
       "</style>\n",
       "<small>shape: (5, 21)</small><table border=\"1\" class=\"dataframe\"><thead><tr><th>Order Number</th><th>Line Number</th><th>Order Date</th><th>Delivery Date</th><th>Customer Name</th><th>Customer Gender</th><th>Customer Country</th><th>Customer Age</th><th>Store Name</th><th>Product Name</th><th>Color</th><th>Brand</th><th>Category</th><th>Subcategory</th><th>Quantity</th><th>Unit Price</th><th>Net Price</th><th>Unit Cost</th><th>Currency Code</th><th>Exchange Rate</th><th>Sales Amount</th></tr><tr><td>i64</td><td>i64</td><td>date</td><td>date</td><td>str</td><td>str</td><td>str</td><td>i64</td><td>str</td><td>str</td><td>str</td><td>str</td><td>str</td><td>str</td><td>i64</td><td>f64</td><td>f64</td><td>f64</td><td>str</td><td>f64</td><td>f64</td></tr></thead><tbody><tr><td>284806</td><td>1</td><td>2017-10-18</td><td>2017-10-20</td><td>&quot;Eric Kennedy&quot;</td><td>&quot;Male&quot;</td><td>&quot;United States&quot;</td><td>47</td><td>&quot;Online store&quot;</td><td>&quot;Contoso 512MB MP3 Player E51 Silver&quot;</td><td>&quot;Silver&quot;</td><td>&quot;Contoso&quot;</td><td>&quot;Audio&quot;</td><td>&quot;MP4&amp;MP3&quot;</td><td>7</td><td>11.691</td><td>10.288</td><td>5.958</td><td>&quot;USD&quot;</td><td>1.0</td><td>72.02</td></tr><tr><td>285506</td><td>1</td><td>2017-10-25</td><td>2017-10-26</td><td>&quot;George Tooth&quot;</td><td>&quot;Male&quot;</td><td>&quot;Australia&quot;</td><td>30</td><td>&quot;Online store&quot;</td><td>&quot;Contoso 512MB MP3 Player E51 Silver&quot;</td><td>&quot;Silver&quot;</td><td>&quot;Contoso&quot;</td><td>&quot;Audio&quot;</td><td>&quot;MP4&amp;MP3&quot;</td><td>1</td><td>11.691</td><td>11.691</td><td>5.958</td><td>&quot;AUD&quot;</td><td>1.2967</td><td>11.69</td></tr><tr><td>311002</td><td>2</td><td>2018-07-07</td><td>2018-07-12</td><td>&quot;Caleb Greene&quot;</td><td>&quot;Male&quot;</td><td>&quot;Australia&quot;</td><td>59</td><td>&quot;Online store&quot;</td><td>&quot;Contoso 512MB MP3 Player E51 Silver&quot;</td><td>&quot;Silver&quot;</td><td>&quot;Contoso&quot;</td><td>&quot;Audio&quot;</td><td>&quot;MP4&amp;MP3&quot;</td><td>6</td><td>12.99</td><td>12.99</td><td>6.62</td><td>&quot;AUD&quot;</td><td>1.3484</td><td>77.94</td></tr><tr><td>366307</td><td>2</td><td>2020-01-11</td><td>2020-01-11</td><td>&quot;Isaac Siddins&quot;</td><td>&quot;Male&quot;</td><td>&quot;Australia&quot;</td><td>25</td><td>&quot;Contoso Store Western Australia&quot;</td><td>&quot;Contoso 512MB MP3 Player E51 Blue&quot;</td><td>&quot;Blue&quot;</td><td>&quot;Contoso&quot;</td><td>&quot;Audio&quot;</td><td>&quot;MP4&amp;MP3&quot;</td><td>4</td><td>12.99</td><td>12.99</td><td>6.62</td><td>&quot;AUD&quot;</td><td>1.4545</td><td>51.96</td></tr><tr><td>325708</td><td>3</td><td>2018-12-01</td><td>2018-12-02</td><td>&quot;Mike McQueen&quot;</td><td>&quot;Male&quot;</td><td>&quot;United States&quot;</td><td>56</td><td>&quot;Online store&quot;</td><td>&quot;Contoso 512MB MP3 Player E51 Blue&quot;</td><td>&quot;Blue&quot;</td><td>&quot;Contoso&quot;</td><td>&quot;Audio&quot;</td><td>&quot;MP4&amp;MP3&quot;</td><td>2</td><td>12.99</td><td>11.5611</td><td>6.62</td><td>&quot;USD&quot;</td><td>1.0</td><td>23.12</td></tr></tbody></table></div>"
      ],
      "text/plain": [
       "shape: (5, 21)\n",
       "┌────────┬────────┬────────────┬─────────────────┬───┬───────┬──────────┬─────────────────┬────────┐\n",
       "│ Order  ┆ Line   ┆ Order Date ┆ Delivery Date   ┆ … ┆ Unit  ┆ Currency ┆ Exchange Rate   ┆ Sales  │\n",
       "│ Number ┆ Number ┆ ---        ┆ ---             ┆   ┆ Cost  ┆ Code     ┆ ---             ┆ Amount │\n",
       "│ ---    ┆ ---    ┆ date       ┆ date            ┆   ┆ ---   ┆ ---      ┆ f64             ┆ ---    │\n",
       "│ i64    ┆ i64    ┆            ┆                 ┆   ┆ f64   ┆ str      ┆                 ┆ f64    │\n",
       "╞════════╪════════╪════════════╪═════════════════╪═══╪═══════╪══════════╪═════════════════╪════════╡\n",
       "│ 284806 ┆ 1      ┆ 2017-10-18 ┆ 2017-10-20      ┆ … ┆ 5.958 ┆ USD      ┆ 1.0             ┆ 72.02  │\n",
       "│ 285506 ┆ 1      ┆ 2017-10-25 ┆ 2017-10-26      ┆ … ┆ 5.958 ┆ AUD      ┆ 1.2967          ┆ 11.69  │\n",
       "│ 311002 ┆ 2      ┆ 2018-07-07 ┆ 2018-07-12      ┆ … ┆ 6.62  ┆ AUD      ┆ 1.3484          ┆ 77.94  │\n",
       "│ 366307 ┆ 2      ┆ 2020-01-11 ┆ 2020-01-11      ┆ … ┆ 6.62  ┆ AUD      ┆ 1.4545          ┆ 51.96  │\n",
       "│ 325708 ┆ 3      ┆ 2018-12-01 ┆ 2018-12-02      ┆ … ┆ 6.62  ┆ USD      ┆ 1.0             ┆ 23.12  │\n",
       "└────────┴────────┴────────────┴─────────────────┴───┴───────┴──────────┴─────────────────┴────────┘"
      ]
     },
     "execution_count": 48,
     "metadata": {},
     "output_type": "execute_result"
    }
   ],
   "source": [
    "df = pl.read_csv('../data/contoso_sales.csv', try_parse_dates=True)\n",
    "df = df.with_columns(\n",
    "    (pl.col('Quantity') * pl.col('Net Price')).round(2).alias('Sales Amount')\n",
    ")\n",
    "df.head()"
   ]
  },
  {
   "cell_type": "code",
   "execution_count": 49,
   "metadata": {},
   "outputs": [
    {
     "data": {
      "text/html": [
       "<div><style>\n",
       ".dataframe > thead > tr,\n",
       ".dataframe > tbody > tr {\n",
       "  text-align: right;\n",
       "  white-space: pre-wrap;\n",
       "}\n",
       "</style>\n",
       "<small>shape: (5, 3)</small><table border=\"1\" class=\"dataframe\"><thead><tr><th>Category</th><th>Subcategory</th><th>Sales Amt per Cat</th></tr><tr><td>str</td><td>str</td><td>f64</td></tr></thead><tbody><tr><td>&quot;Audio&quot;</td><td>&quot;MP4&amp;MP3&quot;</td><td>238356.0</td></tr><tr><td>&quot;Audio&quot;</td><td>&quot;MP4&amp;MP3&quot;</td><td>238356.0</td></tr><tr><td>&quot;Audio&quot;</td><td>&quot;MP4&amp;MP3&quot;</td><td>238356.0</td></tr><tr><td>&quot;Audio&quot;</td><td>&quot;MP4&amp;MP3&quot;</td><td>238356.0</td></tr><tr><td>&quot;Audio&quot;</td><td>&quot;MP4&amp;MP3&quot;</td><td>238356.0</td></tr></tbody></table></div>"
      ],
      "text/plain": [
       "shape: (5, 3)\n",
       "┌──────────┬─────────────┬───────────────────┐\n",
       "│ Category ┆ Subcategory ┆ Sales Amt per Cat │\n",
       "│ ---      ┆ ---         ┆ ---               │\n",
       "│ str      ┆ str         ┆ f64               │\n",
       "╞══════════╪═════════════╪═══════════════════╡\n",
       "│ Audio    ┆ MP4&MP3     ┆ 238356.0          │\n",
       "│ Audio    ┆ MP4&MP3     ┆ 238356.0          │\n",
       "│ Audio    ┆ MP4&MP3     ┆ 238356.0          │\n",
       "│ Audio    ┆ MP4&MP3     ┆ 238356.0          │\n",
       "│ Audio    ┆ MP4&MP3     ┆ 238356.0          │\n",
       "└──────────┴─────────────┴───────────────────┘"
      ]
     },
     "execution_count": 49,
     "metadata": {},
     "output_type": "execute_result"
    }
   ],
   "source": [
    "sales_by_cat = df.select(\n",
    "    'Category',\n",
    "    'Subcategory',\n",
    "    pl.col('Sales Amount').sum().over('Category').alias('Sales Amt per Cat')\n",
    ")\n",
    "sales_by_cat.head()    "
   ]
  },
  {
   "cell_type": "code",
   "execution_count": 50,
   "metadata": {},
   "outputs": [
    {
     "data": {
      "text/html": [
       "<div><style>\n",
       ".dataframe > thead > tr,\n",
       ".dataframe > tbody > tr {\n",
       "  text-align: right;\n",
       "  white-space: pre-wrap;\n",
       "}\n",
       "</style>\n",
       "<small>shape: (3, 3)</small><table border=\"1\" class=\"dataframe\"><thead><tr><th>Category</th><th>Subcategory</th><th>Sales Amt per Cat</th></tr><tr><td>str</td><td>str</td><td>f64</td></tr></thead><tbody><tr><td>&quot;Audio&quot;</td><td>&quot;MP4&amp;MP3&quot;</td><td>238356.0</td></tr><tr><td>&quot;Audio&quot;</td><td>&quot;Bluetooth Headphones&quot;</td><td>238356.0</td></tr><tr><td>&quot;Audio&quot;</td><td>&quot;Recording Pen&quot;</td><td>238356.0</td></tr></tbody></table></div>"
      ],
      "text/plain": [
       "shape: (3, 3)\n",
       "┌──────────┬──────────────────────┬───────────────────┐\n",
       "│ Category ┆ Subcategory          ┆ Sales Amt per Cat │\n",
       "│ ---      ┆ ---                  ┆ ---               │\n",
       "│ str      ┆ str                  ┆ f64               │\n",
       "╞══════════╪══════════════════════╪═══════════════════╡\n",
       "│ Audio    ┆ MP4&MP3              ┆ 238356.0          │\n",
       "│ Audio    ┆ Bluetooth Headphones ┆ 238356.0          │\n",
       "│ Audio    ┆ Recording Pen        ┆ 238356.0          │\n",
       "└──────────┴──────────────────────┴───────────────────┘"
      ]
     },
     "execution_count": 50,
     "metadata": {},
     "output_type": "execute_result"
    }
   ],
   "source": [
    "sales_by_cat.filter(pl.col('Category')=='Audio').unique().head()"
   ]
  },
  {
   "cell_type": "code",
   "execution_count": 51,
   "metadata": {},
   "outputs": [
    {
     "data": {
      "text/plain": [
       "((13915, 21), (13915, 3))"
      ]
     },
     "execution_count": 51,
     "metadata": {},
     "output_type": "execute_result"
    }
   ],
   "source": [
    "df.shape, sales_by_cat.shape "
   ]
  },
  {
   "cell_type": "code",
   "execution_count": 52,
   "metadata": {},
   "outputs": [
    {
     "data": {
      "text/html": [
       "<div><style>\n",
       ".dataframe > thead > tr,\n",
       ".dataframe > tbody > tr {\n",
       "  text-align: right;\n",
       "  white-space: pre-wrap;\n",
       "}\n",
       "</style>\n",
       "<small>shape: (10, 4)</small><table border=\"1\" class=\"dataframe\"><thead><tr><th>Category</th><th>Brand</th><th>Subcategory</th><th>Avg Sales per Cat and Brand</th></tr><tr><td>str</td><td>str</td><td>str</td><td>f64</td></tr></thead><tbody><tr><td>&quot;Computers&quot;</td><td>&quot;Adventure Works&quot;</td><td>&quot;Laptops&quot;</td><td>1797.371846</td></tr><tr><td>&quot;Computers&quot;</td><td>&quot;Adventure Works&quot;</td><td>&quot;Desktops&quot;</td><td>1797.371846</td></tr><tr><td>&quot;Computers&quot;</td><td>&quot;Adventure Works&quot;</td><td>&quot;Monitors&quot;</td><td>1797.371846</td></tr><tr><td>&quot;Computers&quot;</td><td>&quot;Contoso&quot;</td><td>&quot;Projectors &amp; Screens&quot;</td><td>689.986652</td></tr><tr><td>&quot;Computers&quot;</td><td>&quot;Contoso&quot;</td><td>&quot;Computers Accessories&quot;</td><td>689.986652</td></tr><tr><td>&quot;Computers&quot;</td><td>&quot;Fabrikam&quot;</td><td>&quot;Laptops&quot;</td><td>1982.066063</td></tr><tr><td>&quot;Computers&quot;</td><td>&quot;Proseware&quot;</td><td>&quot;Monitors&quot;</td><td>1095.305012</td></tr><tr><td>&quot;Computers&quot;</td><td>&quot;Proseware&quot;</td><td>&quot;Laptops&quot;</td><td>1095.305012</td></tr><tr><td>&quot;Computers&quot;</td><td>&quot;Proseware&quot;</td><td>&quot;Projectors &amp; Screens&quot;</td><td>1095.305012</td></tr><tr><td>&quot;Computers&quot;</td><td>&quot;Proseware&quot;</td><td>&quot;Printers, Scanners &amp; Fax&quot;</td><td>1095.305012</td></tr></tbody></table></div>"
      ],
      "text/plain": [
       "shape: (10, 4)\n",
       "┌───────────┬─────────────────┬──────────────────────────┬─────────────────────────────┐\n",
       "│ Category  ┆ Brand           ┆ Subcategory              ┆ Avg Sales per Cat and Brand │\n",
       "│ ---       ┆ ---             ┆ ---                      ┆ ---                         │\n",
       "│ str       ┆ str             ┆ str                      ┆ f64                         │\n",
       "╞═══════════╪═════════════════╪══════════════════════════╪═════════════════════════════╡\n",
       "│ Computers ┆ Adventure Works ┆ Laptops                  ┆ 1797.371846                 │\n",
       "│ Computers ┆ Adventure Works ┆ Desktops                 ┆ 1797.371846                 │\n",
       "│ Computers ┆ Adventure Works ┆ Monitors                 ┆ 1797.371846                 │\n",
       "│ Computers ┆ Contoso         ┆ Projectors & Screens     ┆ 689.986652                  │\n",
       "│ Computers ┆ Contoso         ┆ Computers Accessories    ┆ 689.986652                  │\n",
       "│ Computers ┆ Fabrikam        ┆ Laptops                  ┆ 1982.066063                 │\n",
       "│ Computers ┆ Proseware       ┆ Monitors                 ┆ 1095.305012                 │\n",
       "│ Computers ┆ Proseware       ┆ Laptops                  ┆ 1095.305012                 │\n",
       "│ Computers ┆ Proseware       ┆ Projectors & Screens     ┆ 1095.305012                 │\n",
       "│ Computers ┆ Proseware       ┆ Printers, Scanners & Fax ┆ 1095.305012                 │\n",
       "└───────────┴─────────────────┴──────────────────────────┴─────────────────────────────┘"
      ]
     },
     "execution_count": 52,
     "metadata": {},
     "output_type": "execute_result"
    }
   ],
   "source": [
    "(\n",
    "    df\n",
    "    .select(\n",
    "        'Category',\n",
    "        'Brand',\n",
    "        'Subcategory',\n",
    "        pl.col('Sales Amount').mean().over('Category', 'Brand').alias('Avg Sales per Cat and Brand')\n",
    "    )\n",
    "    .filter(\n",
    "        (pl.col('Category')=='Computers') \n",
    "    )\n",
    "    .unique()\n",
    "    .sort('Brand')\n",
    "    .head(10)\n",
    ")"
   ]
  },
  {
   "cell_type": "code",
   "execution_count": 53,
   "metadata": {},
   "outputs": [
    {
     "data": {
      "text/html": [
       "<div><style>\n",
       ".dataframe > thead > tr,\n",
       ".dataframe > tbody > tr {\n",
       "  text-align: right;\n",
       "  white-space: pre-wrap;\n",
       "}\n",
       "</style>\n",
       "<small>shape: (10, 4)</small><table border=\"1\" class=\"dataframe\"><thead><tr><th>Category</th><th>Brand</th><th>Customer Age</th><th>Avg Sales per Cat</th></tr><tr><td>str</td><td>str</td><td>i64</td><td>f64</td></tr></thead><tbody><tr><td>&quot;Computers&quot;</td><td>&quot;Adventure Works&quot;</td><td>19</td><td>1665.993509</td></tr><tr><td>&quot;Computers&quot;</td><td>&quot;Fabrikam&quot;</td><td>19</td><td>1665.993509</td></tr><tr><td>&quot;Computers&quot;</td><td>&quot;Contoso&quot;</td><td>19</td><td>1665.993509</td></tr><tr><td>&quot;Computers&quot;</td><td>&quot;Proseware&quot;</td><td>19</td><td>1665.993509</td></tr><tr><td>&quot;Computers&quot;</td><td>&quot;Southridge Video&quot;</td><td>19</td><td>1665.993509</td></tr><tr><td>&quot;Computers&quot;</td><td>&quot;Wide World Importers&quot;</td><td>19</td><td>1665.993509</td></tr><tr><td>&quot;Computers&quot;</td><td>&quot;Fabrikam&quot;</td><td>20</td><td>2094.541563</td></tr><tr><td>&quot;Computers&quot;</td><td>&quot;Proseware&quot;</td><td>20</td><td>2094.541563</td></tr><tr><td>&quot;Computers&quot;</td><td>&quot;Southridge Video&quot;</td><td>20</td><td>2094.541563</td></tr><tr><td>&quot;Computers&quot;</td><td>&quot;Contoso&quot;</td><td>20</td><td>2094.541563</td></tr></tbody></table></div>"
      ],
      "text/plain": [
       "shape: (10, 4)\n",
       "┌───────────┬──────────────────────┬──────────────┬───────────────────┐\n",
       "│ Category  ┆ Brand                ┆ Customer Age ┆ Avg Sales per Cat │\n",
       "│ ---       ┆ ---                  ┆ ---          ┆ ---               │\n",
       "│ str       ┆ str                  ┆ i64          ┆ f64               │\n",
       "╞═══════════╪══════════════════════╪══════════════╪═══════════════════╡\n",
       "│ Computers ┆ Adventure Works      ┆ 19           ┆ 1665.993509       │\n",
       "│ Computers ┆ Fabrikam             ┆ 19           ┆ 1665.993509       │\n",
       "│ Computers ┆ Contoso              ┆ 19           ┆ 1665.993509       │\n",
       "│ Computers ┆ Proseware            ┆ 19           ┆ 1665.993509       │\n",
       "│ Computers ┆ Southridge Video     ┆ 19           ┆ 1665.993509       │\n",
       "│ Computers ┆ Wide World Importers ┆ 19           ┆ 1665.993509       │\n",
       "│ Computers ┆ Fabrikam             ┆ 20           ┆ 2094.541563       │\n",
       "│ Computers ┆ Proseware            ┆ 20           ┆ 2094.541563       │\n",
       "│ Computers ┆ Southridge Video     ┆ 20           ┆ 2094.541563       │\n",
       "│ Computers ┆ Contoso              ┆ 20           ┆ 2094.541563       │\n",
       "└───────────┴──────────────────────┴──────────────┴───────────────────┘"
      ]
     },
     "execution_count": 53,
     "metadata": {},
     "output_type": "execute_result"
    }
   ],
   "source": [
    "from datetime import date\n",
    "\n",
    "curr_yr = date.today().year\n",
    "cust_birth_yr = curr_yr - pl.col('Customer Age')\n",
    "\n",
    "(\n",
    "    df\n",
    "    .select(\n",
    "        'Category',\n",
    "        'Brand',\n",
    "        'Customer Age',\n",
    "        pl.col('Sales Amount').mean().over('Category', cust_birth_yr).alias('Avg Sales per Cat') \n",
    "    )\n",
    "    .filter(pl.col('Category')=='Computers')\n",
    "    .unique()\n",
    "    .sort('Customer Age')\n",
    "    .head(10)\n",
    ")"
   ]
  },
  {
   "cell_type": "code",
   "execution_count": 54,
   "metadata": {},
   "outputs": [
    {
     "data": {
      "text/html": [
       "<div><style>\n",
       ".dataframe > thead > tr,\n",
       ".dataframe > tbody > tr {\n",
       "  text-align: right;\n",
       "  white-space: pre-wrap;\n",
       "}\n",
       "</style>\n",
       "<small>shape: (8, 3)</small><table border=\"1\" class=\"dataframe\"><thead><tr><th>Category</th><th>Max Sales Amt</th><th>Rank</th></tr><tr><td>str</td><td>f64</td><td>f64</td></tr></thead><tbody><tr><td>&quot;TV and Video&quot;</td><td>28999.9</td><td>1.0</td></tr><tr><td>&quot;Home Appliances&quot;</td><td>28479.91</td><td>2.0</td></tr><tr><td>&quot;Computers&quot;</td><td>19992.0</td><td>3.0</td></tr><tr><td>&quot;Cameras and camcorders &quot;</td><td>10810.8</td><td>4.0</td></tr><tr><td>&quot;Cell phones&quot;</td><td>5183.2</td><td>5.0</td></tr><tr><td>&quot;Music, Movies and Audio Books&quot;</td><td>3041.88</td><td>6.0</td></tr><tr><td>&quot;Audio&quot;</td><td>2871.2</td><td>7.0</td></tr><tr><td>&quot;Games and Toys&quot;</td><td>2813.16</td><td>8.0</td></tr></tbody></table></div>"
      ],
      "text/plain": [
       "shape: (8, 3)\n",
       "┌───────────────────────────────┬───────────────┬──────┐\n",
       "│ Category                      ┆ Max Sales Amt ┆ Rank │\n",
       "│ ---                           ┆ ---           ┆ ---  │\n",
       "│ str                           ┆ f64           ┆ f64  │\n",
       "╞═══════════════════════════════╪═══════════════╪══════╡\n",
       "│ TV and Video                  ┆ 28999.9       ┆ 1.0  │\n",
       "│ Home Appliances               ┆ 28479.91      ┆ 2.0  │\n",
       "│ Computers                     ┆ 19992.0       ┆ 3.0  │\n",
       "│ Cameras and camcorders        ┆ 10810.8       ┆ 4.0  │\n",
       "│ Cell phones                   ┆ 5183.2        ┆ 5.0  │\n",
       "│ Music, Movies and Audio Books ┆ 3041.88       ┆ 6.0  │\n",
       "│ Audio                         ┆ 2871.2        ┆ 7.0  │\n",
       "│ Games and Toys                ┆ 2813.16       ┆ 8.0  │\n",
       "└───────────────────────────────┴───────────────┴──────┘"
      ]
     },
     "execution_count": 54,
     "metadata": {},
     "output_type": "execute_result"
    }
   ],
   "source": [
    "(\n",
    "    df\n",
    "    .group_by('Category')\n",
    "    .agg(pl.col('Sales Amount').max().alias('Max Sales Amt'))\n",
    "    .with_columns(\n",
    "        pl.col('Max Sales Amt').rank(descending=True).alias('Rank')\n",
    "    )\n",
    "    .sort('Rank')\n",
    ")"
   ]
  },
  {
   "cell_type": "code",
   "execution_count": 55,
   "metadata": {},
   "outputs": [
    {
     "data": {
      "text/html": [
       "<div><style>\n",
       ".dataframe > thead > tr,\n",
       ".dataframe > tbody > tr {\n",
       "  text-align: right;\n",
       "  white-space: pre-wrap;\n",
       "}\n",
       "</style>\n",
       "<small>shape: (9, 4)</small><table border=\"1\" class=\"dataframe\"><thead><tr><th>Category</th><th>Subcategory</th><th>Max Sales Amt</th><th>Rank</th></tr><tr><td>str</td><td>str</td><td>i64</td><td>i64</td></tr></thead><tbody><tr><td>&quot;Audio&quot;</td><td>&quot;Recording Pen&quot;</td><td>2871</td><td>1</td></tr><tr><td>&quot;Audio&quot;</td><td>&quot;Bluetooth Headphones&quot;</td><td>2250</td><td>2</td></tr><tr><td>&quot;Audio&quot;</td><td>&quot;MP4&amp;MP3&quot;</td><td>2095</td><td>3</td></tr><tr><td>&quot;Computers&quot;</td><td>&quot;Projectors &amp; Screens&quot;</td><td>19992</td><td>1</td></tr><tr><td>&quot;Computers&quot;</td><td>&quot;Laptops&quot;</td><td>19485</td><td>2</td></tr><tr><td>&quot;Computers&quot;</td><td>&quot;Desktops&quot;</td><td>14535</td><td>3</td></tr><tr><td>&quot;Computers&quot;</td><td>&quot;Monitors&quot;</td><td>11425</td><td>4</td></tr><tr><td>&quot;Computers&quot;</td><td>&quot;Printers, Scanners &amp; Fax&quot;</td><td>2508</td><td>5</td></tr><tr><td>&quot;Computers&quot;</td><td>&quot;Computers Accessories&quot;</td><td>2424</td><td>6</td></tr></tbody></table></div>"
      ],
      "text/plain": [
       "shape: (9, 4)\n",
       "┌───────────┬──────────────────────────┬───────────────┬──────┐\n",
       "│ Category  ┆ Subcategory              ┆ Max Sales Amt ┆ Rank │\n",
       "│ ---       ┆ ---                      ┆ ---           ┆ ---  │\n",
       "│ str       ┆ str                      ┆ i64           ┆ i64  │\n",
       "╞═══════════╪══════════════════════════╪═══════════════╪══════╡\n",
       "│ Audio     ┆ Recording Pen            ┆ 2871          ┆ 1    │\n",
       "│ Audio     ┆ Bluetooth Headphones     ┆ 2250          ┆ 2    │\n",
       "│ Audio     ┆ MP4&MP3                  ┆ 2095          ┆ 3    │\n",
       "│ Computers ┆ Projectors & Screens     ┆ 19992         ┆ 1    │\n",
       "│ Computers ┆ Laptops                  ┆ 19485         ┆ 2    │\n",
       "│ Computers ┆ Desktops                 ┆ 14535         ┆ 3    │\n",
       "│ Computers ┆ Monitors                 ┆ 11425         ┆ 4    │\n",
       "│ Computers ┆ Printers, Scanners & Fax ┆ 2508          ┆ 5    │\n",
       "│ Computers ┆ Computers Accessories    ┆ 2424          ┆ 6    │\n",
       "└───────────┴──────────────────────────┴───────────────┴──────┘"
      ]
     },
     "execution_count": 55,
     "metadata": {},
     "output_type": "execute_result"
    }
   ],
   "source": [
    "(\n",
    "    df\n",
    "    .group_by('Category', 'Subcategory')\n",
    "    .agg(pl.col('Sales Amount').max().round().cast(pl.Int64).alias('Max Sales Amt'))\n",
    "    .with_columns(\n",
    "        pl.col('Max Sales Amt').rank(descending=True).over('Category').cast(pl.Int64).alias('Rank')\n",
    "    )\n",
    "    .filter(pl.col('Category').is_in(['Audio', 'Computers']))\n",
    "    .sort(['Category', 'Rank'])\n",
    ")"
   ]
  },
  {
   "cell_type": "markdown",
   "metadata": {},
   "source": [
    "### There is more..."
   ]
  },
  {
   "cell_type": "code",
   "execution_count": 57,
   "metadata": {},
   "outputs": [],
   "source": [
    "max_sales_rank = (\n",
    "    df\n",
    "    .group_by('Category', 'Subcategory')\n",
    "    .agg(pl.col('Sales Amount').max().round().cast(pl.Int64).alias('Max Sales Amt'))\n",
    "    .with_columns(\n",
    "        pl.col('Max Sales Amt').rank(descending=True).over('Category').cast(pl.Int64).alias('Rank')\n",
    "    )\n",
    "    .filter(pl.col('Category').is_in(['Audio', 'Computers']))\n",
    "    .sort(['Category', 'Rank'])\n",
    ")"
   ]
  },
  {
   "cell_type": "code",
   "execution_count": 61,
   "metadata": {},
   "outputs": [
    {
     "data": {
      "text/html": [
       "<div><style>\n",
       ".dataframe > thead > tr,\n",
       ".dataframe > tbody > tr {\n",
       "  text-align: right;\n",
       "  white-space: pre-wrap;\n",
       "}\n",
       "</style>\n",
       "<small>shape: (9, 5)</small><table border=\"1\" class=\"dataframe\"><thead><tr><th>Category</th><th>Subcategory</th><th>Max Sales Amt</th><th>Rank</th><th>Lowest 3 Subcat per Cat</th></tr><tr><td>str</td><td>str</td><td>i64</td><td>i64</td><td>list[str]</td></tr></thead><tbody><tr><td>&quot;Audio&quot;</td><td>&quot;Recording Pen&quot;</td><td>2871</td><td>1</td><td>[&quot;MP4&amp;MP3&quot;, &quot;Bluetooth Headphones&quot;, &quot;Recording Pen&quot;]</td></tr><tr><td>&quot;Audio&quot;</td><td>&quot;Bluetooth Headphones&quot;</td><td>2250</td><td>2</td><td>[&quot;MP4&amp;MP3&quot;, &quot;Bluetooth Headphones&quot;, &quot;Recording Pen&quot;]</td></tr><tr><td>&quot;Audio&quot;</td><td>&quot;MP4&amp;MP3&quot;</td><td>2095</td><td>3</td><td>[&quot;MP4&amp;MP3&quot;, &quot;Bluetooth Headphones&quot;, &quot;Recording Pen&quot;]</td></tr><tr><td>&quot;Computers&quot;</td><td>&quot;Projectors &amp; Screens&quot;</td><td>19992</td><td>1</td><td>[&quot;Computers Accessories&quot;, &quot;Printers, Scanners &amp; Fax&quot;, &quot;Monitors&quot;]</td></tr><tr><td>&quot;Computers&quot;</td><td>&quot;Laptops&quot;</td><td>19485</td><td>2</td><td>[&quot;Computers Accessories&quot;, &quot;Printers, Scanners &amp; Fax&quot;, &quot;Monitors&quot;]</td></tr><tr><td>&quot;Computers&quot;</td><td>&quot;Desktops&quot;</td><td>14535</td><td>3</td><td>[&quot;Computers Accessories&quot;, &quot;Printers, Scanners &amp; Fax&quot;, &quot;Monitors&quot;]</td></tr><tr><td>&quot;Computers&quot;</td><td>&quot;Monitors&quot;</td><td>11425</td><td>4</td><td>[&quot;Computers Accessories&quot;, &quot;Printers, Scanners &amp; Fax&quot;, &quot;Monitors&quot;]</td></tr><tr><td>&quot;Computers&quot;</td><td>&quot;Printers, Scanners &amp; Fax&quot;</td><td>2508</td><td>5</td><td>[&quot;Computers Accessories&quot;, &quot;Printers, Scanners &amp; Fax&quot;, &quot;Monitors&quot;]</td></tr><tr><td>&quot;Computers&quot;</td><td>&quot;Computers Accessories&quot;</td><td>2424</td><td>6</td><td>[&quot;Computers Accessories&quot;, &quot;Printers, Scanners &amp; Fax&quot;, &quot;Monitors&quot;]</td></tr></tbody></table></div>"
      ],
      "text/plain": [
       "shape: (9, 5)\n",
       "┌───────────┬──────────────────────────┬───────────────┬──────┬──────────────────────────────┐\n",
       "│ Category  ┆ Subcategory              ┆ Max Sales Amt ┆ Rank ┆ Lowest 3 Subcat per Cat      │\n",
       "│ ---       ┆ ---                      ┆ ---           ┆ ---  ┆ ---                          │\n",
       "│ str       ┆ str                      ┆ i64           ┆ i64  ┆ list[str]                    │\n",
       "╞═══════════╪══════════════════════════╪═══════════════╪══════╪══════════════════════════════╡\n",
       "│ Audio     ┆ Recording Pen            ┆ 2871          ┆ 1    ┆ [\"MP4&MP3\", \"Bluetooth       │\n",
       "│           ┆                          ┆               ┆      ┆ Headphones\", \"Recording Pen… │\n",
       "│ Audio     ┆ Bluetooth Headphones     ┆ 2250          ┆ 2    ┆ [\"MP4&MP3\", \"Bluetooth       │\n",
       "│           ┆                          ┆               ┆      ┆ Headphones\", \"Recording Pen… │\n",
       "│ Audio     ┆ MP4&MP3                  ┆ 2095          ┆ 3    ┆ [\"MP4&MP3\", \"Bluetooth       │\n",
       "│           ┆                          ┆               ┆      ┆ Headphones\", \"Recording Pen… │\n",
       "│ Computers ┆ Projectors & Screens     ┆ 19992         ┆ 1    ┆ [\"Computers Accessories\",    │\n",
       "│           ┆                          ┆               ┆      ┆ \"Printers, Scanners & Fa…    │\n",
       "│ Computers ┆ Laptops                  ┆ 19485         ┆ 2    ┆ [\"Computers Accessories\",    │\n",
       "│           ┆                          ┆               ┆      ┆ \"Printers, Scanners & Fa…    │\n",
       "│ Computers ┆ Desktops                 ┆ 14535         ┆ 3    ┆ [\"Computers Accessories\",    │\n",
       "│           ┆                          ┆               ┆      ┆ \"Printers, Scanners & Fa…    │\n",
       "│ Computers ┆ Monitors                 ┆ 11425         ┆ 4    ┆ [\"Computers Accessories\",    │\n",
       "│           ┆                          ┆               ┆      ┆ \"Printers, Scanners & Fa…    │\n",
       "│ Computers ┆ Printers, Scanners & Fax ┆ 2508          ┆ 5    ┆ [\"Computers Accessories\",    │\n",
       "│           ┆                          ┆               ┆      ┆ \"Printers, Scanners & Fa…    │\n",
       "│ Computers ┆ Computers Accessories    ┆ 2424          ┆ 6    ┆ [\"Computers Accessories\",    │\n",
       "│           ┆                          ┆               ┆      ┆ \"Printers, Scanners & Fa…    │\n",
       "└───────────┴──────────────────────────┴───────────────┴──────┴──────────────────────────────┘"
      ]
     },
     "execution_count": 61,
     "metadata": {},
     "output_type": "execute_result"
    }
   ],
   "source": [
    "\"\"\"\n",
    "This code snippet performs the following operations on the `max_sales_rank` DataFrame:\n",
    "\n",
    "1. Adds a new column to the DataFrame using the `with_columns` method.\n",
    "2. Selects the 'Subcategory' column.\n",
    "3. Sorts the 'Subcategory' column by the 'Max Sales Amt' column.\n",
    "4. Selects the top 3 rows of the sorted 'Subcategory' column.\n",
    "5. Applies the operation over the 'Category' column using the 'join' mapping strategy.\n",
    "6. Renames the resulting column to 'Lowest 3 Subcat per Cat'.\n",
    "\n",
    "The resulting DataFrame will have a new column that contains the lowest 3 subcategories per category based on the maximum sales amount.\n",
    "\"\"\"\n",
    "max_sales_rank.with_columns(\n",
    "    pl.col('Subcategory')\n",
    "    .sort_by('Max Sales Amt')\n",
    "    .head(3)\n",
    "    .over('Category', mapping_strategy='join')\n",
    "    .alias('Lowest 3 Subcat per Cat')\n",
    ")"
   ]
  },
  {
   "cell_type": "markdown",
   "metadata": {},
   "source": [
    "This code snippet demonstrates how to manipulate a DataFrame \n",
    "\n",
    "max_sales_rank\n",
    "\n",
    " using the `polars` library in Python. The primary goal is to add a new column that contains the lowest 3 subcategories per category based on the maximum sales amount.\n",
    "\n",
    "The process begins by using the \n",
    "\n",
    "with_columns\n",
    "\n",
    " method, which allows for the addition or transformation of columns in the DataFrame. Within this method, the \n",
    "\n",
    "pl.col('Subcategory')\n",
    "\n",
    " function is used to select the 'Subcategory' column from the DataFrame.\n",
    "\n",
    "Next, the selected 'Subcategory' column is sorted by the 'Max Sales Amt' column using the \n",
    "\n",
    "sort_by('Max Sales Amt')\n",
    "\n",
    " method. This ensures that the subcategories are ordered based on their maximum sales amounts.\n",
    "\n",
    "After sorting, the \n",
    "\n",
    "head(3)\n",
    "\n",
    " method is called to select the top 3 rows of the sorted 'Subcategory' column. This step isolates the three subcategories with the lowest maximum sales amounts.\n",
    "\n",
    "The \n",
    "\n",
    "over('Category', mapping_strategy='join')\n",
    "\n",
    " method is then applied to perform the operation over the 'Category' column. The 'join' mapping strategy ensures that the operation is applied within each category, effectively grouping the subcategories by their respective categories.\n",
    "\n",
    "Finally, the resulting column is renamed to 'Lowest 3 Subcat per Cat' using the \n",
    "\n",
    "alias('Lowest 3 Subcat per Cat')\n",
    "\n",
    " method. This new column is added to the DataFrame, containing the lowest 3 subcategories per category based on the maximum sales amount.\n",
    "\n",
    "In summary, this code snippet adds a new column to the \n",
    "\n",
    "max_sales_rank\n",
    "\n",
    " DataFrame that lists the lowest 3 subcategories for each category, sorted by their maximum sales amounts. The new column is named 'Lowest 3 Subcat per Cat', and the DataFrame is updated to include this additional information."
   ]
  },
  {
   "cell_type": "code",
   "execution_count": 64,
   "metadata": {},
   "outputs": [
    {
     "data": {
      "text/html": [
       "<div><style>\n",
       ".dataframe > thead > tr,\n",
       ".dataframe > tbody > tr {\n",
       "  text-align: right;\n",
       "  white-space: pre-wrap;\n",
       "}\n",
       "</style>\n",
       "<small>shape: (9, 5)</small><table border=\"1\" class=\"dataframe\"><thead><tr><th>Category</th><th>Subcategory</th><th>Max Sales Amt</th><th>Rank</th><th>Subcategory Sorted by Max Sales Amt Ascending</th></tr><tr><td>str</td><td>str</td><td>i64</td><td>i64</td><td>str</td></tr></thead><tbody><tr><td>&quot;Audio&quot;</td><td>&quot;Recording Pen&quot;</td><td>2871</td><td>1</td><td>&quot;MP4&amp;MP3&quot;</td></tr><tr><td>&quot;Audio&quot;</td><td>&quot;Bluetooth Headphones&quot;</td><td>2250</td><td>2</td><td>&quot;Bluetooth Headphones&quot;</td></tr><tr><td>&quot;Audio&quot;</td><td>&quot;MP4&amp;MP3&quot;</td><td>2095</td><td>3</td><td>&quot;Recording Pen&quot;</td></tr><tr><td>&quot;Computers&quot;</td><td>&quot;Projectors &amp; Screens&quot;</td><td>19992</td><td>1</td><td>&quot;Computers Accessories&quot;</td></tr><tr><td>&quot;Computers&quot;</td><td>&quot;Laptops&quot;</td><td>19485</td><td>2</td><td>&quot;Printers, Scanners &amp; Fax&quot;</td></tr><tr><td>&quot;Computers&quot;</td><td>&quot;Desktops&quot;</td><td>14535</td><td>3</td><td>&quot;Monitors&quot;</td></tr><tr><td>&quot;Computers&quot;</td><td>&quot;Monitors&quot;</td><td>11425</td><td>4</td><td>&quot;Desktops&quot;</td></tr><tr><td>&quot;Computers&quot;</td><td>&quot;Printers, Scanners &amp; Fax&quot;</td><td>2508</td><td>5</td><td>&quot;Laptops&quot;</td></tr><tr><td>&quot;Computers&quot;</td><td>&quot;Computers Accessories&quot;</td><td>2424</td><td>6</td><td>&quot;Projectors &amp; Screens&quot;</td></tr></tbody></table></div>"
      ],
      "text/plain": [
       "shape: (9, 5)\n",
       "┌───────────┬──────────────────────────┬───────────────┬──────┬─────────────────────────────────┐\n",
       "│ Category  ┆ Subcategory              ┆ Max Sales Amt ┆ Rank ┆ Subcategory Sorted by Max Sales │\n",
       "│ ---       ┆ ---                      ┆ ---           ┆ ---  ┆ Amt Ascending                   │\n",
       "│ str       ┆ str                      ┆ i64           ┆ i64  ┆ ---                             │\n",
       "│           ┆                          ┆               ┆      ┆ str                             │\n",
       "╞═══════════╪══════════════════════════╪═══════════════╪══════╪═════════════════════════════════╡\n",
       "│ Audio     ┆ Recording Pen            ┆ 2871          ┆ 1    ┆ MP4&MP3                         │\n",
       "│ Audio     ┆ Bluetooth Headphones     ┆ 2250          ┆ 2    ┆ Bluetooth Headphones            │\n",
       "│ Audio     ┆ MP4&MP3                  ┆ 2095          ┆ 3    ┆ Recording Pen                   │\n",
       "│ Computers ┆ Projectors & Screens     ┆ 19992         ┆ 1    ┆ Computers Accessories           │\n",
       "│ Computers ┆ Laptops                  ┆ 19485         ┆ 2    ┆ Printers, Scanners & Fax        │\n",
       "│ Computers ┆ Desktops                 ┆ 14535         ┆ 3    ┆ Monitors                        │\n",
       "│ Computers ┆ Monitors                 ┆ 11425         ┆ 4    ┆ Desktops                        │\n",
       "│ Computers ┆ Printers, Scanners & Fax ┆ 2508          ┆ 5    ┆ Laptops                         │\n",
       "│ Computers ┆ Computers Accessories    ┆ 2424          ┆ 6    ┆ Projectors & Screens            │\n",
       "└───────────┴──────────────────────────┴───────────────┴──────┴─────────────────────────────────┘"
      ]
     },
     "execution_count": 64,
     "metadata": {},
     "output_type": "execute_result"
    }
   ],
   "source": [
    "\"\"\"\n",
    "This code snippet sorts the 'Subcategory' column by 'Max Sales Amt' within each 'Category' and adds the sorted result as a new column named 'Subcategory Sorted by Max Sales Amt Ascending'.\n",
    "\n",
    "- `pl.col('Subcategory')`: Selects the 'Subcategory' column.\n",
    "- `sort_by('Max Sales Amt')`: Sorts the 'Subcategory' column by the 'Max Sales Amt' column.\n",
    "- `over('Category', mapping_strategy='explode')`: Applies the sorting operation within each 'Category' group and uses the 'explode' mapping strategy to handle the grouping.\n",
    "- `alias('Subcategory Sorted by Max Sales Amt Ascending')`: Renames the resulting sorted column to 'Subcategory Sorted by Max Sales Amt Ascending'.\n",
    "\"\"\"\n",
    "max_sales_rank.with_columns(\n",
    "    pl.col('Subcategory')\n",
    "    .sort_by('Max Sales Amt')\n",
    "    .over('Category', mapping_strategy='explode')\n",
    "    .alias('Subcategory Sorted by Max Sales Amt Ascending')\n",
    ")"
   ]
  },
  {
   "cell_type": "markdown",
   "metadata": {},
   "source": [
    "This code snippet demonstrates how to sort a DataFrame column within groups and add the sorted result as a new column using the `polars` library in Python. The goal is to sort the 'Subcategory' column by the 'Max Sales Amt' column within each 'Category' and add this sorted result as a new column named 'Subcategory Sorted by Max Sales Amt Ascending'.\n",
    "\n",
    "The process begins by selecting the 'Subcategory' column using \n",
    "\n",
    "pl.col('Subcategory')\n",
    "\n",
    ". This function is used to specify the column that will be manipulated.\n",
    "\n",
    "Next, the \n",
    "\n",
    "sort_by('Max Sales Amt')\n",
    "\n",
    " method is called to sort the 'Subcategory' column based on the values in the 'Max Sales Amt' column. This ensures that the subcategories are ordered according to their maximum sales amounts.\n",
    "\n",
    "The \n",
    "\n",
    "over('Category', mapping_strategy='explode')\n",
    "\n",
    " method is then applied to perform the sorting operation within each 'Category' group. The 'explode' mapping strategy is used to handle the grouping, ensuring that the sorting is applied separately within each category.\n",
    "\n",
    "Finally, the resulting sorted column is renamed to 'Subcategory Sorted by Max Sales Amt Ascending' using the \n",
    "\n",
    "alias('Subcategory Sorted by Max Sales Amt Ascending')\n",
    "\n",
    " method. This new column is added to the DataFrame, containing the subcategories sorted by their maximum sales amounts within each category.\n",
    "\n",
    "In summary, this code snippet adds a new column to the \n",
    "\n",
    "max_sales_rank\n",
    "\n",
    " DataFrame that lists the subcategories sorted by their maximum sales amounts within each category. The new column is named 'Subcategory Sorted by Max Sales Amt Ascending', and the DataFrame is updated to include this additional information."
   ]
  },
  {
   "cell_type": "code",
   "execution_count": 65,
   "metadata": {},
   "outputs": [
    {
     "data": {
      "text/html": [
       "<div><style>\n",
       ".dataframe > thead > tr,\n",
       ".dataframe > tbody > tr {\n",
       "  text-align: right;\n",
       "  white-space: pre-wrap;\n",
       "}\n",
       "</style>\n",
       "<small>shape: (9, 5)</small><table border=\"1\" class=\"dataframe\"><thead><tr><th>Category</th><th>Subcategory</th><th>Max Sales Amt</th><th>Rank</th><th>Subcategory Sorted by Max Sales Amt Ascending</th></tr><tr><td>str</td><td>str</td><td>i64</td><td>i64</td><td>str</td></tr></thead><tbody><tr><td>&quot;Audio&quot;</td><td>&quot;Bluetooth Headphones&quot;</td><td>2250</td><td>2</td><td>&quot;MP4&amp;MP3&quot;</td></tr><tr><td>&quot;Computers&quot;</td><td>&quot;Computers Accessories&quot;</td><td>2424</td><td>6</td><td>&quot;Bluetooth Headphones&quot;</td></tr><tr><td>&quot;Computers&quot;</td><td>&quot;Desktops&quot;</td><td>14535</td><td>3</td><td>&quot;Recording Pen&quot;</td></tr><tr><td>&quot;Computers&quot;</td><td>&quot;Laptops&quot;</td><td>19485</td><td>2</td><td>&quot;Computers Accessories&quot;</td></tr><tr><td>&quot;Audio&quot;</td><td>&quot;MP4&amp;MP3&quot;</td><td>2095</td><td>3</td><td>&quot;Printers, Scanners &amp; Fax&quot;</td></tr><tr><td>&quot;Computers&quot;</td><td>&quot;Monitors&quot;</td><td>11425</td><td>4</td><td>&quot;Monitors&quot;</td></tr><tr><td>&quot;Computers&quot;</td><td>&quot;Printers, Scanners &amp; Fax&quot;</td><td>2508</td><td>5</td><td>&quot;Desktops&quot;</td></tr><tr><td>&quot;Computers&quot;</td><td>&quot;Projectors &amp; Screens&quot;</td><td>19992</td><td>1</td><td>&quot;Laptops&quot;</td></tr><tr><td>&quot;Audio&quot;</td><td>&quot;Recording Pen&quot;</td><td>2871</td><td>1</td><td>&quot;Projectors &amp; Screens&quot;</td></tr></tbody></table></div>"
      ],
      "text/plain": [
       "shape: (9, 5)\n",
       "┌───────────┬──────────────────────────┬───────────────┬──────┬─────────────────────────────────┐\n",
       "│ Category  ┆ Subcategory              ┆ Max Sales Amt ┆ Rank ┆ Subcategory Sorted by Max Sales │\n",
       "│ ---       ┆ ---                      ┆ ---           ┆ ---  ┆ Amt Ascending                   │\n",
       "│ str       ┆ str                      ┆ i64           ┆ i64  ┆ ---                             │\n",
       "│           ┆                          ┆               ┆      ┆ str                             │\n",
       "╞═══════════╪══════════════════════════╪═══════════════╪══════╪═════════════════════════════════╡\n",
       "│ Audio     ┆ Bluetooth Headphones     ┆ 2250          ┆ 2    ┆ MP4&MP3                         │\n",
       "│ Computers ┆ Computers Accessories    ┆ 2424          ┆ 6    ┆ Bluetooth Headphones            │\n",
       "│ Computers ┆ Desktops                 ┆ 14535         ┆ 3    ┆ Recording Pen                   │\n",
       "│ Computers ┆ Laptops                  ┆ 19485         ┆ 2    ┆ Computers Accessories           │\n",
       "│ Audio     ┆ MP4&MP3                  ┆ 2095          ┆ 3    ┆ Printers, Scanners & Fax        │\n",
       "│ Computers ┆ Monitors                 ┆ 11425         ┆ 4    ┆ Monitors                        │\n",
       "│ Computers ┆ Printers, Scanners & Fax ┆ 2508          ┆ 5    ┆ Desktops                        │\n",
       "│ Computers ┆ Projectors & Screens     ┆ 19992         ┆ 1    ┆ Laptops                         │\n",
       "│ Audio     ┆ Recording Pen            ┆ 2871          ┆ 1    ┆ Projectors & Screens            │\n",
       "└───────────┴──────────────────────────┴───────────────┴──────┴─────────────────────────────────┘"
      ]
     },
     "execution_count": 65,
     "metadata": {},
     "output_type": "execute_result"
    }
   ],
   "source": [
    "(\n",
    "    max_sales_rank\n",
    "    .sort('Subcategory')\n",
    "    .with_columns(\n",
    "        pl.col('Subcategory')\n",
    "        .sort_by('Max Sales Amt')\n",
    "        .over('Category', mapping_strategy='explode')\n",
    "        .alias('Subcategory Sorted by Max Sales Amt Ascending')\n",
    "    )\n",
    ")"
   ]
  },
  {
   "cell_type": "markdown",
   "metadata": {},
   "source": [
    "## Applying UDFs"
   ]
  },
  {
   "cell_type": "markdown",
   "metadata": {},
   "source": [
    "### How to do it..."
   ]
  },
  {
   "cell_type": "code",
   "execution_count": 66,
   "metadata": {},
   "outputs": [],
   "source": [
    "import polars as pl"
   ]
  },
  {
   "cell_type": "code",
   "execution_count": 67,
   "metadata": {},
   "outputs": [
    {
     "data": {
      "text/html": [
       "<div><style>\n",
       ".dataframe > thead > tr,\n",
       ".dataframe > tbody > tr {\n",
       "  text-align: right;\n",
       "  white-space: pre-wrap;\n",
       "}\n",
       "</style>\n",
       "<small>shape: (5, 20)</small><table border=\"1\" class=\"dataframe\"><thead><tr><th>Order Number</th><th>Line Number</th><th>Order Date</th><th>Delivery Date</th><th>Customer Name</th><th>Customer Gender</th><th>Customer Country</th><th>Customer Age</th><th>Store Name</th><th>Product Name</th><th>Color</th><th>Brand</th><th>Category</th><th>Subcategory</th><th>Quantity</th><th>Unit Price</th><th>Net Price</th><th>Unit Cost</th><th>Currency Code</th><th>Exchange Rate</th></tr><tr><td>i64</td><td>i64</td><td>date</td><td>date</td><td>str</td><td>str</td><td>str</td><td>i64</td><td>str</td><td>str</td><td>str</td><td>str</td><td>str</td><td>str</td><td>i64</td><td>f64</td><td>f64</td><td>f64</td><td>str</td><td>f64</td></tr></thead><tbody><tr><td>284806</td><td>1</td><td>2017-10-18</td><td>2017-10-20</td><td>&quot;Eric Kennedy&quot;</td><td>&quot;Male&quot;</td><td>&quot;United States&quot;</td><td>47</td><td>&quot;Online store&quot;</td><td>&quot;Contoso 512MB MP3 Player E51 Silver&quot;</td><td>&quot;Silver&quot;</td><td>&quot;Contoso&quot;</td><td>&quot;Audio&quot;</td><td>&quot;MP4&amp;MP3&quot;</td><td>7</td><td>11.691</td><td>10.288</td><td>5.958</td><td>&quot;USD&quot;</td><td>1.0</td></tr><tr><td>285506</td><td>1</td><td>2017-10-25</td><td>2017-10-26</td><td>&quot;George Tooth&quot;</td><td>&quot;Male&quot;</td><td>&quot;Australia&quot;</td><td>30</td><td>&quot;Online store&quot;</td><td>&quot;Contoso 512MB MP3 Player E51 Silver&quot;</td><td>&quot;Silver&quot;</td><td>&quot;Contoso&quot;</td><td>&quot;Audio&quot;</td><td>&quot;MP4&amp;MP3&quot;</td><td>1</td><td>11.691</td><td>11.691</td><td>5.958</td><td>&quot;AUD&quot;</td><td>1.2967</td></tr><tr><td>311002</td><td>2</td><td>2018-07-07</td><td>2018-07-12</td><td>&quot;Caleb Greene&quot;</td><td>&quot;Male&quot;</td><td>&quot;Australia&quot;</td><td>59</td><td>&quot;Online store&quot;</td><td>&quot;Contoso 512MB MP3 Player E51 Silver&quot;</td><td>&quot;Silver&quot;</td><td>&quot;Contoso&quot;</td><td>&quot;Audio&quot;</td><td>&quot;MP4&amp;MP3&quot;</td><td>6</td><td>12.99</td><td>12.99</td><td>6.62</td><td>&quot;AUD&quot;</td><td>1.3484</td></tr><tr><td>366307</td><td>2</td><td>2020-01-11</td><td>2020-01-11</td><td>&quot;Isaac Siddins&quot;</td><td>&quot;Male&quot;</td><td>&quot;Australia&quot;</td><td>25</td><td>&quot;Contoso Store Western Australia&quot;</td><td>&quot;Contoso 512MB MP3 Player E51 Blue&quot;</td><td>&quot;Blue&quot;</td><td>&quot;Contoso&quot;</td><td>&quot;Audio&quot;</td><td>&quot;MP4&amp;MP3&quot;</td><td>4</td><td>12.99</td><td>12.99</td><td>6.62</td><td>&quot;AUD&quot;</td><td>1.4545</td></tr><tr><td>325708</td><td>3</td><td>2018-12-01</td><td>2018-12-02</td><td>&quot;Mike McQueen&quot;</td><td>&quot;Male&quot;</td><td>&quot;United States&quot;</td><td>56</td><td>&quot;Online store&quot;</td><td>&quot;Contoso 512MB MP3 Player E51 Blue&quot;</td><td>&quot;Blue&quot;</td><td>&quot;Contoso&quot;</td><td>&quot;Audio&quot;</td><td>&quot;MP4&amp;MP3&quot;</td><td>2</td><td>12.99</td><td>11.5611</td><td>6.62</td><td>&quot;USD&quot;</td><td>1.0</td></tr></tbody></table></div>"
      ],
      "text/plain": [
       "shape: (5, 20)\n",
       "┌────────┬────────┬─────────────┬─────────────┬───┬─────────────┬───────┬─────────────┬────────────┐\n",
       "│ Order  ┆ Line   ┆ Order Date  ┆ Delivery    ┆ … ┆ Net Price   ┆ Unit  ┆ Currency    ┆ Exchange   │\n",
       "│ Number ┆ Number ┆ ---         ┆ Date        ┆   ┆ ---         ┆ Cost  ┆ Code        ┆ Rate       │\n",
       "│ ---    ┆ ---    ┆ date        ┆ ---         ┆   ┆ f64         ┆ ---   ┆ ---         ┆ ---        │\n",
       "│ i64    ┆ i64    ┆             ┆ date        ┆   ┆             ┆ f64   ┆ str         ┆ f64        │\n",
       "╞════════╪════════╪═════════════╪═════════════╪═══╪═════════════╪═══════╪═════════════╪════════════╡\n",
       "│ 284806 ┆ 1      ┆ 2017-10-18  ┆ 2017-10-20  ┆ … ┆ 10.288      ┆ 5.958 ┆ USD         ┆ 1.0        │\n",
       "│ 285506 ┆ 1      ┆ 2017-10-25  ┆ 2017-10-26  ┆ … ┆ 11.691      ┆ 5.958 ┆ AUD         ┆ 1.2967     │\n",
       "│ 311002 ┆ 2      ┆ 2018-07-07  ┆ 2018-07-12  ┆ … ┆ 12.99       ┆ 6.62  ┆ AUD         ┆ 1.3484     │\n",
       "│ 366307 ┆ 2      ┆ 2020-01-11  ┆ 2020-01-11  ┆ … ┆ 12.99       ┆ 6.62  ┆ AUD         ┆ 1.4545     │\n",
       "│ 325708 ┆ 3      ┆ 2018-12-01  ┆ 2018-12-02  ┆ … ┆ 11.5611     ┆ 6.62  ┆ USD         ┆ 1.0        │\n",
       "└────────┴────────┴─────────────┴─────────────┴───┴─────────────┴───────┴─────────────┴────────────┘"
      ]
     },
     "execution_count": 67,
     "metadata": {},
     "output_type": "execute_result"
    }
   ],
   "source": [
    "df = pl.read_csv('../data/contoso_sales.csv', try_parse_dates=True)\n",
    "df.head()"
   ]
  },
  {
   "cell_type": "code",
   "execution_count": 68,
   "metadata": {},
   "outputs": [],
   "source": [
    "def get_first_name(full_name: str) -> str:\n",
    "    return full_name.split(' ')[0]"
   ]
  },
  {
   "cell_type": "code",
   "execution_count": 73,
   "metadata": {},
   "outputs": [
    {
     "data": {
      "text/html": [
       "<div><style>\n",
       ".dataframe > thead > tr,\n",
       ".dataframe > tbody > tr {\n",
       "  text-align: right;\n",
       "  white-space: pre-wrap;\n",
       "}\n",
       "</style>\n",
       "<small>shape: (5, 2)</small><table border=\"1\" class=\"dataframe\"><thead><tr><th>Customer Name</th><th>Customer First Name</th></tr><tr><td>str</td><td>str</td></tr></thead><tbody><tr><td>&quot;Eric Kennedy&quot;</td><td>&quot;Eric&quot;</td></tr><tr><td>&quot;George Tooth&quot;</td><td>&quot;George&quot;</td></tr><tr><td>&quot;Caleb Greene&quot;</td><td>&quot;Caleb&quot;</td></tr><tr><td>&quot;Isaac Siddins&quot;</td><td>&quot;Isaac&quot;</td></tr><tr><td>&quot;Mike McQueen&quot;</td><td>&quot;Mike&quot;</td></tr></tbody></table></div>"
      ],
      "text/plain": [
       "shape: (5, 2)\n",
       "┌───────────────┬─────────────────────┐\n",
       "│ Customer Name ┆ Customer First Name │\n",
       "│ ---           ┆ ---                 │\n",
       "│ str           ┆ str                 │\n",
       "╞═══════════════╪═════════════════════╡\n",
       "│ Eric Kennedy  ┆ Eric                │\n",
       "│ George Tooth  ┆ George              │\n",
       "│ Caleb Greene  ┆ Caleb               │\n",
       "│ Isaac Siddins ┆ Isaac               │\n",
       "│ Mike McQueen  ┆ Mike                │\n",
       "└───────────────┴─────────────────────┘"
      ]
     },
     "execution_count": 73,
     "metadata": {},
     "output_type": "execute_result"
    }
   ],
   "source": [
    "\"\"\"\n",
    "Selects the 'Customer Name' column from the DataFrame and creates a new column 'Customer First Name' \n",
    "by applying the `get_first_name` function to each element in the 'Customer Name' column.\n",
    "\n",
    "Returns:\n",
    "    DataFrame: A DataFrame with the original 'Customer Name' column and a new 'Customer First Name' column.\n",
    "\"\"\"\n",
    "df.select(\n",
    "    'Customer Name',\n",
    "    pl.col('Customer Name').map_elements(lambda el: get_first_name(el), return_dtype=pl.String).alias('Customer First Name')\n",
    ").head()"
   ]
  },
  {
   "cell_type": "markdown",
   "metadata": {},
   "source": [
    "This code snippet demonstrates how to manipulate a DataFrame using the `polars` library in Python to extract and create a new column based on existing data. The primary goal is to create a new column 'Customer First Name' by extracting the first name from the 'Customer Name' column.\n",
    "\n",
    "The process begins by selecting the 'Customer Name' column from the DataFrame \n",
    "\n",
    "df\n",
    "\n",
    " using the \n",
    "\n",
    "select\n",
    "\n",
    " method. This method allows for the selection of specific columns from the DataFrame.\n",
    "\n",
    "Next, the \n",
    "\n",
    "pl.col('Customer Name')\n",
    "\n",
    " function is used to specify the 'Customer Name' column for further manipulation. The \n",
    "\n",
    "map_elements\n",
    "\n",
    " method is then applied to this column, which allows for the application of a function to each element in the column. In this case, a lambda function is used to apply the \n",
    "\n",
    "get_first_name\n",
    "\n",
    " function to each element in the 'Customer Name' column. The \n",
    "\n",
    "get_first_name\n",
    "\n",
    " function is assumed to extract the first name from a full name string.\n",
    "\n",
    "The \n",
    "\n",
    "return_dtype=pl.String\n",
    "\n",
    " argument specifies that the resulting data type of the new column should be a string. The \n",
    "\n",
    "alias('Customer First Name')\n",
    "\n",
    " method is used to rename the resulting column to 'Customer First Name'.\n",
    "\n",
    "Finally, the \n",
    "\n",
    "head()\n",
    "\n",
    " method is called to display the first few rows of the modified DataFrame. This allows for a quick inspection of the changes made to the DataFrame, specifically the addition of the 'Customer First Name' column.\n",
    "\n",
    "In summary, this code snippet selects the 'Customer Name' column from the DataFrame \n",
    "\n",
    "df\n",
    "\n",
    " and creates a new column 'Customer First Name' by applying the \n",
    "\n",
    "get_first_name\n",
    "\n",
    " function to each element in the 'Customer Name' column. The resulting DataFrame includes both the original 'Customer Name' column and the new 'Customer First Name' column, and the first few rows of the DataFrame are displayed for inspection."
   ]
  },
  {
   "cell_type": "code",
   "execution_count": 74,
   "metadata": {},
   "outputs": [
    {
     "data": {
      "text/html": [
       "<div><style>\n",
       ".dataframe > thead > tr,\n",
       ".dataframe > tbody > tr {\n",
       "  text-align: right;\n",
       "  white-space: pre-wrap;\n",
       "}\n",
       "</style>\n",
       "<small>shape: (5, 2)</small><table border=\"1\" class=\"dataframe\"><thead><tr><th>Customer Name</th><th>Customer First Name</th></tr><tr><td>str</td><td>str</td></tr></thead><tbody><tr><td>&quot;Eric Kennedy&quot;</td><td>&quot;Eric&quot;</td></tr><tr><td>&quot;George Tooth&quot;</td><td>&quot;George&quot;</td></tr><tr><td>&quot;Caleb Greene&quot;</td><td>&quot;Caleb&quot;</td></tr><tr><td>&quot;Isaac Siddins&quot;</td><td>&quot;Isaac&quot;</td></tr><tr><td>&quot;Mike McQueen&quot;</td><td>&quot;Mike&quot;</td></tr></tbody></table></div>"
      ],
      "text/plain": [
       "shape: (5, 2)\n",
       "┌───────────────┬─────────────────────┐\n",
       "│ Customer Name ┆ Customer First Name │\n",
       "│ ---           ┆ ---                 │\n",
       "│ str           ┆ str                 │\n",
       "╞═══════════════╪═════════════════════╡\n",
       "│ Eric Kennedy  ┆ Eric                │\n",
       "│ George Tooth  ┆ George              │\n",
       "│ Caleb Greene  ┆ Caleb               │\n",
       "│ Isaac Siddins ┆ Isaac               │\n",
       "│ Mike McQueen  ┆ Mike                │\n",
       "└───────────────┴─────────────────────┘"
      ]
     },
     "execution_count": 74,
     "metadata": {},
     "output_type": "execute_result"
    }
   ],
   "source": [
    "df.select(\n",
    "    'Customer Name',\n",
    "    pl.col('Customer Name').map_elements(lambda el: el.split(' ')[0], return_dtype=pl.String).alias('Customer First Name')\n",
    ").head()"
   ]
  },
  {
   "cell_type": "code",
   "execution_count": 75,
   "metadata": {},
   "outputs": [],
   "source": [
    "def age_to_range(age: int) -> str:\n",
    "    if age < 18:\n",
    "        return '~17'\n",
    "    elif age <= 30:\n",
    "        return '18~30'\n",
    "    elif age <= 50:\n",
    "        return '31~50'\n",
    "    elif age <= 70:\n",
    "        return '50~70'\n",
    "    else:\n",
    "        return '71~'"
   ]
  },
  {
   "cell_type": "code",
   "execution_count": 76,
   "metadata": {},
   "outputs": [
    {
     "data": {
      "text/html": [
       "<div><style>\n",
       ".dataframe > thead > tr,\n",
       ".dataframe > tbody > tr {\n",
       "  text-align: right;\n",
       "  white-space: pre-wrap;\n",
       "}\n",
       "</style>\n",
       "<small>shape: (5, 2)</small><table border=\"1\" class=\"dataframe\"><thead><tr><th>Customer Age</th><th>Age Range</th></tr><tr><td>i64</td><td>str</td></tr></thead><tbody><tr><td>47</td><td>&quot;31~50&quot;</td></tr><tr><td>30</td><td>&quot;18~30&quot;</td></tr><tr><td>59</td><td>&quot;50~70&quot;</td></tr><tr><td>25</td><td>&quot;18~30&quot;</td></tr><tr><td>56</td><td>&quot;50~70&quot;</td></tr></tbody></table></div>"
      ],
      "text/plain": [
       "shape: (5, 2)\n",
       "┌──────────────┬───────────┐\n",
       "│ Customer Age ┆ Age Range │\n",
       "│ ---          ┆ ---       │\n",
       "│ i64          ┆ str       │\n",
       "╞══════════════╪═══════════╡\n",
       "│ 47           ┆ 31~50     │\n",
       "│ 30           ┆ 18~30     │\n",
       "│ 59           ┆ 50~70     │\n",
       "│ 25           ┆ 18~30     │\n",
       "│ 56           ┆ 50~70     │\n",
       "└──────────────┴───────────┘"
      ]
     },
     "execution_count": 76,
     "metadata": {},
     "output_type": "execute_result"
    }
   ],
   "source": [
    "df.select(\n",
    "    'Customer Age',\n",
    "    pl.col('Customer Age').map_elements(lambda el: age_to_range(el), return_dtype=pl.String).alias('Age Range')\n",
    ").head()"
   ]
  },
  {
   "cell_type": "markdown",
   "metadata": {},
   "source": [
    "### There is more..."
   ]
  },
  {
   "cell_type": "code",
   "execution_count": 77,
   "metadata": {},
   "outputs": [
    {
     "data": {
      "text/html": [
       "<div><style>\n",
       ".dataframe > thead > tr,\n",
       ".dataframe > tbody > tr {\n",
       "  text-align: right;\n",
       "  white-space: pre-wrap;\n",
       "}\n",
       "</style>\n",
       "<small>shape: (5, 2)</small><table border=\"1\" class=\"dataframe\"><thead><tr><th>Customer Name</th><th>Customer First Name</th></tr><tr><td>str</td><td>str</td></tr></thead><tbody><tr><td>&quot;Eric Kennedy&quot;</td><td>&quot;Eric&quot;</td></tr><tr><td>&quot;George Tooth&quot;</td><td>&quot;George&quot;</td></tr><tr><td>&quot;Caleb Greene&quot;</td><td>&quot;Caleb&quot;</td></tr><tr><td>&quot;Isaac Siddins&quot;</td><td>&quot;Isaac&quot;</td></tr><tr><td>&quot;Mike McQueen&quot;</td><td>&quot;Mike&quot;</td></tr></tbody></table></div>"
      ],
      "text/plain": [
       "shape: (5, 2)\n",
       "┌───────────────┬─────────────────────┐\n",
       "│ Customer Name ┆ Customer First Name │\n",
       "│ ---           ┆ ---                 │\n",
       "│ str           ┆ str                 │\n",
       "╞═══════════════╪═════════════════════╡\n",
       "│ Eric Kennedy  ┆ Eric                │\n",
       "│ George Tooth  ┆ George              │\n",
       "│ Caleb Greene  ┆ Caleb               │\n",
       "│ Isaac Siddins ┆ Isaac               │\n",
       "│ Mike McQueen  ┆ Mike                │\n",
       "└───────────────┴─────────────────────┘"
      ]
     },
     "execution_count": 77,
     "metadata": {},
     "output_type": "execute_result"
    }
   ],
   "source": [
    "df.select(\n",
    "    'Customer Name',\n",
    "    pl.col('Customer Name').str.split(' ').list.first().alias('Customer First Name')\n",
    ").head()"
   ]
  },
  {
   "cell_type": "code",
   "execution_count": 78,
   "metadata": {},
   "outputs": [
    {
     "data": {
      "text/html": [
       "<div><style>\n",
       ".dataframe > thead > tr,\n",
       ".dataframe > tbody > tr {\n",
       "  text-align: right;\n",
       "  white-space: pre-wrap;\n",
       "}\n",
       "</style>\n",
       "<small>shape: (5, 2)</small><table border=\"1\" class=\"dataframe\"><thead><tr><th>Customer Age</th><th>Age Range</th></tr><tr><td>i64</td><td>str</td></tr></thead><tbody><tr><td>47</td><td>&quot;31~50&quot;</td></tr><tr><td>30</td><td>&quot;18~30&quot;</td></tr><tr><td>59</td><td>&quot;51~70&quot;</td></tr><tr><td>25</td><td>&quot;18~30&quot;</td></tr><tr><td>56</td><td>&quot;51~70&quot;</td></tr></tbody></table></div>"
      ],
      "text/plain": [
       "shape: (5, 2)\n",
       "┌──────────────┬───────────┐\n",
       "│ Customer Age ┆ Age Range │\n",
       "│ ---          ┆ ---       │\n",
       "│ i64          ┆ str       │\n",
       "╞══════════════╪═══════════╡\n",
       "│ 47           ┆ 31~50     │\n",
       "│ 30           ┆ 18~30     │\n",
       "│ 59           ┆ 51~70     │\n",
       "│ 25           ┆ 18~30     │\n",
       "│ 56           ┆ 51~70     │\n",
       "└──────────────┴───────────┘"
      ]
     },
     "execution_count": 78,
     "metadata": {},
     "output_type": "execute_result"
    }
   ],
   "source": [
    "df.select(\n",
    "    'Customer Age',\n",
    "    pl.when(pl.col('Customer Age')<18).then(pl.lit('~17'))\n",
    "    .when(pl.col('Customer Age')<=30).then(pl.lit('18~30'))\n",
    "    .when(pl.col('Customer Age')<=50).then(pl.lit('31~50'))\n",
    "    .when(pl.col('Customer Age')<=70).then(pl.lit('51~70'))\n",
    "    .when(pl.col('Customer Age')>70).then(pl.lit('71~'))\n",
    "    .alias('Age Range')\n",
    ").head()"
   ]
  },
  {
   "cell_type": "code",
   "execution_count": 80,
   "metadata": {},
   "outputs": [
    {
     "name": "stdout",
     "output_type": "stream",
     "text": [
      "5.85 ms ± 747 μs per loop (mean ± std. dev. of 7 runs, 100 loops each)\n"
     ]
    }
   ],
   "source": [
    "%%timeit\n",
    "\"\"\"\n",
    "This code snippet uses the Polars library to select and transform columns in a DataFrame.\n",
    "\n",
    "It performs the following operations:\n",
    "1. Selects the 'Customer Name' column.\n",
    "2. Applies a transformation to the 'Customer Name' column to extract the first name by splitting the string at the space character.\n",
    "3. Renames the transformed column to 'Customer First Name'.\n",
    "4. Returns the first few rows of the resulting DataFrame.\n",
    "\n",
    "The %%timeit magic command is used to measure the execution time of the code.\n",
    "\n",
    "Returns:\n",
    "    A DataFrame with the original 'Customer Name' column and a new 'Customer First Name' column containing the first names.\n",
    "\"\"\"\n",
    "df.select(\n",
    "    'Customer Name',\n",
    "    pl.col('Customer Name').map_elements(lambda el: el.split(' ')[0], return_dtype=pl.String).alias('Customer First Name')\n",
    ").head()"
   ]
  },
  {
   "cell_type": "code",
   "execution_count": 81,
   "metadata": {},
   "outputs": [
    {
     "name": "stdout",
     "output_type": "stream",
     "text": [
      "1.11 ms ± 55.4 μs per loop (mean ± std. dev. of 7 runs, 1,000 loops each)\n"
     ]
    }
   ],
   "source": [
    "%%timeit\n",
    "df.select(\n",
    "    'Customer Name',\n",
    "    pl.col('Customer Name').str.split(' ').list.first().alias('Customer First Name')\n",
    ").head()"
   ]
  },
  {
   "cell_type": "markdown",
   "metadata": {},
   "source": [
    "## Using SQL for data transformations"
   ]
  },
  {
   "cell_type": "code",
   "execution_count": 82,
   "metadata": {},
   "outputs": [
    {
     "data": {
      "text/html": [
       "<div><style>\n",
       ".dataframe > thead > tr,\n",
       ".dataframe > tbody > tr {\n",
       "  text-align: right;\n",
       "  white-space: pre-wrap;\n",
       "}\n",
       "</style>\n",
       "<small>shape: (5, 20)</small><table border=\"1\" class=\"dataframe\"><thead><tr><th>Order Number</th><th>Line Number</th><th>Order Date</th><th>Delivery Date</th><th>Customer Name</th><th>Customer Gender</th><th>Customer Country</th><th>Customer Age</th><th>Store Name</th><th>Product Name</th><th>Color</th><th>Brand</th><th>Category</th><th>Subcategory</th><th>Quantity</th><th>Unit Price</th><th>Net Price</th><th>Unit Cost</th><th>Currency Code</th><th>Exchange Rate</th></tr><tr><td>i64</td><td>i64</td><td>date</td><td>date</td><td>str</td><td>str</td><td>str</td><td>i64</td><td>str</td><td>str</td><td>str</td><td>str</td><td>str</td><td>str</td><td>i64</td><td>f64</td><td>f64</td><td>f64</td><td>str</td><td>f64</td></tr></thead><tbody><tr><td>284806</td><td>1</td><td>2017-10-18</td><td>2017-10-20</td><td>&quot;Eric Kennedy&quot;</td><td>&quot;Male&quot;</td><td>&quot;United States&quot;</td><td>47</td><td>&quot;Online store&quot;</td><td>&quot;Contoso 512MB MP3 Player E51 Silver&quot;</td><td>&quot;Silver&quot;</td><td>&quot;Contoso&quot;</td><td>&quot;Audio&quot;</td><td>&quot;MP4&amp;MP3&quot;</td><td>7</td><td>11.691</td><td>10.288</td><td>5.958</td><td>&quot;USD&quot;</td><td>1.0</td></tr><tr><td>285506</td><td>1</td><td>2017-10-25</td><td>2017-10-26</td><td>&quot;George Tooth&quot;</td><td>&quot;Male&quot;</td><td>&quot;Australia&quot;</td><td>30</td><td>&quot;Online store&quot;</td><td>&quot;Contoso 512MB MP3 Player E51 Silver&quot;</td><td>&quot;Silver&quot;</td><td>&quot;Contoso&quot;</td><td>&quot;Audio&quot;</td><td>&quot;MP4&amp;MP3&quot;</td><td>1</td><td>11.691</td><td>11.691</td><td>5.958</td><td>&quot;AUD&quot;</td><td>1.2967</td></tr><tr><td>311002</td><td>2</td><td>2018-07-07</td><td>2018-07-12</td><td>&quot;Caleb Greene&quot;</td><td>&quot;Male&quot;</td><td>&quot;Australia&quot;</td><td>59</td><td>&quot;Online store&quot;</td><td>&quot;Contoso 512MB MP3 Player E51 Silver&quot;</td><td>&quot;Silver&quot;</td><td>&quot;Contoso&quot;</td><td>&quot;Audio&quot;</td><td>&quot;MP4&amp;MP3&quot;</td><td>6</td><td>12.99</td><td>12.99</td><td>6.62</td><td>&quot;AUD&quot;</td><td>1.3484</td></tr><tr><td>366307</td><td>2</td><td>2020-01-11</td><td>2020-01-11</td><td>&quot;Isaac Siddins&quot;</td><td>&quot;Male&quot;</td><td>&quot;Australia&quot;</td><td>25</td><td>&quot;Contoso Store Western Australia&quot;</td><td>&quot;Contoso 512MB MP3 Player E51 Blue&quot;</td><td>&quot;Blue&quot;</td><td>&quot;Contoso&quot;</td><td>&quot;Audio&quot;</td><td>&quot;MP4&amp;MP3&quot;</td><td>4</td><td>12.99</td><td>12.99</td><td>6.62</td><td>&quot;AUD&quot;</td><td>1.4545</td></tr><tr><td>325708</td><td>3</td><td>2018-12-01</td><td>2018-12-02</td><td>&quot;Mike McQueen&quot;</td><td>&quot;Male&quot;</td><td>&quot;United States&quot;</td><td>56</td><td>&quot;Online store&quot;</td><td>&quot;Contoso 512MB MP3 Player E51 Blue&quot;</td><td>&quot;Blue&quot;</td><td>&quot;Contoso&quot;</td><td>&quot;Audio&quot;</td><td>&quot;MP4&amp;MP3&quot;</td><td>2</td><td>12.99</td><td>11.5611</td><td>6.62</td><td>&quot;USD&quot;</td><td>1.0</td></tr></tbody></table></div>"
      ],
      "text/plain": [
       "shape: (5, 20)\n",
       "┌────────┬────────┬─────────────┬─────────────┬───┬─────────────┬───────┬─────────────┬────────────┐\n",
       "│ Order  ┆ Line   ┆ Order Date  ┆ Delivery    ┆ … ┆ Net Price   ┆ Unit  ┆ Currency    ┆ Exchange   │\n",
       "│ Number ┆ Number ┆ ---         ┆ Date        ┆   ┆ ---         ┆ Cost  ┆ Code        ┆ Rate       │\n",
       "│ ---    ┆ ---    ┆ date        ┆ ---         ┆   ┆ f64         ┆ ---   ┆ ---         ┆ ---        │\n",
       "│ i64    ┆ i64    ┆             ┆ date        ┆   ┆             ┆ f64   ┆ str         ┆ f64        │\n",
       "╞════════╪════════╪═════════════╪═════════════╪═══╪═════════════╪═══════╪═════════════╪════════════╡\n",
       "│ 284806 ┆ 1      ┆ 2017-10-18  ┆ 2017-10-20  ┆ … ┆ 10.288      ┆ 5.958 ┆ USD         ┆ 1.0        │\n",
       "│ 285506 ┆ 1      ┆ 2017-10-25  ┆ 2017-10-26  ┆ … ┆ 11.691      ┆ 5.958 ┆ AUD         ┆ 1.2967     │\n",
       "│ 311002 ┆ 2      ┆ 2018-07-07  ┆ 2018-07-12  ┆ … ┆ 12.99       ┆ 6.62  ┆ AUD         ┆ 1.3484     │\n",
       "│ 366307 ┆ 2      ┆ 2020-01-11  ┆ 2020-01-11  ┆ … ┆ 12.99       ┆ 6.62  ┆ AUD         ┆ 1.4545     │\n",
       "│ 325708 ┆ 3      ┆ 2018-12-01  ┆ 2018-12-02  ┆ … ┆ 11.5611     ┆ 6.62  ┆ USD         ┆ 1.0        │\n",
       "└────────┴────────┴─────────────┴─────────────┴───┴─────────────┴───────┴─────────────┴────────────┘"
      ]
     },
     "execution_count": 82,
     "metadata": {},
     "output_type": "execute_result"
    }
   ],
   "source": [
    "import polars as pl\n",
    "df = pl.read_csv('../data/contoso_sales.csv', try_parse_dates=True)\n",
    "df.head()"
   ]
  },
  {
   "cell_type": "markdown",
   "metadata": {},
   "source": [
    "### How to do it..."
   ]
  },
  {
   "cell_type": "code",
   "execution_count": 85,
   "metadata": {},
   "outputs": [
    {
     "data": {
      "text/html": [
       "<div><style>\n",
       ".dataframe > thead > tr,\n",
       ".dataframe > tbody > tr {\n",
       "  text-align: right;\n",
       "  white-space: pre-wrap;\n",
       "}\n",
       "</style>\n",
       "<small>shape: (5, 3)</small><table border=\"1\" class=\"dataframe\"><thead><tr><th>Customer Name</th><th>Brand</th><th>Category</th></tr><tr><td>str</td><td>str</td><td>str</td></tr></thead><tbody><tr><td>&quot;Eric Kennedy&quot;</td><td>&quot;Contoso&quot;</td><td>&quot;Audio&quot;</td></tr><tr><td>&quot;George Tooth&quot;</td><td>&quot;Contoso&quot;</td><td>&quot;Audio&quot;</td></tr><tr><td>&quot;Caleb Greene&quot;</td><td>&quot;Contoso&quot;</td><td>&quot;Audio&quot;</td></tr><tr><td>&quot;Isaac Siddins&quot;</td><td>&quot;Contoso&quot;</td><td>&quot;Audio&quot;</td></tr><tr><td>&quot;Mike McQueen&quot;</td><td>&quot;Contoso&quot;</td><td>&quot;Audio&quot;</td></tr></tbody></table></div>"
      ],
      "text/plain": [
       "shape: (5, 3)\n",
       "┌───────────────┬─────────┬──────────┐\n",
       "│ Customer Name ┆ Brand   ┆ Category │\n",
       "│ ---           ┆ ---     ┆ ---      │\n",
       "│ str           ┆ str     ┆ str      │\n",
       "╞═══════════════╪═════════╪══════════╡\n",
       "│ Eric Kennedy  ┆ Contoso ┆ Audio    │\n",
       "│ George Tooth  ┆ Contoso ┆ Audio    │\n",
       "│ Caleb Greene  ┆ Contoso ┆ Audio    │\n",
       "│ Isaac Siddins ┆ Contoso ┆ Audio    │\n",
       "│ Mike McQueen  ┆ Contoso ┆ Audio    │\n",
       "└───────────────┴─────────┴──────────┘"
      ]
     },
     "execution_count": 85,
     "metadata": {},
     "output_type": "execute_result"
    }
   ],
   "source": [
    "# This code snippet demonstrates how to use the Polars SQLContext to execute a SQL query on a registered DataFrame.\n",
    "#\n",
    "# Steps:\n",
    "# 1. Create an instance of `pl.SQLContext` with eager execution enabled.\n",
    "# 2. Register the DataFrame `df` with the context under the name 'df'.\n",
    "# 3. Execute a SQL query to select the columns 'Customer Name', 'Brand', and 'Category' from the registered DataFrame and limit the result to 5 rows.\n",
    "#\n",
    "# Returns:\n",
    "# - A DataFrame containing the first 5 rows with the specified columns from the original DataFrame.\n",
    "\n",
    "ctx = pl.SQLContext(eager=True)\n",
    "ctx.register('df', df)\n",
    "ctx.execute(\n",
    "    \"\"\"\n",
    "      select\n",
    "        `Customer Name`,\n",
    "        Brand,\n",
    "        Category\n",
    "      from df limit 5\n",
    "    \"\"\"\n",
    ")\n"
   ]
  },
  {
   "cell_type": "code",
   "execution_count": 86,
   "metadata": {},
   "outputs": [
    {
     "data": {
      "text/html": [
       "<div><style>\n",
       ".dataframe > thead > tr,\n",
       ".dataframe > tbody > tr {\n",
       "  text-align: right;\n",
       "  white-space: pre-wrap;\n",
       "}\n",
       "</style>\n",
       "<small>shape: (5, 2)</small><table border=\"1\" class=\"dataframe\"><thead><tr><th>Brand</th><th>Avg Quantity</th></tr><tr><td>str</td><td>f64</td></tr></thead><tbody><tr><td>&quot;Fabrikam&quot;</td><td>3.225532</td></tr><tr><td>&quot;Northwind Traders&quot;</td><td>3.222222</td></tr><tr><td>&quot;Wide World Importers&quot;</td><td>3.193811</td></tr><tr><td>&quot;Fabrikam  &quot;</td><td>3.192308</td></tr><tr><td>&quot;Southridge Video&quot;</td><td>3.189509</td></tr></tbody></table></div>"
      ],
      "text/plain": [
       "shape: (5, 2)\n",
       "┌──────────────────────┬──────────────┐\n",
       "│ Brand                ┆ Avg Quantity │\n",
       "│ ---                  ┆ ---          │\n",
       "│ str                  ┆ f64          │\n",
       "╞══════════════════════╪══════════════╡\n",
       "│ Fabrikam             ┆ 3.225532     │\n",
       "│ Northwind Traders    ┆ 3.222222     │\n",
       "│ Wide World Importers ┆ 3.193811     │\n",
       "│ Fabrikam             ┆ 3.192308     │\n",
       "│ Southridge Video     ┆ 3.189509     │\n",
       "└──────────────────────┴──────────────┘"
      ]
     },
     "execution_count": 86,
     "metadata": {},
     "output_type": "execute_result"
    }
   ],
   "source": [
    "ctx.execute(\n",
    "    \"\"\"\n",
    "      select\n",
    "        Brand,\n",
    "        avg(Quantity) as `Avg Quantity` \n",
    "      from df\n",
    "      group by \n",
    "        Brand\n",
    "      order by \n",
    "        `Avg Quantity` desc\n",
    "      limit 5\n",
    "    \"\"\"\n",
    ")"
   ]
  },
  {
   "cell_type": "code",
   "execution_count": 87,
   "metadata": {},
   "outputs": [
    {
     "data": {
      "text/html": [
       "<div><style>\n",
       ".dataframe > thead > tr,\n",
       ".dataframe > tbody > tr {\n",
       "  text-align: right;\n",
       "  white-space: pre-wrap;\n",
       "}\n",
       "</style>\n",
       "<small>shape: (5, 2)</small><table border=\"1\" class=\"dataframe\"><thead><tr><th>Brand</th><th>Category</th></tr><tr><td>str</td><td>str</td></tr></thead><tbody><tr><td>&quot;Contoso&quot;</td><td>&quot;Audio&quot;</td></tr><tr><td>&quot;Contoso&quot;</td><td>&quot;Audio&quot;</td></tr><tr><td>&quot;Contoso&quot;</td><td>&quot;Audio&quot;</td></tr><tr><td>&quot;Contoso&quot;</td><td>&quot;Audio&quot;</td></tr><tr><td>&quot;Contoso&quot;</td><td>&quot;Audio&quot;</td></tr></tbody></table></div>"
      ],
      "text/plain": [
       "shape: (5, 2)\n",
       "┌─────────┬──────────┐\n",
       "│ Brand   ┆ Category │\n",
       "│ ---     ┆ ---      │\n",
       "│ str     ┆ str      │\n",
       "╞═════════╪══════════╡\n",
       "│ Contoso ┆ Audio    │\n",
       "│ Contoso ┆ Audio    │\n",
       "│ Contoso ┆ Audio    │\n",
       "│ Contoso ┆ Audio    │\n",
       "│ Contoso ┆ Audio    │\n",
       "└─────────┴──────────┘"
      ]
     },
     "execution_count": 87,
     "metadata": {},
     "output_type": "execute_result"
    }
   ],
   "source": [
    "pl.SQLContext(lf=df.lazy()).execute(\n",
    "    \"\"\"\n",
    "        select \n",
    "            Brand,\n",
    "            Category\n",
    "        from lf\n",
    "        limit 5\n",
    "    \"\"\"\n",
    ").collect()"
   ]
  }
 ],
 "metadata": {
  "kernelspec": {
   "display_name": "Python 3",
   "language": "python",
   "name": "python3"
  },
  "language_info": {
   "codemirror_mode": {
    "name": "ipython",
    "version": 3
   },
   "file_extension": ".py",
   "mimetype": "text/x-python",
   "name": "python",
   "nbconvert_exporter": "python",
   "pygments_lexer": "ipython3",
   "version": "3.12.1"
  }
 },
 "nbformat": 4,
 "nbformat_minor": 2
}
